{
 "cells": [
  {
   "cell_type": "markdown",
   "metadata": {},
   "source": [
    "### Check rules in session\n",
    "Want to see the prevalence of rules in each session. Group by feature dimension"
   ]
  },
  {
   "cell_type": "code",
   "execution_count": 1,
   "metadata": {},
   "outputs": [],
   "source": [
    "import utils.behavioral_utils as behavioral_utils\n",
    "import os\n",
    "import numpy as np\n",
    "import pandas as pd"
   ]
  },
  {
   "cell_type": "code",
   "execution_count": 2,
   "metadata": {},
   "outputs": [],
   "source": [
    "SESSIONS_PATH = \"/data/patrick_scratch/multi_sess/valid_sessions.pickle\"\n",
    "\n",
    "rule_to_dim = {\n",
    "    'CIRCLE': 'Shape', \n",
    "    'SQUARE': 'Shape', \n",
    "    'STAR': 'Shape', \n",
    "    'TRIANGLE': 'Shape', \n",
    "    'CYAN': 'Color', \n",
    "    'GREEN': 'Color', \n",
    "    'MAGENTA': 'Color', \n",
    "    'YELLOW': 'Color', \n",
    "    'ESCHER': 'Pattern', \n",
    "    'POLKADOT': 'Pattern', \n",
    "    'RIPPLE': 'Pattern', \n",
    "    'SWIRL': 'Pattern'\n",
    "}\n",
    "\n",
    "MIN_NUM_BLOCKS_PER_RULE = 2"
   ]
  },
  {
   "cell_type": "markdown",
   "metadata": {},
   "source": [
    "### Want to find all sessions for which feaures of a specific dimensions shows up at least 3 times as the rule. "
   ]
  },
  {
   "cell_type": "code",
   "execution_count": 12,
   "metadata": {},
   "outputs": [],
   "source": [
    "def check_rules(sess_name):\n",
    "    behavior_path = f\"/data/rawdata/sub-SA/sess-{sess_name}/behavior/sub-SA_sess-{sess_name}_object_features.csv\"\n",
    "    beh = pd.read_csv(behavior_path)\n",
    "    valid_beh = behavioral_utils.get_valid_trials(beh)\n",
    "    valid_beh[\"RuleDim\"] = valid_beh.apply(lambda x: rule_to_dim[x.CurrentRule], axis=1)\n",
    "    # valid_beh = valid_beh.groupby(\"BlockNumber\").filter(lambda x: len(x[x.Response == \"Correct\"]) >= 10)\n",
    "\n",
    "    def check_n_blocks_per_feature(group):\n",
    "        if len(group.CurrentRule.unique()) < 2: \n",
    "            return False\n",
    "        return np.all(group.groupby(\"CurrentRule\").apply(lambda x: len(x.BlockNumber.unique()) >= MIN_NUM_BLOCKS_PER_RULE))\n",
    "\n",
    "    transposed = valid_beh.groupby([\"RuleDim\"]).apply(check_n_blocks_per_feature).transpose()\n",
    "    transposed[\"session_name\"] = sess_name\n",
    "    return transposed"
   ]
  },
  {
   "cell_type": "code",
   "execution_count": 13,
   "metadata": {},
   "outputs": [],
   "source": [
    "valid_sess = pd.read_pickle(\"/data/patrick_res/multi_sess/valid_sessions_rpe.pickle\")\n",
    "df = valid_sess.apply(lambda x: check_rules(x.session_name), axis=1)\n",
    "merged = pd.merge(valid_sess, df, on=\"session_name\")\n"
   ]
  },
  {
   "cell_type": "code",
   "execution_count": 18,
   "metadata": {},
   "outputs": [
    {
     "data": {
      "text/plain": [
       "10"
      ]
     },
     "execution_count": 18,
     "metadata": {},
     "output_type": "execute_result"
    }
   ],
   "source": [
    "len(merged[merged.Pattern])"
   ]
  },
  {
   "cell_type": "code",
   "execution_count": 5,
   "metadata": {},
   "outputs": [],
   "source": [
    "merged.to_pickle(\"/data/patrick_scratch/multi_sess/valid_sessions_enough_rules_2.pickle\")"
   ]
  },
  {
   "cell_type": "code",
   "execution_count": 6,
   "metadata": {},
   "outputs": [
    {
     "data": {
      "text/html": [
       "<div>\n",
       "<style scoped>\n",
       "    .dataframe tbody tr th:only-of-type {\n",
       "        vertical-align: middle;\n",
       "    }\n",
       "\n",
       "    .dataframe tbody tr th {\n",
       "        vertical-align: top;\n",
       "    }\n",
       "\n",
       "    .dataframe thead th {\n",
       "        text-align: right;\n",
       "    }\n",
       "</style>\n",
       "<table border=\"1\" class=\"dataframe\">\n",
       "  <thead>\n",
       "    <tr style=\"text-align: right;\">\n",
       "      <th></th>\n",
       "      <th>session_datetime</th>\n",
       "      <th>session_count</th>\n",
       "      <th>session_name</th>\n",
       "      <th>valid</th>\n",
       "      <th>Color</th>\n",
       "      <th>Pattern</th>\n",
       "      <th>Shape</th>\n",
       "    </tr>\n",
       "  </thead>\n",
       "  <tbody>\n",
       "    <tr>\n",
       "      <th>3</th>\n",
       "      <td>2018-10-08</td>\n",
       "      <td>0</td>\n",
       "      <td>20181008</td>\n",
       "      <td>True</td>\n",
       "      <td>False</td>\n",
       "      <td>True</td>\n",
       "      <td>False</td>\n",
       "    </tr>\n",
       "    <tr>\n",
       "      <th>12</th>\n",
       "      <td>2018-10-01</td>\n",
       "      <td>0</td>\n",
       "      <td>20181001</td>\n",
       "      <td>True</td>\n",
       "      <td>False</td>\n",
       "      <td>True</td>\n",
       "      <td>False</td>\n",
       "    </tr>\n",
       "    <tr>\n",
       "      <th>15</th>\n",
       "      <td>2018-08-08</td>\n",
       "      <td>0</td>\n",
       "      <td>20180808</td>\n",
       "      <td>True</td>\n",
       "      <td>False</td>\n",
       "      <td>True</td>\n",
       "      <td>True</td>\n",
       "    </tr>\n",
       "    <tr>\n",
       "      <th>18</th>\n",
       "      <td>2018-09-24</td>\n",
       "      <td>0</td>\n",
       "      <td>20180924</td>\n",
       "      <td>True</td>\n",
       "      <td>False</td>\n",
       "      <td>True</td>\n",
       "      <td>False</td>\n",
       "    </tr>\n",
       "    <tr>\n",
       "      <th>19</th>\n",
       "      <td>2018-08-13</td>\n",
       "      <td>0</td>\n",
       "      <td>20180813</td>\n",
       "      <td>True</td>\n",
       "      <td>False</td>\n",
       "      <td>True</td>\n",
       "      <td>False</td>\n",
       "    </tr>\n",
       "    <tr>\n",
       "      <th>27</th>\n",
       "      <td>2018-08-28</td>\n",
       "      <td>0</td>\n",
       "      <td>20180828</td>\n",
       "      <td>True</td>\n",
       "      <td>False</td>\n",
       "      <td>True</td>\n",
       "      <td>False</td>\n",
       "    </tr>\n",
       "    <tr>\n",
       "      <th>30</th>\n",
       "      <td>2018-08-03</td>\n",
       "      <td>0</td>\n",
       "      <td>20180803</td>\n",
       "      <td>True</td>\n",
       "      <td>False</td>\n",
       "      <td>True</td>\n",
       "      <td>True</td>\n",
       "    </tr>\n",
       "    <tr>\n",
       "      <th>34</th>\n",
       "      <td>2018-08-17</td>\n",
       "      <td>0</td>\n",
       "      <td>20180817</td>\n",
       "      <td>True</td>\n",
       "      <td>True</td>\n",
       "      <td>True</td>\n",
       "      <td>False</td>\n",
       "    </tr>\n",
       "    <tr>\n",
       "      <th>35</th>\n",
       "      <td>2018-09-10</td>\n",
       "      <td>0</td>\n",
       "      <td>20180910</td>\n",
       "      <td>True</td>\n",
       "      <td>False</td>\n",
       "      <td>True</td>\n",
       "      <td>False</td>\n",
       "    </tr>\n",
       "  </tbody>\n",
       "</table>\n",
       "</div>"
      ],
      "text/plain": [
       "   session_datetime  session_count session_name  valid  Color  Pattern  Shape\n",
       "3        2018-10-08              0     20181008   True  False     True  False\n",
       "12       2018-10-01              0     20181001   True  False     True  False\n",
       "15       2018-08-08              0     20180808   True  False     True   True\n",
       "18       2018-09-24              0     20180924   True  False     True  False\n",
       "19       2018-08-13              0     20180813   True  False     True  False\n",
       "27       2018-08-28              0     20180828   True  False     True  False\n",
       "30       2018-08-03              0     20180803   True  False     True   True\n",
       "34       2018-08-17              0     20180817   True   True     True  False\n",
       "35       2018-09-10              0     20180910   True  False     True  False"
      ]
     },
     "execution_count": 6,
     "metadata": {},
     "output_type": "execute_result"
    }
   ],
   "source": [
    "merged[merged.Pattern]"
   ]
  },
  {
   "cell_type": "markdown",
   "metadata": {},
   "source": [
    "### Per rule, how many sessions have this rule occuring more than N times?"
   ]
  },
  {
   "cell_type": "code",
   "execution_count": 7,
   "metadata": {},
   "outputs": [],
   "source": [
    "N_BLOCKS_OF_RULE = 4\n",
    "possible_rules = list(rule_to_dim.keys())"
   ]
  },
  {
   "cell_type": "code",
   "execution_count": 8,
   "metadata": {},
   "outputs": [
    {
     "name": "stdout",
     "output_type": "stream",
     "text": [
      "CIRCLE: 9\n",
      "SQUARE: 8\n",
      "STAR: 3\n",
      "TRIANGLE: 6\n",
      "CYAN: 11\n",
      "GREEN: 9\n",
      "MAGENTA: 5\n",
      "YELLOW: 12\n",
      "ESCHER: 7\n",
      "POLKADOT: 8\n",
      "RIPPLE: 7\n",
      "SWIRL: 8\n"
     ]
    }
   ],
   "source": [
    "def check_num_blocks_for_rule(sess_name, rule):\n",
    "    behavior_path = f\"/data/rawdata/sub-SA/sess-{sess_name}/behavior/sub-SA_sess-{sess_name}_object_features.csv\"\n",
    "    beh = pd.read_csv(behavior_path)\n",
    "    valid_beh = behavioral_utils.get_valid_trials(beh)\n",
    "    valid_beh = valid_beh[valid_beh.CurrentRule == rule]\n",
    "    return len(valid_beh.BlockNumber.unique()) >= N_BLOCKS_OF_RULE\n",
    "valid_sess = pd.read_pickle(\"/data/patrick_scratch/multi_sess/valid_sessions.pickle\")\n",
    "for rule in possible_rules:\n",
    "    df = valid_sess.apply(lambda x: check_num_blocks_for_rule(x.session_name, rule), axis=1)\n",
    "    print(f\"{rule}: {len(df[df])}\")\n",
    "    valid_sess[rule] = df"
   ]
  },
  {
   "cell_type": "code",
   "execution_count": 9,
   "metadata": {},
   "outputs": [],
   "source": [
    "valid_sess.to_pickle(f\"/data/patrick_scratch/multi_sess/valid_sessions_more_than_{N_BLOCKS_OF_RULE}_of_rule.pickle\")"
   ]
  },
  {
   "cell_type": "markdown",
   "metadata": {},
   "source": [
    "### In how many sessions does every rule show up at least once?"
   ]
  },
  {
   "cell_type": "code",
   "execution_count": 13,
   "metadata": {},
   "outputs": [],
   "source": [
    "def check_all_rules(sess_name):\n",
    "    behavior_path = f\"/data/rawdata/sub-SA/sess-{sess_name}/behavior/sub-SA_sess-{sess_name}_object_features.csv\"\n",
    "    beh = pd.read_csv(behavior_path)\n",
    "    valid_beh = behavioral_utils.get_valid_trials(beh)\n",
    "    return len(valid_beh.CurrentRule.unique()) == 12\n",
    "\n",
    "def check_all_rules_occur_at_least_twice(sess_name):\n",
    "    behavior_path = f\"/data/rawdata/sub-SA/sess-{sess_name}/behavior/sub-SA_sess-{sess_name}_object_features.csv\"\n",
    "    beh = pd.read_csv(behavior_path)\n",
    "    valid_beh = behavioral_utils.get_valid_trials(beh)\n",
    "    has_all_rules =  len(valid_beh.CurrentRule.unique()) == 12\n",
    "    at_least_twice = np.all(valid_beh.groupby(\"CurrentRule\").apply(lambda x: len(x.BlockNumber.unique()) >= 2))\n",
    "    return has_all_rules and at_least_twice\n",
    "\n",
    "valid_sess = pd.read_pickle(\"/data/patrick_scratch/multi_sess/valid_sessions.pickle\")\n",
    "valid_sess[\"has_all_rules\"] = valid_sess.apply(lambda x: check_all_rules(x.session_name), axis=1)\n",
    "valid_sess[\"rule_occur_at_least_twice\"] = valid_sess.apply(lambda x: check_all_rules_occur_at_least_twice(x.session_name), axis=1)\n"
   ]
  },
  {
   "cell_type": "code",
   "execution_count": 14,
   "metadata": {},
   "outputs": [
    {
     "data": {
      "text/plain": [
       "0"
      ]
     },
     "execution_count": 14,
     "metadata": {},
     "output_type": "execute_result"
    }
   ],
   "source": []
  },
  {
   "cell_type": "code",
   "execution_count": null,
   "metadata": {},
   "outputs": [],
   "source": []
  }
 ],
 "metadata": {
  "kernelspec": {
   "display_name": "Python 3",
   "language": "python",
   "name": "python3"
  },
  "language_info": {
   "codemirror_mode": {
    "name": "ipython",
    "version": 3
   },
   "file_extension": ".py",
   "mimetype": "text/x-python",
   "name": "python",
   "nbconvert_exporter": "python",
   "pygments_lexer": "ipython3",
   "version": "3.10.6"
  },
  "orig_nbformat": 4
 },
 "nbformat": 4,
 "nbformat_minor": 2
}
