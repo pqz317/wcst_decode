{
 "cells": [
  {
   "cell_type": "markdown",
   "metadata": {},
   "source": [
    "# Look at all the sessions for Blanche\n",
    "- How many trials per session?\n",
    "- How many blocks?"
   ]
  },
  {
   "cell_type": "code",
   "execution_count": 54,
   "metadata": {},
   "outputs": [
    {
     "name": "stdout",
     "output_type": "stream",
     "text": [
      "The autoreload extension is already loaded. To reload it, use:\n",
      "  %reload_ext autoreload\n"
     ]
    }
   ],
   "source": [
    "%load_ext autoreload\n",
    "%autoreload 2\n",
    "\n",
    "import os\n",
    "import numpy as np\n",
    "import pandas as pd\n",
    "import utils.behavioral_utils as behavioral_utils\n",
    "import utils.information_utils as information_utils\n",
    "import utils.visualization_utils as visualization_utils\n",
    "import utils.glm_utils as glm_utils\n",
    "from matplotlib import pyplot as plt\n",
    "import utils.spike_utils as spike_utils\n",
    "from constants.glm_constants import *\n",
    "from constants.behavioral_constants import *\n",
    "\n",
    "import seaborn as sns"
   ]
  },
  {
   "cell_type": "code",
   "execution_count": 55,
   "metadata": {},
   "outputs": [],
   "source": [
    "def valid_trials_blanche(beh):\n",
    "    last_block = beh.BlockNumber.max()\n",
    "    valid_beh = beh[\n",
    "        (beh.Response.isin([\"Correct\", \"Incorrect\"])) & \n",
    "        (beh.BlockNumber >= 1) &\n",
    "        (beh.BlockNumber != last_block)\n",
    "    ]\n",
    "    return valid_beh\n",
    "\n",
    "def load_subject_data(row, beh_path):\n",
    "    session = row.session_name\n",
    "    behavior_path = beh_path.format(sess_name=session)\n",
    "    beh = pd.read_csv(behavior_path)\n",
    "    beh = valid_trials_blanche(beh)\n",
    "    feature_selections = behavioral_utils.get_selection_features(beh)\n",
    "    beh = pd.merge(beh, feature_selections, on=\"TrialNumber\", how=\"inner\")\n",
    "    beh[\"session\"] = session\n",
    "    return beh"
   ]
  },
  {
   "cell_type": "code",
   "execution_count": 56,
   "metadata": {},
   "outputs": [],
   "source": [
    "# Monkey B\n",
    "# sessions = pd.DataFrame({\"session_name\": [20190123, 20190124, 20190125, 20190128, 20190312, 20190313, 20190329]})\n",
    "sessions = pd.read_pickle(\"/data/patrick_res/sessions/BL/valid_sessions_61.pickle\")\n",
    "beh_path = \"/data/rawdata/sub-BL/sess-{sess_name}/behavior/sub-BL_sess-{sess_name}_object_features.csv\"\n",
    "blanche_res = pd.concat(sessions.apply(lambda x: load_subject_data(x, beh_path), axis=1).values)"
   ]
  },
  {
   "cell_type": "code",
   "execution_count": 10,
   "metadata": {},
   "outputs": [],
   "source": [
    "# sessions.to_pickle(\"/data/patrick_res/sessions/all_sessions_blanche.pickle\")"
   ]
  },
  {
   "cell_type": "markdown",
   "metadata": {},
   "source": [
    "### Num trials per session"
   ]
  },
  {
   "cell_type": "code",
   "execution_count": 5,
   "metadata": {},
   "outputs": [
    {
     "data": {
      "text/plain": [
       "session\n",
       "20190123     143\n",
       "20190124     394\n",
       "20190125     486\n",
       "20190128     558\n",
       "20190129     466\n",
       "20190130     529\n",
       "20190131      46\n",
       "20190201     567\n",
       "20190206     587\n",
       "20190207     613\n",
       "20190214     429\n",
       "20190215     681\n",
       "20190220     766\n",
       "20190221     846\n",
       "20190226     957\n",
       "20190227     543\n",
       "20190228     924\n",
       "20190312     240\n",
       "20190313     142\n",
       "20190314     390\n",
       "20190318     270\n",
       "20190319     414\n",
       "20190320     333\n",
       "20190321     358\n",
       "20190325     329\n",
       "20190326     330\n",
       "20190328     289\n",
       "20190329     277\n",
       "20190522     528\n",
       "20190524    1009\n",
       "20190529     984\n",
       "20190530     999\n",
       "20190531    1174\n",
       "20190603     819\n",
       "20190605     976\n",
       "20190606    1024\n",
       "20190607     986\n",
       "20190611     696\n",
       "Name: TrialNumber, dtype: int64"
      ]
     },
     "execution_count": 5,
     "metadata": {},
     "output_type": "execute_result"
    }
   ],
   "source": [
    "blanche_res.groupby(\"session\").TrialNumber.nunique()"
   ]
  },
  {
   "cell_type": "markdown",
   "metadata": {},
   "source": [
    "### Num blocks per session"
   ]
  },
  {
   "cell_type": "code",
   "execution_count": 58,
   "metadata": {},
   "outputs": [
    {
     "data": {
      "text/plain": [
       "session\n",
       "20190123     3\n",
       "20190124     8\n",
       "20190125    12\n",
       "20190128    13\n",
       "20190129    10\n",
       "            ..\n",
       "20190821    24\n",
       "20190823    28\n",
       "20190917    15\n",
       "20191010     5\n",
       "20191031     1\n",
       "Name: BlockNumber, Length: 61, dtype: int64"
      ]
     },
     "execution_count": 58,
     "metadata": {},
     "output_type": "execute_result"
    }
   ],
   "source": [
    "blanche_res.groupby(\"session\").BlockNumber.nunique()"
   ]
  },
  {
   "cell_type": "code",
   "execution_count": 7,
   "metadata": {},
   "outputs": [
    {
     "data": {
      "text/plain": [
       "session   CurrentRule\n",
       "20190123  CYAN           1\n",
       "          MAGENTA        1\n",
       "          YELLOW         1\n",
       "20190124  CYAN           1\n",
       "          ESCHER         1\n",
       "                        ..\n",
       "20190611  POLKADOT       2\n",
       "          RIPPLE         3\n",
       "          SQUARE         2\n",
       "          STAR           2\n",
       "          TRIANGLE       2\n",
       "Name: BlockNumber, Length: 290, dtype: int64"
      ]
     },
     "execution_count": 7,
     "metadata": {},
     "output_type": "execute_result"
    }
   ],
   "source": [
    "blanche_res.groupby([\"session\", \"CurrentRule\"]).BlockNumber.nunique()"
   ]
  },
  {
   "cell_type": "markdown",
   "metadata": {},
   "source": [
    "### Is the first block always the same?"
   ]
  },
  {
   "cell_type": "code",
   "execution_count": 14,
   "metadata": {},
   "outputs": [],
   "source": [
    "def first_block_rule(beh):\n",
    "    row = {}\n",
    "    for i in range(4): \n",
    "        block = beh[beh.BlockNumber == i]\n",
    "        block_rule = block.CurrentRule.iloc[0]\n",
    "        block_length = len(block)\n",
    "        row[f\"block {i} rule\"] = block_rule\n",
    "        row[f\"block {i} length\"] = block_length\n",
    "    return pd.Series(row)\n",
    "\n",
    "blanche_res.groupby(\"session\", group_keys=True).apply(first_block_rule).to_csv(\"/data/patrick_res/behavior/blanche_first_few_blocks.csv\")"
   ]
  },
  {
   "cell_type": "markdown",
   "metadata": {},
   "source": [
    "### Look at pairs of rules, how many do we have? "
   ]
  },
  {
   "cell_type": "code",
   "execution_count": 59,
   "metadata": {},
   "outputs": [],
   "source": [
    "pairs = behavioral_utils.get_good_pairs_across_sessions(blanche_res, 3).sort_values(by=\"num_sessions\", ascending=False)\n"
   ]
  },
  {
   "cell_type": "code",
   "execution_count": 60,
   "metadata": {},
   "outputs": [],
   "source": [
    "session_priorities_tier1 = pairs[pairs.num_sessions >= 5].sessions.explode().value_counts().reset_index()\n",
    "session_priorities_tier1 = session_priorities_tier1.rename(columns={\"index\": \"session\", \"sessions\": \"priority\"})\n",
    "session_priorities_tier1.to_csv(\"/data/patrick_res/tmp/sess_priorities_tier1.csv\")"
   ]
  },
  {
   "cell_type": "code",
   "execution_count": 61,
   "metadata": {},
   "outputs": [
    {
     "data": {
      "text/html": [
       "<div>\n",
       "<style scoped>\n",
       "    .dataframe tbody tr th:only-of-type {\n",
       "        vertical-align: middle;\n",
       "    }\n",
       "\n",
       "    .dataframe tbody tr th {\n",
       "        vertical-align: top;\n",
       "    }\n",
       "\n",
       "    .dataframe thead th {\n",
       "        text-align: right;\n",
       "    }\n",
       "</style>\n",
       "<table border=\"1\" class=\"dataframe\">\n",
       "  <thead>\n",
       "    <tr style=\"text-align: right;\">\n",
       "      <th></th>\n",
       "      <th>session</th>\n",
       "      <th>priority</th>\n",
       "    </tr>\n",
       "  </thead>\n",
       "  <tbody>\n",
       "    <tr>\n",
       "      <th>0</th>\n",
       "      <td>20190529</td>\n",
       "      <td>3</td>\n",
       "    </tr>\n",
       "    <tr>\n",
       "      <th>1</th>\n",
       "      <td>20190617</td>\n",
       "      <td>2</td>\n",
       "    </tr>\n",
       "    <tr>\n",
       "      <th>2</th>\n",
       "      <td>20190627</td>\n",
       "      <td>2</td>\n",
       "    </tr>\n",
       "    <tr>\n",
       "      <th>3</th>\n",
       "      <td>20190823</td>\n",
       "      <td>2</td>\n",
       "    </tr>\n",
       "    <tr>\n",
       "      <th>4</th>\n",
       "      <td>20190207</td>\n",
       "      <td>1</td>\n",
       "    </tr>\n",
       "    <tr>\n",
       "      <th>5</th>\n",
       "      <td>20190220</td>\n",
       "      <td>1</td>\n",
       "    </tr>\n",
       "    <tr>\n",
       "      <th>6</th>\n",
       "      <td>20190531</td>\n",
       "      <td>1</td>\n",
       "    </tr>\n",
       "    <tr>\n",
       "      <th>7</th>\n",
       "      <td>20190611</td>\n",
       "      <td>1</td>\n",
       "    </tr>\n",
       "    <tr>\n",
       "      <th>8</th>\n",
       "      <td>20190710</td>\n",
       "      <td>1</td>\n",
       "    </tr>\n",
       "    <tr>\n",
       "      <th>9</th>\n",
       "      <td>20190816</td>\n",
       "      <td>1</td>\n",
       "    </tr>\n",
       "    <tr>\n",
       "      <th>10</th>\n",
       "      <td>20190625</td>\n",
       "      <td>1</td>\n",
       "    </tr>\n",
       "    <tr>\n",
       "      <th>11</th>\n",
       "      <td>20190814</td>\n",
       "      <td>1</td>\n",
       "    </tr>\n",
       "  </tbody>\n",
       "</table>\n",
       "</div>"
      ],
      "text/plain": [
       "     session  priority\n",
       "0   20190529         3\n",
       "1   20190617         2\n",
       "2   20190627         2\n",
       "3   20190823         2\n",
       "4   20190207         1\n",
       "5   20190220         1\n",
       "6   20190531         1\n",
       "7   20190611         1\n",
       "8   20190710         1\n",
       "9   20190816         1\n",
       "10  20190625         1\n",
       "11  20190814         1"
      ]
     },
     "execution_count": 61,
     "metadata": {},
     "output_type": "execute_result"
    }
   ],
   "source": [
    "session_priorities_tier1"
   ]
  },
  {
   "cell_type": "code",
   "execution_count": 62,
   "metadata": {},
   "outputs": [],
   "source": [
    "session_priorities_tier2 = pairs[pairs.num_sessions >= 4].sessions.explode().value_counts().reset_index()\n",
    "session_priorities_tier2 = session_priorities_tier2.rename(columns={\"index\": \"session\", \"sessions\": \"priority\"})\n",
    "session_priorities_tier2 = session_priorities_tier2[~session_priorities_tier2.session.isin(session_priorities_tier1.session)]\n",
    "session_priorities_tier2.to_csv(\"/data/patrick_res/tmp/sess_priorities_tier2.csv\")"
   ]
  },
  {
   "cell_type": "code",
   "execution_count": 63,
   "metadata": {},
   "outputs": [
    {
     "data": {
      "text/html": [
       "<div>\n",
       "<style scoped>\n",
       "    .dataframe tbody tr th:only-of-type {\n",
       "        vertical-align: middle;\n",
       "    }\n",
       "\n",
       "    .dataframe tbody tr th {\n",
       "        vertical-align: top;\n",
       "    }\n",
       "\n",
       "    .dataframe thead th {\n",
       "        text-align: right;\n",
       "    }\n",
       "</style>\n",
       "<table border=\"1\" class=\"dataframe\">\n",
       "  <thead>\n",
       "    <tr style=\"text-align: right;\">\n",
       "      <th></th>\n",
       "      <th>session</th>\n",
       "      <th>priority</th>\n",
       "    </tr>\n",
       "  </thead>\n",
       "  <tbody>\n",
       "    <tr>\n",
       "      <th>3</th>\n",
       "      <td>20190605</td>\n",
       "      <td>3</td>\n",
       "    </tr>\n",
       "    <tr>\n",
       "      <th>9</th>\n",
       "      <td>20190226</td>\n",
       "      <td>2</td>\n",
       "    </tr>\n",
       "    <tr>\n",
       "      <th>10</th>\n",
       "      <td>20190524</td>\n",
       "      <td>2</td>\n",
       "    </tr>\n",
       "    <tr>\n",
       "      <th>11</th>\n",
       "      <td>20190201</td>\n",
       "      <td>1</td>\n",
       "    </tr>\n",
       "    <tr>\n",
       "      <th>12</th>\n",
       "      <td>20190227</td>\n",
       "      <td>1</td>\n",
       "    </tr>\n",
       "    <tr>\n",
       "      <th>13</th>\n",
       "      <td>20190815</td>\n",
       "      <td>1</td>\n",
       "    </tr>\n",
       "    <tr>\n",
       "      <th>14</th>\n",
       "      <td>20190708</td>\n",
       "      <td>1</td>\n",
       "    </tr>\n",
       "    <tr>\n",
       "      <th>15</th>\n",
       "      <td>20190228</td>\n",
       "      <td>1</td>\n",
       "    </tr>\n",
       "    <tr>\n",
       "      <th>17</th>\n",
       "      <td>20190703</td>\n",
       "      <td>1</td>\n",
       "    </tr>\n",
       "    <tr>\n",
       "      <th>21</th>\n",
       "      <td>20190215</td>\n",
       "      <td>1</td>\n",
       "    </tr>\n",
       "  </tbody>\n",
       "</table>\n",
       "</div>"
      ],
      "text/plain": [
       "     session  priority\n",
       "3   20190605         3\n",
       "9   20190226         2\n",
       "10  20190524         2\n",
       "11  20190201         1\n",
       "12  20190227         1\n",
       "13  20190815         1\n",
       "14  20190708         1\n",
       "15  20190228         1\n",
       "17  20190703         1\n",
       "21  20190215         1"
      ]
     },
     "execution_count": 63,
     "metadata": {},
     "output_type": "execute_result"
    }
   ],
   "source": [
    "session_priorities_tier2"
   ]
  },
  {
   "cell_type": "markdown",
   "metadata": {},
   "source": [
    "### Spot check sessions"
   ]
  },
  {
   "cell_type": "code",
   "execution_count": 30,
   "metadata": {},
   "outputs": [],
   "source": [
    "session = \"20190814\"\n",
    "behavior_path = beh_path.format(sess_name=session)\n",
    "beh = pd.read_csv(behavior_path)\n",
    "beh = valid_trials_blanche(beh)"
   ]
  },
  {
   "cell_type": "code",
   "execution_count": 32,
   "metadata": {},
   "outputs": [
    {
     "data": {
      "text/plain": [
       "CurrentRule\n",
       "CIRCLE      1\n",
       "ESCHER      3\n",
       "MAGENTA     1\n",
       "POLKADOT    1\n",
       "RIPPLE      1\n",
       "SQUARE      2\n",
       "STAR        3\n",
       "SWIRL       3\n",
       "TRIANGLE    3\n",
       "YELLOW      1\n",
       "Name: BlockNumber, dtype: int64"
      ]
     },
     "execution_count": 32,
     "metadata": {},
     "output_type": "execute_result"
    }
   ],
   "source": [
    "beh.groupby(\"CurrentRule\").BlockNumber.nunique()"
   ]
  },
  {
   "cell_type": "code",
   "execution_count": 6,
   "metadata": {},
   "outputs": [],
   "source": [
    "# good_pairs = pairs[pairs.num_sessions >= 3]\n",
    "# good_pairs.to_pickle(\"/data/patrick_res/sessions/BL/pairs_at_least_1blocks_3sess.pickle\")\n",
    "good_pairs = pairs[pairs.num_sessions >= 1]\n",
    "good_pairs.to_pickle(\"/data/patrick_res/sessions/BL/pairs_at_least_2blocks_1sess.pickle\")"
   ]
  },
  {
   "cell_type": "code",
   "execution_count": 7,
   "metadata": {},
   "outputs": [
    {
     "data": {
      "text/html": [
       "<div>\n",
       "<style scoped>\n",
       "    .dataframe tbody tr th:only-of-type {\n",
       "        vertical-align: middle;\n",
       "    }\n",
       "\n",
       "    .dataframe tbody tr th {\n",
       "        vertical-align: top;\n",
       "    }\n",
       "\n",
       "    .dataframe thead th {\n",
       "        text-align: right;\n",
       "    }\n",
       "</style>\n",
       "<table border=\"1\" class=\"dataframe\">\n",
       "  <thead>\n",
       "    <tr style=\"text-align: right;\">\n",
       "      <th></th>\n",
       "      <th>pair</th>\n",
       "      <th>sessions</th>\n",
       "      <th>num_sessions</th>\n",
       "      <th>dim_type</th>\n",
       "    </tr>\n",
       "  </thead>\n",
       "  <tbody>\n",
       "    <tr>\n",
       "      <th>38</th>\n",
       "      <td>[CYAN, GREEN]</td>\n",
       "      <td>[20190125]</td>\n",
       "      <td>1</td>\n",
       "      <td>within dim</td>\n",
       "    </tr>\n",
       "    <tr>\n",
       "      <th>11</th>\n",
       "      <td>[SQUARE, STAR]</td>\n",
       "      <td>[20190128]</td>\n",
       "      <td>1</td>\n",
       "      <td>within dim</td>\n",
       "    </tr>\n",
       "  </tbody>\n",
       "</table>\n",
       "</div>"
      ],
      "text/plain": [
       "              pair    sessions  num_sessions    dim_type\n",
       "38   [CYAN, GREEN]  [20190125]             1  within dim\n",
       "11  [SQUARE, STAR]  [20190128]             1  within dim"
      ]
     },
     "execution_count": 7,
     "metadata": {},
     "output_type": "execute_result"
    }
   ],
   "source": [
    "good_pairs"
   ]
  },
  {
   "cell_type": "code",
   "execution_count": 11,
   "metadata": {},
   "outputs": [
    {
     "data": {
      "text/plain": [
       "19"
      ]
     },
     "execution_count": 11,
     "metadata": {},
     "output_type": "execute_result"
    }
   ],
   "source": [
    "len(good_pairs)"
   ]
  },
  {
   "cell_type": "markdown",
   "metadata": {},
   "source": [
    "### Some blanche spikes debugging code"
   ]
  },
  {
   "cell_type": "code",
   "execution_count": 1,
   "metadata": {},
   "outputs": [],
   "source": [
    "import numpy as np\n",
    "import pandas as pd\n",
    "from spike_tools import (\n",
    "    general as spike_general,\n",
    "    analysis as spike_analysis,\n",
    ")\n",
    "import utils.behavioral_utils as behavioral_utils\n",
    "import utils.spike_utils as spike_utils\n",
    "import os"
   ]
  },
  {
   "cell_type": "code",
   "execution_count": 2,
   "metadata": {},
   "outputs": [],
   "source": [
    "PRE_INTERVAL = 500\n",
    "POST_INTERVAL = 500\n",
    "INTERVAL_SIZE = 50\n",
    "NUM_BINS_SMOOTH = 1\n",
    "EVENT = \"FixationOnCross\"\n",
    "SUBJECT = \"BL\""
   ]
  },
  {
   "cell_type": "code",
   "execution_count": 3,
   "metadata": {},
   "outputs": [
    {
     "name": "stdout",
     "output_type": "stream",
     "text": [
      "Calculating spikes by trial interval\n"
     ]
    }
   ],
   "source": [
    "sess_name = \"20190123\"\n",
    "\n",
    "behavior_path = f\"/data/rawdata/sub-SA/sess-{sess_name}/behavior/sub-SA_sess-{sess_name}_object_features.csv\"\n",
    "beh = pd.read_csv(behavior_path)\n",
    "valid_beh = beh[beh.Response.isin([\"Correct\", \"Incorrect\"])]\n",
    "spike_times = spike_general.get_spike_times(None, SUBJECT, sess_name, species_dir=\"/data\")\n",
    "\n",
    "print(\"Calculating spikes by trial interval\")\n",
    "interval_size_secs = INTERVAL_SIZE / 1000\n",
    "intervals = behavioral_utils.get_trial_intervals(valid_beh, EVENT, PRE_INTERVAL, POST_INTERVAL)\n",
    "\n",
    "spike_by_trial_interval = spike_utils.get_spikes_by_trial_interval(spike_times, intervals)\n",
    "end_bin = (PRE_INTERVAL + POST_INTERVAL) / 1000 + interval_size_secs"
   ]
  },
  {
   "cell_type": "code",
   "execution_count": 43,
   "metadata": {},
   "outputs": [
    {
     "data": {
      "text/plain": [
       "579"
      ]
     },
     "execution_count": 43,
     "metadata": {},
     "output_type": "execute_result"
    }
   ],
   "source": [
    "len(spike_by_trial_interval.TrialNumber.unique())"
   ]
  },
  {
   "cell_type": "code",
   "execution_count": 34,
   "metadata": {},
   "outputs": [],
   "source": [
    "all_units = spike_general.list_session_units(None, SUBJECT, sess_name, species_dir=\"/data\")\n"
   ]
  },
  {
   "cell_type": "code",
   "execution_count": 35,
   "metadata": {},
   "outputs": [
    {
     "data": {
      "text/html": [
       "<div>\n",
       "<style scoped>\n",
       "    .dataframe tbody tr th:only-of-type {\n",
       "        vertical-align: middle;\n",
       "    }\n",
       "\n",
       "    .dataframe tbody tr th {\n",
       "        vertical-align: top;\n",
       "    }\n",
       "\n",
       "    .dataframe thead th {\n",
       "        text-align: right;\n",
       "    }\n",
       "</style>\n",
       "<table border=\"1\" class=\"dataframe\">\n",
       "  <thead>\n",
       "    <tr style=\"text-align: right;\">\n",
       "      <th></th>\n",
       "      <th>Channel</th>\n",
       "      <th>Unit</th>\n",
       "      <th>SpikeTimesFile</th>\n",
       "      <th>UnitID</th>\n",
       "    </tr>\n",
       "  </thead>\n",
       "  <tbody>\n",
       "    <tr>\n",
       "      <th>5</th>\n",
       "      <td>102</td>\n",
       "      <td>1</td>\n",
       "      <td>/data/rawdata/sub-BL/sess-20190123/spikes/sub-...</td>\n",
       "      <td>0</td>\n",
       "    </tr>\n",
       "    <tr>\n",
       "      <th>0</th>\n",
       "      <td>104</td>\n",
       "      <td>1</td>\n",
       "      <td>/data/rawdata/sub-BL/sess-20190123/spikes/sub-...</td>\n",
       "      <td>1</td>\n",
       "    </tr>\n",
       "    <tr>\n",
       "      <th>7</th>\n",
       "      <td>104</td>\n",
       "      <td>2</td>\n",
       "      <td>/data/rawdata/sub-BL/sess-20190123/spikes/sub-...</td>\n",
       "      <td>2</td>\n",
       "    </tr>\n",
       "    <tr>\n",
       "      <th>4</th>\n",
       "      <td>109</td>\n",
       "      <td>1</td>\n",
       "      <td>/data/rawdata/sub-BL/sess-20190123/spikes/sub-...</td>\n",
       "      <td>3</td>\n",
       "    </tr>\n",
       "    <tr>\n",
       "      <th>2</th>\n",
       "      <td>109</td>\n",
       "      <td>2</td>\n",
       "      <td>/data/rawdata/sub-BL/sess-20190123/spikes/sub-...</td>\n",
       "      <td>4</td>\n",
       "    </tr>\n",
       "    <tr>\n",
       "      <th>3</th>\n",
       "      <td>18</td>\n",
       "      <td>1</td>\n",
       "      <td>/data/rawdata/sub-BL/sess-20190123/spikes/sub-...</td>\n",
       "      <td>5</td>\n",
       "    </tr>\n",
       "    <tr>\n",
       "      <th>11</th>\n",
       "      <td>31</td>\n",
       "      <td>1</td>\n",
       "      <td>/data/rawdata/sub-BL/sess-20190123/spikes/sub-...</td>\n",
       "      <td>6</td>\n",
       "    </tr>\n",
       "    <tr>\n",
       "      <th>10</th>\n",
       "      <td>48</td>\n",
       "      <td>1</td>\n",
       "      <td>/data/rawdata/sub-BL/sess-20190123/spikes/sub-...</td>\n",
       "      <td>7</td>\n",
       "    </tr>\n",
       "    <tr>\n",
       "      <th>1</th>\n",
       "      <td>62</td>\n",
       "      <td>1</td>\n",
       "      <td>/data/rawdata/sub-BL/sess-20190123/spikes/sub-...</td>\n",
       "      <td>8</td>\n",
       "    </tr>\n",
       "    <tr>\n",
       "      <th>6</th>\n",
       "      <td>79</td>\n",
       "      <td>1</td>\n",
       "      <td>/data/rawdata/sub-BL/sess-20190123/spikes/sub-...</td>\n",
       "      <td>9</td>\n",
       "    </tr>\n",
       "    <tr>\n",
       "      <th>9</th>\n",
       "      <td>8</td>\n",
       "      <td>1</td>\n",
       "      <td>/data/rawdata/sub-BL/sess-20190123/spikes/sub-...</td>\n",
       "      <td>10</td>\n",
       "    </tr>\n",
       "    <tr>\n",
       "      <th>8</th>\n",
       "      <td>83</td>\n",
       "      <td>1</td>\n",
       "      <td>/data/rawdata/sub-BL/sess-20190123/spikes/sub-...</td>\n",
       "      <td>11</td>\n",
       "    </tr>\n",
       "  </tbody>\n",
       "</table>\n",
       "</div>"
      ],
      "text/plain": [
       "   Channel Unit                                     SpikeTimesFile  UnitID\n",
       "5      102    1  /data/rawdata/sub-BL/sess-20190123/spikes/sub-...       0\n",
       "0      104    1  /data/rawdata/sub-BL/sess-20190123/spikes/sub-...       1\n",
       "7      104    2  /data/rawdata/sub-BL/sess-20190123/spikes/sub-...       2\n",
       "4      109    1  /data/rawdata/sub-BL/sess-20190123/spikes/sub-...       3\n",
       "2      109    2  /data/rawdata/sub-BL/sess-20190123/spikes/sub-...       4\n",
       "3       18    1  /data/rawdata/sub-BL/sess-20190123/spikes/sub-...       5\n",
       "11      31    1  /data/rawdata/sub-BL/sess-20190123/spikes/sub-...       6\n",
       "10      48    1  /data/rawdata/sub-BL/sess-20190123/spikes/sub-...       7\n",
       "1       62    1  /data/rawdata/sub-BL/sess-20190123/spikes/sub-...       8\n",
       "6       79    1  /data/rawdata/sub-BL/sess-20190123/spikes/sub-...       9\n",
       "9        8    1  /data/rawdata/sub-BL/sess-20190123/spikes/sub-...      10\n",
       "8       83    1  /data/rawdata/sub-BL/sess-20190123/spikes/sub-...      11"
      ]
     },
     "execution_count": 35,
     "metadata": {},
     "output_type": "execute_result"
    }
   ],
   "source": [
    "all_units"
   ]
  },
  {
   "cell_type": "code",
   "execution_count": 40,
   "metadata": {},
   "outputs": [
    {
     "data": {
      "text/plain": [
       "904"
      ]
     },
     "execution_count": 40,
     "metadata": {},
     "output_type": "execute_result"
    }
   ],
   "source": [
    "len(valid_beh.TrialNumber.unique())"
   ]
  },
  {
   "cell_type": "code",
   "execution_count": 37,
   "metadata": {},
   "outputs": [
    {
     "ename": "AssertionError",
     "evalue": "",
     "output_type": "error",
     "traceback": [
      "\u001b[0;31m---------------------------------------------------------------------------\u001b[0m",
      "\u001b[0;31mAssertionError\u001b[0m                            Traceback (most recent call last)",
      "Cell \u001b[0;32mIn[37], line 1\u001b[0m\n\u001b[0;32m----> 1\u001b[0m firing_rates \u001b[38;5;241m=\u001b[39m \u001b[43mspike_analysis\u001b[49m\u001b[38;5;241;43m.\u001b[39;49m\u001b[43mfiring_rate\u001b[49m\u001b[43m(\u001b[49m\n\u001b[1;32m      2\u001b[0m \u001b[43m    \u001b[49m\u001b[43mspike_by_trial_interval\u001b[49m\u001b[43m,\u001b[49m\u001b[43m \u001b[49m\n\u001b[1;32m      3\u001b[0m \u001b[43m    \u001b[49m\u001b[43mall_units\u001b[49m\u001b[43m,\u001b[49m\u001b[43m \u001b[49m\n\u001b[1;32m      4\u001b[0m \u001b[43m    \u001b[49m\u001b[43mbins\u001b[49m\u001b[38;5;241;43m=\u001b[39;49m\u001b[43mnp\u001b[49m\u001b[38;5;241;43m.\u001b[39;49m\u001b[43marange\u001b[49m\u001b[43m(\u001b[49m\u001b[38;5;241;43m0\u001b[39;49m\u001b[43m,\u001b[49m\u001b[43m \u001b[49m\u001b[43mend_bin\u001b[49m\u001b[43m,\u001b[49m\u001b[43m \u001b[49m\u001b[43minterval_size_secs\u001b[49m\u001b[43m)\u001b[49m\u001b[43m,\u001b[49m\u001b[43m \u001b[49m\n\u001b[1;32m      5\u001b[0m \u001b[43m    \u001b[49m\u001b[43msmoothing\u001b[49m\u001b[38;5;241;43m=\u001b[39;49m\u001b[43mNUM_BINS_SMOOTH\u001b[49m\u001b[43m,\u001b[49m\n\u001b[1;32m      6\u001b[0m \u001b[43m    \u001b[49m\u001b[43mtrials\u001b[49m\u001b[38;5;241;43m=\u001b[39;49m\u001b[43mvalid_beh\u001b[49m\u001b[38;5;241;43m.\u001b[39;49m\u001b[43mTrialNumber\u001b[49m\u001b[38;5;241;43m.\u001b[39;49m\u001b[43munique\u001b[49m\u001b[43m(\u001b[49m\u001b[43m)\u001b[49m\n\u001b[1;32m      7\u001b[0m \u001b[43m)\u001b[49m\n",
      "File \u001b[0;32m/src/spike_tools/spike_tools/analysis.py:19\u001b[0m, in \u001b[0;36mfiring_rate\u001b[0;34m(spData, channelData, bins, smoothing, trials)\u001b[0m\n\u001b[1;32m     16\u001b[0m     trial_unit_index \u001b[38;5;241m=\u001b[39m pd\u001b[38;5;241m.\u001b[39mMultiIndex\u001b[38;5;241m.\u001b[39mfrom_product([trials, np\u001b[38;5;241m.\u001b[39munique(channelData\u001b[38;5;241m.\u001b[39mUnitID)\u001b[38;5;241m.\u001b[39mastype(\u001b[38;5;28mint\u001b[39m), bins[:\u001b[38;5;241m-\u001b[39m\u001b[38;5;241m1\u001b[39m]], names\u001b[38;5;241m=\u001b[39m[\u001b[38;5;124m\"\u001b[39m\u001b[38;5;124mTrialNumber\u001b[39m\u001b[38;5;124m\"\u001b[39m, \u001b[38;5;124m\"\u001b[39m\u001b[38;5;124mUnitID\u001b[39m\u001b[38;5;124m\"\u001b[39m, \u001b[38;5;124m\"\u001b[39m\u001b[38;5;124mTimeBins\u001b[39m\u001b[38;5;124m\"\u001b[39m])\u001b[38;5;241m.\u001b[39mto_frame()\n\u001b[1;32m     18\u001b[0m trial_unit_index \u001b[38;5;241m=\u001b[39m trial_unit_index\u001b[38;5;241m.\u001b[39mdroplevel(\u001b[38;5;241m2\u001b[39m)\u001b[38;5;241m.\u001b[39mdrop(columns\u001b[38;5;241m=\u001b[39m[\u001b[38;5;124m\"\u001b[39m\u001b[38;5;124mTrialNumber\u001b[39m\u001b[38;5;124m\"\u001b[39m, \u001b[38;5;124m\"\u001b[39m\u001b[38;5;124mUnitID\u001b[39m\u001b[38;5;124m\"\u001b[39m])\u001b[38;5;241m.\u001b[39mreset_index()\n\u001b[0;32m---> 19\u001b[0m \u001b[38;5;28;01massert\u001b[39;00m \u001b[38;5;28mlen\u001b[39m(trial_unit_index\u001b[38;5;241m.\u001b[39mgroupby([\u001b[38;5;124m\"\u001b[39m\u001b[38;5;124mTrialNumber\u001b[39m\u001b[38;5;124m\"\u001b[39m, \u001b[38;5;124m\"\u001b[39m\u001b[38;5;124mUnitID\u001b[39m\u001b[38;5;124m\"\u001b[39m])\u001b[38;5;241m.\u001b[39mcount()) \u001b[38;5;241m==\u001b[39m \u001b[38;5;28mlen\u001b[39m(np\u001b[38;5;241m.\u001b[39munique(spData\u001b[38;5;241m.\u001b[39mTrialNumber)) \u001b[38;5;241m*\u001b[39m \u001b[38;5;28mlen\u001b[39m(np\u001b[38;5;241m.\u001b[39munique(channelData\u001b[38;5;241m.\u001b[39mUnitID))\n\u001b[1;32m     20\u001b[0m groupedData \u001b[38;5;241m=\u001b[39m spData\u001b[38;5;241m.\u001b[39mgroupby([\u001b[38;5;124m\"\u001b[39m\u001b[38;5;124mTrialNumber\u001b[39m\u001b[38;5;124m\"\u001b[39m, \u001b[38;5;124m\"\u001b[39m\u001b[38;5;124mUnitID\u001b[39m\u001b[38;5;124m\"\u001b[39m])\n\u001b[1;32m     22\u001b[0m fr_DF \u001b[38;5;241m=\u001b[39m groupedData\u001b[38;5;241m.\u001b[39mapply(\u001b[38;5;28;01mlambda\u001b[39;00m x: pd\u001b[38;5;241m.\u001b[39mDataFrame(\\\n\u001b[1;32m     23\u001b[0m                         {\u001b[38;5;124m\"\u001b[39m\u001b[38;5;124mSpikeCounts\u001b[39m\u001b[38;5;124m\"\u001b[39m: np\u001b[38;5;241m.\u001b[39mhistogram(x\u001b[38;5;241m.\u001b[39mSpikeTimeFromStart\u001b[38;5;241m/\u001b[39m\u001b[38;5;241m1000\u001b[39m, bins)[\u001b[38;5;241m0\u001b[39m],\\\n\u001b[1;32m     24\u001b[0m                          \u001b[38;5;124m\"\u001b[39m\u001b[38;5;124mFiringRate\u001b[39m\u001b[38;5;124m\"\u001b[39m: gaussian_filter1d(np\u001b[38;5;241m.\u001b[39mhistogram(x\u001b[38;5;241m.\u001b[39mSpikeTimeFromStart\u001b[38;5;241m/\u001b[39m\u001b[38;5;241m1000\u001b[39m, bins)[\u001b[38;5;241m0\u001b[39m]\u001b[38;5;241m.\u001b[39mastype(\u001b[38;5;28mfloat\u001b[39m)\u001b[38;5;241m/\u001b[39mbin_size, smoothing),\\\n\u001b[1;32m     25\u001b[0m                          \u001b[38;5;124m\"\u001b[39m\u001b[38;5;124mTimeBins\u001b[39m\u001b[38;5;124m\"\u001b[39m: bins[:\u001b[38;5;241m-\u001b[39m\u001b[38;5;241m1\u001b[39m]}))\n",
      "\u001b[0;31mAssertionError\u001b[0m: "
     ]
    }
   ],
   "source": [
    "firing_rates = spike_analysis.firing_rate(\n",
    "    spike_by_trial_interval, \n",
    "    all_units, \n",
    "    bins=np.arange(0, end_bin, interval_size_secs), \n",
    "    smoothing=NUM_BINS_SMOOTH,\n",
    "    trials=valid_beh.TrialNumber.unique()\n",
    ")"
   ]
  },
  {
   "cell_type": "code",
   "execution_count": null,
   "metadata": {},
   "outputs": [],
   "source": []
  }
 ],
 "metadata": {
  "kernelspec": {
   "display_name": "Python 3",
   "language": "python",
   "name": "python3"
  },
  "language_info": {
   "codemirror_mode": {
    "name": "ipython",
    "version": 3
   },
   "file_extension": ".py",
   "mimetype": "text/x-python",
   "name": "python",
   "nbconvert_exporter": "python",
   "pygments_lexer": "ipython3",
   "version": "3.10.6"
  }
 },
 "nbformat": 4,
 "nbformat_minor": 2
}
