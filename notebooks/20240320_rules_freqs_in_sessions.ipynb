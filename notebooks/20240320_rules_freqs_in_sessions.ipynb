{
 "cells": [
  {
   "cell_type": "markdown",
   "metadata": {},
   "source": [
    "### In the 27 sessions, which rules show up at least N times in every session?"
   ]
  },
  {
   "cell_type": "code",
   "execution_count": 2,
   "metadata": {},
   "outputs": [],
   "source": [
    "import os\n",
    "import numpy as np\n",
    "import pandas as pd\n",
    "import utils.pseudo_utils as pseudo_utils\n",
    "import utils.pseudo_classifier_utils as pseudo_classifier_utils\n",
    "import utils.behavioral_utils as behavioral_utils\n",
    "from constants.behavioral_constants import *\n",
    "from constants.decoding_constants import *\n",
    "from utils.session_data import SessionData"
   ]
  },
  {
   "cell_type": "code",
   "execution_count": 3,
   "metadata": {},
   "outputs": [],
   "source": [
    "FEATURE_DIMS = [\"Color\", \"Shape\", \"Pattern\"]\n",
    "PRE_INTERVAL = 1300\n",
    "POST_INTERVAL = 1500\n",
    "INTERVAL_SIZE = 50\n",
    "SMOOTH = 1\n",
    "EVENT = \"FeedbackOnset\"\n",
    "OUTPUT_DIR = \"/data/patrick_res/hyak/pseudo\"\n",
    "# path to a dataframe of sessions to analyze\n",
    "SESSIONS_PATH = \"/data/patrick_res/sessions/valid_sessions_rpe.pickle\""
   ]
  },
  {
   "cell_type": "markdown",
   "metadata": {},
   "source": [
    "### For each rule, it shows up in all sessions at least how many times?"
   ]
  },
  {
   "cell_type": "code",
   "execution_count": 4,
   "metadata": {},
   "outputs": [
    {
     "ename": "NameError",
     "evalue": "name 'full_sesses' is not defined",
     "output_type": "error",
     "traceback": [
      "\u001b[0;31m---------------------------------------------------------------------------\u001b[0m",
      "\u001b[0;31mNameError\u001b[0m                                 Traceback (most recent call last)",
      "Cell \u001b[0;32mIn[4], line 2\u001b[0m\n\u001b[1;32m      1\u001b[0m valid_sess \u001b[38;5;241m=\u001b[39m pd\u001b[38;5;241m.\u001b[39mread_pickle(SESSIONS_PATH)\n\u001b[0;32m----> 2\u001b[0m valid_sess \u001b[38;5;241m=\u001b[39m valid_sess[valid_sess\u001b[38;5;241m.\u001b[39msession_name\u001b[38;5;241m.\u001b[39misin(\u001b[43mfull_sesses\u001b[49m)]\n\u001b[1;32m      3\u001b[0m \u001b[38;5;28;01mdef\u001b[39;00m \u001b[38;5;21mcount_num_rule_blocks\u001b[39m(sess_name, rule):\n\u001b[1;32m      4\u001b[0m     behavior_path \u001b[38;5;241m=\u001b[39m SESS_BEHAVIOR_PATH\u001b[38;5;241m.\u001b[39mformat(sess_name\u001b[38;5;241m=\u001b[39msess_name)\n",
      "\u001b[0;31mNameError\u001b[0m: name 'full_sesses' is not defined"
     ]
    }
   ],
   "source": [
    "valid_sess = pd.read_pickle(SESSIONS_PATH)\n",
    "valid_sess = valid_sess[valid_sess.session_name.isin(full_sesses)]\n",
    "def count_num_rule_blocks(sess_name, rule):\n",
    "    behavior_path = SESS_BEHAVIOR_PATH.format(sess_name=sess_name)\n",
    "    beh = pd.read_csv(behavior_path)\n",
    "    # filter trials \n",
    "    valid_beh = behavioral_utils.get_valid_trials(beh)\n",
    "    num_blocks = len(valid_beh[valid_beh.CurrentRule == rule].BlockNumber.unique())\n",
    "    if num_blocks == 0: \n",
    "        print(f\"session {sess_name} has no blocks of {rule}\")\n",
    "    return num_blocks\n",
    "\n",
    "for feat in FEATURES:\n",
    "    num_rule_blocks = valid_sess.apply(lambda x: count_num_rule_blocks(x.session_name, feat), axis=1)\n",
    "    print(f\"{feat}: {np.min(num_rule_blocks)}\")"
   ]
  },
  {
   "cell_type": "markdown",
   "metadata": {},
   "source": []
  },
  {
   "cell_type": "markdown",
   "metadata": {},
   "source": [
    "### for each session, how many unique rules are there?"
   ]
  },
  {
   "cell_type": "code",
   "execution_count": 5,
   "metadata": {},
   "outputs": [
    {
     "name": "stdout",
     "output_type": "stream",
     "text": [
      "20180709: 10\n",
      "20180920: 12\n",
      "20180918: 12\n",
      "20180912: 12\n",
      "20181008: 12\n",
      "20181002: 12\n",
      "20180806: 12\n",
      "20180801: 12\n",
      "20181005: 11\n",
      "201807250001: 9\n",
      "20181001: 12\n",
      "20180802: 12\n",
      "20180808: 11\n",
      "20180924: 12\n",
      "20180926: 11\n",
      "20180705: 11\n",
      "20181004: 10\n",
      "20181003: 12\n",
      "20181009: 12\n",
      "20181010: 10\n",
      "20180921: 11\n",
      "20180917: 9\n",
      "20180925: 12\n",
      "20180803: 12\n",
      "20180712: 11\n",
      "20180928: 10\n",
      "20180910: 11\n"
     ]
    }
   ],
   "source": [
    "valid_sess = pd.read_pickle(SESSIONS_PATH)\n",
    "\n",
    "def count_num_unique_rules(sess_name):\n",
    "    behavior_path = SESS_BEHAVIOR_PATH.format(sess_name=sess_name)\n",
    "    beh = pd.read_csv(behavior_path)\n",
    "    # filter trials \n",
    "    valid_beh = behavioral_utils.get_valid_trials(beh)\n",
    "    num_unique_rules = len(valid_beh.CurrentRule.unique())\n",
    "    print(f\"{sess_name}: {num_unique_rules}\")\n",
    "    if num_unique_rules == 12:\n",
    "        return sess_name\n",
    "    else:\n",
    "        return None\n",
    "\n",
    "full_sesses = valid_sess.apply(lambda x: count_num_unique_rules(x.session_name), axis=1)\n",
    "full_sesses = full_sesses.dropna().values"
   ]
  },
  {
   "cell_type": "code",
   "execution_count": null,
   "metadata": {},
   "outputs": [],
   "source": []
  },
  {
   "cell_type": "markdown",
   "metadata": {},
   "source": [
    "### For each session, print the rules that have at least 3 blocks"
   ]
  },
  {
   "cell_type": "code",
   "execution_count": null,
   "metadata": {},
   "outputs": [
    {
     "name": "stdout",
     "output_type": "stream",
     "text": [
      "20180709: ['SQUARE' 'STAR' 'POLKADOT' 'SWIRL' 'CIRCLE']\n",
      "20180920: ['SQUARE' 'STAR' 'RIPPLE' 'MAGENTA' 'POLKADOT' 'ESCHER']\n",
      "20180918: ['CIRCLE' 'CYAN' 'STAR' 'YELLOW']\n",
      "20180912: ['RIPPLE' 'YELLOW' 'MAGENTA' 'GREEN' 'CYAN']\n",
      "20181008: ['ESCHER' 'POLKADOT' 'STAR']\n",
      "20181002: ['POLKADOT' 'ESCHER' 'YELLOW' 'SQUARE']\n",
      "20180806: ['GREEN' 'MAGENTA' 'SQUARE' 'TRIANGLE' 'CIRCLE']\n",
      "20180801: ['CYAN' 'MAGENTA' 'SQUARE' 'TRIANGLE' 'YELLOW']\n",
      "20181005: ['MAGENTA' 'YELLOW' 'GREEN' 'CIRCLE' 'POLKADOT' 'STAR' 'TRIANGLE' 'RIPPLE']\n",
      "201807250001: ['YELLOW']\n",
      "20181001: ['GREEN' 'POLKADOT' 'MAGENTA']\n",
      "20180802: ['CIRCLE' 'TRIANGLE' 'RIPPLE' 'CYAN' 'GREEN' 'SQUARE' 'SWIRL' 'POLKADOT'\n",
      " 'YELLOW' 'MAGENTA']\n",
      "20180808: ['GREEN' 'ESCHER' 'SWIRL' 'POLKADOT' 'CIRCLE' 'MAGENTA' 'SQUARE']\n",
      "20180924: ['GREEN' 'YELLOW' 'CYAN' 'SQUARE' 'CIRCLE']\n",
      "20180926: ['TRIANGLE' 'STAR' 'SQUARE' 'CIRCLE' 'POLKADOT']\n",
      "20180705: ['CYAN' 'YELLOW' 'POLKADOT' 'TRIANGLE' 'MAGENTA' 'RIPPLE']\n",
      "20181004: ['POLKADOT' 'MAGENTA']\n",
      "20181003: ['MAGENTA' 'CYAN' 'STAR' 'ESCHER']\n",
      "20181009: ['GREEN' 'YELLOW' 'SQUARE' 'RIPPLE' 'CIRCLE' 'TRIANGLE']\n",
      "20181010: ['YELLOW' 'CIRCLE' 'RIPPLE' 'ESCHER']\n",
      "20180921: ['CIRCLE' 'YELLOW' 'SWIRL' 'RIPPLE' 'STAR' 'GREEN' 'CYAN' 'MAGENTA']\n",
      "20180917: ['POLKADOT' 'STAR']\n",
      "20180925: ['CYAN' 'TRIANGLE' 'GREEN' 'YELLOW' 'SQUARE' 'ESCHER']\n",
      "20180803: ['STAR' 'ESCHER' 'SWIRL' 'POLKADOT' 'SQUARE' 'TRIANGLE' 'MAGENTA' 'CIRCLE'\n",
      " 'CYAN' 'RIPPLE']\n",
      "20180712: []\n",
      "20180928: ['GREEN' 'YELLOW' 'CYAN' 'SQUARE' 'MAGENTA' 'ESCHER']\n",
      "20180910: ['GREEN' 'CYAN' 'ESCHER']\n"
     ]
    }
   ],
   "source": [
    "valid_sess = pd.read_pickle(SESSIONS_PATH)\n",
    "\n",
    "def count_num_unique_rules(sess_name):\n",
    "    behavior_path = SESS_BEHAVIOR_PATH.format(sess_name=sess_name)\n",
    "    beh = pd.read_csv(behavior_path)\n",
    "    # filter trials \n",
    "    valid_beh = behavioral_utils.get_valid_trials(beh)\n",
    "    beh = behavioral_utils.filter_blocks_by_rule_occurence(valid_beh, 3)\n",
    "    print(f\"{sess_name}: {beh.CurrentRule.unique()}\")\n",
    "    \n",
    "full_sesses = valid_sess.apply(lambda x: count_num_unique_rules(x.session_name), axis=1)\n",
    "full_sesses = full_sesses.dropna().values"
   ]
  },
  {
   "cell_type": "markdown",
   "metadata": {},
   "source": [
    "### Conversely: for each rule, in how many sessions does show up at least 3 times?"
   ]
  },
  {
   "cell_type": "code",
   "execution_count": 7,
   "metadata": {},
   "outputs": [
    {
     "name": "stdout",
     "output_type": "stream",
     "text": [
      "{'CIRCLE': 12, 'SQUARE': 13, 'STAR': 10, 'TRIANGLE': 9, 'CYAN': 12, 'GREEN': 12, 'MAGENTA': 14, 'YELLOW': 14, 'ESCHER': 10, 'POLKADOT': 13, 'RIPPLE': 9, 'SWIRL': 5}\n"
     ]
    }
   ],
   "source": [
    "valid_sess = pd.read_pickle(SESSIONS_PATH)\n",
    "num_sesses = {f: 0 for f in FEATURES}\n",
    "\n",
    "def count_num_unique_rules(sess_name):\n",
    "    behavior_path = SESS_BEHAVIOR_PATH.format(sess_name=sess_name)\n",
    "    beh = pd.read_csv(behavior_path)\n",
    "    # filter trials \n",
    "    valid_beh = behavioral_utils.get_valid_trials(beh)\n",
    "    beh = behavioral_utils.filter_blocks_by_rule_occurence(valid_beh, 3)\n",
    "    for rule in beh.CurrentRule.unique():\n",
    "        num_sesses[rule] += 1\n",
    "\n",
    "full_sesses = valid_sess.apply(lambda x: count_num_unique_rules(x.session_name), axis=1)\n",
    "full_sesses = full_sesses.dropna().values\n",
    "print(num_sesses)"
   ]
  },
  {
   "cell_type": "markdown",
   "metadata": {},
   "source": [
    "### For each pair of features, in how many sessions do the pairs show up at least 3 times? "
   ]
  },
  {
   "cell_type": "code",
   "execution_count": 10,
   "metadata": {},
   "outputs": [
    {
     "name": "stdout",
     "output_type": "stream",
     "text": [
      "('CIRCLE', 'CYAN'): 5\n",
      "('CIRCLE', 'ESCHER'): 3\n",
      "('CIRCLE', 'GREEN'): 7\n",
      "('CIRCLE', 'MAGENTA'): 6\n",
      "('CIRCLE', 'POLKADOT'): 6\n",
      "('CIRCLE', 'RIPPLE'): 6\n",
      "('CIRCLE', 'SQUARE'): 8\n",
      "('CIRCLE', 'STAR'): 6\n",
      "('CIRCLE', 'SWIRL'): 5\n",
      "('CIRCLE', 'TRIANGLE'): 6\n",
      "('CIRCLE', 'YELLOW'): 7\n",
      "('CYAN', 'ESCHER'): 5\n",
      "('CYAN', 'GREEN'): 7\n",
      "('CYAN', 'MAGENTA'): 8\n",
      "('CYAN', 'POLKADOT'): 3\n",
      "('CYAN', 'RIPPLE'): 5\n",
      "('CYAN', 'SQUARE'): 6\n",
      "('CYAN', 'STAR'): 4\n",
      "('CYAN', 'SWIRL'): 3\n",
      "('CYAN', 'TRIANGLE'): 5\n",
      "('CYAN', 'YELLOW'): 9\n",
      "('ESCHER', 'GREEN'): 4\n",
      "('ESCHER', 'MAGENTA'): 5\n",
      "('ESCHER', 'POLKADOT'): 5\n",
      "('ESCHER', 'RIPPLE'): 3\n",
      "('ESCHER', 'SQUARE'): 6\n",
      "('ESCHER', 'STAR'): 4\n",
      "('ESCHER', 'SWIRL'): 2\n",
      "('ESCHER', 'TRIANGLE'): 2\n",
      "('ESCHER', 'YELLOW'): 4\n",
      "('GREEN', 'MAGENTA'): 8\n",
      "('GREEN', 'POLKADOT'): 4\n",
      "('GREEN', 'RIPPLE'): 5\n",
      "('GREEN', 'SQUARE'): 7\n",
      "('GREEN', 'STAR'): 2\n",
      "('GREEN', 'SWIRL'): 3\n",
      "('GREEN', 'TRIANGLE'): 5\n",
      "('GREEN', 'YELLOW'): 8\n",
      "('MAGENTA', 'POLKADOT'): 8\n",
      "('MAGENTA', 'RIPPLE'): 7\n",
      "('MAGENTA', 'SQUARE'): 7\n",
      "('MAGENTA', 'STAR'): 5\n",
      "('MAGENTA', 'SWIRL'): 4\n",
      "('MAGENTA', 'TRIANGLE'): 6\n",
      "('MAGENTA', 'YELLOW'): 7\n",
      "('POLKADOT', 'RIPPLE'): 5\n",
      "('POLKADOT', 'SQUARE'): 7\n",
      "('POLKADOT', 'STAR'): 7\n",
      "('POLKADOT', 'SWIRL'): 4\n",
      "('POLKADOT', 'TRIANGLE'): 5\n",
      "('POLKADOT', 'YELLOW'): 4\n",
      "('RIPPLE', 'SQUARE'): 4\n",
      "('RIPPLE', 'STAR'): 4\n",
      "('RIPPLE', 'SWIRL'): 3\n",
      "('RIPPLE', 'TRIANGLE'): 5\n",
      "('RIPPLE', 'YELLOW'): 7\n",
      "('SQUARE', 'STAR'): 4\n",
      "('SQUARE', 'SWIRL'): 4\n",
      "('SQUARE', 'TRIANGLE'): 7\n",
      "('SQUARE', 'YELLOW'): 7\n",
      "('STAR', 'SWIRL'): 3\n",
      "('STAR', 'TRIANGLE'): 3\n",
      "('STAR', 'YELLOW'): 3\n",
      "('SWIRL', 'TRIANGLE'): 2\n",
      "('SWIRL', 'YELLOW'): 2\n",
      "('TRIANGLE', 'YELLOW'): 6\n"
     ]
    }
   ],
   "source": [
    "valid_sess = pd.read_pickle(SESSIONS_PATH)\n",
    "FEATURES.sort()\n",
    "num_sesses = {}\n",
    "for i in range(len(FEATURES)):\n",
    "    for j in range(i + 1, len(FEATURES)):\n",
    "        num_sesses[(FEATURES[i], FEATURES[j])] = 0\n",
    "\n",
    "def count_num_unique_rules(sess_name):\n",
    "    behavior_path = SESS_BEHAVIOR_PATH.format(sess_name=sess_name)\n",
    "    beh = pd.read_csv(behavior_path)\n",
    "    # filter trials \n",
    "    valid_beh = behavioral_utils.get_valid_trials(beh)\n",
    "    beh = behavioral_utils.filter_blocks_by_rule_occurence(valid_beh, 3)\n",
    "    rules = beh.CurrentRule.unique()\n",
    "    rules.sort()\n",
    "    for i in range(len(rules)):\n",
    "        for j in range(i + 1, len(rules)):\n",
    "                num_sesses[(rules[i], rules[j])] += 1\n",
    "\n",
    "full_sesses = valid_sess.apply(lambda x: count_num_unique_rules(x.session_name), axis=1)\n",
    "full_sesses = full_sesses.dropna().values\n",
    "for el in num_sesses:\n",
    "     print(f\"{el}: {num_sesses[el]}\")"
   ]
  },
  {
   "cell_type": "code",
   "execution_count": null,
   "metadata": {},
   "outputs": [],
   "source": []
  }
 ],
 "metadata": {
  "kernelspec": {
   "display_name": "Python 3",
   "language": "python",
   "name": "python3"
  },
  "language_info": {
   "codemirror_mode": {
    "name": "ipython",
    "version": 3
   },
   "file_extension": ".py",
   "mimetype": "text/x-python",
   "name": "python",
   "nbconvert_exporter": "python",
   "pygments_lexer": "ipython3",
   "version": "3.10.6"
  }
 },
 "nbformat": 4,
 "nbformat_minor": 2
}
