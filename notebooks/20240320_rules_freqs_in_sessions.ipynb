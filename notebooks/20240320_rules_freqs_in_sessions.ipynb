{
 "cells": [
  {
   "cell_type": "markdown",
   "metadata": {},
   "source": [
    "### In the 27 sessions, which rules show up at least N times in every session?"
   ]
  },
  {
   "cell_type": "code",
   "execution_count": 1,
   "metadata": {},
   "outputs": [],
   "source": [
    "import os\n",
    "import numpy as np\n",
    "import pandas as pd\n",
    "import utils.pseudo_utils as pseudo_utils\n",
    "import utils.pseudo_classifier_utils as pseudo_classifier_utils\n",
    "import utils.behavioral_utils as behavioral_utils\n",
    "from constants.behavioral_constants import *\n",
    "from constants.decoding_constants import *\n",
    "from utils.session_data import SessionData"
   ]
  },
  {
   "cell_type": "code",
   "execution_count": 2,
   "metadata": {},
   "outputs": [],
   "source": [
    "FEATURE_DIMS = [\"Color\", \"Shape\", \"Pattern\"]\n",
    "PRE_INTERVAL = 1300\n",
    "POST_INTERVAL = 1500\n",
    "INTERVAL_SIZE = 50\n",
    "SMOOTH = 1\n",
    "EVENT = \"FeedbackOnset\"\n",
    "OUTPUT_DIR = \"/data/patrick_res/hyak/pseudo\"\n",
    "# path to a dataframe of sessions to analyze\n",
    "SESSIONS_PATH = \"/data/patrick_res/sessions/valid_sessions_rpe.pickle\""
   ]
  },
  {
   "cell_type": "markdown",
   "metadata": {},
   "source": [
    "### For each rule, it shows up in all sessions at least how many times?"
   ]
  },
  {
   "cell_type": "code",
   "execution_count": 14,
   "metadata": {},
   "outputs": [
    {
     "name": "stdout",
     "output_type": "stream",
     "text": [
      "CIRCLE: 1\n",
      "SQUARE: 1\n",
      "STAR: 1\n",
      "TRIANGLE: 1\n",
      "CYAN: 1\n",
      "GREEN: 1\n",
      "MAGENTA: 1\n",
      "YELLOW: 1\n",
      "ESCHER: 1\n",
      "POLKADOT: 1\n",
      "RIPPLE: 1\n",
      "SWIRL: 1\n"
     ]
    }
   ],
   "source": [
    "valid_sess = pd.read_pickle(SESSIONS_PATH)\n",
    "valid_sess = valid_sess[valid_sess.session_name.isin(full_sesses)]\n",
    "def count_num_rule_blocks(sess_name, rule):\n",
    "    behavior_path = SESS_BEHAVIOR_PATH.format(sess_name=sess_name)\n",
    "    beh = pd.read_csv(behavior_path)\n",
    "    # filter trials \n",
    "    valid_beh = behavioral_utils.get_valid_trials(beh)\n",
    "    num_blocks = len(valid_beh[valid_beh.CurrentRule == rule].BlockNumber.unique())\n",
    "    if num_blocks == 0: \n",
    "        print(f\"session {sess_name} has no blocks of {rule}\")\n",
    "    return num_blocks\n",
    "\n",
    "for feat in FEATURES:\n",
    "    num_rule_blocks = valid_sess.apply(lambda x: count_num_rule_blocks(x.session_name, feat), axis=1)\n",
    "    print(f\"{feat}: {np.min(num_rule_blocks)}\")"
   ]
  },
  {
   "cell_type": "markdown",
   "metadata": {},
   "source": []
  },
  {
   "cell_type": "markdown",
   "metadata": {},
   "source": [
    "### for each session, how many unique rules are there?"
   ]
  },
  {
   "cell_type": "code",
   "execution_count": 13,
   "metadata": {},
   "outputs": [
    {
     "name": "stdout",
     "output_type": "stream",
     "text": [
      "20180709: 10\n",
      "20180920: 12\n",
      "20180918: 12\n",
      "20180912: 12\n",
      "20181008: 12\n",
      "20181002: 12\n",
      "20180806: 12\n",
      "20180801: 12\n",
      "20181005: 11\n",
      "201807250001: 9\n",
      "20181001: 12\n",
      "20180802: 12\n",
      "20180808: 11\n",
      "20180924: 12\n",
      "20180926: 11\n",
      "20180705: 11\n",
      "20181004: 10\n",
      "20181003: 12\n",
      "20181009: 12\n",
      "20181010: 10\n",
      "20180921: 11\n",
      "20180917: 9\n",
      "20180925: 12\n",
      "20180803: 12\n",
      "20180712: 11\n",
      "20180928: 10\n",
      "20180910: 11\n"
     ]
    }
   ],
   "source": [
    "valid_sess = pd.read_pickle(SESSIONS_PATH)\n",
    "\n",
    "def count_num_unique_rules(sess_name):\n",
    "    behavior_path = SESS_BEHAVIOR_PATH.format(sess_name=sess_name)\n",
    "    beh = pd.read_csv(behavior_path)\n",
    "    # filter trials \n",
    "    valid_beh = behavioral_utils.get_valid_trials(beh)\n",
    "    num_unique_rules = len(valid_beh.CurrentRule.unique())\n",
    "    print(f\"{sess_name}: {num_unique_rules}\")\n",
    "    if num_unique_rules == 12:\n",
    "        return sess_name\n",
    "    else:\n",
    "        return None\n",
    "\n",
    "full_sesses = valid_sess.apply(lambda x: count_num_unique_rules(x.session_name), axis=1)\n",
    "full_sesses = full_sesses.dropna().values"
   ]
  },
  {
   "cell_type": "code",
   "execution_count": 12,
   "metadata": {},
   "outputs": [
    {
     "data": {
      "text/plain": [
       "array(['20180920', '20180918', '20180912', '20181008', '20181002',\n",
       "       '20180806', '20180801', '20181001', '20180802', '20180924',\n",
       "       '20181003', '20181009', '20180925', '20180803'], dtype=object)"
      ]
     },
     "execution_count": 12,
     "metadata": {},
     "output_type": "execute_result"
    }
   ],
   "source": []
  },
  {
   "cell_type": "markdown",
   "metadata": {},
   "source": [
    "### For each session, print the rules that have at least 3 blocks"
   ]
  },
  {
   "cell_type": "code",
   "execution_count": 3,
   "metadata": {},
   "outputs": [
    {
     "name": "stdout",
     "output_type": "stream",
     "text": [
      "20180709: ['SQUARE' 'STAR' 'POLKADOT' 'SWIRL' 'CIRCLE']\n",
      "20180920: ['SQUARE' 'STAR' 'RIPPLE' 'MAGENTA' 'POLKADOT' 'ESCHER']\n",
      "20180918: ['CIRCLE' 'CYAN' 'STAR' 'YELLOW']\n",
      "20180912: ['RIPPLE' 'YELLOW' 'MAGENTA' 'GREEN' 'CYAN']\n",
      "20181008: ['ESCHER' 'POLKADOT' 'STAR']\n",
      "20181002: ['POLKADOT' 'ESCHER' 'YELLOW' 'SQUARE']\n",
      "20180806: ['GREEN' 'MAGENTA' 'SQUARE' 'TRIANGLE' 'CIRCLE']\n",
      "20180801: ['CYAN' 'MAGENTA' 'SQUARE' 'TRIANGLE' 'YELLOW']\n",
      "20181005: ['MAGENTA' 'YELLOW' 'GREEN' 'CIRCLE' 'POLKADOT' 'STAR' 'TRIANGLE' 'RIPPLE']\n",
      "201807250001: ['YELLOW']\n",
      "20181001: ['GREEN' 'POLKADOT' 'MAGENTA']\n",
      "20180802: ['CIRCLE' 'TRIANGLE' 'RIPPLE' 'CYAN' 'GREEN' 'SQUARE' 'SWIRL' 'POLKADOT'\n",
      " 'YELLOW' 'MAGENTA']\n",
      "20180808: ['GREEN' 'ESCHER' 'SWIRL' 'POLKADOT' 'CIRCLE' 'MAGENTA' 'SQUARE']\n",
      "20180924: ['GREEN' 'YELLOW' 'CYAN' 'SQUARE' 'CIRCLE']\n",
      "20180926: ['TRIANGLE' 'STAR' 'SQUARE' 'CIRCLE' 'POLKADOT']\n",
      "20180705: ['CYAN' 'YELLOW' 'POLKADOT' 'TRIANGLE' 'MAGENTA' 'RIPPLE']\n",
      "20181004: ['POLKADOT' 'MAGENTA']\n",
      "20181003: ['MAGENTA' 'CYAN' 'STAR' 'ESCHER']\n",
      "20181009: ['GREEN' 'YELLOW' 'SQUARE' 'RIPPLE' 'CIRCLE' 'TRIANGLE']\n",
      "20181010: ['YELLOW' 'CIRCLE' 'RIPPLE' 'ESCHER']\n",
      "20180921: ['CIRCLE' 'YELLOW' 'SWIRL' 'RIPPLE' 'STAR' 'GREEN' 'CYAN' 'MAGENTA']\n",
      "20180917: ['POLKADOT' 'STAR']\n",
      "20180925: ['CYAN' 'TRIANGLE' 'GREEN' 'YELLOW' 'SQUARE' 'ESCHER']\n",
      "20180803: ['STAR' 'ESCHER' 'SWIRL' 'POLKADOT' 'SQUARE' 'TRIANGLE' 'MAGENTA' 'CIRCLE'\n",
      " 'CYAN' 'RIPPLE']\n",
      "20180712: []\n",
      "20180928: ['GREEN' 'YELLOW' 'CYAN' 'SQUARE' 'MAGENTA' 'ESCHER']\n",
      "20180910: ['GREEN' 'CYAN' 'ESCHER']\n"
     ]
    }
   ],
   "source": [
    "valid_sess = pd.read_pickle(SESSIONS_PATH)\n",
    "\n",
    "def count_num_unique_rules(sess_name):\n",
    "    behavior_path = SESS_BEHAVIOR_PATH.format(sess_name=sess_name)\n",
    "    beh = pd.read_csv(behavior_path)\n",
    "    # filter trials \n",
    "    valid_beh = behavioral_utils.get_valid_trials(beh)\n",
    "    beh = behavioral_utils.filter_blocks_by_rule_occurence(valid_beh, 3)\n",
    "    print(f\"{sess_name}: {beh.CurrentRule.unique()}\")\n",
    "    \n",
    "full_sesses = valid_sess.apply(lambda x: count_num_unique_rules(x.session_name), axis=1)\n",
    "full_sesses = full_sesses.dropna().values"
   ]
  },
  {
   "cell_type": "markdown",
   "metadata": {},
   "source": [
    "### Conversely: for each rule, in how many sessions does show up at least 3 times?"
   ]
  },
  {
   "cell_type": "code",
   "execution_count": 4,
   "metadata": {},
   "outputs": [
    {
     "name": "stdout",
     "output_type": "stream",
     "text": [
      "{'CIRCLE': 6, 'SQUARE': 7, 'STAR': 3, 'TRIANGLE': 7, 'CYAN': 7, 'GREEN': 6, 'MAGENTA': 4, 'YELLOW': 8, 'ESCHER': 7, 'POLKADOT': 6, 'RIPPLE': 7, 'SWIRL': 3}\n"
     ]
    }
   ],
   "source": [
    "valid_sess = pd.read_pickle(SESSIONS_PATH)\n",
    "num_sesses = {f: 0 for f in FEATURES}\n",
    "\n",
    "def count_num_unique_rules(sess_name):\n",
    "    behavior_path = SESS_BEHAVIOR_PATH.format(sess_name=sess_name)\n",
    "    beh = pd.read_csv(behavior_path)\n",
    "    # filter trials \n",
    "    valid_beh = behavioral_utils.get_valid_trials(beh)\n",
    "    beh = behavioral_utils.filter_blocks_by_rule_occurence(valid_beh, 4)\n",
    "    for rule in beh.CurrentRule.unique():\n",
    "        num_sesses[rule] += 1\n",
    "\n",
    "full_sesses = valid_sess.apply(lambda x: count_num_unique_rules(x.session_name), axis=1)\n",
    "full_sesses = full_sesses.dropna().values\n",
    "print(num_sesses)"
   ]
  },
  {
   "cell_type": "code",
   "execution_count": null,
   "metadata": {},
   "outputs": [],
   "source": []
  }
 ],
 "metadata": {
  "kernelspec": {
   "display_name": "Python 3",
   "language": "python",
   "name": "python3"
  },
  "language_info": {
   "codemirror_mode": {
    "name": "ipython",
    "version": 3
   },
   "file_extension": ".py",
   "mimetype": "text/x-python",
   "name": "python",
   "nbconvert_exporter": "python",
   "pygments_lexer": "ipython3",
   "version": "3.10.6"
  }
 },
 "nbformat": 4,
 "nbformat_minor": 2
}
