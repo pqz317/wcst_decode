{
 "cells": [
  {
   "cell_type": "markdown",
   "metadata": {},
   "source": [
    "### Script for generating subtrials to use in decoding on Hyak"
   ]
  },
  {
   "cell_type": "code",
   "execution_count": 4,
   "metadata": {},
   "outputs": [
    {
     "name": "stdout",
     "output_type": "stream",
     "text": [
      "The autoreload extension is already loaded. To reload it, use:\n",
      "  %reload_ext autoreload\n"
     ]
    }
   ],
   "source": [
    "%load_ext autoreload\n",
    "%autoreload 2\n",
    "\n",
    "import numpy as np\n",
    "import matplotlib.pyplot as plt\n",
    "import pandas as pd\n",
    "\n",
    "import utils.spike_utils as spike_utils\n",
    "import utils.classifier_utils as classifier_utils\n",
    "import utils.visualization_utils as visualization_utils\n",
    "import utils.behavioral_utils as behavioral_utils\n",
    "\n",
    "import os\n",
    "import pandas as pd\n",
    "import matplotlib"
   ]
  },
  {
   "cell_type": "code",
   "execution_count": 5,
   "metadata": {},
   "outputs": [],
   "source": [
    "FEATURE_DIMS = [\"Color\", \"Shape\", \"Pattern\"]\n",
    "OUTPUT_DIR = \"/data/patrick_res/information\"\n",
    "\n",
    "SESSIONS_PATH = \"/data/patrick_res/multi_sess/valid_sessions_rpe.pickle\"\n",
    "SESS_BEHAVIOR_PATH = \"/data/rawdata/sub-SA/sess-{sess_name}/behavior/sub-SA_sess-{sess_name}_object_features.csv\"\n",
    "\n",
    "PRE_INTERVAL = 500\n",
    "POST_INTERVAL = 500\n",
    "INTERVAL_SIZE = 100\n",
    "SMOOTH = 1\n",
    "EVENT = \"StimOnset\""
   ]
  },
  {
   "cell_type": "markdown",
   "metadata": {},
   "source": [
    "### Generate balance correct vs incorrect subtrials"
   ]
  },
  {
   "cell_type": "code",
   "execution_count": 13,
   "metadata": {},
   "outputs": [],
   "source": [
    "SEED = 42\n",
    "def process_session(sess_name):\n",
    "    behavior_path = SESS_BEHAVIOR_PATH.format(sess_name=sess_name)\n",
    "    beh = pd.read_csv(behavior_path)\n",
    "\n",
    "    # filter trials \n",
    "    valid_beh = behavioral_utils.get_valid_trials(beh)\n",
    "    valid_beh = behavioral_utils.get_rpes_per_session(sess_name, valid_beh)\n",
    "    cor_beh = valid_beh[valid_beh.Response == \"Correct\"]\n",
    "    inc_beh = valid_beh[valid_beh.Response == \"Incorrect\"]\n",
    "\n",
    "    min_num_trials = np.min((len(cor_beh), len(inc_beh)))\n",
    "    cor_beh = cor_beh.sample(min_num_trials, random_state=SEED)\n",
    "    pos_med = cor_beh.RPE_FE.median()\n",
    "\n",
    "    inc_beh = inc_beh.sample(min_num_trials, random_state=SEED)\n",
    "    neg_med = inc_beh.RPE_FE.median()\n",
    "\n",
    "    valid_beh = pd.concat([cor_beh, inc_beh])\n",
    "\n",
    "    def add_group(row):\n",
    "        rpe = row.RPE_FE\n",
    "        group = None\n",
    "        if rpe < neg_med:\n",
    "            group = \"more neg\"\n",
    "        elif rpe >= neg_med and rpe < 0:\n",
    "            group = \"less neg\"\n",
    "        elif rpe >= 0 and rpe < pos_med:\n",
    "            group = \"less pos\"\n",
    "        elif rpe > pos_med:\n",
    "            group = \"more pos\"\n",
    "        row[\"RPEGroup\"] = group\n",
    "        return row\n",
    "    valid_beh = valid_beh.apply(add_group, axis=1)\n",
    "    valid_beh[\"session\"] = sess_name\n",
    "    return valid_beh"
   ]
  },
  {
   "cell_type": "code",
   "execution_count": 14,
   "metadata": {},
   "outputs": [],
   "source": [
    "valid_sess = pd.read_pickle(SESSIONS_PATH)\n",
    "all_trials = pd.concat(valid_sess.apply(lambda x: process_session(x.session_name), axis=1).values)"
   ]
  },
  {
   "cell_type": "code",
   "execution_count": 26,
   "metadata": {},
   "outputs": [],
   "source": [
    "all_trials[all_trials.RPEGroup == \"more pos\"].to_pickle(\"/data/patrick_res/more_pos_trials.pickle\")"
   ]
  },
  {
   "cell_type": "code",
   "execution_count": 9,
   "metadata": {},
   "outputs": [],
   "source": [
    "cor_bal_trials = all_trials[all_trials.Response == \"Correct\"]\n",
    "inc_bal_trials = all_trials[all_trials.Response == \"Incorrect\"]"
   ]
  },
  {
   "cell_type": "code",
   "execution_count": 10,
   "metadata": {},
   "outputs": [],
   "source": [
    "cor_bal_trials.to_pickle(\"/data/patrick_res/cor_bal_trials.pickle\")\n",
    "inc_bal_trials.to_pickle(\"/data/patrick_res/inc_bal_trials.pickle\")"
   ]
  },
  {
   "cell_type": "code",
   "execution_count": null,
   "metadata": {},
   "outputs": [],
   "source": []
  }
 ],
 "metadata": {
  "kernelspec": {
   "display_name": "Python 3",
   "language": "python",
   "name": "python3"
  },
  "language_info": {
   "codemirror_mode": {
    "name": "ipython",
    "version": 3
   },
   "file_extension": ".py",
   "mimetype": "text/x-python",
   "name": "python",
   "nbconvert_exporter": "python",
   "pygments_lexer": "ipython3",
   "version": "3.10.6"
  }
 },
 "nbformat": 4,
 "nbformat_minor": 2
}
