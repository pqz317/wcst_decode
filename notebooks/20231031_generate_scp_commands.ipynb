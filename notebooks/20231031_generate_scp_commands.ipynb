{
 "cells": [
  {
   "cell_type": "code",
   "execution_count": 1,
   "metadata": {},
   "outputs": [],
   "source": [
    "import utils.behavioral_utils as behavioral_utils\n",
    "import utils.information_utils as information_utils\n",
    "import utils.io_utils as io_utils\n",
    "import pandas as pd"
   ]
  },
  {
   "cell_type": "code",
   "execution_count": 2,
   "metadata": {},
   "outputs": [],
   "source": [
    "EVENT = \"FeedbackOnset\"  # event in behavior to align on\n",
    "PRE_INTERVAL = 1300   # time in ms before event\n",
    "POST_INTERVAL = 1500  # time in ms after event\n",
    "INTERVAL_SIZE = 100  # size of interval in ms\n",
    "NUM_BINS_SMOOTH = 1\n",
    "\n",
    "SESSIONS_PATH = \"/data/patrick_res/multi_sess/valid_sessions_rpe.pickle\"\n",
    "\n",
    "# path for each session, specifying behavior\n",
    "SESS_BEHAVIOR_PATH = \"/mnt/U19_NAS/rawdata/sub-SA/sess-{sess_name}/behavior/sub-SA_sess-{sess_name}_object_features.csv\"\n",
    "# path for each session, for spikes that have been pre-aligned to event time and binned. \n",
    "SESS_SPIKES_PATH = \"/mnt/U19_NAS/patrick_res/multi_sess/{sess_name}/{sess_name}_firing_rates_{pre_interval}_{event}_{post_interval}_{interval_size}_bins_{num_bins_smooth}_smooth.pickle\""
   ]
  },
  {
   "cell_type": "code",
   "execution_count": 3,
   "metadata": {},
   "outputs": [],
   "source": [
    "SESSIONS_PATH = \"/data/patrick_res/multi_sess/valid_sessions_rpe.pickle\"\n",
    "sess = pd.read_pickle(SESSIONS_PATH)"
   ]
  },
  {
   "cell_type": "code",
   "execution_count": 5,
   "metadata": {},
   "outputs": [
    {
     "name": "stdout",
     "output_type": "stream",
     "text": [
      " /mnt/U19_NAS/rawdata/sub-SA/sess-20180709/behavior/sub-SA_sess-20180709_object_features.csv /mnt/U19_NAS/rawdata/sub-SA/sess-20180920/behavior/sub-SA_sess-20180920_object_features.csv /mnt/U19_NAS/rawdata/sub-SA/sess-20180918/behavior/sub-SA_sess-20180918_object_features.csv /mnt/U19_NAS/rawdata/sub-SA/sess-20180912/behavior/sub-SA_sess-20180912_object_features.csv /mnt/U19_NAS/rawdata/sub-SA/sess-20181008/behavior/sub-SA_sess-20181008_object_features.csv /mnt/U19_NAS/rawdata/sub-SA/sess-20181002/behavior/sub-SA_sess-20181002_object_features.csv /mnt/U19_NAS/rawdata/sub-SA/sess-20180806/behavior/sub-SA_sess-20180806_object_features.csv /mnt/U19_NAS/rawdata/sub-SA/sess-20180801/behavior/sub-SA_sess-20180801_object_features.csv /mnt/U19_NAS/rawdata/sub-SA/sess-20181005/behavior/sub-SA_sess-20181005_object_features.csv /mnt/U19_NAS/rawdata/sub-SA/sess-201807250001/behavior/sub-SA_sess-201807250001_object_features.csv /mnt/U19_NAS/rawdata/sub-SA/sess-20181001/behavior/sub-SA_sess-20181001_object_features.csv /mnt/U19_NAS/rawdata/sub-SA/sess-20180802/behavior/sub-SA_sess-20180802_object_features.csv /mnt/U19_NAS/rawdata/sub-SA/sess-20180808/behavior/sub-SA_sess-20180808_object_features.csv /mnt/U19_NAS/rawdata/sub-SA/sess-20180924/behavior/sub-SA_sess-20180924_object_features.csv /mnt/U19_NAS/rawdata/sub-SA/sess-20180926/behavior/sub-SA_sess-20180926_object_features.csv /mnt/U19_NAS/rawdata/sub-SA/sess-20180705/behavior/sub-SA_sess-20180705_object_features.csv /mnt/U19_NAS/rawdata/sub-SA/sess-20181004/behavior/sub-SA_sess-20181004_object_features.csv /mnt/U19_NAS/rawdata/sub-SA/sess-20181003/behavior/sub-SA_sess-20181003_object_features.csv /mnt/U19_NAS/rawdata/sub-SA/sess-20181009/behavior/sub-SA_sess-20181009_object_features.csv /mnt/U19_NAS/rawdata/sub-SA/sess-20181010/behavior/sub-SA_sess-20181010_object_features.csv /mnt/U19_NAS/rawdata/sub-SA/sess-20180921/behavior/sub-SA_sess-20180921_object_features.csv /mnt/U19_NAS/rawdata/sub-SA/sess-20180917/behavior/sub-SA_sess-20180917_object_features.csv /mnt/U19_NAS/rawdata/sub-SA/sess-20180925/behavior/sub-SA_sess-20180925_object_features.csv /mnt/U19_NAS/rawdata/sub-SA/sess-20180803/behavior/sub-SA_sess-20180803_object_features.csv /mnt/U19_NAS/rawdata/sub-SA/sess-20180712/behavior/sub-SA_sess-20180712_object_features.csv /mnt/U19_NAS/rawdata/sub-SA/sess-20180928/behavior/sub-SA_sess-20180928_object_features.csv /mnt/U19_NAS/rawdata/sub-SA/sess-20180910/behavior/sub-SA_sess-20180910_object_features.csv\n"
     ]
    }
   ],
   "source": [
    "sess_names = sess.session_name.values\n",
    "path_str = \"\"\n",
    "for sess_name in sess_names:\n",
    "    path_str = path_str + \" \" + (SESS_BEHAVIOR_PATH.format(sess_name=sess_name))\n",
    "print(path_str)"
   ]
  },
  {
   "cell_type": "code",
   "execution_count": 6,
   "metadata": {},
   "outputs": [
    {
     "name": "stdout",
     "output_type": "stream",
     "text": [
      " /mnt/U19_NAS/patrick_res/multi_sess/20180709/20180709_firing_rates_1300_FeedbackOnset_1500_100_bins_1_smooth.pickle /mnt/U19_NAS/patrick_res/multi_sess/20180920/20180920_firing_rates_1300_FeedbackOnset_1500_100_bins_1_smooth.pickle /mnt/U19_NAS/patrick_res/multi_sess/20180918/20180918_firing_rates_1300_FeedbackOnset_1500_100_bins_1_smooth.pickle /mnt/U19_NAS/patrick_res/multi_sess/20180912/20180912_firing_rates_1300_FeedbackOnset_1500_100_bins_1_smooth.pickle /mnt/U19_NAS/patrick_res/multi_sess/20181008/20181008_firing_rates_1300_FeedbackOnset_1500_100_bins_1_smooth.pickle /mnt/U19_NAS/patrick_res/multi_sess/20181002/20181002_firing_rates_1300_FeedbackOnset_1500_100_bins_1_smooth.pickle /mnt/U19_NAS/patrick_res/multi_sess/20180806/20180806_firing_rates_1300_FeedbackOnset_1500_100_bins_1_smooth.pickle /mnt/U19_NAS/patrick_res/multi_sess/20180801/20180801_firing_rates_1300_FeedbackOnset_1500_100_bins_1_smooth.pickle /mnt/U19_NAS/patrick_res/multi_sess/20181005/20181005_firing_rates_1300_FeedbackOnset_1500_100_bins_1_smooth.pickle /mnt/U19_NAS/patrick_res/multi_sess/201807250001/201807250001_firing_rates_1300_FeedbackOnset_1500_100_bins_1_smooth.pickle /mnt/U19_NAS/patrick_res/multi_sess/20181001/20181001_firing_rates_1300_FeedbackOnset_1500_100_bins_1_smooth.pickle /mnt/U19_NAS/patrick_res/multi_sess/20180802/20180802_firing_rates_1300_FeedbackOnset_1500_100_bins_1_smooth.pickle /mnt/U19_NAS/patrick_res/multi_sess/20180808/20180808_firing_rates_1300_FeedbackOnset_1500_100_bins_1_smooth.pickle /mnt/U19_NAS/patrick_res/multi_sess/20180924/20180924_firing_rates_1300_FeedbackOnset_1500_100_bins_1_smooth.pickle /mnt/U19_NAS/patrick_res/multi_sess/20180926/20180926_firing_rates_1300_FeedbackOnset_1500_100_bins_1_smooth.pickle /mnt/U19_NAS/patrick_res/multi_sess/20180705/20180705_firing_rates_1300_FeedbackOnset_1500_100_bins_1_smooth.pickle /mnt/U19_NAS/patrick_res/multi_sess/20181004/20181004_firing_rates_1300_FeedbackOnset_1500_100_bins_1_smooth.pickle /mnt/U19_NAS/patrick_res/multi_sess/20181003/20181003_firing_rates_1300_FeedbackOnset_1500_100_bins_1_smooth.pickle /mnt/U19_NAS/patrick_res/multi_sess/20181009/20181009_firing_rates_1300_FeedbackOnset_1500_100_bins_1_smooth.pickle /mnt/U19_NAS/patrick_res/multi_sess/20181010/20181010_firing_rates_1300_FeedbackOnset_1500_100_bins_1_smooth.pickle /mnt/U19_NAS/patrick_res/multi_sess/20180921/20180921_firing_rates_1300_FeedbackOnset_1500_100_bins_1_smooth.pickle /mnt/U19_NAS/patrick_res/multi_sess/20180917/20180917_firing_rates_1300_FeedbackOnset_1500_100_bins_1_smooth.pickle /mnt/U19_NAS/patrick_res/multi_sess/20180925/20180925_firing_rates_1300_FeedbackOnset_1500_100_bins_1_smooth.pickle /mnt/U19_NAS/patrick_res/multi_sess/20180803/20180803_firing_rates_1300_FeedbackOnset_1500_100_bins_1_smooth.pickle /mnt/U19_NAS/patrick_res/multi_sess/20180712/20180712_firing_rates_1300_FeedbackOnset_1500_100_bins_1_smooth.pickle /mnt/U19_NAS/patrick_res/multi_sess/20180928/20180928_firing_rates_1300_FeedbackOnset_1500_100_bins_1_smooth.pickle /mnt/U19_NAS/patrick_res/multi_sess/20180910/20180910_firing_rates_1300_FeedbackOnset_1500_100_bins_1_smooth.pickle\n"
     ]
    }
   ],
   "source": [
    "path_str = \"\"\n",
    "for sess_name in sess_names:\n",
    "    path = SESS_SPIKES_PATH.format(\n",
    "        sess_name=sess_name, \n",
    "        pre_interval=PRE_INTERVAL, \n",
    "        event=EVENT, \n",
    "        post_interval=POST_INTERVAL, \n",
    "        interval_size=INTERVAL_SIZE,\n",
    "        num_bins_smooth=NUM_BINS_SMOOTH,\n",
    "    )\n",
    "    path_str = path_str + \" \" + path\n",
    "print(path_str)"
   ]
  },
  {
   "cell_type": "code",
   "execution_count": null,
   "metadata": {},
   "outputs": [],
   "source": []
  }
 ],
 "metadata": {
  "kernelspec": {
   "display_name": "Python 3",
   "language": "python",
   "name": "python3"
  },
  "language_info": {
   "codemirror_mode": {
    "name": "ipython",
    "version": 3
   },
   "file_extension": ".py",
   "mimetype": "text/x-python",
   "name": "python",
   "nbconvert_exporter": "python",
   "pygments_lexer": "ipython3",
   "version": "3.10.6"
  }
 },
 "nbformat": 4,
 "nbformat_minor": 2
}
