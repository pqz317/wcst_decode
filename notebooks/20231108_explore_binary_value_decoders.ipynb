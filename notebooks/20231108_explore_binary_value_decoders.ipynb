{
 "cells": [
  {
   "cell_type": "code",
   "execution_count": 4,
   "metadata": {},
   "outputs": [
    {
     "name": "stdout",
     "output_type": "stream",
     "text": [
      "The autoreload extension is already loaded. To reload it, use:\n",
      "  %reload_ext autoreload\n"
     ]
    }
   ],
   "source": [
    "%load_ext autoreload\n",
    "%autoreload 2\n",
    "\n",
    "import numpy as np\n",
    "import matplotlib.pyplot as plt\n",
    "import pandas as pd\n",
    "\n",
    "import utils.spike_utils as spike_utils\n",
    "import utils.classifier_utils as classifier_utils\n",
    "import utils.visualization_utils as visualization_utils\n",
    "import utils.behavioral_utils as behavioral_utils\n",
    "\n",
    "import os\n",
    "import pandas as pd\n",
    "import matplotlib\n",
    "\n",
    "from sklearn.linear_model import LinearRegression\n",
    "\n",
    "EVENT = \"FeedbackOnset\"  # event in behavior to align on\n",
    "PRE_INTERVAL = 1300   # time in ms before event\n",
    "POST_INTERVAL = 1500  # time in ms after event\n",
    "INTERVAL_SIZE = 100  # size of interval in ms\n",
    "\n",
    "SESS_BEHAVIOR_PATH = \"/data/rawdata/sub-SA/sess-{sess_name}/behavior/sub-SA_sess-{sess_name}_object_features.csv\"\n",
    "SESS_SPIKES_PATH = \"/data/patrick_res/firing_rates/{sess_name}_firing_rates_{pre_interval}_{event}_{post_interval}_{interval_size}_bins_1_smooth.pickle\"\n",
    "SESSIONS_PATH = \"/data/patrick_res/sessions/valid_sessions_rpe.pickle\"\n",
    "\n",
    "feature_dims = [\"Color\", \"Shape\", \"Pattern\"]\n",
    "\n",
    "rule_to_dim = {\n",
    "    'CIRCLE': 'Shape', \n",
    "    'SQUARE': 'Shape', \n",
    "    'STAR': 'Shape', \n",
    "    'TRIANGLE': 'Shape', \n",
    "    'CYAN': 'Color', \n",
    "    'GREEN': 'Color', \n",
    "    'MAGENTA': 'Color', \n",
    "    'YELLOW': 'Color', \n",
    "    'ESCHER': 'Pattern', \n",
    "    'POLKADOT': 'Pattern', \n",
    "    'RIPPLE': 'Pattern', \n",
    "    'SWIRL': 'Pattern'\n",
    "}"
   ]
  },
  {
   "cell_type": "code",
   "execution_count": 5,
   "metadata": {},
   "outputs": [],
   "source": [
    "session = \"20180709\"\n",
    "model_path = f\"/data/082023_Feat_RLDE_HV/sess-{session}_hv.csv\"\n",
    "model_vals = pd.read_csv(model_path)\n",
    "feat_names = np.array([\n",
    "    'CIRCLE', 'SQUARE', 'STAR', 'TRIANGLE', \n",
    "    'CYAN', 'GREEN', 'MAGENTA', 'YELLOW', \n",
    "    'ESCHER', 'POLKADOT', 'RIPPLE', 'SWIRL'\n",
    "])\n",
    "renames = {}\n",
    "for i, feat_name in enumerate(feat_names):\n",
    "    renames[f\"feat_{i}\"] = feat_name\n",
    "model_vals = model_vals.rename(columns=renames)"
   ]
  },
  {
   "cell_type": "code",
   "execution_count": 6,
   "metadata": {},
   "outputs": [],
   "source": [
    "behavior_path = SESS_BEHAVIOR_PATH.format(sess_name=session)\n",
    "beh = pd.read_csv(behavior_path)\n",
    "# filter trials \n",
    "valid_beh = behavioral_utils.get_valid_trials(beh)\n",
    "spikes_path = SESS_SPIKES_PATH.format(\n",
    "    sess_name=session, \n",
    "    pre_interval=PRE_INTERVAL, \n",
    "    event=EVENT, \n",
    "    post_interval=POST_INTERVAL, \n",
    "    interval_size=INTERVAL_SIZE\n",
    ")\n",
    "frs = pd.read_pickle(spikes_path)\n",
    "\n",
    "# grab the features of the selected card\n",
    "feature_selections = behavioral_utils.get_selection_features(valid_beh)\n",
    "valid_beh = pd.merge(valid_beh, feature_selections, on=\"TrialNumber\", how=\"inner\")\n",
    "valid_beh_vals = pd.merge(valid_beh, model_vals, left_on=\"TrialNumber\", right_on=\"trial\", how=\"inner\")\n",
    "assert(len(valid_beh_vals) == len(valid_beh))"
   ]
  },
  {
   "cell_type": "code",
   "execution_count": 7,
   "metadata": {},
   "outputs": [],
   "source": [
    "def get_highest_val_feat(row):\n",
    "    color = row[\"Color\"]\n",
    "    shape = row[\"Shape\"]\n",
    "    pattern = row[\"Pattern\"]\n",
    "    vals = {color: row[color], shape: row[shape], pattern: row[pattern]}\n",
    "    max_feat = max(zip(vals.values(), vals.keys()))[1]\n",
    "    row[\"MaxFeat\"] = max_feat\n",
    "    row[\"MaxFeatDim\"] = rule_to_dim[max_feat]\n",
    "    return row\n",
    "valid_beh_max = valid_beh_vals.apply(get_highest_val_feat, axis=1)\n"
   ]
  },
  {
   "cell_type": "code",
   "execution_count": 8,
   "metadata": {},
   "outputs": [],
   "source": [
    "def check_session(row):\n",
    "    session = row.session_name\n",
    "    model_path = f\"/data/082023_Feat_RLDE_HV/sess-{session}_hv.csv\"\n",
    "    model_vals = pd.read_csv(model_path)\n",
    "    feat_names = np.array([\n",
    "        'CIRCLE', 'SQUARE', 'STAR', 'TRIANGLE', \n",
    "        'CYAN', 'GREEN', 'MAGENTA', 'YELLOW', \n",
    "        'ESCHER', 'POLKADOT', 'RIPPLE', 'SWIRL'\n",
    "    ])\n",
    "    renames = {}\n",
    "    for i, feat_name in enumerate(feat_names):\n",
    "        renames[f\"feat_{i}\"] = feat_name\n",
    "    model_vals = model_vals.rename(columns=renames)\n",
    "    behavior_path = SESS_BEHAVIOR_PATH.format(sess_name=session)\n",
    "    beh = pd.read_csv(behavior_path)\n",
    "    # filter trials \n",
    "    valid_beh = behavioral_utils.get_valid_trials(beh)\n",
    "\n",
    "    # grab the features of the selected card\n",
    "    feature_selections = behavioral_utils.get_selection_features(valid_beh)\n",
    "    valid_beh = pd.merge(valid_beh, feature_selections, on=\"TrialNumber\", how=\"inner\")\n",
    "    valid_beh_vals = pd.merge(valid_beh, model_vals, left_on=\"TrialNumber\", right_on=\"trial\", how=\"inner\")\n",
    "    assert(len(valid_beh_vals) == len(valid_beh))\n",
    "    def get_highest_val_feat(row):\n",
    "        color = row[\"Color\"]\n",
    "        shape = row[\"Shape\"]\n",
    "        pattern = row[\"Pattern\"]\n",
    "        vals = {color: row[color], shape: row[shape], pattern: row[pattern]}\n",
    "        max_feat = max(zip(vals.values(), vals.keys()))[1]\n",
    "        row[\"MaxFeat\"] = max_feat\n",
    "        row[\"MaxFeatDim\"] = rule_to_dim[max_feat]\n",
    "        return row\n",
    "    valid_beh_max = valid_beh_vals.apply(get_highest_val_feat, axis=1)\n",
    "    has_12 = len(valid_beh_max.MaxFeat.unique()) == 12\n",
    "    enough_per_feat = np.all(valid_beh_max.groupby(\"MaxFeat\").count().TrialNumber >= 15)    \n",
    "    row[\"enough_data\"] = has_12 and enough_per_feat\n",
    "    return row"
   ]
  },
  {
   "cell_type": "code",
   "execution_count": 9,
   "metadata": {},
   "outputs": [],
   "source": [
    "sessions = pd.read_pickle(SESSIONS_PATH)\n",
    "valid_session = sessions.apply(check_session, axis=1)"
   ]
  },
  {
   "cell_type": "code",
   "execution_count": 10,
   "metadata": {},
   "outputs": [
    {
     "data": {
      "text/plain": [
       "27"
      ]
     },
     "execution_count": 10,
     "metadata": {},
     "output_type": "execute_result"
    }
   ],
   "source": [
    "len(valid_session)"
   ]
  },
  {
   "cell_type": "code",
   "execution_count": null,
   "metadata": {},
   "outputs": [],
   "source": []
  }
 ],
 "metadata": {
  "kernelspec": {
   "display_name": "Python 3",
   "language": "python",
   "name": "python3"
  },
  "language_info": {
   "codemirror_mode": {
    "name": "ipython",
    "version": 3
   },
   "file_extension": ".py",
   "mimetype": "text/x-python",
   "name": "python",
   "nbconvert_exporter": "python",
   "pygments_lexer": "ipython3",
   "version": "3.10.6"
  }
 },
 "nbformat": 4,
 "nbformat_minor": 2
}
