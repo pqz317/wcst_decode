{
 "cells": [
  {
   "cell_type": "code",
   "execution_count": 1,
   "metadata": {},
   "outputs": [],
   "source": [
    "%load_ext autoreload\n",
    "%autoreload 2\n",
    "\n",
    "import os\n",
    "import numpy as np\n",
    "import pandas as pd\n",
    "import utils.behavioral_utils as behavioral_utils\n",
    "import utils.information_utils as information_utils\n",
    "import utils.visualization_utils as visualization_utils\n",
    "import utils.pseudo_classifier_utils as pseudo_classifier_utils\n",
    "import utils.classifier_utils as classifier_utils\n",
    "\n",
    "import utils.io_utils as io_utils\n",
    "\n",
    "import utils.glm_utils as glm_utils\n",
    "from matplotlib import pyplot as plt\n",
    "import matplotlib\n",
    "import utils.spike_utils as spike_utils\n",
    "import utils.subspace_utils as subspace_utils\n",
    "import utils.anova_utils as anova_utils\n",
    "from trial_splitters.condition_trial_splitter import ConditionTrialSplitter \n",
    "from utils.session_data import SessionData\n",
    "from constants.behavioral_constants import *\n",
    "from constants.decoding_constants import *\n",
    "import seaborn as sns\n",
    "from scripts.anova_analysis.anova_configs import *\n",
    "from scripts.anova_analysis.run_anova import load_data\n",
    "import scipy\n",
    "import argparse\n",
    "import copy\n",
    "from spike_tools import (\n",
    "    general as spike_general,\n",
    "    analysis as spike_analysis,\n",
    ")\n",
    "import itertools\n",
    "\n",
    "from scripts.pseudo_decoding.belief_partitions.belief_partition_configs import *\n",
    "import scripts.pseudo_decoding.belief_partitions.belief_partitions_io as belief_partitions_io\n",
    "\n",
    "import scipy\n",
    "import argparse\n",
    "import copy\n",
    "\n",
    "from tqdm import tqdm"
   ]
  },
  {
   "cell_type": "code",
   "execution_count": 2,
   "metadata": {},
   "outputs": [],
   "source": [
    "# pass in time bins we'd like to analyze\n",
    "\n",
    "# per feature, grab sessions that satisfy\n",
    "# when loading beh, grab next trial number with shift\n",
    "\n",
    "# neural activity of next trial number, current trial number\n",
    "# compute projection per trial (averaged across time bins)\n"
   ]
  },
  {
   "cell_type": "code",
   "execution_count": 78,
   "metadata": {},
   "outputs": [],
   "source": [
    "\n"
   ]
  },
  {
   "cell_type": "code",
   "execution_count": 3,
   "metadata": {},
   "outputs": [],
   "source": [
    "# need to go in direction of high not X to high X\n",
    "high_idx = MODE_TO_CLASSES[\"pref\"].index(\"High X\")\n",
    "low_idx = MODE_TO_CLASSES[\"pref\"].index(\"High Not X\")\n",
    "\n",
    "def load_pref_vector(args):\n",
    "    models = belief_partitions_io.read_models(args, [args.feat])\n",
    "    unit_ids = belief_partitions_io.read_units(args, [args.feat])\n",
    "    models[\"weightsdiff\"] = models.apply(lambda x: x.models.coef_[high_idx, :] - x.models.coef_[low_idx, :], axis=1)\n",
    "    models[\"batch_mean\"] = models.apply(lambda x: x.models.model.norm.running_mean.detach().cpu().numpy(), axis=1)\n",
    "    models[\"batch_std\"] = models.apply(lambda x: np.sqrt(x.models.model.norm.running_var.detach().cpu().numpy() + 1e-5), axis=1)\n",
    "\n",
    "    def avg_and_label(x):\n",
    "        weights_diff_means = np.mean(np.vstack(x.weightsdiff.values), axis=0)\n",
    "        mean_means = np.mean(np.vstack(x.batch_mean.values), axis=0)\n",
    "        std_means = np.mean(np.vstack(x.batch_std.values), axis=0)\n",
    "        pos = np.arange(len(weights_diff_means))\n",
    "        \n",
    "        return pd.DataFrame({\"pos\": pos, \"weightsdiff\": weights_diff_means, \"mean\": mean_means, \"std\": std_means})\n",
    "    weights = models.groupby([\"Time\", \"feat\"]).apply(avg_and_label).reset_index()\n",
    "    weights = pd.merge(weights, unit_ids, on=[\"feat\", \"pos\"])\n",
    "    # weights times are right aligned, but firing rates are left-aligned... \n",
    "    # at some point need to reconcile the two\n",
    "    weights[\"TimeIdx\"] = ((weights[\"Time\"] - 0.1) * 10).round().astype(int)\n",
    "    return weights\n",
    "\n",
    "def get_proj_pseudo_for_session(session, args, num_pseudo=1000):\n",
    "    beh = behavioral_utils.load_behavior_from_args(session, args)\n",
    "    beh[\"NextTrialNumber\"] = beh.shift(-1).TrialNumber\n",
    "    beh = beh[~beh.NextTrialNumber.isna()]\n",
    "    beh[\"NextTrialNumber\"] = beh.NextTrialNumber.astype(int)\n",
    "    beh = behavioral_utils.get_feat_choice_label(beh, args.feat)\n",
    "    beh = behavioral_utils.get_belief_partitions(beh, args.feat, use_x=True)\n",
    "\n",
    "    beh = behavioral_utils.filter_behavior(beh, args.conditions)\n",
    "\n",
    "    frs = spike_utils.get_frs_from_args(args, session)\n",
    "    frs[\"TimeIdx\"] = (frs[\"Time\"] * 10).round().astype(int)\n",
    "    fr_w_next = pd.merge(frs, beh[[\"TrialNumber\", \"NextTrialNumber\"]], on=\"TrialNumber\")\n",
    "    fr_w_next = pd.merge(fr_w_next, frs, left_on=[\"NextTrialNumber\", \"PseudoUnitID\", \"TimeIdx\"], right_on=[\"TrialNumber\", \"PseudoUnitID\", \"TimeIdx\"], suffixes=[None, \"Next\"])\n",
    "    fr_w_next[\"FiringRateDiff\"] = fr_w_next[\"FiringRateNext\"] - fr_w_next[\"FiringRate\"]\n",
    "    fr_diffs = fr_w_next[[\"TrialNumber\", \"PseudoUnitID\", \"TimeIdx\", \"FiringRateDiff\"]]\n",
    "\n",
    "\n",
    "    model_args = copy.deepcopy(args)\n",
    "    # ensure models are not from shuffles\n",
    "    model_args.shuffle_idx = None\n",
    "    weights = load_pref_vector(model_args)\n",
    "    proj = pd.merge(fr_diffs, weights, on=[\"PseudoUnitID\", \"TimeIdx\"])\n",
    "\n",
    "    def compute_dot(group):\n",
    "        # currently using variance found from batch norm layer\n",
    "        return (group.FiringRateDiff / group[\"std\"] * group.weightsdiff).sum()\n",
    "\n",
    "    proj = proj.groupby([\"TimeIdx\", \"TrialNumber\"]).apply(compute_dot).reset_index(name=\"proj\")\n",
    "    rng = np.random.default_rng()\n",
    "    trial_nums = rng.choice(proj.TrialNumber.unique(), num_pseudo)\n",
    "    pseudo_trials = pd.DataFrame({\"TrialNumber\": trial_nums, \"PseudoTrialNumber\": list(range(num_pseudo))})\n",
    "    proj_pseudo = pd.merge(proj, pseudo_trials, on=\"TrialNumber\")\n",
    "    proj_pseudo[\"session\"] = session\n",
    "\n",
    "    return proj_pseudo\n",
    "\n",
    "def proj_all_sessions(args, sessions): \n",
    "    res = []\n",
    "    for session in tqdm(sessions):\n",
    "        res.append(get_proj_pseudo_for_session(session, args))\n",
    "    res = pd.concat(res)\n",
    "    summed_proj = res.groupby([\"TimeIdx\", \"PseudoTrialNumber\"]).proj.sum().reset_index(name=\"proj\")\n",
    "    return summed_proj"
   ]
  },
  {
   "cell_type": "code",
   "execution_count": 6,
   "metadata": {},
   "outputs": [
    {
     "name": "stderr",
     "output_type": "stream",
     "text": [
      "  0%|          | 0/22 [00:00<?, ?it/s]"
     ]
    },
    {
     "name": "stderr",
     "output_type": "stream",
     "text": [
      "100%|██████████| 22/22 [00:23<00:00,  1.09s/it]\n",
      "  0%|          | 0/22 [00:00<?, ?it/s]"
     ]
    },
    {
     "name": "stdout",
     "output_type": "stream",
     "text": [
      "Session permutation shuffle set, randomly choosing from 21 other sessions\n"
     ]
    },
    {
     "name": "stderr",
     "output_type": "stream",
     "text": [
      "  5%|▍         | 1/22 [00:00<00:11,  1.75it/s]"
     ]
    },
    {
     "name": "stdout",
     "output_type": "stream",
     "text": [
      "Session permutation shuffle set, randomly choosing from 21 other sessions\n"
     ]
    },
    {
     "name": "stderr",
     "output_type": "stream",
     "text": [
      "  9%|▉         | 2/22 [00:01<00:15,  1.29it/s]"
     ]
    },
    {
     "name": "stdout",
     "output_type": "stream",
     "text": [
      "Session permutation shuffle set, randomly choosing from 21 other sessions\n"
     ]
    },
    {
     "name": "stderr",
     "output_type": "stream",
     "text": [
      " 14%|█▎        | 3/22 [00:02<00:15,  1.23it/s]"
     ]
    },
    {
     "name": "stdout",
     "output_type": "stream",
     "text": [
      "Session permutation shuffle set, randomly choosing from 21 other sessions\n"
     ]
    },
    {
     "name": "stderr",
     "output_type": "stream",
     "text": [
      " 18%|█▊        | 4/22 [00:03<00:19,  1.08s/it]"
     ]
    },
    {
     "name": "stdout",
     "output_type": "stream",
     "text": [
      "Session permutation shuffle set, randomly choosing from 21 other sessions\n"
     ]
    },
    {
     "name": "stderr",
     "output_type": "stream",
     "text": [
      " 23%|██▎       | 5/22 [00:05<00:19,  1.13s/it]"
     ]
    },
    {
     "name": "stdout",
     "output_type": "stream",
     "text": [
      "Session permutation shuffle set, randomly choosing from 21 other sessions\n"
     ]
    },
    {
     "name": "stderr",
     "output_type": "stream",
     "text": [
      " 27%|██▋       | 6/22 [00:06<00:17,  1.10s/it]"
     ]
    },
    {
     "name": "stdout",
     "output_type": "stream",
     "text": [
      "Session permutation shuffle set, randomly choosing from 21 other sessions\n"
     ]
    },
    {
     "name": "stderr",
     "output_type": "stream",
     "text": [
      " 32%|███▏      | 7/22 [00:07<00:16,  1.10s/it]"
     ]
    },
    {
     "name": "stdout",
     "output_type": "stream",
     "text": [
      "Session permutation shuffle set, randomly choosing from 21 other sessions\n"
     ]
    },
    {
     "name": "stderr",
     "output_type": "stream",
     "text": [
      " 36%|███▋      | 8/22 [00:08<00:14,  1.02s/it]"
     ]
    },
    {
     "name": "stdout",
     "output_type": "stream",
     "text": [
      "Session permutation shuffle set, randomly choosing from 21 other sessions\n"
     ]
    },
    {
     "name": "stderr",
     "output_type": "stream",
     "text": [
      " 41%|████      | 9/22 [00:09<00:13,  1.06s/it]"
     ]
    },
    {
     "name": "stdout",
     "output_type": "stream",
     "text": [
      "Session permutation shuffle set, randomly choosing from 21 other sessions\n"
     ]
    },
    {
     "name": "stderr",
     "output_type": "stream",
     "text": [
      " 45%|████▌     | 10/22 [00:10<00:13,  1.13s/it]"
     ]
    },
    {
     "name": "stdout",
     "output_type": "stream",
     "text": [
      "Session permutation shuffle set, randomly choosing from 21 other sessions\n"
     ]
    },
    {
     "name": "stderr",
     "output_type": "stream",
     "text": [
      " 50%|█████     | 11/22 [00:11<00:12,  1.10s/it]"
     ]
    },
    {
     "name": "stdout",
     "output_type": "stream",
     "text": [
      "Session permutation shuffle set, randomly choosing from 21 other sessions\n"
     ]
    },
    {
     "name": "stderr",
     "output_type": "stream",
     "text": [
      " 55%|█████▍    | 12/22 [00:12<00:11,  1.14s/it]"
     ]
    },
    {
     "name": "stdout",
     "output_type": "stream",
     "text": [
      "Session permutation shuffle set, randomly choosing from 21 other sessions\n"
     ]
    },
    {
     "name": "stderr",
     "output_type": "stream",
     "text": [
      " 59%|█████▉    | 13/22 [00:13<00:09,  1.11s/it]"
     ]
    },
    {
     "name": "stdout",
     "output_type": "stream",
     "text": [
      "Session permutation shuffle set, randomly choosing from 21 other sessions\n"
     ]
    },
    {
     "name": "stderr",
     "output_type": "stream",
     "text": [
      " 64%|██████▎   | 14/22 [00:14<00:08,  1.08s/it]"
     ]
    },
    {
     "name": "stdout",
     "output_type": "stream",
     "text": [
      "Session permutation shuffle set, randomly choosing from 21 other sessions\n"
     ]
    },
    {
     "name": "stderr",
     "output_type": "stream",
     "text": [
      " 68%|██████▊   | 15/22 [00:15<00:07,  1.08s/it]"
     ]
    },
    {
     "name": "stdout",
     "output_type": "stream",
     "text": [
      "Session permutation shuffle set, randomly choosing from 21 other sessions\n"
     ]
    },
    {
     "name": "stderr",
     "output_type": "stream",
     "text": [
      " 73%|███████▎  | 16/22 [00:17<00:06,  1.15s/it]"
     ]
    },
    {
     "name": "stdout",
     "output_type": "stream",
     "text": [
      "Session permutation shuffle set, randomly choosing from 21 other sessions\n"
     ]
    },
    {
     "name": "stderr",
     "output_type": "stream",
     "text": [
      " 77%|███████▋  | 17/22 [00:18<00:05,  1.16s/it]"
     ]
    },
    {
     "name": "stdout",
     "output_type": "stream",
     "text": [
      "Session permutation shuffle set, randomly choosing from 21 other sessions\n"
     ]
    },
    {
     "name": "stderr",
     "output_type": "stream",
     "text": [
      " 82%|████████▏ | 18/22 [00:19<00:04,  1.20s/it]"
     ]
    },
    {
     "name": "stdout",
     "output_type": "stream",
     "text": [
      "Session permutation shuffle set, randomly choosing from 21 other sessions\n"
     ]
    },
    {
     "name": "stderr",
     "output_type": "stream",
     "text": [
      " 86%|████████▋ | 19/22 [00:20<00:03,  1.16s/it]"
     ]
    },
    {
     "name": "stdout",
     "output_type": "stream",
     "text": [
      "Session permutation shuffle set, randomly choosing from 21 other sessions\n"
     ]
    },
    {
     "name": "stderr",
     "output_type": "stream",
     "text": [
      " 91%|█████████ | 20/22 [00:21<00:02,  1.16s/it]"
     ]
    },
    {
     "name": "stdout",
     "output_type": "stream",
     "text": [
      "Session permutation shuffle set, randomly choosing from 21 other sessions\n"
     ]
    },
    {
     "name": "stderr",
     "output_type": "stream",
     "text": [
      " 95%|█████████▌| 21/22 [00:22<00:01,  1.04s/it]"
     ]
    },
    {
     "name": "stdout",
     "output_type": "stream",
     "text": [
      "Session permutation shuffle set, randomly choosing from 21 other sessions\n"
     ]
    },
    {
     "name": "stderr",
     "output_type": "stream",
     "text": [
      "100%|██████████| 22/22 [00:23<00:00,  1.09s/it]\n"
     ]
    }
   ],
   "source": [
    "args = argparse.Namespace(\n",
    "    **BeliefPartitionConfigs()._asdict()\n",
    ")\n",
    "args.beh_filters = {\"Response\": \"Correct\", \"Choice\": \"Chose\"}\n",
    "args.shuffle_method = \"session_permute\"\n",
    "args.subject = \"SA\"\n",
    "args.sig_unit_level = \"pref_99th_window_filter_drift\"\n",
    "\n",
    "# args.conditions = {\"Response\": \"Correct\", \"Choice\": \"Chose\", \"BeliefPartition\": \"Low\"}\n",
    "# args.conditions = {\"Response\": \"Incorrect\", \"Choice\": \"Chose\", \"BeliefPartition\": \"High X\"}\n",
    "# args.conditions = {\"Response\": \"Incorrect\", \"Choice\": \"Chose\"}\n",
    "args.conditions = {\"Response\": \"Correct\", \"Choice\": \"Chose\"}\n",
    "\n",
    "args.mode = \"pref\"\n",
    "args.trial_interval = get_trial_interval(args.trial_event)\n",
    "\n",
    "feats = pd.read_pickle(FEATS_PATH.format(sub=\"SA\"))\n",
    "valid_sess = pd.read_pickle(SESSIONS_PATH.format(sub=args.subject))\n",
    "\n",
    "row = feats.iloc[1]\n",
    "args.feat = row.feat\n",
    "\n",
    "summed_proj = proj_all_sessions(args, row.sessions)\n",
    "\n",
    "args.shuffle_idx = 1\n",
    "args.all_sessions = valid_sess[valid_sess.session_name.isin(row.sessions)]\n",
    "shuffled_proj = proj_all_sessions(args, row.sessions)"
   ]
  },
  {
   "cell_type": "code",
   "execution_count": 7,
   "metadata": {},
   "outputs": [
    {
     "data": {
      "text/plain": [
       "<Axes: xlabel='TimeIdx', ylabel='proj'>"
      ]
     },
     "execution_count": 7,
     "metadata": {},
     "output_type": "execute_result"
    },
    {
     "data": {
      "image/png": "[encoded data removed]",
      "text/plain": [
       "<Figure size 640x480 with 1 Axes>"
      ]
     },
     "metadata": {},
     "output_type": "display_data"
    }
   ],
   "source": [
    "fig, ax = plt.subplots()\n",
    "sns.lineplot(summed_proj, x=\"TimeIdx\", y=\"proj\", ax=ax)\n",
    "sns.lineplot(shuffled_proj, x=\"TimeIdx\", y=\"proj\", ax=ax)\n"
   ]
  },
  {
   "cell_type": "code",
   "execution_count": 61,
   "metadata": {},
   "outputs": [
    {
     "data": {
      "text/plain": [
       "TimeIdx                2.000000\n",
       "PseudoTrialNumber    499.500000\n",
       "proj                  -3.034889\n",
       "dtype: float64"
      ]
     },
     "execution_count": 61,
     "metadata": {},
     "output_type": "execute_result"
    }
   ],
   "source": [
    "summed_proj[(summed_proj.TimeIdx >= 0) & (summed_proj.TimeIdx < 5)].mean()"
   ]
  },
  {
   "cell_type": "code",
   "execution_count": 35,
   "metadata": {},
   "outputs": [],
   "source": [
    "args.shuffle_idx = None\n",
    "pref_vec = load_pref_vector(args)"
   ]
  },
  {
   "cell_type": "code",
   "execution_count": 39,
   "metadata": {},
   "outputs": [
    {
     "data": {
      "text/plain": [
       "3.6360051e-12"
      ]
     },
     "execution_count": 39,
     "metadata": {},
     "output_type": "execute_result"
    }
   ],
   "source": [
    "pref_vec[\"std\"].min()"
   ]
  },
  {
   "cell_type": "code",
   "execution_count": 18,
   "metadata": {},
   "outputs": [],
   "source": [
    "models = belief_partitions_io.read_models(args, [args.feat])"
   ]
  },
  {
   "cell_type": "code",
   "execution_count": 19,
   "metadata": {},
   "outputs": [
    {
     "data": {
      "text/plain": [
       "tensor([3.1808e+01, 9.3085e+01, 1.2060e+01, 1.3221e-23, 9.1316e+01, 7.9825e+01,\n",
       "        4.3674e+01, 2.4008e+02, 3.4463e+01, 4.1476e+01, 2.1879e+02, 8.7285e+01,\n",
       "        8.4461e-04, 1.6864e+02, 5.1879e+01, 6.0736e+01, 1.2460e+02, 2.5769e+00,\n",
       "        4.0906e+01, 7.5153e+00, 2.4540e+01, 2.5312e+01, 3.7983e+01, 1.0875e+01,\n",
       "        3.4626e-01, 3.2968e+01, 2.1936e+00, 3.7082e+01, 1.4954e+00, 7.9734e-01,\n",
       "        2.7359e+02, 3.8151e+00, 4.2926e+01, 5.5211e+00, 1.4442e+00, 1.4602e+02,\n",
       "        6.4918e+00, 4.4131e+01, 3.2917e+01, 1.6424e+01, 2.1217e+01, 8.2761e-01,\n",
       "        1.5027e+00, 2.0990e+02, 1.6758e+01, 7.1385e+01, 2.3394e+01, 7.3517e+00,\n",
       "        2.4521e+00, 8.1689e-02, 4.7464e+00, 1.2949e-01, 8.7709e+00, 8.8447e+00,\n",
       "        3.8924e+00, 2.6398e+02, 3.8933e+00, 1.2221e+01, 8.4576e+01, 2.9684e+01,\n",
       "        1.0079e+01, 4.8158e+01, 5.1303e-08, 1.1743e+01, 9.7830e-01, 2.4473e+00,\n",
       "        2.7827e+01, 1.5126e+02, 2.5221e+01, 1.7448e+02, 7.9108e+01, 2.7764e+01,\n",
       "        2.5463e+01, 3.5686e+00, 1.0165e+02, 1.7053e+02, 3.9353e+01, 1.1087e+02,\n",
       "        4.6465e-05, 5.5016e+02, 1.5968e+00, 7.4824e+01, 6.5108e+00, 1.6805e+01,\n",
       "        7.2960e+01, 9.4709e-01, 7.1427e+01, 1.4532e+01, 1.8038e-01, 5.6079e+00,\n",
       "        1.7169e-01, 5.7624e+00, 1.7392e+02, 2.4792e+00, 9.6662e-01, 8.8152e+00,\n",
       "        7.5818e+00, 1.2534e+01, 7.1208e-01, 1.4393e+01, 9.8611e+01, 5.9774e+01,\n",
       "        1.0376e+01, 2.1676e+01, 1.8877e+02, 3.2210e+01, 7.3855e-02, 2.4585e+02,\n",
       "        1.8262e+02, 2.3626e+01, 1.4070e+01, 3.0199e+01, 3.8519e+00, 3.4748e-01,\n",
       "        5.8196e+01, 2.0461e+01, 2.5274e+00, 7.6026e+00, 2.1504e+02, 5.3594e+01,\n",
       "        2.3654e+01, 1.2961e+01, 5.9221e+00, 9.4450e+01, 6.3604e+01, 8.1172e+00,\n",
       "        3.5076e+00, 8.9738e+01, 1.3583e+02, 1.5154e-01, 5.2710e-01, 4.9066e+00,\n",
       "        4.2847e+00, 8.1287e+01, 3.4795e+01, 1.2812e+00, 1.2800e+00, 1.6642e+01,\n",
       "        3.9147e+01, 1.5510e+01, 2.9962e+01, 2.9127e+01, 1.3221e-23, 1.9687e+02,\n",
       "        1.3624e+00, 1.3271e-02, 3.3083e+01, 2.3679e+02, 5.2484e+00, 7.4595e-01,\n",
       "        3.2796e+00, 8.2132e-01, 3.6668e+01, 2.0539e+02, 1.2478e+01, 3.9034e+00,\n",
       "        8.4146e+01, 1.5249e+00, 1.2193e+01, 1.2620e+00, 1.2897e+01, 1.0415e-07,\n",
       "        4.5575e-01, 2.4145e-02, 2.5894e+02, 3.8274e-01, 8.0551e-01, 2.5842e+02,\n",
       "        6.5546e+00, 3.1308e+00, 6.0253e+00, 1.3220e+01, 8.1558e+00, 3.3367e+02,\n",
       "        4.5540e+01, 3.9349e+00, 2.3227e+01, 4.1743e+01, 6.7518e-01, 2.6355e+01,\n",
       "        6.5965e+01, 3.1986e+00, 6.5558e+01, 1.2781e+02, 7.7665e+00, 1.4551e+02,\n",
       "        1.3221e-23, 1.3261e+01])"
      ]
     },
     "execution_count": 19,
     "metadata": {},
     "output_type": "execute_result"
    }
   ],
   "source": [
    "models.iloc[0].models.model.norm.running_var"
   ]
  }
 ],
 "metadata": {
  "kernelspec": {
   "display_name": "Python 3",
   "language": "python",
   "name": "python3"
  },
  "language_info": {
   "codemirror_mode": {
    "name": "ipython",
    "version": 3
   },
   "file_extension": ".py",
   "mimetype": "text/x-python",
   "name": "python",
   "nbconvert_exporter": "python",
   "pygments_lexer": "ipython3",
   "version": "3.10.6"
  }
 },
 "nbformat": 4,
 "nbformat_minor": 2
}
