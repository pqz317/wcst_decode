{
 "cells": [
  {
   "cell_type": "markdown",
   "metadata": {},
   "source": [
    "### Status: think the xyz coords are not consistent across monkeys\n",
    "### Look at where the units are on a glass brain\n",
    "- Load all the units for both monkeys\n",
    "- figure out naming, color\n",
    "- plot on glass brain\n",
    "- (hope xyz coords are consistent across monkeys)\n"
   ]
  },
  {
   "cell_type": "code",
   "execution_count": 1,
   "metadata": {},
   "outputs": [],
   "source": [
    "%load_ext autoreload\n",
    "%autoreload 2\n",
    "\n",
    "import os\n",
    "import numpy as np\n",
    "import pandas as pd\n",
    "import utils.behavioral_utils as behavioral_utils\n",
    "import utils.information_utils as information_utils\n",
    "import utils.visualization_utils as visualization_utils\n",
    "import utils.pseudo_classifier_utils as pseudo_classifier_utils\n",
    "import utils.classifier_utils as classifier_utils\n",
    "\n",
    "import utils.io_utils as io_utils\n",
    "\n",
    "import utils.glm_utils as glm_utils\n",
    "from matplotlib import pyplot as plt\n",
    "import matplotlib\n",
    "import utils.spike_utils as spike_utils\n",
    "import utils.subspace_utils as subspace_utils\n",
    "from trial_splitters.condition_trial_splitter import ConditionTrialSplitter \n",
    "from utils.session_data import SessionData\n",
    "from constants.behavioral_constants import *\n",
    "from constants.decoding_constants import *\n",
    "import seaborn as sns\n",
    "from scripts.pseudo_decoding.belief_partitions.belief_partition_configs import *\n",
    "import scripts.pseudo_decoding.belief_partitions.belief_partitions_io as belief_partitions_io\n",
    "\n",
    "import scipy\n",
    "import argparse\n",
    "import copy\n",
    "import plotly.express as px\n",
    "from scripts.anova_analysis.anova_configs import *\n",
    "\n"
   ]
  },
  {
   "cell_type": "code",
   "execution_count": 2,
   "metadata": {},
   "outputs": [],
   "source": [
    "def load_units_for_sub(subject):\n",
    "    units = pd.read_pickle(UNITS_PATH.format(sub=subject))\n",
    "    drift_units = pd.read_pickle(DRIFT_PATH.format(sub=subject))\n",
    "    units = units[~units.PseudoUnitID.isin(drift_units.PseudoUnitID)]\n",
    "    feats = pd.read_pickle(FEATS_PATH.format(sub=subject))\n",
    "    sessions = feats.sessions.explode().unique()\n",
    "    units = units[units.session.isin(sessions)]\n",
    "    units = units.rename(columns={'structure_level2': 'Region'})\n",
    "    units[\"Region\"] = units[\"Region\"].replace({\": eexxttrraassttrriiaattee__vviissuuaall__aarreeaass__22--44 ((VV22--VV44))\": \"extrastriate_visual_areas_2-4 (V2-V4)\"})\n",
    "    units[\"Subject\"] = subject\n",
    "    return units"
   ]
  },
  {
   "cell_type": "code",
   "execution_count": 6,
   "metadata": {},
   "outputs": [],
   "source": [
    "sa_units = load_units_for_sub(\"SA\")\n",
    "bl_units = load_units_for_sub(\"BL\")\n",
    "# all_units = pd.concat((sa_units, bl_units))\n",
    "all_units = sa_units\n",
    "all_units[\"region_formatted\"] = all_units.structure_level2_cleaned.apply(lambda x: visualization_utils.REGION_TO_DISPLAY_NAMES[x] if x in visualization_utils.REGION_TO_DISPLAY_NAMES else \"other\")\n"
   ]
  },
  {
   "cell_type": "code",
   "execution_count": 8,
   "metadata": {},
   "outputs": [],
   "source": [
    "name_to_color = copy.deepcopy(visualization_utils.REGION_TO_COLOR)\n",
    "name_to_color[\"other\"] = \"grey\"\n",
    "\n",
    "fig = visualization_utils.generate_glass_brain(all_units, \"region_formatted\", name_to_color=name_to_color, unknown_color=\"grey\")\n",
    "fig.write_html(\"/data/patrick_res/figures/wcst_paper/units/glass_brain.html\")\n",
    "# fig.show()"
   ]
  },
  {
   "cell_type": "code",
   "execution_count": 9,
   "metadata": {},
   "outputs": [
    {
     "data": {
      "text/plain": [
       "44"
      ]
     },
     "execution_count": 9,
     "metadata": {},
     "output_type": "execute_result"
    }
   ],
   "source": [
    "sa_units.session.nunique()"
   ]
  },
  {
   "cell_type": "code",
   "execution_count": 10,
   "metadata": {},
   "outputs": [
    {
     "data": {
      "text/plain": [
       "30"
      ]
     },
     "execution_count": 10,
     "metadata": {},
     "output_type": "execute_result"
    }
   ],
   "source": [
    "bl_units.session.nunique()"
   ]
  },
  {
   "cell_type": "code",
   "execution_count": null,
   "metadata": {},
   "outputs": [],
   "source": []
  }
 ],
 "metadata": {
  "kernelspec": {
   "display_name": "Python 3",
   "language": "python",
   "name": "python3"
  },
  "language_info": {
   "codemirror_mode": {
    "name": "ipython",
    "version": 3
   },
   "file_extension": ".py",
   "mimetype": "text/x-python",
   "name": "python",
   "nbconvert_exporter": "python",
   "pygments_lexer": "ipython3",
   "version": "3.10.6"
  }
 },
 "nbformat": 4,
 "nbformat_minor": 2
}
