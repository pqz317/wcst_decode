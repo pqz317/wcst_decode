{
 "cells": [
  {
   "cell_type": "code",
   "execution_count": 1,
   "metadata": {},
   "outputs": [],
   "source": [
    "from PIL import Image, ImageFilter\n",
    "import numpy as np\n",
    "from constants.behavioral_constants import *\n",
    "import os\n",
    "\n"
   ]
  },
  {
   "cell_type": "code",
   "execution_count": 6,
   "metadata": {},
   "outputs": [],
   "source": [
    "dir_path = \"/data/patrick_res/figures/wcst_paper/card_bitmaps/\"\n",
    "for card_name in os.listdir(dir_path): \n",
    "    image_path = os.path.join(dir_path, card_name)\n",
    "    img = Image.open(image_path)\n",
    "    img.save(os.path.join(dir_path, card_name.split(\".\")[0] + \".png\"))\n"
   ]
  },
  {
   "cell_type": "markdown",
   "metadata": {},
   "source": [
    "### do features to png as well"
   ]
  },
  {
   "cell_type": "code",
   "execution_count": 2,
   "metadata": {},
   "outputs": [],
   "source": [
    "dir_path = \"/data/patrick_res/figures/wcst_paper/feature_bitmaps/\"\n",
    "for card_name in os.listdir(dir_path): \n",
    "    image_path = os.path.join(dir_path, card_name)\n",
    "    img = Image.open(image_path)\n",
    "    img.save(os.path.join(dir_path, card_name.split(\".\")[0] + \".png\"))\n"
   ]
  },
  {
   "cell_type": "code",
   "execution_count": null,
   "metadata": {},
   "outputs": [],
   "source": []
  }
 ],
 "metadata": {
  "kernelspec": {
   "display_name": "Python 3",
   "language": "python",
   "name": "python3"
  },
  "language_info": {
   "codemirror_mode": {
    "name": "ipython",
    "version": 3
   },
   "file_extension": ".py",
   "mimetype": "text/x-python",
   "name": "python",
   "nbconvert_exporter": "python",
   "pygments_lexer": "ipython3",
   "version": "3.10.6"
  }
 },
 "nbformat": 4,
 "nbformat_minor": 2
}
