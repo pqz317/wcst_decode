{
 "cells": [
  {
   "cell_type": "code",
   "execution_count": 41,
   "metadata": {},
   "outputs": [],
   "source": [
    "from PIL import Image, ImageFilter\n",
    "import numpy as np\n",
    "from constants.behavioral_constants import *\n",
    "from svgtrace import trace\n",
    "\n",
    "letters_to_features = {\n",
    "    \"L\": \"ESCHER\",\n",
    "    \"P\": \"POLKADOT\",\n",
    "    \"R\": \"RIPPLE\",\n",
    "    \"S\": \"SWIRL\",\n",
    "    \"C\": \"CIRCLE\",\n",
    "    \"Q\": \"SQUARE\",\n",
    "    \"S\": \"STAR\",\n",
    "    \"T\": \"TRIANGLE\",\n",
    "}\n"
   ]
  },
  {
   "cell_type": "markdown",
   "metadata": {},
   "source": [
    "### Patterns"
   ]
  },
  {
   "cell_type": "code",
   "execution_count": 13,
   "metadata": {},
   "outputs": [],
   "source": [
    "# Open the uploaded image\n",
    "patterns = [\"L\", \"P\", \"R\", \"S\"]\n",
    "for pattern in patterns: \n",
    "    image_path = f\"/data/patrick_res/figures/wcst_paper/card_bitmaps/QB{pattern}.bmp\"\n",
    "    img = Image.open(image_path).convert(\"RGBA\")\n",
    "\n",
    "    # Convert image to numpy array\n",
    "    data = np.array(img)\n",
    "\n",
    "    # Define the cyan color range to replace (tolerance for similar shades)\n",
    "    cyan_rgb = np.array([0, 255, 255])  # pure cyan\n",
    "    tolerance = 150  # adjust if needed\n",
    "\n",
    "    # Create a mask for pixels close to cyan\n",
    "\n",
    "    cyan_mask = np.all(np.abs(data[:, :, :3] - cyan_rgb) < tolerance, axis=-1)\n",
    "    grey_mask = np.all(np.abs(data[:, :, :3] - np.array([100,100,100])) < 2, axis=-1)\n",
    "    # Replace cyan pixels with white\n",
    "    data[cyan_mask + grey_mask] = [255, 255, 255, 255]  # white\n",
    "\n",
    "    # Convert back to image\n",
    "    result_img = Image.fromarray(data)\n",
    "\n",
    "    # Save processed image\n",
    "    output_path = f\"/data/patrick_res/figures/wcst_paper/feature_bitmaps/{letters_to_features[pattern]}.bmp\"\n",
    "    result_img.save(output_path)\n",
    "    output_path"
   ]
  },
  {
   "cell_type": "markdown",
   "metadata": {},
   "source": [
    "### Colors: "
   ]
  },
  {
   "cell_type": "code",
   "execution_count": 6,
   "metadata": {},
   "outputs": [],
   "source": [
    "colors_rgb = {\n",
    "    \"CYAN\": np.array([0, 255, 255, 255]),\n",
    "    \"YELLOW\": np.array([255,255,0, 255]),\n",
    "    \"MAGENTA\": np.array([255,0,255, 255]),\n",
    "    \"GREEN\": np.array([33,221,0, 255]),\n",
    "}\n",
    "image_path = \"/data/patrick_res/figures/wcst_paper/card_bitmaps/QBL.bmp\"\n",
    "example_image = np.array(Image.open(image_path).convert(\"RGBA\"))"
   ]
  },
  {
   "cell_type": "code",
   "execution_count": 7,
   "metadata": {},
   "outputs": [],
   "source": [
    "for color_name in colors_rgb:\n",
    "    rgb = colors_rgb[color_name]\n",
    "    color_square = np.full(example_image.shape, rgb, dtype=np.uint8)\n",
    "    color_img = Image.fromarray(color_square)\n",
    "    output_path = f\"/data/patrick_res/figures/wcst_paper/feature_bitmaps/{color_name}.bmp\"\n",
    "    color_img.save(output_path)"
   ]
  },
  {
   "cell_type": "markdown",
   "metadata": {},
   "source": [
    "### Shapes:"
   ]
  },
  {
   "cell_type": "code",
   "execution_count": 21,
   "metadata": {},
   "outputs": [],
   "source": [
    "# Open the uploaded image\n",
    "shapes = [\"C\", \"Q\", \"S\", \"T\"]\n",
    "for shape in shapes: \n",
    "    image_path = f\"/data/patrick_res/figures/wcst_paper/card_bitmaps/{shape}BP.bmp\"\n",
    "    img = Image.open(image_path).convert(\"RGBA\")\n",
    "\n",
    "    # Convert image to numpy array\n",
    "    data = np.array(img)\n",
    "\n",
    "    not_grey_mask = np.any(np.abs(data[:, :, :3] - np.array([100,100,100])) != 0, axis=-1)\n",
    "    # Replace cyan pixels with white\n",
    "    data[not_grey_mask] = [255, 255, 255, 255]  # white\n",
    "\n",
    "    # Convert back to image\n",
    "    result_img = Image.fromarray(data)\n",
    "\n",
    "    # Save processed image\n",
    "    output_path = f\"/data/patrick_res/figures/wcst_paper/feature_bitmaps/{letters_to_features[shape]}_grey.bmp\"\n",
    "    result_img.save(output_path)\n",
    "    output_path"
   ]
  },
  {
   "cell_type": "code",
   "execution_count": 40,
   "metadata": {},
   "outputs": [],
   "source": [
    "edge_threshold = 30\n",
    "\n",
    "for pattern in POSSIBLE_FEATURES[\"Shape\"]:\n",
    "    img = Image.open(f\"/data/patrick_res/figures/wcst_paper/feature_bitmaps/{pattern}_grey.bmp\").convert(\"L\")\n",
    "    outline_img = img.filter(ImageFilter.FIND_EDGES)\n",
    "    outline_img = outline_img.filter(ImageFilter.GaussianBlur(radius=1))\n",
    "    width, height = outline_img.size\n",
    "    # Create a new image with a pure white background for the final output\n",
    "    final_output_img = Image.new(\"RGB\", (width, height), (255, 255, 255))\n",
    "    final_pixels = final_output_img.load() # Get pixel access for the final image\n",
    "\n",
    "    # Load pixels from the edge-detected image for processing\n",
    "    outline_pixels = outline_img.load()\n",
    "\n",
    "    # Iterate through the edge-detected image and apply a threshold.\n",
    "    # If a pixel is dark enough (below the threshold), it's part of the edge,\n",
    "    # so we color it black in our final output. Otherwise, it remains white.\n",
    "    for y in range(height):\n",
    "        for x in range(width):\n",
    "            # Check the grayscale value of the pixel in the edge-detected image\n",
    "            if outline_pixels[x, y] > edge_threshold:\n",
    "                final_pixels[x, y] = (0, 0, 0) # Set to black for the outline\n",
    "\n",
    "    final_output_img.save(f\"/data/patrick_res/figures/wcst_paper/feature_bitmaps/{pattern}.bmp\")"
   ]
  }
 ],
 "metadata": {
  "kernelspec": {
   "display_name": "Python 3",
   "language": "python",
   "name": "python3"
  },
  "language_info": {
   "codemirror_mode": {
    "name": "ipython",
    "version": 3
   },
   "file_extension": ".py",
   "mimetype": "text/x-python",
   "name": "python",
   "nbconvert_exporter": "python",
   "pygments_lexer": "ipython3",
   "version": "3.10.6"
  }
 },
 "nbformat": 4,
 "nbformat_minor": 2
}
