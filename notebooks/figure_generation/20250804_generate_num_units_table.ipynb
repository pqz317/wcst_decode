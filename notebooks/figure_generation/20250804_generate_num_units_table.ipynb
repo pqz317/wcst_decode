{
 "cells": [
  {
   "cell_type": "markdown",
   "metadata": {},
   "source": [
    "### Want to generate a table with each region, each subject, number of units recorded and analyzed\n",
    "- Cleaning up of: /src/wcst_decode/notebooks/20250528_blanche_sam_unit_regions.ipynb\n",
    "- only include units from sessions actually analyzed\n",
    "- don't include drifting units"
   ]
  },
  {
   "cell_type": "code",
   "execution_count": 2,
   "metadata": {},
   "outputs": [
    {
     "name": "stdout",
     "output_type": "stream",
     "text": [
      "The autoreload extension is already loaded. To reload it, use:\n",
      "  %reload_ext autoreload\n"
     ]
    }
   ],
   "source": [
    "%load_ext autoreload\n",
    "%autoreload 2\n",
    "\n",
    "import os\n",
    "import numpy as np\n",
    "import pandas as pd\n",
    "import utils.behavioral_utils as behavioral_utils\n",
    "import utils.information_utils as information_utils\n",
    "import utils.visualization_utils as visualization_utils\n",
    "import utils.pseudo_classifier_utils as pseudo_classifier_utils\n",
    "import utils.classifier_utils as classifier_utils\n",
    "\n",
    "import utils.io_utils as io_utils\n",
    "\n",
    "import utils.glm_utils as glm_utils\n",
    "from matplotlib import pyplot as plt\n",
    "import matplotlib\n",
    "import utils.spike_utils as spike_utils\n",
    "import utils.subspace_utils as subspace_utils\n",
    "from trial_splitters.condition_trial_splitter import ConditionTrialSplitter \n",
    "from utils.session_data import SessionData\n",
    "from constants.behavioral_constants import *\n",
    "from constants.decoding_constants import *\n",
    "import seaborn as sns\n",
    "from scripts.pseudo_decoding.belief_partitions.belief_partition_configs import *\n",
    "import scripts.pseudo_decoding.belief_partitions.belief_partitions_io as belief_partitions_io\n",
    "\n",
    "import scipy\n",
    "import argparse\n",
    "import copy\n",
    "import plotly.express as px\n",
    "from scripts.anova_analysis.anova_configs import *\n",
    "\n"
   ]
  },
  {
   "cell_type": "markdown",
   "metadata": {},
   "source": [
    "### load units analyzed"
   ]
  },
  {
   "cell_type": "code",
   "execution_count": 3,
   "metadata": {},
   "outputs": [],
   "source": [
    "def load_units_for_sub(subject, path=UNITS_PATH):\n",
    "    units = pd.read_pickle(path.format(sub=subject))\n",
    "\n",
    "    drift_units = pd.read_pickle(DRIFT_PATH.format(sub=subject))\n",
    "    units = units[~units.PseudoUnitID.isin(drift_units.PseudoUnitID)]\n",
    "    feats = pd.read_pickle(FEATS_PATH.format(sub=subject))\n",
    "    sessions = feats.sessions.explode().unique()\n",
    "    units = units[units.session.isin(sessions)]\n",
    "    units = units.rename(columns={'structure_level2': 'Region'})\n",
    "    units[\"Region\"] = units[\"Region\"].replace({\": eexxttrraassttrriiaattee__vviissuuaall__aarreeaass__22--44 ((VV22--VV44))\": \"extrastriate_visual_areas_2-4 (V2-V4)\"})\n",
    "    units[\"subject\"] = subject\n",
    "    return units"
   ]
  },
  {
   "cell_type": "markdown",
   "metadata": {},
   "source": [
    "### load sessions"
   ]
  },
  {
   "cell_type": "code",
   "execution_count": 4,
   "metadata": {},
   "outputs": [],
   "source": [
    "sa_units = load_units_for_sub(\"SA\")\n",
    "sa_units_per_region = sa_units.groupby(\"Region\").PseudoUnitID.nunique().reset_index(name=\"Subject S Units\")"
   ]
  },
  {
   "cell_type": "code",
   "execution_count": 5,
   "metadata": {},
   "outputs": [],
   "source": [
    "bl_units = load_units_for_sub(\"BL\")\n",
    "bl_units_per_region = bl_units.groupby(\"Region\").PseudoUnitID.nunique().reset_index(name=\"Subject B Units\")"
   ]
  },
  {
   "cell_type": "code",
   "execution_count": 5,
   "metadata": {},
   "outputs": [],
   "source": [
    "combined = pd.merge(sa_units_per_region, bl_units_per_region, on=\"Region\", how=\"outer\").fillna(0)\n",
    "combined = pd.merge(sa_units_per_region, bl_units_per_region, on=\"Region\", how=\"outer\").fillna(0)\n",
    "\n",
    "combined[\"Subject B Units\"] = combined[\"Subject B Units\"].round().astype(int)\n",
    "combined[\"Subject S Units\"] = combined[\"Subject S Units\"].round().astype(int)\n",
    "combined[\"Both Subjects Units\"] = combined[\"Subject B Units\"] + combined[\"Subject S Units\"]\n",
    "\n",
    "totals = pd.DataFrame([{\n",
    "    \"Region\": \"All\", \n",
    "    \"Subject B Units\": combined[\"Subject B Units\"].sum(), \n",
    "    \"Subject S Units\": combined[\"Subject S Units\"].sum(),\n",
    "    \"Both Subjects Units\": combined[\"Both Subjects Units\"].sum()\n",
    "}])\n",
    "combined = pd.concat((combined, totals))\n",
    "combined = combined.sort_values(by=\"Both Subjects Units\", ascending=False)\n"
   ]
  },
  {
   "cell_type": "code",
   "execution_count": 6,
   "metadata": {},
   "outputs": [
    {
     "data": {
      "text/html": [
       "<div>\n",
       "<style scoped>\n",
       "    .dataframe tbody tr th:only-of-type {\n",
       "        vertical-align: middle;\n",
       "    }\n",
       "\n",
       "    .dataframe tbody tr th {\n",
       "        vertical-align: top;\n",
       "    }\n",
       "\n",
       "    .dataframe thead th {\n",
       "        text-align: right;\n",
       "    }\n",
       "</style>\n",
       "<table border=\"1\" class=\"dataframe\">\n",
       "  <thead>\n",
       "    <tr style=\"text-align: right;\">\n",
       "      <th></th>\n",
       "      <th>Region</th>\n",
       "      <th>Subject S Units</th>\n",
       "      <th>Subject B Units</th>\n",
       "      <th>Both Subjects Units</th>\n",
       "    </tr>\n",
       "  </thead>\n",
       "  <tbody>\n",
       "    <tr>\n",
       "      <th>0</th>\n",
       "      <td>All</td>\n",
       "      <td>1103</td>\n",
       "      <td>347</td>\n",
       "      <td>1450</td>\n",
       "    </tr>\n",
       "    <tr>\n",
       "      <th>8</th>\n",
       "      <td>inferior_temporal_cortex (ITC)</td>\n",
       "      <td>185</td>\n",
       "      <td>56</td>\n",
       "      <td>241</td>\n",
       "    </tr>\n",
       "    <tr>\n",
       "      <th>10</th>\n",
       "      <td>lateral_prefrontal_cortex (lat_PFC)</td>\n",
       "      <td>239</td>\n",
       "      <td>0</td>\n",
       "      <td>239</td>\n",
       "    </tr>\n",
       "    <tr>\n",
       "      <th>11</th>\n",
       "      <td>medial_pallium (MPal)</td>\n",
       "      <td>48</td>\n",
       "      <td>83</td>\n",
       "      <td>131</td>\n",
       "    </tr>\n",
       "    <tr>\n",
       "      <th>2</th>\n",
       "      <td>basal_ganglia (BG)</td>\n",
       "      <td>77</td>\n",
       "      <td>34</td>\n",
       "      <td>111</td>\n",
       "    </tr>\n",
       "    <tr>\n",
       "      <th>0</th>\n",
       "      <td>amygdala (Amy)</td>\n",
       "      <td>73</td>\n",
       "      <td>24</td>\n",
       "      <td>97</td>\n",
       "    </tr>\n",
       "    <tr>\n",
       "      <th>1</th>\n",
       "      <td>anterior_cingulate_gyrus (ACgG)</td>\n",
       "      <td>85</td>\n",
       "      <td>0</td>\n",
       "      <td>85</td>\n",
       "    </tr>\n",
       "    <tr>\n",
       "      <th>9</th>\n",
       "      <td>lateral_and_ventral_pallium (LVPal)</td>\n",
       "      <td>77</td>\n",
       "      <td>7</td>\n",
       "      <td>84</td>\n",
       "    </tr>\n",
       "    <tr>\n",
       "      <th>19</th>\n",
       "      <td>superior_parietal_lobule (SPL)</td>\n",
       "      <td>61</td>\n",
       "      <td>16</td>\n",
       "      <td>77</td>\n",
       "    </tr>\n",
       "    <tr>\n",
       "      <th>13</th>\n",
       "      <td>motor_cortex (motor)</td>\n",
       "      <td>63</td>\n",
       "      <td>0</td>\n",
       "      <td>63</td>\n",
       "    </tr>\n",
       "    <tr>\n",
       "      <th>15</th>\n",
       "      <td>posterior_medial_cortex (PMC)</td>\n",
       "      <td>42</td>\n",
       "      <td>15</td>\n",
       "      <td>57</td>\n",
       "    </tr>\n",
       "    <tr>\n",
       "      <th>7</th>\n",
       "      <td>inferior_parietal_lobule (IPL)</td>\n",
       "      <td>43</td>\n",
       "      <td>11</td>\n",
       "      <td>54</td>\n",
       "    </tr>\n",
       "    <tr>\n",
       "      <th>20</th>\n",
       "      <td>thalamus (Thal)</td>\n",
       "      <td>33</td>\n",
       "      <td>16</td>\n",
       "      <td>49</td>\n",
       "    </tr>\n",
       "    <tr>\n",
       "      <th>14</th>\n",
       "      <td>orbital_frontal_cortex (OFC)</td>\n",
       "      <td>35</td>\n",
       "      <td>0</td>\n",
       "      <td>35</td>\n",
       "    </tr>\n",
       "    <tr>\n",
       "      <th>5</th>\n",
       "      <td>extrastriate_visual_areas_2-4 (V2-V4)</td>\n",
       "      <td>8</td>\n",
       "      <td>25</td>\n",
       "      <td>33</td>\n",
       "    </tr>\n",
       "    <tr>\n",
       "      <th>17</th>\n",
       "      <td>primary_visual_cortex (V1)</td>\n",
       "      <td>12</td>\n",
       "      <td>16</td>\n",
       "      <td>28</td>\n",
       "    </tr>\n",
       "    <tr>\n",
       "      <th>12</th>\n",
       "      <td>medial_temporal_lobe (MTL)</td>\n",
       "      <td>1</td>\n",
       "      <td>23</td>\n",
       "      <td>24</td>\n",
       "    </tr>\n",
       "    <tr>\n",
       "      <th>6</th>\n",
       "      <td>floor_of_the_lateral_sulcus (floor_of_ls)</td>\n",
       "      <td>7</td>\n",
       "      <td>7</td>\n",
       "      <td>14</td>\n",
       "    </tr>\n",
       "    <tr>\n",
       "      <th>18</th>\n",
       "      <td>somatosensory_cortex (SI/SII)</td>\n",
       "      <td>2</td>\n",
       "      <td>6</td>\n",
       "      <td>8</td>\n",
       "    </tr>\n",
       "    <tr>\n",
       "      <th>21</th>\n",
       "      <td>unknown</td>\n",
       "      <td>7</td>\n",
       "      <td>0</td>\n",
       "      <td>7</td>\n",
       "    </tr>\n",
       "    <tr>\n",
       "      <th>22</th>\n",
       "      <td>core_and_belt_areas_of_auditory_cortex (core/b...</td>\n",
       "      <td>0</td>\n",
       "      <td>5</td>\n",
       "      <td>5</td>\n",
       "    </tr>\n",
       "    <tr>\n",
       "      <th>3</th>\n",
       "      <td>cerebellum (Cb)</td>\n",
       "      <td>2</td>\n",
       "      <td>2</td>\n",
       "      <td>4</td>\n",
       "    </tr>\n",
       "    <tr>\n",
       "      <th>16</th>\n",
       "      <td>preoptic_complex (POC)</td>\n",
       "      <td>2</td>\n",
       "      <td>0</td>\n",
       "      <td>2</td>\n",
       "    </tr>\n",
       "    <tr>\n",
       "      <th>4</th>\n",
       "      <td>diagonal_subpallium (DSP)</td>\n",
       "      <td>1</td>\n",
       "      <td>0</td>\n",
       "      <td>1</td>\n",
       "    </tr>\n",
       "    <tr>\n",
       "      <th>23</th>\n",
       "      <td>middle_temporal_area (MT)</td>\n",
       "      <td>0</td>\n",
       "      <td>1</td>\n",
       "      <td>1</td>\n",
       "    </tr>\n",
       "  </tbody>\n",
       "</table>\n",
       "</div>"
      ],
      "text/plain": [
       "                                               Region  Subject S Units  \\\n",
       "0                                                 All             1103   \n",
       "8                      inferior_temporal_cortex (ITC)              185   \n",
       "10                lateral_prefrontal_cortex (lat_PFC)              239   \n",
       "11                              medial_pallium (MPal)               48   \n",
       "2                                  basal_ganglia (BG)               77   \n",
       "0                                      amygdala (Amy)               73   \n",
       "1                     anterior_cingulate_gyrus (ACgG)               85   \n",
       "9                 lateral_and_ventral_pallium (LVPal)               77   \n",
       "19                     superior_parietal_lobule (SPL)               61   \n",
       "13                               motor_cortex (motor)               63   \n",
       "15                      posterior_medial_cortex (PMC)               42   \n",
       "7                      inferior_parietal_lobule (IPL)               43   \n",
       "20                                    thalamus (Thal)               33   \n",
       "14                       orbital_frontal_cortex (OFC)               35   \n",
       "5               extrastriate_visual_areas_2-4 (V2-V4)                8   \n",
       "17                         primary_visual_cortex (V1)               12   \n",
       "12                         medial_temporal_lobe (MTL)                1   \n",
       "6           floor_of_the_lateral_sulcus (floor_of_ls)                7   \n",
       "18                      somatosensory_cortex (SI/SII)                2   \n",
       "21                                            unknown                7   \n",
       "22  core_and_belt_areas_of_auditory_cortex (core/b...                0   \n",
       "3                                     cerebellum (Cb)                2   \n",
       "16                             preoptic_complex (POC)                2   \n",
       "4                           diagonal_subpallium (DSP)                1   \n",
       "23                          middle_temporal_area (MT)                0   \n",
       "\n",
       "    Subject B Units  Both Subjects Units  \n",
       "0               347                 1450  \n",
       "8                56                  241  \n",
       "10                0                  239  \n",
       "11               83                  131  \n",
       "2                34                  111  \n",
       "0                24                   97  \n",
       "1                 0                   85  \n",
       "9                 7                   84  \n",
       "19               16                   77  \n",
       "13                0                   63  \n",
       "15               15                   57  \n",
       "7                11                   54  \n",
       "20               16                   49  \n",
       "14                0                   35  \n",
       "5                25                   33  \n",
       "17               16                   28  \n",
       "12               23                   24  \n",
       "6                 7                   14  \n",
       "18                6                    8  \n",
       "21                0                    7  \n",
       "22                5                    5  \n",
       "3                 2                    4  \n",
       "16                0                    2  \n",
       "4                 0                    1  \n",
       "23                1                    1  "
      ]
     },
     "execution_count": 6,
     "metadata": {},
     "output_type": "execute_result"
    }
   ],
   "source": [
    "combined"
   ]
  },
  {
   "cell_type": "code",
   "execution_count": 67,
   "metadata": {},
   "outputs": [],
   "source": [
    "combined.to_csv(\"/data/patrick_res/figures/wcst_paper/units/region_units.csv\", index=False)"
   ]
  },
  {
   "cell_type": "markdown",
   "metadata": {},
   "source": [
    "### Generate a csv of all units and all structure_levels for Mike: "
   ]
  },
  {
   "cell_type": "code",
   "execution_count": 6,
   "metadata": {},
   "outputs": [],
   "source": [
    "all_units = pd.concat((sa_units, bl_units))"
   ]
  },
  {
   "cell_type": "code",
   "execution_count": 8,
   "metadata": {},
   "outputs": [
    {
     "data": {
      "text/plain": [
       "array(['lateral_and_ventral_pallium_LVPal',\n",
       "       'lateral_prefrontal_cortex_lat_PFC', 'primary_visual_cortex_V1',\n",
       "       'anterior_cingulate_gyrus_ACgG', 'posterior_medial_cortex_PMC',\n",
       "       'orbital_frontal_cortex_OFC', 'unknown', 'basal_ganglia_BG',\n",
       "       'inferior_temporal_cortex_ITC', 'motor_cortex_motor',\n",
       "       'preoptic_complex_POC', 'amygdala_Amy',\n",
       "       'extrastriate_visual_areas_2-4_V2-V4', 'medial_pallium_MPal',\n",
       "       'thalamus_Thal', 'inferior_parietal_lobule_IPL',\n",
       "       'superior_parietal_lobule_SPL',\n",
       "       'floor_of_the_lateral_sulcus_floor_of_ls',\n",
       "       'diagonal_subpallium_DSP', 'cerebellum_Cb',\n",
       "       'medial_temporal_lobe_MTL', 'somatosensory_cortex_SI/SII',\n",
       "       ':_eexxttrraassttrriiaattee__vviissuuaall__aarreeaass__22--44_VV22--VV44'],\n",
       "      dtype=object)"
      ]
     },
     "execution_count": 8,
     "metadata": {},
     "output_type": "execute_result"
    }
   ],
   "source": [
    "all_units.structure_level2_cleaned.unique()"
   ]
  },
  {
   "cell_type": "code",
   "execution_count": 14,
   "metadata": {},
   "outputs": [],
   "source": [
    "all_units.to_csv(\"/data/patrick_res/figures/wcst_paper/units/all_units.csv\", index=False)"
   ]
  },
  {
   "cell_type": "code",
   "execution_count": 15,
   "metadata": {},
   "outputs": [
    {
     "data": {
      "text/plain": [
       "Index(['Channel', 'Unit', 'SpikeTimesFile', 'UnitID', 'electrode_id', 'x', 'y',\n",
       "       'z', 'distance', 'in_brain', 'tissue', 'structure_level1', 'Region',\n",
       "       'structure_level3', 'structure_level4', 'structure_level5',\n",
       "       'structure_level6', 'structure_potential', 'session', 'PseudoUnitID',\n",
       "       'structure_level2_cleaned', 'manual_structure',\n",
       "       'manual_structure_cleaned', 'drive', 'subject'],\n",
       "      dtype='object')"
      ]
     },
     "execution_count": 15,
     "metadata": {},
     "output_type": "execute_result"
    }
   ],
   "source": [
    "all_units.columns"
   ]
  },
  {
   "cell_type": "markdown",
   "metadata": {},
   "source": [
    "### Generate a table including BL corrected regions"
   ]
  },
  {
   "cell_type": "code",
   "execution_count": 3,
   "metadata": {},
   "outputs": [],
   "source": [
    "BL_CORRECTED_PATH = \"/data/patrick_res/firing_rates/{sub}/all_units_corrected.pickle\"\n",
    "\n",
    "sa_units = load_units_for_sub(\"SA\")\n",
    "sa_units_per_region = sa_units.groupby(\"Region\").PseudoUnitID.nunique().reset_index(name=\"Subject S Units\")\n",
    "\n",
    "bl_original_units = load_units_for_sub(\"BL\")\n",
    "bl_original_units_per_region = bl_original_units.groupby(\"Region\").PseudoUnitID.nunique().reset_index(name=\"Subject B Units Original\")\n",
    "\n",
    "bl_correct_units = load_units_for_sub(\"BL\", path=BL_CORRECTED_PATH)\n",
    "bl_correct_units_per_region = bl_correct_units.groupby(\"Region\").PseudoUnitID.nunique().reset_index(name=\"Subject B Units Corrected\")"
   ]
  },
  {
   "cell_type": "code",
   "execution_count": 6,
   "metadata": {},
   "outputs": [],
   "source": [
    "combined = pd.merge(sa_units_per_region, bl_original_units_per_region, on=\"Region\", how=\"outer\").fillna(0)\n",
    "combined = pd.merge(combined, bl_correct_units_per_region, on=\"Region\", how=\"outer\").fillna(0)\n",
    "\n",
    "combined[\"Subject B Units Original\"] = combined[\"Subject B Units Original\"].round().astype(int)\n",
    "combined[\"Subject B Units Corrected\"] = combined[\"Subject B Units Corrected\"].round().astype(int)\n",
    "combined[\"Subject B Diff\"] = combined[\"Subject B Units Corrected\"] - combined[\"Subject B Units Original\"]\n",
    "\n",
    "combined[\"Subject S Units\"] = combined[\"Subject S Units\"].round().astype(int)\n",
    "combined[\"Both Subjects Units Corrected\"] = combined[\"Subject B Units Corrected\"] + combined[\"Subject S Units\"]\n",
    "\n",
    "totals = pd.DataFrame([{\n",
    "    \"Region\": \"All\", \n",
    "    \"Subject B Units Original\": combined[\"Subject B Units Original\"].sum(), \n",
    "    \"Subject B Units Corrected\": combined[\"Subject B Units Corrected\"].sum(), \n",
    "    \"Subject B Diff\": combined[\"Subject B Diff\"].sum(), \n",
    "    \"Subject S Units\": combined[\"Subject S Units\"].sum(),\n",
    "    \"Both Subjects Units Corrected\": combined[\"Both Subjects Units Corrected\"].sum()\n",
    "}])\n",
    "combined = pd.concat((combined, totals))\n",
    "combined = combined.sort_values(by=\"Both Subjects Units Corrected\", ascending=False)\n"
   ]
  },
  {
   "cell_type": "code",
   "execution_count": 7,
   "metadata": {},
   "outputs": [],
   "source": [
    "combined.to_csv(\"/data/patrick_res/figures/wcst_paper/units/region_units_bl_corrected.csv\", index=False)"
   ]
  },
  {
   "cell_type": "code",
   "execution_count": 9,
   "metadata": {},
   "outputs": [],
   "source": [
    "all_units_correct = pd.concat((sa_units, bl_correct_units))\n",
    "all_units_correct.to_csv(\"/data/patrick_res/figures/wcst_paper/units/all_units_correct.csv\", index=False)"
   ]
  },
  {
   "cell_type": "code",
   "execution_count": null,
   "metadata": {},
   "outputs": [],
   "source": []
  }
 ],
 "metadata": {
  "kernelspec": {
   "display_name": "Python 3",
   "language": "python",
   "name": "python3"
  },
  "language_info": {
   "codemirror_mode": {
    "name": "ipython",
    "version": 3
   },
   "file_extension": ".py",
   "mimetype": "text/x-python",
   "name": "python",
   "nbconvert_exporter": "python",
   "pygments_lexer": "ipython3",
   "version": "3.10.6"
  }
 },
 "nbformat": 4,
 "nbformat_minor": 2
}
