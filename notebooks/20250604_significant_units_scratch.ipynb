{
 "cells": [
  {
   "cell_type": "markdown",
   "metadata": {},
   "source": [
    "### List out methods of identifying significant units\n",
    "- Methods: \n",
    "  - Using anova across entire intervals\n",
    "  - Using anova by sliding window\n",
    "- Additional filtering methods: \n",
    "  - List of \"bad\" units\n",
    "  - Any ways to automate this?\n",
    "- For each method, report per region, for each feature:\n",
    "  - total units recorded for Sam/Blanche satisfying criteria\n",
    "  - total sessions recorded for Sam/Blanche satisfying criteria\n",
    "  - num units sig in Sam/Blanche\n",
    "  - num sessions in Sam/Blanche\n",
    "  - total num units across subjects"
   ]
  },
  {
   "cell_type": "markdown",
   "metadata": {},
   "source": []
  }
 ],
 "metadata": {
  "language_info": {
   "name": "python"
  }
 },
 "nbformat": 4,
 "nbformat_minor": 2
}
