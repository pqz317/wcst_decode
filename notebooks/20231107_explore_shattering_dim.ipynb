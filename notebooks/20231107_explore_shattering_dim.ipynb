{
 "cells": [
  {
   "cell_type": "markdown",
   "metadata": {},
   "source": [
    "### Take a look at SD, what dichotomies could arise, what are the the right baselines"
   ]
  },
  {
   "cell_type": "code",
   "execution_count": 4,
   "metadata": {},
   "outputs": [
    {
     "name": "stdout",
     "output_type": "stream",
     "text": [
      "The autoreload extension is already loaded. To reload it, use:\n",
      "  %reload_ext autoreload\n"
     ]
    }
   ],
   "source": [
    "%load_ext autoreload\n",
    "%autoreload 2\n",
    "\n",
    "import numpy as np\n",
    "import matplotlib.pyplot as plt\n",
    "import pandas as pd\n",
    "\n",
    "import utils.spike_utils as spike_utils\n",
    "import utils.classifier_utils as classifier_utils\n",
    "import utils.visualization_utils as visualization_utils\n",
    "\n",
    "import os\n",
    "import pandas as pd\n",
    "import matplotlib\n",
    "\n",
    "import itertools"
   ]
  },
  {
   "cell_type": "code",
   "execution_count": 10,
   "metadata": {},
   "outputs": [],
   "source": [
    "features = {\n",
    "    \"Color\": ['CYAN', 'GREEN', 'MAGENTA', 'YELLOW'],\n",
    "    \"Shape\": ['CIRCLE', 'SQUARE', 'STAR', 'TRIANGLE'],\n",
    "    \"Pattern\": ['ESCHER', 'POLKADOT', 'RIPPLE', 'SWIRL']\n",
    "}\n",
    "prod = list(itertools.product(features[\"Color\"], features[\"Shape\"], features[\"Pattern\"]))"
   ]
  },
  {
   "cell_type": "code",
   "execution_count": 12,
   "metadata": {},
   "outputs": [
    {
     "data": {
      "text/plain": [
       "64"
      ]
     },
     "execution_count": 12,
     "metadata": {},
     "output_type": "execute_result"
    }
   ],
   "source": [
    "len(prod)"
   ]
  },
  {
   "cell_type": "code",
   "execution_count": 13,
   "metadata": {},
   "outputs": [
    {
     "data": {
      "text/plain": [
       "[('CYAN', 'CIRCLE', 'ESCHER'),\n",
       " ('CYAN', 'CIRCLE', 'POLKADOT'),\n",
       " ('CYAN', 'CIRCLE', 'RIPPLE'),\n",
       " ('CYAN', 'CIRCLE', 'SWIRL'),\n",
       " ('CYAN', 'SQUARE', 'ESCHER'),\n",
       " ('CYAN', 'SQUARE', 'POLKADOT'),\n",
       " ('CYAN', 'SQUARE', 'RIPPLE'),\n",
       " ('CYAN', 'SQUARE', 'SWIRL'),\n",
       " ('CYAN', 'STAR', 'ESCHER'),\n",
       " ('CYAN', 'STAR', 'POLKADOT'),\n",
       " ('CYAN', 'STAR', 'RIPPLE'),\n",
       " ('CYAN', 'STAR', 'SWIRL'),\n",
       " ('CYAN', 'TRIANGLE', 'ESCHER'),\n",
       " ('CYAN', 'TRIANGLE', 'POLKADOT'),\n",
       " ('CYAN', 'TRIANGLE', 'RIPPLE'),\n",
       " ('CYAN', 'TRIANGLE', 'SWIRL'),\n",
       " ('GREEN', 'CIRCLE', 'ESCHER'),\n",
       " ('GREEN', 'CIRCLE', 'POLKADOT'),\n",
       " ('GREEN', 'CIRCLE', 'RIPPLE'),\n",
       " ('GREEN', 'CIRCLE', 'SWIRL'),\n",
       " ('GREEN', 'SQUARE', 'ESCHER'),\n",
       " ('GREEN', 'SQUARE', 'POLKADOT'),\n",
       " ('GREEN', 'SQUARE', 'RIPPLE'),\n",
       " ('GREEN', 'SQUARE', 'SWIRL'),\n",
       " ('GREEN', 'STAR', 'ESCHER'),\n",
       " ('GREEN', 'STAR', 'POLKADOT'),\n",
       " ('GREEN', 'STAR', 'RIPPLE'),\n",
       " ('GREEN', 'STAR', 'SWIRL'),\n",
       " ('GREEN', 'TRIANGLE', 'ESCHER'),\n",
       " ('GREEN', 'TRIANGLE', 'POLKADOT'),\n",
       " ('GREEN', 'TRIANGLE', 'RIPPLE'),\n",
       " ('GREEN', 'TRIANGLE', 'SWIRL'),\n",
       " ('MAGENTA', 'CIRCLE', 'ESCHER'),\n",
       " ('MAGENTA', 'CIRCLE', 'POLKADOT'),\n",
       " ('MAGENTA', 'CIRCLE', 'RIPPLE'),\n",
       " ('MAGENTA', 'CIRCLE', 'SWIRL'),\n",
       " ('MAGENTA', 'SQUARE', 'ESCHER'),\n",
       " ('MAGENTA', 'SQUARE', 'POLKADOT'),\n",
       " ('MAGENTA', 'SQUARE', 'RIPPLE'),\n",
       " ('MAGENTA', 'SQUARE', 'SWIRL'),\n",
       " ('MAGENTA', 'STAR', 'ESCHER'),\n",
       " ('MAGENTA', 'STAR', 'POLKADOT'),\n",
       " ('MAGENTA', 'STAR', 'RIPPLE'),\n",
       " ('MAGENTA', 'STAR', 'SWIRL'),\n",
       " ('MAGENTA', 'TRIANGLE', 'ESCHER'),\n",
       " ('MAGENTA', 'TRIANGLE', 'POLKADOT'),\n",
       " ('MAGENTA', 'TRIANGLE', 'RIPPLE'),\n",
       " ('MAGENTA', 'TRIANGLE', 'SWIRL'),\n",
       " ('YELLOW', 'CIRCLE', 'ESCHER'),\n",
       " ('YELLOW', 'CIRCLE', 'POLKADOT'),\n",
       " ('YELLOW', 'CIRCLE', 'RIPPLE'),\n",
       " ('YELLOW', 'CIRCLE', 'SWIRL'),\n",
       " ('YELLOW', 'SQUARE', 'ESCHER'),\n",
       " ('YELLOW', 'SQUARE', 'POLKADOT'),\n",
       " ('YELLOW', 'SQUARE', 'RIPPLE'),\n",
       " ('YELLOW', 'SQUARE', 'SWIRL'),\n",
       " ('YELLOW', 'STAR', 'ESCHER'),\n",
       " ('YELLOW', 'STAR', 'POLKADOT'),\n",
       " ('YELLOW', 'STAR', 'RIPPLE'),\n",
       " ('YELLOW', 'STAR', 'SWIRL'),\n",
       " ('YELLOW', 'TRIANGLE', 'ESCHER'),\n",
       " ('YELLOW', 'TRIANGLE', 'POLKADOT'),\n",
       " ('YELLOW', 'TRIANGLE', 'RIPPLE'),\n",
       " ('YELLOW', 'TRIANGLE', 'SWIRL')]"
      ]
     },
     "execution_count": 13,
     "metadata": {},
     "output_type": "execute_result"
    }
   ],
   "source": [
    "prod"
   ]
  },
  {
   "cell_type": "markdown",
   "metadata": {},
   "source": []
  }
 ],
 "metadata": {
  "kernelspec": {
   "display_name": "Python 3",
   "language": "python",
   "name": "python3"
  },
  "language_info": {
   "codemirror_mode": {
    "name": "ipython",
    "version": 3
   },
   "file_extension": ".py",
   "mimetype": "text/x-python",
   "name": "python",
   "nbconvert_exporter": "python",
   "pygments_lexer": "ipython3",
   "version": "3.10.6"
  }
 },
 "nbformat": 4,
 "nbformat_minor": 2
}
