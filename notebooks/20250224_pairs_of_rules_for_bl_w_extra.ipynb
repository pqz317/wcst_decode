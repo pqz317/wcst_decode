{
 "cells": [
  {
   "cell_type": "markdown",
   "metadata": {},
   "source": [
    "### Have some extra sessions from Mike, haven't had object_features behavior files produced yet, see what the good pairs look like with these sessions included"
   ]
  },
  {
   "cell_type": "code",
   "execution_count": 1,
   "metadata": {},
   "outputs": [],
   "source": [
    "%load_ext autoreload\n",
    "%autoreload 2\n",
    "\n",
    "import os\n",
    "import numpy as np\n",
    "import pandas as pd\n",
    "import utils.behavioral_utils as behavioral_utils\n",
    "import utils.information_utils as information_utils\n",
    "import utils.visualization_utils as visualization_utils\n",
    "import utils.glm_utils as glm_utils\n",
    "from matplotlib import pyplot as plt\n",
    "import utils.spike_utils as spike_utils\n",
    "from constants.glm_constants import *\n",
    "from constants.behavioral_constants import *\n",
    "\n",
    "import seaborn as sns\n",
    "import scipy.stats\n"
   ]
  },
  {
   "cell_type": "code",
   "execution_count": 4,
   "metadata": {},
   "outputs": [],
   "source": [
    "num_bins = 2\n",
    "\n",
    "def get_sess_beh(row, beh_path, sub):\n",
    "    session = row.session_name\n",
    "    behavior_path = beh_path.format(sess_name=session)\n",
    "    beh = pd.read_csv(behavior_path)\n",
    "\n",
    "    # # filter trials \n",
    "    beh = behavioral_utils.get_valid_trials(beh)\n",
    "    feature_selections = behavioral_utils.get_selection_features(beh)\n",
    "    beh = pd.merge(beh, feature_selections, on=\"TrialNumber\", how=\"inner\")\n",
    "    beh[\"session\"] = session\n",
    "    return beh"
   ]
  },
  {
   "cell_type": "code",
   "execution_count": 5,
   "metadata": {},
   "outputs": [],
   "source": [
    "sub = \"BL\"\n",
    "# Monkey B\n",
    "# all_units = pd.read_pickle(\"/data/patrick_res/firing_rates/BL/all_units.pickle\")\n",
    "# sessions = pd.DataFrame({\"session_name\": all_units.session.unique()})\n",
    "sessions = pd.read_pickle(\"/data/patrick_res/sessions/BL/valid_sessions.pickle\")\n",
    "all_beh = pd.concat(sessions.apply(lambda x: get_sess_beh(x, BL_SESS_BEHAVIOR_PATH, \"BL\"), axis=1).values).reset_index()"
   ]
  },
  {
   "cell_type": "code",
   "execution_count": 8,
   "metadata": {},
   "outputs": [
    {
     "data": {
      "text/html": [
       "<div>\n",
       "<style scoped>\n",
       "    .dataframe tbody tr th:only-of-type {\n",
       "        vertical-align: middle;\n",
       "    }\n",
       "\n",
       "    .dataframe tbody tr th {\n",
       "        vertical-align: top;\n",
       "    }\n",
       "\n",
       "    .dataframe thead th {\n",
       "        text-align: right;\n",
       "    }\n",
       "</style>\n",
       "<table border=\"1\" class=\"dataframe\">\n",
       "  <thead>\n",
       "    <tr style=\"text-align: right;\">\n",
       "      <th></th>\n",
       "      <th>pair</th>\n",
       "      <th>sessions</th>\n",
       "      <th>num_sessions</th>\n",
       "      <th>dim_type</th>\n",
       "    </tr>\n",
       "  </thead>\n",
       "  <tbody>\n",
       "    <tr>\n",
       "      <th>61</th>\n",
       "      <td>[ESCHER, RIPPLE]</td>\n",
       "      <td>[20190529, 20190617, 20190710, 20190816, 20190...</td>\n",
       "      <td>5</td>\n",
       "      <td>within dim</td>\n",
       "    </tr>\n",
       "    <tr>\n",
       "      <th>62</th>\n",
       "      <td>[ESCHER, SWIRL]</td>\n",
       "      <td>[20190529, 20190627, 20190814, 20190823]</td>\n",
       "      <td>4</td>\n",
       "      <td>within dim</td>\n",
       "    </tr>\n",
       "    <tr>\n",
       "      <th>65</th>\n",
       "      <td>[RIPPLE, SWIRL]</td>\n",
       "      <td>[20190524, 20190529, 20190823]</td>\n",
       "      <td>3</td>\n",
       "      <td>within dim</td>\n",
       "    </tr>\n",
       "    <tr>\n",
       "      <th>27</th>\n",
       "      <td>[STAR, POLKADOT]</td>\n",
       "      <td>[20190605, 20190606, 20190607]</td>\n",
       "      <td>3</td>\n",
       "      <td>across dim</td>\n",
       "    </tr>\n",
       "    <tr>\n",
       "      <th>2</th>\n",
       "      <td>[CIRCLE, TRIANGLE]</td>\n",
       "      <td>[20190603, 20190606, 20190812]</td>\n",
       "      <td>3</td>\n",
       "      <td>within dim</td>\n",
       "    </tr>\n",
       "    <tr>\n",
       "      <th>34</th>\n",
       "      <td>[TRIANGLE, ESCHER]</td>\n",
       "      <td>[20190221, 20190710, 20190814]</td>\n",
       "      <td>3</td>\n",
       "      <td>across dim</td>\n",
       "    </tr>\n",
       "    <tr>\n",
       "      <th>1</th>\n",
       "      <td>[CIRCLE, STAR]</td>\n",
       "      <td>[20190228, 20190606, 20190703]</td>\n",
       "      <td>3</td>\n",
       "      <td>within dim</td>\n",
       "    </tr>\n",
       "    <tr>\n",
       "      <th>60</th>\n",
       "      <td>[ESCHER, POLKADOT]</td>\n",
       "      <td>[20190227, 20190531, 20190816]</td>\n",
       "      <td>3</td>\n",
       "      <td>within dim</td>\n",
       "    </tr>\n",
       "    <tr>\n",
       "      <th>25</th>\n",
       "      <td>[STAR, YELLOW]</td>\n",
       "      <td>[20190524, 20190605, 20190703]</td>\n",
       "      <td>3</td>\n",
       "      <td>across dim</td>\n",
       "    </tr>\n",
       "    <tr>\n",
       "      <th>52</th>\n",
       "      <td>[MAGENTA, ESCHER]</td>\n",
       "      <td>[20190130, 20190530, 20190823]</td>\n",
       "      <td>3</td>\n",
       "      <td>across dim</td>\n",
       "    </tr>\n",
       "    <tr>\n",
       "      <th>41</th>\n",
       "      <td>[CYAN, ESCHER]</td>\n",
       "      <td>[20190531, 20190617, 20190627]</td>\n",
       "      <td>3</td>\n",
       "      <td>across dim</td>\n",
       "    </tr>\n",
       "    <tr>\n",
       "      <th>43</th>\n",
       "      <td>[CYAN, RIPPLE]</td>\n",
       "      <td>[20190617, 20190701]</td>\n",
       "      <td>2</td>\n",
       "      <td>across dim</td>\n",
       "    </tr>\n",
       "    <tr>\n",
       "      <th>39</th>\n",
       "      <td>[CYAN, MAGENTA]</td>\n",
       "      <td>[20190708, 20190815]</td>\n",
       "      <td>2</td>\n",
       "      <td>within dim</td>\n",
       "    </tr>\n",
       "    <tr>\n",
       "      <th>40</th>\n",
       "      <td>[CYAN, YELLOW]</td>\n",
       "      <td>[20190617, 20190815]</td>\n",
       "      <td>2</td>\n",
       "      <td>within dim</td>\n",
       "    </tr>\n",
       "    <tr>\n",
       "      <th>29</th>\n",
       "      <td>[STAR, SWIRL]</td>\n",
       "      <td>[20190524, 20190625]</td>\n",
       "      <td>2</td>\n",
       "      <td>across dim</td>\n",
       "    </tr>\n",
       "    <tr>\n",
       "      <th>46</th>\n",
       "      <td>[GREEN, YELLOW]</td>\n",
       "      <td>[20190626, 20190815]</td>\n",
       "      <td>2</td>\n",
       "      <td>within dim</td>\n",
       "    </tr>\n",
       "    <tr>\n",
       "      <th>38</th>\n",
       "      <td>[CYAN, GREEN]</td>\n",
       "      <td>[20190701, 20190815]</td>\n",
       "      <td>2</td>\n",
       "      <td>within dim</td>\n",
       "    </tr>\n",
       "    <tr>\n",
       "      <th>21</th>\n",
       "      <td>[STAR, TRIANGLE]</td>\n",
       "      <td>[20190606, 20190709]</td>\n",
       "      <td>2</td>\n",
       "      <td>within dim</td>\n",
       "    </tr>\n",
       "    <tr>\n",
       "      <th>35</th>\n",
       "      <td>[TRIANGLE, POLKADOT]</td>\n",
       "      <td>[20190606, 20190626]</td>\n",
       "      <td>2</td>\n",
       "      <td>across dim</td>\n",
       "    </tr>\n",
       "    <tr>\n",
       "      <th>57</th>\n",
       "      <td>[YELLOW, POLKADOT]</td>\n",
       "      <td>[20190605, 20190626]</td>\n",
       "      <td>2</td>\n",
       "      <td>across dim</td>\n",
       "    </tr>\n",
       "  </tbody>\n",
       "</table>\n",
       "</div>"
      ],
      "text/plain": [
       "                    pair                                           sessions  \\\n",
       "61      [ESCHER, RIPPLE]  [20190529, 20190617, 20190710, 20190816, 20190...   \n",
       "62       [ESCHER, SWIRL]           [20190529, 20190627, 20190814, 20190823]   \n",
       "65       [RIPPLE, SWIRL]                     [20190524, 20190529, 20190823]   \n",
       "27      [STAR, POLKADOT]                     [20190605, 20190606, 20190607]   \n",
       "2     [CIRCLE, TRIANGLE]                     [20190603, 20190606, 20190812]   \n",
       "34    [TRIANGLE, ESCHER]                     [20190221, 20190710, 20190814]   \n",
       "1         [CIRCLE, STAR]                     [20190228, 20190606, 20190703]   \n",
       "60    [ESCHER, POLKADOT]                     [20190227, 20190531, 20190816]   \n",
       "25        [STAR, YELLOW]                     [20190524, 20190605, 20190703]   \n",
       "52     [MAGENTA, ESCHER]                     [20190130, 20190530, 20190823]   \n",
       "41        [CYAN, ESCHER]                     [20190531, 20190617, 20190627]   \n",
       "43        [CYAN, RIPPLE]                               [20190617, 20190701]   \n",
       "39       [CYAN, MAGENTA]                               [20190708, 20190815]   \n",
       "40        [CYAN, YELLOW]                               [20190617, 20190815]   \n",
       "29         [STAR, SWIRL]                               [20190524, 20190625]   \n",
       "46       [GREEN, YELLOW]                               [20190626, 20190815]   \n",
       "38         [CYAN, GREEN]                               [20190701, 20190815]   \n",
       "21      [STAR, TRIANGLE]                               [20190606, 20190709]   \n",
       "35  [TRIANGLE, POLKADOT]                               [20190606, 20190626]   \n",
       "57    [YELLOW, POLKADOT]                               [20190605, 20190626]   \n",
       "\n",
       "    num_sessions    dim_type  \n",
       "61             5  within dim  \n",
       "62             4  within dim  \n",
       "65             3  within dim  \n",
       "27             3  across dim  \n",
       "2              3  within dim  \n",
       "34             3  across dim  \n",
       "1              3  within dim  \n",
       "60             3  within dim  \n",
       "25             3  across dim  \n",
       "52             3  across dim  \n",
       "41             3  across dim  \n",
       "43             2  across dim  \n",
       "39             2  within dim  \n",
       "40             2  within dim  \n",
       "29             2  across dim  \n",
       "46             2  within dim  \n",
       "38             2  within dim  \n",
       "21             2  within dim  \n",
       "35             2  across dim  \n",
       "57             2  across dim  "
      ]
     },
     "execution_count": 8,
     "metadata": {},
     "output_type": "execute_result"
    }
   ],
   "source": [
    "block_thresh = 3\n",
    "pairs = behavioral_utils.get_good_pairs_across_sessions(all_beh, block_thresh)\n",
    "pairs.sort_values(by=\"num_sessions\", ascending=False)[:20]"
   ]
  },
  {
   "cell_type": "markdown",
   "metadata": {},
   "source": [
    "### Try to read one of the CSVs"
   ]
  },
  {
   "cell_type": "code",
   "execution_count": 26,
   "metadata": {},
   "outputs": [],
   "source": [
    "df = pd.read_csv(\"/data/patrick_res/scratch/Blanche-BehaviorOnly/sub-BL_sess-190125_parsedbehavior.csv\", header=None)\n",
    "df = df.rename(columns={0: \"TrialNumber\", 2: \"BlockNumber\", 3: \"CurrentRule\"})[[\"TrialNumber\", \"BlockNumber\", \"CurrentRule\"]]"
   ]
  },
  {
   "cell_type": "code",
   "execution_count": 27,
   "metadata": {},
   "outputs": [],
   "source": [
    "\n",
    "\n",
    "df[\"CurrentRule\"] = df[\"CurrentRule\"].apply(lambda x: rule_map[x])"
   ]
  },
  {
   "cell_type": "code",
   "execution_count": 28,
   "metadata": {},
   "outputs": [
    {
     "data": {
      "text/plain": [
       "array(['CYAN', 'ESCHER', 'SWIRL', 'CIRCLE', 'STAR', 'GREEN', 'RIPPLE',\n",
       "       'POLKADOT', 'SQUARE', 'MAGENTA'], dtype=object)"
      ]
     },
     "execution_count": 28,
     "metadata": {},
     "output_type": "execute_result"
    }
   ],
   "source": [
    "df.CurrentRule.unique()"
   ]
  },
  {
   "cell_type": "markdown",
   "metadata": {},
   "source": [
    "### Aggregate all of em"
   ]
  },
  {
   "cell_type": "code",
   "execution_count": 50,
   "metadata": {},
   "outputs": [],
   "source": [
    "base_dir = \"/data/patrick_res/scratch/Blanche-BehaviorOnly/\"\n",
    "file_names = os.listdir(base_dir)\n"
   ]
  },
  {
   "cell_type": "code",
   "execution_count": 52,
   "metadata": {},
   "outputs": [],
   "source": [
    "rule_map = [\n",
    "    \"\", \n",
    "    \"POLKADOT\", \"RIPPLE\", \"ESCHER\", \"SWIRL\", \n",
    "    \"CYAN\", \"MAGENTA\", \"YELLOW\", \"GREEN\", \n",
    "    \"CIRCLE\", \"TRIANGLE\", \"STAR\", \"SQUARE\"\n",
    "]\n",
    "dfs = []\n",
    "for file_name in file_names:\n",
    "    if file_name.endswith(\".csv\"): \n",
    "        sess_name = \"20\" + file_name.split(\"_\")[1].split(\"-\")[1]\n",
    "        df = pd.read_csv(os.path.join(base_dir, file_name), header=None)\n",
    "        df = df.rename(columns={0: \"TrialNumber\", 2: \"BlockNumber\", 3: \"CurrentRule\"})[[\"TrialNumber\", \"BlockNumber\", \"CurrentRule\"]]\n",
    "        df[\"CurrentRule\"] = df[\"CurrentRule\"].apply(lambda x: rule_map[x])\n",
    "        df[\"session\"] = sess_name\n",
    "        dfs.append(df)\n",
    "new_beh = pd.concat(dfs)"
   ]
  },
  {
   "cell_type": "code",
   "execution_count": 55,
   "metadata": {},
   "outputs": [],
   "source": [
    "block_thresh = 3\n",
    "new_pairs = behavioral_utils.get_good_pairs_across_sessions(new_beh, block_thresh)\n",
    "new_pairs = new_pairs.sort_values(by=\"num_sessions\", ascending=False)[:20]"
   ]
  },
  {
   "cell_type": "code",
   "execution_count": 57,
   "metadata": {},
   "outputs": [
    {
     "data": {
      "text/html": [
       "<div>\n",
       "<style scoped>\n",
       "    .dataframe tbody tr th:only-of-type {\n",
       "        vertical-align: middle;\n",
       "    }\n",
       "\n",
       "    .dataframe tbody tr th {\n",
       "        vertical-align: top;\n",
       "    }\n",
       "\n",
       "    .dataframe thead th {\n",
       "        text-align: right;\n",
       "    }\n",
       "</style>\n",
       "<table border=\"1\" class=\"dataframe\">\n",
       "  <thead>\n",
       "    <tr style=\"text-align: right;\">\n",
       "      <th></th>\n",
       "      <th>TrialNumber</th>\n",
       "      <th>BlockNumber</th>\n",
       "      <th>CurrentRule</th>\n",
       "      <th>session</th>\n",
       "    </tr>\n",
       "  </thead>\n",
       "  <tbody>\n",
       "    <tr>\n",
       "      <th>0</th>\n",
       "      <td>19</td>\n",
       "      <td>1</td>\n",
       "      <td>STAR</td>\n",
       "      <td>20190920</td>\n",
       "    </tr>\n",
       "    <tr>\n",
       "      <th>1</th>\n",
       "      <td>20</td>\n",
       "      <td>1</td>\n",
       "      <td>STAR</td>\n",
       "      <td>20190920</td>\n",
       "    </tr>\n",
       "    <tr>\n",
       "      <th>2</th>\n",
       "      <td>21</td>\n",
       "      <td>1</td>\n",
       "      <td>STAR</td>\n",
       "      <td>20190920</td>\n",
       "    </tr>\n",
       "    <tr>\n",
       "      <th>3</th>\n",
       "      <td>22</td>\n",
       "      <td>1</td>\n",
       "      <td>STAR</td>\n",
       "      <td>20190920</td>\n",
       "    </tr>\n",
       "    <tr>\n",
       "      <th>4</th>\n",
       "      <td>23</td>\n",
       "      <td>1</td>\n",
       "      <td>STAR</td>\n",
       "      <td>20190920</td>\n",
       "    </tr>\n",
       "    <tr>\n",
       "      <th>...</th>\n",
       "      <td>...</td>\n",
       "      <td>...</td>\n",
       "      <td>...</td>\n",
       "      <td>...</td>\n",
       "    </tr>\n",
       "    <tr>\n",
       "      <th>1020</th>\n",
       "      <td>1030</td>\n",
       "      <td>24</td>\n",
       "      <td>TRIANGLE</td>\n",
       "      <td>20190524</td>\n",
       "    </tr>\n",
       "    <tr>\n",
       "      <th>1021</th>\n",
       "      <td>1031</td>\n",
       "      <td>24</td>\n",
       "      <td>TRIANGLE</td>\n",
       "      <td>20190524</td>\n",
       "    </tr>\n",
       "    <tr>\n",
       "      <th>1022</th>\n",
       "      <td>1032</td>\n",
       "      <td>24</td>\n",
       "      <td>TRIANGLE</td>\n",
       "      <td>20190524</td>\n",
       "    </tr>\n",
       "    <tr>\n",
       "      <th>1023</th>\n",
       "      <td>1033</td>\n",
       "      <td>24</td>\n",
       "      <td>TRIANGLE</td>\n",
       "      <td>20190524</td>\n",
       "    </tr>\n",
       "    <tr>\n",
       "      <th>1024</th>\n",
       "      <td>1042</td>\n",
       "      <td>24</td>\n",
       "      <td>TRIANGLE</td>\n",
       "      <td>20190524</td>\n",
       "    </tr>\n",
       "  </tbody>\n",
       "</table>\n",
       "<p>75160 rows × 4 columns</p>\n",
       "</div>"
      ],
      "text/plain": [
       "      TrialNumber  BlockNumber CurrentRule   session\n",
       "0              19            1        STAR  20190920\n",
       "1              20            1        STAR  20190920\n",
       "2              21            1        STAR  20190920\n",
       "3              22            1        STAR  20190920\n",
       "4              23            1        STAR  20190920\n",
       "...           ...          ...         ...       ...\n",
       "1020         1030           24    TRIANGLE  20190524\n",
       "1021         1031           24    TRIANGLE  20190524\n",
       "1022         1032           24    TRIANGLE  20190524\n",
       "1023         1033           24    TRIANGLE  20190524\n",
       "1024         1042           24    TRIANGLE  20190524\n",
       "\n",
       "[75160 rows x 4 columns]"
      ]
     },
     "execution_count": 57,
     "metadata": {},
     "output_type": "execute_result"
    }
   ],
   "source": [
    "new_beh"
   ]
  },
  {
   "cell_type": "code",
   "execution_count": 61,
   "metadata": {},
   "outputs": [],
   "source": [
    "old_beh = all_beh[[\"TrialNumber\", \"BlockNumber\", \"CurrentRule\", \"session\"]]"
   ]
  },
  {
   "cell_type": "code",
   "execution_count": 62,
   "metadata": {},
   "outputs": [],
   "source": [
    "agg_beh = pd.concat((old_beh, new_beh))"
   ]
  },
  {
   "cell_type": "code",
   "execution_count": 66,
   "metadata": {},
   "outputs": [],
   "source": [
    "block_thresh = 3\n",
    "agg_pairs = behavioral_utils.get_good_pairs_across_sessions(agg_beh, block_thresh)\n",
    "agg_pairs = agg_pairs.sort_values(by=\"num_sessions\", ascending=False)[:20]"
   ]
  },
  {
   "cell_type": "code",
   "execution_count": 71,
   "metadata": {},
   "outputs": [],
   "source": [
    "good_pairs = agg_pairs[agg_pairs.num_sessions > 6]"
   ]
  },
  {
   "cell_type": "code",
   "execution_count": 96,
   "metadata": {},
   "outputs": [
    {
     "data": {
      "text/plain": [
       "11"
      ]
     },
     "execution_count": 96,
     "metadata": {},
     "output_type": "execute_result"
    }
   ],
   "source": [
    "len(good_pairs)"
   ]
  },
  {
   "cell_type": "code",
   "execution_count": 78,
   "metadata": {},
   "outputs": [],
   "source": [
    "sessions = good_pairs.sessions.explode().unique()"
   ]
  },
  {
   "cell_type": "code",
   "execution_count": 109,
   "metadata": {},
   "outputs": [
    {
     "data": {
      "text/plain": [
       "47"
      ]
     },
     "execution_count": 109,
     "metadata": {},
     "output_type": "execute_result"
    }
   ],
   "source": [
    "len(sessions)"
   ]
  },
  {
   "cell_type": "markdown",
   "metadata": {},
   "source": [
    "### Get sessions that have been spike sorted, sessions that have object_features.."
   ]
  },
  {
   "cell_type": "code",
   "execution_count": 83,
   "metadata": {},
   "outputs": [],
   "source": [
    "all_units = pd.read_pickle(\"/data/patrick_res/firing_rates/BL/all_units.pickle\")\n",
    "sorted_sessions = all_units.session.unique()\n",
    "of_sessions = pd.read_pickle(\"/data/patrick_res/sessions/BL/valid_sessions.pickle\").session_name.unique()"
   ]
  },
  {
   "cell_type": "markdown",
   "metadata": {},
   "source": [
    "### Get sessions where no object features have been generated yet"
   ]
  },
  {
   "cell_type": "code",
   "execution_count": 103,
   "metadata": {},
   "outputs": [],
   "source": [
    "no_of_sessions = sessions[~np.isin(sessions, of_sessions)]\n",
    "df = pd.DataFrame({\"sessions\": no_of_sessions})\n",
    "df.to_csv(\"/data/patrick_res/scratch/no_of_sessions.csv\")"
   ]
  },
  {
   "cell_type": "markdown",
   "metadata": {},
   "source": [
    "### Get sessions where object features have been generated, but haven't been spike sorted yet"
   ]
  },
  {
   "cell_type": "code",
   "execution_count": 107,
   "metadata": {},
   "outputs": [],
   "source": [
    "of_sessions = sessions[np.isin(sessions, of_sessions)]\n",
    "of_no_spike_sess = of_sessions[~np.isin(of_sessions, sorted_sessions)]\n",
    "df = pd.DataFrame({\"sessions\": of_no_spike_sess})\n",
    "df.to_csv(\"/data/patrick_res/scratch/of_no_spike_sessions.csv\")"
   ]
  },
  {
   "cell_type": "code",
   "execution_count": 108,
   "metadata": {},
   "outputs": [],
   "source": [
    "good_pairs.to_csv(\"/data/patrick_res/scratch/good_pairs.csv\")"
   ]
  },
  {
   "cell_type": "code",
   "execution_count": null,
   "metadata": {},
   "outputs": [],
   "source": []
  }
 ],
 "metadata": {
  "kernelspec": {
   "display_name": "Python 3",
   "language": "python",
   "name": "python3"
  },
  "language_info": {
   "codemirror_mode": {
    "name": "ipython",
    "version": 3
   },
   "file_extension": ".py",
   "mimetype": "text/x-python",
   "name": "python",
   "nbconvert_exporter": "python",
   "pygments_lexer": "ipython3",
   "version": "3.10.6"
  }
 },
 "nbformat": 4,
 "nbformat_minor": 2
}
