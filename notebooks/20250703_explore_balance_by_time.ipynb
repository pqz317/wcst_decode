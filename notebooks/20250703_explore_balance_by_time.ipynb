{
 "cells": [
  {
   "cell_type": "markdown",
   "metadata": {},
   "source": [
    "### Draft up code to do time balancing, see if running it is feasible, how good it is. "
   ]
  },
  {
   "cell_type": "code",
   "execution_count": 1,
   "metadata": {},
   "outputs": [],
   "source": [
    "%load_ext autoreload\n",
    "%autoreload 2\n",
    "\n",
    "import os\n",
    "import numpy as np\n",
    "import pandas as pd\n",
    "import utils.behavioral_utils as behavioral_utils\n",
    "import utils.information_utils as information_utils\n",
    "import utils.visualization_utils as visualization_utils\n",
    "import utils.pseudo_classifier_utils as pseudo_classifier_utils\n",
    "import utils.classifier_utils as classifier_utils\n",
    "\n",
    "import utils.io_utils as io_utils\n",
    "\n",
    "import utils.glm_utils as glm_utils\n",
    "from matplotlib import pyplot as plt\n",
    "import matplotlib\n",
    "import utils.spike_utils as spike_utils\n",
    "import utils.subspace_utils as subspace_utils\n",
    "from trial_splitters.condition_trial_splitter import ConditionTrialSplitter \n",
    "from utils.session_data import SessionData\n",
    "from constants.behavioral_constants import *\n",
    "from constants.decoding_constants import *\n",
    "import seaborn as sns\n",
    "from scripts.pseudo_decoding.belief_partitions.belief_partition_configs import *\n",
    "import scripts.pseudo_decoding.belief_partitions.belief_partitions_io as belief_partitions_io\n",
    "\n",
    "import scipy\n",
    "import argparse\n",
    "import copy\n",
    "from tqdm import tqdm\n",
    "\n",
    "import numpy as np\n",
    "from scipy.spatial.distance import pdist, cdist\n",
    "from scipy.stats import skew\n",
    "import matplotlib.pyplot as plt"
   ]
  },
  {
   "cell_type": "code",
   "execution_count": 2,
   "metadata": {},
   "outputs": [],
   "source": [
    "def compute_pairwise_stats(beh):\n",
    "    trial_dists = pdist(beh.TrialNumber.values.reshape(-1, 1), metric='euclidean')\n",
    "    return np.mean(trial_dists), np.std(trial_dists)\n",
    "\n",
    "def time_balance_conds(beh, sample_size, num_iters, target_mean, target_std, seed=42):\n",
    "    \"\"\"\n",
    "    Sample from behavior, such that distribution of subsample trial number distances \n",
    "    in subsample is as close to target mean/std as possible\n",
    "    \"\"\"\n",
    "    # n_size = np.min((len(cond1_beh, len(cond2_beh))))\n",
    "    lowest_err = np.inf   \n",
    "    best_sub_trials = None\n",
    "    rng = np.random.default_rng(seed=seed)\n",
    "    for i in tqdm(range(num_iters)):\n",
    "        idx = rng.choice(len(beh), size=sample_size, replace=False)\n",
    "        sub_beh = beh.iloc[idx]\n",
    "        mean, std = compute_pairwise_stats(sub_beh)\n",
    "        # just weight mean and std equally at this point, \n",
    "        # err = 2 * (mean - target_mean) ** 2 + (std - target_std) **2\n",
    "        err = (mean - target_mean) ** 2\n",
    "        if err < lowest_err:\n",
    "            print(f\"new err: {err}\")\n",
    "            best_sub_trials = sub_beh.TrialNumber.values\n",
    "            lowest_err = err\n",
    "    return best_sub_trials, lowest_err\n"
   ]
  },
  {
   "cell_type": "code",
   "execution_count": 3,
   "metadata": {},
   "outputs": [],
   "source": [
    "subject = \"SA\"\n",
    "session = \"20180802\"\n",
    "feat = \"TRIANGLE\"\n",
    "beh = behavioral_utils.get_valid_belief_beh_for_sub_sess(subject, session)\n",
    "beh = behavioral_utils.get_belief_partitions(beh, feat, use_x=True)"
   ]
  },
  {
   "cell_type": "code",
   "execution_count": 4,
   "metadata": {},
   "outputs": [
    {
     "data": {
      "text/html": [
       "<div>\n",
       "<style scoped>\n",
       "    .dataframe tbody tr th:only-of-type {\n",
       "        vertical-align: middle;\n",
       "    }\n",
       "\n",
       "    .dataframe tbody tr th {\n",
       "        vertical-align: top;\n",
       "    }\n",
       "\n",
       "    .dataframe thead th {\n",
       "        text-align: right;\n",
       "    }\n",
       "</style>\n",
       "<table border=\"1\" class=\"dataframe\">\n",
       "  <thead>\n",
       "    <tr style=\"text-align: right;\">\n",
       "      <th></th>\n",
       "      <th>TrialNumber</th>\n",
       "      <th>BlockNumber</th>\n",
       "      <th>TrialAfterRuleChange</th>\n",
       "      <th>TaskInterrupt</th>\n",
       "      <th>ConditionNumber</th>\n",
       "      <th>Response</th>\n",
       "      <th>ItemChosen</th>\n",
       "      <th>TrialType</th>\n",
       "      <th>CurrentRule</th>\n",
       "      <th>LastRule</th>\n",
       "      <th>...</th>\n",
       "      <th>PrevColor</th>\n",
       "      <th>PrevShape</th>\n",
       "      <th>PrevPattern</th>\n",
       "      <th>session</th>\n",
       "      <th>BeliefConf</th>\n",
       "      <th>BeliefPolicy</th>\n",
       "      <th>BeliefPartition</th>\n",
       "      <th>NextBeliefConf</th>\n",
       "      <th>NextBeliefPolicy</th>\n",
       "      <th>NextBeliefPartition</th>\n",
       "    </tr>\n",
       "  </thead>\n",
       "  <tbody>\n",
       "    <tr>\n",
       "      <th>39</th>\n",
       "      <td>74</td>\n",
       "      <td>3</td>\n",
       "      <td>17</td>\n",
       "      <td>NaN</td>\n",
       "      <td>545</td>\n",
       "      <td>Incorrect</td>\n",
       "      <td>3.0</td>\n",
       "      <td>9</td>\n",
       "      <td>TRIANGLE</td>\n",
       "      <td>CIRCLE</td>\n",
       "      <td>...</td>\n",
       "      <td>GREEN</td>\n",
       "      <td>TRIANGLE</td>\n",
       "      <td>RIPPLE</td>\n",
       "      <td>20180802</td>\n",
       "      <td>High</td>\n",
       "      <td>X</td>\n",
       "      <td>High X</td>\n",
       "      <td>Low</td>\n",
       "      <td>Not X</td>\n",
       "      <td>Low</td>\n",
       "    </tr>\n",
       "    <tr>\n",
       "      <th>41</th>\n",
       "      <td>76</td>\n",
       "      <td>3</td>\n",
       "      <td>19</td>\n",
       "      <td>NaN</td>\n",
       "      <td>177</td>\n",
       "      <td>Incorrect</td>\n",
       "      <td>2.0</td>\n",
       "      <td>9</td>\n",
       "      <td>TRIANGLE</td>\n",
       "      <td>CIRCLE</td>\n",
       "      <td>...</td>\n",
       "      <td>YELLOW</td>\n",
       "      <td>TRIANGLE</td>\n",
       "      <td>ESCHER</td>\n",
       "      <td>20180802</td>\n",
       "      <td>High</td>\n",
       "      <td>X</td>\n",
       "      <td>High X</td>\n",
       "      <td>High</td>\n",
       "      <td>X</td>\n",
       "      <td>High X</td>\n",
       "    </tr>\n",
       "    <tr>\n",
       "      <th>42</th>\n",
       "      <td>77</td>\n",
       "      <td>3</td>\n",
       "      <td>20</td>\n",
       "      <td>NaN</td>\n",
       "      <td>510</td>\n",
       "      <td>Correct</td>\n",
       "      <td>0.0</td>\n",
       "      <td>9</td>\n",
       "      <td>TRIANGLE</td>\n",
       "      <td>CIRCLE</td>\n",
       "      <td>...</td>\n",
       "      <td>YELLOW</td>\n",
       "      <td>STAR</td>\n",
       "      <td>SWIRL</td>\n",
       "      <td>20180802</td>\n",
       "      <td>High</td>\n",
       "      <td>X</td>\n",
       "      <td>High X</td>\n",
       "      <td>High</td>\n",
       "      <td>X</td>\n",
       "      <td>High X</td>\n",
       "    </tr>\n",
       "    <tr>\n",
       "      <th>43</th>\n",
       "      <td>78</td>\n",
       "      <td>3</td>\n",
       "      <td>21</td>\n",
       "      <td>NaN</td>\n",
       "      <td>406</td>\n",
       "      <td>Correct</td>\n",
       "      <td>0.0</td>\n",
       "      <td>9</td>\n",
       "      <td>TRIANGLE</td>\n",
       "      <td>CIRCLE</td>\n",
       "      <td>...</td>\n",
       "      <td>GREEN</td>\n",
       "      <td>TRIANGLE</td>\n",
       "      <td>ESCHER</td>\n",
       "      <td>20180802</td>\n",
       "      <td>High</td>\n",
       "      <td>X</td>\n",
       "      <td>High X</td>\n",
       "      <td>High</td>\n",
       "      <td>X</td>\n",
       "      <td>High X</td>\n",
       "    </tr>\n",
       "    <tr>\n",
       "      <th>44</th>\n",
       "      <td>79</td>\n",
       "      <td>3</td>\n",
       "      <td>22</td>\n",
       "      <td>NaN</td>\n",
       "      <td>432</td>\n",
       "      <td>Correct</td>\n",
       "      <td>0.0</td>\n",
       "      <td>9</td>\n",
       "      <td>TRIANGLE</td>\n",
       "      <td>CIRCLE</td>\n",
       "      <td>...</td>\n",
       "      <td>YELLOW</td>\n",
       "      <td>TRIANGLE</td>\n",
       "      <td>SWIRL</td>\n",
       "      <td>20180802</td>\n",
       "      <td>High</td>\n",
       "      <td>X</td>\n",
       "      <td>High X</td>\n",
       "      <td>High</td>\n",
       "      <td>X</td>\n",
       "      <td>High X</td>\n",
       "    </tr>\n",
       "    <tr>\n",
       "      <th>...</th>\n",
       "      <td>...</td>\n",
       "      <td>...</td>\n",
       "      <td>...</td>\n",
       "      <td>...</td>\n",
       "      <td>...</td>\n",
       "      <td>...</td>\n",
       "      <td>...</td>\n",
       "      <td>...</td>\n",
       "      <td>...</td>\n",
       "      <td>...</td>\n",
       "      <td>...</td>\n",
       "      <td>...</td>\n",
       "      <td>...</td>\n",
       "      <td>...</td>\n",
       "      <td>...</td>\n",
       "      <td>...</td>\n",
       "      <td>...</td>\n",
       "      <td>...</td>\n",
       "      <td>...</td>\n",
       "      <td>...</td>\n",
       "      <td>...</td>\n",
       "    </tr>\n",
       "    <tr>\n",
       "      <th>1286</th>\n",
       "      <td>1321</td>\n",
       "      <td>44</td>\n",
       "      <td>22</td>\n",
       "      <td>NaN</td>\n",
       "      <td>81</td>\n",
       "      <td>Correct</td>\n",
       "      <td>0.0</td>\n",
       "      <td>9</td>\n",
       "      <td>TRIANGLE</td>\n",
       "      <td>SQUARE</td>\n",
       "      <td>...</td>\n",
       "      <td>CYAN</td>\n",
       "      <td>TRIANGLE</td>\n",
       "      <td>ESCHER</td>\n",
       "      <td>20180802</td>\n",
       "      <td>High</td>\n",
       "      <td>X</td>\n",
       "      <td>High X</td>\n",
       "      <td>High</td>\n",
       "      <td>X</td>\n",
       "      <td>High X</td>\n",
       "    </tr>\n",
       "    <tr>\n",
       "      <th>1287</th>\n",
       "      <td>1322</td>\n",
       "      <td>44</td>\n",
       "      <td>23</td>\n",
       "      <td>NaN</td>\n",
       "      <td>107</td>\n",
       "      <td>Correct</td>\n",
       "      <td>0.0</td>\n",
       "      <td>9</td>\n",
       "      <td>TRIANGLE</td>\n",
       "      <td>SQUARE</td>\n",
       "      <td>...</td>\n",
       "      <td>CYAN</td>\n",
       "      <td>TRIANGLE</td>\n",
       "      <td>ESCHER</td>\n",
       "      <td>20180802</td>\n",
       "      <td>High</td>\n",
       "      <td>X</td>\n",
       "      <td>High X</td>\n",
       "      <td>High</td>\n",
       "      <td>X</td>\n",
       "      <td>High X</td>\n",
       "    </tr>\n",
       "    <tr>\n",
       "      <th>1288</th>\n",
       "      <td>1323</td>\n",
       "      <td>45</td>\n",
       "      <td>0</td>\n",
       "      <td>NaN</td>\n",
       "      <td>4081</td>\n",
       "      <td>Incorrect</td>\n",
       "      <td>2.0</td>\n",
       "      <td>7</td>\n",
       "      <td>GREEN</td>\n",
       "      <td>TRIANGLE</td>\n",
       "      <td>...</td>\n",
       "      <td>CYAN</td>\n",
       "      <td>TRIANGLE</td>\n",
       "      <td>ESCHER</td>\n",
       "      <td>20180802</td>\n",
       "      <td>High</td>\n",
       "      <td>X</td>\n",
       "      <td>High X</td>\n",
       "      <td>High</td>\n",
       "      <td>X</td>\n",
       "      <td>High X</td>\n",
       "    </tr>\n",
       "    <tr>\n",
       "      <th>1289</th>\n",
       "      <td>1324</td>\n",
       "      <td>45</td>\n",
       "      <td>1</td>\n",
       "      <td>NaN</td>\n",
       "      <td>4336</td>\n",
       "      <td>Incorrect</td>\n",
       "      <td>1.0</td>\n",
       "      <td>7</td>\n",
       "      <td>GREEN</td>\n",
       "      <td>TRIANGLE</td>\n",
       "      <td>...</td>\n",
       "      <td>MAGENTA</td>\n",
       "      <td>SQUARE</td>\n",
       "      <td>ESCHER</td>\n",
       "      <td>20180802</td>\n",
       "      <td>High</td>\n",
       "      <td>X</td>\n",
       "      <td>High X</td>\n",
       "      <td>High</td>\n",
       "      <td>X</td>\n",
       "      <td>High X</td>\n",
       "    </tr>\n",
       "    <tr>\n",
       "      <th>1290</th>\n",
       "      <td>1325</td>\n",
       "      <td>45</td>\n",
       "      <td>2</td>\n",
       "      <td>NaN</td>\n",
       "      <td>4365</td>\n",
       "      <td>Incorrect</td>\n",
       "      <td>2.0</td>\n",
       "      <td>7</td>\n",
       "      <td>GREEN</td>\n",
       "      <td>TRIANGLE</td>\n",
       "      <td>...</td>\n",
       "      <td>CYAN</td>\n",
       "      <td>CIRCLE</td>\n",
       "      <td>ESCHER</td>\n",
       "      <td>20180802</td>\n",
       "      <td>High</td>\n",
       "      <td>X</td>\n",
       "      <td>High X</td>\n",
       "      <td>Low</td>\n",
       "      <td>Not X</td>\n",
       "      <td>Low</td>\n",
       "    </tr>\n",
       "  </tbody>\n",
       "</table>\n",
       "<p>91 rows × 72 columns</p>\n",
       "</div>"
      ],
      "text/plain": [
       "      TrialNumber  BlockNumber  TrialAfterRuleChange TaskInterrupt  \\\n",
       "39             74            3                    17           NaN   \n",
       "41             76            3                    19           NaN   \n",
       "42             77            3                    20           NaN   \n",
       "43             78            3                    21           NaN   \n",
       "44             79            3                    22           NaN   \n",
       "...           ...          ...                   ...           ...   \n",
       "1286         1321           44                    22           NaN   \n",
       "1287         1322           44                    23           NaN   \n",
       "1288         1323           45                     0           NaN   \n",
       "1289         1324           45                     1           NaN   \n",
       "1290         1325           45                     2           NaN   \n",
       "\n",
       "      ConditionNumber   Response  ItemChosen  TrialType CurrentRule  LastRule  \\\n",
       "39                545  Incorrect         3.0          9    TRIANGLE    CIRCLE   \n",
       "41                177  Incorrect         2.0          9    TRIANGLE    CIRCLE   \n",
       "42                510    Correct         0.0          9    TRIANGLE    CIRCLE   \n",
       "43                406    Correct         0.0          9    TRIANGLE    CIRCLE   \n",
       "44                432    Correct         0.0          9    TRIANGLE    CIRCLE   \n",
       "...               ...        ...         ...        ...         ...       ...   \n",
       "1286               81    Correct         0.0          9    TRIANGLE    SQUARE   \n",
       "1287              107    Correct         0.0          9    TRIANGLE    SQUARE   \n",
       "1288             4081  Incorrect         2.0          7       GREEN  TRIANGLE   \n",
       "1289             4336  Incorrect         1.0          7       GREEN  TRIANGLE   \n",
       "1290             4365  Incorrect         2.0          7       GREEN  TRIANGLE   \n",
       "\n",
       "      ... PrevColor  PrevShape  PrevPattern   session  BeliefConf  \\\n",
       "39    ...     GREEN   TRIANGLE       RIPPLE  20180802        High   \n",
       "41    ...    YELLOW   TRIANGLE       ESCHER  20180802        High   \n",
       "42    ...    YELLOW       STAR        SWIRL  20180802        High   \n",
       "43    ...     GREEN   TRIANGLE       ESCHER  20180802        High   \n",
       "44    ...    YELLOW   TRIANGLE        SWIRL  20180802        High   \n",
       "...   ...       ...        ...          ...       ...         ...   \n",
       "1286  ...      CYAN   TRIANGLE       ESCHER  20180802        High   \n",
       "1287  ...      CYAN   TRIANGLE       ESCHER  20180802        High   \n",
       "1288  ...      CYAN   TRIANGLE       ESCHER  20180802        High   \n",
       "1289  ...   MAGENTA     SQUARE       ESCHER  20180802        High   \n",
       "1290  ...      CYAN     CIRCLE       ESCHER  20180802        High   \n",
       "\n",
       "      BeliefPolicy  BeliefPartition  NextBeliefConf  NextBeliefPolicy  \\\n",
       "39               X           High X             Low             Not X   \n",
       "41               X           High X            High                 X   \n",
       "42               X           High X            High                 X   \n",
       "43               X           High X            High                 X   \n",
       "44               X           High X            High                 X   \n",
       "...            ...              ...             ...               ...   \n",
       "1286             X           High X            High                 X   \n",
       "1287             X           High X            High                 X   \n",
       "1288             X           High X            High                 X   \n",
       "1289             X           High X            High                 X   \n",
       "1290             X           High X             Low             Not X   \n",
       "\n",
       "      NextBeliefPartition  \n",
       "39                    Low  \n",
       "41                 High X  \n",
       "42                 High X  \n",
       "43                 High X  \n",
       "44                 High X  \n",
       "...                   ...  \n",
       "1286               High X  \n",
       "1287               High X  \n",
       "1288               High X  \n",
       "1289               High X  \n",
       "1290                  Low  \n",
       "\n",
       "[91 rows x 72 columns]"
      ]
     },
     "execution_count": 4,
     "metadata": {},
     "output_type": "execute_result"
    }
   ],
   "source": [
    "beh[beh.BeliefPartition == \"High X\"]"
   ]
  },
  {
   "cell_type": "code",
   "execution_count": 5,
   "metadata": {},
   "outputs": [
    {
     "name": "stdout",
     "output_type": "stream",
     "text": [
      "568.8819021656823\n",
      "401.90658925054845\n"
     ]
    }
   ],
   "source": [
    "mean, std = compute_pairwise_stats(beh)\n",
    "print(mean)\n",
    "print(std)"
   ]
  },
  {
   "cell_type": "code",
   "execution_count": 8,
   "metadata": {},
   "outputs": [
    {
     "name": "stderr",
     "output_type": "stream",
     "text": [
      "  0%|          | 0/20000 [00:00<?, ?it/s]"
     ]
    },
    {
     "name": "stderr",
     "output_type": "stream",
     "text": [
      "  2%|▏         | 319/20000 [00:00<00:12, 1598.92it/s]"
     ]
    },
    {
     "name": "stdout",
     "output_type": "stream",
     "text": [
      "new err: 1367.440364297335\n",
      "new err: 960.8782403299567\n",
      "new err: 250.7918442392767\n",
      "new err: 127.01497784416989\n",
      "new err: 6.89926548253192\n"
     ]
    },
    {
     "name": "stderr",
     "output_type": "stream",
     "text": [
      "  5%|▍         | 980/20000 [00:00<00:11, 1642.50it/s]"
     ]
    },
    {
     "name": "stdout",
     "output_type": "stream",
     "text": [
      "new err: 0.5113596982501665\n"
     ]
    },
    {
     "name": "stderr",
     "output_type": "stream",
     "text": [
      "  9%|▉         | 1808/20000 [00:01<00:11, 1647.71it/s]"
     ]
    },
    {
     "name": "stdout",
     "output_type": "stream",
     "text": [
      "new err: 0.1887980867547167\n"
     ]
    },
    {
     "name": "stderr",
     "output_type": "stream",
     "text": [
      " 23%|██▎       | 4614/20000 [00:02<00:09, 1632.97it/s]"
     ]
    },
    {
     "name": "stdout",
     "output_type": "stream",
     "text": [
      "new err: 0.031289994112478625\n"
     ]
    },
    {
     "name": "stderr",
     "output_type": "stream",
     "text": [
      " 82%|████████▏ | 16385/20000 [00:10<00:02, 1623.41it/s]"
     ]
    },
    {
     "name": "stdout",
     "output_type": "stream",
     "text": [
      "new err: 0.0003569752089355063\n"
     ]
    },
    {
     "name": "stderr",
     "output_type": "stream",
     "text": [
      "100%|██████████| 20000/20000 [00:12<00:00, 1627.42it/s]\n"
     ]
    }
   ],
   "source": [
    "best_sub_trials, lowest_err = time_balance_conds(beh, 500, 20000, target_mean=600, target_std=450)"
   ]
  },
  {
   "cell_type": "code",
   "execution_count": 9,
   "metadata": {},
   "outputs": [
    {
     "name": "stdout",
     "output_type": "stream",
     "text": [
      "599.9811062124248\n",
      "424.2868070551108\n"
     ]
    }
   ],
   "source": [
    "sub_mean, sub_std = compute_pairwise_stats(beh[beh.TrialNumber.isin(best_sub_trials)])\n",
    "print(sub_mean)\n",
    "print(sub_std)"
   ]
  },
  {
   "cell_type": "code",
   "execution_count": 10,
   "metadata": {},
   "outputs": [
    {
     "data": {
      "text/plain": [
       "0.0003569752089355063"
      ]
     },
     "execution_count": 10,
     "metadata": {},
     "output_type": "execute_result"
    }
   ],
   "source": [
    "lowest_err"
   ]
  },
  {
   "cell_type": "markdown",
   "metadata": {},
   "source": [
    "### If only care about distance between pairs of conditions: "
   ]
  },
  {
   "cell_type": "code",
   "execution_count": 6,
   "metadata": {},
   "outputs": [],
   "source": [
    "def compute_pairwise_stats_by_pair(beh_a, beh_b, mean=True):\n",
    "    trial_dists = cdist(\n",
    "        beh_a.TrialNumber.values.reshape(-1, 1), \n",
    "        beh_b.TrialNumber.values.reshape(-1, 1), \n",
    "        metric='euclidean')\n",
    "    if mean:\n",
    "        return np.mean(trial_dists)\n",
    "    else: \n",
    "        trial_dists\n",
    "    return np.mean(trial_dists)\n",
    "\n",
    "def time_balance_conds_by_pair(beh_a, beh_b, num_iters, target_mean, sample_size=None, seed=42):\n",
    "    \"\"\"\n",
    "    Sample from behavior, such that distribution of subsample trial number distances \n",
    "    in subsample is as close to target mean/std as possible\n",
    "    \"\"\"\n",
    "\n",
    "    lowest_err = np.inf   \n",
    "    best_sub_a_trials = None\n",
    "    best_sub_b_trials = None\n",
    "    rng = np.random.default_rng(seed=seed)\n",
    "    sample_size = np.min((len(beh_a), len(beh_b))) if sample_size is None else sample_size\n",
    "    for i in tqdm(range(num_iters)):\n",
    "        idx_a = rng.choice(len(beh_a), size=sample_size, replace=False)\n",
    "        sub_beh_a = beh_a.iloc[idx_a]\n",
    "\n",
    "        idx_b = rng.choice(len(beh_b), size=sample_size, replace=False)\n",
    "        sub_beh_b = beh_b.iloc[idx_b]\n",
    "        mean = compute_pairwise_stats_by_pair(sub_beh_a, sub_beh_b)\n",
    "        # just weight mean and std equally at this point, \n",
    "        # err = 2 * (mean - target_mean) ** 2 + (std - target_std) **2\n",
    "        err = (mean - target_mean) ** 2\n",
    "        if err < lowest_err:\n",
    "            print(f\"new err: {err}, new mean {mean}\")\n",
    "            best_sub_a_trials = sub_beh_a.TrialNumber.values\n",
    "            best_sub_b_trials = sub_beh_b.TrialNumber.values\n",
    "\n",
    "            lowest_err = err\n",
    "    return best_sub_a_trials, best_sub_b_trials, lowest_err\n"
   ]
  },
  {
   "cell_type": "code",
   "execution_count": 7,
   "metadata": {},
   "outputs": [],
   "source": [
    "subject = \"SA\"\n",
    "session = \"20180802\"\n",
    "beh = behavioral_utils.get_valid_belief_beh_for_sub_sess(subject, session)"
   ]
  },
  {
   "cell_type": "code",
   "execution_count": 8,
   "metadata": {},
   "outputs": [
    {
     "data": {
      "text/plain": [
       "CurrentRule\n",
       "CIRCLE      6\n",
       "CYAN        6\n",
       "ESCHER      1\n",
       "GREEN       6\n",
       "MAGENTA     3\n",
       "POLKADOT    4\n",
       "RIPPLE      4\n",
       "SQUARE      5\n",
       "STAR        2\n",
       "SWIRL       4\n",
       "TRIANGLE    7\n",
       "YELLOW      5\n",
       "Name: BlockNumber, dtype: int64"
      ]
     },
     "execution_count": 8,
     "metadata": {},
     "output_type": "execute_result"
    }
   ],
   "source": [
    "beh.groupby(\"CurrentRule\").BlockNumber.nunique()"
   ]
  },
  {
   "cell_type": "code",
   "execution_count": 9,
   "metadata": {},
   "outputs": [],
   "source": [
    "beh.groupby(\"CurrentRule\").BlockNumber.nunique()\n",
    "\n",
    "circle_beh = behavioral_utils.get_belief_partitions(beh, \"CIRCLE\", use_x=True)\n",
    "circle_beh = circle_beh[circle_beh.BeliefPartition == \"High X\"]\n",
    "\n",
    "triangle_beh = behavioral_utils.get_belief_partitions(beh, \"TRIANGLE\", use_x=True)\n",
    "triangle_beh = triangle_beh[triangle_beh.BeliefPartition == \"High X\"]\n",
    "\n",
    "green_beh = behavioral_utils.get_belief_partitions(beh, \"GREEN\", use_x=True)\n",
    "green_beh = green_beh[green_beh.BeliefPartition == \"High X\"]\n"
   ]
  },
  {
   "cell_type": "code",
   "execution_count": 10,
   "metadata": {},
   "outputs": [
    {
     "data": {
      "text/plain": [
       "425.7869162087912"
      ]
     },
     "execution_count": 10,
     "metadata": {},
     "output_type": "execute_result"
    }
   ],
   "source": [
    "compute_pairwise_stats_by_pair(circle_beh, triangle_beh)"
   ]
  },
  {
   "cell_type": "code",
   "execution_count": 11,
   "metadata": {},
   "outputs": [
    {
     "data": {
      "text/plain": [
       "635.0475470430108"
      ]
     },
     "execution_count": 11,
     "metadata": {},
     "output_type": "execute_result"
    }
   ],
   "source": [
    "compute_pairwise_stats_by_pair(circle_beh, green_beh)"
   ]
  },
  {
   "cell_type": "code",
   "execution_count": 12,
   "metadata": {},
   "outputs": [
    {
     "name": "stderr",
     "output_type": "stream",
     "text": [
      "  4%|▍         | 835/20000 [00:00<00:04, 4171.87it/s]"
     ]
    },
    {
     "name": "stdout",
     "output_type": "stream",
     "text": [
      "new err: 12515.642711111112, new mean 621.8733333333333\n",
      "new err: 4396.574044444437, new mean 576.3066666666666\n",
      "new err: 79.68537777777796, new mean 501.0733333333333\n",
      "new err: 27.995856790123863, new mean 515.2911111111111\n",
      "new err: 6.656400000000211, new mean 512.58\n",
      "new err: 4.391353086419786, new mean 507.90444444444444\n",
      "new err: 3.4348444444445176, new mean 508.14666666666665\n"
     ]
    },
    {
     "name": "stderr",
     "output_type": "stream",
     "text": [
      " 12%|█▏        | 2470/20000 [00:00<00:04, 3991.72it/s]"
     ]
    },
    {
     "name": "stdout",
     "output_type": "stream",
     "text": [
      "new err: 0.8877827160493389, new mean 509.0577777777778\n",
      "new err: 0.1067111111111027, new mean 510.32666666666665\n"
     ]
    },
    {
     "name": "stderr",
     "output_type": "stream",
     "text": [
      " 18%|█▊        | 3664/20000 [00:00<00:04, 3957.73it/s]"
     ]
    },
    {
     "name": "stdout",
     "output_type": "stream",
     "text": [
      "new err: 0.027041975308636407, new mean 510.1644444444444\n",
      "new err: 0.0019753086419733996, new mean 509.9555555555556\n"
     ]
    },
    {
     "name": "stderr",
     "output_type": "stream",
     "text": [
      "100%|██████████| 20000/20000 [00:04<00:00, 4091.40it/s]\n"
     ]
    }
   ],
   "source": [
    "circle_sub, green_sub, _, = time_balance_conds_by_pair(circle_beh, green_beh, 20000, 510, sample_size=30)"
   ]
  },
  {
   "cell_type": "code",
   "execution_count": 14,
   "metadata": {},
   "outputs": [
    {
     "data": {
      "text/plain": [
       "30"
      ]
     },
     "execution_count": 14,
     "metadata": {},
     "output_type": "execute_result"
    }
   ],
   "source": [
    "len(green_sub)"
   ]
  },
  {
   "cell_type": "code",
   "execution_count": 16,
   "metadata": {},
   "outputs": [
    {
     "name": "stderr",
     "output_type": "stream",
     "text": [
      "  0%|          | 0/20000 [00:00<?, ?it/s]"
     ]
    },
    {
     "name": "stderr",
     "output_type": "stream",
     "text": [
      "  4%|▍         | 802/20000 [00:00<00:04, 4008.94it/s]"
     ]
    },
    {
     "name": "stdout",
     "output_type": "stream",
     "text": [
      "new err: 18950.275600000008, new mean 372.34\n",
      "new err: 2454.872177777779, new mean 460.4533333333333\n",
      "new err: 488.9995111111116, new mean 487.88666666666666\n",
      "new err: 79.68537777777796, new mean 501.0733333333333\n",
      "new err: 41.38777777777783, new mean 503.56666666666666\n"
     ]
    },
    {
     "name": "stderr",
     "output_type": "stream",
     "text": [
      "  8%|▊         | 1612/20000 [00:00<00:04, 4033.23it/s]"
     ]
    },
    {
     "name": "stdout",
     "output_type": "stream",
     "text": [
      "new err: 9.81777777777773, new mean 506.8666666666667\n",
      "new err: 7.556390123457004, new mean 512.7488888888889\n",
      "new err: 2.7115111111110464, new mean 511.64666666666665\n"
     ]
    },
    {
     "name": "stderr",
     "output_type": "stream",
     "text": [
      " 12%|█▏        | 2420/20000 [00:00<00:04, 4027.07it/s]"
     ]
    },
    {
     "name": "stdout",
     "output_type": "stream",
     "text": [
      "new err: 1.1520444444444233, new mean 511.0733333333333\n",
      "new err: 0.3211111111111068, new mean 509.43333333333334\n"
     ]
    },
    {
     "name": "stderr",
     "output_type": "stream",
     "text": [
      " 38%|███▊      | 7673/20000 [00:01<00:03, 4026.85it/s]"
     ]
    },
    {
     "name": "stdout",
     "output_type": "stream",
     "text": [
      "new err: 0.31859753086421694, new mean 510.56444444444446\n"
     ]
    },
    {
     "name": "stderr",
     "output_type": "stream",
     "text": [
      " 57%|█████▋    | 11315/20000 [00:02<00:02, 4028.60it/s]"
     ]
    },
    {
     "name": "stdout",
     "output_type": "stream",
     "text": [
      "new err: 0.008711111111105877, new mean 510.0933333333333\n"
     ]
    },
    {
     "name": "stderr",
     "output_type": "stream",
     "text": [
      " 77%|███████▋  | 15358/20000 [00:03<00:01, 4043.82it/s]"
     ]
    },
    {
     "name": "stdout",
     "output_type": "stream",
     "text": [
      "new err: 0.0012641975308645928, new mean 510.03555555555556\n"
     ]
    },
    {
     "name": "stderr",
     "output_type": "stream",
     "text": [
      "100%|██████████| 20000/20000 [00:04<00:00, 4031.55it/s]\n"
     ]
    },
    {
     "data": {
      "text/plain": [
       "(array([ 57, 824, 251, 223, 258, 216,  46, 250,  51, 259,  56, 721, 257,\n",
       "        826, 732, 254, 252, 730,  52, 719, 823, 720, 256, 897,  54, 896,\n",
       "        899,  53, 815, 734]),\n",
       " array([1321,   89,  669,  279,  749,  280, 1325,   86,  683, 1317,  523,\n",
       "         997, 1324,   94,  753,   76,   77, 1318, 1323,   90,  516,  520,\n",
       "         679, 1313, 1319, 1314,  525,   81,  750,  281]),\n",
       " 0.0012641975308645928)"
      ]
     },
     "execution_count": 16,
     "metadata": {},
     "output_type": "execute_result"
    }
   ],
   "source": [
    "time_balance_conds_by_pair(circle_beh, triangle_beh, 20000, 510, sample_size=30)"
   ]
  },
  {
   "cell_type": "code",
   "execution_count": null,
   "metadata": {},
   "outputs": [],
   "source": []
  }
 ],
 "metadata": {
  "kernelspec": {
   "display_name": "Python 3",
   "language": "python",
   "name": "python3"
  },
  "language_info": {
   "codemirror_mode": {
    "name": "ipython",
    "version": 3
   },
   "file_extension": ".py",
   "mimetype": "text/x-python",
   "name": "python",
   "nbconvert_exporter": "python",
   "pygments_lexer": "ipython3",
   "version": "3.10.6"
  }
 },
 "nbformat": 4,
 "nbformat_minor": 2
}
