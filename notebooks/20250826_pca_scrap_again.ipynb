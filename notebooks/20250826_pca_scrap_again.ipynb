{
 "cells": [
  {
   "cell_type": "markdown",
   "metadata": {},
   "source": [
    "### Play around more with PCA, now with pseudotrial generation used for belief sim, projection updates. \n",
    "- Plot examples of pairs of features. Low, High X, High not X\n",
    "- Form data matrix of [N,  (K* x T x C)]\n",
    "- Perform PCA, plot averaged trajectories"
   ]
  },
  {
   "cell_type": "code",
   "execution_count": null,
   "metadata": {},
   "outputs": [],
   "source": [
    "%load_ext autoreload\n",
    "%autoreload 2\n",
    "\n",
    "import os\n",
    "import numpy as np\n",
    "import pandas as pd\n",
    "import utils.behavioral_utils as behavioral_utils\n",
    "import utils.information_utils as information_utils\n",
    "import utils.visualization_utils as visualization_utils\n",
    "import utils.pseudo_classifier_utils as pseudo_classifier_utils\n",
    "import utils.classifier_utils as classifier_utils\n",
    "\n",
    "import utils.io_utils as io_utils\n",
    "\n",
    "import utils.glm_utils as glm_utils\n",
    "from matplotlib import pyplot as plt\n",
    "import matplotlib\n",
    "import utils.spike_utils as spike_utils\n",
    "import utils.subspace_utils as subspace_utils\n",
    "from trial_splitters.condition_trial_splitter import ConditionTrialSplitter \n",
    "from utils.session_data import SessionData\n",
    "from constants.behavioral_constants import *\n",
    "from constants.decoding_constants import *\n",
    "import seaborn as sns\n",
    "from scripts.pseudo_decoding.belief_partitions.belief_partition_configs import *\n",
    "import scripts.pseudo_decoding.belief_partitions.belief_partitions_io as belief_partitions_io\n",
    "\n",
    "import scipy\n",
    "import argparse\n",
    "import copy\n",
    "import itertools\n",
    "\n",
    "from tqdm import tqdm\n",
    "from sklearn.decomposition import PCA\n"
   ]
  },
  {
   "cell_type": "code",
   "execution_count": 2,
   "metadata": {},
   "outputs": [],
   "source": [
    "def get_pseudo_frs_for_session(session, args, num_pseudo=100):\n",
    "    # for grabbing behavior and firing rates, use subject-specific arguments\n",
    "    # for grabbing decoder weights, use general\n",
    "    sub_args = copy.deepcopy(args)\n",
    "    sub_args.subject = behavioral_utils.get_sub_for_session(session)\n",
    "    beh = behavioral_utils.load_behavior_from_args(session, sub_args)\n",
    "    beh = behavioral_utils.get_belief_partitions_of_pair(beh, sub_args.feat_pair)\n",
    "\n",
    "    frs = spike_utils.get_frs_from_args(sub_args, session)\n",
    "    frs[\"TimeIdx\"] = (frs[\"Time\"] * 10).round().astype(int)\n",
    "\n",
    "    rng = np.random.default_rng()\n",
    "    feat_x, feat_y = args.feat_pair\n",
    "    all_pseudo_trials = []\n",
    "    for cond_idx, cond in enumerate([\"Low\", f\"High {feat_x}\", f\"High {feat_y}\"]):\n",
    "        sub_beh = beh[beh.BeliefPartition == cond]\n",
    "        trial_nums = rng.choice(sub_beh.TrialNumber.unique(), num_pseudo)\n",
    "        cond_offset = cond_idx * num_pseudo\n",
    "        pseudo_trials = pd.DataFrame({\"TrialNumber\": trial_nums, \"cond\": cond, \"PseudoTrialNumber\": np.arange(num_pseudo) + cond_offset})\n",
    "        all_pseudo_trials.append(pseudo_trials)\n",
    "    all_pseudo_trials = pd.concat(all_pseudo_trials)\n",
    "    pseudo_frs = pd.merge(frs, all_pseudo_trials, on=\"TrialNumber\")\n",
    "    pseudo_frs[\"session\"] = session\n",
    "    return pseudo_frs"
   ]
  },
  {
   "cell_type": "code",
   "execution_count": null,
   "metadata": {},
   "outputs": [],
   "source": [
    "def compute_pcs(data):\n",
    "    zscored = spike_utils.zscore_frs(data, group_cols=[\"PseudoUnitID\"], mode=\"AvgFiringRate\")\n",
    "    flattened = zscored.groupby([\"cond\", \"Time\"]).apply(lambda x: x.sort_values(by=\"PseudoUnitID\").ZAvgFiringRate.values).reset_index(name=\"ZAvgFiringRates\")\n",
    "    np_arr = np.vstack(flattened.ZAvgFiringRates.values)"
   ]
  },
  {
   "cell_type": "code",
   "execution_count": 3,
   "metadata": {},
   "outputs": [],
   "source": [
    "BOTH_PAIRS_PATH = \"/data/patrick_res/sessions/both/pairs_at_least_3blocks_10sess.pickle\"\n",
    "pairs = pd.read_pickle(BOTH_PAIRS_PATH).reset_index(drop=True)\n",
    "args = argparse.Namespace(\n",
    "    **BeliefPartitionConfigs()._asdict()\n",
    ")\n",
    "args.subject = \"both\"\n",
    "args.mode = \"pref\"\n",
    "# args.sig_unit_level = \"belief_partition_95th\"\n",
    "# args.sig_unit_level = \"pref_99th_window_filter_drift\"\n",
    "args.trial_event = \"StimOnset\"\n",
    "args.trial_interval = get_trial_interval(args.trial_event)"
   ]
  },
  {
   "cell_type": "code",
   "execution_count": 4,
   "metadata": {},
   "outputs": [],
   "source": [
    "# circle, square, have 415 units, 14 sessions\n",
    "pair = pairs.iloc[0]\n",
    "args.feat_pair = pair.pair\n"
   ]
  },
  {
   "cell_type": "code",
   "execution_count": 61,
   "metadata": {},
   "outputs": [],
   "source": [
    "all_res = pd.concat(pd.Series(pair.sessions).apply(lambda x: get_pseudo_frs_for_session(x, args)).values)\n",
    "# all_res = all_res[all_res.Time < 0]"
   ]
  },
  {
   "cell_type": "code",
   "execution_count": null,
   "metadata": {},
   "outputs": [],
   "source": [
    "zscored = spike_utils.zscore_frs(all_res, group_cols=[\"PseudoUnitID\"], mode=\"FiringRate\")\n",
    "flattened = zscored.groupby([\"PseudoTrialNumber\", \"cond\", \"TimeIdx\"]).apply(lambda x: x.sort_values(by=\"PseudoUnitID\").ZFiringRate.values).reset_index(name=\"ZFiringRate\")\n",
    "np_arr = np.vstack(flattened.ZFiringRate.values)\n",
    "pca = PCA(n_components=10)\n",
    "pca = pca.fit(np_arr)"
   ]
  },
  {
   "cell_type": "code",
   "execution_count": 72,
   "metadata": {},
   "outputs": [],
   "source": [
    "cond_avg = zscored.groupby([\"cond\", \"TimeIdx\", \"PseudoUnitID\"]).ZFiringRate.mean().reset_index(name=\"ZFiringRate\")\n",
    "cond_avg_flat = cond_avg.groupby([\"cond\", \"TimeIdx\"]).apply(lambda x: x.sort_values(by=\"PseudoUnitID\").ZFiringRate.values).reset_index(name=\"ZFiringRate\")\n",
    "cond_arr = np.vstack(cond_avg_flat.ZFiringRate.values)\n",
    "\n"
   ]
  },
  {
   "cell_type": "code",
   "execution_count": null,
   "metadata": {},
   "outputs": [],
   "source": [
    "cond_arr.shape"
   ]
  },
  {
   "cell_type": "code",
   "execution_count": 74,
   "metadata": {},
   "outputs": [],
   "source": [
    "transformed = pca.transform(cond_arr)"
   ]
  },
  {
   "cell_type": "code",
   "execution_count": null,
   "metadata": {},
   "outputs": [],
   "source": [
    "transformed.shape"
   ]
  },
  {
   "cell_type": "code",
   "execution_count": 76,
   "metadata": {},
   "outputs": [],
   "source": [
    "cond_avg_pca_df = pd.DataFrame(data=transformed, columns=[f\"PC{i}\" for i in range(10)])\n",
    "cond_avg_pca_res = pd.concat((cond_avg_flat, cond_avg_pca_df), axis=1)"
   ]
  },
  {
   "cell_type": "code",
   "execution_count": null,
   "metadata": {},
   "outputs": [],
   "source": [
    "order = cond_avg_pca_res.cond.unique()\n",
    "colors = [\"tab:red\", \"tab:blue\", \"tab:green\"]\n",
    "\n",
    "fig, axs = plt.subplots(3, 3, figsize=(10, 8))\n",
    "for i in range(9):\n",
    "    ax = axs[i // 3, i % 3]\n",
    "    sns.lineplot(cond_avg_pca_res, x=f\"PC{i}\", y=f\"PC{i+1}\", hue=\"cond\", sort=False, legend=False, ax=ax, hue_order=order, palette=colors)\n",
    "    \n",
    "    last_point = cond_avg_pca_res.groupby(\"cond\").apply(lambda x: x.loc[x.TimeIdx.idxmax()])\n",
    "    sns.scatterplot(last_point, x=f\"PC{i}\", y=f\"PC{i+1}\", hue=\"cond\", ax=ax, hue_order=order, palette=colors)\n",
    "    if i != 0:\n",
    "        ax.get_legend().remove()\n",
    "fig.tight_layout()"
   ]
  },
  {
   "cell_type": "code",
   "execution_count": null,
   "metadata": {},
   "outputs": [],
   "source": [
    "import plotly.express as px\n",
    "fig = px.line_3d(cond_avg_pca_res, x=\"PC2\", y=\"PC3\", z=\"PC4\", color='cond')\n",
    "fig.show()\n"
   ]
  },
  {
   "cell_type": "code",
   "execution_count": 79,
   "metadata": {},
   "outputs": [],
   "source": [
    "transformed = pca.transform(np_arr)\n",
    "pca_df = pd.DataFrame(data=transformed, columns=[f\"PC{i}\" for i in range(10)])\n",
    "pca_res = pd.concat((flattened, pca_df), axis=1)"
   ]
  },
  {
   "cell_type": "code",
   "execution_count": 89,
   "metadata": {},
   "outputs": [],
   "source": [
    "def comp_mean_std(group):\n",
    "    res = {}\n",
    "    for i in range(10):\n",
    "        res[f\"PC{i}_mean\"] = group[f\"PC{i}\"].mean()\n",
    "        res[f\"PC{i}_se\"] = group[f\"PC{i}\"].sem()\n",
    "    return pd.Series(res)\n",
    "\n",
    "\n",
    "mean_std = pca_res.groupby([\"cond\", \"TimeIdx\"]).apply(comp_mean_std).reset_index()"
   ]
  },
  {
   "cell_type": "code",
   "execution_count": null,
   "metadata": {},
   "outputs": [],
   "source": [
    "fig = px.line_3d(mean_std, x=\"PC3_mean\", error_x=\"PC3_se\", y=\"PC4_mean\", error_y=\"PC4_se\", z=\"PC5_mean\", error_z=\"PC5_se\", color='cond')\n",
    "fig.show()"
   ]
  },
  {
   "cell_type": "code",
   "execution_count": null,
   "metadata": {},
   "outputs": [],
   "source": []
  }
 ],
 "metadata": {
  "kernelspec": {
   "display_name": "Python 3",
   "language": "python",
   "name": "python3"
  },
  "language_info": {
   "codemirror_mode": {
    "name": "ipython",
    "version": 3
   },
   "file_extension": ".py",
   "mimetype": "text/x-python",
   "name": "python",
   "nbconvert_exporter": "python",
   "pygments_lexer": "ipython3",
   "version": "3.10.6"
  }
 },
 "nbformat": 4,
 "nbformat_minor": 2
}
