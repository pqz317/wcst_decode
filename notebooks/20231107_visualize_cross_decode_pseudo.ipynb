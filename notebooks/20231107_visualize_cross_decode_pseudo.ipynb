{
 "cells": [
  {
   "cell_type": "markdown",
   "metadata": {},
   "source": [
    "### Look at the cross decodability of pseudo decoders"
   ]
  },
  {
   "cell_type": "code",
   "execution_count": null,
   "metadata": {},
   "outputs": [],
   "source": [
    "%load_ext autoreload\n",
    "%autoreload 2\n",
    "\n",
    "import os\n",
    "import numpy as np\n",
    "import pandas as pd\n",
    "import utils.behavioral_utils as behavioral_utils\n",
    "import utils.information_utils as information_utils\n",
    "import utils.visualization_utils as visualization_utils\n",
    "import utils.pseudo_classifier_utils as pseudo_classifier_utils\n",
    "\n",
    "import utils.glm_utils as glm_utils\n",
    "from matplotlib import pyplot as plt\n",
    "import utils.spike_utils as spike_utils\n",
    "from trial_splitters.condition_trial_splitter import ConditionTrialSplitter \n",
    "from utils.session_data import SessionData"
   ]
  },
  {
   "cell_type": "code",
   "execution_count": null,
   "metadata": {},
   "outputs": [],
   "source": [
    "# the output directory to store the data\n",
    "OUTPUT_DIR = \"/data/patrick_res/pseudo\"\n",
    "# path to a dataframe of sessions to analyze\n",
    "# SESSIONS_PATH = \"/data/patrick_scratch/multi_sess/valid_sessions.pickle\"\n",
    "SESSIONS_PATH = \"/data/patrick_res/multi_sess/valid_sessions_rpe.pickle\"\n",
    "# path for each session, specifying behavior\n",
    "SESS_BEHAVIOR_PATH = \"/data/rawdata/sub-SA/sess-{sess_name}/behavior/sub-SA_sess-{sess_name}_object_features.csv\"\n",
    "# path for each session, for spikes that have been pre-aligned to event time and binned. \n",
    "SESS_SPIKES_PATH = \"/data/patrick_res/multi_sess/{sess_name}/{sess_name}_firing_rates_{pre_interval}_{event}_{post_interval}_{interval_size}_bins_1_smooth.pickle\"\n",
    "\n",
    "DATA_MODE = \"SpikeCounts\"\n",
    "TEST_RATIO = 0.2\n",
    "\n",
    "FEATURE_DIMS = [\"Color\", \"Shape\", \"Pattern\"]"
   ]
  },
  {
   "cell_type": "code",
   "execution_count": null,
   "metadata": {},
   "outputs": [],
   "source": [
    "interval_size = 100\n",
    "\n",
    "for feature_dim in FEATURE_DIMS: \n",
    "    cross_accs = np.load(os.path.join(OUTPUT_DIR, f\"{feature_dim}_rpe_sess_cross_accs.npy\"))\n",
    "    fig, ax = plt.subplots()\n",
    "    colors = ax.matshow(cross_accs)\n",
    "    fig.colorbar(colors)\n",
    "\n",
    "    ratio = 1000 / interval_size\n",
    "    tick_labels = np.array([-1, -0.5, 0, 0.5, 1.0, 1.5])\n",
    "    tick_pos = (tick_labels + 1.3) * ratio - 0.5\n",
    "\n",
    "    ax.set_xticks(tick_pos)\n",
    "    ax.set_xticklabels(tick_labels)\n",
    "    ax.xaxis.tick_bottom()\n",
    "    ax.set_yticks(tick_pos)\n",
    "    ax.set_yticklabels(tick_labels)\n",
    "    ax.set_xlabel(\"Time Bin Model Evaluated On (s)\")\n",
    "    ax.set_ylabel(\"Time Bins Model Trained On (s)\")\n",
    "    ax.set_title(f\"{feature_dim} Decoders Mean Accuracies Across Timebins\")\n",
    "    ax.axvline(13.48, color=\"gray\", linestyle=\"dotted\", linewidth=1.5)\n",
    "    ax.axhline(13.48, color=\"gray\", linestyle=\"dotted\", linewidth=1.5)\n",
    "\n",
    "                    "
   ]
  },
  {
   "cell_type": "code",
   "execution_count": null,
   "metadata": {},
   "outputs": [],
   "source": []
  }
 ],
 "metadata": {
  "kernelspec": {
   "display_name": "Python 3",
   "language": "python",
   "name": "python3"
  },
  "language_info": {
   "codemirror_mode": {
    "name": "ipython",
    "version": 3
   },
   "file_extension": ".py",
   "mimetype": "text/x-python",
   "name": "python",
   "nbconvert_exporter": "python",
   "pygments_lexer": "ipython3",
   "version": "3.10.6"
  }
 },
 "nbformat": 4,
 "nbformat_minor": 2
}
