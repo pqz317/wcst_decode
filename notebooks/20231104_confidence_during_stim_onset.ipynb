{
 "cells": [
  {
   "cell_type": "markdown",
   "metadata": {},
   "source": [
    "### Look at what happens to units during stim onset, if it's modulated by confidence"
   ]
  },
  {
   "cell_type": "code",
   "execution_count": 1,
   "metadata": {},
   "outputs": [],
   "source": [
    "%load_ext autoreload\n",
    "%autoreload 2\n",
    "\n",
    "import numpy as np\n",
    "import matplotlib.pyplot as plt\n",
    "import pandas as pd\n",
    "\n",
    "import utils.spike_utils as spike_utils\n",
    "import utils.classifier_utils as classifier_utils\n",
    "import utils.visualization_utils as visualization_utils\n",
    "import utils.behavioral_utils as behavioral_utils\n",
    "\n",
    "import os\n",
    "import pandas as pd\n",
    "import matplotlib"
   ]
  },
  {
   "cell_type": "code",
   "execution_count": 2,
   "metadata": {},
   "outputs": [],
   "source": [
    "sess_name = 20180802"
   ]
  },
  {
   "cell_type": "code",
   "execution_count": 3,
   "metadata": {},
   "outputs": [],
   "source": [
    "FEATURE_DIMS = [\"Color\", \"Shape\", \"Pattern\"]\n",
    "OUTPUT_DIR = \"/data/patrick_res/information\"\n",
    "\n",
    "SESSIONS_PATH = \"/data/patrick_res/multi_sess/valid_sessions_rpe.pickle\"\n",
    "SESS_BEHAVIOR_PATH = \"/data/rawdata/sub-SA/sess-{sess_name}/behavior/sub-SA_sess-{sess_name}_object_features.csv\"\n",
    "\n",
    "PRE_INTERVAL = 500\n",
    "POST_INTERVAL = 500\n",
    "INTERVAL_SIZE = 100\n",
    "SMOOTH = 1\n",
    "EVENT = \"StimOnset\"\n",
    "fr_path = f\"/data/patrick_res/multi_sess/{sess_name}/{sess_name}_firing_rates_{PRE_INTERVAL}_{EVENT}_{POST_INTERVAL}_{INTERVAL_SIZE}_bins_{SMOOTH}_smooth.pickle\"\n"
   ]
  },
  {
   "cell_type": "code",
   "execution_count": 4,
   "metadata": {},
   "outputs": [],
   "source": [
    "behavior_path = SESS_BEHAVIOR_PATH.format(sess_name=sess_name)\n",
    "beh = pd.read_csv(behavior_path)\n",
    "\n",
    "# filter trials \n",
    "valid_beh = behavioral_utils.get_valid_trials(beh)\n",
    "feature_selections = behavioral_utils.get_selection_features(valid_beh)\n",
    "valid_beh = pd.merge(valid_beh, feature_selections, on=\"TrialNumber\")\n",
    "valid_beh_rpes = behavioral_utils.get_rpes_per_session(sess_name, valid_beh)"
   ]
  },
  {
   "cell_type": "code",
   "execution_count": 5,
   "metadata": {},
   "outputs": [
    {
     "name": "stdout",
     "output_type": "stream",
     "text": [
      "median 0.555364554733573\n"
     ]
    }
   ],
   "source": [
    "med = valid_beh_rpes.Prob_FE.median()\n",
    "print(f\"median {med}\")\n",
    "\n",
    "# add median labels to \n",
    "def add_group(row):\n",
    "    confidence = row.Prob_FE\n",
    "    group = None\n",
    "    if confidence < med:\n",
    "        group = \"low confidence\"\n",
    "    elif confidence >= med:\n",
    "        group = \"high confidence\"\n",
    "    row[\"ConfidenceGroup\"] = group\n",
    "    return row\n",
    "valid_beh = valid_beh_rpes.apply(add_group, axis=1)"
   ]
  },
  {
   "cell_type": "code",
   "execution_count": 6,
   "metadata": {},
   "outputs": [],
   "source": [
    "frs = pd.read_pickle(fr_path)\n",
    "pos = spike_utils.get_unit_positions_per_sess(sess_name)\n",
    "pos = spike_utils.get_manual_structure(pos)"
   ]
  },
  {
   "cell_type": "code",
   "execution_count": null,
   "metadata": {},
   "outputs": [],
   "source": [
    "for unit in frs.UnitID.unique():\n",
    "    fig, ax = plt.subplots()\n",
    "    visualization_utils.plot_mean_frs_by_group_stim_on(sess_name, unit, frs, valid_beh, \"ConfidenceGroup\", pos, ax, mode=\"FiringRate\", group_colors=None)\n"
   ]
  },
  {
   "cell_type": "code",
   "execution_count": 8,
   "metadata": {},
   "outputs": [
    {
     "name": "stdout",
     "output_type": "stream",
     "text": [
      "median 0.6512866712495351\n",
      "median 0.5270830734688191\n",
      "median 0.5832654998869615\n",
      "median 0.5144657836573263\n"
     ]
    },
    {
     "name": "stdout",
     "output_type": "stream",
     "text": [
      "median 0.5153136346090028\n",
      "median 0.6173320881319182\n",
      "median 0.5289219583890352\n",
      "median 0.5620274251816558\n",
      "median 0.5783318871586659\n",
      "median 0.5658070387735734\n",
      "median 0.5259597231657981\n",
      "median 0.555364554733573\n",
      "median 0.5699553722335396\n",
      "median 0.5780969213426643\n",
      "median 0.5977879832915524\n",
      "median 0.47928340194042923\n",
      "median 0.596265284968785\n",
      "median 0.597638120932944\n",
      "median 0.5460253599887781\n",
      "median 0.48522776242833\n",
      "median 0.5817672615090078\n",
      "median 0.5261172164290567\n",
      "median 0.5108637303888581\n",
      "median 0.5717269686042598\n",
      "median 0.5776066455075899\n",
      "median 0.5314050946712221\n",
      "median 0.5381673360415209\n"
     ]
    }
   ],
   "source": [
    "def process_session(sess_name):\n",
    "    behavior_path = SESS_BEHAVIOR_PATH.format(sess_name=sess_name)\n",
    "    beh = pd.read_csv(behavior_path)\n",
    "\n",
    "    # filter trials \n",
    "    valid_beh = behavioral_utils.get_valid_trials(beh)\n",
    "    valid_beh_rpes = behavioral_utils.get_rpes_per_session(sess_name, valid_beh)\n",
    "    med = valid_beh_rpes.Prob_FE.median()\n",
    "    print(f\"median {med}\")\n",
    "\n",
    "    # add median labels to \n",
    "    def add_group(row):\n",
    "        confidence = row.Prob_FE\n",
    "        group = None\n",
    "        if confidence < med:\n",
    "            group = \"low confidence\"\n",
    "        elif confidence >= med:\n",
    "            group = \"high confidence\"\n",
    "        row[\"ConfidenceGroup\"] = group\n",
    "        return row\n",
    "    valid_beh = valid_beh_rpes.apply(add_group, axis=1)\n",
    "    valid_beh[\"session\"] = sess_name\n",
    "    return valid_beh\n",
    "valid_sess = pd.read_pickle(SESSIONS_PATH)\n",
    "all_trials = pd.concat(valid_sess.apply(lambda x: process_session(x.session_name), axis=1).values)"
   ]
  },
  {
   "cell_type": "code",
   "execution_count": 10,
   "metadata": {},
   "outputs": [],
   "source": [
    "low_conf = all_trials[all_trials.ConfidenceGroup == \"low confidence\"]"
   ]
  },
  {
   "cell_type": "code",
   "execution_count": 14,
   "metadata": {},
   "outputs": [],
   "source": [
    "low_conf.to_pickle(\"/data/patrick_res/low_confidence_trials.pickle\")"
   ]
  },
  {
   "cell_type": "code",
   "execution_count": 12,
   "metadata": {},
   "outputs": [],
   "source": [
    "high_conf = all_trials[all_trials.ConfidenceGroup == \"high confidence\"]"
   ]
  },
  {
   "cell_type": "code",
   "execution_count": 15,
   "metadata": {},
   "outputs": [],
   "source": [
    "high_conf.to_pickle(\"/data/patrick_res/high_confidence_trials.pickle\")"
   ]
  },
  {
   "cell_type": "code",
   "execution_count": 9,
   "metadata": {},
   "outputs": [],
   "source": [
    "cor_trials = all_trials[all_trials.Response == \"Correct\"]"
   ]
  },
  {
   "cell_type": "code",
   "execution_count": 10,
   "metadata": {},
   "outputs": [],
   "source": [
    "inc_trials = all_trials[all_trials.Response == \"Incorrect\"]"
   ]
  },
  {
   "cell_type": "code",
   "execution_count": 11,
   "metadata": {},
   "outputs": [
    {
     "data": {
      "text/plain": [
       "16080"
      ]
     },
     "execution_count": 11,
     "metadata": {},
     "output_type": "execute_result"
    }
   ],
   "source": [
    "len(cor_trials)"
   ]
  },
  {
   "cell_type": "code",
   "execution_count": 12,
   "metadata": {},
   "outputs": [
    {
     "data": {
      "text/plain": [
       "11933"
      ]
     },
     "execution_count": 12,
     "metadata": {},
     "output_type": "execute_result"
    }
   ],
   "source": [
    "len(inc_trials)"
   ]
  },
  {
   "cell_type": "code",
   "execution_count": 13,
   "metadata": {},
   "outputs": [],
   "source": [
    "cor_trials.to_pickle(\"/data/patrick_res/cor_trials.pickle\")"
   ]
  },
  {
   "cell_type": "code",
   "execution_count": 14,
   "metadata": {},
   "outputs": [],
   "source": [
    "inc_trials.to_pickle(\"/data/patrick_res/inc_trials.pickle\")"
   ]
  },
  {
   "cell_type": "code",
   "execution_count": null,
   "metadata": {},
   "outputs": [],
   "source": []
  }
 ],
 "metadata": {
  "kernelspec": {
   "display_name": "Python 3",
   "language": "python",
   "name": "python3"
  },
  "language_info": {
   "codemirror_mode": {
    "name": "ipython",
    "version": 3
   },
   "file_extension": ".py",
   "mimetype": "text/x-python",
   "name": "python",
   "nbconvert_exporter": "python",
   "pygments_lexer": "ipython3",
   "version": "3.10.6"
  }
 },
 "nbformat": 4,
 "nbformat_minor": 2
}
