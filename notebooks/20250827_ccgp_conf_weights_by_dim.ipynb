{
 "cells": [
  {
   "cell_type": "markdown",
   "metadata": {},
   "source": [
    "### See whether it makes sense to use the ccgp conf weights to assess whether beliefs are organized by dimension or not..."
   ]
  },
  {
   "cell_type": "code",
   "execution_count": 8,
   "metadata": {},
   "outputs": [
    {
     "name": "stdout",
     "output_type": "stream",
     "text": [
      "The autoreload extension is already loaded. To reload it, use:\n",
      "  %reload_ext autoreload\n"
     ]
    }
   ],
   "source": [
    "%load_ext autoreload\n",
    "%autoreload 2\n",
    "\n",
    "import os\n",
    "import numpy as np\n",
    "import pandas as pd\n",
    "import utils.behavioral_utils as behavioral_utils\n",
    "import utils.information_utils as information_utils\n",
    "import utils.visualization_utils as visualization_utils\n",
    "import utils.pseudo_classifier_utils as pseudo_classifier_utils\n",
    "import utils.classifier_utils as classifier_utils\n",
    "\n",
    "import utils.io_utils as io_utils\n",
    "\n",
    "import utils.glm_utils as glm_utils\n",
    "from matplotlib import pyplot as plt\n",
    "import matplotlib\n",
    "import utils.spike_utils as spike_utils\n",
    "import utils.subspace_utils as subspace_utils\n",
    "from trial_splitters.condition_trial_splitter import ConditionTrialSplitter \n",
    "from utils.session_data import SessionData\n",
    "from constants.behavioral_constants import *\n",
    "from constants.decoding_constants import *\n",
    "import seaborn as sns\n",
    "from scripts.pseudo_decoding.belief_partitions.belief_partition_configs import *\n",
    "import scripts.pseudo_decoding.belief_partitions.belief_partitions_io as belief_partitions_io\n",
    "\n",
    "import scipy\n",
    "import argparse\n",
    "import copy"
   ]
  },
  {
   "cell_type": "code",
   "execution_count": 14,
   "metadata": {},
   "outputs": [],
   "source": [
    "PAIRS_PATH = \"/data/patrick_res/sessions/both/pairs_at_least_3blocks_10sess.pickle\"\n",
    "\n",
    "pairs = pd.read_pickle(PAIRS_PATH).reset_index(drop=True)"
   ]
  },
  {
   "cell_type": "code",
   "execution_count": 15,
   "metadata": {},
   "outputs": [],
   "source": [
    "def get_sims(args):\n",
    "    all_res = []\n",
    "    for i, pair in pairs.iterrows():\n",
    "        feat_x, feat_y = pair.pair\n",
    "        args.feat_pair = pair.pair\n",
    "\n",
    "        args.feat = feat_x\n",
    "        weights_x = belief_partitions_io.get_weights(args)\n",
    "        args.feat = feat_y\n",
    "        weights_y = belief_partitions_io.get_weights(args)\n",
    "\n",
    "        merged = pd.merge(weights_x, weights_y, on=[\"PseudoUnitID\", \"TimeIdx\"], suffixes=(\"_x\", \"_y\"), how=\"outer\").fillna(0)\n",
    "        sims = merged.groupby([\"TimeIdx\"]).apply(lambda x: classifier_utils.cosine_sim(x.weightsdiff_normed_x, x.weightsdiff_normed_y)).reset_index(name=\"cosine_sim\")\n",
    "        sims[\"dim_type\"] = pair.dim_type\n",
    "        sims[\"pair_str\"] = \"_\".join(pair.pair)\n",
    "        all_res.append(sims)\n",
    "    all_res = pd.concat(all_res) \n",
    "    return all_res\n",
    "\n",
    "def compute_diff(sim_res):\n",
    "    within_res = sim_res[sim_res.dim_type == \"within dim\"]\n",
    "    across_res = sim_res[sim_res.dim_type == \"across dim\"]\n",
    "    merged = pd.merge(within_res, across_res, how=\"cross\", suffixes=(\"_within\", \"_across\"))\n",
    "    return pd.DataFrame({\"TimeIdx\": sim_res.name, \"diff\": merged[\"cosine_sim_within\"] - merged[\"cosine_sim_across\"]})\n"
   ]
  },
  {
   "cell_type": "code",
   "execution_count": 18,
   "metadata": {},
   "outputs": [
    {
     "name": "stdout",
     "output_type": "stream",
     "text": [
      "not found for shuff\n",
      "not found for shuff\n",
      "not found for shuff\n"
     ]
    }
   ],
   "source": [
    "args = argparse.Namespace(\n",
    "    **BeliefPartitionConfigs()._asdict()\n",
    ")\n",
    "args.subject = \"both\"\n",
    "args.mode = \"feat_belief\"\n",
    "args.base_output_path = \"/data/patrick_res/ccgp_conf\"\n",
    "args.sig_unit_level = \"pref_conf_99th_window_filter_drift\"\n",
    "\n",
    "sim = get_sims(args)\n",
    "diffs = sim.groupby(\"TimeIdx\").apply(compute_diff).reset_index(drop=True)\n",
    "\n",
    "shuffle_diffs = []\n",
    "for i in range(10):\n",
    "    args.shuffle_idx = i\n",
    "    try: \n",
    "        sim = get_sims(args)\n",
    "        diffs = sim.groupby(\"TimeIdx\").apply(compute_diff).reset_index(drop=True)\n",
    "        shuffle_diffs.append(diffs)\n",
    "    except FileNotFoundError:\n",
    "        print(\"not found for shuff\")\n",
    "shuffle_diffs = pd.concat(shuffle_diffs)\n",
    "diffs[\"shuffle_type\"] = \"true\"\n",
    "shuffle_diffs[\"shuffle_type\"] = \"shuffle\"\n",
    "all_diffs = pd.concat((diffs, shuffle_diffs))\n",
    "all_diffs[\"Time\"] = all_diffs[\"TimeIdx\"] / 10"
   ]
  },
  {
   "cell_type": "code",
   "execution_count": 20,
   "metadata": {},
   "outputs": [],
   "source": [
    "all_diffs = all_diffs[all_diffs.Time < 0]"
   ]
  },
  {
   "cell_type": "code",
   "execution_count": 21,
   "metadata": {},
   "outputs": [
    {
     "data": {
      "text/html": [
       "<div>\n",
       "<style scoped>\n",
       "    .dataframe tbody tr th:only-of-type {\n",
       "        vertical-align: middle;\n",
       "    }\n",
       "\n",
       "    .dataframe tbody tr th {\n",
       "        vertical-align: top;\n",
       "    }\n",
       "\n",
       "    .dataframe thead th {\n",
       "        text-align: right;\n",
       "    }\n",
       "</style>\n",
       "<table border=\"1\" class=\"dataframe\">\n",
       "  <thead>\n",
       "    <tr style=\"text-align: right;\">\n",
       "      <th></th>\n",
       "      <th>TimeIdx</th>\n",
       "      <th>diff</th>\n",
       "      <th>shuffle_type</th>\n",
       "      <th>Time</th>\n",
       "    </tr>\n",
       "  </thead>\n",
       "  <tbody>\n",
       "    <tr>\n",
       "      <th>0</th>\n",
       "      <td>-9</td>\n",
       "      <td>-0.114073</td>\n",
       "      <td>true</td>\n",
       "      <td>-0.9</td>\n",
       "    </tr>\n",
       "    <tr>\n",
       "      <th>1</th>\n",
       "      <td>-9</td>\n",
       "      <td>0.250493</td>\n",
       "      <td>true</td>\n",
       "      <td>-0.9</td>\n",
       "    </tr>\n",
       "    <tr>\n",
       "      <th>2</th>\n",
       "      <td>-9</td>\n",
       "      <td>-0.148030</td>\n",
       "      <td>true</td>\n",
       "      <td>-0.9</td>\n",
       "    </tr>\n",
       "    <tr>\n",
       "      <th>3</th>\n",
       "      <td>-9</td>\n",
       "      <td>-0.204359</td>\n",
       "      <td>true</td>\n",
       "      <td>-0.9</td>\n",
       "    </tr>\n",
       "    <tr>\n",
       "      <th>4</th>\n",
       "      <td>-9</td>\n",
       "      <td>-0.405057</td>\n",
       "      <td>true</td>\n",
       "      <td>-0.9</td>\n",
       "    </tr>\n",
       "    <tr>\n",
       "      <th>...</th>\n",
       "      <td>...</td>\n",
       "      <td>...</td>\n",
       "      <td>...</td>\n",
       "      <td>...</td>\n",
       "    </tr>\n",
       "    <tr>\n",
       "      <th>1723</th>\n",
       "      <td>-1</td>\n",
       "      <td>-0.079292</td>\n",
       "      <td>shuffle</td>\n",
       "      <td>-0.1</td>\n",
       "    </tr>\n",
       "    <tr>\n",
       "      <th>1724</th>\n",
       "      <td>-1</td>\n",
       "      <td>-0.126703</td>\n",
       "      <td>shuffle</td>\n",
       "      <td>-0.1</td>\n",
       "    </tr>\n",
       "    <tr>\n",
       "      <th>1725</th>\n",
       "      <td>-1</td>\n",
       "      <td>-0.688868</td>\n",
       "      <td>shuffle</td>\n",
       "      <td>-0.1</td>\n",
       "    </tr>\n",
       "    <tr>\n",
       "      <th>1726</th>\n",
       "      <td>-1</td>\n",
       "      <td>-0.032885</td>\n",
       "      <td>shuffle</td>\n",
       "      <td>-0.1</td>\n",
       "    </tr>\n",
       "    <tr>\n",
       "      <th>1727</th>\n",
       "      <td>-1</td>\n",
       "      <td>-0.544337</td>\n",
       "      <td>shuffle</td>\n",
       "      <td>-0.1</td>\n",
       "    </tr>\n",
       "  </tbody>\n",
       "</table>\n",
       "<p>13824 rows × 4 columns</p>\n",
       "</div>"
      ],
      "text/plain": [
       "      TimeIdx      diff shuffle_type  Time\n",
       "0          -9 -0.114073         true  -0.9\n",
       "1          -9  0.250493         true  -0.9\n",
       "2          -9 -0.148030         true  -0.9\n",
       "3          -9 -0.204359         true  -0.9\n",
       "4          -9 -0.405057         true  -0.9\n",
       "...       ...       ...          ...   ...\n",
       "1723       -1 -0.079292      shuffle  -0.1\n",
       "1724       -1 -0.126703      shuffle  -0.1\n",
       "1725       -1 -0.688868      shuffle  -0.1\n",
       "1726       -1 -0.032885      shuffle  -0.1\n",
       "1727       -1 -0.544337      shuffle  -0.1\n",
       "\n",
       "[13824 rows x 4 columns]"
      ]
     },
     "execution_count": 21,
     "metadata": {},
     "output_type": "execute_result"
    }
   ],
   "source": [
    "all_diffs"
   ]
  },
  {
   "cell_type": "code",
   "execution_count": 25,
   "metadata": {},
   "outputs": [
    {
     "name": "stdout",
     "output_type": "stream",
     "text": [
      "0.44381448707201054\n"
     ]
    },
    {
     "data": {
      "text/plain": [
       "(<Figure size 640x480 with 1 Axes>,\n",
       " <Axes: xlabel='shuffle_type', ylabel='diff'>)"
      ]
     },
     "execution_count": 25,
     "metadata": {},
     "output_type": "execute_result"
    },
    {
     "data": {
      "image/png": "[encoded data removed]",
      "text/plain": [
       "<Figure size 640x480 with 1 Axes>"
      ]
     },
     "metadata": {},
     "output_type": "display_data"
    }
   ],
   "source": [
    "fig, ax = plt.subplots()\n",
    "sns.barplot(all_diffs, x=\"shuffle_type\", y=\"diff\", errorbar=\"se\", ax=ax)\n",
    "visualization_utils.add_significance_bars(fig, ax, all_diffs, \"shuffle_type\", \"diff\")"
   ]
  },
  {
   "cell_type": "code",
   "execution_count": null,
   "metadata": {},
   "outputs": [],
   "source": []
  }
 ],
 "metadata": {
  "kernelspec": {
   "display_name": "Python 3",
   "language": "python",
   "name": "python3"
  },
  "language_info": {
   "codemirror_mode": {
    "name": "ipython",
    "version": 3
   },
   "file_extension": ".py",
   "mimetype": "text/x-python",
   "name": "python",
   "nbconvert_exporter": "python",
   "pygments_lexer": "ipython3",
   "version": "3.10.6"
  }
 },
 "nbformat": 4,
 "nbformat_minor": 2
}
