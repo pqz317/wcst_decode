{
 "cells": [
  {
   "cell_type": "markdown",
   "metadata": {},
   "source": [
    "### Take a look at the axes from all the value GLMs, see if they're similar"
   ]
  },
  {
   "cell_type": "code",
   "execution_count": 2,
   "metadata": {},
   "outputs": [],
   "source": [
    "%load_ext autoreload\n",
    "%autoreload 2\n",
    "\n",
    "import os\n",
    "import numpy as np\n",
    "import pandas as pd\n",
    "import utils.behavioral_utils as behavioral_utils\n",
    "import utils.information_utils as information_utils\n",
    "import utils.visualization_utils as visualization_utils\n",
    "import utils.glm_utils as glm_utils\n",
    "from matplotlib import pyplot as plt\n",
    "import utils.spike_utils as spike_utils\n",
    "from constants.glm_constants import *\n",
    "from constants.behavioral_constants import *\n",
    "from spike_tools import (\n",
    "    general as spike_general,\n",
    "    analysis as spike_analysis,\n",
    ")"
   ]
  },
  {
   "cell_type": "code",
   "execution_count": 3,
   "metadata": {},
   "outputs": [],
   "source": [
    "OUTPUT_DIR = \"/data/patrick_res/glm_2\"\n",
    "SESSIONS_PATH = \"/data/patrick_res/sessions/valid_sessions_rpe.pickle\"\n",
    "sessions = pd.read_pickle(SESSIONS_PATH)"
   ]
  },
  {
   "cell_type": "markdown",
   "metadata": {},
   "source": [
    "### Combine all GLM results in one"
   ]
  },
  {
   "cell_type": "code",
   "execution_count": 4,
   "metadata": {},
   "outputs": [],
   "source": [
    "def get_glm_res(session, feedback_type, residual_str):\n",
    "    res = pd.read_pickle(os.path.join(OUTPUT_DIR, f\"{session}_glm_{feedback_type}_{residual_str}_{MODE}_{INTERVAL_SIZE}_{MODEL}_values.pickle\"))\n",
    "    res[\"TimeIdxs\"] = (res[\"TimeBins\"] * 20).astype(int)\n",
    "    res[\"session\"] = session\n",
    "    res[\"PseudoUnitID\"] = int(session) * 100 + res.UnitID\n",
    "    return res"
   ]
  },
  {
   "cell_type": "markdown",
   "metadata": {},
   "source": [
    "### Look at norm lengths of weight vectors as a func of time: "
   ]
  },
  {
   "cell_type": "code",
   "execution_count": 10,
   "metadata": {},
   "outputs": [],
   "source": [
    "fbs = [\"Response\", \"RPEGroup\"]\n",
    "residual_strs = [\"residual_fr\", \"normal_fr\"]\n",
    "glms = {}\n",
    "for feedback_type in fbs:\n",
    "    for residual_str in residual_strs:\n",
    "        glm_res = pd.concat(sessions.apply(lambda x: get_glm_res(x.session_name, feedback_type, residual_str), axis=1).values)\n",
    "        glms[f\"{feedback_type}_{residual_str}\"] = glm_res"
   ]
  },
  {
   "cell_type": "code",
   "execution_count": 14,
   "metadata": {},
   "outputs": [
    {
     "data": {
      "text/plain": [
       "Index(['UnitID', 'TimeBins', 'score', 'less neg_coef', 'more pos_coef',\n",
       "       'more neg_coef', 'less pos_coef', 'None_coef', 'YELLOW_coef',\n",
       "       'CYAN_coef', 'MAGENTA_coef', 'GREEN_coef', 'CIRCLE_coef', 'STAR_coef',\n",
       "       'SQUARE_coef', 'TRIANGLE_coef', 'POLKADOT_coef', 'SWIRL_coef',\n",
       "       'ESCHER_coef', 'RIPPLE_coef', 'YELLOW_less neg_coef',\n",
       "       'CYAN_less neg_coef', 'MAGENTA_less neg_coef', 'MAGENTA_more pos_coef',\n",
       "       'CYAN_more pos_coef', 'CYAN_more neg_coef', 'GREEN_less neg_coef',\n",
       "       'YELLOW_more pos_coef', 'GREEN_more pos_coef', 'YELLOW_less pos_coef',\n",
       "       'MAGENTA_less pos_coef', 'YELLOW_more neg_coef', 'GREEN_less pos_coef',\n",
       "       'GREEN_more neg_coef', 'CYAN_less pos_coef', 'MAGENTA_more neg_coef',\n",
       "       'nan_coef', 'CIRCLE_less neg_coef', 'STAR_less neg_coef',\n",
       "       'SQUARE_more pos_coef', 'CIRCLE_more neg_coef',\n",
       "       'TRIANGLE_less neg_coef', 'SQUARE_less pos_coef',\n",
       "       'SQUARE_more neg_coef', 'STAR_more pos_coef', 'STAR_less pos_coef',\n",
       "       'TRIANGLE_more pos_coef', 'STAR_more neg_coef', 'SQUARE_less neg_coef',\n",
       "       'CIRCLE_more pos_coef', 'CIRCLE_less pos_coef',\n",
       "       'TRIANGLE_less pos_coef', 'TRIANGLE_more neg_coef',\n",
       "       'POLKADOT_less neg_coef', 'SWIRL_less neg_coef', 'SWIRL_more pos_coef',\n",
       "       'ESCHER_more pos_coef', 'ESCHER_more neg_coef', 'RIPPLE_less neg_coef',\n",
       "       'RIPPLE_more pos_coef', 'POLKADOT_more pos_coef',\n",
       "       'POLKADOT_less pos_coef', 'SWIRL_less pos_coef', 'SWIRL_more neg_coef',\n",
       "       'RIPPLE_more neg_coef', 'POLKADOT_more neg_coef',\n",
       "       'RIPPLE_less pos_coef', 'ESCHER_less pos_coef', 'ESCHER_less neg_coef',\n",
       "       'TimeIdxs', 'session', 'PseudoUnitID'],\n",
       "      dtype='object')"
      ]
     },
     "execution_count": 14,
     "metadata": {},
     "output_type": "execute_result"
    }
   ],
   "source": [
    "glm_res.columns"
   ]
  },
  {
   "cell_type": "markdown",
   "metadata": {},
   "source": [
    "### Correlations cared about: \n",
    "- Between residual vs normal: Response residual vs. Response normal, RPEGroup residual vs. RPEGroup normal\n",
    "- Between Response vs. RPEGroup: Response residual vs. RPEGroup residual, Response normal vs. RPEGroup normal"
   ]
  },
  {
   "cell_type": "markdown",
   "metadata": {},
   "source": []
  },
  {
   "cell_type": "code",
   "execution_count": 9,
   "metadata": {},
   "outputs": [],
   "source": [
    "pairs = [\n",
    "    (\"Response_residual_fr\", \"Response_normal_fr\"),\n",
    "    (\"RPEGroup_residual_fr\", \"RPEGroup_normal_fr\"),\n",
    "    (\"Response_residual_fr\", \"RPEGroup_residual_fr\"),\n",
    "    (\"Response_normal_fr\", \"RPEGroup_normal_fr\")\n",
    "]\n",
    "\n",
    "# each res is np arr [num_time_bins, num_feats]\n",
    "num_time_bins = 56\n",
    "num_feats = 12\n",
    "pair_res = {}\n",
    "for (cond_a, cond_b) in pairs:\n",
    "    corrs = np.empty((num_time_bins, num_feats))\n",
    "    for time_bin in range(num_time_bins):\n",
    "        for feat_idx in range(num_feats):\n",
    "            feat = FEATURES[feat_idx]\n",
    "            glm_res_a = glms[cond_a]\n",
    "            glm_res_b = glms[cond_b]\n",
    "            vec_a = glm_res_a[glm_res_a.TimeIdxs == time_bin][]"
   ]
  },
  {
   "cell_type": "markdown",
   "metadata": {},
   "source": []
  }
 ],
 "metadata": {
  "kernelspec": {
   "display_name": "Python 3",
   "language": "python",
   "name": "python3"
  },
  "language_info": {
   "codemirror_mode": {
    "name": "ipython",
    "version": 3
   },
   "file_extension": ".py",
   "mimetype": "text/x-python",
   "name": "python",
   "nbconvert_exporter": "python",
   "pygments_lexer": "ipython3",
   "version": "3.10.6"
  }
 },
 "nbformat": 4,
 "nbformat_minor": 2
}
