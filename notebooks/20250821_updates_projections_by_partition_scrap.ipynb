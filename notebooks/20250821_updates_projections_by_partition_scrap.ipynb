{
 "cells": [
  {
   "cell_type": "markdown",
   "metadata": {},
   "source": [
    "### Want to see: \n",
    "- Still looking at change in neural activity projected onto preference axes\n",
    "- Is the magnitude of this projection different for different belief partitions?\n",
    "- Prediction for chose X, correct: \n",
    "  - low: larger\n",
    "  - High X: lower, maybe negative\n",
    "  - High not X: lower\n",
    "- Prediction for chose X, incorrect: \n",
    "  - low, lower\n",
    "  - High X: large negative \n",
    "  - High not X: lower\n",
    "\n",
    "\n"
   ]
  },
  {
   "cell_type": "code",
   "execution_count": 4,
   "metadata": {},
   "outputs": [
    {
     "name": "stdout",
     "output_type": "stream",
     "text": [
      "The autoreload extension is already loaded. To reload it, use:\n",
      "  %reload_ext autoreload\n"
     ]
    }
   ],
   "source": [
    "%load_ext autoreload\n",
    "%autoreload 2\n",
    "\n",
    "import os\n",
    "import numpy as np\n",
    "import pandas as pd\n",
    "import utils.visualization_utils as visualization_utils\n",
    "\n",
    "import utils.io_utils as io_utils\n",
    "\n",
    "import utils.glm_utils as glm_utils\n",
    "import utils.classifier_utils as classifier_utils\n",
    "from matplotlib import pyplot as plt\n",
    "import matplotlib\n",
    "import utils.spike_utils as spike_utils\n",
    "from constants.behavioral_constants import *\n",
    "from constants.decoding_constants import *\n",
    "from scripts.pseudo_decoding.belief_partitions.belief_partition_configs import *\n",
    "import scripts.pseudo_decoding.belief_partitions.belief_partitions_io as belief_partitions_io\n",
    "import itertools\n",
    "\n",
    "import argparse\n",
    "import copy\n",
    "from tqdm import tqdm\n",
    "import seaborn as sns\n",
    "import utils.stats_utils as stats_utils"
   ]
  },
  {
   "cell_type": "code",
   "execution_count": 12,
   "metadata": {},
   "outputs": [],
   "source": [
    "# conditions_maps = {\n",
    "#     \"chose X / correct / low\": {\"Response\": \"Correct\", \"Choice\": \"Chose\", \"BeliefPartition\": \"Low\"},\n",
    "#     \"chose X / correct / high X\": {\"Response\": \"Correct\", \"Choice\": \"Chose\", \"BeliefPartition\": \"High X\"},\n",
    "#     \"chose X / correct / high not X\": {\"Response\": \"Correct\", \"Choice\": \"Chose\", \"BeliefPartition\": \"High Not X\"},\n",
    "#     # \"correct\": {\"Response\": \"Correct\"},\n",
    "#     # \"incorrect\": {\"Response\": \"Incorrect\"},\n",
    "# }\n",
    "\n",
    "conditions_maps = {\n",
    "    \"chose X / correct\": {\"Response\": \"Correct\", \"Choice\": \"Chose\"},\n",
    "    \"chose X / incorrect\": {\"Response\": \"Incorrect\", \"Choice\": \"Chose\"},\n",
    "    \"correct\": {\"Response\": \"Correct\"},\n",
    "    \"incorrect\": {\"Response\": \"Incorrect\"},\n",
    "}\n",
    "\n",
    "# conditions_maps = {\n",
    "#     \"chose X / incorrect / low\": {\"Response\": \"Incorrect\", \"Choice\": \"Chose\", \"BeliefPartition\": \"Low\"},\n",
    "#     \"chose X / incorrect / high X\": {\"Response\": \"Incorrect\", \"Choice\": \"Chose\", \"BeliefPartition\": \"High X\"},\n",
    "#     \"chose X / incorrect / high not X\": {\"Response\": \"Incorrect\", \"Choice\": \"Chose\", \"BeliefPartition\": \"High Not X\"},\n",
    "#     \"chose X / correct / low\": {\"Response\": \"Correct\", \"Choice\": \"Chose\", \"BeliefPartition\": \"Low\"},\n",
    "#     \"chose X / correct / high X\": {\"Response\": \"Correct\", \"Choice\": \"Chose\", \"BeliefPartition\": \"High X\"},\n",
    "#     \"chose X / correct / high not X\": {\"Response\": \"Correct\", \"Choice\": \"Chose\", \"BeliefPartition\": \"High Not X\"},\n",
    "#     # \"correct\": {\"Response\": \"Correct\"},\n",
    "#     # \"incorrect\": {\"Response\": \"Incorrect\"},\n",
    "# }\n",
    "\n",
    "def read_all_cond_data(args):\n",
    "    all_data = []\n",
    "    # for i, event in enumerate([\"StimOnset\", \"FeedbackOnsetLong\"]):\n",
    "    for i, event in enumerate([\"StimOnset\"]):\n",
    "        all_conds = []\n",
    "        for cond_name in conditions_maps:\n",
    "            args.trial_event = event\n",
    "            args.conditions = conditions_maps[cond_name]\n",
    "            res = belief_partitions_io.read_update_projections(args)\n",
    "            res[\"cond\"] = res.apply(lambda x: f\"shuffle\" if \"shuffle\" in x[\"mode\"] else cond_name, axis=1)\n",
    "            all_conds.append(res)\n",
    "        all_conds = pd.concat(all_conds)\n",
    "        all_conds[\"trial_event\"] = event\n",
    "        all_conds[\"Time\"] = all_conds[\"TimeIdx\"] / 10\n",
    "        all_data.append(all_conds)\n",
    "    return pd.concat(all_data)"
   ]
  },
  {
   "cell_type": "code",
   "execution_count": 13,
   "metadata": {},
   "outputs": [],
   "source": [
    "args = argparse.Namespace(\n",
    "    **BeliefPartitionConfigs()._asdict()\n",
    ")\n",
    "args.subject = \"both\"\n",
    "# args.beh_filters = {\"Response\": \"Correct\", \"Choice\": \"Chose\"}\n",
    "args.base_output_path = \"/data/patrick_res/update_projections\"\n",
    "args.mode = \"pref\"\n",
    "# args.sig_unit_level = f\"{args.mode}_99th_window_filter_drift\"\n",
    "args.sig_unit_level = f\"{args.mode}_99th_no_cond_window_filter_drift\"\n",
    "\n",
    "# args.region_level = \"structure_level2_cleaned\"\n",
    "# args.\n"
   ]
  },
  {
   "cell_type": "code",
   "execution_count": 14,
   "metadata": {},
   "outputs": [],
   "source": [
    "res = read_all_cond_data(args)\n",
    "res = res[res.Time <0]"
   ]
  },
  {
   "cell_type": "code",
   "execution_count": 15,
   "metadata": {},
   "outputs": [
    {
     "data": {
      "text/html": [
       "<div>\n",
       "<style scoped>\n",
       "    .dataframe tbody tr th:only-of-type {\n",
       "        vertical-align: middle;\n",
       "    }\n",
       "\n",
       "    .dataframe tbody tr th {\n",
       "        vertical-align: top;\n",
       "    }\n",
       "\n",
       "    .dataframe thead th {\n",
       "        text-align: right;\n",
       "    }\n",
       "</style>\n",
       "<table border=\"1\" class=\"dataframe\">\n",
       "  <thead>\n",
       "    <tr style=\"text-align: right;\">\n",
       "      <th></th>\n",
       "      <th>TimeIdx</th>\n",
       "      <th>PseudoTrialNumber</th>\n",
       "      <th>proj</th>\n",
       "      <th>mode</th>\n",
       "      <th>feat</th>\n",
       "      <th>cond</th>\n",
       "      <th>trial_event</th>\n",
       "      <th>Time</th>\n",
       "    </tr>\n",
       "  </thead>\n",
       "  <tbody>\n",
       "    <tr>\n",
       "      <th>0</th>\n",
       "      <td>-10</td>\n",
       "      <td>0</td>\n",
       "      <td>0.284793</td>\n",
       "      <td>pref</td>\n",
       "      <td>CIRCLE</td>\n",
       "      <td>chose X / correct</td>\n",
       "      <td>StimOnset</td>\n",
       "      <td>-1.0</td>\n",
       "    </tr>\n",
       "    <tr>\n",
       "      <th>1</th>\n",
       "      <td>-10</td>\n",
       "      <td>1</td>\n",
       "      <td>1.838567</td>\n",
       "      <td>pref</td>\n",
       "      <td>CIRCLE</td>\n",
       "      <td>chose X / correct</td>\n",
       "      <td>StimOnset</td>\n",
       "      <td>-1.0</td>\n",
       "    </tr>\n",
       "    <tr>\n",
       "      <th>2</th>\n",
       "      <td>-10</td>\n",
       "      <td>2</td>\n",
       "      <td>-2.304471</td>\n",
       "      <td>pref</td>\n",
       "      <td>CIRCLE</td>\n",
       "      <td>chose X / correct</td>\n",
       "      <td>StimOnset</td>\n",
       "      <td>-1.0</td>\n",
       "    </tr>\n",
       "    <tr>\n",
       "      <th>3</th>\n",
       "      <td>-10</td>\n",
       "      <td>3</td>\n",
       "      <td>-1.296629</td>\n",
       "      <td>pref</td>\n",
       "      <td>CIRCLE</td>\n",
       "      <td>chose X / correct</td>\n",
       "      <td>StimOnset</td>\n",
       "      <td>-1.0</td>\n",
       "    </tr>\n",
       "    <tr>\n",
       "      <th>4</th>\n",
       "      <td>-10</td>\n",
       "      <td>4</td>\n",
       "      <td>1.802820</td>\n",
       "      <td>pref</td>\n",
       "      <td>CIRCLE</td>\n",
       "      <td>chose X / correct</td>\n",
       "      <td>StimOnset</td>\n",
       "      <td>-1.0</td>\n",
       "    </tr>\n",
       "    <tr>\n",
       "      <th>...</th>\n",
       "      <td>...</td>\n",
       "      <td>...</td>\n",
       "      <td>...</td>\n",
       "      <td>...</td>\n",
       "      <td>...</td>\n",
       "      <td>...</td>\n",
       "      <td>...</td>\n",
       "      <td>...</td>\n",
       "    </tr>\n",
       "    <tr>\n",
       "      <th>9995</th>\n",
       "      <td>-1</td>\n",
       "      <td>995</td>\n",
       "      <td>-0.295180</td>\n",
       "      <td>pref_shuffle</td>\n",
       "      <td>SWIRL</td>\n",
       "      <td>shuffle</td>\n",
       "      <td>StimOnset</td>\n",
       "      <td>-0.1</td>\n",
       "    </tr>\n",
       "    <tr>\n",
       "      <th>9996</th>\n",
       "      <td>-1</td>\n",
       "      <td>996</td>\n",
       "      <td>2.051290</td>\n",
       "      <td>pref_shuffle</td>\n",
       "      <td>SWIRL</td>\n",
       "      <td>shuffle</td>\n",
       "      <td>StimOnset</td>\n",
       "      <td>-0.1</td>\n",
       "    </tr>\n",
       "    <tr>\n",
       "      <th>9997</th>\n",
       "      <td>-1</td>\n",
       "      <td>997</td>\n",
       "      <td>-2.554551</td>\n",
       "      <td>pref_shuffle</td>\n",
       "      <td>SWIRL</td>\n",
       "      <td>shuffle</td>\n",
       "      <td>StimOnset</td>\n",
       "      <td>-0.1</td>\n",
       "    </tr>\n",
       "    <tr>\n",
       "      <th>9998</th>\n",
       "      <td>-1</td>\n",
       "      <td>998</td>\n",
       "      <td>-0.483073</td>\n",
       "      <td>pref_shuffle</td>\n",
       "      <td>SWIRL</td>\n",
       "      <td>shuffle</td>\n",
       "      <td>StimOnset</td>\n",
       "      <td>-0.1</td>\n",
       "    </tr>\n",
       "    <tr>\n",
       "      <th>9999</th>\n",
       "      <td>-1</td>\n",
       "      <td>999</td>\n",
       "      <td>-2.901614</td>\n",
       "      <td>pref_shuffle</td>\n",
       "      <td>SWIRL</td>\n",
       "      <td>shuffle</td>\n",
       "      <td>StimOnset</td>\n",
       "      <td>-0.1</td>\n",
       "    </tr>\n",
       "  </tbody>\n",
       "</table>\n",
       "<p>1920000 rows × 8 columns</p>\n",
       "</div>"
      ],
      "text/plain": [
       "      TimeIdx  PseudoTrialNumber      proj          mode    feat  \\\n",
       "0         -10                  0  0.284793          pref  CIRCLE   \n",
       "1         -10                  1  1.838567          pref  CIRCLE   \n",
       "2         -10                  2 -2.304471          pref  CIRCLE   \n",
       "3         -10                  3 -1.296629          pref  CIRCLE   \n",
       "4         -10                  4  1.802820          pref  CIRCLE   \n",
       "...       ...                ...       ...           ...     ...   \n",
       "9995       -1                995 -0.295180  pref_shuffle   SWIRL   \n",
       "9996       -1                996  2.051290  pref_shuffle   SWIRL   \n",
       "9997       -1                997 -2.554551  pref_shuffle   SWIRL   \n",
       "9998       -1                998 -0.483073  pref_shuffle   SWIRL   \n",
       "9999       -1                999 -2.901614  pref_shuffle   SWIRL   \n",
       "\n",
       "                   cond trial_event  Time  \n",
       "0     chose X / correct   StimOnset  -1.0  \n",
       "1     chose X / correct   StimOnset  -1.0  \n",
       "2     chose X / correct   StimOnset  -1.0  \n",
       "3     chose X / correct   StimOnset  -1.0  \n",
       "4     chose X / correct   StimOnset  -1.0  \n",
       "...                 ...         ...   ...  \n",
       "9995            shuffle   StimOnset  -0.1  \n",
       "9996            shuffle   StimOnset  -0.1  \n",
       "9997            shuffle   StimOnset  -0.1  \n",
       "9998            shuffle   StimOnset  -0.1  \n",
       "9999            shuffle   StimOnset  -0.1  \n",
       "\n",
       "[1920000 rows x 8 columns]"
      ]
     },
     "execution_count": 15,
     "metadata": {},
     "output_type": "execute_result"
    }
   ],
   "source": [
    "res"
   ]
  },
  {
   "cell_type": "markdown",
   "metadata": {},
   "source": [
    "### Are the shuffles actually different? "
   ]
  },
  {
   "cell_type": "code",
   "execution_count": 11,
   "metadata": {},
   "outputs": [
    {
     "data": {
      "text/plain": [
       "<Axes: xlabel='cond', ylabel='proj'>"
      ]
     },
     "execution_count": 11,
     "metadata": {},
     "output_type": "execute_result"
    },
    {
     "data": {
      "image/png": "[encoded data removed]",
      "text/plain": [
       "<Figure size 640x480 with 1 Axes>"
      ]
     },
     "metadata": {},
     "output_type": "display_data"
    }
   ],
   "source": [
    "shuffs = res[res.cond.str.contains(\"shuffle\")]\n",
    "sns.barplot(shuffs, x=\"cond\", y=\"proj\", errorbar=\"se\")"
   ]
  },
  {
   "cell_type": "markdown",
   "metadata": {},
   "source": [
    "### Verify chose/cor and chose/inc effects are largest"
   ]
  },
  {
   "cell_type": "code",
   "execution_count": 16,
   "metadata": {},
   "outputs": [
    {
     "data": {
      "text/plain": [
       "(<Figure size 640x480 with 1 Axes>, <Axes: xlabel='cond', ylabel='proj'>)"
      ]
     },
     "execution_count": 16,
     "metadata": {},
     "output_type": "execute_result"
    },
    {
     "data": {
      "image/png": "[encoded data removed]",
      "text/plain": [
       "<Figure size 640x480 with 1 Axes>"
      ]
     },
     "metadata": {},
     "output_type": "display_data"
    }
   ],
   "source": [
    "order= [\"chose X / correct\", \"correct\", \"shuffle\", \"incorrect\", \"chose X / incorrect\"]\n",
    "res = res.sort_values(by=\"cond\", key=lambda x: x.map(order.index))\n",
    "fig, ax = plt.subplots()\n",
    "sns.barplot(res, x=\"cond\", y=\"proj\", errorbar=\"se\", ax=ax)\n",
    "visualization_utils.add_significance_bars(fig, ax, res, \"cond\", \"proj\", pairs=[\n",
    "    (\"chose X / correct\", \"shuffle\"),\n",
    "    (\"chose X / incorrect\", \"shuffle\"),\n",
    "    (\"correct\", \"shuffle\"),\n",
    "    (\"incorrect\", \"shuffle\"),\n",
    "], \n",
    "test=stats_utils.get_permutation_test_func(test_type=\"two_side\")\n",
    ")"
   ]
  },
  {
   "cell_type": "code",
   "execution_count": 8,
   "metadata": {},
   "outputs": [],
   "source": [
    "# sub_res = res[~((res.trial_event == \"FeedbackOnsetLong\") & (res.Time > 0))]\n",
    "# sub_res = res[~((res.trial_event == \"StimOnset\") & (res.Time < 0))]\n",
    "# sub_res = res[~((res.trial_event == \"FeedbackOnsetLong\") & (res.Time > 0))]\n",
    "\n",
    "sub_res = res"
   ]
  },
  {
   "cell_type": "code",
   "execution_count": 9,
   "metadata": {},
   "outputs": [],
   "source": [
    "cor_res = sub_res[~sub_res.cond.str.contains(\"incorrect\")]\n",
    "inc_res = sub_res[~sub_res.cond.str.contains(\" correct\")]"
   ]
  },
  {
   "cell_type": "code",
   "execution_count": 10,
   "metadata": {},
   "outputs": [
    {
     "name": "stderr",
     "output_type": "stream",
     "text": [
      "100%|██████████| 1000/1000 [04:36<00:00,  3.62it/s]\n",
      "100%|██████████| 1000/1000 [04:18<00:00,  3.87it/s]\n",
      "100%|██████████| 1000/1000 [04:36<00:00,  3.62it/s]\n",
      "100%|██████████| 1000/1000 [04:42<00:00,  3.53it/s]\n",
      "100%|██████████| 1000/1000 [04:22<00:00,  3.81it/s]\n",
      "100%|██████████| 1000/1000 [04:35<00:00,  3.64it/s]\n"
     ]
    },
    {
     "data": {
      "text/plain": [
       "(<Figure size 1000x1000 with 2 Axes>, <Axes: xlabel='cond', ylabel='proj'>)"
      ]
     },
     "execution_count": 10,
     "metadata": {},
     "output_type": "execute_result"
    },
    {
     "data": {
      "image/png": "[encoded data removed]",
      "text/plain": [
       "<Figure size 1000x1000 with 2 Axes>"
      ]
     },
     "metadata": {},
     "output_type": "display_data"
    }
   ],
   "source": [
    "fig, (ax1, ax2) = plt.subplots(2, 1, figsize=(10, 10))\n",
    "\n",
    "cor_order= [\"shuffle\", \"chose X / correct / low\", \"chose X / correct / high X\", \"chose X / correct / high not X\"]\n",
    "cor_res = cor_res.sort_values(by=\"cond\", key=lambda x: x.map(cor_order.index))\n",
    "sns.barplot(cor_res, x=\"cond\", y=\"proj\", errorbar=\"se\", ax=ax1, order=cor_order)\n",
    "visualization_utils.add_significance_bars(fig, ax1, cor_res, \"cond\", \"proj\", pairs=[\n",
    "    (\"chose X / correct / low\", \"shuffle\"),\n",
    "    (\"chose X / correct / high X\", \"shuffle\"),\n",
    "    (\"chose X / correct / high not X\", \"shuffle\"),\n",
    "], test=stats_utils.permutation_test_wrapper)\n",
    "\n",
    "inc_order= [\"shuffle\", \"chose X / incorrect / low\", \"chose X / incorrect / high X\", \"chose X / incorrect / high not X\"]\n",
    "inc_res = inc_res.sort_values(by=\"cond\", key=lambda x: x.map(inc_order.index))\n",
    "sns.barplot(inc_res, x=\"cond\", y=\"proj\", errorbar=\"se\", ax=ax2, order=inc_order)\n",
    "visualization_utils.add_significance_bars(fig, ax2, inc_res, \"cond\", \"proj\", pairs=[\n",
    "    (\"chose X / incorrect / low\", \"shuffle\"),\n",
    "    (\"chose X / incorrect / high X\", \"shuffle\"),\n",
    "    (\"chose X / incorrect / high not X\", \"shuffle\"),\n",
    "], test=stats_utils.permutation_test_wrapper)\n"
   ]
  },
  {
   "cell_type": "code",
   "execution_count": null,
   "metadata": {},
   "outputs": [],
   "source": []
  }
 ],
 "metadata": {
  "kernelspec": {
   "display_name": "Python 3",
   "language": "python",
   "name": "python3"
  },
  "language_info": {
   "codemirror_mode": {
    "name": "ipython",
    "version": 3
   },
   "file_extension": ".py",
   "mimetype": "text/x-python",
   "name": "python",
   "nbconvert_exporter": "python",
   "pygments_lexer": "ipython3",
   "version": "3.10.6"
  }
 },
 "nbformat": 4,
 "nbformat_minor": 2
}
