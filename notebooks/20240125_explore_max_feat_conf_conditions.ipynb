{
 "cells": [
  {
   "cell_type": "markdown",
   "metadata": {},
   "source": [
    "### Another shot at dimensionality reduction techniques\n",
    "Want to try PCA again with the following features: \n",
    "- Try on either HC or OFC only cells, small number (19 in HC, 18 in OFC)\n",
    "- Condition on one selected feature at a time\n",
    "- Group trials into 3 groups: \n",
    "  - A: high feature val, high confidence\n",
    "  - B: low feature val, high confidence\n",
    "  - C: low feature val, low confidence\n",
    "Also, will want to try: \n",
    "- 50ms time bins, smoothed with 50ms std Gaussian"
   ]
  },
  {
   "cell_type": "markdown",
   "metadata": {},
   "source": [
    "### Load Data, Imports"
   ]
  },
  {
   "cell_type": "code",
   "execution_count": 1,
   "metadata": {},
   "outputs": [],
   "source": [
    "%load_ext autoreload\n",
    "%autoreload 2\n",
    "\n",
    "import os\n",
    "import numpy as np\n",
    "import pandas as pd\n",
    "import utils.pseudo_utils as pseudo_utils\n",
    "import utils.pseudo_classifier_utils as pseudo_classifier_utils\n",
    "import utils.behavioral_utils as behavioral_utils\n",
    "from utils.session_data import SessionData\n",
    "import utils.io_utils as io_utils\n",
    "from utils.constants import *\n",
    "import json\n",
    "\n",
    "from spike_tools import (\n",
    "    general as spike_general,\n",
    "    analysis as spike_analysis,\n",
    ")\n",
    "\n",
    "import matplotlib.pyplot as plt\n",
    "import matplotlib"
   ]
  },
  {
   "cell_type": "code",
   "execution_count": 2,
   "metadata": {},
   "outputs": [],
   "source": [
    "# the output directory to store the data\n",
    "OUTPUT_DIR = \"/data/patrick_res/pseudo\"\n",
    "# path to a dataframe of sessions to analyze\n",
    "# SESSIONS_PATH = \"/data/patrick_scratch/multi_sess/valid_sessions.pickle\"\n",
    "SESSIONS_PATH = \"/data/patrick_res/sessions/valid_sessions_rpe.pickle\"\n",
    "# path for each session, specifying behavior\n",
    "SESS_BEHAVIOR_PATH = \"/data/rawdata/sub-SA/sess-{sess_name}/behavior/sub-SA_sess-{sess_name}_object_features.csv\"\n",
    "# path for each session, for spikes that have been pre-aligned to event time and binned. \n",
    "SESS_SPIKES_PATH = \"/data/patrick_res/firing_rates/{sess_name}_firing_rates_{pre_interval}_{event}_{post_interval}_{interval_size}_bins_1_smooth.pickle\"\n",
    "\n",
    "FEATURE_DIMS = [\"Color\", \"Shape\", \"Pattern\"]"
   ]
  },
  {
   "cell_type": "markdown",
   "metadata": {},
   "source": [
    "### Per session, label trials\n",
    "Need confidence values, as well as feature values"
   ]
  },
  {
   "cell_type": "code",
   "execution_count": 3,
   "metadata": {},
   "outputs": [],
   "source": [
    "def get_labels_for_session(session, feat):\n",
    "    behavior_path = SESS_BEHAVIOR_PATH.format(sess_name=session)\n",
    "\n",
    "    beh = pd.read_csv(behavior_path)\n",
    "    valid_beh = behavioral_utils.get_valid_trials(beh)\n",
    "    feature_selections = behavioral_utils.get_selection_features(valid_beh)\n",
    "    valid_beh_merged = pd.merge(valid_beh, feature_selections, on=\"TrialNumber\", how=\"inner\")\n",
    "    feat_dim = FEATURE_TO_DIM[feat]\n",
    "    valid_beh_merged = valid_beh_merged[valid_beh_merged[feat_dim] == feat]\n",
    "    valid_beh_vals = behavioral_utils.get_feature_values_per_session(session, valid_beh_merged)\n",
    "    valid_beh_vals_conf = behavioral_utils.get_rpes_per_session(session, valid_beh_vals)\n",
    "    med_conf = np.median(valid_beh_vals_conf[\"Prob_FE\"].to_numpy())\n",
    "    def assign_conf(row, med):\n",
    "        row[\"Conf\"] = \"high\" if row[\"Prob_FE\"] > med else \"low\"\n",
    "        return row\n",
    "    valid_beh_vals_conf = valid_beh_vals_conf.apply(lambda row: assign_conf(row, med_conf), axis=1)\n",
    "    valid_beh_vals_conf[\"MaxFeatMatches\"] = valid_beh_vals_conf.MaxFeat == feat\n",
    "    valid_beh_vals_conf[\"Session\"] = session\n",
    "    return valid_beh_vals_conf"
   ]
  },
  {
   "cell_type": "code",
   "execution_count": 4,
   "metadata": {},
   "outputs": [],
   "source": [
    "feature = \"CYAN\"\n",
    "valid_sessions = pd.read_pickle(SESSIONS_PATH)\n",
    "res = pd.concat(valid_sessions.apply(lambda row: get_labels_for_session(row.session_name, feature), axis=1).values)"
   ]
  },
  {
   "cell_type": "markdown",
   "metadata": {},
   "source": [
    "### Preprocess spike data: \n",
    "Want a spikes table that has columns: \n",
    "- trial\n",
    "- timestep\n",
    "- condition\n",
    "- unit ID\n",
    "- spikes"
   ]
  },
  {
   "cell_type": "code",
   "execution_count": null,
   "metadata": {},
   "outputs": [],
   "source": [
    "res.groupby([\"Session\", \"Conf\", \"MaxFeatMatches\"]).count()[:50]"
   ]
  },
  {
   "cell_type": "code",
   "execution_count": 7,
   "metadata": {},
   "outputs": [],
   "source": [
    "sess_res = res[res.Session == \"20180802\"]"
   ]
  },
  {
   "cell_type": "code",
   "execution_count": 14,
   "metadata": {},
   "outputs": [],
   "source": [
    "balanced = behavioral_utils.balance_trials_by_condition(sess_res, [\"MaxFeatMatches\", \"Conf\"], 10)"
   ]
  },
  {
   "cell_type": "code",
   "execution_count": 16,
   "metadata": {},
   "outputs": [
    {
     "data": {
      "text/html": [
       "<div>\n",
       "<style scoped>\n",
       "    .dataframe tbody tr th:only-of-type {\n",
       "        vertical-align: middle;\n",
       "    }\n",
       "\n",
       "    .dataframe tbody tr th {\n",
       "        vertical-align: top;\n",
       "    }\n",
       "\n",
       "    .dataframe thead th {\n",
       "        text-align: right;\n",
       "    }\n",
       "</style>\n",
       "<table border=\"1\" class=\"dataframe\">\n",
       "  <thead>\n",
       "    <tr style=\"text-align: right;\">\n",
       "      <th></th>\n",
       "      <th></th>\n",
       "      <th>TrialNumber</th>\n",
       "      <th>BlockNumber</th>\n",
       "      <th>TrialAfterRuleChange</th>\n",
       "      <th>TaskInterrupt</th>\n",
       "      <th>ConditionNumber</th>\n",
       "      <th>Response</th>\n",
       "      <th>ItemChosen</th>\n",
       "      <th>TrialType</th>\n",
       "      <th>CurrentRule</th>\n",
       "      <th>LastRule</th>\n",
       "      <th>...</th>\n",
       "      <th>MaxFeat</th>\n",
       "      <th>trial_y</th>\n",
       "      <th>fb</th>\n",
       "      <th>Prob_FE</th>\n",
       "      <th>Prob_FD</th>\n",
       "      <th>Prob_FRL</th>\n",
       "      <th>RPE_FE</th>\n",
       "      <th>RPE_FD</th>\n",
       "      <th>RPE_FRL</th>\n",
       "      <th>Session</th>\n",
       "    </tr>\n",
       "    <tr>\n",
       "      <th>MaxFeatMatches</th>\n",
       "      <th>Conf</th>\n",
       "      <th></th>\n",
       "      <th></th>\n",
       "      <th></th>\n",
       "      <th></th>\n",
       "      <th></th>\n",
       "      <th></th>\n",
       "      <th></th>\n",
       "      <th></th>\n",
       "      <th></th>\n",
       "      <th></th>\n",
       "      <th></th>\n",
       "      <th></th>\n",
       "      <th></th>\n",
       "      <th></th>\n",
       "      <th></th>\n",
       "      <th></th>\n",
       "      <th></th>\n",
       "      <th></th>\n",
       "      <th></th>\n",
       "      <th></th>\n",
       "      <th></th>\n",
       "    </tr>\n",
       "  </thead>\n",
       "  <tbody>\n",
       "    <tr>\n",
       "      <th rowspan=\"2\" valign=\"top\">False</th>\n",
       "      <th>high</th>\n",
       "      <td>94</td>\n",
       "      <td>94</td>\n",
       "      <td>94</td>\n",
       "      <td>0</td>\n",
       "      <td>94</td>\n",
       "      <td>94</td>\n",
       "      <td>94</td>\n",
       "      <td>94</td>\n",
       "      <td>94</td>\n",
       "      <td>82</td>\n",
       "      <td>...</td>\n",
       "      <td>94</td>\n",
       "      <td>94</td>\n",
       "      <td>94</td>\n",
       "      <td>94</td>\n",
       "      <td>94</td>\n",
       "      <td>94</td>\n",
       "      <td>94</td>\n",
       "      <td>94</td>\n",
       "      <td>94</td>\n",
       "      <td>94</td>\n",
       "    </tr>\n",
       "    <tr>\n",
       "      <th>low</th>\n",
       "      <td>94</td>\n",
       "      <td>94</td>\n",
       "      <td>94</td>\n",
       "      <td>1</td>\n",
       "      <td>94</td>\n",
       "      <td>94</td>\n",
       "      <td>94</td>\n",
       "      <td>94</td>\n",
       "      <td>94</td>\n",
       "      <td>86</td>\n",
       "      <td>...</td>\n",
       "      <td>94</td>\n",
       "      <td>94</td>\n",
       "      <td>94</td>\n",
       "      <td>94</td>\n",
       "      <td>94</td>\n",
       "      <td>94</td>\n",
       "      <td>94</td>\n",
       "      <td>94</td>\n",
       "      <td>94</td>\n",
       "      <td>94</td>\n",
       "    </tr>\n",
       "    <tr>\n",
       "      <th rowspan=\"2\" valign=\"top\">True</th>\n",
       "      <th>high</th>\n",
       "      <td>94</td>\n",
       "      <td>94</td>\n",
       "      <td>94</td>\n",
       "      <td>0</td>\n",
       "      <td>94</td>\n",
       "      <td>94</td>\n",
       "      <td>94</td>\n",
       "      <td>94</td>\n",
       "      <td>94</td>\n",
       "      <td>86</td>\n",
       "      <td>...</td>\n",
       "      <td>94</td>\n",
       "      <td>94</td>\n",
       "      <td>94</td>\n",
       "      <td>94</td>\n",
       "      <td>94</td>\n",
       "      <td>94</td>\n",
       "      <td>94</td>\n",
       "      <td>94</td>\n",
       "      <td>94</td>\n",
       "      <td>94</td>\n",
       "    </tr>\n",
       "    <tr>\n",
       "      <th>low</th>\n",
       "      <td>94</td>\n",
       "      <td>94</td>\n",
       "      <td>94</td>\n",
       "      <td>0</td>\n",
       "      <td>94</td>\n",
       "      <td>94</td>\n",
       "      <td>94</td>\n",
       "      <td>94</td>\n",
       "      <td>94</td>\n",
       "      <td>93</td>\n",
       "      <td>...</td>\n",
       "      <td>94</td>\n",
       "      <td>94</td>\n",
       "      <td>94</td>\n",
       "      <td>94</td>\n",
       "      <td>94</td>\n",
       "      <td>94</td>\n",
       "      <td>94</td>\n",
       "      <td>94</td>\n",
       "      <td>94</td>\n",
       "      <td>94</td>\n",
       "    </tr>\n",
       "  </tbody>\n",
       "</table>\n",
       "<p>4 rows × 66 columns</p>\n",
       "</div>"
      ],
      "text/plain": [
       "                     TrialNumber  BlockNumber  TrialAfterRuleChange  \\\n",
       "MaxFeatMatches Conf                                                   \n",
       "False          high           94           94                    94   \n",
       "               low            94           94                    94   \n",
       "True           high           94           94                    94   \n",
       "               low            94           94                    94   \n",
       "\n",
       "                     TaskInterrupt  ConditionNumber  Response  ItemChosen  \\\n",
       "MaxFeatMatches Conf                                                         \n",
       "False          high              0               94        94          94   \n",
       "               low               1               94        94          94   \n",
       "True           high              0               94        94          94   \n",
       "               low               0               94        94          94   \n",
       "\n",
       "                     TrialType  CurrentRule  LastRule  ...  MaxFeat  trial_y  \\\n",
       "MaxFeatMatches Conf                                    ...                     \n",
       "False          high         94           94        82  ...       94       94   \n",
       "               low          94           94        86  ...       94       94   \n",
       "True           high         94           94        86  ...       94       94   \n",
       "               low          94           94        93  ...       94       94   \n",
       "\n",
       "                     fb  Prob_FE  Prob_FD  Prob_FRL  RPE_FE  RPE_FD  RPE_FRL  \\\n",
       "MaxFeatMatches Conf                                                            \n",
       "False          high  94       94       94        94      94      94       94   \n",
       "               low   94       94       94        94      94      94       94   \n",
       "True           high  94       94       94        94      94      94       94   \n",
       "               low   94       94       94        94      94      94       94   \n",
       "\n",
       "                     Session  \n",
       "MaxFeatMatches Conf           \n",
       "False          high       94  \n",
       "               low        94  \n",
       "True           high       94  \n",
       "               low        94  \n",
       "\n",
       "[4 rows x 66 columns]"
      ]
     },
     "execution_count": 16,
     "metadata": {},
     "output_type": "execute_result"
    }
   ],
   "source": [
    "balanced.groupby([\"MaxFeatMatches\", \"Conf\"]).count()"
   ]
  },
  {
   "cell_type": "code",
   "execution_count": 18,
   "metadata": {},
   "outputs": [
    {
     "data": {
      "text/plain": [
       "5"
      ]
     },
     "execution_count": 18,
     "metadata": {},
     "output_type": "execute_result"
    }
   ],
   "source": [
    "conditions = [\"MaxFeatMatches\", \"Conf\"]\n",
    "sess_mins = res.groupby(\"Session\").apply(lambda group: behavioral_utils.get_min_num_trials_by_condition(group, conditions))\n",
    "np.min(sess_mins)"
   ]
  },
  {
   "cell_type": "markdown",
   "metadata": {},
   "source": [
    "### The minimum number of trials per condition per session for each feature"
   ]
  },
  {
   "cell_type": "code",
   "execution_count": 19,
   "metadata": {},
   "outputs": [
    {
     "name": "stdout",
     "output_type": "stream",
     "text": [
      "CIRCLE: 1\n",
      "SQUARE: 6\n",
      "STAR: 11\n",
      "TRIANGLE: 6\n",
      "CYAN: 5\n",
      "GREEN: 1\n",
      "MAGENTA: 7\n",
      "YELLOW: 5\n",
      "ESCHER: 1\n",
      "POLKADOT: 9\n",
      "RIPPLE: 10\n",
      "SWIRL: 1\n"
     ]
    }
   ],
   "source": [
    "conditions = [\"MaxFeatMatches\", \"Conf\"]\n",
    "for feature in FEATURES:\n",
    "    res = pd.concat(valid_sessions.apply(lambda row: get_labels_for_session(row.session_name, feature), axis=1).values)\n",
    "    sess_mins = res.groupby(\"Session\").apply(lambda group: behavioral_utils.get_min_num_trials_by_condition(group, conditions))\n",
    "    sess_min = np.min(sess_mins)\n",
    "    print(f\"{feature}: {sess_min}\")"
   ]
  },
  {
   "cell_type": "markdown",
   "metadata": {},
   "source": [
    "### The number of sessions with at least N trials per condition for each feature"
   ]
  },
  {
   "cell_type": "code",
   "execution_count": 20,
   "metadata": {},
   "outputs": [
    {
     "name": "stdout",
     "output_type": "stream",
     "text": [
      "CIRCLE: 6\n",
      "SQUARE: 12\n",
      "STAR: 3\n",
      "TRIANGLE: 6\n",
      "CYAN: 7\n",
      "GREEN: 6\n",
      "MAGENTA: 5\n",
      "YELLOW: 14\n",
      "ESCHER: 6\n",
      "POLKADOT: 10\n",
      "RIPPLE: 4\n",
      "SWIRL: 5\n"
     ]
    }
   ],
   "source": [
    "conditions = [\"MaxFeatMatches\", \"Conf\"]\n",
    "min_num_trials = 50\n",
    "for feature in FEATURES:\n",
    "    res = pd.concat(valid_sessions.apply(lambda row: get_labels_for_session(row.session_name, feature), axis=1).values)\n",
    "    sess_valid = res.groupby(\"Session\").apply(lambda group: behavioral_utils.validate_enough_trials_by_condition(group, conditions, min_num_trials))\n",
    "    valids = sess_valid[sess_valid]\n",
    "    print(f\"{feature}: {len(valids)}\")"
   ]
  },
  {
   "cell_type": "code",
   "execution_count": null,
   "metadata": {},
   "outputs": [],
   "source": []
  }
 ],
 "metadata": {
  "kernelspec": {
   "display_name": "Python 3",
   "language": "python",
   "name": "python3"
  },
  "language_info": {
   "codemirror_mode": {
    "name": "ipython",
    "version": 3
   },
   "file_extension": ".py",
   "mimetype": "text/x-python",
   "name": "python",
   "nbconvert_exporter": "python",
   "pygments_lexer": "ipython3",
   "version": "3.10.6"
  }
 },
 "nbformat": 4,
 "nbformat_minor": 2
}
