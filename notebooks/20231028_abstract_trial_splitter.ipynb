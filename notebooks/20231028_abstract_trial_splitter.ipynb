{
 "cells": [
  {
   "cell_type": "code",
   "execution_count": 16,
   "metadata": {},
   "outputs": [
    {
     "name": "stdout",
     "output_type": "stream",
     "text": [
      "The autoreload extension is already loaded. To reload it, use:\n",
      "  %reload_ext autoreload\n"
     ]
    }
   ],
   "source": [
    "%load_ext autoreload\n",
    "%autoreload 2\n",
    "\n",
    "import numpy as np\n",
    "import matplotlib.pyplot as plt\n",
    "import pandas as pd\n",
    "\n",
    "import utils.spike_utils as spike_utils\n",
    "import utils.classifier_utils as classifier_utils\n",
    "import utils.visualization_utils as visualization_utils\n",
    "import utils.behavioral_utils as behavioral_utils\n",
    "from trial_splitters.condition_abstract_trial_splitter import ConditionAbstractTrialSplitter\n",
    "\n",
    "import os\n",
    "import pandas as pd\n",
    "import matplotlib"
   ]
  },
  {
   "cell_type": "code",
   "execution_count": 17,
   "metadata": {},
   "outputs": [],
   "source": [
    "session = 20180802\n",
    "beh_path = f\"/data/rawdata/sub-SA/sess-{session}/behavior/sub-SA_sess-{session}_object_features.csv\"\n",
    "beh = pd.read_csv(beh_path)\n",
    "valid_beh = behavioral_utils.get_valid_trials(beh)\n",
    "feature_selections = behavioral_utils.get_selection_features(valid_beh)\n",
    "valid_beh_merged = pd.merge(valid_beh, feature_selections, on=\"TrialNumber\", how=\"inner\")"
   ]
  },
  {
   "cell_type": "code",
   "execution_count": 28,
   "metadata": {},
   "outputs": [],
   "source": [
    "splitter = ConditionAbstractTrialSplitter(valid_beh_merged, \"Color\", [\"Shape\", \"Pattern\"])"
   ]
  },
  {
   "cell_type": "code",
   "execution_count": 36,
   "metadata": {},
   "outputs": [
    {
     "name": "stdout",
     "output_type": "stream",
     "text": [
      "splitting with Pattern: RIPPLE\n"
     ]
    }
   ],
   "source": [
    "split = next(splitter)"
   ]
  },
  {
   "cell_type": "code",
   "execution_count": 15,
   "metadata": {},
   "outputs": [
    {
     "data": {
      "text/html": [
       "<div>\n",
       "<style scoped>\n",
       "    .dataframe tbody tr th:only-of-type {\n",
       "        vertical-align: middle;\n",
       "    }\n",
       "\n",
       "    .dataframe tbody tr th {\n",
       "        vertical-align: top;\n",
       "    }\n",
       "\n",
       "    .dataframe thead th {\n",
       "        text-align: right;\n",
       "    }\n",
       "</style>\n",
       "<table border=\"1\" class=\"dataframe\">\n",
       "  <thead>\n",
       "    <tr style=\"text-align: right;\">\n",
       "      <th></th>\n",
       "      <th>Condition</th>\n",
       "      <th>TestTrials</th>\n",
       "      <th>TrainTrials</th>\n",
       "    </tr>\n",
       "  </thead>\n",
       "  <tbody>\n",
       "    <tr>\n",
       "      <th>0</th>\n",
       "      <td>CYAN</td>\n",
       "      <td>[37, 74, 128, 129, 133, 135, 143, 144, 174, 19...</td>\n",
       "      <td>[38, 39, 40, 46, 48, 60, 64, 72, 91, 97, 102, ...</td>\n",
       "    </tr>\n",
       "    <tr>\n",
       "      <th>1</th>\n",
       "      <td>GREEN</td>\n",
       "      <td>[68, 71, 81, 112, 120, 145, 151, 164, 171, 173...</td>\n",
       "      <td>[55, 56, 62, 66, 73, 77, 80, 82, 83, 84, 85, 8...</td>\n",
       "    </tr>\n",
       "    <tr>\n",
       "      <th>2</th>\n",
       "      <td>MAGENTA</td>\n",
       "      <td>[36, 47, 99, 103, 137, 139, 147, 198, 200, 243...</td>\n",
       "      <td>[41, 45, 51, 52, 53, 54, 57, 59, 65, 93, 94, 9...</td>\n",
       "    </tr>\n",
       "    <tr>\n",
       "      <th>3</th>\n",
       "      <td>YELLOW</td>\n",
       "      <td>[35, 44, 67, 70, 107, 109, 118, 127, 138, 163,...</td>\n",
       "      <td>[42, 43, 49, 50, 58, 61, 63, 69, 75, 76, 78, 7...</td>\n",
       "    </tr>\n",
       "  </tbody>\n",
       "</table>\n",
       "</div>"
      ],
      "text/plain": [
       "  Condition                                         TestTrials  \\\n",
       "0      CYAN  [37, 74, 128, 129, 133, 135, 143, 144, 174, 19...   \n",
       "1     GREEN  [68, 71, 81, 112, 120, 145, 151, 164, 171, 173...   \n",
       "2   MAGENTA  [36, 47, 99, 103, 137, 139, 147, 198, 200, 243...   \n",
       "3    YELLOW  [35, 44, 67, 70, 107, 109, 118, 127, 138, 163,...   \n",
       "\n",
       "                                         TrainTrials  \n",
       "0  [38, 39, 40, 46, 48, 60, 64, 72, 91, 97, 102, ...  \n",
       "1  [55, 56, 62, 66, 73, 77, 80, 82, 83, 84, 85, 8...  \n",
       "2  [41, 45, 51, 52, 53, 54, 57, 59, 65, 93, 94, 9...  \n",
       "3  [42, 43, 49, 50, 58, 61, 63, 69, 75, 76, 78, 7...  "
      ]
     },
     "execution_count": 15,
     "metadata": {},
     "output_type": "execute_result"
    }
   ],
   "source": [
    "split"
   ]
  },
  {
   "cell_type": "code",
   "execution_count": 5,
   "metadata": {},
   "outputs": [],
   "source": [
    "test = split.loc[0].TestTrials"
   ]
  },
  {
   "cell_type": "code",
   "execution_count": 6,
   "metadata": {},
   "outputs": [],
   "source": [
    "train = split.loc[0].TrainTrials"
   ]
  },
  {
   "cell_type": "code",
   "execution_count": 7,
   "metadata": {},
   "outputs": [
    {
     "data": {
      "text/plain": [
       "0.2605932203389831"
      ]
     },
     "execution_count": 7,
     "metadata": {},
     "output_type": "execute_result"
    }
   ],
   "source": [
    "len(test) / (len(test) + len(train))"
   ]
  },
  {
   "cell_type": "code",
   "execution_count": null,
   "metadata": {},
   "outputs": [],
   "source": []
  }
 ],
 "metadata": {
  "kernelspec": {
   "display_name": "Python 3",
   "language": "python",
   "name": "python3"
  },
  "language_info": {
   "codemirror_mode": {
    "name": "ipython",
    "version": 3
   },
   "file_extension": ".py",
   "mimetype": "text/x-python",
   "name": "python",
   "nbconvert_exporter": "python",
   "pygments_lexer": "ipython3",
   "version": "3.10.6"
  }
 },
 "nbformat": 4,
 "nbformat_minor": 2
}
