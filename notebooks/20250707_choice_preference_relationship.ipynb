{
 "cells": [
  {
   "cell_type": "markdown",
   "metadata": {},
   "source": [
    "### Look at relationship between choice and preference decoders for some feature\n",
    "- First pass: Just look at cosine similarity"
   ]
  },
  {
   "cell_type": "code",
   "execution_count": 1,
   "metadata": {},
   "outputs": [],
   "source": [
    "%load_ext autoreload\n",
    "%autoreload 2\n",
    "\n",
    "import os\n",
    "import numpy as np\n",
    "import pandas as pd\n",
    "import utils.behavioral_utils as behavioral_utils\n",
    "import utils.information_utils as information_utils\n",
    "import utils.visualization_utils as visualization_utils\n",
    "import utils.pseudo_classifier_utils as pseudo_classifier_utils\n",
    "import utils.classifier_utils as classifier_utils\n",
    "\n",
    "import utils.io_utils as io_utils\n",
    "\n",
    "import utils.glm_utils as glm_utils\n",
    "from matplotlib import pyplot as plt\n",
    "import matplotlib\n",
    "import utils.spike_utils as spike_utils\n",
    "import utils.subspace_utils as subspace_utils\n",
    "from trial_splitters.condition_trial_splitter import ConditionTrialSplitter \n",
    "from utils.session_data import SessionData\n",
    "from constants.behavioral_constants import *\n",
    "from constants.decoding_constants import *\n",
    "import seaborn as sns\n",
    "from scripts.pseudo_decoding.belief_partitions.belief_partition_configs import *\n",
    "import scripts.pseudo_decoding.belief_partitions.belief_partitions_io as belief_partitions_io\n",
    "\n",
    "import scipy\n",
    "import argparse\n",
    "import copy"
   ]
  },
  {
   "cell_type": "code",
   "execution_count": 2,
   "metadata": {},
   "outputs": [],
   "source": [
    "sig_unit_level = \"pref_99th_window_filter_drift\""
   ]
  },
  {
   "cell_type": "code",
   "execution_count": 3,
   "metadata": {},
   "outputs": [],
   "source": [
    "MODE_TO_DIRECTION_LABELS = {\n",
    "    \"pref\": {\"high\": \"High X\", \"low\": \"High Not X\"},\n",
    "    \"conf\": {\"high\": \"High\", \"low\": \"Low\"},\n",
    "    \"choice_int\": {\"high\": \"Chose\", \"low\": \"Not Chose\"},\n",
    "    \"choice\": {\"high\": \"Chose\", \"low\": \"Not Chose\"},\n",
    "    \"reward\": {\"high\": \"Correct\", \"low\": \"Incorrect\"}\n",
    "\n",
    "}\n",
    "\n",
    "\n",
    "def get_weights(args):\n",
    "    high_idx = MODE_TO_CLASSES[args.mode].index(MODE_TO_DIRECTION_LABELS[args.mode][\"high\"])\n",
    "    low_idx = MODE_TO_CLASSES[args.mode].index(MODE_TO_DIRECTION_LABELS[args.mode][\"low\"])\n",
    "\n",
    "    models = belief_partitions_io.read_models(args, [args.feat])\n",
    "    unit_ids = belief_partitions_io.read_units(args, [args.feat])\n",
    "    models[\"weightsdiff\"] = models.apply(lambda x: x.models.coef_[high_idx, :] - x.models.coef_[low_idx, :], axis=1)\n",
    "    models[\"batch_mean\"] = models.apply(lambda x: x.models.model.norm.running_mean.detach().cpu().numpy(), axis=1)\n",
    "    # 1e-5 from torch batchnorm1d, numerical \n",
    "    models[\"batch_std\"] = models.apply(lambda x: np.sqrt(x.models.model.norm.running_var.detach().cpu().numpy() + 1e-5), axis=1)\n",
    "\n",
    "    def avg_and_label(x):\n",
    "        weights_diff_means = np.mean(np.vstack(x.weightsdiff.values), axis=0)\n",
    "        mean_means = np.mean(np.vstack(x.batch_mean.values), axis=0)\n",
    "        std_means = np.mean(np.vstack(x.batch_std.values), axis=0)\n",
    "        weights_diff_normed = weights_diff_means / std_means\n",
    "        pos = np.arange(len(weights_diff_means))\n",
    "        \n",
    "        return pd.DataFrame({\"pos\": pos, \"weightsdiff\": weights_diff_means, \"weightsdiff_normed\": weights_diff_normed, \"mean\": mean_means, \"std\": std_means})\n",
    "    weights = models.groupby([\"Time\", \"feat\"]).apply(avg_and_label).reset_index()\n",
    "    weights = pd.merge(weights, unit_ids, on=[\"feat\", \"pos\"])\n",
    "    return weights\n",
    "    "
   ]
  },
  {
   "cell_type": "code",
   "execution_count": 4,
   "metadata": {},
   "outputs": [],
   "source": [
    "# Need a df of Time, feat, run, "
   ]
  },
  {
   "cell_type": "code",
   "execution_count": 5,
   "metadata": {},
   "outputs": [],
   "source": [
    "args = argparse.Namespace(\n",
    "    **BeliefPartitionConfigs()._asdict()\n",
    ")\n",
    "args.trial_event = \"FeedbackOnsetLong\"\n",
    "args.subject = \"SA\"\n",
    "# args.region_level = \"structure_level2_cleaned\"\n",
    "# # args.regions = \"lateral_prefrontal_cortex_lat_PFC\"\n",
    "# args.regions = \"inferior_temporal_cortex_ITC\"\n",
    "\n",
    "res = []\n",
    "\n",
    "for feat in FEATURES:\n",
    "\n",
    "    args.feat = feat\n",
    "\n",
    "    pref_args = copy.deepcopy(args)\n",
    "    pref_args.sig_unit_level = sig_unit_level\n",
    "    pref_args.beh_filters = {\"Response\": \"Correct\", \"Choice\": \"Chose\"}\n",
    "\n",
    "    pref_args.mode = \"pref\"\n",
    "    pref_weights = get_weights(pref_args)\n",
    "\n",
    "    choice_args = copy.deepcopy(args)\n",
    "    choice_args.base_output_path = \"/data/patrick_res/choice_reward_int\"\n",
    "    # choice_args.base_output_path = \"/data/patrick_res/choice_reward\"\n",
    "\n",
    "    choice_args.sig_unit_level = \"all_filter_drift\"\n",
    "    choice_args.mode = \"choice_int\"\n",
    "    # choice_args.mode = \"choice\"\n",
    "\n",
    "    choice_weights = get_weights(choice_args)\n",
    "\n",
    "    merged = pd.merge(choice_weights, pref_weights, on=\"PseudoUnitID\", suffixes=(\"_choice\", \"_pref\"))\n",
    "    sims = merged.groupby([\"Time_choice\", \"Time_pref\"]).apply(lambda x: classifier_utils.cosine_sim(x.weightsdiff_choice, x.weightsdiff_pref)).reset_index(name=\"cosine_sim\")\n",
    "    # sims = merged.groupby([\"Time_choice\", \"Time_pref\"]).apply(lambda x: classifier_utils.cosine_sim(x.weightsdiff_normed_choice, x.weightsdiff_normed_pref)).reset_index(name=\"cosine_sim\")\n",
    "    sims[\"feat\"] = feat\n",
    "    res.append(sims)\n",
    "\n",
    "res = pd.concat(res)\n"
   ]
  },
  {
   "cell_type": "code",
   "execution_count": 6,
   "metadata": {},
   "outputs": [],
   "source": [
    "avg_res = res.groupby([\"Time_choice\", \"Time_pref\"]).mean(\"cosine_sim\").reset_index()"
   ]
  },
  {
   "cell_type": "code",
   "execution_count": 7,
   "metadata": {},
   "outputs": [
    {
     "data": {
      "text/html": [
       "<div>\n",
       "<style scoped>\n",
       "    .dataframe tbody tr th:only-of-type {\n",
       "        vertical-align: middle;\n",
       "    }\n",
       "\n",
       "    .dataframe tbody tr th {\n",
       "        vertical-align: top;\n",
       "    }\n",
       "\n",
       "    .dataframe thead th {\n",
       "        text-align: right;\n",
       "    }\n",
       "</style>\n",
       "<table border=\"1\" class=\"dataframe\">\n",
       "  <thead>\n",
       "    <tr style=\"text-align: right;\">\n",
       "      <th></th>\n",
       "      <th>Time_choice</th>\n",
       "      <th>Time_pref</th>\n",
       "      <th>cosine_sim</th>\n",
       "    </tr>\n",
       "  </thead>\n",
       "  <tbody>\n",
       "    <tr>\n",
       "      <th>0</th>\n",
       "      <td>-1.7</td>\n",
       "      <td>-1.7</td>\n",
       "      <td>0.079409</td>\n",
       "    </tr>\n",
       "    <tr>\n",
       "      <th>1</th>\n",
       "      <td>-1.7</td>\n",
       "      <td>-1.6</td>\n",
       "      <td>0.092139</td>\n",
       "    </tr>\n",
       "    <tr>\n",
       "      <th>2</th>\n",
       "      <td>-1.7</td>\n",
       "      <td>-1.5</td>\n",
       "      <td>0.108649</td>\n",
       "    </tr>\n",
       "    <tr>\n",
       "      <th>3</th>\n",
       "      <td>-1.7</td>\n",
       "      <td>-1.4</td>\n",
       "      <td>0.105621</td>\n",
       "    </tr>\n",
       "    <tr>\n",
       "      <th>4</th>\n",
       "      <td>-1.7</td>\n",
       "      <td>-1.3</td>\n",
       "      <td>0.080745</td>\n",
       "    </tr>\n",
       "    <tr>\n",
       "      <th>...</th>\n",
       "      <td>...</td>\n",
       "      <td>...</td>\n",
       "      <td>...</td>\n",
       "    </tr>\n",
       "    <tr>\n",
       "      <th>1084</th>\n",
       "      <td>1.5</td>\n",
       "      <td>1.1</td>\n",
       "      <td>0.000105</td>\n",
       "    </tr>\n",
       "    <tr>\n",
       "      <th>1085</th>\n",
       "      <td>1.5</td>\n",
       "      <td>1.2</td>\n",
       "      <td>0.014873</td>\n",
       "    </tr>\n",
       "    <tr>\n",
       "      <th>1086</th>\n",
       "      <td>1.5</td>\n",
       "      <td>1.3</td>\n",
       "      <td>0.025706</td>\n",
       "    </tr>\n",
       "    <tr>\n",
       "      <th>1087</th>\n",
       "      <td>1.5</td>\n",
       "      <td>1.4</td>\n",
       "      <td>0.023929</td>\n",
       "    </tr>\n",
       "    <tr>\n",
       "      <th>1088</th>\n",
       "      <td>1.5</td>\n",
       "      <td>1.5</td>\n",
       "      <td>0.025867</td>\n",
       "    </tr>\n",
       "  </tbody>\n",
       "</table>\n",
       "<p>1089 rows × 3 columns</p>\n",
       "</div>"
      ],
      "text/plain": [
       "      Time_choice  Time_pref  cosine_sim\n",
       "0            -1.7       -1.7    0.079409\n",
       "1            -1.7       -1.6    0.092139\n",
       "2            -1.7       -1.5    0.108649\n",
       "3            -1.7       -1.4    0.105621\n",
       "4            -1.7       -1.3    0.080745\n",
       "...           ...        ...         ...\n",
       "1084          1.5        1.1    0.000105\n",
       "1085          1.5        1.2    0.014873\n",
       "1086          1.5        1.3    0.025706\n",
       "1087          1.5        1.4    0.023929\n",
       "1088          1.5        1.5    0.025867\n",
       "\n",
       "[1089 rows x 3 columns]"
      ]
     },
     "execution_count": 7,
     "metadata": {},
     "output_type": "execute_result"
    }
   ],
   "source": [
    "avg_res"
   ]
  },
  {
   "cell_type": "code",
   "execution_count": 8,
   "metadata": {},
   "outputs": [
    {
     "data": {
      "text/plain": [
       "<Axes: xlabel='Time_choice', ylabel='Time_pref'>"
      ]
     },
     "execution_count": 8,
     "metadata": {},
     "output_type": "execute_result"
    },
    {
     "data": {
      "image/png": "[encoded data removed]",
      "text/plain": [
       "<Figure size 640x480 with 2 Axes>"
      ]
     },
     "metadata": {},
     "output_type": "display_data"
    }
   ],
   "source": [
    "pivoted = avg_res.pivot(index=\"Time_pref\", columns=\"Time_choice\", values=\"cosine_sim\", )\n",
    "sns.heatmap(pivoted, cmap='coolwarm', center=0)"
   ]
  },
  {
   "cell_type": "markdown",
   "metadata": {},
   "source": []
  }
 ],
 "metadata": {
  "kernelspec": {
   "display_name": "Python 3",
   "language": "python",
   "name": "python3"
  },
  "language_info": {
   "codemirror_mode": {
    "name": "ipython",
    "version": 3
   },
   "file_extension": ".py",
   "mimetype": "text/x-python",
   "name": "python",
   "nbconvert_exporter": "python",
   "pygments_lexer": "ipython3",
   "version": "3.10.6"
  }
 },
 "nbformat": 4,
 "nbformat_minor": 2
}
