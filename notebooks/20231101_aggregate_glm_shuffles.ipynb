{
 "cells": [
  {
   "cell_type": "code",
   "execution_count": 1,
   "metadata": {},
   "outputs": [],
   "source": [
    "import utils.behavioral_utils as behavioral_utils\n",
    "import utils.information_utils as information_utils\n",
    "import utils.io_utils as io_utils\n",
    "import pandas as pd\n",
    "\n",
    "SESSIONS_PATH = \"/data/patrick_res/multi_sess/valid_sessions_rpe.pickle\"\n"
   ]
  },
  {
   "cell_type": "code",
   "execution_count": 2,
   "metadata": {},
   "outputs": [],
   "source": [
    "sessions = pd.read_pickle(SESSIONS_PATH)"
   ]
  },
  {
   "cell_type": "code",
   "execution_count": 7,
   "metadata": {},
   "outputs": [],
   "source": [
    "def aggregate_shuffles(sess_name):\n",
    "    print(f\"Processing {sess_name}\")\n",
    "    shuffles = []\n",
    "    for i in range(1000):\n",
    "        shuffle = pd.read_pickle(f\"/data/patrick_res/hyak/res/{sess_name}_glm_feature_rpe_shuffle_{i}.pickle\")\n",
    "        shuffle[\"ShuffleIdx\"] = i\n",
    "        shuffles.append(shuffle)\n",
    "    shuffles = pd.concat(shuffles)\n",
    "    shuffles.to_pickle(f\"/data/patrick_res/glm/{sess_name}_glm_feature_rpe_shuffles.pickle\")"
   ]
  },
  {
   "cell_type": "code",
   "execution_count": 8,
   "metadata": {},
   "outputs": [
    {
     "name": "stdout",
     "output_type": "stream",
     "text": [
      "Processing 20180709\n",
      "Processing 20180920\n",
      "Processing 20180918\n",
      "Processing 20180912\n",
      "Processing 20181008\n",
      "Processing 20181002\n",
      "Processing 20180806\n",
      "Processing 20180801\n",
      "Processing 20181005\n",
      "Processing 201807250001\n",
      "Processing 20181001\n",
      "Processing 20180802\n",
      "Processing 20180808\n",
      "Processing 20180924\n",
      "Processing 20180926\n",
      "Processing 20180705\n",
      "Processing 20181004\n",
      "Processing 20181003\n",
      "Processing 20181009\n",
      "Processing 20181010\n",
      "Processing 20180921\n",
      "Processing 20180917\n",
      "Processing 20180925\n",
      "Processing 20180803\n",
      "Processing 20180712\n",
      "Processing 20180928\n",
      "Processing 20180910\n"
     ]
    },
    {
     "data": {
      "text/plain": [
       "0      None\n",
       "5      None\n",
       "7      None\n",
       "8      None\n",
       "10     None\n",
       "11     None\n",
       "15     None\n",
       "17     None\n",
       "22     None\n",
       "27     None\n",
       "39     None\n",
       "43     None\n",
       "44     None\n",
       "55     None\n",
       "64     None\n",
       "68     None\n",
       "71     None\n",
       "73     None\n",
       "74     None\n",
       "78     None\n",
       "79     None\n",
       "87     None\n",
       "93     None\n",
       "97     None\n",
       "104    None\n",
       "107    None\n",
       "113    None\n",
       "dtype: object"
      ]
     },
     "execution_count": 8,
     "metadata": {},
     "output_type": "execute_result"
    }
   ],
   "source": [
    "sessions.apply(lambda x: aggregate_shuffles(x.session_name), axis=1)"
   ]
  },
  {
   "cell_type": "code",
   "execution_count": null,
   "metadata": {},
   "outputs": [],
   "source": []
  }
 ],
 "metadata": {
  "kernelspec": {
   "display_name": "Python 3",
   "language": "python",
   "name": "python3"
  },
  "language_info": {
   "codemirror_mode": {
    "name": "ipython",
    "version": 3
   },
   "file_extension": ".py",
   "mimetype": "text/x-python",
   "name": "python",
   "nbconvert_exporter": "python",
   "pygments_lexer": "ipython3",
   "version": "3.10.6"
  }
 },
 "nbformat": 4,
 "nbformat_minor": 2
}
