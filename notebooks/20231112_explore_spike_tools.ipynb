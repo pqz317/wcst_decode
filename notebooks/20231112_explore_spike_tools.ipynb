{
 "cells": [
  {
   "cell_type": "markdown",
   "metadata": {},
   "source": [
    "### Need to fix spike_tools library, using notebook for exploration"
   ]
  },
  {
   "cell_type": "code",
   "execution_count": 2,
   "metadata": {},
   "outputs": [],
   "source": [
    "%load_ext autoreload\n",
    "%autoreload 2\n",
    "\n",
    "from spike_tools import (\n",
    "    general as spike_general,\n",
    "    analysis as spike_analysis,\n",
    ")\n",
    "import numpy as np\n",
    "import pandas as pd"
   ]
  },
  {
   "cell_type": "code",
   "execution_count": 3,
   "metadata": {},
   "outputs": [],
   "source": [
    "subject = \"SA\"\n",
    "sess_name = \"20180802\"\n",
    "spike_times = spike_general.get_spike_times(None, subject, sess_name, species_dir=\"/data\")\n"
   ]
  },
  {
   "cell_type": "markdown",
   "metadata": {},
   "source": []
  },
  {
   "cell_type": "code",
   "execution_count": 4,
   "metadata": {},
   "outputs": [
    {
     "data": {
      "text/html": [
       "<div>\n",
       "<style scoped>\n",
       "    .dataframe tbody tr th:only-of-type {\n",
       "        vertical-align: middle;\n",
       "    }\n",
       "\n",
       "    .dataframe tbody tr th {\n",
       "        vertical-align: top;\n",
       "    }\n",
       "\n",
       "    .dataframe thead th {\n",
       "        text-align: right;\n",
       "    }\n",
       "</style>\n",
       "<table border=\"1\" class=\"dataframe\">\n",
       "  <thead>\n",
       "    <tr style=\"text-align: right;\">\n",
       "      <th></th>\n",
       "      <th>UnitID</th>\n",
       "      <th>SpikeTime</th>\n",
       "    </tr>\n",
       "  </thead>\n",
       "  <tbody>\n",
       "    <tr>\n",
       "      <th>0</th>\n",
       "      <td>0</td>\n",
       "      <td>207</td>\n",
       "    </tr>\n",
       "    <tr>\n",
       "      <th>1</th>\n",
       "      <td>0</td>\n",
       "      <td>436</td>\n",
       "    </tr>\n",
       "    <tr>\n",
       "      <th>2</th>\n",
       "      <td>0</td>\n",
       "      <td>1046</td>\n",
       "    </tr>\n",
       "    <tr>\n",
       "      <th>3</th>\n",
       "      <td>0</td>\n",
       "      <td>1094</td>\n",
       "    </tr>\n",
       "    <tr>\n",
       "      <th>4</th>\n",
       "      <td>0</td>\n",
       "      <td>1173</td>\n",
       "    </tr>\n",
       "    <tr>\n",
       "      <th>...</th>\n",
       "      <td>...</td>\n",
       "      <td>...</td>\n",
       "    </tr>\n",
       "    <tr>\n",
       "      <th>3210281</th>\n",
       "      <td>45</td>\n",
       "      <td>14170127</td>\n",
       "    </tr>\n",
       "    <tr>\n",
       "      <th>3210282</th>\n",
       "      <td>45</td>\n",
       "      <td>14172987</td>\n",
       "    </tr>\n",
       "    <tr>\n",
       "      <th>3210283</th>\n",
       "      <td>45</td>\n",
       "      <td>14173098</td>\n",
       "    </tr>\n",
       "    <tr>\n",
       "      <th>3210284</th>\n",
       "      <td>45</td>\n",
       "      <td>14175065</td>\n",
       "    </tr>\n",
       "    <tr>\n",
       "      <th>3210285</th>\n",
       "      <td>45</td>\n",
       "      <td>14176688</td>\n",
       "    </tr>\n",
       "  </tbody>\n",
       "</table>\n",
       "<p>3210286 rows × 2 columns</p>\n",
       "</div>"
      ],
      "text/plain": [
       "         UnitID SpikeTime\n",
       "0             0       207\n",
       "1             0       436\n",
       "2             0      1046\n",
       "3             0      1094\n",
       "4             0      1173\n",
       "...         ...       ...\n",
       "3210281      45  14170127\n",
       "3210282      45  14172987\n",
       "3210283      45  14173098\n",
       "3210284      45  14175065\n",
       "3210285      45  14176688\n",
       "\n",
       "[3210286 rows x 2 columns]"
      ]
     },
     "execution_count": 4,
     "metadata": {},
     "output_type": "execute_result"
    }
   ],
   "source": [
    "spike_times"
   ]
  },
  {
   "cell_type": "code",
   "execution_count": 16,
   "metadata": {},
   "outputs": [],
   "source": [
    "units = spike_general.list_session_units(None, subject, sess_name, species_dir=\"/data\")"
   ]
  },
  {
   "cell_type": "code",
   "execution_count": 4,
   "metadata": {},
   "outputs": [],
   "source": [
    "all_unit_info = spike_general.list_session_units(None, subject, sess_name, \"/data\")"
   ]
  },
  {
   "cell_type": "code",
   "execution_count": 5,
   "metadata": {},
   "outputs": [],
   "source": [
    "filter_rows = all_unit_info\n",
    "spike_times = filter_rows.apply(lambda x: spike_general._get_spike_timestamps(None, x), axis=1)"
   ]
  },
  {
   "cell_type": "code",
   "execution_count": 6,
   "metadata": {},
   "outputs": [],
   "source": [
    "spike_times = spike_times.explode(\"SpikeTime\")[[\"UnitID\", \"SpikeTime\"]]"
   ]
  },
  {
   "cell_type": "code",
   "execution_count": 37,
   "metadata": {},
   "outputs": [
    {
     "data": {
      "text/html": [
       "<div>\n",
       "<style scoped>\n",
       "    .dataframe tbody tr th:only-of-type {\n",
       "        vertical-align: middle;\n",
       "    }\n",
       "\n",
       "    .dataframe tbody tr th {\n",
       "        vertical-align: top;\n",
       "    }\n",
       "\n",
       "    .dataframe thead th {\n",
       "        text-align: right;\n",
       "    }\n",
       "</style>\n",
       "<table border=\"1\" class=\"dataframe\">\n",
       "  <thead>\n",
       "    <tr style=\"text-align: right;\">\n",
       "      <th></th>\n",
       "      <th>UnitID</th>\n",
       "      <th>SpikeTime</th>\n",
       "    </tr>\n",
       "  </thead>\n",
       "  <tbody>\n",
       "    <tr>\n",
       "      <th>0</th>\n",
       "      <td>0</td>\n",
       "      <td>207</td>\n",
       "    </tr>\n",
       "    <tr>\n",
       "      <th>1</th>\n",
       "      <td>0</td>\n",
       "      <td>436</td>\n",
       "    </tr>\n",
       "    <tr>\n",
       "      <th>2</th>\n",
       "      <td>0</td>\n",
       "      <td>1046</td>\n",
       "    </tr>\n",
       "    <tr>\n",
       "      <th>3</th>\n",
       "      <td>0</td>\n",
       "      <td>1094</td>\n",
       "    </tr>\n",
       "    <tr>\n",
       "      <th>4</th>\n",
       "      <td>0</td>\n",
       "      <td>1173</td>\n",
       "    </tr>\n",
       "    <tr>\n",
       "      <th>...</th>\n",
       "      <td>...</td>\n",
       "      <td>...</td>\n",
       "    </tr>\n",
       "    <tr>\n",
       "      <th>3210281</th>\n",
       "      <td>45</td>\n",
       "      <td>14170127</td>\n",
       "    </tr>\n",
       "    <tr>\n",
       "      <th>3210282</th>\n",
       "      <td>45</td>\n",
       "      <td>14172987</td>\n",
       "    </tr>\n",
       "    <tr>\n",
       "      <th>3210283</th>\n",
       "      <td>45</td>\n",
       "      <td>14173098</td>\n",
       "    </tr>\n",
       "    <tr>\n",
       "      <th>3210284</th>\n",
       "      <td>45</td>\n",
       "      <td>14175065</td>\n",
       "    </tr>\n",
       "    <tr>\n",
       "      <th>3210285</th>\n",
       "      <td>45</td>\n",
       "      <td>14176688</td>\n",
       "    </tr>\n",
       "  </tbody>\n",
       "</table>\n",
       "<p>3210286 rows × 2 columns</p>\n",
       "</div>"
      ],
      "text/plain": [
       "         UnitID SpikeTime\n",
       "0             0       207\n",
       "1             0       436\n",
       "2             0      1046\n",
       "3             0      1094\n",
       "4             0      1173\n",
       "...         ...       ...\n",
       "3210281      45  14170127\n",
       "3210282      45  14172987\n",
       "3210283      45  14173098\n",
       "3210284      45  14175065\n",
       "3210285      45  14176688\n",
       "\n",
       "[3210286 rows x 2 columns]"
      ]
     },
     "execution_count": 37,
     "metadata": {},
     "output_type": "execute_result"
    }
   ],
   "source": [
    "spike_times.reset_index().drop(columns=\"index\")"
   ]
  },
  {
   "cell_type": "code",
   "execution_count": 14,
   "metadata": {},
   "outputs": [],
   "source": [
    "spike_times_df = pd.DataFrame(spike_times, index=spike_times.index.values, columns=[\"SpikeTime\"])\n",
    "spike_times_df[\"UnitID\"] = spike_times_df.index.values"
   ]
  },
  {
   "cell_type": "code",
   "execution_count": 19,
   "metadata": {},
   "outputs": [],
   "source": [
    "SESS_SPIKES_PATH = \"/data/patrick_res/firing_rates/{sess_name}_firing_rates_{pre_interval}_{event}_{post_interval}_{interval_size}_bins_1_smooth.pickle\"\n",
    "EVENT = \"FeedbackOnset\"  # event in behavior to align on\n",
    "PRE_INTERVAL = 1300   # time in ms before event\n",
    "POST_INTERVAL = 1500  # time in ms after event\n",
    "INTERVAL_SIZE = 100  # size of interval in ms\n",
    "\n",
    "def count_units(row):\n",
    "    units = spike_general.list_session_units(None, subject, row.session_name, species_dir=\"/data\")\n",
    "    return len(units.UnitID.unique())\n",
    "\n",
    "def count_units_from_fr(row):\n",
    "    spikes_path = SESS_SPIKES_PATH.format(\n",
    "        sess_name=row.session_name, \n",
    "        pre_interval=PRE_INTERVAL, \n",
    "        event=EVENT, \n",
    "        post_interval=POST_INTERVAL, \n",
    "        interval_size=INTERVAL_SIZE\n",
    "    )\n",
    "    frs = pd.read_pickle(spikes_path)\n",
    "    return len(frs.UnitID.unique())\n",
    "\n",
    "valid_sess = pd.read_pickle(\"/data/patrick_res/sessions/valid_sessions_rpe.pickle\")\n",
    "counts = valid_sess.apply(count_units_from_fr, axis=1)\n"
   ]
  },
  {
   "cell_type": "code",
   "execution_count": 20,
   "metadata": {},
   "outputs": [
    {
     "data": {
      "text/plain": [
       "756"
      ]
     },
     "execution_count": 20,
     "metadata": {},
     "output_type": "execute_result"
    }
   ],
   "source": [
    "sum(counts)"
   ]
  },
  {
   "cell_type": "code",
   "execution_count": null,
   "metadata": {},
   "outputs": [],
   "source": []
  }
 ],
 "metadata": {
  "kernelspec": {
   "display_name": "Python 3",
   "language": "python",
   "name": "python3"
  },
  "language_info": {
   "codemirror_mode": {
    "name": "ipython",
    "version": 3
   },
   "file_extension": ".py",
   "mimetype": "text/x-python",
   "name": "python",
   "nbconvert_exporter": "python",
   "pygments_lexer": "ipython3",
   "version": "3.10.6"
  }
 },
 "nbformat": 4,
 "nbformat_minor": 2
}
