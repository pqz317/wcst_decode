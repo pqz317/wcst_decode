{
 "cells": [
  {
   "cell_type": "code",
   "execution_count": 1,
   "metadata": {},
   "outputs": [],
   "source": [
    "import os\n",
    "import numpy as np\n",
    "import pandas as pd\n",
    "import utils.behavioral_utils as behavioral_utils\n",
    "\n",
    "from constants.behavioral_constants import *\n",
    "from constants.decoding_constants import *\n",
    "\n",
    "import argparse\n",
    "from scripts.anova_analysis.anova_configs import add_defaults_to_parser, AnovaConfigs\n",
    "import utils.io_utils as io_utils\n",
    "import utils.anova_utils as anova_utils\n",
    "from tqdm import tqdm"
   ]
  },
  {
   "cell_type": "code",
   "execution_count": 11,
   "metadata": {},
   "outputs": [],
   "source": [
    "tqdm.pandas()"
   ]
  },
  {
   "cell_type": "code",
   "execution_count": 23,
   "metadata": {},
   "outputs": [],
   "source": [
    "args = argparse.Namespace(\n",
    "    **AnovaConfigs()._asdict()\n",
    ")\n",
    "args.conditions = [\"BeliefConf\", \"BeliefPartition\"]\n",
    "args.beh_filters = {\"Response\": \"Correct\", \"Choice\": \"Chose\"}\n",
    "args.window_size = 500\n",
    "args.subject = \"SA\"\n",
    "\n",
    "\n",
    "\n",
    "FEATS_PATH = \"/data/patrick_res/sessions/{sub}/feats_at_least_3blocks.pickle\"\n",
    "feat_sessions = pd.read_pickle(FEATS_PATH.format(sub=args.subject))\n",
    "feat_sess_pairs = feat_sessions.explode(\"sessions\")\n",
    "feat_sess_pairs = feat_sess_pairs[:10]\n"
   ]
  },
  {
   "cell_type": "code",
   "execution_count": 21,
   "metadata": {},
   "outputs": [
    {
     "data": {
      "text/html": [
       "<div>\n",
       "<style scoped>\n",
       "    .dataframe tbody tr th:only-of-type {\n",
       "        vertical-align: middle;\n",
       "    }\n",
       "\n",
       "    .dataframe tbody tr th {\n",
       "        vertical-align: top;\n",
       "    }\n",
       "\n",
       "    .dataframe thead th {\n",
       "        text-align: right;\n",
       "    }\n",
       "</style>\n",
       "<table border=\"1\" class=\"dataframe\">\n",
       "  <thead>\n",
       "    <tr style=\"text-align: right;\">\n",
       "      <th></th>\n",
       "      <th>feat</th>\n",
       "      <th>sessions</th>\n",
       "      <th>num_essions</th>\n",
       "    </tr>\n",
       "  </thead>\n",
       "  <tbody>\n",
       "    <tr>\n",
       "      <th>0</th>\n",
       "      <td>CIRCLE</td>\n",
       "      <td>[20180615, 20180625, 20180709, 20180802, 20180...</td>\n",
       "      <td>22</td>\n",
       "    </tr>\n",
       "    <tr>\n",
       "      <th>1</th>\n",
       "      <td>SQUARE</td>\n",
       "      <td>[20180615, 20180709, 20180801, 20180802, 20180...</td>\n",
       "      <td>22</td>\n",
       "    </tr>\n",
       "    <tr>\n",
       "      <th>2</th>\n",
       "      <td>STAR</td>\n",
       "      <td>[20180709, 20180803, 20180817, 20180821, 20180...</td>\n",
       "      <td>15</td>\n",
       "    </tr>\n",
       "    <tr>\n",
       "      <th>3</th>\n",
       "      <td>TRIANGLE</td>\n",
       "      <td>[20180615, 20180705, 20180801, 20180802, 20180...</td>\n",
       "      <td>11</td>\n",
       "    </tr>\n",
       "    <tr>\n",
       "      <th>4</th>\n",
       "      <td>CYAN</td>\n",
       "      <td>[20180705, 20180801, 20180802, 20180803, 20180...</td>\n",
       "      <td>19</td>\n",
       "    </tr>\n",
       "    <tr>\n",
       "      <th>5</th>\n",
       "      <td>GREEN</td>\n",
       "      <td>[20180802, 20180806, 20180808, 20180813, 20180...</td>\n",
       "      <td>19</td>\n",
       "    </tr>\n",
       "    <tr>\n",
       "      <th>6</th>\n",
       "      <td>MAGENTA</td>\n",
       "      <td>[20180622, 20180705, 20180801, 20180802, 20180...</td>\n",
       "      <td>21</td>\n",
       "    </tr>\n",
       "    <tr>\n",
       "      <th>7</th>\n",
       "      <td>YELLOW</td>\n",
       "      <td>[20180705, 201807250001, 20180801, 20180802, 2...</td>\n",
       "      <td>25</td>\n",
       "    </tr>\n",
       "    <tr>\n",
       "      <th>8</th>\n",
       "      <td>ESCHER</td>\n",
       "      <td>[20180803, 20180808, 20180810, 20180813, 20180...</td>\n",
       "      <td>17</td>\n",
       "    </tr>\n",
       "    <tr>\n",
       "      <th>9</th>\n",
       "      <td>POLKADOT</td>\n",
       "      <td>[20180705, 20180709, 20180802, 20180803, 20180...</td>\n",
       "      <td>19</td>\n",
       "    </tr>\n",
       "  </tbody>\n",
       "</table>\n",
       "</div>"
      ],
      "text/plain": [
       "       feat                                           sessions  num_essions\n",
       "0    CIRCLE  [20180615, 20180625, 20180709, 20180802, 20180...           22\n",
       "1    SQUARE  [20180615, 20180709, 20180801, 20180802, 20180...           22\n",
       "2      STAR  [20180709, 20180803, 20180817, 20180821, 20180...           15\n",
       "3  TRIANGLE  [20180615, 20180705, 20180801, 20180802, 20180...           11\n",
       "4      CYAN  [20180705, 20180801, 20180802, 20180803, 20180...           19\n",
       "5     GREEN  [20180802, 20180806, 20180808, 20180813, 20180...           19\n",
       "6   MAGENTA  [20180622, 20180705, 20180801, 20180802, 20180...           21\n",
       "7    YELLOW  [20180705, 201807250001, 20180801, 20180802, 2...           25\n",
       "8    ESCHER  [20180803, 20180808, 20180810, 20180813, 20180...           17\n",
       "9  POLKADOT  [20180705, 20180709, 20180802, 20180803, 20180...           19"
      ]
     },
     "execution_count": 21,
     "metadata": {},
     "output_type": "execute_result"
    }
   ],
   "source": []
  },
  {
   "cell_type": "code",
   "execution_count": 24,
   "metadata": {},
   "outputs": [
    {
     "name": "stderr",
     "output_type": "stream",
     "text": [
      "100%|██████████| 10/10 [00:02<00:00,  3.70it/s]\n"
     ]
    }
   ],
   "source": [
    "def split_by_condition(group):\n",
    "    rng = np.random.default_rng()\n",
    "    trials = group.TrialNumber.unique()\n",
    "    rng.shuffle(trials)\n",
    "    split_point = len(trials) // 2\n",
    "    return pd.Series({\"split_0\": trials[:split_point], \"split_1\": trials[split_point:]})\n",
    "\n",
    "def find_trial_splits(args, row):\n",
    "    args.feat = row.feat\n",
    "    feat = args.feat\n",
    "    beh = behavioral_utils.load_behavior_from_args(row.sessions, args)\n",
    "    beh = behavioral_utils.get_belief_partitions(beh, feat)\n",
    "    beh[\"Choice\"] = beh.apply(lambda x: \"Chose\" if x[FEATURE_TO_DIM[feat]] == feat else \"Not Chose\", axis=1)\n",
    "    beh[\"FeatPreferred\"] = beh[\"PreferredBelief\"].apply(lambda x: \"Preferred\" if x == feat else \"Not Preferred\")\n",
    "    beh = behavioral_utils.filter_behavior(beh, args.beh_filters)\n",
    "    cond_splits = beh.groupby(\"BeliefPartition\").apply(split_by_condition).reset_index()\n",
    "    return pd.Series({\n",
    "        \"split_0\": np.concatenate(cond_splits.split_0.values), \n",
    "        \"split_1\": np.concatenate(cond_splits.split_1.values)\n",
    "    })\n",
    "\n",
    "feat_sess_pairs[[\"split_0\", \"split_1\"]] = feat_sess_pairs.progress_apply(lambda x: find_trial_splits(args, x), axis=1)\n"
   ]
  },
  {
   "cell_type": "code",
   "execution_count": 32,
   "metadata": {},
   "outputs": [
    {
     "data": {
      "text/plain": [
       "54"
      ]
     },
     "execution_count": 32,
     "metadata": {},
     "output_type": "execute_result"
    }
   ],
   "source": [
    "len(feat_sess_pairs.iloc[0].split_0)"
   ]
  },
  {
   "cell_type": "code",
   "execution_count": 28,
   "metadata": {},
   "outputs": [],
   "source": [
    "filt_str = \"_\".join([f\"{k}_{v}\"for k, v in args.beh_filters.items()])\n",
    "components = [args.subject, filt_str, \"belief_partition_splits\"]\n",
    "run_name = \"_\".join(s for s in components if s)"
   ]
  },
  {
   "cell_type": "code",
   "execution_count": 29,
   "metadata": {},
   "outputs": [
    {
     "data": {
      "text/plain": [
       "'SA_Response_Correct_Choice_Chose_belief_partition_splits'"
      ]
     },
     "execution_count": 29,
     "metadata": {},
     "output_type": "execute_result"
    }
   ],
   "source": [
    "run_name"
   ]
  },
  {
   "cell_type": "code",
   "execution_count": 33,
   "metadata": {},
   "outputs": [
    {
     "data": {
      "text/html": [
       "<div>\n",
       "<style scoped>\n",
       "    .dataframe tbody tr th:only-of-type {\n",
       "        vertical-align: middle;\n",
       "    }\n",
       "\n",
       "    .dataframe tbody tr th {\n",
       "        vertical-align: top;\n",
       "    }\n",
       "\n",
       "    .dataframe thead th {\n",
       "        text-align: right;\n",
       "    }\n",
       "</style>\n",
       "<table border=\"1\" class=\"dataframe\">\n",
       "  <thead>\n",
       "    <tr style=\"text-align: right;\">\n",
       "      <th></th>\n",
       "      <th>feat</th>\n",
       "      <th>sessions</th>\n",
       "      <th>num_essions</th>\n",
       "      <th>split_0</th>\n",
       "      <th>split_1</th>\n",
       "    </tr>\n",
       "  </thead>\n",
       "  <tbody>\n",
       "    <tr>\n",
       "      <th>0</th>\n",
       "      <td>CIRCLE</td>\n",
       "      <td>20180615</td>\n",
       "      <td>22</td>\n",
       "      <td>[453, 287, 655, 654, 659, 447, 657, 661, 451, ...</td>\n",
       "      <td>[452, 443, 442, 660, 450, 651, 448, 656, 658, ...</td>\n",
       "    </tr>\n",
       "    <tr>\n",
       "      <th>0</th>\n",
       "      <td>CIRCLE</td>\n",
       "      <td>20180625</td>\n",
       "      <td>22</td>\n",
       "      <td>[492, 635, 443, 446, 430, 442, 626, 637, 503, ...</td>\n",
       "      <td>[433, 486, 494, 625, 504, 440, 629, 445, 496, ...</td>\n",
       "    </tr>\n",
       "    <tr>\n",
       "      <th>0</th>\n",
       "      <td>CIRCLE</td>\n",
       "      <td>20180709</td>\n",
       "      <td>22</td>\n",
       "      <td>[763, 822, 764, 706, 472, 770, 699, 466, 754, ...</td>\n",
       "      <td>[708, 762, 766, 825, 705, 826, 823, 704, 829, ...</td>\n",
       "    </tr>\n",
       "    <tr>\n",
       "      <th>0</th>\n",
       "      <td>CIRCLE</td>\n",
       "      <td>20180802</td>\n",
       "      <td>22</td>\n",
       "      <td>[729, 815, 55, 821, 823, 225, 217, 223, 256, 7...</td>\n",
       "      <td>[226, 53, 219, 730, 54, 899, 816, 733, 253, 82...</td>\n",
       "    </tr>\n",
       "    <tr>\n",
       "      <th>0</th>\n",
       "      <td>CIRCLE</td>\n",
       "      <td>20180803</td>\n",
       "      <td>22</td>\n",
       "      <td>[840, 482, 844, 478, 487, 481, 477, 483, 845, ...</td>\n",
       "      <td>[841, 476, 843, 485, 490, 931, 489, 475, 484, ...</td>\n",
       "    </tr>\n",
       "    <tr>\n",
       "      <th>0</th>\n",
       "      <td>CIRCLE</td>\n",
       "      <td>20180806</td>\n",
       "      <td>22</td>\n",
       "      <td>[520, 1221, 523, 524, 314, 1248, 1223, 519, 53...</td>\n",
       "      <td>[1240, 1237, 1245, 304, 1242, 1246, 315, 1220,...</td>\n",
       "    </tr>\n",
       "    <tr>\n",
       "      <th>0</th>\n",
       "      <td>CIRCLE</td>\n",
       "      <td>20180808</td>\n",
       "      <td>22</td>\n",
       "      <td>[714, 710, 246, 250, 845, 252, 713, 249, 251, ...</td>\n",
       "      <td>[712, 839, 247, 244, 848, 849, 840, 253, 844, ...</td>\n",
       "    </tr>\n",
       "    <tr>\n",
       "      <th>0</th>\n",
       "      <td>CIRCLE</td>\n",
       "      <td>20180810</td>\n",
       "      <td>22</td>\n",
       "      <td>[1065, 1071, 778, 772, 1070, 1118, 781, 1115, ...</td>\n",
       "      <td>[449, 1061, 1066, 1069, 1119, 1064, 780, 771, ...</td>\n",
       "    </tr>\n",
       "    <tr>\n",
       "      <th>0</th>\n",
       "      <td>CIRCLE</td>\n",
       "      <td>20180813</td>\n",
       "      <td>22</td>\n",
       "      <td>[751, 1234, 1252, 1248, 747, 1251, 956, 965, 9...</td>\n",
       "      <td>[1240, 955, 1247, 752, 963, 1245, 1241, 959, 1...</td>\n",
       "    </tr>\n",
       "    <tr>\n",
       "      <th>0</th>\n",
       "      <td>CIRCLE</td>\n",
       "      <td>20180821</td>\n",
       "      <td>22</td>\n",
       "      <td>[157, 127, 143, 304, 119, 289, 290, 274, 161, ...</td>\n",
       "      <td>[300, 158, 147, 306, 153, 134, 299, 286, 283, ...</td>\n",
       "    </tr>\n",
       "  </tbody>\n",
       "</table>\n",
       "</div>"
      ],
      "text/plain": [
       "     feat  sessions  num_essions  \\\n",
       "0  CIRCLE  20180615           22   \n",
       "0  CIRCLE  20180625           22   \n",
       "0  CIRCLE  20180709           22   \n",
       "0  CIRCLE  20180802           22   \n",
       "0  CIRCLE  20180803           22   \n",
       "0  CIRCLE  20180806           22   \n",
       "0  CIRCLE  20180808           22   \n",
       "0  CIRCLE  20180810           22   \n",
       "0  CIRCLE  20180813           22   \n",
       "0  CIRCLE  20180821           22   \n",
       "\n",
       "                                             split_0  \\\n",
       "0  [453, 287, 655, 654, 659, 447, 657, 661, 451, ...   \n",
       "0  [492, 635, 443, 446, 430, 442, 626, 637, 503, ...   \n",
       "0  [763, 822, 764, 706, 472, 770, 699, 466, 754, ...   \n",
       "0  [729, 815, 55, 821, 823, 225, 217, 223, 256, 7...   \n",
       "0  [840, 482, 844, 478, 487, 481, 477, 483, 845, ...   \n",
       "0  [520, 1221, 523, 524, 314, 1248, 1223, 519, 53...   \n",
       "0  [714, 710, 246, 250, 845, 252, 713, 249, 251, ...   \n",
       "0  [1065, 1071, 778, 772, 1070, 1118, 781, 1115, ...   \n",
       "0  [751, 1234, 1252, 1248, 747, 1251, 956, 965, 9...   \n",
       "0  [157, 127, 143, 304, 119, 289, 290, 274, 161, ...   \n",
       "\n",
       "                                             split_1  \n",
       "0  [452, 443, 442, 660, 450, 651, 448, 656, 658, ...  \n",
       "0  [433, 486, 494, 625, 504, 440, 629, 445, 496, ...  \n",
       "0  [708, 762, 766, 825, 705, 826, 823, 704, 829, ...  \n",
       "0  [226, 53, 219, 730, 54, 899, 816, 733, 253, 82...  \n",
       "0  [841, 476, 843, 485, 490, 931, 489, 475, 484, ...  \n",
       "0  [1240, 1237, 1245, 304, 1242, 1246, 315, 1220,...  \n",
       "0  [712, 839, 247, 244, 848, 849, 840, 253, 844, ...  \n",
       "0  [449, 1061, 1066, 1069, 1119, 1064, 780, 771, ...  \n",
       "0  [1240, 955, 1247, 752, 963, 1245, 1241, 959, 1...  \n",
       "0  [300, 158, 147, 306, 153, 134, 299, 286, 283, ...  "
      ]
     },
     "execution_count": 33,
     "metadata": {},
     "output_type": "execute_result"
    }
   ],
   "source": [
    "feat_sess_pairs"
   ]
  },
  {
   "cell_type": "code",
   "execution_count": null,
   "metadata": {},
   "outputs": [],
   "source": []
  }
 ],
 "metadata": {
  "kernelspec": {
   "display_name": "Python 3",
   "language": "python",
   "name": "python3"
  },
  "language_info": {
   "codemirror_mode": {
    "name": "ipython",
    "version": 3
   },
   "file_extension": ".py",
   "mimetype": "text/x-python",
   "name": "python",
   "nbconvert_exporter": "python",
   "pygments_lexer": "ipython3",
   "version": "3.10.6"
  }
 },
 "nbformat": 4,
 "nbformat_minor": 2
}
