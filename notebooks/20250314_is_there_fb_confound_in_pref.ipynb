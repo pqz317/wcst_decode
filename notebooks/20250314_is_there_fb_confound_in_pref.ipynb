{
 "cells": [
  {
   "cell_type": "markdown",
   "metadata": {},
   "source": [
    "### Investigate if there's a potential feedback confound in the pref vs. not pref analysis\n",
    "- Look at correct to incorrect ratio, across the 3 conditions. chosen pref, chosen not pref, not chosen not pref\n",
    "- Plot at distribution across sessions, features"
   ]
  },
  {
   "cell_type": "code",
   "execution_count": 2,
   "metadata": {},
   "outputs": [],
   "source": [
    "%load_ext autoreload\n",
    "%autoreload 2\n",
    "\n",
    "import os\n",
    "import numpy as np\n",
    "import pandas as pd\n",
    "import utils.behavioral_utils as behavioral_utils\n",
    "import utils.information_utils as information_utils\n",
    "import utils.visualization_utils as visualization_utils\n",
    "import utils.glm_utils as glm_utils\n",
    "from matplotlib import pyplot as plt\n",
    "import utils.spike_utils as spike_utils\n",
    "from constants.glm_constants import *\n",
    "from constants.behavioral_constants import *\n",
    "\n",
    "import seaborn as sns\n",
    "import scipy.stats\n"
   ]
  },
  {
   "cell_type": "code",
   "execution_count": 3,
   "metadata": {},
   "outputs": [],
   "source": [
    "num_bins = 2\n",
    "\n",
    "def get_sess_ratios(row, beh_path, sub):\n",
    "    session = row.session_name\n",
    "    behavior_path = beh_path.format(sess_name=session, sub=sub)\n",
    "    beh = pd.read_csv(behavior_path)\n",
    "\n",
    "    # # filter trials \n",
    "    beh = behavioral_utils.get_valid_trials(beh)\n",
    "    feature_selections = behavioral_utils.get_selection_features(beh)\n",
    "    beh = pd.merge(beh, feature_selections, on=\"TrialNumber\", how=\"inner\")\n",
    "    beh = behavioral_utils.get_beliefs_per_session(beh, session, sub)\n",
    "    beh = behavioral_utils.get_belief_value_labels(beh)\n",
    "    res = []\n",
    "    for feat in FEATURES: \n",
    "        pref_all = behavioral_utils.get_chosen_preferred_single(feat, beh)\n",
    "        pref = pref_all[pref_all.Choice == feat]\n",
    "        other = pref_all[pref_all.Choice == \"other\"]\n",
    "        not_pref = behavioral_utils.get_chosen_not_preferred_single(feat, beh)\n",
    "        not_pref = not_pref[not_pref.Choice == feat]\n",
    "        pref_rat = len(pref[pref.Response == \"Correct\"]) / len(pref)\n",
    "        not_pref_rat = len(not_pref[not_pref.Response == \"Correct\"]) / len(not_pref)\n",
    "        other_rat = len(other[other.Response == \"Correct\"]) / len(other)\n",
    "        res.append({\n",
    "            \"session\": session, \n",
    "            \"feat\": feat, \n",
    "            \"pref_ratio\": pref_rat,\n",
    "            \"not_pref_ratio\": not_pref_rat,\n",
    "            \"other_ratio\": other_rat,\n",
    "        })\n",
    "    return pd.DataFrame(res)"
   ]
  },
  {
   "cell_type": "code",
   "execution_count": 4,
   "metadata": {},
   "outputs": [
    {
     "ename": "ZeroDivisionError",
     "evalue": "division by zero",
     "output_type": "error",
     "traceback": [
      "\u001b[0;31m---------------------------------------------------------------------------\u001b[0m",
      "\u001b[0;31mZeroDivisionError\u001b[0m                         Traceback (most recent call last)",
      "Cell \u001b[0;32mIn[4], line 4\u001b[0m\n\u001b[1;32m      2\u001b[0m sessions \u001b[38;5;241m=\u001b[39m pd\u001b[38;5;241m.\u001b[39mread_pickle(SESSIONS_PATH)\n\u001b[1;32m      3\u001b[0m beh_path \u001b[38;5;241m=\u001b[39m SESS_BEHAVIOR_PATH\n\u001b[0;32m----> 4\u001b[0m all_beh \u001b[38;5;241m=\u001b[39m pd\u001b[38;5;241m.\u001b[39mconcat(\u001b[43msessions\u001b[49m\u001b[38;5;241;43m.\u001b[39;49m\u001b[43mapply\u001b[49m\u001b[43m(\u001b[49m\u001b[38;5;28;43;01mlambda\u001b[39;49;00m\u001b[43m \u001b[49m\u001b[43mx\u001b[49m\u001b[43m:\u001b[49m\u001b[43m \u001b[49m\u001b[43mget_sess_ratios\u001b[49m\u001b[43m(\u001b[49m\u001b[43mx\u001b[49m\u001b[43m,\u001b[49m\u001b[43m \u001b[49m\u001b[43mbeh_path\u001b[49m\u001b[43m,\u001b[49m\u001b[43m \u001b[49m\u001b[38;5;124;43m\"\u001b[39;49m\u001b[38;5;124;43mSA\u001b[39;49m\u001b[38;5;124;43m\"\u001b[39;49m\u001b[43m)\u001b[49m\u001b[43m,\u001b[49m\u001b[43m \u001b[49m\u001b[43maxis\u001b[49m\u001b[38;5;241;43m=\u001b[39;49m\u001b[38;5;241;43m1\u001b[39;49m\u001b[43m)\u001b[49m\u001b[38;5;241m.\u001b[39mvalues)\u001b[38;5;241m.\u001b[39mreset_index()\n",
      "File \u001b[0;32m/usr/local/lib/python3.10/dist-packages/pandas/core/frame.py:9568\u001b[0m, in \u001b[0;36mDataFrame.apply\u001b[0;34m(self, func, axis, raw, result_type, args, **kwargs)\u001b[0m\n\u001b[1;32m   9557\u001b[0m \u001b[38;5;28;01mfrom\u001b[39;00m \u001b[38;5;21;01mpandas\u001b[39;00m\u001b[38;5;21;01m.\u001b[39;00m\u001b[38;5;21;01mcore\u001b[39;00m\u001b[38;5;21;01m.\u001b[39;00m\u001b[38;5;21;01mapply\u001b[39;00m \u001b[38;5;28;01mimport\u001b[39;00m frame_apply\n\u001b[1;32m   9559\u001b[0m op \u001b[38;5;241m=\u001b[39m frame_apply(\n\u001b[1;32m   9560\u001b[0m     \u001b[38;5;28mself\u001b[39m,\n\u001b[1;32m   9561\u001b[0m     func\u001b[38;5;241m=\u001b[39mfunc,\n\u001b[0;32m   (...)\u001b[0m\n\u001b[1;32m   9566\u001b[0m     kwargs\u001b[38;5;241m=\u001b[39mkwargs,\n\u001b[1;32m   9567\u001b[0m )\n\u001b[0;32m-> 9568\u001b[0m \u001b[38;5;28;01mreturn\u001b[39;00m \u001b[43mop\u001b[49m\u001b[38;5;241;43m.\u001b[39;49m\u001b[43mapply\u001b[49m\u001b[43m(\u001b[49m\u001b[43m)\u001b[49m\u001b[38;5;241m.\u001b[39m__finalize__(\u001b[38;5;28mself\u001b[39m, method\u001b[38;5;241m=\u001b[39m\u001b[38;5;124m\"\u001b[39m\u001b[38;5;124mapply\u001b[39m\u001b[38;5;124m\"\u001b[39m)\n",
      "File \u001b[0;32m/usr/local/lib/python3.10/dist-packages/pandas/core/apply.py:764\u001b[0m, in \u001b[0;36mFrameApply.apply\u001b[0;34m(self)\u001b[0m\n\u001b[1;32m    761\u001b[0m \u001b[38;5;28;01melif\u001b[39;00m \u001b[38;5;28mself\u001b[39m\u001b[38;5;241m.\u001b[39mraw:\n\u001b[1;32m    762\u001b[0m     \u001b[38;5;28;01mreturn\u001b[39;00m \u001b[38;5;28mself\u001b[39m\u001b[38;5;241m.\u001b[39mapply_raw()\n\u001b[0;32m--> 764\u001b[0m \u001b[38;5;28;01mreturn\u001b[39;00m \u001b[38;5;28;43mself\u001b[39;49m\u001b[38;5;241;43m.\u001b[39;49m\u001b[43mapply_standard\u001b[49m\u001b[43m(\u001b[49m\u001b[43m)\u001b[49m\n",
      "File \u001b[0;32m/usr/local/lib/python3.10/dist-packages/pandas/core/apply.py:891\u001b[0m, in \u001b[0;36mFrameApply.apply_standard\u001b[0;34m(self)\u001b[0m\n\u001b[1;32m    890\u001b[0m \u001b[38;5;28;01mdef\u001b[39;00m \u001b[38;5;21mapply_standard\u001b[39m(\u001b[38;5;28mself\u001b[39m):\n\u001b[0;32m--> 891\u001b[0m     results, res_index \u001b[38;5;241m=\u001b[39m \u001b[38;5;28;43mself\u001b[39;49m\u001b[38;5;241;43m.\u001b[39;49m\u001b[43mapply_series_generator\u001b[49m\u001b[43m(\u001b[49m\u001b[43m)\u001b[49m\n\u001b[1;32m    893\u001b[0m     \u001b[38;5;66;03m# wrap results\u001b[39;00m\n\u001b[1;32m    894\u001b[0m     \u001b[38;5;28;01mreturn\u001b[39;00m \u001b[38;5;28mself\u001b[39m\u001b[38;5;241m.\u001b[39mwrap_results(results, res_index)\n",
      "File \u001b[0;32m/usr/local/lib/python3.10/dist-packages/pandas/core/apply.py:907\u001b[0m, in \u001b[0;36mFrameApply.apply_series_generator\u001b[0;34m(self)\u001b[0m\n\u001b[1;32m    904\u001b[0m \u001b[38;5;28;01mwith\u001b[39;00m option_context(\u001b[38;5;124m\"\u001b[39m\u001b[38;5;124mmode.chained_assignment\u001b[39m\u001b[38;5;124m\"\u001b[39m, \u001b[38;5;28;01mNone\u001b[39;00m):\n\u001b[1;32m    905\u001b[0m     \u001b[38;5;28;01mfor\u001b[39;00m i, v \u001b[38;5;129;01min\u001b[39;00m \u001b[38;5;28menumerate\u001b[39m(series_gen):\n\u001b[1;32m    906\u001b[0m         \u001b[38;5;66;03m# ignore SettingWithCopy here in case the user mutates\u001b[39;00m\n\u001b[0;32m--> 907\u001b[0m         results[i] \u001b[38;5;241m=\u001b[39m \u001b[38;5;28;43mself\u001b[39;49m\u001b[38;5;241;43m.\u001b[39;49m\u001b[43mf\u001b[49m\u001b[43m(\u001b[49m\u001b[43mv\u001b[49m\u001b[43m)\u001b[49m\n\u001b[1;32m    908\u001b[0m         \u001b[38;5;28;01mif\u001b[39;00m \u001b[38;5;28misinstance\u001b[39m(results[i], ABCSeries):\n\u001b[1;32m    909\u001b[0m             \u001b[38;5;66;03m# If we have a view on v, we need to make a copy because\u001b[39;00m\n\u001b[1;32m    910\u001b[0m             \u001b[38;5;66;03m#  series_generator will swap out the underlying data\u001b[39;00m\n\u001b[1;32m    911\u001b[0m             results[i] \u001b[38;5;241m=\u001b[39m results[i]\u001b[38;5;241m.\u001b[39mcopy(deep\u001b[38;5;241m=\u001b[39m\u001b[38;5;28;01mFalse\u001b[39;00m)\n",
      "Cell \u001b[0;32mIn[4], line 4\u001b[0m, in \u001b[0;36m<lambda>\u001b[0;34m(x)\u001b[0m\n\u001b[1;32m      2\u001b[0m sessions \u001b[38;5;241m=\u001b[39m pd\u001b[38;5;241m.\u001b[39mread_pickle(SESSIONS_PATH)\n\u001b[1;32m      3\u001b[0m beh_path \u001b[38;5;241m=\u001b[39m SESS_BEHAVIOR_PATH\n\u001b[0;32m----> 4\u001b[0m all_beh \u001b[38;5;241m=\u001b[39m pd\u001b[38;5;241m.\u001b[39mconcat(sessions\u001b[38;5;241m.\u001b[39mapply(\u001b[38;5;28;01mlambda\u001b[39;00m x: \u001b[43mget_sess_ratios\u001b[49m\u001b[43m(\u001b[49m\u001b[43mx\u001b[49m\u001b[43m,\u001b[49m\u001b[43m \u001b[49m\u001b[43mbeh_path\u001b[49m\u001b[43m,\u001b[49m\u001b[43m \u001b[49m\u001b[38;5;124;43m\"\u001b[39;49m\u001b[38;5;124;43mSA\u001b[39;49m\u001b[38;5;124;43m\"\u001b[39;49m\u001b[43m)\u001b[49m, axis\u001b[38;5;241m=\u001b[39m\u001b[38;5;241m1\u001b[39m)\u001b[38;5;241m.\u001b[39mvalues)\u001b[38;5;241m.\u001b[39mreset_index()\n",
      "Cell \u001b[0;32mIn[3], line 21\u001b[0m, in \u001b[0;36mget_sess_ratios\u001b[0;34m(row, beh_path, sub)\u001b[0m\n\u001b[1;32m     19\u001b[0m not_pref \u001b[38;5;241m=\u001b[39m behavioral_utils\u001b[38;5;241m.\u001b[39mget_chosen_not_preferred_single(feat, beh)\n\u001b[1;32m     20\u001b[0m not_pref \u001b[38;5;241m=\u001b[39m not_pref[not_pref\u001b[38;5;241m.\u001b[39mChoice \u001b[38;5;241m==\u001b[39m feat]\n\u001b[0;32m---> 21\u001b[0m pref_rat \u001b[38;5;241m=\u001b[39m \u001b[38;5;28;43mlen\u001b[39;49m\u001b[43m(\u001b[49m\u001b[43mpref\u001b[49m\u001b[43m[\u001b[49m\u001b[43mpref\u001b[49m\u001b[38;5;241;43m.\u001b[39;49m\u001b[43mResponse\u001b[49m\u001b[43m \u001b[49m\u001b[38;5;241;43m==\u001b[39;49m\u001b[43m \u001b[49m\u001b[38;5;124;43m\"\u001b[39;49m\u001b[38;5;124;43mCorrect\u001b[39;49m\u001b[38;5;124;43m\"\u001b[39;49m\u001b[43m]\u001b[49m\u001b[43m)\u001b[49m\u001b[43m \u001b[49m\u001b[38;5;241;43m/\u001b[39;49m\u001b[43m \u001b[49m\u001b[38;5;28;43mlen\u001b[39;49m\u001b[43m(\u001b[49m\u001b[43mpref\u001b[49m\u001b[43m)\u001b[49m\n\u001b[1;32m     22\u001b[0m not_pref_rat \u001b[38;5;241m=\u001b[39m \u001b[38;5;28mlen\u001b[39m(not_pref[not_pref\u001b[38;5;241m.\u001b[39mResponse \u001b[38;5;241m==\u001b[39m \u001b[38;5;124m\"\u001b[39m\u001b[38;5;124mCorrect\u001b[39m\u001b[38;5;124m\"\u001b[39m]) \u001b[38;5;241m/\u001b[39m \u001b[38;5;28mlen\u001b[39m(not_pref)\n\u001b[1;32m     23\u001b[0m other_rat \u001b[38;5;241m=\u001b[39m \u001b[38;5;28mlen\u001b[39m(other[other\u001b[38;5;241m.\u001b[39mResponse \u001b[38;5;241m==\u001b[39m \u001b[38;5;124m\"\u001b[39m\u001b[38;5;124mCorrect\u001b[39m\u001b[38;5;124m\"\u001b[39m]) \u001b[38;5;241m/\u001b[39m \u001b[38;5;28mlen\u001b[39m(other)\n",
      "\u001b[0;31mZeroDivisionError\u001b[0m: division by zero"
     ]
    }
   ],
   "source": [
    "SESSIONS_PATH = \"/data/patrick_res/sessions/SA/valid_sessions.pickle\"\n",
    "sessions = pd.read_pickle(SESSIONS_PATH)\n",
    "beh_path = SESS_BEHAVIOR_PATH\n",
    "all_beh = pd.concat(sessions.apply(lambda x: get_sess_ratios(x, beh_path, \"SA\"), axis=1).values).reset_index()"
   ]
  },
  {
   "cell_type": "code",
   "execution_count": 8,
   "metadata": {},
   "outputs": [
    {
     "data": {
      "text/html": [
       "<div>\n",
       "<style scoped>\n",
       "    .dataframe tbody tr th:only-of-type {\n",
       "        vertical-align: middle;\n",
       "    }\n",
       "\n",
       "    .dataframe tbody tr th {\n",
       "        vertical-align: top;\n",
       "    }\n",
       "\n",
       "    .dataframe thead th {\n",
       "        text-align: right;\n",
       "    }\n",
       "</style>\n",
       "<table border=\"1\" class=\"dataframe\">\n",
       "  <thead>\n",
       "    <tr style=\"text-align: right;\">\n",
       "      <th></th>\n",
       "      <th>index</th>\n",
       "      <th>session</th>\n",
       "      <th>feat</th>\n",
       "      <th>pref_ratio</th>\n",
       "      <th>not_pref_ratio</th>\n",
       "      <th>other_ratio</th>\n",
       "    </tr>\n",
       "  </thead>\n",
       "  <tbody>\n",
       "    <tr>\n",
       "      <th>0</th>\n",
       "      <td>0</td>\n",
       "      <td>20180709</td>\n",
       "      <td>CIRCLE</td>\n",
       "      <td>0.502994</td>\n",
       "      <td>0.502994</td>\n",
       "      <td>0.648208</td>\n",
       "    </tr>\n",
       "    <tr>\n",
       "      <th>1</th>\n",
       "      <td>1</td>\n",
       "      <td>20180709</td>\n",
       "      <td>SQUARE</td>\n",
       "      <td>0.555556</td>\n",
       "      <td>0.555556</td>\n",
       "      <td>0.643636</td>\n",
       "    </tr>\n",
       "    <tr>\n",
       "      <th>2</th>\n",
       "      <td>2</td>\n",
       "      <td>20180709</td>\n",
       "      <td>STAR</td>\n",
       "      <td>0.511905</td>\n",
       "      <td>0.511905</td>\n",
       "      <td>0.638710</td>\n",
       "    </tr>\n",
       "    <tr>\n",
       "      <th>3</th>\n",
       "      <td>3</td>\n",
       "      <td>20180709</td>\n",
       "      <td>TRIANGLE</td>\n",
       "      <td>0.445455</td>\n",
       "      <td>0.445455</td>\n",
       "      <td>0.645503</td>\n",
       "    </tr>\n",
       "    <tr>\n",
       "      <th>4</th>\n",
       "      <td>4</td>\n",
       "      <td>20180709</td>\n",
       "      <td>CYAN</td>\n",
       "      <td>0.565421</td>\n",
       "      <td>0.565421</td>\n",
       "      <td>0.630972</td>\n",
       "    </tr>\n",
       "    <tr>\n",
       "      <th>...</th>\n",
       "      <td>...</td>\n",
       "      <td>...</td>\n",
       "      <td>...</td>\n",
       "      <td>...</td>\n",
       "      <td>...</td>\n",
       "      <td>...</td>\n",
       "    </tr>\n",
       "    <tr>\n",
       "      <th>535</th>\n",
       "      <td>7</td>\n",
       "      <td>20180910</td>\n",
       "      <td>YELLOW</td>\n",
       "      <td>0.436782</td>\n",
       "      <td>0.436782</td>\n",
       "      <td>0.607619</td>\n",
       "    </tr>\n",
       "    <tr>\n",
       "      <th>536</th>\n",
       "      <td>8</td>\n",
       "      <td>20180910</td>\n",
       "      <td>ESCHER</td>\n",
       "      <td>0.512563</td>\n",
       "      <td>0.512563</td>\n",
       "      <td>0.588968</td>\n",
       "    </tr>\n",
       "    <tr>\n",
       "      <th>537</th>\n",
       "      <td>9</td>\n",
       "      <td>20180910</td>\n",
       "      <td>POLKADOT</td>\n",
       "      <td>0.475676</td>\n",
       "      <td>0.475676</td>\n",
       "      <td>0.592466</td>\n",
       "    </tr>\n",
       "    <tr>\n",
       "      <th>538</th>\n",
       "      <td>10</td>\n",
       "      <td>20180910</td>\n",
       "      <td>RIPPLE</td>\n",
       "      <td>0.406780</td>\n",
       "      <td>0.406780</td>\n",
       "      <td>0.585014</td>\n",
       "    </tr>\n",
       "    <tr>\n",
       "      <th>539</th>\n",
       "      <td>11</td>\n",
       "      <td>20180910</td>\n",
       "      <td>SWIRL</td>\n",
       "      <td>0.502994</td>\n",
       "      <td>0.502994</td>\n",
       "      <td>0.562197</td>\n",
       "    </tr>\n",
       "  </tbody>\n",
       "</table>\n",
       "<p>540 rows × 6 columns</p>\n",
       "</div>"
      ],
      "text/plain": [
       "     index   session      feat  pref_ratio  not_pref_ratio  other_ratio\n",
       "0        0  20180709    CIRCLE    0.502994        0.502994     0.648208\n",
       "1        1  20180709    SQUARE    0.555556        0.555556     0.643636\n",
       "2        2  20180709      STAR    0.511905        0.511905     0.638710\n",
       "3        3  20180709  TRIANGLE    0.445455        0.445455     0.645503\n",
       "4        4  20180709      CYAN    0.565421        0.565421     0.630972\n",
       "..     ...       ...       ...         ...             ...          ...\n",
       "535      7  20180910    YELLOW    0.436782        0.436782     0.607619\n",
       "536      8  20180910    ESCHER    0.512563        0.512563     0.588968\n",
       "537      9  20180910  POLKADOT    0.475676        0.475676     0.592466\n",
       "538     10  20180910    RIPPLE    0.406780        0.406780     0.585014\n",
       "539     11  20180910     SWIRL    0.502994        0.502994     0.562197\n",
       "\n",
       "[540 rows x 6 columns]"
      ]
     },
     "execution_count": 8,
     "metadata": {},
     "output_type": "execute_result"
    }
   ],
   "source": [
    "all_beh"
   ]
  },
  {
   "cell_type": "code",
   "execution_count": 9,
   "metadata": {},
   "outputs": [],
   "source": [
    "melted = all_beh.melt(id_vars=[\"index\", \"session\", \"feat\"], value_vars=[\"pref_ratio\", \"not_pref_ratio\", \"other_ratio\"], var_name=\"condition\", value_name=\"correct ratio\")"
   ]
  },
  {
   "cell_type": "markdown",
   "metadata": {},
   "source": []
  },
  {
   "cell_type": "code",
   "execution_count": 11,
   "metadata": {},
   "outputs": [
    {
     "data": {
      "text/plain": [
       "<Axes: xlabel='condition', ylabel='correct ratio'>"
      ]
     },
     "execution_count": 11,
     "metadata": {},
     "output_type": "execute_result"
    },
    {
     "data": {
      "image/png": "[encoded data removed]",
      "text/plain": [
       "<Figure size 640x480 with 1 Axes>"
      ]
     },
     "metadata": {},
     "output_type": "display_data"
    }
   ],
   "source": [
    "sns.barplot(melted, x=\"condition\", y=\"correct ratio\")"
   ]
  },
  {
   "cell_type": "code",
   "execution_count": null,
   "metadata": {},
   "outputs": [],
   "source": []
  }
 ],
 "metadata": {
  "kernelspec": {
   "display_name": "Python 3",
   "language": "python",
   "name": "python3"
  },
  "language_info": {
   "codemirror_mode": {
    "name": "ipython",
    "version": 3
   },
   "file_extension": ".py",
   "mimetype": "text/x-python",
   "name": "python",
   "nbconvert_exporter": "python",
   "pygments_lexer": "ipython3",
   "version": "3.10.6"
  }
 },
 "nbformat": 4,
 "nbformat_minor": 2
}
