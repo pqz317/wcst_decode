{
 "cells": [
  {
   "cell_type": "markdown",
   "metadata": {},
   "source": [
    "### Want to plot hippocampal firing rates as a function of position in block"
   ]
  },
  {
   "cell_type": "code",
   "execution_count": null,
   "metadata": {},
   "outputs": [],
   "source": [
    "%load_ext autoreload\n",
    "%autoreload 2\n",
    "\n",
    "import os\n",
    "import numpy as np\n",
    "import pandas as pd\n",
    "import utils.behavioral_utils as behavioral_utils\n",
    "import utils.information_utils as information_utils\n",
    "import utils.visualization_utils as visualization_utils\n",
    "import utils.glm_utils as glm_utils\n",
    "from matplotlib import pyplot as plt\n",
    "import utils.spike_utils as spike_utils\n",
    "import utils.io_utils as io_utils\n",
    "from constants.glm_constants import *\n",
    "from constants.behavioral_constants import *\n",
    "from spike_tools import (\n",
    "    general as spike_general,\n",
    "    analysis as spike_analysis,\n",
    ")\n",
    "from scipy import stats\n"
   ]
  },
  {
   "cell_type": "code",
   "execution_count": null,
   "metadata": {},
   "outputs": [],
   "source": [
    "PRE_INTERVAL = 500\n",
    "POST_INTERVAL = 500\n",
    "INTERVAL_SIZE = 50\n",
    "SMOOTH = 1\n",
    "EVENT = \"FixationOnCross\"\n",
    "num_bins = 10\n"
   ]
  },
  {
   "cell_type": "code",
   "execution_count": null,
   "metadata": {},
   "outputs": [],
   "source": []
  },
  {
   "cell_type": "code",
   "execution_count": null,
   "metadata": {},
   "outputs": [],
   "source": [
    "sessions = pd.read_pickle(SESSIONS_PATH)\n",
    "positions = spike_utils.get_unit_positions(sessions)\n",
    "hip_pos = positions[positions.structure_level3 == \"hippocampal_formation (HF)\"]"
   ]
  },
  {
   "cell_type": "code",
   "execution_count": null,
   "metadata": {},
   "outputs": [],
   "source": [
    "positions.structure_level2.unique()"
   ]
  },
  {
   "cell_type": "code",
   "execution_count": null,
   "metadata": {},
   "outputs": [],
   "source": [
    "def visualize_correlations(row):\n",
    "    session = row.session\n",
    "\n",
    "    behavior_path = SESS_BEHAVIOR_PATH.format(sess_name=session)\n",
    "    beh = pd.read_csv(behavior_path)\n",
    "\n",
    "    # filter trials \n",
    "    valid_beh = behavioral_utils.get_valid_trials(beh)\n",
    "    feature_selections = behavioral_utils.get_selection_features(valid_beh)\n",
    "    valid_beh = pd.merge(valid_beh, feature_selections, on=\"TrialNumber\", how=\"inner\")\n",
    "    beh = behavioral_utils.get_feature_values_per_session(session, valid_beh)\n",
    "    beh = behavioral_utils.get_relative_block_position(beh, num_bins)\n",
    "    beh = behavioral_utils.get_max_feature_value(beh, num_bins)\n",
    "    fr_path = f\"/data/patrick_res/firing_rates/{session}_firing_rates_{PRE_INTERVAL}_{EVENT}_{POST_INTERVAL}_{INTERVAL_SIZE}_bins_{SMOOTH}_smooth.pickle\"\n",
    "\n",
    "    frs = pd.read_pickle(fr_path)\n",
    "    frs = frs[frs.UnitID == row.UnitID]\n",
    "    agg = frs.groupby([\"UnitID\", \"TrialNumber\"]).mean().reset_index()\n",
    "    merged = pd.merge(agg, beh, on=\"TrialNumber\")\n",
    "    fig, axs = plt.subplots(2, 3, figsize=(15, 10))\n",
    "    ax = axs[0, 0]\n",
    "    visualization_utils.plot_mean_sterrs_by_bin(merged, \"FiringRate\", \"BlockPositionBin\", ax, row.PseudoUnitID, num_bins)\n",
    "    # visualization_utils.plot_mean_sterrs_by_block_pos(beh, \"MaxValue\", ax, row.PseudoUnitID, num_block_bins)\n",
    "    ax.set_xlabel(\"Relative block position\")\n",
    "    ax.set_ylabel(\"Mean firing in inter-trial\")\n",
    "    ax.legend()\n",
    "    ax.set_title(row.structure_level2)\n",
    "\n",
    "    ax = axs[0, 1]\n",
    "    visualization_utils.plot_mean_sterrs_by_bin(merged, \"FiringRate\", \"MaxValueBin\", ax, row.PseudoUnitID, num_bins)\n",
    "    # visualization_utils.plot_mean_sterrs_by_block_pos(beh, \"MaxValue\", ax, row.PseudoUnitID, num_block_bins)\n",
    "    ax.set_xlabel(\"Max Value Bin\")\n",
    "    ax.set_ylabel(\"Mean firing in inter-trial\")\n",
    "\n",
    "    ax = axs[0, 2]\n",
    "    merged_filt = merged[merged.MaxValue > 0.3]\n",
    "    visualization_utils.plot_bars_by_cat(merged_filt, \"FiringRate\", \"MaxFeat\", ax, order=FEATURES)\n",
    "    # visualization_utils.plot_mean_sterrs_by_block_pos(beh, \"MaxValue\", ax, row.PseudoUnitID, num_block_bins)\n",
    "    ax.set_ylabel(\"Mean firing in inter-trial\")\n",
    "    ax.set_title(\"Firing by max valued feat (maxval > 0.3)\")\n",
    "\n",
    "    ax = axs[1, 0]\n",
    "    slope, intercept, r_value, p_value, std_err = stats.linregress(merged[\"BlockPosition\"], merged[\"FiringRate\"])\n",
    "    ax.scatter(merged[\"BlockPosition\"], merged[\"FiringRate\"], alpha=0.3, color=\"black\")\n",
    "    ax.plot(merged[\"BlockPosition\"], merged[\"BlockPosition\"] * slope + intercept)\n",
    "    ax.set_title(f\"Cor w Block Position, r: {r_value:.3f}, p: {p_value:.3E}\")\n",
    "    ax.set_xlabel(\"Relative block position\")\n",
    "    ax.set_ylabel(\"Mean firing in inter-trial\")\n",
    "\n",
    "    ax = axs[1, 1]\n",
    "    slope, intercept, r_value, p_value, std_err = stats.linregress(merged[\"MaxValue\"], merged[\"FiringRate\"])\n",
    "    ax.scatter(merged[\"MaxValue\"], merged[\"FiringRate\"], alpha=0.3, color=\"black\")\n",
    "    ax.plot(merged[\"MaxValue\"], merged[\"MaxValue\"] * slope + intercept)\n",
    "    ax.set_title(f\"Cor w Max Value: r: {r_value:.3f}, p: {p_value:.3E}\")\n",
    "    ax.set_xlabel(\"Max Value\")\n",
    "    ax.set_ylabel(\"Mean firing in inter-trial\")\n",
    "\n",
    "    ax = axs[1, 2]\n",
    "    num_blocks = beh.groupby(\"CurrentRule\").BlockNumber.nunique().reset_index()\n",
    "    visualization_utils.plot_bars_by_cat(num_blocks, \"BlockNumber\", \"CurrentRule\", ax, order=FEATURES)\n",
    "    # visualization_utils.plot_mean_sterrs_by_block_pos(beh, \"MaxValue\", ax, row.PseudoUnitID, num_block_bins)\n",
    "    ax.set_ylabel(\"Mean firing in inter-trial\")\n",
    "    ax.set_title(\"Number of blocks in session per rule\")\n",
    "    fig.tight_layout()\n",
    "\n"
   ]
  },
  {
   "cell_type": "markdown",
   "metadata": {},
   "source": [
    "### Check all hippocampal units"
   ]
  },
  {
   "cell_type": "code",
   "execution_count": null,
   "metadata": {},
   "outputs": [],
   "source": [
    "for i, row in hip_pos.iterrows():\n",
    "    visualize_correlations(row)\n"
   ]
  },
  {
   "cell_type": "code",
   "execution_count": null,
   "metadata": {},
   "outputs": [],
   "source": [
    "merged.MaxFeat.unique()"
   ]
  },
  {
   "cell_type": "code",
   "execution_count": null,
   "metadata": {},
   "outputs": [],
   "source": [
    "pd.cut(merged.MaxValue, 10, labels=False)"
   ]
  },
  {
   "cell_type": "code",
   "execution_count": null,
   "metadata": {},
   "outputs": [],
   "source": [
    "fig, ax = plt.subplots()\n",
    "visualization_utils.plot_mean_sterrs_by_bin(beh, \"MaxValue\", \"BlockPositionBin\", ax, row.PseudoUnitID, 10)\n",
    "ax.set_xlabel(\"Block Position\")\n",
    "ax.set_ylabel(\"Max Value\")\n"
   ]
  },
  {
   "cell_type": "markdown",
   "metadata": {},
   "source": [
    "### Maybe now look at OFC units? "
   ]
  },
  {
   "cell_type": "code",
   "execution_count": null,
   "metadata": {},
   "outputs": [],
   "source": [
    "# positions.structure_level2.unique()\n",
    "ofc_pos = positions[positions.structure_level2 == \"orbital_frontal_cortex (OFC)\"]\n",
    "for i, row in ofc_pos.iterrows():\n",
    "    visualize_correlations(row)"
   ]
  },
  {
   "cell_type": "code",
   "execution_count": null,
   "metadata": {},
   "outputs": [],
   "source": [
    "positions.structure_level2.unique()"
   ]
  },
  {
   "cell_type": "code",
   "execution_count": null,
   "metadata": {},
   "outputs": [],
   "source": [
    "basal_pos = positions[positions.structure_level2 == \"basal_ganglia (BG)\"]\n"
   ]
  },
  {
   "cell_type": "code",
   "execution_count": null,
   "metadata": {},
   "outputs": [],
   "source": [
    "import warnings\n",
    "warnings.filterwarnings('ignore')\n",
    "lat_pfc_good_units = [2018070904, 2018100208, 2018080805, 2018092610, 2018080329, 2018071206]\n",
    "lat_pfc_pos = positions[positions.PseudoUnitID.isin(lat_pfc_good_units)]\n",
    "for i, row in lat_pfc_pos.iterrows():\n",
    "    visualize_correlations(row)"
   ]
  },
  {
   "cell_type": "code",
   "execution_count": null,
   "metadata": {},
   "outputs": [],
   "source": [
    "it_good_units = [\n",
    "    2018091815, 2018100201, 2018100211, 2018100215, \n",
    "    2018100217, 2018092620, 2018101002, 2018092104, \n",
    "    2018092107, 2018092115\n",
    "]\n",
    "it_pos = positions[positions.PseudoUnitID.isin(it_good_units)]\n",
    "for i, row in it_pos.iterrows():\n",
    "    visualize_correlations(row)"
   ]
  },
  {
   "cell_type": "code",
   "execution_count": null,
   "metadata": {},
   "outputs": [],
   "source": [
    "session = row.session\n",
    "fr_path = f\"/data/patrick_res/firing_rates/{session}_firing_rates_{PRE_INTERVAL}_{EVENT}_{POST_INTERVAL}_{INTERVAL_SIZE}_bins_{SMOOTH}_smooth.pickle\"\n",
    "\n",
    "frs = pd.read_pickle(fr_path)\n",
    "frs = frs[frs.UnitID == row.UnitID]"
   ]
  },
  {
   "cell_type": "code",
   "execution_count": null,
   "metadata": {},
   "outputs": [],
   "source": [
    "agg = frs.groupby([\"UnitID\", \"TrialNumber\"]).mean().reset_index()\n",
    "agg[\"TimeBins\"] = 0\n",
    "\n"
   ]
  },
  {
   "cell_type": "code",
   "execution_count": null,
   "metadata": {},
   "outputs": [],
   "source": [
    "agg[\"TimeBins\"] = 0"
   ]
  },
  {
   "cell_type": "code",
   "execution_count": null,
   "metadata": {},
   "outputs": [],
   "source": [
    "agg"
   ]
  },
  {
   "cell_type": "code",
   "execution_count": null,
   "metadata": {},
   "outputs": [],
   "source": []
  }
 ],
 "metadata": {
  "kernelspec": {
   "display_name": "Python 3",
   "language": "python",
   "name": "python3"
  },
  "language_info": {
   "codemirror_mode": {
    "name": "ipython",
    "version": 3
   },
   "file_extension": ".py",
   "mimetype": "text/x-python",
   "name": "python",
   "nbconvert_exporter": "python",
   "pygments_lexer": "ipython3",
   "version": "3.10.6"
  }
 },
 "nbformat": 4,
 "nbformat_minor": 2
}
