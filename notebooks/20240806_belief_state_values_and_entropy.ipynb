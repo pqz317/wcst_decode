{
 "cells": [
  {
   "cell_type": "markdown",
   "metadata": {},
   "source": [
    "### What is the relationship between belief state values and entropy? Under certain simple assumptions\n",
    "Consider a K-arm bandit task (or WCST), belief state is posterior across best arm (or rule)\n",
    "Assume: \n",
    "- gamma = 0, agent is not forward thinking, just considering expected reward on the next trial\n",
    "- probability matching policy: \n",
    "- reward quantity of 0 or 1. \n"
   ]
  },
  {
   "cell_type": "code",
   "execution_count": null,
   "metadata": {
    "vscode": {
     "languageId": "plaintext"
    }
   },
   "outputs": [],
   "source": []
  },
  {
   "cell_type": "markdown",
   "metadata": {},
   "source": []
  }
 ],
 "metadata": {
  "language_info": {
   "name": "python"
  }
 },
 "nbformat": 4,
 "nbformat_minor": 2
}
