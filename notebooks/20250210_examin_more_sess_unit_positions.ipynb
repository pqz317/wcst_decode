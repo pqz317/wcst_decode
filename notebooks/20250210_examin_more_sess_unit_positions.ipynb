{
 "cells": [
  {
   "cell_type": "markdown",
   "metadata": {},
   "source": [
    "### Take a look at all the positions of units from all sessions for Sam"
   ]
  },
  {
   "cell_type": "code",
   "execution_count": 1,
   "metadata": {},
   "outputs": [],
   "source": [
    "import pandas as pd"
   ]
  },
  {
   "cell_type": "code",
   "execution_count": 8,
   "metadata": {},
   "outputs": [],
   "source": [
    "all_units = pd.read_pickle(\"/data/patrick_res/firing_rates/BL/all_units.pickle\")"
   ]
  },
  {
   "cell_type": "code",
   "execution_count": 9,
   "metadata": {},
   "outputs": [
    {
     "data": {
      "text/plain": [
       "19"
      ]
     },
     "execution_count": 9,
     "metadata": {},
     "output_type": "execute_result"
    }
   ],
   "source": [
    "all_units.session.nunique()"
   ]
  },
  {
   "cell_type": "code",
   "execution_count": 10,
   "metadata": {},
   "outputs": [
    {
     "data": {
      "text/html": [
       "<div>\n",
       "<style scoped>\n",
       "    .dataframe tbody tr th:only-of-type {\n",
       "        vertical-align: middle;\n",
       "    }\n",
       "\n",
       "    .dataframe tbody tr th {\n",
       "        vertical-align: top;\n",
       "    }\n",
       "\n",
       "    .dataframe thead th {\n",
       "        text-align: right;\n",
       "    }\n",
       "</style>\n",
       "<table border=\"1\" class=\"dataframe\">\n",
       "  <thead>\n",
       "    <tr style=\"text-align: right;\">\n",
       "      <th></th>\n",
       "      <th>Channel</th>\n",
       "      <th>Unit</th>\n",
       "      <th>SpikeTimesFile</th>\n",
       "      <th>UnitID</th>\n",
       "      <th>session</th>\n",
       "      <th>PseudoUnitID</th>\n",
       "    </tr>\n",
       "  </thead>\n",
       "  <tbody>\n",
       "    <tr>\n",
       "      <th>1</th>\n",
       "      <td>10</td>\n",
       "      <td>1</td>\n",
       "      <td>/data/rawdata/sub-BL/sess-20190128/spikes/sub-...</td>\n",
       "      <td>0</td>\n",
       "      <td>20190128</td>\n",
       "      <td>2019012800</td>\n",
       "    </tr>\n",
       "    <tr>\n",
       "      <th>4</th>\n",
       "      <td>100</td>\n",
       "      <td>1</td>\n",
       "      <td>/data/rawdata/sub-BL/sess-20190128/spikes/sub-...</td>\n",
       "      <td>1</td>\n",
       "      <td>20190128</td>\n",
       "      <td>2019012801</td>\n",
       "    </tr>\n",
       "    <tr>\n",
       "      <th>11</th>\n",
       "      <td>105</td>\n",
       "      <td>1</td>\n",
       "      <td>/data/rawdata/sub-BL/sess-20190128/spikes/sub-...</td>\n",
       "      <td>2</td>\n",
       "      <td>20190128</td>\n",
       "      <td>2019012802</td>\n",
       "    </tr>\n",
       "    <tr>\n",
       "      <th>8</th>\n",
       "      <td>20</td>\n",
       "      <td>1</td>\n",
       "      <td>/data/rawdata/sub-BL/sess-20190128/spikes/sub-...</td>\n",
       "      <td>3</td>\n",
       "      <td>20190128</td>\n",
       "      <td>2019012803</td>\n",
       "    </tr>\n",
       "    <tr>\n",
       "      <th>2</th>\n",
       "      <td>47</td>\n",
       "      <td>1</td>\n",
       "      <td>/data/rawdata/sub-BL/sess-20190128/spikes/sub-...</td>\n",
       "      <td>4</td>\n",
       "      <td>20190128</td>\n",
       "      <td>2019012804</td>\n",
       "    </tr>\n",
       "    <tr>\n",
       "      <th>...</th>\n",
       "      <td>...</td>\n",
       "      <td>...</td>\n",
       "      <td>...</td>\n",
       "      <td>...</td>\n",
       "      <td>...</td>\n",
       "      <td>...</td>\n",
       "    </tr>\n",
       "    <tr>\n",
       "      <th>10</th>\n",
       "      <td>48</td>\n",
       "      <td>1</td>\n",
       "      <td>/data/rawdata/sub-BL/sess-20190123/spikes/sub-...</td>\n",
       "      <td>7</td>\n",
       "      <td>20190123</td>\n",
       "      <td>2019012307</td>\n",
       "    </tr>\n",
       "    <tr>\n",
       "      <th>1</th>\n",
       "      <td>62</td>\n",
       "      <td>1</td>\n",
       "      <td>/data/rawdata/sub-BL/sess-20190123/spikes/sub-...</td>\n",
       "      <td>8</td>\n",
       "      <td>20190123</td>\n",
       "      <td>2019012308</td>\n",
       "    </tr>\n",
       "    <tr>\n",
       "      <th>6</th>\n",
       "      <td>79</td>\n",
       "      <td>1</td>\n",
       "      <td>/data/rawdata/sub-BL/sess-20190123/spikes/sub-...</td>\n",
       "      <td>9</td>\n",
       "      <td>20190123</td>\n",
       "      <td>2019012309</td>\n",
       "    </tr>\n",
       "    <tr>\n",
       "      <th>9</th>\n",
       "      <td>8</td>\n",
       "      <td>1</td>\n",
       "      <td>/data/rawdata/sub-BL/sess-20190123/spikes/sub-...</td>\n",
       "      <td>10</td>\n",
       "      <td>20190123</td>\n",
       "      <td>2019012310</td>\n",
       "    </tr>\n",
       "    <tr>\n",
       "      <th>8</th>\n",
       "      <td>83</td>\n",
       "      <td>1</td>\n",
       "      <td>/data/rawdata/sub-BL/sess-20190123/spikes/sub-...</td>\n",
       "      <td>11</td>\n",
       "      <td>20190123</td>\n",
       "      <td>2019012311</td>\n",
       "    </tr>\n",
       "  </tbody>\n",
       "</table>\n",
       "<p>289 rows × 6 columns</p>\n",
       "</div>"
      ],
      "text/plain": [
       "   Channel Unit                                     SpikeTimesFile  UnitID  \\\n",
       "1       10    1  /data/rawdata/sub-BL/sess-20190128/spikes/sub-...       0   \n",
       "4      100    1  /data/rawdata/sub-BL/sess-20190128/spikes/sub-...       1   \n",
       "11     105    1  /data/rawdata/sub-BL/sess-20190128/spikes/sub-...       2   \n",
       "8       20    1  /data/rawdata/sub-BL/sess-20190128/spikes/sub-...       3   \n",
       "2       47    1  /data/rawdata/sub-BL/sess-20190128/spikes/sub-...       4   \n",
       "..     ...  ...                                                ...     ...   \n",
       "10      48    1  /data/rawdata/sub-BL/sess-20190123/spikes/sub-...       7   \n",
       "1       62    1  /data/rawdata/sub-BL/sess-20190123/spikes/sub-...       8   \n",
       "6       79    1  /data/rawdata/sub-BL/sess-20190123/spikes/sub-...       9   \n",
       "9        8    1  /data/rawdata/sub-BL/sess-20190123/spikes/sub-...      10   \n",
       "8       83    1  /data/rawdata/sub-BL/sess-20190123/spikes/sub-...      11   \n",
       "\n",
       "     session  PseudoUnitID  \n",
       "1   20190128    2019012800  \n",
       "4   20190128    2019012801  \n",
       "11  20190128    2019012802  \n",
       "8   20190128    2019012803  \n",
       "2   20190128    2019012804  \n",
       "..       ...           ...  \n",
       "10  20190123    2019012307  \n",
       "1   20190123    2019012308  \n",
       "6   20190123    2019012309  \n",
       "9   20190123    2019012310  \n",
       "8   20190123    2019012311  \n",
       "\n",
       "[289 rows x 6 columns]"
      ]
     },
     "execution_count": 10,
     "metadata": {},
     "output_type": "execute_result"
    }
   ],
   "source": [
    "all_units"
   ]
  },
  {
   "cell_type": "code",
   "execution_count": 3,
   "metadata": {},
   "outputs": [],
   "source": [
    "# all_units[\"drive\"] = all_units.Channel.apply(lambda x: \"Anterior\" if \"a\" in x else \"Temporal\")\n",
    "# all_units[\"manual_structure_cleaned\"] = all_units.manual_structure.apply(lambda x: x.replace(\" \", \"_\").replace(\"/\", \"_\"))"
   ]
  },
  {
   "cell_type": "code",
   "execution_count": 4,
   "metadata": {},
   "outputs": [
    {
     "data": {
      "text/plain": [
       "drive\n",
       "Anterior    518\n",
       "Temporal    761\n",
       "Name: PseudoUnitID, dtype: int64"
      ]
     },
     "execution_count": 4,
     "metadata": {},
     "output_type": "execute_result"
    }
   ],
   "source": [
    "all_units.groupby(\"drive\").PseudoUnitID.nunique()"
   ]
  },
  {
   "cell_type": "code",
   "execution_count": 5,
   "metadata": {},
   "outputs": [
    {
     "data": {
      "text/plain": [
       "manual_structure_cleaned\n",
       "Amygdala                     83\n",
       "Anterior_Cingulate_Gyrus    106\n",
       "Basal_Ganglia                95\n",
       "Claustrum                    93\n",
       "Hippocampus_MTL             263\n",
       "Parietal_Cortex             155\n",
       "Prefrontal_Cortex           335\n",
       "Premotor_Cortex              74\n",
       "Visual_Cortex                20\n",
       "unknown                      55\n",
       "Name: PseudoUnitID, dtype: int64"
      ]
     },
     "execution_count": 5,
     "metadata": {},
     "output_type": "execute_result"
    }
   ],
   "source": [
    "all_units.groupby(\"manual_structure_cleaned\").PseudoUnitID.nunique()"
   ]
  },
  {
   "cell_type": "code",
   "execution_count": 9,
   "metadata": {},
   "outputs": [
    {
     "data": {
      "text/plain": [
       "structure_level2\n",
       "amygdala (Amy)                                         83\n",
       "anterior_cingulate_gyrus (ACgG)                       106\n",
       "basal_ganglia (BG)                                     95\n",
       "cerebellum (Cb)                                         2\n",
       "core_and_belt_areas_of_auditory_cortex (core/belt)      1\n",
       "diagonal_subpallium (DSP)                               1\n",
       "extrastriate_visual_areas_2-4 (V2-V4)                   8\n",
       "floor_of_the_lateral_sulcus (floor_of_ls)               7\n",
       "inferior_parietal_lobule (IPL)                         44\n",
       "inferior_temporal_cortex (ITC)                        206\n",
       "lateral_and_ventral_pallium (LVPal)                    93\n",
       "lateral_prefrontal_cortex (lat_PFC)                   297\n",
       "medial_pallium (MPal)                                  53\n",
       "medial_temporal_lobe (MTL)                              1\n",
       "motor_cortex (motor)                                   74\n",
       "orbital_frontal_cortex (OFC)                           38\n",
       "posterior_medial_cortex (PMC)                          47\n",
       "preoptic_complex (POC)                                  2\n",
       "primary_visual_cortex (V1)                             12\n",
       "somatosensory_cortex (SI/SII)                           2\n",
       "superior_parietal_lobule (SPL)                         62\n",
       "thalamus (Thal)                                        37\n",
       "unknown                                                 8\n",
       "Name: PseudoUnitID, dtype: int64"
      ]
     },
     "execution_count": 9,
     "metadata": {},
     "output_type": "execute_result"
    }
   ],
   "source": [
    "all_units.groupby(\"structure_level2\").PseudoUnitID.nunique()"
   ]
  },
  {
   "cell_type": "code",
   "execution_count": 19,
   "metadata": {},
   "outputs": [
    {
     "data": {
      "text/plain": [
       "drive     manual_structure          structure_level2                                  \n",
       "Anterior  Anterior Cingulate Gyrus  anterior_cingulate_gyrus (ACgG)                       100\n",
       "          Basal Ganglia             basal_ganglia (BG)                                      1\n",
       "          Prefrontal Cortex         lateral_prefrontal_cortex (lat_PFC)                   297\n",
       "                                    orbital_frontal_cortex (OFC)                           38\n",
       "          Premotor Cortex           motor_cortex (motor)                                   74\n",
       "          unknown                   unknown                                                 8\n",
       "Temporal  Amygdala                  amygdala (Amy)                                         83\n",
       "          Anterior Cingulate Gyrus  anterior_cingulate_gyrus (ACgG)                         6\n",
       "          Basal Ganglia             basal_ganglia (BG)                                     94\n",
       "          Claustrum                 lateral_and_ventral_pallium (LVPal)                    93\n",
       "          Hippocampus/MTL           core_and_belt_areas_of_auditory_cortex (core/belt)      1\n",
       "                                    inferior_temporal_cortex (ITC)                        206\n",
       "                                    medial_pallium (MPal)                                  53\n",
       "                                    medial_temporal_lobe (MTL)                              1\n",
       "                                    preoptic_complex (POC)                                  2\n",
       "          Parietal Cortex           inferior_parietal_lobule (IPL)                         44\n",
       "                                    posterior_medial_cortex (PMC)                          47\n",
       "                                    somatosensory_cortex (SI/SII)                           2\n",
       "                                    superior_parietal_lobule (SPL)                         62\n",
       "          Visual Cortex             extrastriate_visual_areas_2-4 (V2-V4)                   8\n",
       "                                    primary_visual_cortex (V1)                             12\n",
       "          unknown                   cerebellum (Cb)                                         2\n",
       "                                    diagonal_subpallium (DSP)                               1\n",
       "                                    floor_of_the_lateral_sulcus (floor_of_ls)               7\n",
       "                                    thalamus (Thal)                                        37\n",
       "Name: PseudoUnitID, dtype: int64"
      ]
     },
     "execution_count": 19,
     "metadata": {},
     "output_type": "execute_result"
    }
   ],
   "source": [
    "all_units.groupby([\"drive\", \"manual_structure\", \"structure_level2\"]).PseudoUnitID.nunique()"
   ]
  },
  {
   "cell_type": "code",
   "execution_count": null,
   "metadata": {},
   "outputs": [],
   "source": []
  }
 ],
 "metadata": {
  "kernelspec": {
   "display_name": "Python 3",
   "language": "python",
   "name": "python3"
  },
  "language_info": {
   "codemirror_mode": {
    "name": "ipython",
    "version": 3
   },
   "file_extension": ".py",
   "mimetype": "text/x-python",
   "name": "python",
   "nbconvert_exporter": "python",
   "pygments_lexer": "ipython3",
   "version": "3.10.6"
  }
 },
 "nbformat": 4,
 "nbformat_minor": 2
}
