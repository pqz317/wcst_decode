{
 "cells": [
  {
   "cell_type": "markdown",
   "metadata": {},
   "source": [
    "### Take a look at all the positions of units from all sessions for Sam"
   ]
  },
  {
   "cell_type": "code",
   "execution_count": 1,
   "metadata": {},
   "outputs": [],
   "source": [
    "import pandas as pd"
   ]
  },
  {
   "cell_type": "code",
   "execution_count": 2,
   "metadata": {},
   "outputs": [],
   "source": [
    "all_units = pd.read_pickle(\"/data/patrick_res/firing_rates/SA/all_units.pickle\")"
   ]
  },
  {
   "cell_type": "code",
   "execution_count": 3,
   "metadata": {},
   "outputs": [],
   "source": [
    "# all_units[\"drive\"] = all_units.Channel.apply(lambda x: \"Anterior\" if \"a\" in x else \"Temporal\")\n",
    "# all_units[\"manual_structure_cleaned\"] = all_units.manual_structure.apply(lambda x: x.replace(\" \", \"_\").replace(\"/\", \"_\"))"
   ]
  },
  {
   "cell_type": "code",
   "execution_count": 4,
   "metadata": {},
   "outputs": [
    {
     "data": {
      "text/plain": [
       "drive\n",
       "Anterior    518\n",
       "Temporal    761\n",
       "Name: PseudoUnitID, dtype: int64"
      ]
     },
     "execution_count": 4,
     "metadata": {},
     "output_type": "execute_result"
    }
   ],
   "source": [
    "all_units.groupby(\"drive\").PseudoUnitID.nunique()"
   ]
  },
  {
   "cell_type": "code",
   "execution_count": 26,
   "metadata": {},
   "outputs": [
    {
     "data": {
      "text/plain": [
       "manual_structure_cleaned\n",
       "Amygdala                     83\n",
       "Anterior_Cingulate_Gyrus    106\n",
       "Basal_Ganglia                95\n",
       "Claustrum                    93\n",
       "Hippocampus_MTL             263\n",
       "Parietal_Cortex             155\n",
       "Prefrontal_Cortex           335\n",
       "Premotor_Cortex              74\n",
       "Visual_Cortex                20\n",
       "unknown                      55\n",
       "Name: PseudoUnitID, dtype: int64"
      ]
     },
     "execution_count": 26,
     "metadata": {},
     "output_type": "execute_result"
    }
   ],
   "source": [
    "all_units.groupby(\"manual_structure_cleaned\").PseudoUnitID.nunique()"
   ]
  },
  {
   "cell_type": "code",
   "execution_count": 9,
   "metadata": {},
   "outputs": [
    {
     "data": {
      "text/plain": [
       "structure_level2\n",
       "amygdala (Amy)                                         83\n",
       "anterior_cingulate_gyrus (ACgG)                       106\n",
       "basal_ganglia (BG)                                     95\n",
       "cerebellum (Cb)                                         2\n",
       "core_and_belt_areas_of_auditory_cortex (core/belt)      1\n",
       "diagonal_subpallium (DSP)                               1\n",
       "extrastriate_visual_areas_2-4 (V2-V4)                   8\n",
       "floor_of_the_lateral_sulcus (floor_of_ls)               7\n",
       "inferior_parietal_lobule (IPL)                         44\n",
       "inferior_temporal_cortex (ITC)                        206\n",
       "lateral_and_ventral_pallium (LVPal)                    93\n",
       "lateral_prefrontal_cortex (lat_PFC)                   297\n",
       "medial_pallium (MPal)                                  53\n",
       "medial_temporal_lobe (MTL)                              1\n",
       "motor_cortex (motor)                                   74\n",
       "orbital_frontal_cortex (OFC)                           38\n",
       "posterior_medial_cortex (PMC)                          47\n",
       "preoptic_complex (POC)                                  2\n",
       "primary_visual_cortex (V1)                             12\n",
       "somatosensory_cortex (SI/SII)                           2\n",
       "superior_parietal_lobule (SPL)                         62\n",
       "thalamus (Thal)                                        37\n",
       "unknown                                                 8\n",
       "Name: PseudoUnitID, dtype: int64"
      ]
     },
     "execution_count": 9,
     "metadata": {},
     "output_type": "execute_result"
    }
   ],
   "source": [
    "all_units.groupby(\"structure_level2\").PseudoUnitID.nunique()"
   ]
  },
  {
   "cell_type": "code",
   "execution_count": 19,
   "metadata": {},
   "outputs": [
    {
     "data": {
      "text/plain": [
       "drive     manual_structure          structure_level2                                  \n",
       "Anterior  Anterior Cingulate Gyrus  anterior_cingulate_gyrus (ACgG)                       100\n",
       "          Basal Ganglia             basal_ganglia (BG)                                      1\n",
       "          Prefrontal Cortex         lateral_prefrontal_cortex (lat_PFC)                   297\n",
       "                                    orbital_frontal_cortex (OFC)                           38\n",
       "          Premotor Cortex           motor_cortex (motor)                                   74\n",
       "          unknown                   unknown                                                 8\n",
       "Temporal  Amygdala                  amygdala (Amy)                                         83\n",
       "          Anterior Cingulate Gyrus  anterior_cingulate_gyrus (ACgG)                         6\n",
       "          Basal Ganglia             basal_ganglia (BG)                                     94\n",
       "          Claustrum                 lateral_and_ventral_pallium (LVPal)                    93\n",
       "          Hippocampus/MTL           core_and_belt_areas_of_auditory_cortex (core/belt)      1\n",
       "                                    inferior_temporal_cortex (ITC)                        206\n",
       "                                    medial_pallium (MPal)                                  53\n",
       "                                    medial_temporal_lobe (MTL)                              1\n",
       "                                    preoptic_complex (POC)                                  2\n",
       "          Parietal Cortex           inferior_parietal_lobule (IPL)                         44\n",
       "                                    posterior_medial_cortex (PMC)                          47\n",
       "                                    somatosensory_cortex (SI/SII)                           2\n",
       "                                    superior_parietal_lobule (SPL)                         62\n",
       "          Visual Cortex             extrastriate_visual_areas_2-4 (V2-V4)                   8\n",
       "                                    primary_visual_cortex (V1)                             12\n",
       "          unknown                   cerebellum (Cb)                                         2\n",
       "                                    diagonal_subpallium (DSP)                               1\n",
       "                                    floor_of_the_lateral_sulcus (floor_of_ls)               7\n",
       "                                    thalamus (Thal)                                        37\n",
       "Name: PseudoUnitID, dtype: int64"
      ]
     },
     "execution_count": 19,
     "metadata": {},
     "output_type": "execute_result"
    }
   ],
   "source": [
    "all_units.groupby([\"drive\", \"manual_structure\", \"structure_level2\"]).PseudoUnitID.nunique()"
   ]
  },
  {
   "cell_type": "code",
   "execution_count": null,
   "metadata": {},
   "outputs": [],
   "source": []
  }
 ],
 "metadata": {
  "kernelspec": {
   "display_name": "Python 3",
   "language": "python",
   "name": "python3"
  },
  "language_info": {
   "codemirror_mode": {
    "name": "ipython",
    "version": 3
   },
   "file_extension": ".py",
   "mimetype": "text/x-python",
   "name": "python",
   "nbconvert_exporter": "python",
   "pygments_lexer": "ipython3",
   "version": "3.10.6"
  }
 },
 "nbformat": 4,
 "nbformat_minor": 2
}
