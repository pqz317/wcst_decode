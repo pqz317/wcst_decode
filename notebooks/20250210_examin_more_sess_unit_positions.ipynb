{
 "cells": [
  {
   "cell_type": "markdown",
   "metadata": {},
   "source": [
    "### Take a look at all the positions of units from all sessions for Sam"
   ]
  },
  {
   "cell_type": "code",
   "execution_count": 1,
   "metadata": {},
   "outputs": [],
   "source": [
    "import pandas as pd"
   ]
  },
  {
   "cell_type": "code",
   "execution_count": 2,
   "metadata": {},
   "outputs": [],
   "source": [
    "all_units = pd.read_pickle(\"/data/patrick_res/firing_rates/SA/all_units_more_sess.pickle\")"
   ]
  },
  {
   "cell_type": "code",
   "execution_count": 3,
   "metadata": {},
   "outputs": [
    {
     "data": {
      "text/plain": [
       "Index(['Channel', 'Unit', 'SpikeTimesFile', 'UnitID', 'electrode_id', 'x', 'y',\n",
       "       'z', 'distance', 'in_brain', 'tissue', 'structure_level1',\n",
       "       'structure_level2', 'structure_level3', 'structure_level4',\n",
       "       'structure_level5', 'structure_level6', 'structure_potential',\n",
       "       'session', 'PseudoUnitID', 'manual_structure'],\n",
       "      dtype='object')"
      ]
     },
     "execution_count": 3,
     "metadata": {},
     "output_type": "execute_result"
    }
   ],
   "source": [
    "all_units.columns"
   ]
  },
  {
   "cell_type": "code",
   "execution_count": 4,
   "metadata": {},
   "outputs": [
    {
     "data": {
      "text/plain": [
       "structure_level3\n",
       "anterior_cingulate_cortex (ACC)                           100\n",
       "area_5 (area_5)                                            55\n",
       "area_7_in_the_inferior_parietal_lobule (area_7_in_IPL)      4\n",
       "area_TE (TE)                                               88\n",
       "cerebellar_cortex (CbCx)                                    2\n",
       "core_areas_of_auditory_cortex (core)                        1\n",
       "diagonal_subpallium (DSP)                                   1\n",
       "dorsolateral_prefrontal_cortex (dlPFC)                    130\n",
       "floor_of_the_lateral_sulcus (floor_of_ls)                   7\n",
       "fundus_of_the_superior_temporal_sulcus (STSf)             118\n",
       "geniculate_thalamus (GThal)                                30\n",
       "hippocampal_formation (HF)                                 53\n",
       "lateral_intraparietal_sulcus (lat_IPS)                     37\n",
       "lateral_motor_cortex (M1/PM)                               22\n",
       "lateral_orbital_frontal_cortex (lat_OFC)                   37\n",
       "lateral_pallium (LPal)                                     93\n",
       "medial_orbital_frontal_cortex (med_OFC)                     1\n",
       "medial_superior_temporal_area (MST)                         3\n",
       "medial_supplementary_motor_areas (SMA/preSMA)              52\n",
       "midcingulate_cortex (MCC)                                   6\n",
       "pallial_amygdala (pAmy)                                    44\n",
       "posterior_cingulate_gyrus (PCgG)                           47\n",
       "posterior_thalamus (PThal)                                  5\n",
       "preoccipital_visual_areas_2-3 (V2-V3)                       5\n",
       "preoptic_complex (POC)                                      2\n",
       "primary_visual_cortex (V1)                                 12\n",
       "reticular_thalamus (Rt)                                     1\n",
       "rhinal_cortex (Rh)                                          1\n",
       "secondary_somatosensory_cortex (SII)                        2\n",
       "striatum (Str)                                             95\n",
       "subpallial_amygdala (spAmy)                                39\n",
       "unknown                                                     8\n",
       "ventral_thalamus (VThal)                                    1\n",
       "ventrolateral_prefrontal_cortex (vlPFC)                   167\n",
       "ventromedial_intraparietal_sulcus (vm_IPS)                  7\n",
       "visual_area_4 (V4)                                          3\n",
       "Name: PseudoUnitID, dtype: int64"
      ]
     },
     "execution_count": 4,
     "metadata": {},
     "output_type": "execute_result"
    }
   ],
   "source": [
    "all_units.groupby(\"structure_level3\").PseudoUnitID.nunique()"
   ]
  },
  {
   "cell_type": "code",
   "execution_count": null,
   "metadata": {},
   "outputs": [],
   "source": []
  }
 ],
 "metadata": {
  "kernelspec": {
   "display_name": "Python 3",
   "language": "python",
   "name": "python3"
  },
  "language_info": {
   "codemirror_mode": {
    "name": "ipython",
    "version": 3
   },
   "file_extension": ".py",
   "mimetype": "text/x-python",
   "name": "python",
   "nbconvert_exporter": "python",
   "pygments_lexer": "ipython3",
   "version": "3.10.6"
  }
 },
 "nbformat": 4,
 "nbformat_minor": 2
}
