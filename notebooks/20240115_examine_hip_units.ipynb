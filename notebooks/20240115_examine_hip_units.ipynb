{
 "cells": [
  {
   "cell_type": "code",
   "execution_count": 4,
   "metadata": {},
   "outputs": [
    {
     "name": "stdout",
     "output_type": "stream",
     "text": [
      "The autoreload extension is already loaded. To reload it, use:\n",
      "  %reload_ext autoreload\n"
     ]
    }
   ],
   "source": [
    "%load_ext autoreload\n",
    "%autoreload 2\n",
    "\n",
    "import numpy as np\n",
    "import matplotlib.pyplot as plt\n",
    "import pandas as pd\n",
    "\n",
    "import utils.spike_utils as spike_utils\n",
    "import utils.classifier_utils as classifier_utils\n",
    "import utils.visualization_utils as visualization_utils\n",
    "import utils.behavioral_utils as behavioral_utils\n",
    "\n",
    "import os\n",
    "import pandas as pd\n",
    "import matplotlib"
   ]
  },
  {
   "cell_type": "code",
   "execution_count": 5,
   "metadata": {},
   "outputs": [],
   "source": [
    "SESSIONS_PATH = \"/data/patrick_res/sessions/valid_sessions_rpe.pickle\""
   ]
  },
  {
   "cell_type": "code",
   "execution_count": 6,
   "metadata": {},
   "outputs": [],
   "source": [
    "valid_sess = pd.read_pickle(SESSIONS_PATH)\n",
    "units = spike_utils.get_unit_positions(valid_sess)\n"
   ]
  },
  {
   "cell_type": "markdown",
   "metadata": {},
   "source": [
    "num of temporal drive units"
   ]
  },
  {
   "cell_type": "code",
   "execution_count": 7,
   "metadata": {},
   "outputs": [
    {
     "data": {
      "text/plain": [
       "453"
      ]
     },
     "execution_count": 7,
     "metadata": {},
     "output_type": "execute_result"
    }
   ],
   "source": [
    "temp_units = units[~units.Channel.str.contains('a')]\n",
    "len(temp_units)"
   ]
  },
  {
   "cell_type": "markdown",
   "metadata": {},
   "source": [
    "num of units grouped as \"Hippocampus/MTL\""
   ]
  },
  {
   "cell_type": "code",
   "execution_count": 10,
   "metadata": {},
   "outputs": [],
   "source": [
    "hip_mtl_units = units[units.manual_structure == \"Hippocampus/MTL\"]\n",
    "len(hip_mtl_units)\n",
    "hip_mtl_units.to_pickle(\"/data/patrick_res/hip_subpop.pickle\")"
   ]
  },
  {
   "cell_type": "markdown",
   "metadata": {},
   "source": [
    "num units grouped as \"Prefrontal Cortex\""
   ]
  },
  {
   "cell_type": "code",
   "execution_count": 9,
   "metadata": {},
   "outputs": [],
   "source": [
    "pfc_units = units[units.manual_structure == \"Prefrontal Cortex\"]\n",
    "len(pfc_units)\n",
    "pfc_units.to_pickle(\"/data/patrick_res/pfc_subpop.pickle\")"
   ]
  },
  {
   "cell_type": "markdown",
   "metadata": {},
   "source": [
    "num of units labeled \"hippocampal_formation (HF)\" in structure_level3"
   ]
  },
  {
   "cell_type": "code",
   "execution_count": 6,
   "metadata": {},
   "outputs": [
    {
     "data": {
      "text/plain": [
       "19"
      ]
     },
     "execution_count": 6,
     "metadata": {},
     "output_type": "execute_result"
    }
   ],
   "source": [
    "hip_formation_units = units[units.structure_level3 == \"hippocampal_formation (HF)\"]\n",
    "len(hip_formation_units)"
   ]
  },
  {
   "cell_type": "markdown",
   "metadata": {},
   "source": [
    "num of units labeled \"hippocampus (Hi)\" in structure_level5"
   ]
  },
  {
   "cell_type": "code",
   "execution_count": 7,
   "metadata": {},
   "outputs": [
    {
     "data": {
      "text/plain": [
       "11"
      ]
     },
     "execution_count": 7,
     "metadata": {},
     "output_type": "execute_result"
    }
   ],
   "source": [
    "hip_units = units[units.structure_level5 == \"hippocampus (Hi)\"]\n",
    "len(hip_units)"
   ]
  },
  {
   "cell_type": "markdown",
   "metadata": {},
   "source": [
    "num units in Orbitofrontal Cortex"
   ]
  },
  {
   "cell_type": "code",
   "execution_count": 9,
   "metadata": {},
   "outputs": [
    {
     "data": {
      "text/plain": [
       "array(['lateral_and_ventral_pallium (LVPal)',\n",
       "       'lateral_prefrontal_cortex (lat_PFC)',\n",
       "       'primary_visual_cortex (V1)', 'anterior_cingulate_gyrus (ACgG)',\n",
       "       'posterior_medial_cortex (PMC)', 'orbital_frontal_cortex (OFC)',\n",
       "       'unknown', 'basal_ganglia (BG)', 'inferior_temporal_cortex (ITC)',\n",
       "       'motor_cortex (motor)', 'preoptic_complex (POC)', 'amygdala (Amy)',\n",
       "       'extrastriate_visual_areas_2-4 (V2-V4)', 'medial_pallium (MPal)',\n",
       "       'thalamus (Thal)', 'inferior_parietal_lobule (IPL)',\n",
       "       'superior_parietal_lobule (SPL)',\n",
       "       'floor_of_the_lateral_sulcus (floor_of_ls)',\n",
       "       'medial_temporal_lobe (MTL)'], dtype=object)"
      ]
     },
     "execution_count": 9,
     "metadata": {},
     "output_type": "execute_result"
    }
   ],
   "source": [
    "units.structure_level2.unique()"
   ]
  },
  {
   "cell_type": "code",
   "execution_count": 10,
   "metadata": {},
   "outputs": [
    {
     "data": {
      "text/plain": [
       "18"
      ]
     },
     "execution_count": 10,
     "metadata": {},
     "output_type": "execute_result"
    }
   ],
   "source": [
    "ofc_units = units[units.structure_level2 == \"orbital_frontal_cortex (OFC)\"]\n",
    "len(ofc_units)"
   ]
  },
  {
   "cell_type": "code",
   "execution_count": null,
   "metadata": {},
   "outputs": [],
   "source": []
  }
 ],
 "metadata": {
  "kernelspec": {
   "display_name": "Python 3",
   "language": "python",
   "name": "python3"
  },
  "language_info": {
   "codemirror_mode": {
    "name": "ipython",
    "version": 3
   },
   "file_extension": ".py",
   "mimetype": "text/x-python",
   "name": "python",
   "nbconvert_exporter": "python",
   "pygments_lexer": "ipython3",
   "version": "3.10.6"
  }
 },
 "nbformat": 4,
 "nbformat_minor": 2
}
