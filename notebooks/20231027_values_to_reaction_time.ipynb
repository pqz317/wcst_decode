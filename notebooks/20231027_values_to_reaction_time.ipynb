{
 "cells": [
  {
   "cell_type": "markdown",
   "metadata": {},
   "source": [
    "### Want to see if there's any relationship between action value from behavioral model to behavioral variables\n",
    "- Reaction time of trial\n",
    "- Position in block?"
   ]
  },
  {
   "cell_type": "code",
   "execution_count": null,
   "metadata": {},
   "outputs": [],
   "source": [
    "%load_ext autoreload\n",
    "%autoreload 2\n",
    "\n",
    "import numpy as np\n",
    "import matplotlib.pyplot as plt\n",
    "import pandas as pd\n",
    "\n",
    "import utils.spike_utils as spike_utils\n",
    "import utils.classifier_utils as classifier_utils\n",
    "import utils.visualization_utils as visualization_utils\n",
    "import utils.behavioral_utils as behavioral_utils\n",
    "\n",
    "import os\n",
    "import pandas as pd\n",
    "import matplotlib"
   ]
  },
  {
   "cell_type": "code",
   "execution_count": null,
   "metadata": {},
   "outputs": [],
   "source": [
    "session = 20180802\n",
    "beh_path = f\"/data/rawdata/sub-SA/sess-{session}/behavior/sub-SA_sess-{session}_object_features.csv\"\n",
    "beh = pd.read_csv(beh_path)\n",
    "valid_beh = behavioral_utils.get_valid_trials(beh)\n",
    "beh_w_rpes = behavioral_utils.get_rpes_per_session(session, valid_beh)"
   ]
  },
  {
   "cell_type": "code",
   "execution_count": null,
   "metadata": {},
   "outputs": [],
   "source": [
    "beh_w_rpes[\"DecisionTime\"] = beh_w_rpes[\"FeedbackOnset\"] - 800 - beh_w_rpes[\"StimOnset\"]"
   ]
  },
  {
   "cell_type": "code",
   "execution_count": null,
   "metadata": {},
   "outputs": [],
   "source": [
    "beh_w_rpes[\"Prob_FEBin\"] = (beh_w_rpes.Prob_FE * 20).astype(int)\n",
    "means = beh_w_rpes.groupby(\"Prob_FEBin\")[\"DecisionTime\"].mean()\n",
    "stds = beh_w_rpes.groupby(\"Prob_FEBin\")[\"DecisionTime\"].std()\n",
    "sterr = stds / np.sqrt(len(stds))\n",
    "prob_bins = np.arange(0, 1.0, 0.05)\n",
    "\n",
    "fig, ax = plt.subplots()\n",
    "mean_line, = ax.plot(prob_bins, means, linewidth=2)\n",
    "std_line = ax.fill_between(prob_bins, means - sterr, means + sterr, alpha=0.5)\n",
    "ax.set_xlabel(\"Action Value\")\n",
    "ax.set_ylabel(\"Decision Time\")"
   ]
  },
  {
   "cell_type": "code",
   "execution_count": null,
   "metadata": {},
   "outputs": [],
   "source": [
    "def get_block_lengths(block):\n",
    "    block[\"BlockLength\"] = len(block)\n",
    "    return block\n",
    "beh_w_rpes = beh_w_rpes.groupby(\"BlockNumber\").apply(get_block_lengths).reset_index()"
   ]
  },
  {
   "cell_type": "code",
   "execution_count": null,
   "metadata": {},
   "outputs": [],
   "source": [
    "beh_w_rpes[\"BlockPosition\"] = beh_w_rpes.TrialAfterRuleChange / (beh_w_rpes.BlockLength - 1)"
   ]
  },
  {
   "cell_type": "code",
   "execution_count": null,
   "metadata": {},
   "outputs": [],
   "source": [
    "beh_w_rpes[\"BlockPositionBin\"] = (beh_w_rpes.BlockPosition * 20).astype(int)\n",
    "means = beh_w_rpes.groupby(\"BlockPositionBin\")[\"Prob_FE\"].mean()\n",
    "stds = beh_w_rpes.groupby(\"BlockPositionBin\")[\"Prob_FE\"].std()\n",
    "\n",
    "fig, ax = plt.subplots()\n",
    "time_bins = np.arange(0, 1.05, 0.05)\n",
    "mean_line, = ax.plot(time_bins, means, linewidth=2)\n",
    "sterr = stds / np.sqrt(len(stds))\n",
    "\n",
    "std_line = ax.fill_between(time_bins, means - sterr, means + sterr, alpha=0.5)\n",
    "ax.set_xlabel(\"Relative block position\")\n",
    "ax.set_ylabel(\"Action Value\")"
   ]
  },
  {
   "cell_type": "code",
   "execution_count": null,
   "metadata": {},
   "outputs": [],
   "source": []
  }
 ],
 "metadata": {
  "kernelspec": {
   "display_name": "Python 3",
   "language": "python",
   "name": "python3"
  },
  "language_info": {
   "codemirror_mode": {
    "name": "ipython",
    "version": 3
   },
   "file_extension": ".py",
   "mimetype": "text/x-python",
   "name": "python",
   "nbconvert_exporter": "python",
   "pygments_lexer": "ipython3",
   "version": "3.10.6"
  }
 },
 "nbformat": 4,
 "nbformat_minor": 2
}
