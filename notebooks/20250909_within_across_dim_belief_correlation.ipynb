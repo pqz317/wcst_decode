{
 "cells": [
  {
   "cell_type": "markdown",
   "metadata": {},
   "source": [
    "### Test that beliefs are correlated within dim, across dims"
   ]
  },
  {
   "cell_type": "code",
   "execution_count": 11,
   "metadata": {},
   "outputs": [
    {
     "name": "stdout",
     "output_type": "stream",
     "text": [
      "The autoreload extension is already loaded. To reload it, use:\n",
      "  %reload_ext autoreload\n"
     ]
    }
   ],
   "source": [
    "%load_ext autoreload\n",
    "%autoreload 2\n",
    "\n",
    "import os\n",
    "import numpy as np\n",
    "import pandas as pd\n",
    "import utils.behavioral_utils as behavioral_utils\n",
    "import utils.information_utils as information_utils\n",
    "import utils.visualization_utils as visualization_utils\n",
    "import utils.pseudo_classifier_utils as pseudo_classifier_utils\n",
    "import utils.classifier_utils as classifier_utils\n",
    "\n",
    "import utils.io_utils as io_utils\n",
    "\n",
    "import utils.glm_utils as glm_utils\n",
    "from matplotlib import pyplot as plt\n",
    "import matplotlib\n",
    "import utils.spike_utils as spike_utils\n",
    "import utils.subspace_utils as subspace_utils\n",
    "from trial_splitters.condition_trial_splitter import ConditionTrialSplitter \n",
    "from utils.session_data import SessionData\n",
    "from constants.behavioral_constants import *\n",
    "from constants.decoding_constants import *\n",
    "import seaborn as sns\n",
    "from scripts.pseudo_decoding.belief_partitions.belief_partition_configs import *\n",
    "import scripts.pseudo_decoding.belief_partitions.belief_partitions_io as belief_partitions_io\n",
    "\n",
    "import scipy\n",
    "import argparse\n",
    "import copy\n",
    "import itertools\n",
    "\n",
    "from tqdm import tqdm"
   ]
  },
  {
   "cell_type": "code",
   "execution_count": 12,
   "metadata": {},
   "outputs": [],
   "source": [
    "all_beh = behavioral_utils.load_all_beh_for_sub(\"SA\")"
   ]
  },
  {
   "cell_type": "code",
   "execution_count": 17,
   "metadata": {},
   "outputs": [
    {
     "name": "stderr",
     "output_type": "stream",
     "text": [
      "/tmp/ipykernel_836151/3362103553.py:1: SettingWithCopyWarning: \n",
      "A value is trying to be set on a copy of a slice from a DataFrame.\n",
      "Try using .loc[row_indexer,col_indexer] = value instead\n",
      "\n",
      "See the caveats in the documentation: https://pandas.pydata.org/pandas-docs/stable/user_guide/indexing.html#returning-a-view-versus-a-copy\n",
      "  all_beh[[f\"Next{x}Prob\" for x in FEATURES]] = all_beh[[f\"{x}Prob\" for x in FEATURES]].shift(-1)\n",
      "/tmp/ipykernel_836151/3362103553.py:3: SettingWithCopyWarning: \n",
      "A value is trying to be set on a copy of a slice from a DataFrame.\n",
      "Try using .loc[row_indexer,col_indexer] = value instead\n",
      "\n",
      "See the caveats in the documentation: https://pandas.pydata.org/pandas-docs/stable/user_guide/indexing.html#returning-a-view-versus-a-copy\n",
      "  all_beh[[f\"{x}ProbDiff\" for x in FEATURES]] = all_beh[[f\"Next{x}Prob\" for x in FEATURES]].values - all_beh[[f\"{x}Prob\" for x in FEATURES]].values\n",
      "/tmp/ipykernel_836151/3362103553.py:3: SettingWithCopyWarning: \n",
      "A value is trying to be set on a copy of a slice from a DataFrame.\n",
      "Try using .loc[row_indexer,col_indexer] = value instead\n",
      "\n",
      "See the caveats in the documentation: https://pandas.pydata.org/pandas-docs/stable/user_guide/indexing.html#returning-a-view-versus-a-copy\n",
      "  all_beh[[f\"{x}ProbDiff\" for x in FEATURES]] = all_beh[[f\"Next{x}Prob\" for x in FEATURES]].values - all_beh[[f\"{x}Prob\" for x in FEATURES]].values\n",
      "/tmp/ipykernel_836151/3362103553.py:3: SettingWithCopyWarning: \n",
      "A value is trying to be set on a copy of a slice from a DataFrame.\n",
      "Try using .loc[row_indexer,col_indexer] = value instead\n",
      "\n",
      "See the caveats in the documentation: https://pandas.pydata.org/pandas-docs/stable/user_guide/indexing.html#returning-a-view-versus-a-copy\n",
      "  all_beh[[f\"{x}ProbDiff\" for x in FEATURES]] = all_beh[[f\"Next{x}Prob\" for x in FEATURES]].values - all_beh[[f\"{x}Prob\" for x in FEATURES]].values\n",
      "/tmp/ipykernel_836151/3362103553.py:3: SettingWithCopyWarning: \n",
      "A value is trying to be set on a copy of a slice from a DataFrame.\n",
      "Try using .loc[row_indexer,col_indexer] = value instead\n",
      "\n",
      "See the caveats in the documentation: https://pandas.pydata.org/pandas-docs/stable/user_guide/indexing.html#returning-a-view-versus-a-copy\n",
      "  all_beh[[f\"{x}ProbDiff\" for x in FEATURES]] = all_beh[[f\"Next{x}Prob\" for x in FEATURES]].values - all_beh[[f\"{x}Prob\" for x in FEATURES]].values\n",
      "/tmp/ipykernel_836151/3362103553.py:3: SettingWithCopyWarning: \n",
      "A value is trying to be set on a copy of a slice from a DataFrame.\n",
      "Try using .loc[row_indexer,col_indexer] = value instead\n",
      "\n",
      "See the caveats in the documentation: https://pandas.pydata.org/pandas-docs/stable/user_guide/indexing.html#returning-a-view-versus-a-copy\n",
      "  all_beh[[f\"{x}ProbDiff\" for x in FEATURES]] = all_beh[[f\"Next{x}Prob\" for x in FEATURES]].values - all_beh[[f\"{x}Prob\" for x in FEATURES]].values\n",
      "/tmp/ipykernel_836151/3362103553.py:3: SettingWithCopyWarning: \n",
      "A value is trying to be set on a copy of a slice from a DataFrame.\n",
      "Try using .loc[row_indexer,col_indexer] = value instead\n",
      "\n",
      "See the caveats in the documentation: https://pandas.pydata.org/pandas-docs/stable/user_guide/indexing.html#returning-a-view-versus-a-copy\n",
      "  all_beh[[f\"{x}ProbDiff\" for x in FEATURES]] = all_beh[[f\"Next{x}Prob\" for x in FEATURES]].values - all_beh[[f\"{x}Prob\" for x in FEATURES]].values\n",
      "/tmp/ipykernel_836151/3362103553.py:3: SettingWithCopyWarning: \n",
      "A value is trying to be set on a copy of a slice from a DataFrame.\n",
      "Try using .loc[row_indexer,col_indexer] = value instead\n",
      "\n",
      "See the caveats in the documentation: https://pandas.pydata.org/pandas-docs/stable/user_guide/indexing.html#returning-a-view-versus-a-copy\n",
      "  all_beh[[f\"{x}ProbDiff\" for x in FEATURES]] = all_beh[[f\"Next{x}Prob\" for x in FEATURES]].values - all_beh[[f\"{x}Prob\" for x in FEATURES]].values\n",
      "/tmp/ipykernel_836151/3362103553.py:3: SettingWithCopyWarning: \n",
      "A value is trying to be set on a copy of a slice from a DataFrame.\n",
      "Try using .loc[row_indexer,col_indexer] = value instead\n",
      "\n",
      "See the caveats in the documentation: https://pandas.pydata.org/pandas-docs/stable/user_guide/indexing.html#returning-a-view-versus-a-copy\n",
      "  all_beh[[f\"{x}ProbDiff\" for x in FEATURES]] = all_beh[[f\"Next{x}Prob\" for x in FEATURES]].values - all_beh[[f\"{x}Prob\" for x in FEATURES]].values\n",
      "/tmp/ipykernel_836151/3362103553.py:3: SettingWithCopyWarning: \n",
      "A value is trying to be set on a copy of a slice from a DataFrame.\n",
      "Try using .loc[row_indexer,col_indexer] = value instead\n",
      "\n",
      "See the caveats in the documentation: https://pandas.pydata.org/pandas-docs/stable/user_guide/indexing.html#returning-a-view-versus-a-copy\n",
      "  all_beh[[f\"{x}ProbDiff\" for x in FEATURES]] = all_beh[[f\"Next{x}Prob\" for x in FEATURES]].values - all_beh[[f\"{x}Prob\" for x in FEATURES]].values\n",
      "/tmp/ipykernel_836151/3362103553.py:3: SettingWithCopyWarning: \n",
      "A value is trying to be set on a copy of a slice from a DataFrame.\n",
      "Try using .loc[row_indexer,col_indexer] = value instead\n",
      "\n",
      "See the caveats in the documentation: https://pandas.pydata.org/pandas-docs/stable/user_guide/indexing.html#returning-a-view-versus-a-copy\n",
      "  all_beh[[f\"{x}ProbDiff\" for x in FEATURES]] = all_beh[[f\"Next{x}Prob\" for x in FEATURES]].values - all_beh[[f\"{x}Prob\" for x in FEATURES]].values\n",
      "/tmp/ipykernel_836151/3362103553.py:3: SettingWithCopyWarning: \n",
      "A value is trying to be set on a copy of a slice from a DataFrame.\n",
      "Try using .loc[row_indexer,col_indexer] = value instead\n",
      "\n",
      "See the caveats in the documentation: https://pandas.pydata.org/pandas-docs/stable/user_guide/indexing.html#returning-a-view-versus-a-copy\n",
      "  all_beh[[f\"{x}ProbDiff\" for x in FEATURES]] = all_beh[[f\"Next{x}Prob\" for x in FEATURES]].values - all_beh[[f\"{x}Prob\" for x in FEATURES]].values\n",
      "/tmp/ipykernel_836151/3362103553.py:3: SettingWithCopyWarning: \n",
      "A value is trying to be set on a copy of a slice from a DataFrame.\n",
      "Try using .loc[row_indexer,col_indexer] = value instead\n",
      "\n",
      "See the caveats in the documentation: https://pandas.pydata.org/pandas-docs/stable/user_guide/indexing.html#returning-a-view-versus-a-copy\n",
      "  all_beh[[f\"{x}ProbDiff\" for x in FEATURES]] = all_beh[[f\"Next{x}Prob\" for x in FEATURES]].values - all_beh[[f\"{x}Prob\" for x in FEATURES]].values\n"
     ]
    }
   ],
   "source": [
    "all_beh[[f\"Next{x}Prob\" for x in FEATURES]] = all_beh[[f\"{x}Prob\" for x in FEATURES]].shift(-1)\n",
    "all_beh = all_beh[~all_beh[\"NextCIRCLEProb\"].isna()]\n",
    "all_beh[[f\"{x}ProbDiff\" for x in FEATURES]] = all_beh[[f\"Next{x}Prob\" for x in FEATURES]].values - all_beh[[f\"{x}Prob\" for x in FEATURES]].values"
   ]
  },
  {
   "cell_type": "code",
   "execution_count": 18,
   "metadata": {},
   "outputs": [],
   "source": [
    "res = []\n",
    "for feat1, feat2 in list(itertools.combinations(FEATURES, 2)):\n",
    "    dim_type = \"within\" if FEATURE_TO_DIM[feat1] == FEATURE_TO_DIM[feat2] else \"across\"\n",
    "    corr = np.corrcoef(all_beh[f\"{feat1}ProbDiff\"], all_beh[f\"{feat2}ProbDiff\"])[0, 1]\n",
    "    res.append({\n",
    "        \"pair_str\": f\"{feat1}_{feat2}\",\n",
    "        \"dim_type\": dim_type,\n",
    "        \"corr\": corr\n",
    "    })\n",
    "res = pd.DataFrame(res)"
   ]
  },
  {
   "cell_type": "code",
   "execution_count": 19,
   "metadata": {},
   "outputs": [
    {
     "data": {
      "text/plain": [
       "<Axes: xlabel='dim_type', ylabel='corr'>"
      ]
     },
     "execution_count": 19,
     "metadata": {},
     "output_type": "execute_result"
    },
    {
     "data": {
      "image/png": "[encoded data removed]",
      "text/plain": [
       "<Figure size 640x480 with 1 Axes>"
      ]
     },
     "metadata": {},
     "output_type": "display_data"
    }
   ],
   "source": [
    "sns.barplot(res, x=\"dim_type\", y=\"corr\")"
   ]
  },
  {
   "cell_type": "code",
   "execution_count": null,
   "metadata": {},
   "outputs": [],
   "source": []
  }
 ],
 "metadata": {
  "kernelspec": {
   "display_name": "Python 3",
   "language": "python",
   "name": "python3"
  },
  "language_info": {
   "codemirror_mode": {
    "name": "ipython",
    "version": 3
   },
   "file_extension": ".py",
   "mimetype": "text/x-python",
   "name": "python",
   "nbconvert_exporter": "python",
   "pygments_lexer": "ipython3",
   "version": "3.10.6"
  }
 },
 "nbformat": 4,
 "nbformat_minor": 2
}
