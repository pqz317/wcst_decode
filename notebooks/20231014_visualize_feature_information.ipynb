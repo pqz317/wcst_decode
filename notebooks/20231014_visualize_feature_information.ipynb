{
 "cells": [
  {
   "cell_type": "code",
   "execution_count": null,
   "metadata": {},
   "outputs": [],
   "source": [
    "%load_ext autoreload\n",
    "%autoreload 2\n",
    "\n",
    "import os\n",
    "import numpy as np\n",
    "import pandas as pd\n",
    "import utils.behavioral_utils as behavioral_utils\n",
    "import utils.information_utils as information_utils\n",
    "import utils.visualization_utils as visualization_utils\n",
    "import utils.spike_utils as spike_utils\n",
    "from matplotlib import pyplot as plt"
   ]
  },
  {
   "cell_type": "markdown",
   "metadata": {},
   "source": [
    "### Examine one session, plot"
   ]
  },
  {
   "cell_type": "code",
   "execution_count": null,
   "metadata": {},
   "outputs": [],
   "source": [
    "SESSIONS_PATH = \"/data/patrick_res/multi_sess/valid_sessions_rpe.pickle\"\n",
    "sessions = pd.read_pickle(SESSIONS_PATH)\n",
    "sessions.sort_values(\"session_name\")"
   ]
  },
  {
   "cell_type": "code",
   "execution_count": null,
   "metadata": {},
   "outputs": [],
   "source": [
    "FEATURE_DIMS = [\"Color\", \"Shape\", \"Pattern\"]\n",
    "OUTPUT_DIR = \"/data/patrick_res/information\"\n",
    "\n",
    "SESSIONS_PATH = \"/data/patrick_res/multi_sess/valid_sessions_rpe.pickle\"\n",
    "\n",
    "session = 20180802\n",
    "mi = pd.read_pickle(os.path.join(OUTPUT_DIR, f\"{session}_features_mi.pickle\"))\n",
    "null = pd.read_pickle(os.path.join(OUTPUT_DIR, f\"{session}_features_null_stats.pickle\"))\n",
    "shuffled_mis = pd.read_pickle(os.path.join(OUTPUT_DIR, f\"{session}_features_null_shuffled.pickle\"))\n",
    "\n",
    "mi_rpe = pd.read_pickle(os.path.join(OUTPUT_DIR, f\"{session}_rpe_mi.pickle\"))\n",
    "null_rpe = pd.read_pickle(os.path.join(OUTPUT_DIR, f\"{session}_rpe_null_stats.pickle\"))\n",
    "shuffled_mis_rpe = pd.read_pickle(os.path.join(OUTPUT_DIR, f\"{session}_rpe_null_shuffled.pickle\"))\n"
   ]
  },
  {
   "cell_type": "code",
   "execution_count": null,
   "metadata": {},
   "outputs": [],
   "source": [
    "PRE_INTERVAL = 1300\n",
    "POST_INTERVAL = 1500\n",
    "INTERVAL_SIZE = 100\n",
    "SMOOTH = 1\n",
    "EVENT = \"FeedbackOnset\"\n",
    "fr_path = f\"/data/patrick_res/multi_sess/{session}/{session}_firing_rates_{PRE_INTERVAL}_{EVENT}_{POST_INTERVAL}_{INTERVAL_SIZE}_bins_{SMOOTH}_smooth.pickle\"\n",
    "frs = pd.read_pickle(fr_path)\n",
    "pos = spike_utils.get_unit_positions_per_sess(session)\n",
    "pos = spike_utils.get_manual_structure(pos)"
   ]
  },
  {
   "cell_type": "code",
   "execution_count": null,
   "metadata": {},
   "outputs": [],
   "source": [
    "bon_feature_stats = information_utils.calc_corrected_null_stats(shuffled_mis, FEATURE_DIMS, p_val=0.05, num_hyp=15)\n",
    "null = pd.merge(null, bon_feature_stats, on=[\"UnitID\", \"TimeBins\"])\n",
    "\n",
    "bon_rpe_stats = information_utils.calc_corrected_null_stats(shuffled_mis_rpe, [\"RPEGroup\"], p_val=0.05, num_hyp=15)\n",
    "null_rpe = pd.merge(null_rpe, bon_rpe_stats, on=[\"UnitID\", \"TimeBins\"])"
   ]
  },
  {
   "cell_type": "code",
   "execution_count": null,
   "metadata": {},
   "outputs": [],
   "source": [
    "mi_features_df = pd.merge(mi, null, on=[\"UnitID\", \"TimeBins\"])\n",
    "mi_rpe_df = pd.merge(mi_rpe, null_rpe, on=[\"UnitID\", \"TimeBins\"])\n",
    "mi_df = pd.merge(mi_features_df, mi_rpe_df, on=[\"UnitID\", \"TimeBins\"])"
   ]
  },
  {
   "cell_type": "code",
   "execution_count": null,
   "metadata": {},
   "outputs": [],
   "source": [
    "unit_sig = information_utils.assess_significance(mi_df, FEATURE_DIMS + [\"RPEGroup\"])"
   ]
  },
  {
   "cell_type": "code",
   "execution_count": null,
   "metadata": {},
   "outputs": [],
   "source": [
    "sig_units = unit_sig[(unit_sig.ColorSig | unit_sig.ShapeSig | unit_sig.PatternSig) & unit_sig.RPEGroupSig].UnitID"
   ]
  },
  {
   "cell_type": "code",
   "execution_count": null,
   "metadata": {},
   "outputs": [],
   "source": [
    "len(mi_df.UnitID.unique())"
   ]
  },
  {
   "cell_type": "code",
   "execution_count": null,
   "metadata": {},
   "outputs": [],
   "source": [
    "len(sig_units)"
   ]
  },
  {
   "cell_type": "code",
   "execution_count": null,
   "metadata": {},
   "outputs": [],
   "source": [
    "# for unit in mi.UnitID.unique():\n",
    "for unit in sig_units:\n",
    "    fig, axs = plt.subplots(1, 4, figsize=(18, 5))\n",
    "    for i, feature in enumerate(FEATURE_DIMS):\n",
    "        unit_pos = pos[pos.UnitID == unit].manual_structure.unique()[0]\n",
    "        unit_mi = mi[mi.UnitID == unit]\n",
    "        unit_null = null[null.UnitID == unit]\n",
    "        time_bins = unit_mi.TimeBins - 1.3\n",
    "        mi_vals = unit_mi[f\"MI{feature}\"]\n",
    "        null_95 = unit_null[f\"MIShuffled{feature}95th\"]\n",
    "        # null_99 = unit_null[f\"MIShuffled{feature}99th\"]\n",
    "        null_95_cor = unit_null[f\"MIShuffled{feature}Corrected\"]\n",
    "        axs[i].plot(time_bins, mi_vals, label=\"MI\")\n",
    "        # axs[i].plot(time_bins, null_95, label=\"p < 0.05\")\n",
    "        # axs[i].plot(time_bins, null_99, label=\"p < 0.01\")\n",
    "        axs[i].plot(time_bins, null_95_cor, label=\"p < 0.05 corrected\")\n",
    "        axs[i].set_title(f\"Unit {unit} ({unit_pos}) {feature}\")\n",
    "        axs[i].legend()\n",
    "    unit_rpe_mi = mi_rpe[mi_rpe.UnitID == unit]\n",
    "    unit_rpe_null = null_rpe[null_rpe.UnitID == unit]\n",
    "    time_bins = unit_rpe_mi.TimeBins - 1.3\n",
    "    mi_vals = unit_rpe_mi[f\"MIRPEGroup\"]\n",
    "    null_95_cor = unit_rpe_null[f\"MIShuffledRPEGroupCorrected\"]\n",
    "    axs[3].plot(time_bins, mi_vals, label=\"MI\")\n",
    "    axs[3].plot(time_bins, null_95_cor, label=\"p < 0.05 corrected\")\n",
    "    axs[3].set_title(f\"Unit {unit} RPE Group\")\n",
    "    axs[3].legend() "
   ]
  },
  {
   "cell_type": "markdown",
   "metadata": {},
   "source": [
    "### Do this for every session to form a sub-population "
   ]
  },
  {
   "cell_type": "code",
   "execution_count": null,
   "metadata": {},
   "outputs": [],
   "source": [
    "def both_sig(unit_sig):\n",
    "    return unit_sig[(unit_sig.ColorSig | unit_sig.ShapeSig | unit_sig.PatternSig) & unit_sig.RPEGroupSig]\n",
    "\n",
    "def feature_sig(unit_sig):\n",
    "    return unit_sig[(unit_sig.ColorSig | unit_sig.ShapeSig | unit_sig.PatternSig)]\n",
    "\n",
    "def rpe_sig(unit_sig):\n",
    "    return unit_sig[unit_sig.RPEGroupSig]\n",
    "\n",
    "def find_interesting_units_per_session(session, time_bins, sig_criteria=both_sig):\n",
    "    feature_mis = pd.read_pickle(os.path.join(OUTPUT_DIR, f\"{session}_features_mi.pickle\"))\n",
    "    feature_mis = feature_mis[feature_mis.TimeBins.isin(time_bins)]\n",
    "    shuffled_feature_mis = pd.read_pickle(os.path.join(OUTPUT_DIR, f\"{session}_features_null_shuffled.pickle\"))\n",
    "    shuffled_feature_mis = shuffled_feature_mis[shuffled_feature_mis.TimeBins.isin(time_bins)]\n",
    "\n",
    "    rpe_mis = pd.read_pickle(os.path.join(OUTPUT_DIR, f\"{session}_rpe_mi.pickle\"))\n",
    "    rpe_mis = rpe_mis[rpe_mis.TimeBins.isin(time_bins)]\n",
    "    shuffled_rpe_mis = pd.read_pickle(os.path.join(OUTPUT_DIR, f\"{session}_rpe_null_shuffled.pickle\"))\n",
    "    shuffled_rpe_mis = shuffled_rpe_mis[shuffled_rpe_mis.TimeBins.isin(time_bins)]\n",
    "\n",
    "    num_hyp = len(time_bins)\n",
    "    bon_feature_stats = information_utils.calc_corrected_null_stats(shuffled_feature_mis, FEATURE_DIMS, p_val=0.05, num_hyp=num_hyp)\n",
    "    bon_rpe_stats = information_utils.calc_corrected_null_stats(shuffled_rpe_mis, [\"RPEGroup\"], p_val=0.05, num_hyp=num_hyp)\n",
    "\n",
    "    mi_features_df = pd.merge(feature_mis, bon_feature_stats, on=[\"UnitID\", \"TimeBins\"])\n",
    "    mi_rpe_df = pd.merge(rpe_mis, bon_rpe_stats, on=[\"UnitID\", \"TimeBins\"])\n",
    "    mi_df = pd.merge(mi_features_df, mi_rpe_df, on=[\"UnitID\", \"TimeBins\"])\n",
    "\n",
    "    unit_sig = information_utils.assess_significance(mi_df, FEATURE_DIMS + [\"RPEGroup\"])\n",
    "    sig_units = sig_criteria(unit_sig).UnitID\n",
    "\n",
    "    pos = spike_utils.get_unit_positions_per_sess(session)\n",
    "    pos = pos.fillna(\"unknown\")\n",
    "    pos = spike_utils.get_manual_structure(pos)\n",
    "    filtered_pos = pos[pos.UnitID.isin(sig_units)]\n",
    "    return filtered_pos"
   ]
  },
  {
   "cell_type": "code",
   "execution_count": null,
   "metadata": {},
   "outputs": [],
   "source": [
    "SESSIONS_PATH = \"/data/patrick_res/multi_sess/valid_sessions_rpe.pickle\"\n",
    "valid_sess = pd.read_pickle(SESSIONS_PATH)\n",
    "time_bins = mi[mi.TimeBins > 1.3].TimeBins.unique()\n",
    "interesting_after_fb = valid_sess.apply(lambda row: find_interesting_units_per_session(row.session_name, time_bins), axis=1).values\n",
    "interesting_after_fb = pd.concat(interesting_after_fb)"
   ]
  },
  {
   "cell_type": "code",
   "execution_count": null,
   "metadata": {},
   "outputs": [],
   "source": [
    "time_bins = mi[mi.TimeBins <= 1.3].TimeBins.unique()\n",
    "interesting_before_fb = valid_sess.apply(lambda row: find_interesting_units_per_session(row.session_name, time_bins), axis=1).values\n",
    "interesting_before_fb = pd.concat(interesting_before_fb)"
   ]
  },
  {
   "cell_type": "code",
   "execution_count": null,
   "metadata": {},
   "outputs": [],
   "source": [
    "only_before = interesting_before_fb[~interesting_before_fb.PseudoUnitID.isin(interesting_after_fb.PseudoUnitID)]"
   ]
  },
  {
   "cell_type": "code",
   "execution_count": null,
   "metadata": {},
   "outputs": [],
   "source": [
    "only_after = interesting_after_fb[~interesting_after_fb.PseudoUnitID.isin(interesting_before_fb.PseudoUnitID)]"
   ]
  },
  {
   "cell_type": "code",
   "execution_count": null,
   "metadata": {},
   "outputs": [],
   "source": [
    "both = interesting_before_fb[interesting_before_fb.PseudoUnitID.isin(interesting_after_fb.PseudoUnitID)]"
   ]
  },
  {
   "cell_type": "code",
   "execution_count": null,
   "metadata": {},
   "outputs": [],
   "source": [
    "len(both)"
   ]
  },
  {
   "cell_type": "code",
   "execution_count": null,
   "metadata": {},
   "outputs": [],
   "source": [
    "all_pos = spike_utils.get_unit_positions(valid_sess)"
   ]
  },
  {
   "cell_type": "code",
   "execution_count": null,
   "metadata": {},
   "outputs": [],
   "source": [
    "len(all_pos)"
   ]
  },
  {
   "cell_type": "code",
   "execution_count": null,
   "metadata": {},
   "outputs": [],
   "source": [
    "before_portions = interesting_before_fb.groupby(\"manual_structure\").count()[\"UnitID\"] / all_pos.groupby(\"manual_structure\").count()[\"UnitID\"]\n",
    "after_portions = interesting_after_fb.groupby(\"manual_structure\").count()[\"UnitID\"] / all_pos.groupby(\"manual_structure\").count()[\"UnitID\"]\n",
    "both_portions = both.groupby(\"manual_structure\").count()[\"UnitID\"] / all_pos.groupby(\"manual_structure\").count()[\"UnitID\"]\n",
    "\n",
    "before_portions = before_portions.sort_values(ascending=False)\n",
    "after_portions = after_portions.sort_values(ascending=False)\n",
    "both_portions = both_portions.sort_values(ascending=False)\n",
    "\n",
    "ax = after_portions.plot.bar(figsize=(5, 6))\n",
    "ax.set_title(\"Proportion of neurons with both information by region (both before and after feedback)\")"
   ]
  },
  {
   "cell_type": "code",
   "execution_count": null,
   "metadata": {},
   "outputs": [],
   "source": [
    "filtered_pos.to_pickle(\"/data/patrick_scratch/information/subpops/feature_and_rpe_units.pickle\")"
   ]
  },
  {
   "cell_type": "code",
   "execution_count": null,
   "metadata": {},
   "outputs": [],
   "source": [
    "len(valid_sess)"
   ]
  },
  {
   "cell_type": "code",
   "execution_count": null,
   "metadata": {},
   "outputs": [],
   "source": [
    "just_rpe_pos = valid_sess.apply(lambda row: find_interesting_units_per_session(row.session_name, rpe_sig), axis=1).values\n",
    "just_rpe_pos = pd.concat(just_rpe_pos)"
   ]
  },
  {
   "cell_type": "code",
   "execution_count": null,
   "metadata": {},
   "outputs": [],
   "source": [
    "just_feature_pos = valid_sess.apply(lambda row: find_interesting_units_per_session(row.session_name, feature_sig), axis=1).values\n",
    "just_feature_pos = pd.concat(just_feature_pos)"
   ]
  },
  {
   "cell_type": "code",
   "execution_count": null,
   "metadata": {},
   "outputs": [],
   "source": [
    "len(just_rpe_pos)"
   ]
  },
  {
   "cell_type": "code",
   "execution_count": null,
   "metadata": {},
   "outputs": [],
   "source": [
    "len(just_feature_pos)"
   ]
  },
  {
   "cell_type": "code",
   "execution_count": null,
   "metadata": {},
   "outputs": [],
   "source": [
    "all_pos = spike_utils.get_unit_positions(valid_sess)"
   ]
  },
  {
   "cell_type": "markdown",
   "metadata": {},
   "source": [
    "### Plot the positions of all units, units selective for both"
   ]
  },
  {
   "cell_type": "code",
   "execution_count": null,
   "metadata": {},
   "outputs": [],
   "source": [
    "fig = visualization_utils.generate_glass_brain(all_pos, \"manual_structure\", name_to_color=visualization_utils.REGION_TO_COLOR)\n",
    "# directly write this figure as a html file. \n",
    "# ran into performance issues displaying the glass brain within the notebook\n",
    "fig.write_html(\"/data/patrick_scratch/information/figs/units_glass_brain_rpe_sessions.html\")"
   ]
  },
  {
   "cell_type": "code",
   "execution_count": null,
   "metadata": {},
   "outputs": [],
   "source": [
    "fig = visualization_utils.generate_glass_brain(filtered_pos, \"manual_structure\", name_to_color=visualization_utils.REGION_TO_COLOR)\n",
    "# directly write this figure as a html file. \n",
    "# ran into performance issues displaying the glass brain within the notebook\n",
    "fig.write_html(\"/data/patrick_scratch/information/figs/units_glass_brain_both_selective.html\")"
   ]
  },
  {
   "cell_type": "code",
   "execution_count": null,
   "metadata": {},
   "outputs": [],
   "source": [
    "fig = visualization_utils.generate_glass_brain(interesting_before_fb, \"manual_structure\", name_to_color=visualization_utils.REGION_TO_COLOR)\n",
    "# directly write this figure as a html file. \n",
    "# ran into performance issues displaying the glass brain within the notebook\n",
    "fig.write_html(\"/data/patrick_scratch/information/figs/units_glass_brain_selective_before_fb.html\")"
   ]
  },
  {
   "cell_type": "code",
   "execution_count": null,
   "metadata": {},
   "outputs": [],
   "source": [
    "fig = visualization_utils.generate_glass_brain(interesting_after_fb, \"manual_structure\", name_to_color=visualization_utils.REGION_TO_COLOR)\n",
    "# directly write this figure as a html file. \n",
    "# ran into performance issues displaying the glass brain within the notebook\n",
    "fig.write_html(\"/data/patrick_scratch/information/figs/units_glass_brain_selective_after_fb.html\")"
   ]
  },
  {
   "cell_type": "code",
   "execution_count": null,
   "metadata": {},
   "outputs": [],
   "source": [
    "fig = visualization_utils.generate_glass_brain(both, \"manual_structure\", name_to_color=visualization_utils.REGION_TO_COLOR)\n",
    "# directly write this figure as a html file. \n",
    "# ran into performance issues displaying the glass brain within the notebook\n",
    "fig.write_html(\"/data/patrick_scratch/information/figs/units_glass_brain_selective_before_and_after_fb.html\")"
   ]
  },
  {
   "cell_type": "markdown",
   "metadata": {},
   "source": [
    "### Look at proportion of units by region"
   ]
  },
  {
   "cell_type": "code",
   "execution_count": null,
   "metadata": {},
   "outputs": [],
   "source": [
    "all_pos.groupby(\"manual_structure\").count()"
   ]
  },
  {
   "cell_type": "code",
   "execution_count": null,
   "metadata": {},
   "outputs": [],
   "source": [
    "filtered_pos.groupby(\"manual_structure\").count()"
   ]
  },
  {
   "cell_type": "code",
   "execution_count": null,
   "metadata": {},
   "outputs": [],
   "source": [
    "portions = filtered_pos.groupby(\"manual_structure\").count()[\"UnitID\"] / all_pos.groupby(\"manual_structure\").count()[\"UnitID\"]\n",
    "portions = portions.sort_values(ascending=False)\n",
    "ax = portions.plot.bar(figsize=(5, 6))\n",
    "ax.set_title(\"Proportion of neurons with both information by region\")"
   ]
  },
  {
   "cell_type": "code",
   "execution_count": null,
   "metadata": {},
   "outputs": [],
   "source": [
    "portions = just_rpe_pos.groupby(\"manual_structure\").count()[\"UnitID\"] / all_pos.groupby(\"manual_structure\").count()[\"UnitID\"]\n",
    "portions = portions.sort_values(ascending=False)\n",
    "ax = portions.plot.bar(figsize=(5, 6))\n",
    "ax.set_title(\"Proportion of neurons with RPE group information by region\")"
   ]
  },
  {
   "cell_type": "code",
   "execution_count": null,
   "metadata": {},
   "outputs": [],
   "source": [
    "portions = just_feature_pos.groupby(\"manual_structure\").count()[\"UnitID\"] / all_pos.groupby(\"manual_structure\").count()[\"UnitID\"]\n",
    "portions = portions.sort_values(ascending=False)\n",
    "ax = portions.plot.bar(figsize=(5, 6))\n",
    "ax.set_title(\"Proportion of neurons with feature information by region\")"
   ]
  }
 ],
 "metadata": {
  "kernelspec": {
   "display_name": "Python 3",
   "language": "python",
   "name": "python3"
  },
  "language_info": {
   "codemirror_mode": {
    "name": "ipython",
    "version": 3
   },
   "file_extension": ".py",
   "mimetype": "text/x-python",
   "name": "python",
   "nbconvert_exporter": "python",
   "pygments_lexer": "ipython3",
   "version": "3.10.6"
  },
  "orig_nbformat": 4
 },
 "nbformat": 4,
 "nbformat_minor": 2
}
