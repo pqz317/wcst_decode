{
 "cells": [
  {
   "cell_type": "code",
   "execution_count": null,
   "metadata": {},
   "outputs": [],
   "source": [
    "%load_ext autoreload\n",
    "%autoreload 2\n",
    "\n",
    "import os\n",
    "import numpy as np\n",
    "import pandas as pd\n",
    "import utils.behavioral_utils as behavioral_utils\n",
    "import utils.information_utils as information_utils\n",
    "import utils.visualization_utils as visualization_utils\n",
    "import utils.glm_utils as glm_utils\n",
    "from matplotlib import pyplot as plt\n",
    "import utils.spike_utils as spike_utils"
   ]
  },
  {
   "cell_type": "code",
   "execution_count": null,
   "metadata": {},
   "outputs": [],
   "source": [
    "OUTPUT_DIR = \"/data/patrick_res/glm\"\n",
    "\n",
    "session = 20180802\n",
    "separate_res = pd.read_pickle(os.path.join(OUTPUT_DIR, f\"{session}_glm_feature_rpe_separate.pickle\"))\n",
    "interaction_res = pd.read_pickle(os.path.join(OUTPUT_DIR, f\"{session}_glm_feature_rpe_interaction.pickle\"))\n",
    "shuffled_res = pd.read_pickle(os.path.join(OUTPUT_DIR, f\"{session}_glm_feature_rpe_shuffles.pickle\"))\n",
    "\n",
    "# interaction_res = pd.read_pickle(os.path.join(OUTPUT_DIR, f\"{session}_glm_card_interaction.pickle\"))\n",
    "# shuffled_res = pd.read_pickle(os.path.join(OUTPUT_DIR, f\"{session}_glm_card_shuffles.pickle\"))"
   ]
  },
  {
   "cell_type": "code",
   "execution_count": null,
   "metadata": {},
   "outputs": [],
   "source": [
    "stats = glm_utils.calculate_sig_stats(shuffled_res, 0.05, 15)"
   ]
  },
  {
   "cell_type": "code",
   "execution_count": null,
   "metadata": {},
   "outputs": [],
   "source": [
    "feedback_bins = np.arange(1.3, 2.8, 0.1)\n",
    "choice_bins = np.arange(0, 1.3, 0.1)"
   ]
  },
  {
   "cell_type": "code",
   "execution_count": null,
   "metadata": {},
   "outputs": [],
   "source": [
    "# units_sig = glm_utils.identify_significant_units(interaction_res, shuffled_res, feedback_bins)\n",
    "\n",
    "choice_bins = np.arange(0, 1.3, 0.1)\n",
    "units_sig = glm_utils.identify_significant_units(interaction_res, shuffled_res, choice_bins)\n",
    "stats = glm_utils.calculate_sig_stats(shuffled_res, 0.05, 13)"
   ]
  },
  {
   "cell_type": "code",
   "execution_count": null,
   "metadata": {},
   "outputs": [],
   "source": [
    "len(units_sig[units_sig.IsSig])"
   ]
  },
  {
   "cell_type": "code",
   "execution_count": null,
   "metadata": {},
   "outputs": [],
   "source": []
  },
  {
   "cell_type": "code",
   "execution_count": null,
   "metadata": {},
   "outputs": [],
   "source": [
    "units_sig = units_sig[units_sig.IsSig]"
   ]
  },
  {
   "cell_type": "code",
   "execution_count": null,
   "metadata": {},
   "outputs": [],
   "source": [
    "pos = spike_utils.get_unit_positions_per_sess(session)\n",
    "pos = spike_utils.get_manual_structure(pos)"
   ]
  },
  {
   "cell_type": "code",
   "execution_count": null,
   "metadata": {},
   "outputs": [],
   "source": [
    "for unit in units_sig.UnitID.unique():\n",
    "    fig, ax = plt.subplots()\n",
    "    unit_pos = pos[pos.UnitID == unit].manual_structure.unique()[0]\n",
    "    # unit_separate = separate_res[separate_res.UnitID == unit].score\n",
    "    unit_interaction = interaction_res[interaction_res.UnitID == unit].score\n",
    "    sig_bound = stats[stats.UnitID == unit].sig_bound\n",
    "\n",
    "    time_bins = interaction_res[interaction_res.UnitID == unit].TimeBins - 1.3\n",
    "\n",
    "    # ax.plot(time_bins, unit_separate, label=\"Separate Score\")\n",
    "    ax.plot(time_bins, unit_interaction, label=\"Interaction Score\")\n",
    "    ax.plot(time_bins, sig_bound, label=\"Significance Bound\")\n",
    "\n",
    "    ax.set_title(f\"Unit {unit} ({unit_pos})\")\n",
    "    ax.legend()\n",
    "    ax.axvspan(-0.8, 0, alpha=0.3, color='gray')\n",
    "    ax.axvline(0.098, alpha=0.3, color='gray', linestyle='dashed')\n",
    "    ax.set_xlabel(\"Time Relative to Feedback (s)\")\n",
    "    ax.set_ylabel(\"Fraction of Deviance Explained\")"
   ]
  },
  {
   "cell_type": "markdown",
   "metadata": {},
   "source": [
    "### Assess as a population, how many neurons fit this criteria"
   ]
  },
  {
   "cell_type": "code",
   "execution_count": null,
   "metadata": {},
   "outputs": [],
   "source": [
    "SESSIONS_PATH = \"/data/patrick_res/multi_sess/valid_sessions_rpe.pickle\"\n",
    "sessions = pd.read_pickle(SESSIONS_PATH)"
   ]
  },
  {
   "cell_type": "code",
   "execution_count": null,
   "metadata": {},
   "outputs": [],
   "source": [
    "def find_sig_units_per_session(row, time_bins, card=False):\n",
    "    session = row.session_name\n",
    "    if card: \n",
    "        interaction_res = pd.read_pickle(os.path.join(OUTPUT_DIR, f\"{session}_glm_card_interaction.pickle\"))\n",
    "        shuffled_res = pd.read_pickle(os.path.join(OUTPUT_DIR, f\"{session}_glm_card_shuffles.pickle\"))\n",
    "    else: \n",
    "        interaction_res = pd.read_pickle(os.path.join(OUTPUT_DIR, f\"{session}_glm_feature_rpe_interaction.pickle\"))\n",
    "        shuffled_res = pd.read_pickle(os.path.join(OUTPUT_DIR, f\"{session}_glm_feature_rpe_shuffles.pickle\"))        \n",
    "    units_sig = glm_utils.identify_significant_units(interaction_res, shuffled_res, time_bins)\n",
    "    sig_units = units_sig[units_sig.IsSig]\n",
    "    pos = spike_utils.get_unit_positions_per_sess(session)\n",
    "    pos = pos.fillna(\"unknown\")\n",
    "    pos = spike_utils.get_manual_structure(pos)\n",
    "    filtered_pos = pos[pos.UnitID.isin(sig_units.UnitID)]\n",
    "    return filtered_pos"
   ]
  },
  {
   "cell_type": "code",
   "execution_count": null,
   "metadata": {},
   "outputs": [],
   "source": [
    "choice_card_units = pd.concat(sessions.apply(lambda x: find_sig_units_per_session(x, choice_bins, card=True), axis=1).values)\n",
    "feedback_card_units = pd.concat(sessions.apply(lambda x: find_sig_units_per_session(x, feedback_bins, card=True), axis=1).values)\n",
    "choice_rpe_units = pd.concat(sessions.apply(lambda x: find_sig_units_per_session(x, choice_bins, card=False), axis=1).values)\n",
    "feedback_rpe_units = pd.concat(sessions.apply(lambda x: find_sig_units_per_session(x, feedback_bins, card=False), axis=1).values)\n"
   ]
  },
  {
   "cell_type": "code",
   "execution_count": null,
   "metadata": {},
   "outputs": [],
   "source": [
    "print(len(choice_card_units))\n",
    "print(len(feedback_card_units))\n",
    "print(len(choice_rpe_units))\n",
    "print(len(feedback_rpe_units))"
   ]
  },
  {
   "cell_type": "markdown",
   "metadata": {},
   "source": [
    "how many units are shared in rpe interaction selective pre feedback and postfeedback "
   ]
  },
  {
   "cell_type": "code",
   "execution_count": null,
   "metadata": {},
   "outputs": [],
   "source": [
    "shared_rpe_units = choice_rpe_units[choice_rpe_units.PseudoUnitID.isin(feedback_rpe_units.PseudoUnitID)]"
   ]
  },
  {
   "cell_type": "code",
   "execution_count": null,
   "metadata": {},
   "outputs": [],
   "source": [
    "len(shared_rpe_units)"
   ]
  },
  {
   "cell_type": "code",
   "execution_count": null,
   "metadata": {},
   "outputs": [],
   "source": [
    "card_rpe_fb_units = feedback_card_units[feedback_card_units.PseudoUnitID.isin(feedback_rpe_units.PseudoUnitID)]"
   ]
  },
  {
   "cell_type": "code",
   "execution_count": null,
   "metadata": {},
   "outputs": [],
   "source": [
    "len(card_rpe_fb_units)"
   ]
  },
  {
   "cell_type": "code",
   "execution_count": null,
   "metadata": {},
   "outputs": [],
   "source": [
    "card_rpe_choice_units = choice_card_units[choice_card_units.PseudoUnitID.isin(choice_rpe_units.PseudoUnitID)]"
   ]
  },
  {
   "cell_type": "code",
   "execution_count": null,
   "metadata": {},
   "outputs": [],
   "source": [
    "len(card_rpe_choice_units)"
   ]
  },
  {
   "cell_type": "code",
   "execution_count": null,
   "metadata": {},
   "outputs": [],
   "source": []
  }
 ],
 "metadata": {
  "kernelspec": {
   "display_name": "Python 3",
   "language": "python",
   "name": "python3"
  },
  "language_info": {
   "codemirror_mode": {
    "name": "ipython",
    "version": 3
   },
   "file_extension": ".py",
   "mimetype": "text/x-python",
   "name": "python",
   "nbconvert_exporter": "python",
   "pygments_lexer": "ipython3",
   "version": "3.10.6"
  }
 },
 "nbformat": 4,
 "nbformat_minor": 2
}
