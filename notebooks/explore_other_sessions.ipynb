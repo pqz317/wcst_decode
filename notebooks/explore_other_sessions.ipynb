{
 "cells": [
  {
   "attachments": {},
   "cell_type": "markdown",
   "metadata": {},
   "source": [
    "### Do an exploration of other sessions, see if utils and stuff work for them"
   ]
  },
  {
   "cell_type": "code",
   "execution_count": 1,
   "metadata": {},
   "outputs": [],
   "source": [
    "%load_ext autoreload\n",
    "%autoreload 2\n",
    "\n",
    "import glob\n",
    "import os\n",
    "from datetime import datetime\n",
    "import pandas as pd\n",
    "from spike_tools import (\n",
    "    general as spike_general,\n",
    "    analysis as spike_analysis,\n",
    ")\n",
    "from lfp_tools import (\n",
    "    startup as lfp_startup,\n",
    ")\n",
    "import json"
   ]
  },
  {
   "attachments": {},
   "cell_type": "markdown",
   "metadata": {},
   "source": [
    "### Grab sessions and put info in a dataframe"
   ]
  },
  {
   "cell_type": "code",
   "execution_count": 2,
   "metadata": {},
   "outputs": [],
   "source": [
    "# NOTE: this is hacky code to replicate information that should already be stored in a Datajoint table, but don't have access atm\n",
    "sess_folder_path = \"/data/rawdata/sub-SA/\"\n",
    "sess_paths = glob.glob(f\"{sess_folder_path}/sess-*\")\n",
    "session_names = [os.path.split(sess_path)[1].split(\"-\")[1] for sess_path in sess_paths]\n",
    "\n",
    "rows = []\n",
    "for sess_name in session_names:\n",
    "    if not sess_name.isdigit():\n",
    "        continue\n",
    "    # hacky way to grab a datetime\n",
    "    date = datetime.strptime(sess_name[:8], \"%Y%m%d\").date()\n",
    "    rest = sess_name[8:]\n",
    "    count = int(rest) if rest else 0\n",
    "    rows.append({\n",
    "        \"session_datetime\": date,\n",
    "        \"session_count\": count,\n",
    "        \"session_name\": sess_name,\n",
    "    })\n",
    "sess_df = pd.DataFrame(rows)"
   ]
  },
  {
   "attachments": {},
   "cell_type": "markdown",
   "metadata": {},
   "source": [
    "### Filter sessions by num neurons, num trials"
   ]
  },
  {
   "cell_type": "code",
   "execution_count": 3,
   "metadata": {},
   "outputs": [],
   "source": [
    "NUM_NEURONS = 20\n",
    "NUM_TRIALS = 500\n",
    "VALID_SESS_BEFORE = datetime.strptime(\"20181015\", \"%Y%m%d\").date()"
   ]
  },
  {
   "cell_type": "code",
   "execution_count": 4,
   "metadata": {},
   "outputs": [],
   "source": [
    "def check_num_trials(sess):\n",
    "    sess_name = sess.session_name\n",
    "    behavior_path = f\"/data/rawdata/sub-SA/sess-{sess_name}/behavior/sub-SA_sess-{sess_name}_object_features.csv\"\n",
    "    if not os.path.isfile(behavior_path):\n",
    "        return False\n",
    "    beh = pd.read_csv(behavior_path)\n",
    "    valid_beh = beh[beh.Response.isin([\"Correct\", \"Incorrect\"])]   \n",
    "    return len(valid_beh) > 500\n",
    "\n",
    "def check_date(sess):\n",
    "    return sess.session_datetime < VALID_SESS_BEFORE\n",
    "\n",
    "def check_num_neurons(sess):\n",
    "    spike_dir_path = f\"/data/rawdata/sub-SA/sess-{sess.session_name}/spikes\"\n",
    "    if not os.path.isdir(spike_dir_path):\n",
    "        return False\n",
    "    spike_times = spike_general.get_spike_times(None, \"SA\", sess.session_name, species_dir=\"/data\")\n",
    "    return len(spike_times.UnitID.unique()) > NUM_NEURONS\n",
    "\n",
    "def filter_sessions(sess):\n",
    "    return check_date(sess) and check_num_trials(sess) and check_num_neurons(sess)\n",
    "\n",
    "\n",
    "sess_df[\"valid\"] = sess_df.apply(filter_sessions, axis=1)"
   ]
  },
  {
   "attachments": {},
   "cell_type": "markdown",
   "metadata": {},
   "source": [
    "### Find 36 Session before task change date, with at least 500 trials and 20 neurons"
   ]
  },
  {
   "cell_type": "code",
   "execution_count": 29,
   "metadata": {},
   "outputs": [
    {
     "data": {
      "text/plain": [
       "36"
      ]
     },
     "execution_count": 29,
     "metadata": {},
     "output_type": "execute_result"
    }
   ],
   "source": [
    "len(sess_df[sess_df.valid])"
   ]
  },
  {
   "attachments": {},
   "cell_type": "markdown",
   "metadata": {},
   "source": [
    "### Look at electrode positions again, weights"
   ]
  },
  {
   "cell_type": "code",
   "execution_count": 7,
   "metadata": {},
   "outputs": [],
   "source": [
    "def get_electrode_locations(row):\n",
    "    session = row.session_name\n",
    "    # For the cases like 201807250001\n",
    "    sess_day = session[:8]\n",
    "    info_path = f\"/data/rawdata/sub-SA/sess-{sess_day}/session_info/sub-SA_sess-{sess_day}_sessioninfo.json\"\n",
    "    with open(info_path, 'r') as f:\n",
    "        data = json.load(f)\n",
    "    locs = data['electrode_info']\n",
    "    locs_df = pd.DataFrame.from_dict(locs)\n",
    "    electrode_pos_not_nan = locs_df[~locs_df['x'].isna() & ~locs_df['y'].isna() & ~locs_df['z'].isna()]\n",
    "    units = spike_general.list_session_units(None, \"SA\", session, species_dir=\"/data\")\n",
    "    unit_pos = pd.merge(units, electrode_pos_not_nan, left_on=\"Channel\", right_on=\"electrode_id\", how=\"left\")\n",
    "    unit_pos = unit_pos.astype({\"UnitID\": int})\n",
    "    locs_df[\"session\"] = session\n",
    "    return locs_df"
   ]
  },
  {
   "cell_type": "code",
   "execution_count": 8,
   "metadata": {},
   "outputs": [],
   "source": [
    "valid_sess = pd.read_pickle(\"/data/patrick_scratch/multi_sess/valid_sessions.pickle\")\n",
    "all_sess_locations = pd.concat(valid_sess.apply(get_electrode_locations, axis=1).values, ignore_index=True)"
   ]
  },
  {
   "cell_type": "code",
   "execution_count": 27,
   "metadata": {},
   "outputs": [
    {
     "data": {
      "text/plain": [
       "7920"
      ]
     },
     "execution_count": 27,
     "metadata": {},
     "output_type": "execute_result"
    }
   ],
   "source": [
    "len(all_sess_locations)"
   ]
  },
  {
   "cell_type": "code",
   "execution_count": 20,
   "metadata": {},
   "outputs": [
    {
     "data": {
      "text/plain": [
       "array(['Occipital_Lobe (Occipital)', None, 'Parietal_Lobe (Parietal)',\n",
       "       'diencephalon (di)', 'telencephalon (tel)',\n",
       "       'Temporal_Lobe (Temporal)', 'Frontal_Lobe (Frontal)',\n",
       "       'metencephalon (met)'], dtype=object)"
      ]
     },
     "execution_count": 20,
     "metadata": {},
     "output_type": "execute_result"
    }
   ],
   "source": [
    "all_sess_locations.structure_level1.unique()"
   ]
  },
  {
   "cell_type": "code",
   "execution_count": 21,
   "metadata": {},
   "outputs": [
    {
     "data": {
      "text/plain": [
       "array(['extrastriate_visual_areas_2-4 (V2-V4)', None,\n",
       "       'inferior_parietal_lobule (IPL)', 'superior_parietal_lobule (SPL)',\n",
       "       'middle_temporal_area (MT)', 'posterior_medial_cortex (PMC)',\n",
       "       'thalamus (Thal)', 'basal_ganglia (BG)', 'medial_pallium (MPal)',\n",
       "       'preoptic_complex (POC)',\n",
       "       'floor_of_the_lateral_sulcus (floor_of_ls)',\n",
       "       'inferior_temporal_cortex (ITC)', 'amygdala (Amy)',\n",
       "       'lateral_and_ventral_pallium (LVPal)',\n",
       "       'lateral_prefrontal_cortex (lat_PFC)', 'motor_cortex (motor)',\n",
       "       'anterior_cingulate_gyrus (ACgG)', 'orbital_frontal_cortex (OFC)',\n",
       "       'pons (Pons)', 'primary_visual_cortex (V1)',\n",
       "       'medial_temporal_lobe (MTL)', 'diagonal_subpallium (DSP)',\n",
       "       'somatosensory_cortex (SI/SII)'], dtype=object)"
      ]
     },
     "execution_count": 21,
     "metadata": {},
     "output_type": "execute_result"
    }
   ],
   "source": [
    "all_sess_locations.structure_level2.unique()"
   ]
  },
  {
   "cell_type": "code",
   "execution_count": 36,
   "metadata": {},
   "outputs": [
    {
     "data": {
      "text/plain": [
       "array(['preoccipital_visual_areas_2-3 (V2-V3)', None,\n",
       "       'area_7_in_the_inferior_parietal_lobule (area_7_in_IPL)',\n",
       "       'area_5 (area_5)', 'lateral_intraparietal_sulcus (lat_IPS)',\n",
       "       'middle_temporal_area (MT)', 'posterior_cingulate_gyrus (PCgG)',\n",
       "       'posterior_thalamus (PThal)', 'geniculate_thalamus (GThal)',\n",
       "       'striatum (Str)', 'hippocampal_formation (HF)',\n",
       "       'preoptic_complex (POC)',\n",
       "       'floor_of_the_lateral_sulcus (floor_of_ls)',\n",
       "       'fundus_of_the_superior_temporal_sulcus (STSf)',\n",
       "       'subpallial_amygdala (spAmy)', 'pallidum (Pd)',\n",
       "       'pallial_amygdala (pAmy)', 'lateral_pallium (LPal)',\n",
       "       'ventral_pallium (VPal)', 'dorsolateral_prefrontal_cortex (dlPFC)',\n",
       "       'medial_supplementary_motor_areas (SMA/preSMA)',\n",
       "       'anterior_cingulate_cortex (ACC)',\n",
       "       'ventrolateral_prefrontal_cortex (vlPFC)',\n",
       "       'lateral_orbital_frontal_cortex (lat_OFC)', 'ventral_pons (VPons)',\n",
       "       'primary_visual_cortex (V1)', 'visual_area_4 (V4)', 'area_TE (TE)',\n",
       "       'rhinal_cortex (Rh)', 'medial_orbital_frontal_cortex (med_OFC)',\n",
       "       'lateral_motor_cortex (M1/PM)', 'diagonal_subpallium (DSP)',\n",
       "       'ventromedial_intraparietal_sulcus (vm_IPS)',\n",
       "       'medial_superior_temporal_area (MST)', 'ventral_thalamus (VThal)',\n",
       "       'secondary_somatosensory_cortex (SII)', 'reticular_thalamus (Rt)'],\n",
       "      dtype=object)"
      ]
     },
     "execution_count": 36,
     "metadata": {},
     "output_type": "execute_result"
    }
   ],
   "source": [
    "all_sess_locations.structure_level3.unique()"
   ]
  },
  {
   "cell_type": "code",
   "execution_count": 15,
   "metadata": {},
   "outputs": [],
   "source": [
    "all_sess_locations.groupby(all_sess_locations.structure_level1, dropna=False).count()[[\"electrode_id\"]].rename(columns={\"electrode_id\": \"num_neurons\"}).to_csv(\"/data/patrick_scratch/num_electrodes/structure_level1.csv\")\n",
    "all_sess_locations.groupby(all_sess_locations.structure_level2, dropna=False).count()[[\"electrode_id\"]].rename(columns={\"electrode_id\": \"num_neurons\"}).to_csv(\"/data/patrick_scratch/num_electrodes/structure_level2.csv\")\n",
    "all_sess_locations.groupby(all_sess_locations.structure_level3, dropna=False).count()[[\"electrode_id\"]].rename(columns={\"electrode_id\": \"num_neurons\"}).to_csv(\"/data/patrick_scratch/num_electrodes/structure_level3.csv\")\n"
   ]
  }
 ],
 "metadata": {
  "kernelspec": {
   "display_name": "Python 3",
   "language": "python",
   "name": "python3"
  },
  "language_info": {
   "codemirror_mode": {
    "name": "ipython",
    "version": 3
   },
   "file_extension": ".py",
   "mimetype": "text/x-python",
   "name": "python",
   "nbconvert_exporter": "python",
   "pygments_lexer": "ipython3",
   "version": "3.10.6"
  },
  "orig_nbformat": 4
 },
 "nbformat": 4,
 "nbformat_minor": 2
}
