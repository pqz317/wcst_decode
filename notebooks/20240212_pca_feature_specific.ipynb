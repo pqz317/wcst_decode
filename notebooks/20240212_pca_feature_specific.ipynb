{
 "cells": [
  {
   "cell_type": "markdown",
   "metadata": {},
   "source": [
    "### PCA on feature-specific conditions"
   ]
  },
  {
   "cell_type": "code",
   "execution_count": 1,
   "metadata": {},
   "outputs": [],
   "source": [
    "%load_ext autoreload\n",
    "%autoreload 2\n",
    "\n",
    "import os\n",
    "import numpy as np\n",
    "import pandas as pd\n",
    "import utils.pseudo_utils as pseudo_utils\n",
    "import utils.pseudo_classifier_utils as pseudo_classifier_utils\n",
    "import utils.behavioral_utils as behavioral_utils\n",
    "import utils.spike_utils as spike_utils\n",
    "from utils.session_data import SessionData\n",
    "import utils.io_utils as io_utils\n",
    "from constants.behavioral_constants import *\n",
    "import json\n",
    "\n",
    "from spike_tools import (\n",
    "    general as spike_general,\n",
    "    analysis as spike_analysis,\n",
    ")\n",
    "\n",
    "import matplotlib.pyplot as plt\n",
    "import matplotlib\n",
    "\n",
    "from sklearn.linear_model import LinearRegression\n",
    "from sklearn.decomposition import PCA\n",
    "\n",
    "import plotly.express as px\n"
   ]
  },
  {
   "cell_type": "code",
   "execution_count": 2,
   "metadata": {},
   "outputs": [],
   "source": [
    "# the output directory to store the data\n",
    "OUTPUT_DIR = \"/data/patrick_res/pseudo\"\n",
    "# path to a dataframe of sessions to analyze\n",
    "# SESSIONS_PATH = \"/data/patrick_scratch/multi_sess/valid_sessions.pickle\"\n",
    "SESSIONS_PATH = \"/data/patrick_res/sessions/valid_sessions_rpe.pickle\"\n",
    "# path for each session, specifying behavior\n",
    "SESS_BEHAVIOR_PATH = \"/data/rawdata/sub-SA/sess-{sess_name}/behavior/sub-SA_sess-{sess_name}_object_features.csv\"\n",
    "# path for each session, for spikes that have been pre-aligned to event time and binned. \n",
    "# SESS_SPIKES_PATH = \"/data/patrick_res/firing_rates/{sess_name}_firing_rates_{pre_interval}_{event}_{post_interval}_{interval_size}_bins_1_smooth.pickle\"\n",
    "SESS_SPIKES_PATH = \"/data/patrick_res/firing_rates/{sess_name}_residual_firing_rates_{pre_interval}_{event}_{post_interval}_{interval_size}_bins_1_smooth.pickle\"\n",
    "\n",
    "EVENT = \"FeedbackOnset\"  # event in behavior to align on\n",
    "PRE_INTERVAL = 1300   # time in ms before event\n",
    "POST_INTERVAL = 1500  # time in ms after event\n",
    "INTERVAL_SIZE = 50  # size of interval in ms"
   ]
  },
  {
   "cell_type": "code",
   "execution_count": 3,
   "metadata": {},
   "outputs": [],
   "source": [
    "FEATURE = \"MAGENTA\"\n",
    "# FEATURE = \"STAR\"\n",
    "# FEATURE = \"CIRCLE\"\n",
    "# FEATURE = \"TRIANGLE\"\n",
    "MIN_NUM_TRIALS = 20\n",
    "CONDITIONS = [\"MaxFeatMatches\", \"RPEGroup\"]\n",
    "# REGION = \"hippocampal_formation (HF)\"\n",
    "# REGION = \"orbital_frontal_cortex (OFC)\"\n",
    "# REGION = \"all\""
   ]
  },
  {
   "cell_type": "code",
   "execution_count": 4,
   "metadata": {},
   "outputs": [],
   "source": [
    "valid_sess = pd.read_pickle(SESSIONS_PATH)\n",
    "units = spike_utils.get_unit_positions(valid_sess)\n",
    "# region_units = units[units.manual_structure == \"Prefrontal Cortex\"]\n",
    "# region_units = units[units.manual_structure == \"Anterior Cingulate Gyrus\"]\n",
    "\n",
    "# region_units = units[units.structure_level2 == REGION]\n",
    "# region_units = units[units.structure_level3 == REGION]\n",
    "\n",
    "region_units = units"
   ]
  },
  {
   "cell_type": "code",
   "execution_count": 5,
   "metadata": {},
   "outputs": [
    {
     "data": {
      "text/plain": [
       "array(['Claustrum', 'Prefrontal Cortex', 'Visual Cortex',\n",
       "       'Anterior Cingulate Gyrus', 'Parietal Cortex', 'unknown',\n",
       "       'Basal Ganglia', 'Hippocampus/MTL', 'Premotor Cortex', 'Amygdala'],\n",
       "      dtype=object)"
      ]
     },
     "execution_count": 5,
     "metadata": {},
     "output_type": "execute_result"
    }
   ],
   "source": [
    "units.manual_structure.unique()"
   ]
  },
  {
   "cell_type": "code",
   "execution_count": 6,
   "metadata": {},
   "outputs": [],
   "source": [
    "def validate_and_label_sessions(row, feature, region_units, shuffle=False, balance=True):\n",
    "    # check region specificity:\n",
    "    # if not row.session_name in region_units.session.values:\n",
    "    #     return None\n",
    "    labeled_beh = behavioral_utils.get_beh_model_labels_for_session_feat(row.session_name, feature)\n",
    "    labeled_beh = labeled_beh[labeled_beh.Response == \"Correct\"]\n",
    "    enough_trials = behavioral_utils.validate_enough_trials_by_condition(labeled_beh, CONDITIONS, MIN_NUM_TRIALS, num_unique_conditions=4)\n",
    "    if not enough_trials:\n",
    "        return None\n",
    "    # TODO: determine whether or not this is needed: \n",
    "    if balance: \n",
    "        labeled_beh = behavioral_utils.balance_trials_by_condition(labeled_beh, CONDITIONS)\n",
    "    # HACK: doesn't generalize to other conditions\n",
    "    labeled_beh[\"Condition\"] = labeled_beh.MaxFeatMatches.astype(str) + \" \" + labeled_beh.RPEGroup\n",
    "    if shuffle: \n",
    "        rng = np.random.default_rng()\n",
    "        vals = labeled_beh[\"Condition\"].values\n",
    "        rng.shuffle(vals)\n",
    "        labeled_beh[\"Condition\"] = vals\n",
    "    frs_path = SESS_SPIKES_PATH.format(\n",
    "        sess_name=row.session_name, \n",
    "        pre_interval=PRE_INTERVAL, \n",
    "        event=EVENT, \n",
    "        post_interval=POST_INTERVAL, \n",
    "        interval_size=INTERVAL_SIZE\n",
    "    )\n",
    "    frs = pd.read_pickle(frs_path)\n",
    "    frs[\"PseudoUnitID\"] = int(row.session_name) * 100 + frs[\"UnitID\"]\n",
    "    frs = frs[frs.PseudoUnitID.isin(region_units.PseudoUnitID)]\n",
    "    merged = pd.merge(labeled_beh, frs, on=\"TrialNumber\")\n",
    "    if len(merged) == 0:\n",
    "        return None\n",
    "    return merged\n"
   ]
  },
  {
   "cell_type": "code",
   "execution_count": 7,
   "metadata": {},
   "outputs": [],
   "source": [
    "def project_conditioned_firing_rates(all_trials):\n",
    "    \"\"\"\n",
    "    Condition-average firing rates by Condition column,\n",
    "    Calculate 1st 3 PCs of condition-averaged firing rates\n",
    "    Return projected dataframe, PCA object\n",
    "    \"\"\"\n",
    "    conditions = all_trials.Condition.unique()\n",
    "    conditions.sort()\n",
    "    conditioned_frs = all_trials.groupby([\"Condition\", \"PseudoUnitID\", \"TimeBins\"]).FiringRate.mean().to_frame(\"ConditionedFiringRate\").reset_index()\n",
    "\n",
    "    conditioned_frs_sorted = conditioned_frs.sort_values(by=[\"PseudoUnitID\", \"Condition\", \"TimeBins\"])\n",
    "    num_units = len(conditioned_frs.PseudoUnitID.unique())\n",
    "    num_conds = len(conditioned_frs.Condition.unique())\n",
    "    num_time_bins = len(conditioned_frs.TimeBins.unique())\n",
    "    data_mat = conditioned_frs_sorted.ConditionedFiringRate.values.reshape((num_units, num_conds * num_time_bins))\n",
    "\n",
    "    pca = PCA()\n",
    "    pca = pca.fit(data_mat.T)\n",
    "    components = pca.components_\n",
    "\n",
    "    def transform_pca(group):\n",
    "        group = group.sort_values(by=\"PseudoUnitID\")\n",
    "        vec = group.ConditionedFiringRate.values.reshape(-1, 1)\n",
    "        # print(vec.shape)\n",
    "        # print(components.shape)\n",
    "        transformed = components @ vec\n",
    "        # print(transformed.shape)\n",
    "        return pd.Series({\"PC1\": transformed[0, 0], \"PC2\": transformed[1, 0], \"PC3\": transformed[2, 0]})\n",
    "    transformed_df = conditioned_frs_sorted.groupby([\"TimeBins\", \"Condition\"]).apply(transform_pca).reset_index()\n",
    "\n",
    "    return transformed_df, pca"
   ]
  },
  {
   "cell_type": "markdown",
   "metadata": {},
   "source": [
    "### Look at PCA for a single feature"
   ]
  },
  {
   "cell_type": "code",
   "execution_count": 8,
   "metadata": {},
   "outputs": [],
   "source": [
    "res = valid_sess.apply(lambda x: validate_and_label_sessions(x, FEATURE, region_units, shuffle=False, balance=True), axis=1)\n",
    "res = res.dropna()\n",
    "all_trials = pd.concat(res.values)"
   ]
  },
  {
   "cell_type": "code",
   "execution_count": 28,
   "metadata": {},
   "outputs": [],
   "source": [
    "# get only after feedback timepoints\n",
    "all_trials = all_trials[all_trials.TimeBins > 1.3]"
   ]
  },
  {
   "cell_type": "code",
   "execution_count": 29,
   "metadata": {},
   "outputs": [],
   "source": [
    "transformed_df, pca = project_conditioned_firing_rates(all_trials)"
   ]
  },
  {
   "cell_type": "code",
   "execution_count": 30,
   "metadata": {},
   "outputs": [
    {
     "data": {
      "text/plain": [
       "Condition\n",
       "False less pos    463\n",
       "False more pos    463\n",
       "True less pos     463\n",
       "True more pos     463\n",
       "Name: PseudoTrialNumber, dtype: int64"
      ]
     },
     "execution_count": 30,
     "metadata": {},
     "output_type": "execute_result"
    }
   ],
   "source": [
    "# see how many total trials there are per condition\n",
    "all_trials[\"PseudoTrialNumber\"] = (all_trials.Session.astype(str) + all_trials.TrialNumber.astype(str)).astype(int)\n",
    "all_trials.groupby(\"Condition\").PseudoTrialNumber.nunique()"
   ]
  },
  {
   "cell_type": "code",
   "execution_count": 31,
   "metadata": {},
   "outputs": [
    {
     "data": {
      "text/plain": [
       "Text(0, 0.5, 'Cumulative variance explained')"
      ]
     },
     "execution_count": 31,
     "metadata": {},
     "output_type": "execute_result"
    },
    {
     "data": {
      "image/png": "[encoded data removed]",
      "text/plain": [
       "<Figure size 640x480 with 1 Axes>"
      ]
     },
     "metadata": {},
     "output_type": "display_data"
    }
   ],
   "source": [
    "fig, ax = plt.subplots()\n",
    "var_ratios = np.cumsum(pca.explained_variance_ratio_)\n",
    "ax.plot(np.arange(1, len(var_ratios) +1), var_ratios)\n",
    "ax.set_xlabel(\"Number of components\")\n",
    "ax.set_ylabel(\"Cumulative variance explained\")"
   ]
  },
  {
   "cell_type": "code",
   "execution_count": 32,
   "metadata": {},
   "outputs": [
    {
     "data": {
      "application/vnd.plotly.v1+json": {
       "config": {
        "plotlyServerURL": "https://plot.ly"
       },
       "data": [
        {
         "hovertemplate": "Condition=False less pos<br>PC1=%{x}<br>PC2=%{y}<br>PC3=%{z}<br>TimeBins=%{marker.size}<extra></extra>",
         "legendgroup": "False less pos",
         "marker": {
          "color": "#636efa",
          "opacity": 1,
          "size": [
           1.35,
           1.4000000000000001,
           1.4500000000000002,
           1.5,
           1.55,
           1.6,
           1.6500000000000001,
           1.7000000000000002,
           1.75,
           1.8,
           1.85,
           1.9000000000000001,
           1.9500000000000002,
           2,
           2.0500000000000003,
           2.1,
           2.15,
           2.2,
           2.25,
           2.3000000000000003,
           2.35,
           2.4000000000000004,
           2.45,
           2.5,
           2.5500000000000003,
           2.6,
           2.6500000000000004,
           2.7,
           2.75
          ],
          "sizemode": "area",
          "sizeref": 0.006875,
          "symbol": "circle"
         },
         "mode": "markers",
         "name": "False less pos",
         "scene": "scene",
         "showlegend": true,
         "type": "scatter3d",
         "x": [
          -5.142812572288568,
          -6.685840671649972,
          -7.3388266963760564,
          -8.150414297885568,
          -8.205898400382246,
          -7.376631364568934,
          -5.994980831498554,
          -4.825460612010223,
          -5.460868596698729,
          -6.739548195221953,
          -7.964589782994287,
          -8.223920217642418,
          -8.94066044920634,
          -7.017711690209971,
          -7.882503098507175,
          -7.845984478415709,
          -9.720755937131043,
          -10.269513437552233,
          -10.41904569684719,
          -9.490653702796447,
          -9.563082390728345,
          -9.170037107129923,
          -7.450522077923307,
          -7.688313620807557,
          -8.44297460108815,
          -8.239759741159139,
          -7.5415397715285755,
          -8.57482571671295,
          -8.446742443193239
         ],
         "y": [
          -6.078816148302134,
          -5.419007019999742,
          -5.314696824580961,
          -4.727758724606525,
          -4.090016102438742,
          -4.692932084886506,
          -3.4336755699289214,
          -1.014026851676895,
          1.431559701410134,
          0.7875320937258905,
          -1.6477319362936,
          -0.6187653536370067,
          0.9785861516490476,
          1.2689772405884272,
          1.2430416306516672,
          -1.749450215657311,
          -2.379172776846888,
          -0.368691197739671,
          0.9842093828502465,
          1.547369621534521,
          1.7503211148878697,
          1.8219912824084652,
          1.9249927572686087,
          2.6212448309417082,
          2.0399960477838377,
          1.1028270622329068,
          1.491777775406015,
          0.03913601890478016,
          0.4909490614794674
         ],
         "z": [
          12.89609575899755,
          14.230693247691116,
          14.199448679755283,
          12.492009953797082,
          11.764701827890672,
          15.936470792087738,
          14.643954082609724,
          9.201276536289296,
          2.832637305901419,
          2.2627248953358343,
          3.0572655726710347,
          0.7870557489679989,
          -1.0980814473655731,
          -1.1967601671239598,
          -2.4154812511488624,
          -1.5162438200391906,
          -1.1936891348679466,
          -2.08220105919623,
          -5.833131025761861,
          -8.217628544833623,
          -7.662420900908433,
          -8.298748849830986,
          -7.554615982454607,
          -3.3951163466563403,
          0.10525452052318851,
          -1.8276207327202476,
          -4.05905125086238,
          -2.8913223232497147,
          -1.6336291130848395
         ]
        },
        {
         "hovertemplate": "Condition=False more pos<br>PC1=%{x}<br>PC2=%{y}<br>PC3=%{z}<br>TimeBins=%{marker.size}<extra></extra>",
         "legendgroup": "False more pos",
         "marker": {
          "color": "#EF553B",
          "opacity": 1,
          "size": [
           1.35,
           1.4000000000000001,
           1.4500000000000002,
           1.5,
           1.55,
           1.6,
           1.6500000000000001,
           1.7000000000000002,
           1.75,
           1.8,
           1.85,
           1.9000000000000001,
           1.9500000000000002,
           2,
           2.0500000000000003,
           2.1,
           2.15,
           2.2,
           2.25,
           2.3000000000000003,
           2.35,
           2.4000000000000004,
           2.45,
           2.5,
           2.5500000000000003,
           2.6,
           2.6500000000000004,
           2.7,
           2.75
          ],
          "sizemode": "area",
          "sizeref": 0.006875,
          "symbol": "circle"
         },
         "mode": "markers",
         "name": "False more pos",
         "scene": "scene",
         "showlegend": true,
         "type": "scatter3d",
         "x": [
          -1.7465276409435464,
          -1.7092445365981273,
          -2.270145147933021,
          -3.8820460691703382,
          -3.203625670235386,
          -2.2432249553359744,
          -1.4449423082848636,
          -1.1535550440224935,
          -1.9147179507146936,
          -2.1341458313508603,
          -4.399160510300048,
          -7.352380455554744,
          -8.227793511545876,
          -6.412932395624869,
          -5.459566134979771,
          -4.1592167090900904,
          -4.146307165868557,
          -5.982008090180322,
          -6.645760152654333,
          -4.736251313337995,
          -4.57958079993622,
          -5.153608826485991,
          -5.213396002727874,
          -5.66803585139772,
          -5.043251691017512,
          -4.756889344959733,
          -4.712613507372537,
          -3.972323971727093,
          -3.6908370715658743
         ],
         "y": [
          -0.8232304637357256,
          -2.658360099336214,
          -2.5257161012340763,
          -3.033277958626835,
          -4.294497967355918,
          -4.0708382721974585,
          -3.2780565040940495,
          -3.2632347352178206,
          -2.136895350483377,
          -0.237218449790443,
          2.7635573438988468,
          3.7249413472574404,
          1.799732954634478,
          -1.2277154269991644,
          -0.6091451815479553,
          -0.4575632753598321,
          -1.6139048477942968,
          -2.604107227125244,
          -1.9714821780592193,
          -0.6619677456202491,
          -0.9578025774769199,
          -0.11410771943293725,
          2.1980289821099315,
          2.766612856405813,
          3.921118977386716,
          5.465930430152201,
          9.561624736116368,
          10.921734976816326,
          8.970446003927494
         ],
         "z": [
          7.647033198555329,
          7.078416127409731,
          4.657645779191154,
          2.783263782343742,
          1.2315313011809081,
          1.124239819946243,
          4.80370462802083,
          7.739639169382337,
          7.636049800085401,
          6.73704344742165,
          4.457838607082504,
          0.515247920743566,
          -3.2833630775729494,
          -4.358445028479125,
          -8.520674294026065,
          -8.174441071262311,
          -4.24866062758625,
          -0.9853788247681878,
          0.7145447152489515,
          4.260645042067951,
          8.700856536019224,
          9.575892735409075,
          6.33875875966369,
          0.8441556942722326,
          -4.818410566153813,
          -6.8320078606354935,
          -6.838390930861239,
          -6.137506711951281,
          -5.3147317032649
         ]
        },
        {
         "hovertemplate": "Condition=True less pos<br>PC1=%{x}<br>PC2=%{y}<br>PC3=%{z}<br>TimeBins=%{marker.size}<extra></extra>",
         "legendgroup": "True less pos",
         "marker": {
          "color": "#00cc96",
          "opacity": 1,
          "size": [
           1.35,
           1.4000000000000001,
           1.4500000000000002,
           1.5,
           1.55,
           1.6,
           1.6500000000000001,
           1.7000000000000002,
           1.75,
           1.8,
           1.85,
           1.9000000000000001,
           1.9500000000000002,
           2,
           2.0500000000000003,
           2.1,
           2.15,
           2.2,
           2.25,
           2.3000000000000003,
           2.35,
           2.4000000000000004,
           2.45,
           2.5,
           2.5500000000000003,
           2.6,
           2.6500000000000004,
           2.7,
           2.75
          ],
          "sizemode": "area",
          "sizeref": 0.006875,
          "symbol": "circle"
         },
         "mode": "markers",
         "name": "True less pos",
         "scene": "scene",
         "showlegend": true,
         "type": "scatter3d",
         "x": [
          4.90636728848944,
          5.917425929089362,
          6.188837033784143,
          5.848009251428142,
          6.590945823185655,
          8.663573688311486,
          10.528721557362063,
          12.52276186438995,
          13.115804425374616,
          12.12248791013779,
          10.90647948676286,
          11.455007891991677,
          10.177329112233455,
          11.211155399585625,
          10.636978208806049,
          13.364247307178728,
          15.654068342673988,
          16.17089774682918,
          14.53733079432671,
          13.89773752645239,
          14.065420305856044,
          15.02542322812409,
          16.254913387658647,
          16.52147884616234,
          15.941412728904265,
          13.949081364071256,
          12.323939394526715,
          10.714857416792245,
          10.384880052905109
         ],
         "y": [
          -1.9982288037110836,
          -1.4182908082168133,
          -0.2942547368410471,
          -1.6180468029556994,
          -3.6573033248290803,
          -4.82260751246623,
          -5.7116889787767695,
          -9.592073403463848,
          -12.65291493735188,
          -12.578010715903599,
          -12.112183010537391,
          -12.016569103902777,
          -12.74437865704007,
          -12.549888628504258,
          -9.771155865833961,
          -9.778707703103489,
          -9.981890829857377,
          -10.78443342479587,
          -11.381566115319275,
          -10.375155299177447,
          -8.718880179554493,
          -6.4162022445391145,
          -5.087613305065918,
          -4.522745756389962,
          -4.632993126218058,
          -6.438835983698026,
          -6.642505941075421,
          -6.416098252314128,
          -4.276723439842495
         ],
         "z": [
          -0.6498710870797099,
          -1.824307104041161,
          -2.5050298519450434,
          -2.3036712431885413,
          -3.5807158914133423,
          -3.3501138596533373,
          -3.1831839252326866,
          -0.3846439473947507,
          -0.2201140815800584,
          -1.771675773111241,
          -5.069324488292615,
          -6.4660974777797025,
          -3.8405245079405774,
          0.5843957509727272,
          0.4629829901979849,
          -1.0912004056486075,
          -2.820050895220628,
          -2.4307643914826005,
          -0.9351490619530535,
          2.2408995194641066,
          5.105003512157928,
          1.7803389816199535,
          -3.6594150029511674,
          -6.813317491537719,
          -6.86953047475775,
          -5.318949383168279,
          -4.188738477511531,
          -3.627730506145491,
          -3.209273950341882
         ]
        },
        {
         "hovertemplate": "Condition=True more pos<br>PC1=%{x}<br>PC2=%{y}<br>PC3=%{z}<br>TimeBins=%{marker.size}<extra></extra>",
         "legendgroup": "True more pos",
         "marker": {
          "color": "#ab63fa",
          "opacity": 1,
          "size": [
           1.35,
           1.4000000000000001,
           1.4500000000000002,
           1.5,
           1.55,
           1.6,
           1.6500000000000001,
           1.7000000000000002,
           1.75,
           1.8,
           1.85,
           1.9000000000000001,
           1.9500000000000002,
           2,
           2.0500000000000003,
           2.1,
           2.15,
           2.2,
           2.25,
           2.3000000000000003,
           2.35,
           2.4000000000000004,
           2.45,
           2.5,
           2.5500000000000003,
           2.6,
           2.6500000000000004,
           2.7,
           2.75
          ],
          "sizemode": "area",
          "sizeref": 0.006875,
          "symbol": "circle"
         },
         "mode": "markers",
         "name": "True more pos",
         "scene": "scene",
         "showlegend": true,
         "type": "scatter3d",
         "x": [
          3.2207984531176352,
          4.555643357526379,
          6.5435403706422814,
          9.569802639749646,
          11.439038148123302,
          10.454769830986269,
          9.76701640106805,
          8.914804576564263,
          7.621590159419245,
          9.62689900707763,
          11.777644352764671,
          12.079803410257451,
          11.038266658425558,
          10.906651100385861,
          9.291244528588956,
          10.350040285255618,
          12.679855088173886,
          13.071954612567076,
          12.65381357589946,
          12.038497759086034,
          10.68631145829728,
          9.752197329685906,
          10.655851886630776,
          10.675890280123548,
          10.934642524611988,
          11.098465750857773,
          11.125230682570521,
          11.858666018472418,
          12.495284440057176
         ],
         "y": [
          8.949737395432985,
          10.493504622311,
          13.385697314637234,
          15.626598249714984,
          13.922686200972375,
          9.668627611933136,
          6.402285866612469,
          4.5913459859882995,
          5.127444163778997,
          5.633953098293308,
          5.370187679972608,
          4.413857289597134,
          3.427988930087245,
          2.8492928019854116,
          6.572868797215035,
          9.446021889948872,
          9.495148368017695,
          8.716649189640089,
          11.917230975691165,
          15.847132026571163,
          16.17655667274614,
          15.548365567553647,
          14.86662492128343,
          13.097567367854003,
          11.846498741840524,
          10.790556987056997,
          10.87255932061919,
          9.162962039932607,
          8.696919777123039
         ],
         "z": [
          -8.675577834711314,
          -10.247434030451366,
          -9.081418068180191,
          -3.96491220388588,
          1.006686196802831,
          1.9453421434848002,
          1.1174617258536326,
          3.5005332699609935,
          8.670835881978169,
          11.309086127016538,
          12.304857744099003,
          12.822135714466704,
          11.488454370684229,
          11.647834686122366,
          8.947809701439809,
          6.927229353103166,
          6.9695002828038835,
          7.718884909362941,
          4.936280551461296,
          -0.4337724625238728,
          -4.228048369068437,
          -4.468611182143839,
          -2.5597094255318074,
          4.51337213062002,
          8.909674244725947,
          8.078912320956515,
          5.667069617631142,
          3.6681494312753262,
          1.9039970812146392
         ]
        }
       ],
       "layout": {
        "legend": {
         "itemsizing": "constant",
         "title": {
          "text": "Condition"
         },
         "tracegroupgap": 0
        },
        "margin": {
         "t": 60
        },
        "scene": {
         "domain": {
          "x": [
           0,
           1
          ],
          "y": [
           0,
           1
          ]
         },
         "xaxis": {
          "title": {
           "text": "PC1"
          }
         },
         "yaxis": {
          "title": {
           "text": "PC2"
          }
         },
         "zaxis": {
          "title": {
           "text": "PC3"
          }
         }
        },
        "template": {
         "data": {
          "bar": [
           {
            "error_x": {
             "color": "#2a3f5f"
            },
            "error_y": {
             "color": "#2a3f5f"
            },
            "marker": {
             "line": {
              "color": "#E5ECF6",
              "width": 0.5
             },
             "pattern": {
              "fillmode": "overlay",
              "size": 10,
              "solidity": 0.2
             }
            },
            "type": "bar"
           }
          ],
          "barpolar": [
           {
            "marker": {
             "line": {
              "color": "#E5ECF6",
              "width": 0.5
             },
             "pattern": {
              "fillmode": "overlay",
              "size": 10,
              "solidity": 0.2
             }
            },
            "type": "barpolar"
           }
          ],
          "carpet": [
           {
            "aaxis": {
             "endlinecolor": "#2a3f5f",
             "gridcolor": "white",
             "linecolor": "white",
             "minorgridcolor": "white",
             "startlinecolor": "#2a3f5f"
            },
            "baxis": {
             "endlinecolor": "#2a3f5f",
             "gridcolor": "white",
             "linecolor": "white",
             "minorgridcolor": "white",
             "startlinecolor": "#2a3f5f"
            },
            "type": "carpet"
           }
          ],
          "choropleth": [
           {
            "colorbar": {
             "outlinewidth": 0,
             "ticks": ""
            },
            "type": "choropleth"
           }
          ],
          "contour": [
           {
            "colorbar": {
             "outlinewidth": 0,
             "ticks": ""
            },
            "colorscale": [
             [
              0,
              "#0d0887"
             ],
             [
              0.1111111111111111,
              "#46039f"
             ],
             [
              0.2222222222222222,
              "#7201a8"
             ],
             [
              0.3333333333333333,
              "#9c179e"
             ],
             [
              0.4444444444444444,
              "#bd3786"
             ],
             [
              0.5555555555555556,
              "#d8576b"
             ],
             [
              0.6666666666666666,
              "#ed7953"
             ],
             [
              0.7777777777777778,
              "#fb9f3a"
             ],
             [
              0.8888888888888888,
              "#fdca26"
             ],
             [
              1,
              "#f0f921"
             ]
            ],
            "type": "contour"
           }
          ],
          "contourcarpet": [
           {
            "colorbar": {
             "outlinewidth": 0,
             "ticks": ""
            },
            "type": "contourcarpet"
           }
          ],
          "heatmap": [
           {
            "colorbar": {
             "outlinewidth": 0,
             "ticks": ""
            },
            "colorscale": [
             [
              0,
              "#0d0887"
             ],
             [
              0.1111111111111111,
              "#46039f"
             ],
             [
              0.2222222222222222,
              "#7201a8"
             ],
             [
              0.3333333333333333,
              "#9c179e"
             ],
             [
              0.4444444444444444,
              "#bd3786"
             ],
             [
              0.5555555555555556,
              "#d8576b"
             ],
             [
              0.6666666666666666,
              "#ed7953"
             ],
             [
              0.7777777777777778,
              "#fb9f3a"
             ],
             [
              0.8888888888888888,
              "#fdca26"
             ],
             [
              1,
              "#f0f921"
             ]
            ],
            "type": "heatmap"
           }
          ],
          "heatmapgl": [
           {
            "colorbar": {
             "outlinewidth": 0,
             "ticks": ""
            },
            "colorscale": [
             [
              0,
              "#0d0887"
             ],
             [
              0.1111111111111111,
              "#46039f"
             ],
             [
              0.2222222222222222,
              "#7201a8"
             ],
             [
              0.3333333333333333,
              "#9c179e"
             ],
             [
              0.4444444444444444,
              "#bd3786"
             ],
             [
              0.5555555555555556,
              "#d8576b"
             ],
             [
              0.6666666666666666,
              "#ed7953"
             ],
             [
              0.7777777777777778,
              "#fb9f3a"
             ],
             [
              0.8888888888888888,
              "#fdca26"
             ],
             [
              1,
              "#f0f921"
             ]
            ],
            "type": "heatmapgl"
           }
          ],
          "histogram": [
           {
            "marker": {
             "pattern": {
              "fillmode": "overlay",
              "size": 10,
              "solidity": 0.2
             }
            },
            "type": "histogram"
           }
          ],
          "histogram2d": [
           {
            "colorbar": {
             "outlinewidth": 0,
             "ticks": ""
            },
            "colorscale": [
             [
              0,
              "#0d0887"
             ],
             [
              0.1111111111111111,
              "#46039f"
             ],
             [
              0.2222222222222222,
              "#7201a8"
             ],
             [
              0.3333333333333333,
              "#9c179e"
             ],
             [
              0.4444444444444444,
              "#bd3786"
             ],
             [
              0.5555555555555556,
              "#d8576b"
             ],
             [
              0.6666666666666666,
              "#ed7953"
             ],
             [
              0.7777777777777778,
              "#fb9f3a"
             ],
             [
              0.8888888888888888,
              "#fdca26"
             ],
             [
              1,
              "#f0f921"
             ]
            ],
            "type": "histogram2d"
           }
          ],
          "histogram2dcontour": [
           {
            "colorbar": {
             "outlinewidth": 0,
             "ticks": ""
            },
            "colorscale": [
             [
              0,
              "#0d0887"
             ],
             [
              0.1111111111111111,
              "#46039f"
             ],
             [
              0.2222222222222222,
              "#7201a8"
             ],
             [
              0.3333333333333333,
              "#9c179e"
             ],
             [
              0.4444444444444444,
              "#bd3786"
             ],
             [
              0.5555555555555556,
              "#d8576b"
             ],
             [
              0.6666666666666666,
              "#ed7953"
             ],
             [
              0.7777777777777778,
              "#fb9f3a"
             ],
             [
              0.8888888888888888,
              "#fdca26"
             ],
             [
              1,
              "#f0f921"
             ]
            ],
            "type": "histogram2dcontour"
           }
          ],
          "mesh3d": [
           {
            "colorbar": {
             "outlinewidth": 0,
             "ticks": ""
            },
            "type": "mesh3d"
           }
          ],
          "parcoords": [
           {
            "line": {
             "colorbar": {
              "outlinewidth": 0,
              "ticks": ""
             }
            },
            "type": "parcoords"
           }
          ],
          "pie": [
           {
            "automargin": true,
            "type": "pie"
           }
          ],
          "scatter": [
           {
            "fillpattern": {
             "fillmode": "overlay",
             "size": 10,
             "solidity": 0.2
            },
            "type": "scatter"
           }
          ],
          "scatter3d": [
           {
            "line": {
             "colorbar": {
              "outlinewidth": 0,
              "ticks": ""
             }
            },
            "marker": {
             "colorbar": {
              "outlinewidth": 0,
              "ticks": ""
             }
            },
            "type": "scatter3d"
           }
          ],
          "scattercarpet": [
           {
            "marker": {
             "colorbar": {
              "outlinewidth": 0,
              "ticks": ""
             }
            },
            "type": "scattercarpet"
           }
          ],
          "scattergeo": [
           {
            "marker": {
             "colorbar": {
              "outlinewidth": 0,
              "ticks": ""
             }
            },
            "type": "scattergeo"
           }
          ],
          "scattergl": [
           {
            "marker": {
             "colorbar": {
              "outlinewidth": 0,
              "ticks": ""
             }
            },
            "type": "scattergl"
           }
          ],
          "scattermapbox": [
           {
            "marker": {
             "colorbar": {
              "outlinewidth": 0,
              "ticks": ""
             }
            },
            "type": "scattermapbox"
           }
          ],
          "scatterpolar": [
           {
            "marker": {
             "colorbar": {
              "outlinewidth": 0,
              "ticks": ""
             }
            },
            "type": "scatterpolar"
           }
          ],
          "scatterpolargl": [
           {
            "marker": {
             "colorbar": {
              "outlinewidth": 0,
              "ticks": ""
             }
            },
            "type": "scatterpolargl"
           }
          ],
          "scatterternary": [
           {
            "marker": {
             "colorbar": {
              "outlinewidth": 0,
              "ticks": ""
             }
            },
            "type": "scatterternary"
           }
          ],
          "surface": [
           {
            "colorbar": {
             "outlinewidth": 0,
             "ticks": ""
            },
            "colorscale": [
             [
              0,
              "#0d0887"
             ],
             [
              0.1111111111111111,
              "#46039f"
             ],
             [
              0.2222222222222222,
              "#7201a8"
             ],
             [
              0.3333333333333333,
              "#9c179e"
             ],
             [
              0.4444444444444444,
              "#bd3786"
             ],
             [
              0.5555555555555556,
              "#d8576b"
             ],
             [
              0.6666666666666666,
              "#ed7953"
             ],
             [
              0.7777777777777778,
              "#fb9f3a"
             ],
             [
              0.8888888888888888,
              "#fdca26"
             ],
             [
              1,
              "#f0f921"
             ]
            ],
            "type": "surface"
           }
          ],
          "table": [
           {
            "cells": {
             "fill": {
              "color": "#EBF0F8"
             },
             "line": {
              "color": "white"
             }
            },
            "header": {
             "fill": {
              "color": "#C8D4E3"
             },
             "line": {
              "color": "white"
             }
            },
            "type": "table"
           }
          ]
         },
         "layout": {
          "annotationdefaults": {
           "arrowcolor": "#2a3f5f",
           "arrowhead": 0,
           "arrowwidth": 1
          },
          "autotypenumbers": "strict",
          "coloraxis": {
           "colorbar": {
            "outlinewidth": 0,
            "ticks": ""
           }
          },
          "colorscale": {
           "diverging": [
            [
             0,
             "#8e0152"
            ],
            [
             0.1,
             "#c51b7d"
            ],
            [
             0.2,
             "#de77ae"
            ],
            [
             0.3,
             "#f1b6da"
            ],
            [
             0.4,
             "#fde0ef"
            ],
            [
             0.5,
             "#f7f7f7"
            ],
            [
             0.6,
             "#e6f5d0"
            ],
            [
             0.7,
             "#b8e186"
            ],
            [
             0.8,
             "#7fbc41"
            ],
            [
             0.9,
             "#4d9221"
            ],
            [
             1,
             "#276419"
            ]
           ],
           "sequential": [
            [
             0,
             "#0d0887"
            ],
            [
             0.1111111111111111,
             "#46039f"
            ],
            [
             0.2222222222222222,
             "#7201a8"
            ],
            [
             0.3333333333333333,
             "#9c179e"
            ],
            [
             0.4444444444444444,
             "#bd3786"
            ],
            [
             0.5555555555555556,
             "#d8576b"
            ],
            [
             0.6666666666666666,
             "#ed7953"
            ],
            [
             0.7777777777777778,
             "#fb9f3a"
            ],
            [
             0.8888888888888888,
             "#fdca26"
            ],
            [
             1,
             "#f0f921"
            ]
           ],
           "sequentialminus": [
            [
             0,
             "#0d0887"
            ],
            [
             0.1111111111111111,
             "#46039f"
            ],
            [
             0.2222222222222222,
             "#7201a8"
            ],
            [
             0.3333333333333333,
             "#9c179e"
            ],
            [
             0.4444444444444444,
             "#bd3786"
            ],
            [
             0.5555555555555556,
             "#d8576b"
            ],
            [
             0.6666666666666666,
             "#ed7953"
            ],
            [
             0.7777777777777778,
             "#fb9f3a"
            ],
            [
             0.8888888888888888,
             "#fdca26"
            ],
            [
             1,
             "#f0f921"
            ]
           ]
          },
          "colorway": [
           "#636efa",
           "#EF553B",
           "#00cc96",
           "#ab63fa",
           "#FFA15A",
           "#19d3f3",
           "#FF6692",
           "#B6E880",
           "#FF97FF",
           "#FECB52"
          ],
          "font": {
           "color": "#2a3f5f"
          },
          "geo": {
           "bgcolor": "white",
           "lakecolor": "white",
           "landcolor": "#E5ECF6",
           "showlakes": true,
           "showland": true,
           "subunitcolor": "white"
          },
          "hoverlabel": {
           "align": "left"
          },
          "hovermode": "closest",
          "mapbox": {
           "style": "light"
          },
          "paper_bgcolor": "white",
          "plot_bgcolor": "#E5ECF6",
          "polar": {
           "angularaxis": {
            "gridcolor": "white",
            "linecolor": "white",
            "ticks": ""
           },
           "bgcolor": "#E5ECF6",
           "radialaxis": {
            "gridcolor": "white",
            "linecolor": "white",
            "ticks": ""
           }
          },
          "scene": {
           "xaxis": {
            "backgroundcolor": "#E5ECF6",
            "gridcolor": "white",
            "gridwidth": 2,
            "linecolor": "white",
            "showbackground": true,
            "ticks": "",
            "zerolinecolor": "white"
           },
           "yaxis": {
            "backgroundcolor": "#E5ECF6",
            "gridcolor": "white",
            "gridwidth": 2,
            "linecolor": "white",
            "showbackground": true,
            "ticks": "",
            "zerolinecolor": "white"
           },
           "zaxis": {
            "backgroundcolor": "#E5ECF6",
            "gridcolor": "white",
            "gridwidth": 2,
            "linecolor": "white",
            "showbackground": true,
            "ticks": "",
            "zerolinecolor": "white"
           }
          },
          "shapedefaults": {
           "line": {
            "color": "#2a3f5f"
           }
          },
          "ternary": {
           "aaxis": {
            "gridcolor": "white",
            "linecolor": "white",
            "ticks": ""
           },
           "baxis": {
            "gridcolor": "white",
            "linecolor": "white",
            "ticks": ""
           },
           "bgcolor": "#E5ECF6",
           "caxis": {
            "gridcolor": "white",
            "linecolor": "white",
            "ticks": ""
           }
          },
          "title": {
           "x": 0.05
          },
          "xaxis": {
           "automargin": true,
           "gridcolor": "white",
           "linecolor": "white",
           "ticks": "",
           "title": {
            "standoff": 15
           },
           "zerolinecolor": "white",
           "zerolinewidth": 2
          },
          "yaxis": {
           "automargin": true,
           "gridcolor": "white",
           "linecolor": "white",
           "ticks": "",
           "title": {
            "standoff": 15
           },
           "zerolinecolor": "white",
           "zerolinewidth": 2
          }
         }
        }
       }
      },
      "text/html": [
       "<div>                            <div id=\"b4e3bb4a-0959-47fd-b1ba-1045c1ad71c5\" class=\"plotly-graph-div\" style=\"height:525px; width:100%;\"></div>            <script type=\"text/javascript\">                require([\"plotly\"], function(Plotly) {                    window.PLOTLYENV=window.PLOTLYENV || {};                                    if (document.getElementById(\"b4e3bb4a-0959-47fd-b1ba-1045c1ad71c5\")) {                    Plotly.newPlot(                        \"b4e3bb4a-0959-47fd-b1ba-1045c1ad71c5\",                        [{\"hovertemplate\":\"Condition=False less pos<br>PC1=%{x}<br>PC2=%{y}<br>PC3=%{z}<br>TimeBins=%{marker.size}<extra></extra>\",\"legendgroup\":\"False less pos\",\"marker\":{\"color\":\"#636efa\",\"opacity\":1,\"size\":[1.35,1.4000000000000001,1.4500000000000002,1.5,1.55,1.6,1.6500000000000001,1.7000000000000002,1.75,1.8,1.85,1.9000000000000001,1.9500000000000002,2.0,2.0500000000000003,2.1,2.15,2.2,2.25,2.3000000000000003,2.35,2.4000000000000004,2.45,2.5,2.5500000000000003,2.6,2.6500000000000004,2.7,2.75],\"sizemode\":\"area\",\"sizeref\":0.006875,\"symbol\":\"circle\"},\"mode\":\"markers\",\"name\":\"False less pos\",\"scene\":\"scene\",\"showlegend\":true,\"x\":[-5.142812572288568,-6.685840671649972,-7.3388266963760564,-8.150414297885568,-8.205898400382246,-7.376631364568934,-5.994980831498554,-4.825460612010223,-5.460868596698729,-6.739548195221953,-7.964589782994287,-8.223920217642418,-8.94066044920634,-7.017711690209971,-7.882503098507175,-7.845984478415709,-9.720755937131043,-10.269513437552233,-10.41904569684719,-9.490653702796447,-9.563082390728345,-9.170037107129923,-7.450522077923307,-7.688313620807557,-8.44297460108815,-8.239759741159139,-7.5415397715285755,-8.57482571671295,-8.446742443193239],\"y\":[-6.078816148302134,-5.419007019999742,-5.314696824580961,-4.727758724606525,-4.090016102438742,-4.692932084886506,-3.4336755699289214,-1.014026851676895,1.431559701410134,0.7875320937258905,-1.6477319362936,-0.6187653536370067,0.9785861516490476,1.2689772405884272,1.2430416306516672,-1.749450215657311,-2.379172776846888,-0.368691197739671,0.9842093828502465,1.547369621534521,1.7503211148878697,1.8219912824084652,1.9249927572686087,2.6212448309417082,2.0399960477838377,1.1028270622329068,1.491777775406015,0.03913601890478016,0.4909490614794674],\"z\":[12.89609575899755,14.230693247691116,14.199448679755283,12.492009953797082,11.764701827890672,15.936470792087738,14.643954082609724,9.201276536289296,2.832637305901419,2.2627248953358343,3.0572655726710347,0.7870557489679989,-1.0980814473655731,-1.1967601671239598,-2.4154812511488624,-1.5162438200391906,-1.1936891348679466,-2.08220105919623,-5.833131025761861,-8.217628544833623,-7.662420900908433,-8.298748849830986,-7.554615982454607,-3.3951163466563403,0.10525452052318851,-1.8276207327202476,-4.05905125086238,-2.8913223232497147,-1.6336291130848395],\"type\":\"scatter3d\"},{\"hovertemplate\":\"Condition=False more pos<br>PC1=%{x}<br>PC2=%{y}<br>PC3=%{z}<br>TimeBins=%{marker.size}<extra></extra>\",\"legendgroup\":\"False more pos\",\"marker\":{\"color\":\"#EF553B\",\"opacity\":1,\"size\":[1.35,1.4000000000000001,1.4500000000000002,1.5,1.55,1.6,1.6500000000000001,1.7000000000000002,1.75,1.8,1.85,1.9000000000000001,1.9500000000000002,2.0,2.0500000000000003,2.1,2.15,2.2,2.25,2.3000000000000003,2.35,2.4000000000000004,2.45,2.5,2.5500000000000003,2.6,2.6500000000000004,2.7,2.75],\"sizemode\":\"area\",\"sizeref\":0.006875,\"symbol\":\"circle\"},\"mode\":\"markers\",\"name\":\"False more pos\",\"scene\":\"scene\",\"showlegend\":true,\"x\":[-1.7465276409435464,-1.7092445365981273,-2.270145147933021,-3.8820460691703382,-3.203625670235386,-2.2432249553359744,-1.4449423082848636,-1.1535550440224935,-1.9147179507146936,-2.1341458313508603,-4.399160510300048,-7.352380455554744,-8.227793511545876,-6.412932395624869,-5.459566134979771,-4.1592167090900904,-4.146307165868557,-5.982008090180322,-6.645760152654333,-4.736251313337995,-4.57958079993622,-5.153608826485991,-5.213396002727874,-5.66803585139772,-5.043251691017512,-4.756889344959733,-4.712613507372537,-3.972323971727093,-3.6908370715658743],\"y\":[-0.8232304637357256,-2.658360099336214,-2.5257161012340763,-3.033277958626835,-4.294497967355918,-4.0708382721974585,-3.2780565040940495,-3.2632347352178206,-2.136895350483377,-0.237218449790443,2.7635573438988468,3.7249413472574404,1.799732954634478,-1.2277154269991644,-0.6091451815479553,-0.4575632753598321,-1.6139048477942968,-2.604107227125244,-1.9714821780592193,-0.6619677456202491,-0.9578025774769199,-0.11410771943293725,2.1980289821099315,2.766612856405813,3.921118977386716,5.465930430152201,9.561624736116368,10.921734976816326,8.970446003927494],\"z\":[7.647033198555329,7.078416127409731,4.657645779191154,2.783263782343742,1.2315313011809081,1.124239819946243,4.80370462802083,7.739639169382337,7.636049800085401,6.73704344742165,4.457838607082504,0.515247920743566,-3.2833630775729494,-4.358445028479125,-8.520674294026065,-8.174441071262311,-4.24866062758625,-0.9853788247681878,0.7145447152489515,4.260645042067951,8.700856536019224,9.575892735409075,6.33875875966369,0.8441556942722326,-4.818410566153813,-6.8320078606354935,-6.838390930861239,-6.137506711951281,-5.3147317032649],\"type\":\"scatter3d\"},{\"hovertemplate\":\"Condition=True less pos<br>PC1=%{x}<br>PC2=%{y}<br>PC3=%{z}<br>TimeBins=%{marker.size}<extra></extra>\",\"legendgroup\":\"True less pos\",\"marker\":{\"color\":\"#00cc96\",\"opacity\":1,\"size\":[1.35,1.4000000000000001,1.4500000000000002,1.5,1.55,1.6,1.6500000000000001,1.7000000000000002,1.75,1.8,1.85,1.9000000000000001,1.9500000000000002,2.0,2.0500000000000003,2.1,2.15,2.2,2.25,2.3000000000000003,2.35,2.4000000000000004,2.45,2.5,2.5500000000000003,2.6,2.6500000000000004,2.7,2.75],\"sizemode\":\"area\",\"sizeref\":0.006875,\"symbol\":\"circle\"},\"mode\":\"markers\",\"name\":\"True less pos\",\"scene\":\"scene\",\"showlegend\":true,\"x\":[4.90636728848944,5.917425929089362,6.188837033784143,5.848009251428142,6.590945823185655,8.663573688311486,10.528721557362063,12.52276186438995,13.115804425374616,12.12248791013779,10.90647948676286,11.455007891991677,10.177329112233455,11.211155399585625,10.636978208806049,13.364247307178728,15.654068342673988,16.17089774682918,14.53733079432671,13.89773752645239,14.065420305856044,15.02542322812409,16.254913387658647,16.52147884616234,15.941412728904265,13.949081364071256,12.323939394526715,10.714857416792245,10.384880052905109],\"y\":[-1.9982288037110836,-1.4182908082168133,-0.2942547368410471,-1.6180468029556994,-3.6573033248290803,-4.82260751246623,-5.7116889787767695,-9.592073403463848,-12.65291493735188,-12.578010715903599,-12.112183010537391,-12.016569103902777,-12.74437865704007,-12.549888628504258,-9.771155865833961,-9.778707703103489,-9.981890829857377,-10.78443342479587,-11.381566115319275,-10.375155299177447,-8.718880179554493,-6.4162022445391145,-5.087613305065918,-4.522745756389962,-4.632993126218058,-6.438835983698026,-6.642505941075421,-6.416098252314128,-4.276723439842495],\"z\":[-0.6498710870797099,-1.824307104041161,-2.5050298519450434,-2.3036712431885413,-3.5807158914133423,-3.3501138596533373,-3.1831839252326866,-0.3846439473947507,-0.2201140815800584,-1.771675773111241,-5.069324488292615,-6.4660974777797025,-3.8405245079405774,0.5843957509727272,0.4629829901979849,-1.0912004056486075,-2.820050895220628,-2.4307643914826005,-0.9351490619530535,2.2408995194641066,5.105003512157928,1.7803389816199535,-3.6594150029511674,-6.813317491537719,-6.86953047475775,-5.318949383168279,-4.188738477511531,-3.627730506145491,-3.209273950341882],\"type\":\"scatter3d\"},{\"hovertemplate\":\"Condition=True more pos<br>PC1=%{x}<br>PC2=%{y}<br>PC3=%{z}<br>TimeBins=%{marker.size}<extra></extra>\",\"legendgroup\":\"True more pos\",\"marker\":{\"color\":\"#ab63fa\",\"opacity\":1,\"size\":[1.35,1.4000000000000001,1.4500000000000002,1.5,1.55,1.6,1.6500000000000001,1.7000000000000002,1.75,1.8,1.85,1.9000000000000001,1.9500000000000002,2.0,2.0500000000000003,2.1,2.15,2.2,2.25,2.3000000000000003,2.35,2.4000000000000004,2.45,2.5,2.5500000000000003,2.6,2.6500000000000004,2.7,2.75],\"sizemode\":\"area\",\"sizeref\":0.006875,\"symbol\":\"circle\"},\"mode\":\"markers\",\"name\":\"True more pos\",\"scene\":\"scene\",\"showlegend\":true,\"x\":[3.2207984531176352,4.555643357526379,6.5435403706422814,9.569802639749646,11.439038148123302,10.454769830986269,9.76701640106805,8.914804576564263,7.621590159419245,9.62689900707763,11.777644352764671,12.079803410257451,11.038266658425558,10.906651100385861,9.291244528588956,10.350040285255618,12.679855088173886,13.071954612567076,12.65381357589946,12.038497759086034,10.68631145829728,9.752197329685906,10.655851886630776,10.675890280123548,10.934642524611988,11.098465750857773,11.125230682570521,11.858666018472418,12.495284440057176],\"y\":[8.949737395432985,10.493504622311,13.385697314637234,15.626598249714984,13.922686200972375,9.668627611933136,6.402285866612469,4.5913459859882995,5.127444163778997,5.633953098293308,5.370187679972608,4.413857289597134,3.427988930087245,2.8492928019854116,6.572868797215035,9.446021889948872,9.495148368017695,8.716649189640089,11.917230975691165,15.847132026571163,16.17655667274614,15.548365567553647,14.86662492128343,13.097567367854003,11.846498741840524,10.790556987056997,10.87255932061919,9.162962039932607,8.696919777123039],\"z\":[-8.675577834711314,-10.247434030451366,-9.081418068180191,-3.96491220388588,1.006686196802831,1.9453421434848002,1.1174617258536326,3.5005332699609935,8.670835881978169,11.309086127016538,12.304857744099003,12.822135714466704,11.488454370684229,11.647834686122366,8.947809701439809,6.927229353103166,6.9695002828038835,7.718884909362941,4.936280551461296,-0.4337724625238728,-4.228048369068437,-4.468611182143839,-2.5597094255318074,4.51337213062002,8.909674244725947,8.078912320956515,5.667069617631142,3.6681494312753262,1.9039970812146392],\"type\":\"scatter3d\"}],                        {\"template\":{\"data\":{\"histogram2dcontour\":[{\"type\":\"histogram2dcontour\",\"colorbar\":{\"outlinewidth\":0,\"ticks\":\"\"},\"colorscale\":[[0.0,\"#0d0887\"],[0.1111111111111111,\"#46039f\"],[0.2222222222222222,\"#7201a8\"],[0.3333333333333333,\"#9c179e\"],[0.4444444444444444,\"#bd3786\"],[0.5555555555555556,\"#d8576b\"],[0.6666666666666666,\"#ed7953\"],[0.7777777777777778,\"#fb9f3a\"],[0.8888888888888888,\"#fdca26\"],[1.0,\"#f0f921\"]]}],\"choropleth\":[{\"type\":\"choropleth\",\"colorbar\":{\"outlinewidth\":0,\"ticks\":\"\"}}],\"histogram2d\":[{\"type\":\"histogram2d\",\"colorbar\":{\"outlinewidth\":0,\"ticks\":\"\"},\"colorscale\":[[0.0,\"#0d0887\"],[0.1111111111111111,\"#46039f\"],[0.2222222222222222,\"#7201a8\"],[0.3333333333333333,\"#9c179e\"],[0.4444444444444444,\"#bd3786\"],[0.5555555555555556,\"#d8576b\"],[0.6666666666666666,\"#ed7953\"],[0.7777777777777778,\"#fb9f3a\"],[0.8888888888888888,\"#fdca26\"],[1.0,\"#f0f921\"]]}],\"heatmap\":[{\"type\":\"heatmap\",\"colorbar\":{\"outlinewidth\":0,\"ticks\":\"\"},\"colorscale\":[[0.0,\"#0d0887\"],[0.1111111111111111,\"#46039f\"],[0.2222222222222222,\"#7201a8\"],[0.3333333333333333,\"#9c179e\"],[0.4444444444444444,\"#bd3786\"],[0.5555555555555556,\"#d8576b\"],[0.6666666666666666,\"#ed7953\"],[0.7777777777777778,\"#fb9f3a\"],[0.8888888888888888,\"#fdca26\"],[1.0,\"#f0f921\"]]}],\"heatmapgl\":[{\"type\":\"heatmapgl\",\"colorbar\":{\"outlinewidth\":0,\"ticks\":\"\"},\"colorscale\":[[0.0,\"#0d0887\"],[0.1111111111111111,\"#46039f\"],[0.2222222222222222,\"#7201a8\"],[0.3333333333333333,\"#9c179e\"],[0.4444444444444444,\"#bd3786\"],[0.5555555555555556,\"#d8576b\"],[0.6666666666666666,\"#ed7953\"],[0.7777777777777778,\"#fb9f3a\"],[0.8888888888888888,\"#fdca26\"],[1.0,\"#f0f921\"]]}],\"contourcarpet\":[{\"type\":\"contourcarpet\",\"colorbar\":{\"outlinewidth\":0,\"ticks\":\"\"}}],\"contour\":[{\"type\":\"contour\",\"colorbar\":{\"outlinewidth\":0,\"ticks\":\"\"},\"colorscale\":[[0.0,\"#0d0887\"],[0.1111111111111111,\"#46039f\"],[0.2222222222222222,\"#7201a8\"],[0.3333333333333333,\"#9c179e\"],[0.4444444444444444,\"#bd3786\"],[0.5555555555555556,\"#d8576b\"],[0.6666666666666666,\"#ed7953\"],[0.7777777777777778,\"#fb9f3a\"],[0.8888888888888888,\"#fdca26\"],[1.0,\"#f0f921\"]]}],\"surface\":[{\"type\":\"surface\",\"colorbar\":{\"outlinewidth\":0,\"ticks\":\"\"},\"colorscale\":[[0.0,\"#0d0887\"],[0.1111111111111111,\"#46039f\"],[0.2222222222222222,\"#7201a8\"],[0.3333333333333333,\"#9c179e\"],[0.4444444444444444,\"#bd3786\"],[0.5555555555555556,\"#d8576b\"],[0.6666666666666666,\"#ed7953\"],[0.7777777777777778,\"#fb9f3a\"],[0.8888888888888888,\"#fdca26\"],[1.0,\"#f0f921\"]]}],\"mesh3d\":[{\"type\":\"mesh3d\",\"colorbar\":{\"outlinewidth\":0,\"ticks\":\"\"}}],\"scatter\":[{\"fillpattern\":{\"fillmode\":\"overlay\",\"size\":10,\"solidity\":0.2},\"type\":\"scatter\"}],\"parcoords\":[{\"type\":\"parcoords\",\"line\":{\"colorbar\":{\"outlinewidth\":0,\"ticks\":\"\"}}}],\"scatterpolargl\":[{\"type\":\"scatterpolargl\",\"marker\":{\"colorbar\":{\"outlinewidth\":0,\"ticks\":\"\"}}}],\"bar\":[{\"error_x\":{\"color\":\"#2a3f5f\"},\"error_y\":{\"color\":\"#2a3f5f\"},\"marker\":{\"line\":{\"color\":\"#E5ECF6\",\"width\":0.5},\"pattern\":{\"fillmode\":\"overlay\",\"size\":10,\"solidity\":0.2}},\"type\":\"bar\"}],\"scattergeo\":[{\"type\":\"scattergeo\",\"marker\":{\"colorbar\":{\"outlinewidth\":0,\"ticks\":\"\"}}}],\"scatterpolar\":[{\"type\":\"scatterpolar\",\"marker\":{\"colorbar\":{\"outlinewidth\":0,\"ticks\":\"\"}}}],\"histogram\":[{\"marker\":{\"pattern\":{\"fillmode\":\"overlay\",\"size\":10,\"solidity\":0.2}},\"type\":\"histogram\"}],\"scattergl\":[{\"type\":\"scattergl\",\"marker\":{\"colorbar\":{\"outlinewidth\":0,\"ticks\":\"\"}}}],\"scatter3d\":[{\"type\":\"scatter3d\",\"line\":{\"colorbar\":{\"outlinewidth\":0,\"ticks\":\"\"}},\"marker\":{\"colorbar\":{\"outlinewidth\":0,\"ticks\":\"\"}}}],\"scattermapbox\":[{\"type\":\"scattermapbox\",\"marker\":{\"colorbar\":{\"outlinewidth\":0,\"ticks\":\"\"}}}],\"scatterternary\":[{\"type\":\"scatterternary\",\"marker\":{\"colorbar\":{\"outlinewidth\":0,\"ticks\":\"\"}}}],\"scattercarpet\":[{\"type\":\"scattercarpet\",\"marker\":{\"colorbar\":{\"outlinewidth\":0,\"ticks\":\"\"}}}],\"carpet\":[{\"aaxis\":{\"endlinecolor\":\"#2a3f5f\",\"gridcolor\":\"white\",\"linecolor\":\"white\",\"minorgridcolor\":\"white\",\"startlinecolor\":\"#2a3f5f\"},\"baxis\":{\"endlinecolor\":\"#2a3f5f\",\"gridcolor\":\"white\",\"linecolor\":\"white\",\"minorgridcolor\":\"white\",\"startlinecolor\":\"#2a3f5f\"},\"type\":\"carpet\"}],\"table\":[{\"cells\":{\"fill\":{\"color\":\"#EBF0F8\"},\"line\":{\"color\":\"white\"}},\"header\":{\"fill\":{\"color\":\"#C8D4E3\"},\"line\":{\"color\":\"white\"}},\"type\":\"table\"}],\"barpolar\":[{\"marker\":{\"line\":{\"color\":\"#E5ECF6\",\"width\":0.5},\"pattern\":{\"fillmode\":\"overlay\",\"size\":10,\"solidity\":0.2}},\"type\":\"barpolar\"}],\"pie\":[{\"automargin\":true,\"type\":\"pie\"}]},\"layout\":{\"autotypenumbers\":\"strict\",\"colorway\":[\"#636efa\",\"#EF553B\",\"#00cc96\",\"#ab63fa\",\"#FFA15A\",\"#19d3f3\",\"#FF6692\",\"#B6E880\",\"#FF97FF\",\"#FECB52\"],\"font\":{\"color\":\"#2a3f5f\"},\"hovermode\":\"closest\",\"hoverlabel\":{\"align\":\"left\"},\"paper_bgcolor\":\"white\",\"plot_bgcolor\":\"#E5ECF6\",\"polar\":{\"bgcolor\":\"#E5ECF6\",\"angularaxis\":{\"gridcolor\":\"white\",\"linecolor\":\"white\",\"ticks\":\"\"},\"radialaxis\":{\"gridcolor\":\"white\",\"linecolor\":\"white\",\"ticks\":\"\"}},\"ternary\":{\"bgcolor\":\"#E5ECF6\",\"aaxis\":{\"gridcolor\":\"white\",\"linecolor\":\"white\",\"ticks\":\"\"},\"baxis\":{\"gridcolor\":\"white\",\"linecolor\":\"white\",\"ticks\":\"\"},\"caxis\":{\"gridcolor\":\"white\",\"linecolor\":\"white\",\"ticks\":\"\"}},\"coloraxis\":{\"colorbar\":{\"outlinewidth\":0,\"ticks\":\"\"}},\"colorscale\":{\"sequential\":[[0.0,\"#0d0887\"],[0.1111111111111111,\"#46039f\"],[0.2222222222222222,\"#7201a8\"],[0.3333333333333333,\"#9c179e\"],[0.4444444444444444,\"#bd3786\"],[0.5555555555555556,\"#d8576b\"],[0.6666666666666666,\"#ed7953\"],[0.7777777777777778,\"#fb9f3a\"],[0.8888888888888888,\"#fdca26\"],[1.0,\"#f0f921\"]],\"sequentialminus\":[[0.0,\"#0d0887\"],[0.1111111111111111,\"#46039f\"],[0.2222222222222222,\"#7201a8\"],[0.3333333333333333,\"#9c179e\"],[0.4444444444444444,\"#bd3786\"],[0.5555555555555556,\"#d8576b\"],[0.6666666666666666,\"#ed7953\"],[0.7777777777777778,\"#fb9f3a\"],[0.8888888888888888,\"#fdca26\"],[1.0,\"#f0f921\"]],\"diverging\":[[0,\"#8e0152\"],[0.1,\"#c51b7d\"],[0.2,\"#de77ae\"],[0.3,\"#f1b6da\"],[0.4,\"#fde0ef\"],[0.5,\"#f7f7f7\"],[0.6,\"#e6f5d0\"],[0.7,\"#b8e186\"],[0.8,\"#7fbc41\"],[0.9,\"#4d9221\"],[1,\"#276419\"]]},\"xaxis\":{\"gridcolor\":\"white\",\"linecolor\":\"white\",\"ticks\":\"\",\"title\":{\"standoff\":15},\"zerolinecolor\":\"white\",\"automargin\":true,\"zerolinewidth\":2},\"yaxis\":{\"gridcolor\":\"white\",\"linecolor\":\"white\",\"ticks\":\"\",\"title\":{\"standoff\":15},\"zerolinecolor\":\"white\",\"automargin\":true,\"zerolinewidth\":2},\"scene\":{\"xaxis\":{\"backgroundcolor\":\"#E5ECF6\",\"gridcolor\":\"white\",\"linecolor\":\"white\",\"showbackground\":true,\"ticks\":\"\",\"zerolinecolor\":\"white\",\"gridwidth\":2},\"yaxis\":{\"backgroundcolor\":\"#E5ECF6\",\"gridcolor\":\"white\",\"linecolor\":\"white\",\"showbackground\":true,\"ticks\":\"\",\"zerolinecolor\":\"white\",\"gridwidth\":2},\"zaxis\":{\"backgroundcolor\":\"#E5ECF6\",\"gridcolor\":\"white\",\"linecolor\":\"white\",\"showbackground\":true,\"ticks\":\"\",\"zerolinecolor\":\"white\",\"gridwidth\":2}},\"shapedefaults\":{\"line\":{\"color\":\"#2a3f5f\"}},\"annotationdefaults\":{\"arrowcolor\":\"#2a3f5f\",\"arrowhead\":0,\"arrowwidth\":1},\"geo\":{\"bgcolor\":\"white\",\"landcolor\":\"#E5ECF6\",\"subunitcolor\":\"white\",\"showland\":true,\"showlakes\":true,\"lakecolor\":\"white\"},\"title\":{\"x\":0.05},\"mapbox\":{\"style\":\"light\"}}},\"scene\":{\"domain\":{\"x\":[0.0,1.0],\"y\":[0.0,1.0]},\"xaxis\":{\"title\":{\"text\":\"PC1\"}},\"yaxis\":{\"title\":{\"text\":\"PC2\"}},\"zaxis\":{\"title\":{\"text\":\"PC3\"}}},\"legend\":{\"title\":{\"text\":\"Condition\"},\"tracegroupgap\":0,\"itemsizing\":\"constant\"},\"margin\":{\"t\":60}},                        {\"responsive\": true}                    ).then(function(){\n",
       "                            \n",
       "var gd = document.getElementById('b4e3bb4a-0959-47fd-b1ba-1045c1ad71c5');\n",
       "var x = new MutationObserver(function (mutations, observer) {{\n",
       "        var display = window.getComputedStyle(gd).display;\n",
       "        if (!display || display === 'none') {{\n",
       "            console.log([gd, 'removed!']);\n",
       "            Plotly.purge(gd);\n",
       "            observer.disconnect();\n",
       "        }}\n",
       "}});\n",
       "\n",
       "// Listen for the removal of the full notebook cells\n",
       "var notebookContainer = gd.closest('#notebook-container');\n",
       "if (notebookContainer) {{\n",
       "    x.observe(notebookContainer, {childList: true});\n",
       "}}\n",
       "\n",
       "// Listen for the clearing of the current output cell\n",
       "var outputEl = gd.closest('.output');\n",
       "if (outputEl) {{\n",
       "    x.observe(outputEl, {childList: true});\n",
       "}}\n",
       "\n",
       "                        })                };                });            </script>        </div>"
      ]
     },
     "metadata": {},
     "output_type": "display_data"
    }
   ],
   "source": [
    "fig = px.scatter_3d(\n",
    "    transformed_df, \n",
    "    x='PC1', y='PC2', z='PC3',\n",
    "    color='Condition', \n",
    "    opacity=1,\n",
    "    size='TimeBins',\n",
    "    # color_discrete_sequence=colors\n",
    ")\n",
    "fig.show()\n"
   ]
  },
  {
   "cell_type": "markdown",
   "metadata": {},
   "source": [
    "### Do it for two features at once, SQUARE and TRIANGLE"
   ]
  },
  {
   "cell_type": "code",
   "execution_count": 23,
   "metadata": {},
   "outputs": [],
   "source": [
    "# FEATURE_1 = \"SQUARE\"\n",
    "# FEATURE_2 = \"TRIANGLE\"\n",
    "FEATURE_1 = \"MAGENTA\"\n",
    "FEATURE_2 = \"YELLOW\"\n",
    "feat_1_res = valid_sess.apply(lambda x: validate_and_label_sessions(x, FEATURE_1, region_units, shuffle=False, balance=True), axis=1)\n",
    "feat_1_res = feat_1_res.dropna()\n",
    "feat_2_res = valid_sess.apply(lambda x: validate_and_label_sessions(x, FEATURE_2, region_units, shuffle=False, balance=True), axis=1)\n",
    "feat_2_res = feat_2_res.dropna()\n"
   ]
  },
  {
   "cell_type": "code",
   "execution_count": 10,
   "metadata": {},
   "outputs": [
    {
     "name": "stdout",
     "output_type": "stream",
     "text": [
      "Int64Index([15, 17, 39, 43, 44, 68, 74, 93, 97], dtype='int64')\n"
     ]
    }
   ],
   "source": [
    "print(feat_1_res[feat_1_res.index.isin(feat_2_res.index)].index)"
   ]
  },
  {
   "cell_type": "code",
   "execution_count": 24,
   "metadata": {},
   "outputs": [],
   "source": [
    "feat_1_trials = pd.concat(feat_1_res[feat_1_res.index.isin(feat_2_res.index)].values)\n",
    "feat_2_trials = pd.concat(feat_2_res[feat_2_res.index.isin(feat_1_res.index)].values)\n",
    "feat_1_trials[\"Condition\"] = FEATURE_1 + \" \" + feat_1_trials.Condition\n",
    "feat_2_trials[\"Condition\"] = FEATURE_2 + \" \" + feat_2_trials.Condition\n",
    "all_trials = pd.concat((feat_1_trials, feat_2_trials))"
   ]
  },
  {
   "cell_type": "code",
   "execution_count": 25,
   "metadata": {},
   "outputs": [],
   "source": [
    "all_trials = all_trials[all_trials.TimeBins > 1.3]"
   ]
  },
  {
   "cell_type": "code",
   "execution_count": 26,
   "metadata": {},
   "outputs": [],
   "source": [
    "all_trials.Condition.unique()\n",
    "true_conds = [FEATURE_1 + ' True less pos', FEATURE_1 + ' True more pos', FEATURE_2 + ' True less pos', FEATURE_2 + ' True more pos']\n",
    "false_conds = [FEATURE_1 + ' False less pos', FEATURE_1 + ' False more pos', FEATURE_2 + ' False less pos', FEATURE_2 + ' False more pos']\n",
    "true_trials = all_trials[all_trials.Condition.isin(true_conds)]\n",
    "false_trials = all_trials[all_trials.Condition.isin(false_conds)]\n"
   ]
  },
  {
   "cell_type": "code",
   "execution_count": 27,
   "metadata": {},
   "outputs": [
    {
     "data": {
      "text/plain": [
       "Condition\n",
       "MAGENTA False less pos    280\n",
       "MAGENTA False more pos    280\n",
       "MAGENTA True less pos     280\n",
       "MAGENTA True more pos     280\n",
       "YELLOW False less pos     280\n",
       "YELLOW False more pos     280\n",
       "YELLOW True less pos      280\n",
       "YELLOW True more pos      280\n",
       "Name: PseudoUnitID, dtype: int64"
      ]
     },
     "execution_count": 27,
     "metadata": {},
     "output_type": "execute_result"
    }
   ],
   "source": [
    "all_trials[\"PseudoTrialNumber\"] = (all_trials.Session.astype(str) + all_trials.TrialNumber.astype(str)).astype(int)\n",
    "all_trials.groupby(\"Condition\").PseudoUnitID.nunique()"
   ]
  },
  {
   "cell_type": "code",
   "execution_count": 28,
   "metadata": {},
   "outputs": [],
   "source": [
    "transformed_df, pca_true = project_conditioned_firing_rates(true_trials)\n",
    "transformed_df[\"ZeroedTimeBins\"] = transformed_df.TimeBins - 1.3"
   ]
  },
  {
   "cell_type": "code",
   "execution_count": 29,
   "metadata": {},
   "outputs": [
    {
     "data": {
      "application/vnd.plotly.v1+json": {
       "config": {
        "plotlyServerURL": "https://plot.ly"
       },
       "data": [
        {
         "hovertemplate": "Condition=MAGENTA True less pos<br>PC1=%{x}<br>PC2=%{y}<br>PC3=%{z}<br>ZeroedTimeBins=%{marker.size}<extra></extra>",
         "legendgroup": "MAGENTA True less pos",
         "marker": {
          "color": "#636efa",
          "opacity": 1,
          "size": [
           0.050000000000000044,
           0.10000000000000009,
           0.15000000000000013,
           0.19999999999999996,
           0.25,
           0.30000000000000004,
           0.3500000000000001,
           0.40000000000000013,
           0.44999999999999996,
           0.5,
           0.55,
           0.6000000000000001,
           0.6500000000000001,
           0.7,
           0.7500000000000002,
           0.8,
           0.8499999999999999,
           0.9000000000000001,
           0.95,
           1.0000000000000002,
           1.05,
           1.1000000000000003,
           1.1500000000000001,
           1.2,
           1.2500000000000002,
           1.3,
           1.3500000000000003,
           1.4000000000000001,
           1.45
          ],
          "sizemode": "area",
          "sizeref": 0.0036249999999999998,
          "symbol": "circle"
         },
         "mode": "markers",
         "name": "MAGENTA True less pos",
         "scene": "scene",
         "showlegend": true,
         "type": "scatter3d",
         "x": [
          -2.6231311813247835,
          -4.356213947391182,
          -6.031122674979978,
          -6.623461230208045,
          -5.0661072513013465,
          -3.0422868188316032,
          -1.851491455452581,
          -4.070502231138629,
          -6.449766958656152,
          -8.72519134100028,
          -8.5953977369484,
          -8.906567241876385,
          -7.865038934435578,
          -8.23326431233683,
          -6.414731489746939,
          -7.259970406529339,
          -8.24597347833892,
          -9.269833482332348,
          -8.972988780262023,
          -10.232802507765056,
          -11.608839310739528,
          -11.679538984196368,
          -11.305215988488781,
          -13.643826655747798,
          -15.8358817734346,
          -15.416369200312012,
          -12.393163108225062,
          -8.534696704538819,
          -8.31314992003847
         ],
         "y": [
          -2.2152985545154245,
          -1.7322821890859328,
          -0.470529302161895,
          -1.2666478582170122,
          -3.0592206117955887,
          -4.630950547969803,
          -5.884830693121191,
          -9.085639658101396,
          -10.154795715333368,
          -9.495550157153893,
          -9.683358510278776,
          -11.417984560530163,
          -12.349123015533465,
          -11.25617634185602,
          -8.775653801069291,
          -9.979238234206482,
          -12.064724184278425,
          -13.504595182956171,
          -13.573118705043512,
          -11.2523036132683,
          -8.795762841725107,
          -8.35353583118659,
          -8.541141011697665,
          -8.21167418616723,
          -7.528083488224577,
          -8.60395165089408,
          -7.24772203549052,
          -4.876305772359147,
          -1.883838806140715
         ],
         "z": [
          -3.0561399288545332,
          -6.4047555517981785,
          -7.748276823549115,
          -7.435864142025145,
          -8.174347187994696,
          -8.09817428100348,
          -6.90188838531972,
          -3.0912071967900503,
          -0.751136112497959,
          -0.7957708472009661,
          -2.907719081888616,
          -3.642653656233303,
          -1.5915281640570096,
          2.3638542415547845,
          2.4255551003130873,
          0.3731509716850624,
          0.3292581428141471,
          3.4651514403413572,
          6.996159826076245,
          7.252420719114582,
          7.065299191050909,
          6.655743761164039,
          2.5297026933835305,
          -4.067823470556592,
          -7.967178458864453,
          -7.283043023064222,
          -2.8469325655760955,
          -1.8151771445659521,
          -1.5849378682941269
         ]
        },
        {
         "hovertemplate": "Condition=MAGENTA True more pos<br>PC1=%{x}<br>PC2=%{y}<br>PC3=%{z}<br>ZeroedTimeBins=%{marker.size}<extra></extra>",
         "legendgroup": "MAGENTA True more pos",
         "marker": {
          "color": "#EF553B",
          "opacity": 1,
          "size": [
           0.050000000000000044,
           0.10000000000000009,
           0.15000000000000013,
           0.19999999999999996,
           0.25,
           0.30000000000000004,
           0.3500000000000001,
           0.40000000000000013,
           0.44999999999999996,
           0.5,
           0.55,
           0.6000000000000001,
           0.6500000000000001,
           0.7,
           0.7500000000000002,
           0.8,
           0.8499999999999999,
           0.9000000000000001,
           0.95,
           1.0000000000000002,
           1.05,
           1.1000000000000003,
           1.1500000000000001,
           1.2,
           1.2500000000000002,
           1.3,
           1.3500000000000003,
           1.4000000000000001,
           1.45
          ],
          "sizemode": "area",
          "sizeref": 0.0036249999999999998,
          "symbol": "circle"
         },
         "mode": "markers",
         "name": "MAGENTA True more pos",
         "scene": "scene",
         "showlegend": true,
         "type": "scatter3d",
         "x": [
          0.8962208695957563,
          -2.751663515811667,
          -5.207393759702005,
          -8.14896420103806,
          -9.003595373322153,
          -7.078331277215252,
          -6.159784366901536,
          -7.133480446118349,
          -8.78009422423346,
          -12.596110001996095,
          -14.185286303370312,
          -12.080981730834216,
          -9.045491840348085,
          -7.253124633278275,
          -5.535556845945876,
          -6.611398808194191,
          -8.257464305440193,
          -9.28655982769089,
          -9.569492672527026,
          -8.54421478008919,
          -6.036636645050836,
          -5.587428515899034,
          -5.27421693879024,
          -8.776849445954369,
          -11.431893563424238,
          -11.163013501333152,
          -10.618017347796837,
          -11.071666046530549,
          -13.357634841584542
         ],
         "y": [
          7.010105932587153,
          8.927065114381026,
          11.493066026755208,
          12.800269586500349,
          11.284339830431273,
          7.133535373622442,
          3.6572412148488316,
          1.8875284993932713,
          3.5724980047100834,
          4.7658308560358495,
          5.070952285355902,
          5.525970921150869,
          5.3479319054658845,
          4.589750386050155,
          5.737719179309501,
          7.578840313007553,
          8.592555466553494,
          8.406240652252748,
          10.469710698783137,
          11.43619801716296,
          9.38617033847293,
          7.677042014634483,
          8.140305990271292,
          9.277518585138008,
          8.629037778178361,
          6.484173094160011,
          5.645443617726328,
          3.502758264409148,
          1.3671802511253695
         ],
         "z": [
          -5.686962817520795,
          -10.73575520423756,
          -11.043261781177183,
          -8.806772277014543,
          -4.174144058965,
          -1.3297508230616422,
          -1.8309073549067705,
          -1.0345781843215072,
          1.1619337556273652,
          3.5206860326742735,
          6.479348797731977,
          10.451464037031306,
          11.675639909575349,
          12.06813294715058,
          11.11938271919041,
          9.397842536236533,
          6.2447026520203455,
          4.65294796824472,
          2.805890584007742,
          0.074082131333216,
          -3.16341421373865,
          -2.886403308451774,
          -1.1318572176190433,
          3.212785749004892,
          4.522620248060788,
          1.891918501949796,
          -2.9120081652209375,
          -5.536547586834915,
          -4.229590780867186
         ]
        },
        {
         "hovertemplate": "Condition=YELLOW True less pos<br>PC1=%{x}<br>PC2=%{y}<br>PC3=%{z}<br>ZeroedTimeBins=%{marker.size}<extra></extra>",
         "legendgroup": "YELLOW True less pos",
         "marker": {
          "color": "#00cc96",
          "opacity": 1,
          "size": [
           0.050000000000000044,
           0.10000000000000009,
           0.15000000000000013,
           0.19999999999999996,
           0.25,
           0.30000000000000004,
           0.3500000000000001,
           0.40000000000000013,
           0.44999999999999996,
           0.5,
           0.55,
           0.6000000000000001,
           0.6500000000000001,
           0.7,
           0.7500000000000002,
           0.8,
           0.8499999999999999,
           0.9000000000000001,
           0.95,
           1.0000000000000002,
           1.05,
           1.1000000000000003,
           1.1500000000000001,
           1.2,
           1.2500000000000002,
           1.3,
           1.3500000000000003,
           1.4000000000000001,
           1.45
          ],
          "sizemode": "area",
          "sizeref": 0.0036249999999999998,
          "symbol": "circle"
         },
         "mode": "markers",
         "name": "YELLOW True less pos",
         "scene": "scene",
         "showlegend": true,
         "type": "scatter3d",
         "x": [
          5.418459011841354,
          8.098748349628167,
          9.422222035212709,
          9.157954752838846,
          8.144962950879366,
          8.792906061313682,
          8.736513081485509,
          4.977120783889242,
          4.033985161519323,
          4.863784085222431,
          7.078009215006814,
          6.280349089576637,
          4.993678273528865,
          2.1076390092944455,
          0.42391163164813006,
          -1.074601491159083,
          -1.6159966712475327,
          0.1077548756842848,
          3.366552293777885,
          5.396475828158981,
          5.7238705504726,
          5.664572615073236,
          6.135604617018594,
          7.907164701616971,
          11.551795785644147,
          12.475312771400871,
          10.226205054059104,
          7.596353466975237,
          7.085053169873461
         ],
         "y": [
          4.8390406584609975,
          3.0631496276718257,
          2.1496147389994853,
          2.3831623247048563,
          2.5008686503789592,
          1.8461136963844758,
          0.5018025927495239,
          0.10138755472116898,
          -1.7630174038084951,
          -2.306705844351269,
          -1.4080659032062128,
          -1.3187041520321725,
          -2.7499906964457943,
          -2.7342356829441448,
          -1.4895650642762457,
          -1.6188205539267189,
          -2.17351523138776,
          -0.9852269673410344,
          -1.7714541005800732,
          -3.8700345629744657,
          -5.157502268827582,
          -6.141994340244325,
          -5.871734021057931,
          -5.601214283517465,
          -4.496762607281265,
          -3.4138052472207594,
          -0.19009088884234943,
          1.2640101031430582,
          2.4652171443112487
         ],
         "z": [
          -0.6830189839201621,
          0.9855597073144918,
          1.7251952312383663,
          0.07145215750911561,
          -1.5783095143500003,
          -1.4597124573353606,
          0.9169398378648175,
          4.0588838993856164,
          4.967387644713014,
          4.972594399099464,
          5.542800789259485,
          4.458299975915294,
          3.753065775101101,
          3.258198344405552,
          0.42487039854636327,
          -4.098536125340334,
          -8.06671499432776,
          -8.72568368967322,
          -6.050983137463019,
          -1.7470071361467114,
          1.138253812334785,
          1.6247338780602592,
          1.32043900884977,
          1.4703725539386971,
          0.2199540672528825,
          -3.380428955746688,
          -6.962464495376286,
          -8.848415172295653,
          -6.959035775807858
         ]
        },
        {
         "hovertemplate": "Condition=YELLOW True more pos<br>PC1=%{x}<br>PC2=%{y}<br>PC3=%{z}<br>ZeroedTimeBins=%{marker.size}<extra></extra>",
         "legendgroup": "YELLOW True more pos",
         "marker": {
          "color": "#ab63fa",
          "opacity": 1,
          "size": [
           0.050000000000000044,
           0.10000000000000009,
           0.15000000000000013,
           0.19999999999999996,
           0.25,
           0.30000000000000004,
           0.3500000000000001,
           0.40000000000000013,
           0.44999999999999996,
           0.5,
           0.55,
           0.6000000000000001,
           0.6500000000000001,
           0.7,
           0.7500000000000002,
           0.8,
           0.8499999999999999,
           0.9000000000000001,
           0.95,
           1.0000000000000002,
           1.05,
           1.1000000000000003,
           1.1500000000000001,
           1.2,
           1.2500000000000002,
           1.3,
           1.3500000000000003,
           1.4000000000000001,
           1.45
          ],
          "sizemode": "area",
          "sizeref": 0.0036249999999999998,
          "symbol": "circle"
         },
         "mode": "markers",
         "name": "YELLOW True more pos",
         "scene": "scene",
         "showlegend": true,
         "type": "scatter3d",
         "x": [
          0.9991966335556597,
          0.6507158584808095,
          1.1096517099902414,
          0.7132225044938841,
          -1.426353682826766,
          -2.2666811826751294,
          -0.6055801602924292,
          0.5573644041315172,
          1.3682633213355904,
          1.7121983671907728,
          1.669665881296187,
          -0.03918459305215131,
          -0.7751170321650207,
          -1.131767527300601,
          -1.9992731532211951,
          -1.315527345140396,
          0.6749655115026532,
          3.7733314194717544,
          5.036661756819682,
          4.478389241081829,
          3.8035341491896286,
          3.6514933491919916,
          4.501772086112437,
          3.0781083736778414,
          2.5909189286021164,
          2.725204390591136,
          2.5505225371242783,
          2.060673511264466,
          1.3679291478824416
         ],
         "y": [
          1.9173319329255312,
          1.2345584270325962,
          0.1552107380707567,
          -0.17136886787514727,
          0.8098797225859451,
          1.3475757572312506,
          -0.07333998677552643,
          -1.090070090724408,
          -1.3987630131488715,
          -0.9258040976201865,
          -1.391964612216158,
          -3.1191721388925706,
          -3.9163278330013163,
          -2.3836713893283763,
          -1.6253569446407063,
          -1.3060072505321796,
          -1.327201435007751,
          -1.8673780324447233,
          -2.973528639973057,
          -2.344388095487326,
          -0.19373630070925946,
          1.4199656938396072,
          1.314350299224844,
          -1.1754274451262376,
          -1.336372923585437,
          -1.4324531604252657,
          -1.7530904520675237,
          -2.9605653947556974,
          -3.429530897086331
         ],
         "z": [
          3.9779728699622328,
          4.698479407063499,
          5.872019597224377,
          5.82260237487128,
          4.546220884384992,
          3.6461182698492,
          5.369850319182154,
          6.584676691433284,
          7.195144558180017,
          5.260363632933962,
          0.18946711494501378,
          -3.0486834025611844,
          -3.7517014715868737,
          -4.054064712787562,
          -3.636066420527148,
          -5.215577923097842,
          -5.4565222173329815,
          -1.1164003352851617,
          3.5484763154571044,
          6.4583355621158685,
          4.047467267753685,
          1.0729800071383233,
          -1.1870537143009392,
          -0.7452779192035539,
          0.5527863319426325,
          2.818990158492446,
          4.141887165135496,
          5.164363752569792,
          7.349368194780899
         ]
        }
       ],
       "layout": {
        "legend": {
         "itemsizing": "constant",
         "title": {
          "text": "Condition"
         },
         "tracegroupgap": 0
        },
        "margin": {
         "t": 60
        },
        "scene": {
         "domain": {
          "x": [
           0,
           1
          ],
          "y": [
           0,
           1
          ]
         },
         "xaxis": {
          "title": {
           "text": "PC1"
          }
         },
         "yaxis": {
          "title": {
           "text": "PC2"
          }
         },
         "zaxis": {
          "title": {
           "text": "PC3"
          }
         }
        },
        "template": {
         "data": {
          "bar": [
           {
            "error_x": {
             "color": "#2a3f5f"
            },
            "error_y": {
             "color": "#2a3f5f"
            },
            "marker": {
             "line": {
              "color": "#E5ECF6",
              "width": 0.5
             },
             "pattern": {
              "fillmode": "overlay",
              "size": 10,
              "solidity": 0.2
             }
            },
            "type": "bar"
           }
          ],
          "barpolar": [
           {
            "marker": {
             "line": {
              "color": "#E5ECF6",
              "width": 0.5
             },
             "pattern": {
              "fillmode": "overlay",
              "size": 10,
              "solidity": 0.2
             }
            },
            "type": "barpolar"
           }
          ],
          "carpet": [
           {
            "aaxis": {
             "endlinecolor": "#2a3f5f",
             "gridcolor": "white",
             "linecolor": "white",
             "minorgridcolor": "white",
             "startlinecolor": "#2a3f5f"
            },
            "baxis": {
             "endlinecolor": "#2a3f5f",
             "gridcolor": "white",
             "linecolor": "white",
             "minorgridcolor": "white",
             "startlinecolor": "#2a3f5f"
            },
            "type": "carpet"
           }
          ],
          "choropleth": [
           {
            "colorbar": {
             "outlinewidth": 0,
             "ticks": ""
            },
            "type": "choropleth"
           }
          ],
          "contour": [
           {
            "colorbar": {
             "outlinewidth": 0,
             "ticks": ""
            },
            "colorscale": [
             [
              0,
              "#0d0887"
             ],
             [
              0.1111111111111111,
              "#46039f"
             ],
             [
              0.2222222222222222,
              "#7201a8"
             ],
             [
              0.3333333333333333,
              "#9c179e"
             ],
             [
              0.4444444444444444,
              "#bd3786"
             ],
             [
              0.5555555555555556,
              "#d8576b"
             ],
             [
              0.6666666666666666,
              "#ed7953"
             ],
             [
              0.7777777777777778,
              "#fb9f3a"
             ],
             [
              0.8888888888888888,
              "#fdca26"
             ],
             [
              1,
              "#f0f921"
             ]
            ],
            "type": "contour"
           }
          ],
          "contourcarpet": [
           {
            "colorbar": {
             "outlinewidth": 0,
             "ticks": ""
            },
            "type": "contourcarpet"
           }
          ],
          "heatmap": [
           {
            "colorbar": {
             "outlinewidth": 0,
             "ticks": ""
            },
            "colorscale": [
             [
              0,
              "#0d0887"
             ],
             [
              0.1111111111111111,
              "#46039f"
             ],
             [
              0.2222222222222222,
              "#7201a8"
             ],
             [
              0.3333333333333333,
              "#9c179e"
             ],
             [
              0.4444444444444444,
              "#bd3786"
             ],
             [
              0.5555555555555556,
              "#d8576b"
             ],
             [
              0.6666666666666666,
              "#ed7953"
             ],
             [
              0.7777777777777778,
              "#fb9f3a"
             ],
             [
              0.8888888888888888,
              "#fdca26"
             ],
             [
              1,
              "#f0f921"
             ]
            ],
            "type": "heatmap"
           }
          ],
          "heatmapgl": [
           {
            "colorbar": {
             "outlinewidth": 0,
             "ticks": ""
            },
            "colorscale": [
             [
              0,
              "#0d0887"
             ],
             [
              0.1111111111111111,
              "#46039f"
             ],
             [
              0.2222222222222222,
              "#7201a8"
             ],
             [
              0.3333333333333333,
              "#9c179e"
             ],
             [
              0.4444444444444444,
              "#bd3786"
             ],
             [
              0.5555555555555556,
              "#d8576b"
             ],
             [
              0.6666666666666666,
              "#ed7953"
             ],
             [
              0.7777777777777778,
              "#fb9f3a"
             ],
             [
              0.8888888888888888,
              "#fdca26"
             ],
             [
              1,
              "#f0f921"
             ]
            ],
            "type": "heatmapgl"
           }
          ],
          "histogram": [
           {
            "marker": {
             "pattern": {
              "fillmode": "overlay",
              "size": 10,
              "solidity": 0.2
             }
            },
            "type": "histogram"
           }
          ],
          "histogram2d": [
           {
            "colorbar": {
             "outlinewidth": 0,
             "ticks": ""
            },
            "colorscale": [
             [
              0,
              "#0d0887"
             ],
             [
              0.1111111111111111,
              "#46039f"
             ],
             [
              0.2222222222222222,
              "#7201a8"
             ],
             [
              0.3333333333333333,
              "#9c179e"
             ],
             [
              0.4444444444444444,
              "#bd3786"
             ],
             [
              0.5555555555555556,
              "#d8576b"
             ],
             [
              0.6666666666666666,
              "#ed7953"
             ],
             [
              0.7777777777777778,
              "#fb9f3a"
             ],
             [
              0.8888888888888888,
              "#fdca26"
             ],
             [
              1,
              "#f0f921"
             ]
            ],
            "type": "histogram2d"
           }
          ],
          "histogram2dcontour": [
           {
            "colorbar": {
             "outlinewidth": 0,
             "ticks": ""
            },
            "colorscale": [
             [
              0,
              "#0d0887"
             ],
             [
              0.1111111111111111,
              "#46039f"
             ],
             [
              0.2222222222222222,
              "#7201a8"
             ],
             [
              0.3333333333333333,
              "#9c179e"
             ],
             [
              0.4444444444444444,
              "#bd3786"
             ],
             [
              0.5555555555555556,
              "#d8576b"
             ],
             [
              0.6666666666666666,
              "#ed7953"
             ],
             [
              0.7777777777777778,
              "#fb9f3a"
             ],
             [
              0.8888888888888888,
              "#fdca26"
             ],
             [
              1,
              "#f0f921"
             ]
            ],
            "type": "histogram2dcontour"
           }
          ],
          "mesh3d": [
           {
            "colorbar": {
             "outlinewidth": 0,
             "ticks": ""
            },
            "type": "mesh3d"
           }
          ],
          "parcoords": [
           {
            "line": {
             "colorbar": {
              "outlinewidth": 0,
              "ticks": ""
             }
            },
            "type": "parcoords"
           }
          ],
          "pie": [
           {
            "automargin": true,
            "type": "pie"
           }
          ],
          "scatter": [
           {
            "fillpattern": {
             "fillmode": "overlay",
             "size": 10,
             "solidity": 0.2
            },
            "type": "scatter"
           }
          ],
          "scatter3d": [
           {
            "line": {
             "colorbar": {
              "outlinewidth": 0,
              "ticks": ""
             }
            },
            "marker": {
             "colorbar": {
              "outlinewidth": 0,
              "ticks": ""
             }
            },
            "type": "scatter3d"
           }
          ],
          "scattercarpet": [
           {
            "marker": {
             "colorbar": {
              "outlinewidth": 0,
              "ticks": ""
             }
            },
            "type": "scattercarpet"
           }
          ],
          "scattergeo": [
           {
            "marker": {
             "colorbar": {
              "outlinewidth": 0,
              "ticks": ""
             }
            },
            "type": "scattergeo"
           }
          ],
          "scattergl": [
           {
            "marker": {
             "colorbar": {
              "outlinewidth": 0,
              "ticks": ""
             }
            },
            "type": "scattergl"
           }
          ],
          "scattermapbox": [
           {
            "marker": {
             "colorbar": {
              "outlinewidth": 0,
              "ticks": ""
             }
            },
            "type": "scattermapbox"
           }
          ],
          "scatterpolar": [
           {
            "marker": {
             "colorbar": {
              "outlinewidth": 0,
              "ticks": ""
             }
            },
            "type": "scatterpolar"
           }
          ],
          "scatterpolargl": [
           {
            "marker": {
             "colorbar": {
              "outlinewidth": 0,
              "ticks": ""
             }
            },
            "type": "scatterpolargl"
           }
          ],
          "scatterternary": [
           {
            "marker": {
             "colorbar": {
              "outlinewidth": 0,
              "ticks": ""
             }
            },
            "type": "scatterternary"
           }
          ],
          "surface": [
           {
            "colorbar": {
             "outlinewidth": 0,
             "ticks": ""
            },
            "colorscale": [
             [
              0,
              "#0d0887"
             ],
             [
              0.1111111111111111,
              "#46039f"
             ],
             [
              0.2222222222222222,
              "#7201a8"
             ],
             [
              0.3333333333333333,
              "#9c179e"
             ],
             [
              0.4444444444444444,
              "#bd3786"
             ],
             [
              0.5555555555555556,
              "#d8576b"
             ],
             [
              0.6666666666666666,
              "#ed7953"
             ],
             [
              0.7777777777777778,
              "#fb9f3a"
             ],
             [
              0.8888888888888888,
              "#fdca26"
             ],
             [
              1,
              "#f0f921"
             ]
            ],
            "type": "surface"
           }
          ],
          "table": [
           {
            "cells": {
             "fill": {
              "color": "#EBF0F8"
             },
             "line": {
              "color": "white"
             }
            },
            "header": {
             "fill": {
              "color": "#C8D4E3"
             },
             "line": {
              "color": "white"
             }
            },
            "type": "table"
           }
          ]
         },
         "layout": {
          "annotationdefaults": {
           "arrowcolor": "#2a3f5f",
           "arrowhead": 0,
           "arrowwidth": 1
          },
          "autotypenumbers": "strict",
          "coloraxis": {
           "colorbar": {
            "outlinewidth": 0,
            "ticks": ""
           }
          },
          "colorscale": {
           "diverging": [
            [
             0,
             "#8e0152"
            ],
            [
             0.1,
             "#c51b7d"
            ],
            [
             0.2,
             "#de77ae"
            ],
            [
             0.3,
             "#f1b6da"
            ],
            [
             0.4,
             "#fde0ef"
            ],
            [
             0.5,
             "#f7f7f7"
            ],
            [
             0.6,
             "#e6f5d0"
            ],
            [
             0.7,
             "#b8e186"
            ],
            [
             0.8,
             "#7fbc41"
            ],
            [
             0.9,
             "#4d9221"
            ],
            [
             1,
             "#276419"
            ]
           ],
           "sequential": [
            [
             0,
             "#0d0887"
            ],
            [
             0.1111111111111111,
             "#46039f"
            ],
            [
             0.2222222222222222,
             "#7201a8"
            ],
            [
             0.3333333333333333,
             "#9c179e"
            ],
            [
             0.4444444444444444,
             "#bd3786"
            ],
            [
             0.5555555555555556,
             "#d8576b"
            ],
            [
             0.6666666666666666,
             "#ed7953"
            ],
            [
             0.7777777777777778,
             "#fb9f3a"
            ],
            [
             0.8888888888888888,
             "#fdca26"
            ],
            [
             1,
             "#f0f921"
            ]
           ],
           "sequentialminus": [
            [
             0,
             "#0d0887"
            ],
            [
             0.1111111111111111,
             "#46039f"
            ],
            [
             0.2222222222222222,
             "#7201a8"
            ],
            [
             0.3333333333333333,
             "#9c179e"
            ],
            [
             0.4444444444444444,
             "#bd3786"
            ],
            [
             0.5555555555555556,
             "#d8576b"
            ],
            [
             0.6666666666666666,
             "#ed7953"
            ],
            [
             0.7777777777777778,
             "#fb9f3a"
            ],
            [
             0.8888888888888888,
             "#fdca26"
            ],
            [
             1,
             "#f0f921"
            ]
           ]
          },
          "colorway": [
           "#636efa",
           "#EF553B",
           "#00cc96",
           "#ab63fa",
           "#FFA15A",
           "#19d3f3",
           "#FF6692",
           "#B6E880",
           "#FF97FF",
           "#FECB52"
          ],
          "font": {
           "color": "#2a3f5f"
          },
          "geo": {
           "bgcolor": "white",
           "lakecolor": "white",
           "landcolor": "#E5ECF6",
           "showlakes": true,
           "showland": true,
           "subunitcolor": "white"
          },
          "hoverlabel": {
           "align": "left"
          },
          "hovermode": "closest",
          "mapbox": {
           "style": "light"
          },
          "paper_bgcolor": "white",
          "plot_bgcolor": "#E5ECF6",
          "polar": {
           "angularaxis": {
            "gridcolor": "white",
            "linecolor": "white",
            "ticks": ""
           },
           "bgcolor": "#E5ECF6",
           "radialaxis": {
            "gridcolor": "white",
            "linecolor": "white",
            "ticks": ""
           }
          },
          "scene": {
           "xaxis": {
            "backgroundcolor": "#E5ECF6",
            "gridcolor": "white",
            "gridwidth": 2,
            "linecolor": "white",
            "showbackground": true,
            "ticks": "",
            "zerolinecolor": "white"
           },
           "yaxis": {
            "backgroundcolor": "#E5ECF6",
            "gridcolor": "white",
            "gridwidth": 2,
            "linecolor": "white",
            "showbackground": true,
            "ticks": "",
            "zerolinecolor": "white"
           },
           "zaxis": {
            "backgroundcolor": "#E5ECF6",
            "gridcolor": "white",
            "gridwidth": 2,
            "linecolor": "white",
            "showbackground": true,
            "ticks": "",
            "zerolinecolor": "white"
           }
          },
          "shapedefaults": {
           "line": {
            "color": "#2a3f5f"
           }
          },
          "ternary": {
           "aaxis": {
            "gridcolor": "white",
            "linecolor": "white",
            "ticks": ""
           },
           "baxis": {
            "gridcolor": "white",
            "linecolor": "white",
            "ticks": ""
           },
           "bgcolor": "#E5ECF6",
           "caxis": {
            "gridcolor": "white",
            "linecolor": "white",
            "ticks": ""
           }
          },
          "title": {
           "x": 0.05
          },
          "xaxis": {
           "automargin": true,
           "gridcolor": "white",
           "linecolor": "white",
           "ticks": "",
           "title": {
            "standoff": 15
           },
           "zerolinecolor": "white",
           "zerolinewidth": 2
          },
          "yaxis": {
           "automargin": true,
           "gridcolor": "white",
           "linecolor": "white",
           "ticks": "",
           "title": {
            "standoff": 15
           },
           "zerolinecolor": "white",
           "zerolinewidth": 2
          }
         }
        }
       }
      },
      "text/html": [
       "<div>                            <div id=\"f9758d68-b72e-4573-98fa-fc5d2745453e\" class=\"plotly-graph-div\" style=\"height:525px; width:100%;\"></div>            <script type=\"text/javascript\">                require([\"plotly\"], function(Plotly) {                    window.PLOTLYENV=window.PLOTLYENV || {};                                    if (document.getElementById(\"f9758d68-b72e-4573-98fa-fc5d2745453e\")) {                    Plotly.newPlot(                        \"f9758d68-b72e-4573-98fa-fc5d2745453e\",                        [{\"hovertemplate\":\"Condition=MAGENTA True less pos<br>PC1=%{x}<br>PC2=%{y}<br>PC3=%{z}<br>ZeroedTimeBins=%{marker.size}<extra></extra>\",\"legendgroup\":\"MAGENTA True less pos\",\"marker\":{\"color\":\"#636efa\",\"opacity\":1,\"size\":[0.050000000000000044,0.10000000000000009,0.15000000000000013,0.19999999999999996,0.25,0.30000000000000004,0.3500000000000001,0.40000000000000013,0.44999999999999996,0.5,0.55,0.6000000000000001,0.6500000000000001,0.7,0.7500000000000002,0.8,0.8499999999999999,0.9000000000000001,0.95,1.0000000000000002,1.05,1.1000000000000003,1.1500000000000001,1.2,1.2500000000000002,1.3,1.3500000000000003,1.4000000000000001,1.45],\"sizemode\":\"area\",\"sizeref\":0.0036249999999999998,\"symbol\":\"circle\"},\"mode\":\"markers\",\"name\":\"MAGENTA True less pos\",\"scene\":\"scene\",\"showlegend\":true,\"x\":[-2.6231311813247835,-4.356213947391182,-6.031122674979978,-6.623461230208045,-5.0661072513013465,-3.0422868188316032,-1.851491455452581,-4.070502231138629,-6.449766958656152,-8.72519134100028,-8.5953977369484,-8.906567241876385,-7.865038934435578,-8.23326431233683,-6.414731489746939,-7.259970406529339,-8.24597347833892,-9.269833482332348,-8.972988780262023,-10.232802507765056,-11.608839310739528,-11.679538984196368,-11.305215988488781,-13.643826655747798,-15.8358817734346,-15.416369200312012,-12.393163108225062,-8.534696704538819,-8.31314992003847],\"y\":[-2.2152985545154245,-1.7322821890859328,-0.470529302161895,-1.2666478582170122,-3.0592206117955887,-4.630950547969803,-5.884830693121191,-9.085639658101396,-10.154795715333368,-9.495550157153893,-9.683358510278776,-11.417984560530163,-12.349123015533465,-11.25617634185602,-8.775653801069291,-9.979238234206482,-12.064724184278425,-13.504595182956171,-13.573118705043512,-11.2523036132683,-8.795762841725107,-8.35353583118659,-8.541141011697665,-8.21167418616723,-7.528083488224577,-8.60395165089408,-7.24772203549052,-4.876305772359147,-1.883838806140715],\"z\":[-3.0561399288545332,-6.4047555517981785,-7.748276823549115,-7.435864142025145,-8.174347187994696,-8.09817428100348,-6.90188838531972,-3.0912071967900503,-0.751136112497959,-0.7957708472009661,-2.907719081888616,-3.642653656233303,-1.5915281640570096,2.3638542415547845,2.4255551003130873,0.3731509716850624,0.3292581428141471,3.4651514403413572,6.996159826076245,7.252420719114582,7.065299191050909,6.655743761164039,2.5297026933835305,-4.067823470556592,-7.967178458864453,-7.283043023064222,-2.8469325655760955,-1.8151771445659521,-1.5849378682941269],\"type\":\"scatter3d\"},{\"hovertemplate\":\"Condition=MAGENTA True more pos<br>PC1=%{x}<br>PC2=%{y}<br>PC3=%{z}<br>ZeroedTimeBins=%{marker.size}<extra></extra>\",\"legendgroup\":\"MAGENTA True more pos\",\"marker\":{\"color\":\"#EF553B\",\"opacity\":1,\"size\":[0.050000000000000044,0.10000000000000009,0.15000000000000013,0.19999999999999996,0.25,0.30000000000000004,0.3500000000000001,0.40000000000000013,0.44999999999999996,0.5,0.55,0.6000000000000001,0.6500000000000001,0.7,0.7500000000000002,0.8,0.8499999999999999,0.9000000000000001,0.95,1.0000000000000002,1.05,1.1000000000000003,1.1500000000000001,1.2,1.2500000000000002,1.3,1.3500000000000003,1.4000000000000001,1.45],\"sizemode\":\"area\",\"sizeref\":0.0036249999999999998,\"symbol\":\"circle\"},\"mode\":\"markers\",\"name\":\"MAGENTA True more pos\",\"scene\":\"scene\",\"showlegend\":true,\"x\":[0.8962208695957563,-2.751663515811667,-5.207393759702005,-8.14896420103806,-9.003595373322153,-7.078331277215252,-6.159784366901536,-7.133480446118349,-8.78009422423346,-12.596110001996095,-14.185286303370312,-12.080981730834216,-9.045491840348085,-7.253124633278275,-5.535556845945876,-6.611398808194191,-8.257464305440193,-9.28655982769089,-9.569492672527026,-8.54421478008919,-6.036636645050836,-5.587428515899034,-5.27421693879024,-8.776849445954369,-11.431893563424238,-11.163013501333152,-10.618017347796837,-11.071666046530549,-13.357634841584542],\"y\":[7.010105932587153,8.927065114381026,11.493066026755208,12.800269586500349,11.284339830431273,7.133535373622442,3.6572412148488316,1.8875284993932713,3.5724980047100834,4.7658308560358495,5.070952285355902,5.525970921150869,5.3479319054658845,4.589750386050155,5.737719179309501,7.578840313007553,8.592555466553494,8.406240652252748,10.469710698783137,11.43619801716296,9.38617033847293,7.677042014634483,8.140305990271292,9.277518585138008,8.629037778178361,6.484173094160011,5.645443617726328,3.502758264409148,1.3671802511253695],\"z\":[-5.686962817520795,-10.73575520423756,-11.043261781177183,-8.806772277014543,-4.174144058965,-1.3297508230616422,-1.8309073549067705,-1.0345781843215072,1.1619337556273652,3.5206860326742735,6.479348797731977,10.451464037031306,11.675639909575349,12.06813294715058,11.11938271919041,9.397842536236533,6.2447026520203455,4.65294796824472,2.805890584007742,0.074082131333216,-3.16341421373865,-2.886403308451774,-1.1318572176190433,3.212785749004892,4.522620248060788,1.891918501949796,-2.9120081652209375,-5.536547586834915,-4.229590780867186],\"type\":\"scatter3d\"},{\"hovertemplate\":\"Condition=YELLOW True less pos<br>PC1=%{x}<br>PC2=%{y}<br>PC3=%{z}<br>ZeroedTimeBins=%{marker.size}<extra></extra>\",\"legendgroup\":\"YELLOW True less pos\",\"marker\":{\"color\":\"#00cc96\",\"opacity\":1,\"size\":[0.050000000000000044,0.10000000000000009,0.15000000000000013,0.19999999999999996,0.25,0.30000000000000004,0.3500000000000001,0.40000000000000013,0.44999999999999996,0.5,0.55,0.6000000000000001,0.6500000000000001,0.7,0.7500000000000002,0.8,0.8499999999999999,0.9000000000000001,0.95,1.0000000000000002,1.05,1.1000000000000003,1.1500000000000001,1.2,1.2500000000000002,1.3,1.3500000000000003,1.4000000000000001,1.45],\"sizemode\":\"area\",\"sizeref\":0.0036249999999999998,\"symbol\":\"circle\"},\"mode\":\"markers\",\"name\":\"YELLOW True less pos\",\"scene\":\"scene\",\"showlegend\":true,\"x\":[5.418459011841354,8.098748349628167,9.422222035212709,9.157954752838846,8.144962950879366,8.792906061313682,8.736513081485509,4.977120783889242,4.033985161519323,4.863784085222431,7.078009215006814,6.280349089576637,4.993678273528865,2.1076390092944455,0.42391163164813006,-1.074601491159083,-1.6159966712475327,0.1077548756842848,3.366552293777885,5.396475828158981,5.7238705504726,5.664572615073236,6.135604617018594,7.907164701616971,11.551795785644147,12.475312771400871,10.226205054059104,7.596353466975237,7.085053169873461],\"y\":[4.8390406584609975,3.0631496276718257,2.1496147389994853,2.3831623247048563,2.5008686503789592,1.8461136963844758,0.5018025927495239,0.10138755472116898,-1.7630174038084951,-2.306705844351269,-1.4080659032062128,-1.3187041520321725,-2.7499906964457943,-2.7342356829441448,-1.4895650642762457,-1.6188205539267189,-2.17351523138776,-0.9852269673410344,-1.7714541005800732,-3.8700345629744657,-5.157502268827582,-6.141994340244325,-5.871734021057931,-5.601214283517465,-4.496762607281265,-3.4138052472207594,-0.19009088884234943,1.2640101031430582,2.4652171443112487],\"z\":[-0.6830189839201621,0.9855597073144918,1.7251952312383663,0.07145215750911561,-1.5783095143500003,-1.4597124573353606,0.9169398378648175,4.0588838993856164,4.967387644713014,4.972594399099464,5.542800789259485,4.458299975915294,3.753065775101101,3.258198344405552,0.42487039854636327,-4.098536125340334,-8.06671499432776,-8.72568368967322,-6.050983137463019,-1.7470071361467114,1.138253812334785,1.6247338780602592,1.32043900884977,1.4703725539386971,0.2199540672528825,-3.380428955746688,-6.962464495376286,-8.848415172295653,-6.959035775807858],\"type\":\"scatter3d\"},{\"hovertemplate\":\"Condition=YELLOW True more pos<br>PC1=%{x}<br>PC2=%{y}<br>PC3=%{z}<br>ZeroedTimeBins=%{marker.size}<extra></extra>\",\"legendgroup\":\"YELLOW True more pos\",\"marker\":{\"color\":\"#ab63fa\",\"opacity\":1,\"size\":[0.050000000000000044,0.10000000000000009,0.15000000000000013,0.19999999999999996,0.25,0.30000000000000004,0.3500000000000001,0.40000000000000013,0.44999999999999996,0.5,0.55,0.6000000000000001,0.6500000000000001,0.7,0.7500000000000002,0.8,0.8499999999999999,0.9000000000000001,0.95,1.0000000000000002,1.05,1.1000000000000003,1.1500000000000001,1.2,1.2500000000000002,1.3,1.3500000000000003,1.4000000000000001,1.45],\"sizemode\":\"area\",\"sizeref\":0.0036249999999999998,\"symbol\":\"circle\"},\"mode\":\"markers\",\"name\":\"YELLOW True more pos\",\"scene\":\"scene\",\"showlegend\":true,\"x\":[0.9991966335556597,0.6507158584808095,1.1096517099902414,0.7132225044938841,-1.426353682826766,-2.2666811826751294,-0.6055801602924292,0.5573644041315172,1.3682633213355904,1.7121983671907728,1.669665881296187,-0.03918459305215131,-0.7751170321650207,-1.131767527300601,-1.9992731532211951,-1.315527345140396,0.6749655115026532,3.7733314194717544,5.036661756819682,4.478389241081829,3.8035341491896286,3.6514933491919916,4.501772086112437,3.0781083736778414,2.5909189286021164,2.725204390591136,2.5505225371242783,2.060673511264466,1.3679291478824416],\"y\":[1.9173319329255312,1.2345584270325962,0.1552107380707567,-0.17136886787514727,0.8098797225859451,1.3475757572312506,-0.07333998677552643,-1.090070090724408,-1.3987630131488715,-0.9258040976201865,-1.391964612216158,-3.1191721388925706,-3.9163278330013163,-2.3836713893283763,-1.6253569446407063,-1.3060072505321796,-1.327201435007751,-1.8673780324447233,-2.973528639973057,-2.344388095487326,-0.19373630070925946,1.4199656938396072,1.314350299224844,-1.1754274451262376,-1.336372923585437,-1.4324531604252657,-1.7530904520675237,-2.9605653947556974,-3.429530897086331],\"z\":[3.9779728699622328,4.698479407063499,5.872019597224377,5.82260237487128,4.546220884384992,3.6461182698492,5.369850319182154,6.584676691433284,7.195144558180017,5.260363632933962,0.18946711494501378,-3.0486834025611844,-3.7517014715868737,-4.054064712787562,-3.636066420527148,-5.215577923097842,-5.4565222173329815,-1.1164003352851617,3.5484763154571044,6.4583355621158685,4.047467267753685,1.0729800071383233,-1.1870537143009392,-0.7452779192035539,0.5527863319426325,2.818990158492446,4.141887165135496,5.164363752569792,7.349368194780899],\"type\":\"scatter3d\"}],                        {\"template\":{\"data\":{\"histogram2dcontour\":[{\"type\":\"histogram2dcontour\",\"colorbar\":{\"outlinewidth\":0,\"ticks\":\"\"},\"colorscale\":[[0.0,\"#0d0887\"],[0.1111111111111111,\"#46039f\"],[0.2222222222222222,\"#7201a8\"],[0.3333333333333333,\"#9c179e\"],[0.4444444444444444,\"#bd3786\"],[0.5555555555555556,\"#d8576b\"],[0.6666666666666666,\"#ed7953\"],[0.7777777777777778,\"#fb9f3a\"],[0.8888888888888888,\"#fdca26\"],[1.0,\"#f0f921\"]]}],\"choropleth\":[{\"type\":\"choropleth\",\"colorbar\":{\"outlinewidth\":0,\"ticks\":\"\"}}],\"histogram2d\":[{\"type\":\"histogram2d\",\"colorbar\":{\"outlinewidth\":0,\"ticks\":\"\"},\"colorscale\":[[0.0,\"#0d0887\"],[0.1111111111111111,\"#46039f\"],[0.2222222222222222,\"#7201a8\"],[0.3333333333333333,\"#9c179e\"],[0.4444444444444444,\"#bd3786\"],[0.5555555555555556,\"#d8576b\"],[0.6666666666666666,\"#ed7953\"],[0.7777777777777778,\"#fb9f3a\"],[0.8888888888888888,\"#fdca26\"],[1.0,\"#f0f921\"]]}],\"heatmap\":[{\"type\":\"heatmap\",\"colorbar\":{\"outlinewidth\":0,\"ticks\":\"\"},\"colorscale\":[[0.0,\"#0d0887\"],[0.1111111111111111,\"#46039f\"],[0.2222222222222222,\"#7201a8\"],[0.3333333333333333,\"#9c179e\"],[0.4444444444444444,\"#bd3786\"],[0.5555555555555556,\"#d8576b\"],[0.6666666666666666,\"#ed7953\"],[0.7777777777777778,\"#fb9f3a\"],[0.8888888888888888,\"#fdca26\"],[1.0,\"#f0f921\"]]}],\"heatmapgl\":[{\"type\":\"heatmapgl\",\"colorbar\":{\"outlinewidth\":0,\"ticks\":\"\"},\"colorscale\":[[0.0,\"#0d0887\"],[0.1111111111111111,\"#46039f\"],[0.2222222222222222,\"#7201a8\"],[0.3333333333333333,\"#9c179e\"],[0.4444444444444444,\"#bd3786\"],[0.5555555555555556,\"#d8576b\"],[0.6666666666666666,\"#ed7953\"],[0.7777777777777778,\"#fb9f3a\"],[0.8888888888888888,\"#fdca26\"],[1.0,\"#f0f921\"]]}],\"contourcarpet\":[{\"type\":\"contourcarpet\",\"colorbar\":{\"outlinewidth\":0,\"ticks\":\"\"}}],\"contour\":[{\"type\":\"contour\",\"colorbar\":{\"outlinewidth\":0,\"ticks\":\"\"},\"colorscale\":[[0.0,\"#0d0887\"],[0.1111111111111111,\"#46039f\"],[0.2222222222222222,\"#7201a8\"],[0.3333333333333333,\"#9c179e\"],[0.4444444444444444,\"#bd3786\"],[0.5555555555555556,\"#d8576b\"],[0.6666666666666666,\"#ed7953\"],[0.7777777777777778,\"#fb9f3a\"],[0.8888888888888888,\"#fdca26\"],[1.0,\"#f0f921\"]]}],\"surface\":[{\"type\":\"surface\",\"colorbar\":{\"outlinewidth\":0,\"ticks\":\"\"},\"colorscale\":[[0.0,\"#0d0887\"],[0.1111111111111111,\"#46039f\"],[0.2222222222222222,\"#7201a8\"],[0.3333333333333333,\"#9c179e\"],[0.4444444444444444,\"#bd3786\"],[0.5555555555555556,\"#d8576b\"],[0.6666666666666666,\"#ed7953\"],[0.7777777777777778,\"#fb9f3a\"],[0.8888888888888888,\"#fdca26\"],[1.0,\"#f0f921\"]]}],\"mesh3d\":[{\"type\":\"mesh3d\",\"colorbar\":{\"outlinewidth\":0,\"ticks\":\"\"}}],\"scatter\":[{\"fillpattern\":{\"fillmode\":\"overlay\",\"size\":10,\"solidity\":0.2},\"type\":\"scatter\"}],\"parcoords\":[{\"type\":\"parcoords\",\"line\":{\"colorbar\":{\"outlinewidth\":0,\"ticks\":\"\"}}}],\"scatterpolargl\":[{\"type\":\"scatterpolargl\",\"marker\":{\"colorbar\":{\"outlinewidth\":0,\"ticks\":\"\"}}}],\"bar\":[{\"error_x\":{\"color\":\"#2a3f5f\"},\"error_y\":{\"color\":\"#2a3f5f\"},\"marker\":{\"line\":{\"color\":\"#E5ECF6\",\"width\":0.5},\"pattern\":{\"fillmode\":\"overlay\",\"size\":10,\"solidity\":0.2}},\"type\":\"bar\"}],\"scattergeo\":[{\"type\":\"scattergeo\",\"marker\":{\"colorbar\":{\"outlinewidth\":0,\"ticks\":\"\"}}}],\"scatterpolar\":[{\"type\":\"scatterpolar\",\"marker\":{\"colorbar\":{\"outlinewidth\":0,\"ticks\":\"\"}}}],\"histogram\":[{\"marker\":{\"pattern\":{\"fillmode\":\"overlay\",\"size\":10,\"solidity\":0.2}},\"type\":\"histogram\"}],\"scattergl\":[{\"type\":\"scattergl\",\"marker\":{\"colorbar\":{\"outlinewidth\":0,\"ticks\":\"\"}}}],\"scatter3d\":[{\"type\":\"scatter3d\",\"line\":{\"colorbar\":{\"outlinewidth\":0,\"ticks\":\"\"}},\"marker\":{\"colorbar\":{\"outlinewidth\":0,\"ticks\":\"\"}}}],\"scattermapbox\":[{\"type\":\"scattermapbox\",\"marker\":{\"colorbar\":{\"outlinewidth\":0,\"ticks\":\"\"}}}],\"scatterternary\":[{\"type\":\"scatterternary\",\"marker\":{\"colorbar\":{\"outlinewidth\":0,\"ticks\":\"\"}}}],\"scattercarpet\":[{\"type\":\"scattercarpet\",\"marker\":{\"colorbar\":{\"outlinewidth\":0,\"ticks\":\"\"}}}],\"carpet\":[{\"aaxis\":{\"endlinecolor\":\"#2a3f5f\",\"gridcolor\":\"white\",\"linecolor\":\"white\",\"minorgridcolor\":\"white\",\"startlinecolor\":\"#2a3f5f\"},\"baxis\":{\"endlinecolor\":\"#2a3f5f\",\"gridcolor\":\"white\",\"linecolor\":\"white\",\"minorgridcolor\":\"white\",\"startlinecolor\":\"#2a3f5f\"},\"type\":\"carpet\"}],\"table\":[{\"cells\":{\"fill\":{\"color\":\"#EBF0F8\"},\"line\":{\"color\":\"white\"}},\"header\":{\"fill\":{\"color\":\"#C8D4E3\"},\"line\":{\"color\":\"white\"}},\"type\":\"table\"}],\"barpolar\":[{\"marker\":{\"line\":{\"color\":\"#E5ECF6\",\"width\":0.5},\"pattern\":{\"fillmode\":\"overlay\",\"size\":10,\"solidity\":0.2}},\"type\":\"barpolar\"}],\"pie\":[{\"automargin\":true,\"type\":\"pie\"}]},\"layout\":{\"autotypenumbers\":\"strict\",\"colorway\":[\"#636efa\",\"#EF553B\",\"#00cc96\",\"#ab63fa\",\"#FFA15A\",\"#19d3f3\",\"#FF6692\",\"#B6E880\",\"#FF97FF\",\"#FECB52\"],\"font\":{\"color\":\"#2a3f5f\"},\"hovermode\":\"closest\",\"hoverlabel\":{\"align\":\"left\"},\"paper_bgcolor\":\"white\",\"plot_bgcolor\":\"#E5ECF6\",\"polar\":{\"bgcolor\":\"#E5ECF6\",\"angularaxis\":{\"gridcolor\":\"white\",\"linecolor\":\"white\",\"ticks\":\"\"},\"radialaxis\":{\"gridcolor\":\"white\",\"linecolor\":\"white\",\"ticks\":\"\"}},\"ternary\":{\"bgcolor\":\"#E5ECF6\",\"aaxis\":{\"gridcolor\":\"white\",\"linecolor\":\"white\",\"ticks\":\"\"},\"baxis\":{\"gridcolor\":\"white\",\"linecolor\":\"white\",\"ticks\":\"\"},\"caxis\":{\"gridcolor\":\"white\",\"linecolor\":\"white\",\"ticks\":\"\"}},\"coloraxis\":{\"colorbar\":{\"outlinewidth\":0,\"ticks\":\"\"}},\"colorscale\":{\"sequential\":[[0.0,\"#0d0887\"],[0.1111111111111111,\"#46039f\"],[0.2222222222222222,\"#7201a8\"],[0.3333333333333333,\"#9c179e\"],[0.4444444444444444,\"#bd3786\"],[0.5555555555555556,\"#d8576b\"],[0.6666666666666666,\"#ed7953\"],[0.7777777777777778,\"#fb9f3a\"],[0.8888888888888888,\"#fdca26\"],[1.0,\"#f0f921\"]],\"sequentialminus\":[[0.0,\"#0d0887\"],[0.1111111111111111,\"#46039f\"],[0.2222222222222222,\"#7201a8\"],[0.3333333333333333,\"#9c179e\"],[0.4444444444444444,\"#bd3786\"],[0.5555555555555556,\"#d8576b\"],[0.6666666666666666,\"#ed7953\"],[0.7777777777777778,\"#fb9f3a\"],[0.8888888888888888,\"#fdca26\"],[1.0,\"#f0f921\"]],\"diverging\":[[0,\"#8e0152\"],[0.1,\"#c51b7d\"],[0.2,\"#de77ae\"],[0.3,\"#f1b6da\"],[0.4,\"#fde0ef\"],[0.5,\"#f7f7f7\"],[0.6,\"#e6f5d0\"],[0.7,\"#b8e186\"],[0.8,\"#7fbc41\"],[0.9,\"#4d9221\"],[1,\"#276419\"]]},\"xaxis\":{\"gridcolor\":\"white\",\"linecolor\":\"white\",\"ticks\":\"\",\"title\":{\"standoff\":15},\"zerolinecolor\":\"white\",\"automargin\":true,\"zerolinewidth\":2},\"yaxis\":{\"gridcolor\":\"white\",\"linecolor\":\"white\",\"ticks\":\"\",\"title\":{\"standoff\":15},\"zerolinecolor\":\"white\",\"automargin\":true,\"zerolinewidth\":2},\"scene\":{\"xaxis\":{\"backgroundcolor\":\"#E5ECF6\",\"gridcolor\":\"white\",\"linecolor\":\"white\",\"showbackground\":true,\"ticks\":\"\",\"zerolinecolor\":\"white\",\"gridwidth\":2},\"yaxis\":{\"backgroundcolor\":\"#E5ECF6\",\"gridcolor\":\"white\",\"linecolor\":\"white\",\"showbackground\":true,\"ticks\":\"\",\"zerolinecolor\":\"white\",\"gridwidth\":2},\"zaxis\":{\"backgroundcolor\":\"#E5ECF6\",\"gridcolor\":\"white\",\"linecolor\":\"white\",\"showbackground\":true,\"ticks\":\"\",\"zerolinecolor\":\"white\",\"gridwidth\":2}},\"shapedefaults\":{\"line\":{\"color\":\"#2a3f5f\"}},\"annotationdefaults\":{\"arrowcolor\":\"#2a3f5f\",\"arrowhead\":0,\"arrowwidth\":1},\"geo\":{\"bgcolor\":\"white\",\"landcolor\":\"#E5ECF6\",\"subunitcolor\":\"white\",\"showland\":true,\"showlakes\":true,\"lakecolor\":\"white\"},\"title\":{\"x\":0.05},\"mapbox\":{\"style\":\"light\"}}},\"scene\":{\"domain\":{\"x\":[0.0,1.0],\"y\":[0.0,1.0]},\"xaxis\":{\"title\":{\"text\":\"PC1\"}},\"yaxis\":{\"title\":{\"text\":\"PC2\"}},\"zaxis\":{\"title\":{\"text\":\"PC3\"}}},\"legend\":{\"title\":{\"text\":\"Condition\"},\"tracegroupgap\":0,\"itemsizing\":\"constant\"},\"margin\":{\"t\":60}},                        {\"responsive\": true}                    ).then(function(){\n",
       "                            \n",
       "var gd = document.getElementById('f9758d68-b72e-4573-98fa-fc5d2745453e');\n",
       "var x = new MutationObserver(function (mutations, observer) {{\n",
       "        var display = window.getComputedStyle(gd).display;\n",
       "        if (!display || display === 'none') {{\n",
       "            console.log([gd, 'removed!']);\n",
       "            Plotly.purge(gd);\n",
       "            observer.disconnect();\n",
       "        }}\n",
       "}});\n",
       "\n",
       "// Listen for the removal of the full notebook cells\n",
       "var notebookContainer = gd.closest('#notebook-container');\n",
       "if (notebookContainer) {{\n",
       "    x.observe(notebookContainer, {childList: true});\n",
       "}}\n",
       "\n",
       "// Listen for the clearing of the current output cell\n",
       "var outputEl = gd.closest('.output');\n",
       "if (outputEl) {{\n",
       "    x.observe(outputEl, {childList: true});\n",
       "}}\n",
       "\n",
       "                        })                };                });            </script>        </div>"
      ]
     },
     "metadata": {},
     "output_type": "display_data"
    }
   ],
   "source": [
    "fig = px.scatter_3d(\n",
    "    transformed_df, \n",
    "    x='PC1', y='PC2', z='PC3',\n",
    "    color='Condition', \n",
    "    opacity=1,\n",
    "    size='ZeroedTimeBins',\n",
    "    # color_discrete_sequence=colors\n",
    ")\n",
    "fig.show()\n"
   ]
  },
  {
   "cell_type": "code",
   "execution_count": 30,
   "metadata": {},
   "outputs": [
    {
     "data": {
      "application/vnd.plotly.v1+json": {
       "config": {
        "plotlyServerURL": "https://plot.ly"
       },
       "data": [
        {
         "hovertemplate": "Condition=MAGENTA False less pos<br>PC1=%{x}<br>PC2=%{y}<br>PC3=%{z}<br>ZeroedTimeBins=%{marker.size}<extra></extra>",
         "legendgroup": "MAGENTA False less pos",
         "marker": {
          "color": "#636efa",
          "opacity": 1,
          "size": [
           0.050000000000000044,
           0.10000000000000009,
           0.15000000000000013,
           0.19999999999999996,
           0.25,
           0.30000000000000004,
           0.3500000000000001,
           0.40000000000000013,
           0.44999999999999996,
           0.5,
           0.55,
           0.6000000000000001,
           0.6500000000000001,
           0.7,
           0.7500000000000002,
           0.8,
           0.8499999999999999,
           0.9000000000000001,
           0.95,
           1.0000000000000002,
           1.05,
           1.1000000000000003,
           1.1500000000000001,
           1.2,
           1.2500000000000002,
           1.3,
           1.3500000000000003,
           1.4000000000000001,
           1.45
          ],
          "sizemode": "area",
          "sizeref": 0.0036249999999999998,
          "symbol": "circle"
         },
         "mode": "markers",
         "name": "MAGENTA False less pos",
         "scene": "scene",
         "showlegend": true,
         "type": "scatter3d",
         "x": [
          2.5383262856515154,
          5.494115467044886,
          8.659504372271835,
          10.743485696140384,
          11.140697413241455,
          11.272035130166422,
          9.22662579763855,
          7.853159915793076,
          3.912061105193446,
          2.8911191759445085,
          1.8691541790959096,
          0.9421474340425514,
          -0.32461828750610916,
          -2.2111861120719576,
          -4.8764705231218395,
          -2.97034731900263,
          -1.0563736384726379,
          -1.3242192536590285,
          -3.837705283908564,
          -7.774107933710842,
          -10.353433694239907,
          -10.608842268506308,
          -8.726731335073557,
          -4.054775350285274,
          -1.8700494742289768,
          -4.108409766914712,
          -6.485842418461205,
          -5.397059544273791,
          -4.0341997259605575
         ],
         "y": [
          -2.7182484774460742,
          -3.4695787267362355,
          -4.501175063762187,
          -5.466476446108675,
          -5.852769564487713,
          -5.96182125136543,
          -4.14028366420543,
          -0.26529250937816395,
          3.609055758326649,
          5.1775825307545995,
          5.332287516666075,
          3.8728145637099205,
          1.4300505055627473,
          -0.09318962011160488,
          -0.5542837200831465,
          2.270913218059608,
          5.605539177658609,
          6.5499174361193315,
          7.577653557282216,
          7.37823902174104,
          6.558684451877054,
          5.162940475552498,
          3.560014242632389,
          3.9301048134453533,
          6.683089855685201,
          8.729240443132666,
          10.414825624480205,
          10.307197139134042,
          10.50375805872413
         ],
         "z": [
          -1.6302999538051695,
          -5.451025949186846,
          -10.307043627619603,
          -12.227107601628003,
          -9.904459775611665,
          -7.487014191421629,
          -6.99227747702821,
          -8.1688985878627,
          -6.61866435619676,
          -3.567205786270112,
          -0.25073118021913765,
          -0.34016650273525884,
          -1.7206334025354848,
          -1.9530910031839959,
          -2.1790869822672336,
          -3.068839063005763,
          -2.217988205403203,
          -2.5103506280583714,
          -4.533884746263437,
          -5.544795027359522,
          -4.500408961573984,
          -3.3877105962638625,
          -3.599459416994295,
          -6.309031430922658,
          -6.156883382334797,
          -2.5176836680937806,
          4.18429913012729,
          8.609212914977123,
          9.535084012872758
         ]
        },
        {
         "hovertemplate": "Condition=MAGENTA False more pos<br>PC1=%{x}<br>PC2=%{y}<br>PC3=%{z}<br>ZeroedTimeBins=%{marker.size}<extra></extra>",
         "legendgroup": "MAGENTA False more pos",
         "marker": {
          "color": "#EF553B",
          "opacity": 1,
          "size": [
           0.050000000000000044,
           0.10000000000000009,
           0.15000000000000013,
           0.19999999999999996,
           0.25,
           0.30000000000000004,
           0.3500000000000001,
           0.40000000000000013,
           0.44999999999999996,
           0.5,
           0.55,
           0.6000000000000001,
           0.6500000000000001,
           0.7,
           0.7500000000000002,
           0.8,
           0.8499999999999999,
           0.9000000000000001,
           0.95,
           1.0000000000000002,
           1.05,
           1.1000000000000003,
           1.1500000000000001,
           1.2,
           1.2500000000000002,
           1.3,
           1.3500000000000003,
           1.4000000000000001,
           1.45
          ],
          "sizemode": "area",
          "sizeref": 0.0036249999999999998,
          "symbol": "circle"
         },
         "mode": "markers",
         "name": "MAGENTA False more pos",
         "scene": "scene",
         "showlegend": true,
         "type": "scatter3d",
         "x": [
          -0.38284643312539823,
          2.488419161019796,
          4.638634968491377,
          8.817647607385254,
          12.513242317668727,
          13.88686967657735,
          14.642924329681552,
          14.774596109558473,
          12.790651593293434,
          13.943917108589966,
          13.925319647142146,
          12.217084827536043,
          8.22463708155504,
          4.3337275123687595,
          0.787645053480549,
          3.499497294107714,
          8.888991762194099,
          9.308894604184104,
          8.19040251861737,
          8.536378186943503,
          9.955199761379136,
          10.525787813135294,
          6.784250429440595,
          2.9795779876391992,
          0.5449138293787223,
          1.2687987942114105,
          1.7072540560647789,
          3.044200105987342,
          5.616102113320547
         ],
         "y": [
          -1.6733127697817,
          -4.094941535193234,
          -5.183267577621665,
          -4.556813150616201,
          -2.0392051111595397,
          0.2944694619168556,
          0.09847947300538937,
          -0.010715853964759055,
          0.04613227262680275,
          1.8418584808544856,
          3.5744689358642217,
          5.1303779621026155,
          5.930877934882015,
          5.524421186969377,
          6.636673170665617,
          5.8586894580030195,
          3.689136373006448,
          3.6166244212711995,
          2.871243046845983,
          2.3014135389653703,
          1.012504950613608,
          0.8083246928454478,
          2.552813567128939,
          6.53980975676828,
          9.840306070373032,
          11.111961602755082,
          12.441327090677472,
          10.57517433924102,
          7.836986886371358
         ],
         "z": [
          3.3507846815549276,
          3.953617722913581,
          5.8147702673144215,
          2.9934959832153067,
          -1.1231168567508405,
          -4.41976552425154,
          -7.633631103511927,
          -7.227094813384128,
          -3.1051550425912002,
          -1.6375074927212006,
          -2.3842244877218564,
          -4.474545299085325,
          -4.889972594676181,
          -3.816618224012438,
          -2.6752676170195624,
          -1.8863302485105284,
          1.0870511470079534,
          4.371188533302695,
          5.659647557496967,
          5.912342102164758,
          8.141121467764604,
          8.30843684134553,
          10.902038455020241,
          12.527293718963678,
          9.88305882830627,
          4.418710302073542,
          -1.4062853378334768,
          -4.01466191491118,
          -4.549599871721898
         ]
        },
        {
         "hovertemplate": "Condition=YELLOW False less pos<br>PC1=%{x}<br>PC2=%{y}<br>PC3=%{z}<br>ZeroedTimeBins=%{marker.size}<extra></extra>",
         "legendgroup": "YELLOW False less pos",
         "marker": {
          "color": "#00cc96",
          "opacity": 1,
          "size": [
           0.050000000000000044,
           0.10000000000000009,
           0.15000000000000013,
           0.19999999999999996,
           0.25,
           0.30000000000000004,
           0.3500000000000001,
           0.40000000000000013,
           0.44999999999999996,
           0.5,
           0.55,
           0.6000000000000001,
           0.6500000000000001,
           0.7,
           0.7500000000000002,
           0.8,
           0.8499999999999999,
           0.9000000000000001,
           0.95,
           1.0000000000000002,
           1.05,
           1.1000000000000003,
           1.1500000000000001,
           1.2,
           1.2500000000000002,
           1.3,
           1.3500000000000003,
           1.4000000000000001,
           1.45
          ],
          "sizemode": "area",
          "sizeref": 0.0036249999999999998,
          "symbol": "circle"
         },
         "mode": "markers",
         "name": "YELLOW False less pos",
         "scene": "scene",
         "showlegend": true,
         "type": "scatter3d",
         "x": [
          6.145207123956031,
          3.3222689679251003,
          0.09198392933196754,
          -3.4273368449670722,
          -7.788783911236308,
          -8.524504351444204,
          -7.166062709496771,
          -7.484242257980944,
          -7.956043202081397,
          -5.116944950018915,
          -2.96997145966881,
          -2.188675170245975,
          -3.4671525480694476,
          -3.771834106928137,
          -4.32228942571835,
          -5.452513521482878,
          -6.861196636979807,
          -6.999104609073072,
          -6.194661494503468,
          -5.23788110991502,
          -5.014198497747305,
          -5.149273200448779,
          -3.8046984264875774,
          -0.7495524157543385,
          -0.5691736223384982,
          -0.39194459927725434,
          0.4641741722816034,
          0.7707410538153827,
          -0.6657357555566753
         ],
         "y": [
          -0.7714189660150454,
          -0.3654445204967762,
          -1.1894685653252888,
          -1.0182109662053611,
          1.5862399313984201,
          1.2577865446879475,
          -0.19911914984881546,
          -1.5422504393027288,
          -1.5262355741525093,
          -1.4837407366284587,
          -0.877914258047434,
          -0.5353326157477154,
          -0.6388107716929408,
          -0.6095437874684563,
          -1.3839046436971019,
          -1.5726890083985932,
          -0.9599789406266942,
          -1.632892395379997,
          -1.6210360115900135,
          -3.396001560926031,
          -3.6411032987980456,
          -5.481859596797052,
          -6.598563857687583,
          -6.752589038498027,
          -3.9625459293421676,
          -0.18534685190298764,
          1.818246001392111,
          2.5612694818420305,
          2.684625401581536
         ],
         "z": [
          0.6920256702687396,
          4.071546667808408,
          6.969135711481398,
          5.813393547396871,
          3.0979385733575993,
          1.0475869727944769,
          1.499866941975061,
          -0.25678887780235393,
          -2.096834419614228,
          -4.7076653185663195,
          -5.1053033164984605,
          -4.022286846219012,
          -4.189860871695838,
          -6.71380361368143,
          -7.856266250278453,
          -7.297321599985488,
          -7.003904837630593,
          -7.65538365534254,
          -9.95569166427432,
          -10.16595831112025,
          -8.584632711880595,
          -5.8905180399241575,
          -4.217957694331775,
          -3.9526679005168566,
          -2.3839596501634768,
          -3.1313099898161836,
          -2.9945568126228714,
          -4.135152246965856,
          -5.899000941858728
         ]
        },
        {
         "hovertemplate": "Condition=YELLOW False more pos<br>PC1=%{x}<br>PC2=%{y}<br>PC3=%{z}<br>ZeroedTimeBins=%{marker.size}<extra></extra>",
         "legendgroup": "YELLOW False more pos",
         "marker": {
          "color": "#ab63fa",
          "opacity": 1,
          "size": [
           0.050000000000000044,
           0.10000000000000009,
           0.15000000000000013,
           0.19999999999999996,
           0.25,
           0.30000000000000004,
           0.3500000000000001,
           0.40000000000000013,
           0.44999999999999996,
           0.5,
           0.55,
           0.6000000000000001,
           0.6500000000000001,
           0.7,
           0.7500000000000002,
           0.8,
           0.8499999999999999,
           0.9000000000000001,
           0.95,
           1.0000000000000002,
           1.05,
           1.1000000000000003,
           1.1500000000000001,
           1.2,
           1.2500000000000002,
           1.3,
           1.3500000000000003,
           1.4000000000000001,
           1.45
          ],
          "sizemode": "area",
          "sizeref": 0.0036249999999999998,
          "symbol": "circle"
         },
         "mode": "markers",
         "name": "YELLOW False more pos",
         "scene": "scene",
         "showlegend": true,
         "type": "scatter3d",
         "x": [
          -6.430548035542698,
          -2.7576232026664353,
          1.222891859300748,
          1.4130257296971864,
          -0.3138734343294768,
          -2.4628150773082185,
          -4.635625416438588,
          -4.120844317364707,
          -1.073986604666574,
          1.536718989296474,
          -0.06185441254737081,
          -1.3544068586546014,
          -0.19049753418628765,
          -0.846644283207207,
          -1.8965184583049084,
          -2.839604277803057,
          -2.7659030289222106,
          -6.4789127856751,
          -7.800031343182508,
          -4.61091996100564,
          -2.0559092881090217,
          -0.02004824865074989,
          -0.8720703486831701,
          0.0662630830627996,
          -0.3578746730045398,
          0.23582744987659232,
          1.919223687770616,
          2.4716593021870823,
          3.7937976574652
         ],
         "y": [
          -4.7339194427608335,
          -4.984309239903579,
          -3.7816403559177476,
          -2.136577596074221,
          -0.7132407586656736,
          -2.023310092284349,
          -2.7390325217299742,
          -3.335670253458593,
          -5.963890795137809,
          -7.117929349785996,
          -7.329218023588522,
          -7.837088346587817,
          -8.630498822088729,
          -11.142209385523802,
          -9.820726094397706,
          -6.982660785121986,
          -4.230551343166276,
          -2.5715683713756072,
          -3.7117610541962494,
          -4.390246920067028,
          -5.585492321076161,
          -8.57408309505473,
          -8.525765420494759,
          -7.578526304863292,
          -8.549240400602576,
          -10.435795564771427,
          -11.589701105590398,
          -11.456229227371814,
          -10.82523387961243
         ],
         "z": [
          5.372307056560083,
          2.9933815035482434,
          -0.07019344924331149,
          -2.931331318686136,
          -1.644292159290644,
          0.6851042554012646,
          3.232240863120696,
          4.185428869458338,
          4.267089850952053,
          2.1485629762366787,
          0.845985580413212,
          1.3361460336832238,
          3.7138215773411347,
          5.09590435047811,
          5.3602590225733255,
          1.8558874496659206,
          -2.5431146443572428,
          -5.510333312736024,
          -7.545738872769297,
          -4.746973326407204,
          1.3028798681036449,
          4.0042781387243185,
          6.441932263860155,
          6.1633906529227165,
          4.869665252214873,
          3.663599797972639,
          1.050807951326357,
          -1.3824336631413403,
          -2.0811861983794078
         ]
        }
       ],
       "layout": {
        "legend": {
         "itemsizing": "constant",
         "title": {
          "text": "Condition"
         },
         "tracegroupgap": 0
        },
        "margin": {
         "t": 60
        },
        "scene": {
         "domain": {
          "x": [
           0,
           1
          ],
          "y": [
           0,
           1
          ]
         },
         "xaxis": {
          "title": {
           "text": "PC1"
          }
         },
         "yaxis": {
          "title": {
           "text": "PC2"
          }
         },
         "zaxis": {
          "title": {
           "text": "PC3"
          }
         }
        },
        "template": {
         "data": {
          "bar": [
           {
            "error_x": {
             "color": "#2a3f5f"
            },
            "error_y": {
             "color": "#2a3f5f"
            },
            "marker": {
             "line": {
              "color": "#E5ECF6",
              "width": 0.5
             },
             "pattern": {
              "fillmode": "overlay",
              "size": 10,
              "solidity": 0.2
             }
            },
            "type": "bar"
           }
          ],
          "barpolar": [
           {
            "marker": {
             "line": {
              "color": "#E5ECF6",
              "width": 0.5
             },
             "pattern": {
              "fillmode": "overlay",
              "size": 10,
              "solidity": 0.2
             }
            },
            "type": "barpolar"
           }
          ],
          "carpet": [
           {
            "aaxis": {
             "endlinecolor": "#2a3f5f",
             "gridcolor": "white",
             "linecolor": "white",
             "minorgridcolor": "white",
             "startlinecolor": "#2a3f5f"
            },
            "baxis": {
             "endlinecolor": "#2a3f5f",
             "gridcolor": "white",
             "linecolor": "white",
             "minorgridcolor": "white",
             "startlinecolor": "#2a3f5f"
            },
            "type": "carpet"
           }
          ],
          "choropleth": [
           {
            "colorbar": {
             "outlinewidth": 0,
             "ticks": ""
            },
            "type": "choropleth"
           }
          ],
          "contour": [
           {
            "colorbar": {
             "outlinewidth": 0,
             "ticks": ""
            },
            "colorscale": [
             [
              0,
              "#0d0887"
             ],
             [
              0.1111111111111111,
              "#46039f"
             ],
             [
              0.2222222222222222,
              "#7201a8"
             ],
             [
              0.3333333333333333,
              "#9c179e"
             ],
             [
              0.4444444444444444,
              "#bd3786"
             ],
             [
              0.5555555555555556,
              "#d8576b"
             ],
             [
              0.6666666666666666,
              "#ed7953"
             ],
             [
              0.7777777777777778,
              "#fb9f3a"
             ],
             [
              0.8888888888888888,
              "#fdca26"
             ],
             [
              1,
              "#f0f921"
             ]
            ],
            "type": "contour"
           }
          ],
          "contourcarpet": [
           {
            "colorbar": {
             "outlinewidth": 0,
             "ticks": ""
            },
            "type": "contourcarpet"
           }
          ],
          "heatmap": [
           {
            "colorbar": {
             "outlinewidth": 0,
             "ticks": ""
            },
            "colorscale": [
             [
              0,
              "#0d0887"
             ],
             [
              0.1111111111111111,
              "#46039f"
             ],
             [
              0.2222222222222222,
              "#7201a8"
             ],
             [
              0.3333333333333333,
              "#9c179e"
             ],
             [
              0.4444444444444444,
              "#bd3786"
             ],
             [
              0.5555555555555556,
              "#d8576b"
             ],
             [
              0.6666666666666666,
              "#ed7953"
             ],
             [
              0.7777777777777778,
              "#fb9f3a"
             ],
             [
              0.8888888888888888,
              "#fdca26"
             ],
             [
              1,
              "#f0f921"
             ]
            ],
            "type": "heatmap"
           }
          ],
          "heatmapgl": [
           {
            "colorbar": {
             "outlinewidth": 0,
             "ticks": ""
            },
            "colorscale": [
             [
              0,
              "#0d0887"
             ],
             [
              0.1111111111111111,
              "#46039f"
             ],
             [
              0.2222222222222222,
              "#7201a8"
             ],
             [
              0.3333333333333333,
              "#9c179e"
             ],
             [
              0.4444444444444444,
              "#bd3786"
             ],
             [
              0.5555555555555556,
              "#d8576b"
             ],
             [
              0.6666666666666666,
              "#ed7953"
             ],
             [
              0.7777777777777778,
              "#fb9f3a"
             ],
             [
              0.8888888888888888,
              "#fdca26"
             ],
             [
              1,
              "#f0f921"
             ]
            ],
            "type": "heatmapgl"
           }
          ],
          "histogram": [
           {
            "marker": {
             "pattern": {
              "fillmode": "overlay",
              "size": 10,
              "solidity": 0.2
             }
            },
            "type": "histogram"
           }
          ],
          "histogram2d": [
           {
            "colorbar": {
             "outlinewidth": 0,
             "ticks": ""
            },
            "colorscale": [
             [
              0,
              "#0d0887"
             ],
             [
              0.1111111111111111,
              "#46039f"
             ],
             [
              0.2222222222222222,
              "#7201a8"
             ],
             [
              0.3333333333333333,
              "#9c179e"
             ],
             [
              0.4444444444444444,
              "#bd3786"
             ],
             [
              0.5555555555555556,
              "#d8576b"
             ],
             [
              0.6666666666666666,
              "#ed7953"
             ],
             [
              0.7777777777777778,
              "#fb9f3a"
             ],
             [
              0.8888888888888888,
              "#fdca26"
             ],
             [
              1,
              "#f0f921"
             ]
            ],
            "type": "histogram2d"
           }
          ],
          "histogram2dcontour": [
           {
            "colorbar": {
             "outlinewidth": 0,
             "ticks": ""
            },
            "colorscale": [
             [
              0,
              "#0d0887"
             ],
             [
              0.1111111111111111,
              "#46039f"
             ],
             [
              0.2222222222222222,
              "#7201a8"
             ],
             [
              0.3333333333333333,
              "#9c179e"
             ],
             [
              0.4444444444444444,
              "#bd3786"
             ],
             [
              0.5555555555555556,
              "#d8576b"
             ],
             [
              0.6666666666666666,
              "#ed7953"
             ],
             [
              0.7777777777777778,
              "#fb9f3a"
             ],
             [
              0.8888888888888888,
              "#fdca26"
             ],
             [
              1,
              "#f0f921"
             ]
            ],
            "type": "histogram2dcontour"
           }
          ],
          "mesh3d": [
           {
            "colorbar": {
             "outlinewidth": 0,
             "ticks": ""
            },
            "type": "mesh3d"
           }
          ],
          "parcoords": [
           {
            "line": {
             "colorbar": {
              "outlinewidth": 0,
              "ticks": ""
             }
            },
            "type": "parcoords"
           }
          ],
          "pie": [
           {
            "automargin": true,
            "type": "pie"
           }
          ],
          "scatter": [
           {
            "fillpattern": {
             "fillmode": "overlay",
             "size": 10,
             "solidity": 0.2
            },
            "type": "scatter"
           }
          ],
          "scatter3d": [
           {
            "line": {
             "colorbar": {
              "outlinewidth": 0,
              "ticks": ""
             }
            },
            "marker": {
             "colorbar": {
              "outlinewidth": 0,
              "ticks": ""
             }
            },
            "type": "scatter3d"
           }
          ],
          "scattercarpet": [
           {
            "marker": {
             "colorbar": {
              "outlinewidth": 0,
              "ticks": ""
             }
            },
            "type": "scattercarpet"
           }
          ],
          "scattergeo": [
           {
            "marker": {
             "colorbar": {
              "outlinewidth": 0,
              "ticks": ""
             }
            },
            "type": "scattergeo"
           }
          ],
          "scattergl": [
           {
            "marker": {
             "colorbar": {
              "outlinewidth": 0,
              "ticks": ""
             }
            },
            "type": "scattergl"
           }
          ],
          "scattermapbox": [
           {
            "marker": {
             "colorbar": {
              "outlinewidth": 0,
              "ticks": ""
             }
            },
            "type": "scattermapbox"
           }
          ],
          "scatterpolar": [
           {
            "marker": {
             "colorbar": {
              "outlinewidth": 0,
              "ticks": ""
             }
            },
            "type": "scatterpolar"
           }
          ],
          "scatterpolargl": [
           {
            "marker": {
             "colorbar": {
              "outlinewidth": 0,
              "ticks": ""
             }
            },
            "type": "scatterpolargl"
           }
          ],
          "scatterternary": [
           {
            "marker": {
             "colorbar": {
              "outlinewidth": 0,
              "ticks": ""
             }
            },
            "type": "scatterternary"
           }
          ],
          "surface": [
           {
            "colorbar": {
             "outlinewidth": 0,
             "ticks": ""
            },
            "colorscale": [
             [
              0,
              "#0d0887"
             ],
             [
              0.1111111111111111,
              "#46039f"
             ],
             [
              0.2222222222222222,
              "#7201a8"
             ],
             [
              0.3333333333333333,
              "#9c179e"
             ],
             [
              0.4444444444444444,
              "#bd3786"
             ],
             [
              0.5555555555555556,
              "#d8576b"
             ],
             [
              0.6666666666666666,
              "#ed7953"
             ],
             [
              0.7777777777777778,
              "#fb9f3a"
             ],
             [
              0.8888888888888888,
              "#fdca26"
             ],
             [
              1,
              "#f0f921"
             ]
            ],
            "type": "surface"
           }
          ],
          "table": [
           {
            "cells": {
             "fill": {
              "color": "#EBF0F8"
             },
             "line": {
              "color": "white"
             }
            },
            "header": {
             "fill": {
              "color": "#C8D4E3"
             },
             "line": {
              "color": "white"
             }
            },
            "type": "table"
           }
          ]
         },
         "layout": {
          "annotationdefaults": {
           "arrowcolor": "#2a3f5f",
           "arrowhead": 0,
           "arrowwidth": 1
          },
          "autotypenumbers": "strict",
          "coloraxis": {
           "colorbar": {
            "outlinewidth": 0,
            "ticks": ""
           }
          },
          "colorscale": {
           "diverging": [
            [
             0,
             "#8e0152"
            ],
            [
             0.1,
             "#c51b7d"
            ],
            [
             0.2,
             "#de77ae"
            ],
            [
             0.3,
             "#f1b6da"
            ],
            [
             0.4,
             "#fde0ef"
            ],
            [
             0.5,
             "#f7f7f7"
            ],
            [
             0.6,
             "#e6f5d0"
            ],
            [
             0.7,
             "#b8e186"
            ],
            [
             0.8,
             "#7fbc41"
            ],
            [
             0.9,
             "#4d9221"
            ],
            [
             1,
             "#276419"
            ]
           ],
           "sequential": [
            [
             0,
             "#0d0887"
            ],
            [
             0.1111111111111111,
             "#46039f"
            ],
            [
             0.2222222222222222,
             "#7201a8"
            ],
            [
             0.3333333333333333,
             "#9c179e"
            ],
            [
             0.4444444444444444,
             "#bd3786"
            ],
            [
             0.5555555555555556,
             "#d8576b"
            ],
            [
             0.6666666666666666,
             "#ed7953"
            ],
            [
             0.7777777777777778,
             "#fb9f3a"
            ],
            [
             0.8888888888888888,
             "#fdca26"
            ],
            [
             1,
             "#f0f921"
            ]
           ],
           "sequentialminus": [
            [
             0,
             "#0d0887"
            ],
            [
             0.1111111111111111,
             "#46039f"
            ],
            [
             0.2222222222222222,
             "#7201a8"
            ],
            [
             0.3333333333333333,
             "#9c179e"
            ],
            [
             0.4444444444444444,
             "#bd3786"
            ],
            [
             0.5555555555555556,
             "#d8576b"
            ],
            [
             0.6666666666666666,
             "#ed7953"
            ],
            [
             0.7777777777777778,
             "#fb9f3a"
            ],
            [
             0.8888888888888888,
             "#fdca26"
            ],
            [
             1,
             "#f0f921"
            ]
           ]
          },
          "colorway": [
           "#636efa",
           "#EF553B",
           "#00cc96",
           "#ab63fa",
           "#FFA15A",
           "#19d3f3",
           "#FF6692",
           "#B6E880",
           "#FF97FF",
           "#FECB52"
          ],
          "font": {
           "color": "#2a3f5f"
          },
          "geo": {
           "bgcolor": "white",
           "lakecolor": "white",
           "landcolor": "#E5ECF6",
           "showlakes": true,
           "showland": true,
           "subunitcolor": "white"
          },
          "hoverlabel": {
           "align": "left"
          },
          "hovermode": "closest",
          "mapbox": {
           "style": "light"
          },
          "paper_bgcolor": "white",
          "plot_bgcolor": "#E5ECF6",
          "polar": {
           "angularaxis": {
            "gridcolor": "white",
            "linecolor": "white",
            "ticks": ""
           },
           "bgcolor": "#E5ECF6",
           "radialaxis": {
            "gridcolor": "white",
            "linecolor": "white",
            "ticks": ""
           }
          },
          "scene": {
           "xaxis": {
            "backgroundcolor": "#E5ECF6",
            "gridcolor": "white",
            "gridwidth": 2,
            "linecolor": "white",
            "showbackground": true,
            "ticks": "",
            "zerolinecolor": "white"
           },
           "yaxis": {
            "backgroundcolor": "#E5ECF6",
            "gridcolor": "white",
            "gridwidth": 2,
            "linecolor": "white",
            "showbackground": true,
            "ticks": "",
            "zerolinecolor": "white"
           },
           "zaxis": {
            "backgroundcolor": "#E5ECF6",
            "gridcolor": "white",
            "gridwidth": 2,
            "linecolor": "white",
            "showbackground": true,
            "ticks": "",
            "zerolinecolor": "white"
           }
          },
          "shapedefaults": {
           "line": {
            "color": "#2a3f5f"
           }
          },
          "ternary": {
           "aaxis": {
            "gridcolor": "white",
            "linecolor": "white",
            "ticks": ""
           },
           "baxis": {
            "gridcolor": "white",
            "linecolor": "white",
            "ticks": ""
           },
           "bgcolor": "#E5ECF6",
           "caxis": {
            "gridcolor": "white",
            "linecolor": "white",
            "ticks": ""
           }
          },
          "title": {
           "x": 0.05
          },
          "xaxis": {
           "automargin": true,
           "gridcolor": "white",
           "linecolor": "white",
           "ticks": "",
           "title": {
            "standoff": 15
           },
           "zerolinecolor": "white",
           "zerolinewidth": 2
          },
          "yaxis": {
           "automargin": true,
           "gridcolor": "white",
           "linecolor": "white",
           "ticks": "",
           "title": {
            "standoff": 15
           },
           "zerolinecolor": "white",
           "zerolinewidth": 2
          }
         }
        }
       }
      },
      "text/html": [
       "<div>                            <div id=\"bc6b6dc3-f359-4742-8010-69e0c9709eb0\" class=\"plotly-graph-div\" style=\"height:525px; width:100%;\"></div>            <script type=\"text/javascript\">                require([\"plotly\"], function(Plotly) {                    window.PLOTLYENV=window.PLOTLYENV || {};                                    if (document.getElementById(\"bc6b6dc3-f359-4742-8010-69e0c9709eb0\")) {                    Plotly.newPlot(                        \"bc6b6dc3-f359-4742-8010-69e0c9709eb0\",                        [{\"hovertemplate\":\"Condition=MAGENTA False less pos<br>PC1=%{x}<br>PC2=%{y}<br>PC3=%{z}<br>ZeroedTimeBins=%{marker.size}<extra></extra>\",\"legendgroup\":\"MAGENTA False less pos\",\"marker\":{\"color\":\"#636efa\",\"opacity\":1,\"size\":[0.050000000000000044,0.10000000000000009,0.15000000000000013,0.19999999999999996,0.25,0.30000000000000004,0.3500000000000001,0.40000000000000013,0.44999999999999996,0.5,0.55,0.6000000000000001,0.6500000000000001,0.7,0.7500000000000002,0.8,0.8499999999999999,0.9000000000000001,0.95,1.0000000000000002,1.05,1.1000000000000003,1.1500000000000001,1.2,1.2500000000000002,1.3,1.3500000000000003,1.4000000000000001,1.45],\"sizemode\":\"area\",\"sizeref\":0.0036249999999999998,\"symbol\":\"circle\"},\"mode\":\"markers\",\"name\":\"MAGENTA False less pos\",\"scene\":\"scene\",\"showlegend\":true,\"x\":[2.5383262856515154,5.494115467044886,8.659504372271835,10.743485696140384,11.140697413241455,11.272035130166422,9.22662579763855,7.853159915793076,3.912061105193446,2.8911191759445085,1.8691541790959096,0.9421474340425514,-0.32461828750610916,-2.2111861120719576,-4.8764705231218395,-2.97034731900263,-1.0563736384726379,-1.3242192536590285,-3.837705283908564,-7.774107933710842,-10.353433694239907,-10.608842268506308,-8.726731335073557,-4.054775350285274,-1.8700494742289768,-4.108409766914712,-6.485842418461205,-5.397059544273791,-4.0341997259605575],\"y\":[-2.7182484774460742,-3.4695787267362355,-4.501175063762187,-5.466476446108675,-5.852769564487713,-5.96182125136543,-4.14028366420543,-0.26529250937816395,3.609055758326649,5.1775825307545995,5.332287516666075,3.8728145637099205,1.4300505055627473,-0.09318962011160488,-0.5542837200831465,2.270913218059608,5.605539177658609,6.5499174361193315,7.577653557282216,7.37823902174104,6.558684451877054,5.162940475552498,3.560014242632389,3.9301048134453533,6.683089855685201,8.729240443132666,10.414825624480205,10.307197139134042,10.50375805872413],\"z\":[-1.6302999538051695,-5.451025949186846,-10.307043627619603,-12.227107601628003,-9.904459775611665,-7.487014191421629,-6.99227747702821,-8.1688985878627,-6.61866435619676,-3.567205786270112,-0.25073118021913765,-0.34016650273525884,-1.7206334025354848,-1.9530910031839959,-2.1790869822672336,-3.068839063005763,-2.217988205403203,-2.5103506280583714,-4.533884746263437,-5.544795027359522,-4.500408961573984,-3.3877105962638625,-3.599459416994295,-6.309031430922658,-6.156883382334797,-2.5176836680937806,4.18429913012729,8.609212914977123,9.535084012872758],\"type\":\"scatter3d\"},{\"hovertemplate\":\"Condition=MAGENTA False more pos<br>PC1=%{x}<br>PC2=%{y}<br>PC3=%{z}<br>ZeroedTimeBins=%{marker.size}<extra></extra>\",\"legendgroup\":\"MAGENTA False more pos\",\"marker\":{\"color\":\"#EF553B\",\"opacity\":1,\"size\":[0.050000000000000044,0.10000000000000009,0.15000000000000013,0.19999999999999996,0.25,0.30000000000000004,0.3500000000000001,0.40000000000000013,0.44999999999999996,0.5,0.55,0.6000000000000001,0.6500000000000001,0.7,0.7500000000000002,0.8,0.8499999999999999,0.9000000000000001,0.95,1.0000000000000002,1.05,1.1000000000000003,1.1500000000000001,1.2,1.2500000000000002,1.3,1.3500000000000003,1.4000000000000001,1.45],\"sizemode\":\"area\",\"sizeref\":0.0036249999999999998,\"symbol\":\"circle\"},\"mode\":\"markers\",\"name\":\"MAGENTA False more pos\",\"scene\":\"scene\",\"showlegend\":true,\"x\":[-0.38284643312539823,2.488419161019796,4.638634968491377,8.817647607385254,12.513242317668727,13.88686967657735,14.642924329681552,14.774596109558473,12.790651593293434,13.943917108589966,13.925319647142146,12.217084827536043,8.22463708155504,4.3337275123687595,0.787645053480549,3.499497294107714,8.888991762194099,9.308894604184104,8.19040251861737,8.536378186943503,9.955199761379136,10.525787813135294,6.784250429440595,2.9795779876391992,0.5449138293787223,1.2687987942114105,1.7072540560647789,3.044200105987342,5.616102113320547],\"y\":[-1.6733127697817,-4.094941535193234,-5.183267577621665,-4.556813150616201,-2.0392051111595397,0.2944694619168556,0.09847947300538937,-0.010715853964759055,0.04613227262680275,1.8418584808544856,3.5744689358642217,5.1303779621026155,5.930877934882015,5.524421186969377,6.636673170665617,5.8586894580030195,3.689136373006448,3.6166244212711995,2.871243046845983,2.3014135389653703,1.012504950613608,0.8083246928454478,2.552813567128939,6.53980975676828,9.840306070373032,11.111961602755082,12.441327090677472,10.57517433924102,7.836986886371358],\"z\":[3.3507846815549276,3.953617722913581,5.8147702673144215,2.9934959832153067,-1.1231168567508405,-4.41976552425154,-7.633631103511927,-7.227094813384128,-3.1051550425912002,-1.6375074927212006,-2.3842244877218564,-4.474545299085325,-4.889972594676181,-3.816618224012438,-2.6752676170195624,-1.8863302485105284,1.0870511470079534,4.371188533302695,5.659647557496967,5.912342102164758,8.141121467764604,8.30843684134553,10.902038455020241,12.527293718963678,9.88305882830627,4.418710302073542,-1.4062853378334768,-4.01466191491118,-4.549599871721898],\"type\":\"scatter3d\"},{\"hovertemplate\":\"Condition=YELLOW False less pos<br>PC1=%{x}<br>PC2=%{y}<br>PC3=%{z}<br>ZeroedTimeBins=%{marker.size}<extra></extra>\",\"legendgroup\":\"YELLOW False less pos\",\"marker\":{\"color\":\"#00cc96\",\"opacity\":1,\"size\":[0.050000000000000044,0.10000000000000009,0.15000000000000013,0.19999999999999996,0.25,0.30000000000000004,0.3500000000000001,0.40000000000000013,0.44999999999999996,0.5,0.55,0.6000000000000001,0.6500000000000001,0.7,0.7500000000000002,0.8,0.8499999999999999,0.9000000000000001,0.95,1.0000000000000002,1.05,1.1000000000000003,1.1500000000000001,1.2,1.2500000000000002,1.3,1.3500000000000003,1.4000000000000001,1.45],\"sizemode\":\"area\",\"sizeref\":0.0036249999999999998,\"symbol\":\"circle\"},\"mode\":\"markers\",\"name\":\"YELLOW False less pos\",\"scene\":\"scene\",\"showlegend\":true,\"x\":[6.145207123956031,3.3222689679251003,0.09198392933196754,-3.4273368449670722,-7.788783911236308,-8.524504351444204,-7.166062709496771,-7.484242257980944,-7.956043202081397,-5.116944950018915,-2.96997145966881,-2.188675170245975,-3.4671525480694476,-3.771834106928137,-4.32228942571835,-5.452513521482878,-6.861196636979807,-6.999104609073072,-6.194661494503468,-5.23788110991502,-5.014198497747305,-5.149273200448779,-3.8046984264875774,-0.7495524157543385,-0.5691736223384982,-0.39194459927725434,0.4641741722816034,0.7707410538153827,-0.6657357555566753],\"y\":[-0.7714189660150454,-0.3654445204967762,-1.1894685653252888,-1.0182109662053611,1.5862399313984201,1.2577865446879475,-0.19911914984881546,-1.5422504393027288,-1.5262355741525093,-1.4837407366284587,-0.877914258047434,-0.5353326157477154,-0.6388107716929408,-0.6095437874684563,-1.3839046436971019,-1.5726890083985932,-0.9599789406266942,-1.632892395379997,-1.6210360115900135,-3.396001560926031,-3.6411032987980456,-5.481859596797052,-6.598563857687583,-6.752589038498027,-3.9625459293421676,-0.18534685190298764,1.818246001392111,2.5612694818420305,2.684625401581536],\"z\":[0.6920256702687396,4.071546667808408,6.969135711481398,5.813393547396871,3.0979385733575993,1.0475869727944769,1.499866941975061,-0.25678887780235393,-2.096834419614228,-4.7076653185663195,-5.1053033164984605,-4.022286846219012,-4.189860871695838,-6.71380361368143,-7.856266250278453,-7.297321599985488,-7.003904837630593,-7.65538365534254,-9.95569166427432,-10.16595831112025,-8.584632711880595,-5.8905180399241575,-4.217957694331775,-3.9526679005168566,-2.3839596501634768,-3.1313099898161836,-2.9945568126228714,-4.135152246965856,-5.899000941858728],\"type\":\"scatter3d\"},{\"hovertemplate\":\"Condition=YELLOW False more pos<br>PC1=%{x}<br>PC2=%{y}<br>PC3=%{z}<br>ZeroedTimeBins=%{marker.size}<extra></extra>\",\"legendgroup\":\"YELLOW False more pos\",\"marker\":{\"color\":\"#ab63fa\",\"opacity\":1,\"size\":[0.050000000000000044,0.10000000000000009,0.15000000000000013,0.19999999999999996,0.25,0.30000000000000004,0.3500000000000001,0.40000000000000013,0.44999999999999996,0.5,0.55,0.6000000000000001,0.6500000000000001,0.7,0.7500000000000002,0.8,0.8499999999999999,0.9000000000000001,0.95,1.0000000000000002,1.05,1.1000000000000003,1.1500000000000001,1.2,1.2500000000000002,1.3,1.3500000000000003,1.4000000000000001,1.45],\"sizemode\":\"area\",\"sizeref\":0.0036249999999999998,\"symbol\":\"circle\"},\"mode\":\"markers\",\"name\":\"YELLOW False more pos\",\"scene\":\"scene\",\"showlegend\":true,\"x\":[-6.430548035542698,-2.7576232026664353,1.222891859300748,1.4130257296971864,-0.3138734343294768,-2.4628150773082185,-4.635625416438588,-4.120844317364707,-1.073986604666574,1.536718989296474,-0.06185441254737081,-1.3544068586546014,-0.19049753418628765,-0.846644283207207,-1.8965184583049084,-2.839604277803057,-2.7659030289222106,-6.4789127856751,-7.800031343182508,-4.61091996100564,-2.0559092881090217,-0.02004824865074989,-0.8720703486831701,0.0662630830627996,-0.3578746730045398,0.23582744987659232,1.919223687770616,2.4716593021870823,3.7937976574652],\"y\":[-4.7339194427608335,-4.984309239903579,-3.7816403559177476,-2.136577596074221,-0.7132407586656736,-2.023310092284349,-2.7390325217299742,-3.335670253458593,-5.963890795137809,-7.117929349785996,-7.329218023588522,-7.837088346587817,-8.630498822088729,-11.142209385523802,-9.820726094397706,-6.982660785121986,-4.230551343166276,-2.5715683713756072,-3.7117610541962494,-4.390246920067028,-5.585492321076161,-8.57408309505473,-8.525765420494759,-7.578526304863292,-8.549240400602576,-10.435795564771427,-11.589701105590398,-11.456229227371814,-10.82523387961243],\"z\":[5.372307056560083,2.9933815035482434,-0.07019344924331149,-2.931331318686136,-1.644292159290644,0.6851042554012646,3.232240863120696,4.185428869458338,4.267089850952053,2.1485629762366787,0.845985580413212,1.3361460336832238,3.7138215773411347,5.09590435047811,5.3602590225733255,1.8558874496659206,-2.5431146443572428,-5.510333312736024,-7.545738872769297,-4.746973326407204,1.3028798681036449,4.0042781387243185,6.441932263860155,6.1633906529227165,4.869665252214873,3.663599797972639,1.050807951326357,-1.3824336631413403,-2.0811861983794078],\"type\":\"scatter3d\"}],                        {\"template\":{\"data\":{\"histogram2dcontour\":[{\"type\":\"histogram2dcontour\",\"colorbar\":{\"outlinewidth\":0,\"ticks\":\"\"},\"colorscale\":[[0.0,\"#0d0887\"],[0.1111111111111111,\"#46039f\"],[0.2222222222222222,\"#7201a8\"],[0.3333333333333333,\"#9c179e\"],[0.4444444444444444,\"#bd3786\"],[0.5555555555555556,\"#d8576b\"],[0.6666666666666666,\"#ed7953\"],[0.7777777777777778,\"#fb9f3a\"],[0.8888888888888888,\"#fdca26\"],[1.0,\"#f0f921\"]]}],\"choropleth\":[{\"type\":\"choropleth\",\"colorbar\":{\"outlinewidth\":0,\"ticks\":\"\"}}],\"histogram2d\":[{\"type\":\"histogram2d\",\"colorbar\":{\"outlinewidth\":0,\"ticks\":\"\"},\"colorscale\":[[0.0,\"#0d0887\"],[0.1111111111111111,\"#46039f\"],[0.2222222222222222,\"#7201a8\"],[0.3333333333333333,\"#9c179e\"],[0.4444444444444444,\"#bd3786\"],[0.5555555555555556,\"#d8576b\"],[0.6666666666666666,\"#ed7953\"],[0.7777777777777778,\"#fb9f3a\"],[0.8888888888888888,\"#fdca26\"],[1.0,\"#f0f921\"]]}],\"heatmap\":[{\"type\":\"heatmap\",\"colorbar\":{\"outlinewidth\":0,\"ticks\":\"\"},\"colorscale\":[[0.0,\"#0d0887\"],[0.1111111111111111,\"#46039f\"],[0.2222222222222222,\"#7201a8\"],[0.3333333333333333,\"#9c179e\"],[0.4444444444444444,\"#bd3786\"],[0.5555555555555556,\"#d8576b\"],[0.6666666666666666,\"#ed7953\"],[0.7777777777777778,\"#fb9f3a\"],[0.8888888888888888,\"#fdca26\"],[1.0,\"#f0f921\"]]}],\"heatmapgl\":[{\"type\":\"heatmapgl\",\"colorbar\":{\"outlinewidth\":0,\"ticks\":\"\"},\"colorscale\":[[0.0,\"#0d0887\"],[0.1111111111111111,\"#46039f\"],[0.2222222222222222,\"#7201a8\"],[0.3333333333333333,\"#9c179e\"],[0.4444444444444444,\"#bd3786\"],[0.5555555555555556,\"#d8576b\"],[0.6666666666666666,\"#ed7953\"],[0.7777777777777778,\"#fb9f3a\"],[0.8888888888888888,\"#fdca26\"],[1.0,\"#f0f921\"]]}],\"contourcarpet\":[{\"type\":\"contourcarpet\",\"colorbar\":{\"outlinewidth\":0,\"ticks\":\"\"}}],\"contour\":[{\"type\":\"contour\",\"colorbar\":{\"outlinewidth\":0,\"ticks\":\"\"},\"colorscale\":[[0.0,\"#0d0887\"],[0.1111111111111111,\"#46039f\"],[0.2222222222222222,\"#7201a8\"],[0.3333333333333333,\"#9c179e\"],[0.4444444444444444,\"#bd3786\"],[0.5555555555555556,\"#d8576b\"],[0.6666666666666666,\"#ed7953\"],[0.7777777777777778,\"#fb9f3a\"],[0.8888888888888888,\"#fdca26\"],[1.0,\"#f0f921\"]]}],\"surface\":[{\"type\":\"surface\",\"colorbar\":{\"outlinewidth\":0,\"ticks\":\"\"},\"colorscale\":[[0.0,\"#0d0887\"],[0.1111111111111111,\"#46039f\"],[0.2222222222222222,\"#7201a8\"],[0.3333333333333333,\"#9c179e\"],[0.4444444444444444,\"#bd3786\"],[0.5555555555555556,\"#d8576b\"],[0.6666666666666666,\"#ed7953\"],[0.7777777777777778,\"#fb9f3a\"],[0.8888888888888888,\"#fdca26\"],[1.0,\"#f0f921\"]]}],\"mesh3d\":[{\"type\":\"mesh3d\",\"colorbar\":{\"outlinewidth\":0,\"ticks\":\"\"}}],\"scatter\":[{\"fillpattern\":{\"fillmode\":\"overlay\",\"size\":10,\"solidity\":0.2},\"type\":\"scatter\"}],\"parcoords\":[{\"type\":\"parcoords\",\"line\":{\"colorbar\":{\"outlinewidth\":0,\"ticks\":\"\"}}}],\"scatterpolargl\":[{\"type\":\"scatterpolargl\",\"marker\":{\"colorbar\":{\"outlinewidth\":0,\"ticks\":\"\"}}}],\"bar\":[{\"error_x\":{\"color\":\"#2a3f5f\"},\"error_y\":{\"color\":\"#2a3f5f\"},\"marker\":{\"line\":{\"color\":\"#E5ECF6\",\"width\":0.5},\"pattern\":{\"fillmode\":\"overlay\",\"size\":10,\"solidity\":0.2}},\"type\":\"bar\"}],\"scattergeo\":[{\"type\":\"scattergeo\",\"marker\":{\"colorbar\":{\"outlinewidth\":0,\"ticks\":\"\"}}}],\"scatterpolar\":[{\"type\":\"scatterpolar\",\"marker\":{\"colorbar\":{\"outlinewidth\":0,\"ticks\":\"\"}}}],\"histogram\":[{\"marker\":{\"pattern\":{\"fillmode\":\"overlay\",\"size\":10,\"solidity\":0.2}},\"type\":\"histogram\"}],\"scattergl\":[{\"type\":\"scattergl\",\"marker\":{\"colorbar\":{\"outlinewidth\":0,\"ticks\":\"\"}}}],\"scatter3d\":[{\"type\":\"scatter3d\",\"line\":{\"colorbar\":{\"outlinewidth\":0,\"ticks\":\"\"}},\"marker\":{\"colorbar\":{\"outlinewidth\":0,\"ticks\":\"\"}}}],\"scattermapbox\":[{\"type\":\"scattermapbox\",\"marker\":{\"colorbar\":{\"outlinewidth\":0,\"ticks\":\"\"}}}],\"scatterternary\":[{\"type\":\"scatterternary\",\"marker\":{\"colorbar\":{\"outlinewidth\":0,\"ticks\":\"\"}}}],\"scattercarpet\":[{\"type\":\"scattercarpet\",\"marker\":{\"colorbar\":{\"outlinewidth\":0,\"ticks\":\"\"}}}],\"carpet\":[{\"aaxis\":{\"endlinecolor\":\"#2a3f5f\",\"gridcolor\":\"white\",\"linecolor\":\"white\",\"minorgridcolor\":\"white\",\"startlinecolor\":\"#2a3f5f\"},\"baxis\":{\"endlinecolor\":\"#2a3f5f\",\"gridcolor\":\"white\",\"linecolor\":\"white\",\"minorgridcolor\":\"white\",\"startlinecolor\":\"#2a3f5f\"},\"type\":\"carpet\"}],\"table\":[{\"cells\":{\"fill\":{\"color\":\"#EBF0F8\"},\"line\":{\"color\":\"white\"}},\"header\":{\"fill\":{\"color\":\"#C8D4E3\"},\"line\":{\"color\":\"white\"}},\"type\":\"table\"}],\"barpolar\":[{\"marker\":{\"line\":{\"color\":\"#E5ECF6\",\"width\":0.5},\"pattern\":{\"fillmode\":\"overlay\",\"size\":10,\"solidity\":0.2}},\"type\":\"barpolar\"}],\"pie\":[{\"automargin\":true,\"type\":\"pie\"}]},\"layout\":{\"autotypenumbers\":\"strict\",\"colorway\":[\"#636efa\",\"#EF553B\",\"#00cc96\",\"#ab63fa\",\"#FFA15A\",\"#19d3f3\",\"#FF6692\",\"#B6E880\",\"#FF97FF\",\"#FECB52\"],\"font\":{\"color\":\"#2a3f5f\"},\"hovermode\":\"closest\",\"hoverlabel\":{\"align\":\"left\"},\"paper_bgcolor\":\"white\",\"plot_bgcolor\":\"#E5ECF6\",\"polar\":{\"bgcolor\":\"#E5ECF6\",\"angularaxis\":{\"gridcolor\":\"white\",\"linecolor\":\"white\",\"ticks\":\"\"},\"radialaxis\":{\"gridcolor\":\"white\",\"linecolor\":\"white\",\"ticks\":\"\"}},\"ternary\":{\"bgcolor\":\"#E5ECF6\",\"aaxis\":{\"gridcolor\":\"white\",\"linecolor\":\"white\",\"ticks\":\"\"},\"baxis\":{\"gridcolor\":\"white\",\"linecolor\":\"white\",\"ticks\":\"\"},\"caxis\":{\"gridcolor\":\"white\",\"linecolor\":\"white\",\"ticks\":\"\"}},\"coloraxis\":{\"colorbar\":{\"outlinewidth\":0,\"ticks\":\"\"}},\"colorscale\":{\"sequential\":[[0.0,\"#0d0887\"],[0.1111111111111111,\"#46039f\"],[0.2222222222222222,\"#7201a8\"],[0.3333333333333333,\"#9c179e\"],[0.4444444444444444,\"#bd3786\"],[0.5555555555555556,\"#d8576b\"],[0.6666666666666666,\"#ed7953\"],[0.7777777777777778,\"#fb9f3a\"],[0.8888888888888888,\"#fdca26\"],[1.0,\"#f0f921\"]],\"sequentialminus\":[[0.0,\"#0d0887\"],[0.1111111111111111,\"#46039f\"],[0.2222222222222222,\"#7201a8\"],[0.3333333333333333,\"#9c179e\"],[0.4444444444444444,\"#bd3786\"],[0.5555555555555556,\"#d8576b\"],[0.6666666666666666,\"#ed7953\"],[0.7777777777777778,\"#fb9f3a\"],[0.8888888888888888,\"#fdca26\"],[1.0,\"#f0f921\"]],\"diverging\":[[0,\"#8e0152\"],[0.1,\"#c51b7d\"],[0.2,\"#de77ae\"],[0.3,\"#f1b6da\"],[0.4,\"#fde0ef\"],[0.5,\"#f7f7f7\"],[0.6,\"#e6f5d0\"],[0.7,\"#b8e186\"],[0.8,\"#7fbc41\"],[0.9,\"#4d9221\"],[1,\"#276419\"]]},\"xaxis\":{\"gridcolor\":\"white\",\"linecolor\":\"white\",\"ticks\":\"\",\"title\":{\"standoff\":15},\"zerolinecolor\":\"white\",\"automargin\":true,\"zerolinewidth\":2},\"yaxis\":{\"gridcolor\":\"white\",\"linecolor\":\"white\",\"ticks\":\"\",\"title\":{\"standoff\":15},\"zerolinecolor\":\"white\",\"automargin\":true,\"zerolinewidth\":2},\"scene\":{\"xaxis\":{\"backgroundcolor\":\"#E5ECF6\",\"gridcolor\":\"white\",\"linecolor\":\"white\",\"showbackground\":true,\"ticks\":\"\",\"zerolinecolor\":\"white\",\"gridwidth\":2},\"yaxis\":{\"backgroundcolor\":\"#E5ECF6\",\"gridcolor\":\"white\",\"linecolor\":\"white\",\"showbackground\":true,\"ticks\":\"\",\"zerolinecolor\":\"white\",\"gridwidth\":2},\"zaxis\":{\"backgroundcolor\":\"#E5ECF6\",\"gridcolor\":\"white\",\"linecolor\":\"white\",\"showbackground\":true,\"ticks\":\"\",\"zerolinecolor\":\"white\",\"gridwidth\":2}},\"shapedefaults\":{\"line\":{\"color\":\"#2a3f5f\"}},\"annotationdefaults\":{\"arrowcolor\":\"#2a3f5f\",\"arrowhead\":0,\"arrowwidth\":1},\"geo\":{\"bgcolor\":\"white\",\"landcolor\":\"#E5ECF6\",\"subunitcolor\":\"white\",\"showland\":true,\"showlakes\":true,\"lakecolor\":\"white\"},\"title\":{\"x\":0.05},\"mapbox\":{\"style\":\"light\"}}},\"scene\":{\"domain\":{\"x\":[0.0,1.0],\"y\":[0.0,1.0]},\"xaxis\":{\"title\":{\"text\":\"PC1\"}},\"yaxis\":{\"title\":{\"text\":\"PC2\"}},\"zaxis\":{\"title\":{\"text\":\"PC3\"}}},\"legend\":{\"title\":{\"text\":\"Condition\"},\"tracegroupgap\":0,\"itemsizing\":\"constant\"},\"margin\":{\"t\":60}},                        {\"responsive\": true}                    ).then(function(){\n",
       "                            \n",
       "var gd = document.getElementById('bc6b6dc3-f359-4742-8010-69e0c9709eb0');\n",
       "var x = new MutationObserver(function (mutations, observer) {{\n",
       "        var display = window.getComputedStyle(gd).display;\n",
       "        if (!display || display === 'none') {{\n",
       "            console.log([gd, 'removed!']);\n",
       "            Plotly.purge(gd);\n",
       "            observer.disconnect();\n",
       "        }}\n",
       "}});\n",
       "\n",
       "// Listen for the removal of the full notebook cells\n",
       "var notebookContainer = gd.closest('#notebook-container');\n",
       "if (notebookContainer) {{\n",
       "    x.observe(notebookContainer, {childList: true});\n",
       "}}\n",
       "\n",
       "// Listen for the clearing of the current output cell\n",
       "var outputEl = gd.closest('.output');\n",
       "if (outputEl) {{\n",
       "    x.observe(outputEl, {childList: true});\n",
       "}}\n",
       "\n",
       "                        })                };                });            </script>        </div>"
      ]
     },
     "metadata": {},
     "output_type": "display_data"
    }
   ],
   "source": [
    "transformed_df, pca_false = project_conditioned_firing_rates(false_trials)\n",
    "transformed_df[\"ZeroedTimeBins\"] = transformed_df.TimeBins - 1.3\n",
    "fig = px.scatter_3d(\n",
    "    transformed_df, \n",
    "    x='PC1', y='PC2', z='PC3',\n",
    "    color='Condition', \n",
    "    opacity=1,\n",
    "    size='ZeroedTimeBins',\n",
    "    # color_discrete_sequence=colors\n",
    ")\n",
    "fig.show()"
   ]
  },
  {
   "cell_type": "code",
   "execution_count": 22,
   "metadata": {},
   "outputs": [
    {
     "data": {
      "text/plain": [
       "<matplotlib.legend.Legend at 0x7fa768d21bd0>"
      ]
     },
     "execution_count": 22,
     "metadata": {},
     "output_type": "execute_result"
    },
    {
     "data": {
      "image/png": "[encoded data removed]",
      "text/plain": [
       "<Figure size 640x480 with 1 Axes>"
      ]
     },
     "metadata": {},
     "output_type": "display_data"
    }
   ],
   "source": [
    "fig, ax = plt.subplots()\n",
    "true_var_ratios = np.cumsum(pca_true.explained_variance_ratio_[:20])\n",
    "false_var_ratios = np.cumsum(pca_false.explained_variance_ratio_[:20])\n",
    "ax.plot(np.arange(1, len(true_var_ratios) +1), true_var_ratios, label=\"Max\")\n",
    "ax.plot(np.arange(1, len(false_var_ratios) +1), false_var_ratios, label=\"Not Max\")\n",
    "\n",
    "ax.set_xlabel(\"Number of components\")\n",
    "ax.set_ylabel(\"Cumulative variance explained\")\n",
    "ax.legend()"
   ]
  },
  {
   "cell_type": "code",
   "execution_count": null,
   "metadata": {},
   "outputs": [],
   "source": []
  }
 ],
 "metadata": {
  "kernelspec": {
   "display_name": "Python 3",
   "language": "python",
   "name": "python3"
  },
  "language_info": {
   "codemirror_mode": {
    "name": "ipython",
    "version": 3
   },
   "file_extension": ".py",
   "mimetype": "text/x-python",
   "name": "python",
   "nbconvert_exporter": "python",
   "pygments_lexer": "ipython3",
   "version": "3.10.6"
  }
 },
 "nbformat": 4,
 "nbformat_minor": 2
}
