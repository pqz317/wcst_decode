{
 "cells": [
  {
   "cell_type": "markdown",
   "metadata": {},
   "source": [
    "### PCA on feature-specific conditions"
   ]
  },
  {
   "cell_type": "code",
   "execution_count": 3,
   "metadata": {},
   "outputs": [],
   "source": [
    "%load_ext autoreload\n",
    "%autoreload 2\n",
    "\n",
    "import os\n",
    "import numpy as np\n",
    "import pandas as pd\n",
    "import utils.pseudo_utils as pseudo_utils\n",
    "import utils.pseudo_classifier_utils as pseudo_classifier_utils\n",
    "import utils.behavioral_utils as behavioral_utils\n",
    "import utils.spike_utils as spike_utils\n",
    "from utils.session_data import SessionData\n",
    "import utils.io_utils as io_utils\n",
    "from utils.constants import *\n",
    "import json\n",
    "\n",
    "from spike_tools import (\n",
    "    general as spike_general,\n",
    "    analysis as spike_analysis,\n",
    ")\n",
    "\n",
    "import matplotlib.pyplot as plt\n",
    "import matplotlib\n",
    "\n",
    "from sklearn.linear_model import LinearRegression\n",
    "from sklearn.decomposition import PCA\n",
    "\n",
    "import plotly.express as px\n"
   ]
  },
  {
   "cell_type": "code",
   "execution_count": 4,
   "metadata": {},
   "outputs": [],
   "source": [
    "# the output directory to store the data\n",
    "OUTPUT_DIR = \"/data/patrick_res/pseudo\"\n",
    "# path to a dataframe of sessions to analyze\n",
    "# SESSIONS_PATH = \"/data/patrick_scratch/multi_sess/valid_sessions.pickle\"\n",
    "SESSIONS_PATH = \"/data/patrick_res/sessions/valid_sessions_rpe.pickle\"\n",
    "# path for each session, specifying behavior\n",
    "SESS_BEHAVIOR_PATH = \"/data/rawdata/sub-SA/sess-{sess_name}/behavior/sub-SA_sess-{sess_name}_object_features.csv\"\n",
    "# path for each session, for spikes that have been pre-aligned to event time and binned. \n",
    "# SESS_SPIKES_PATH = \"/data/patrick_res/firing_rates/{sess_name}_firing_rates_{pre_interval}_{event}_{post_interval}_{interval_size}_bins_1_smooth.pickle\"\n",
    "SESS_SPIKES_PATH = \"/data/patrick_res/firing_rates/{sess_name}_residual_firing_rates_{pre_interval}_{event}_{post_interval}_{interval_size}_bins_1_smooth.pickle\"\n",
    "\n",
    "EVENT = \"FeedbackOnset\"  # event in behavior to align on\n",
    "PRE_INTERVAL = 1300   # time in ms before event\n",
    "POST_INTERVAL = 1500  # time in ms after event\n",
    "INTERVAL_SIZE = 50  # size of interval in ms"
   ]
  },
  {
   "cell_type": "code",
   "execution_count": 22,
   "metadata": {},
   "outputs": [],
   "source": [
    "FEATURE = \"MAGENTA\"\n",
    "# FEATURE = \"STAR\"\n",
    "# FEATURE = \"CIRCLE\"\n",
    "# FEATURE = \"TRIANGLE\"\n",
    "MIN_NUM_TRIALS = 20\n",
    "CONDITIONS = [\"MaxFeatMatches\", \"RPEGroup\"]\n",
    "# REGION = \"hippocampal_formation (HF)\"\n",
    "# REGION = \"orbital_frontal_cortex (OFC)\"\n",
    "# REGION = \"all\""
   ]
  },
  {
   "cell_type": "code",
   "execution_count": 23,
   "metadata": {},
   "outputs": [],
   "source": [
    "valid_sess = pd.read_pickle(SESSIONS_PATH)\n",
    "units = spike_utils.get_unit_positions(valid_sess)\n",
    "# region_units = units[units.manual_structure == \"Prefrontal Cortex\"]\n",
    "# region_units = units[units.manual_structure == \"Anterior Cingulate Gyrus\"]\n",
    "\n",
    "# region_units = units[units.structure_level2 == REGION]\n",
    "# region_units = units[units.structure_level3 == REGION]\n",
    "\n",
    "region_units = units"
   ]
  },
  {
   "cell_type": "code",
   "execution_count": 24,
   "metadata": {},
   "outputs": [
    {
     "data": {
      "text/plain": [
       "array(['Claustrum', 'Prefrontal Cortex', 'Visual Cortex',\n",
       "       'Anterior Cingulate Gyrus', 'Parietal Cortex', 'unknown',\n",
       "       'Basal Ganglia', 'Hippocampus/MTL', 'Premotor Cortex', 'Amygdala'],\n",
       "      dtype=object)"
      ]
     },
     "execution_count": 24,
     "metadata": {},
     "output_type": "execute_result"
    }
   ],
   "source": [
    "units.manual_structure.unique()"
   ]
  },
  {
   "cell_type": "code",
   "execution_count": 25,
   "metadata": {},
   "outputs": [],
   "source": [
    "def validate_and_label_sessions(row, feature, region_units, shuffle=False, balance=True):\n",
    "    # check region specificity:\n",
    "    # if not row.session_name in region_units.session.values:\n",
    "    #     return None\n",
    "    labeled_beh = behavioral_utils.get_beh_model_labels_for_session_feat(row.session_name, feature)\n",
    "    labeled_beh = labeled_beh[labeled_beh.Response == \"Correct\"]\n",
    "    enough_trials = behavioral_utils.validate_enough_trials_by_condition(labeled_beh, CONDITIONS, MIN_NUM_TRIALS, num_unique_conditions=4)\n",
    "    if not enough_trials:\n",
    "        return None\n",
    "    # TODO: determine whether or not this is needed: \n",
    "    if balance: \n",
    "        labeled_beh = behavioral_utils.balance_trials_by_condition(labeled_beh, CONDITIONS)\n",
    "    # HACK: doesn't generalize to other conditions\n",
    "    labeled_beh[\"Condition\"] = labeled_beh.MaxFeatMatches.astype(str) + \" \" + labeled_beh.RPEGroup\n",
    "    if shuffle: \n",
    "        rng = np.random.default_rng()\n",
    "        vals = labeled_beh[\"Condition\"].values\n",
    "        rng.shuffle(vals)\n",
    "        labeled_beh[\"Condition\"] = vals\n",
    "    frs_path = SESS_SPIKES_PATH.format(\n",
    "        sess_name=row.session_name, \n",
    "        pre_interval=PRE_INTERVAL, \n",
    "        event=EVENT, \n",
    "        post_interval=POST_INTERVAL, \n",
    "        interval_size=INTERVAL_SIZE\n",
    "    )\n",
    "    frs = pd.read_pickle(frs_path)\n",
    "    frs[\"PseudoUnitID\"] = int(row.session_name) * 100 + frs[\"UnitID\"]\n",
    "    frs = frs[frs.PseudoUnitID.isin(region_units.PseudoUnitID)]\n",
    "    merged = pd.merge(labeled_beh, frs, on=\"TrialNumber\")\n",
    "    if len(merged) == 0:\n",
    "        return None\n",
    "    return merged\n"
   ]
  },
  {
   "cell_type": "code",
   "execution_count": 26,
   "metadata": {},
   "outputs": [],
   "source": [
    "def project_conditioned_firing_rates(all_trials):\n",
    "    \"\"\"\n",
    "    Condition-average firing rates by Condition column,\n",
    "    Calculate 1st 3 PCs of condition-averaged firing rates\n",
    "    Return projected dataframe, PCA object\n",
    "    \"\"\"\n",
    "    conditions = all_trials.Condition.unique()\n",
    "    conditions.sort()\n",
    "    conditioned_frs = all_trials.groupby([\"Condition\", \"PseudoUnitID\", \"TimeBins\"]).FiringRate.mean().to_frame(\"ConditionedFiringRate\").reset_index()\n",
    "\n",
    "    conditioned_frs_sorted = conditioned_frs.sort_values(by=[\"PseudoUnitID\", \"Condition\", \"TimeBins\"])\n",
    "    num_units = len(conditioned_frs.PseudoUnitID.unique())\n",
    "    num_conds = len(conditioned_frs.Condition.unique())\n",
    "    num_time_bins = len(conditioned_frs.TimeBins.unique())\n",
    "    data_mat = conditioned_frs_sorted.ConditionedFiringRate.values.reshape((num_units, num_conds * num_time_bins))\n",
    "\n",
    "    pca = PCA()\n",
    "    pca = pca.fit(data_mat.T)\n",
    "    components = pca.components_\n",
    "\n",
    "    def transform_pca(group):\n",
    "        group = group.sort_values(by=\"PseudoUnitID\")\n",
    "        vec = group.ConditionedFiringRate.values.reshape(-1, 1)\n",
    "        # print(vec.shape)\n",
    "        # print(components.shape)\n",
    "        transformed = components @ vec\n",
    "        # print(transformed.shape)\n",
    "        return pd.Series({\"PC1\": transformed[0, 0], \"PC2\": transformed[1, 0], \"PC3\": transformed[2, 0]})\n",
    "    transformed_df = conditioned_frs_sorted.groupby([\"TimeBins\", \"Condition\"]).apply(transform_pca).reset_index()\n",
    "\n",
    "    return transformed_df, pca"
   ]
  },
  {
   "cell_type": "markdown",
   "metadata": {},
   "source": [
    "### Look at PCA for a single feature"
   ]
  },
  {
   "cell_type": "code",
   "execution_count": 27,
   "metadata": {},
   "outputs": [],
   "source": [
    "res = valid_sess.apply(lambda x: validate_and_label_sessions(x, FEATURE, region_units, shuffle=False, balance=True), axis=1)\n",
    "res = res.dropna()\n",
    "all_trials = pd.concat(res.values)"
   ]
  },
  {
   "cell_type": "code",
   "execution_count": 28,
   "metadata": {},
   "outputs": [],
   "source": [
    "# get only after feedback timepoints\n",
    "all_trials = all_trials[all_trials.TimeBins > 1.3]"
   ]
  },
  {
   "cell_type": "code",
   "execution_count": 29,
   "metadata": {},
   "outputs": [],
   "source": [
    "transformed_df, pca = project_conditioned_firing_rates(all_trials)"
   ]
  },
  {
   "cell_type": "code",
   "execution_count": 30,
   "metadata": {},
   "outputs": [
    {
     "data": {
      "text/plain": [
       "Condition\n",
       "False less pos    463\n",
       "False more pos    463\n",
       "True less pos     463\n",
       "True more pos     463\n",
       "Name: PseudoTrialNumber, dtype: int64"
      ]
     },
     "execution_count": 30,
     "metadata": {},
     "output_type": "execute_result"
    }
   ],
   "source": [
    "# see how many total trials there are per condition\n",
    "all_trials[\"PseudoTrialNumber\"] = (all_trials.Session.astype(str) + all_trials.TrialNumber.astype(str)).astype(int)\n",
    "all_trials.groupby(\"Condition\").PseudoTrialNumber.nunique()"
   ]
  },
  {
   "cell_type": "code",
   "execution_count": 31,
   "metadata": {},
   "outputs": [
    {
     "data": {
      "text/plain": [
       "Text(0, 0.5, 'Cumulative variance explained')"
      ]
     },
     "execution_count": 31,
     "metadata": {},
     "output_type": "execute_result"
    },
    {
     "data": {
      "image/png": "[encoded data removed]",
      "text/plain": [
       "<Figure size 640x480 with 1 Axes>"
      ]
     },
     "metadata": {},
     "output_type": "display_data"
    }
   ],
   "source": [
    "fig, ax = plt.subplots()\n",
    "var_ratios = np.cumsum(pca.explained_variance_ratio_)\n",
    "ax.plot(np.arange(1, len(var_ratios) +1), var_ratios)\n",
    "ax.set_xlabel(\"Number of components\")\n",
    "ax.set_ylabel(\"Cumulative variance explained\")"
   ]
  },
  {
   "cell_type": "code",
   "execution_count": 32,
   "metadata": {},
   "outputs": [
    {
     "data": {
      "application/vnd.plotly.v1+json": {
       "config": {
        "plotlyServerURL": "https://plot.ly"
       },
       "data": [
        {
         "hovertemplate": "Condition=False less pos<br>PC1=%{x}<br>PC2=%{y}<br>PC3=%{z}<br>TimeBins=%{marker.size}<extra></extra>",
         "legendgroup": "False less pos",
         "marker": {
          "color": "#636efa",
          "opacity": 1,
          "size": [
           1.35,
           1.4000000000000001,
           1.4500000000000002,
           1.5,
           1.55,
           1.6,
           1.6500000000000001,
           1.7000000000000002,
           1.75,
           1.8,
           1.85,
           1.9000000000000001,
           1.9500000000000002,
           2,
           2.0500000000000003,
           2.1,
           2.15,
           2.2,
           2.25,
           2.3000000000000003,
           2.35,
           2.4000000000000004,
           2.45,
           2.5,
           2.5500000000000003,
           2.6,
           2.6500000000000004,
           2.7,
           2.75
          ],
          "sizemode": "area",
          "sizeref": 0.006875,
          "symbol": "circle"
         },
         "mode": "markers",
         "name": "False less pos",
         "scene": "scene",
         "showlegend": true,
         "type": "scatter3d",
         "x": [
          -5.142812572288568,
          -6.685840671649972,
          -7.3388266963760564,
          -8.150414297885568,
          -8.205898400382246,
          -7.376631364568934,
          -5.994980831498554,
          -4.825460612010223,
          -5.460868596698729,
          -6.739548195221953,
          -7.964589782994287,
          -8.223920217642418,
          -8.94066044920634,
          -7.017711690209971,
          -7.882503098507175,
          -7.845984478415709,
          -9.720755937131043,
          -10.269513437552233,
          -10.41904569684719,
          -9.490653702796447,
          -9.563082390728345,
          -9.170037107129923,
          -7.450522077923307,
          -7.688313620807557,
          -8.44297460108815,
          -8.239759741159139,
          -7.5415397715285755,
          -8.57482571671295,
          -8.446742443193239
         ],
         "y": [
          -6.078816148302134,
          -5.419007019999742,
          -5.314696824580961,
          -4.727758724606525,
          -4.090016102438742,
          -4.692932084886506,
          -3.4336755699289214,
          -1.014026851676895,
          1.431559701410134,
          0.7875320937258905,
          -1.6477319362936,
          -0.6187653536370067,
          0.9785861516490476,
          1.2689772405884272,
          1.2430416306516672,
          -1.749450215657311,
          -2.379172776846888,
          -0.368691197739671,
          0.9842093828502465,
          1.547369621534521,
          1.7503211148878697,
          1.8219912824084652,
          1.9249927572686087,
          2.6212448309417082,
          2.0399960477838377,
          1.1028270622329068,
          1.491777775406015,
          0.03913601890478016,
          0.4909490614794674
         ],
         "z": [
          12.89609575899755,
          14.230693247691116,
          14.199448679755283,
          12.492009953797082,
          11.764701827890672,
          15.936470792087738,
          14.643954082609724,
          9.201276536289296,
          2.832637305901419,
          2.2627248953358343,
          3.0572655726710347,
          0.7870557489679989,
          -1.0980814473655731,
          -1.1967601671239598,
          -2.4154812511488624,
          -1.5162438200391906,
          -1.1936891348679466,
          -2.08220105919623,
          -5.833131025761861,
          -8.217628544833623,
          -7.662420900908433,
          -8.298748849830986,
          -7.554615982454607,
          -3.3951163466563403,
          0.10525452052318851,
          -1.8276207327202476,
          -4.05905125086238,
          -2.8913223232497147,
          -1.6336291130848395
         ]
        },
        {
         "hovertemplate": "Condition=False more pos<br>PC1=%{x}<br>PC2=%{y}<br>PC3=%{z}<br>TimeBins=%{marker.size}<extra></extra>",
         "legendgroup": "False more pos",
         "marker": {
          "color": "#EF553B",
          "opacity": 1,
          "size": [
           1.35,
           1.4000000000000001,
           1.4500000000000002,
           1.5,
           1.55,
           1.6,
           1.6500000000000001,
           1.7000000000000002,
           1.75,
           1.8,
           1.85,
           1.9000000000000001,
           1.9500000000000002,
           2,
           2.0500000000000003,
           2.1,
           2.15,
           2.2,
           2.25,
           2.3000000000000003,
           2.35,
           2.4000000000000004,
           2.45,
           2.5,
           2.5500000000000003,
           2.6,
           2.6500000000000004,
           2.7,
           2.75
          ],
          "sizemode": "area",
          "sizeref": 0.006875,
          "symbol": "circle"
         },
         "mode": "markers",
         "name": "False more pos",
         "scene": "scene",
         "showlegend": true,
         "type": "scatter3d",
         "x": [
          -1.7465276409435464,
          -1.7092445365981273,
          -2.270145147933021,
          -3.8820460691703382,
          -3.203625670235386,
          -2.2432249553359744,
          -1.4449423082848636,
          -1.1535550440224935,
          -1.9147179507146936,
          -2.1341458313508603,
          -4.399160510300048,
          -7.352380455554744,
          -8.227793511545876,
          -6.412932395624869,
          -5.459566134979771,
          -4.1592167090900904,
          -4.146307165868557,
          -5.982008090180322,
          -6.645760152654333,
          -4.736251313337995,
          -4.57958079993622,
          -5.153608826485991,
          -5.213396002727874,
          -5.66803585139772,
          -5.043251691017512,
          -4.756889344959733,
          -4.712613507372537,
          -3.972323971727093,
          -3.6908370715658743
         ],
         "y": [
          -0.8232304637357256,
          -2.658360099336214,
          -2.5257161012340763,
          -3.033277958626835,
          -4.294497967355918,
          -4.0708382721974585,
          -3.2780565040940495,
          -3.2632347352178206,
          -2.136895350483377,
          -0.237218449790443,
          2.7635573438988468,
          3.7249413472574404,
          1.799732954634478,
          -1.2277154269991644,
          -0.6091451815479553,
          -0.4575632753598321,
          -1.6139048477942968,
          -2.604107227125244,
          -1.9714821780592193,
          -0.6619677456202491,
          -0.9578025774769199,
          -0.11410771943293725,
          2.1980289821099315,
          2.766612856405813,
          3.921118977386716,
          5.465930430152201,
          9.561624736116368,
          10.921734976816326,
          8.970446003927494
         ],
         "z": [
          7.647033198555329,
          7.078416127409731,
          4.657645779191154,
          2.783263782343742,
          1.2315313011809081,
          1.124239819946243,
          4.80370462802083,
          7.739639169382337,
          7.636049800085401,
          6.73704344742165,
          4.457838607082504,
          0.515247920743566,
          -3.2833630775729494,
          -4.358445028479125,
          -8.520674294026065,
          -8.174441071262311,
          -4.24866062758625,
          -0.9853788247681878,
          0.7145447152489515,
          4.260645042067951,
          8.700856536019224,
          9.575892735409075,
          6.33875875966369,
          0.8441556942722326,
          -4.818410566153813,
          -6.8320078606354935,
          -6.838390930861239,
          -6.137506711951281,
          -5.3147317032649
         ]
        },
        {
         "hovertemplate": "Condition=True less pos<br>PC1=%{x}<br>PC2=%{y}<br>PC3=%{z}<br>TimeBins=%{marker.size}<extra></extra>",
         "legendgroup": "True less pos",
         "marker": {
          "color": "#00cc96",
          "opacity": 1,
          "size": [
           1.35,
           1.4000000000000001,
           1.4500000000000002,
           1.5,
           1.55,
           1.6,
           1.6500000000000001,
           1.7000000000000002,
           1.75,
           1.8,
           1.85,
           1.9000000000000001,
           1.9500000000000002,
           2,
           2.0500000000000003,
           2.1,
           2.15,
           2.2,
           2.25,
           2.3000000000000003,
           2.35,
           2.4000000000000004,
           2.45,
           2.5,
           2.5500000000000003,
           2.6,
           2.6500000000000004,
           2.7,
           2.75
          ],
          "sizemode": "area",
          "sizeref": 0.006875,
          "symbol": "circle"
         },
         "mode": "markers",
         "name": "True less pos",
         "scene": "scene",
         "showlegend": true,
         "type": "scatter3d",
         "x": [
          4.90636728848944,
          5.917425929089362,
          6.188837033784143,
          5.848009251428142,
          6.590945823185655,
          8.663573688311486,
          10.528721557362063,
          12.52276186438995,
          13.115804425374616,
          12.12248791013779,
          10.90647948676286,
          11.455007891991677,
          10.177329112233455,
          11.211155399585625,
          10.636978208806049,
          13.364247307178728,
          15.654068342673988,
          16.17089774682918,
          14.53733079432671,
          13.89773752645239,
          14.065420305856044,
          15.02542322812409,
          16.254913387658647,
          16.52147884616234,
          15.941412728904265,
          13.949081364071256,
          12.323939394526715,
          10.714857416792245,
          10.384880052905109
         ],
         "y": [
          -1.9982288037110836,
          -1.4182908082168133,
          -0.2942547368410471,
          -1.6180468029556994,
          -3.6573033248290803,
          -4.82260751246623,
          -5.7116889787767695,
          -9.592073403463848,
          -12.65291493735188,
          -12.578010715903599,
          -12.112183010537391,
          -12.016569103902777,
          -12.74437865704007,
          -12.549888628504258,
          -9.771155865833961,
          -9.778707703103489,
          -9.981890829857377,
          -10.78443342479587,
          -11.381566115319275,
          -10.375155299177447,
          -8.718880179554493,
          -6.4162022445391145,
          -5.087613305065918,
          -4.522745756389962,
          -4.632993126218058,
          -6.438835983698026,
          -6.642505941075421,
          -6.416098252314128,
          -4.276723439842495
         ],
         "z": [
          -0.6498710870797099,
          -1.824307104041161,
          -2.5050298519450434,
          -2.3036712431885413,
          -3.5807158914133423,
          -3.3501138596533373,
          -3.1831839252326866,
          -0.3846439473947507,
          -0.2201140815800584,
          -1.771675773111241,
          -5.069324488292615,
          -6.4660974777797025,
          -3.8405245079405774,
          0.5843957509727272,
          0.4629829901979849,
          -1.0912004056486075,
          -2.820050895220628,
          -2.4307643914826005,
          -0.9351490619530535,
          2.2408995194641066,
          5.105003512157928,
          1.7803389816199535,
          -3.6594150029511674,
          -6.813317491537719,
          -6.86953047475775,
          -5.318949383168279,
          -4.188738477511531,
          -3.627730506145491,
          -3.209273950341882
         ]
        },
        {
         "hovertemplate": "Condition=True more pos<br>PC1=%{x}<br>PC2=%{y}<br>PC3=%{z}<br>TimeBins=%{marker.size}<extra></extra>",
         "legendgroup": "True more pos",
         "marker": {
          "color": "#ab63fa",
          "opacity": 1,
          "size": [
           1.35,
           1.4000000000000001,
           1.4500000000000002,
           1.5,
           1.55,
           1.6,
           1.6500000000000001,
           1.7000000000000002,
           1.75,
           1.8,
           1.85,
           1.9000000000000001,
           1.9500000000000002,
           2,
           2.0500000000000003,
           2.1,
           2.15,
           2.2,
           2.25,
           2.3000000000000003,
           2.35,
           2.4000000000000004,
           2.45,
           2.5,
           2.5500000000000003,
           2.6,
           2.6500000000000004,
           2.7,
           2.75
          ],
          "sizemode": "area",
          "sizeref": 0.006875,
          "symbol": "circle"
         },
         "mode": "markers",
         "name": "True more pos",
         "scene": "scene",
         "showlegend": true,
         "type": "scatter3d",
         "x": [
          3.2207984531176352,
          4.555643357526379,
          6.5435403706422814,
          9.569802639749646,
          11.439038148123302,
          10.454769830986269,
          9.76701640106805,
          8.914804576564263,
          7.621590159419245,
          9.62689900707763,
          11.777644352764671,
          12.079803410257451,
          11.038266658425558,
          10.906651100385861,
          9.291244528588956,
          10.350040285255618,
          12.679855088173886,
          13.071954612567076,
          12.65381357589946,
          12.038497759086034,
          10.68631145829728,
          9.752197329685906,
          10.655851886630776,
          10.675890280123548,
          10.934642524611988,
          11.098465750857773,
          11.125230682570521,
          11.858666018472418,
          12.495284440057176
         ],
         "y": [
          8.949737395432985,
          10.493504622311,
          13.385697314637234,
          15.626598249714984,
          13.922686200972375,
          9.668627611933136,
          6.402285866612469,
          4.5913459859882995,
          5.127444163778997,
          5.633953098293308,
          5.370187679972608,
          4.413857289597134,
          3.427988930087245,
          2.8492928019854116,
          6.572868797215035,
          9.446021889948872,
          9.495148368017695,
          8.716649189640089,
          11.917230975691165,
          15.847132026571163,
          16.17655667274614,
          15.548365567553647,
          14.86662492128343,
          13.097567367854003,
          11.846498741840524,
          10.790556987056997,
          10.87255932061919,
          9.162962039932607,
          8.696919777123039
         ],
         "z": [
          -8.675577834711314,
          -10.247434030451366,
          -9.081418068180191,
          -3.96491220388588,
          1.006686196802831,
          1.9453421434848002,
          1.1174617258536326,
          3.5005332699609935,
          8.670835881978169,
          11.309086127016538,
          12.304857744099003,
          12.822135714466704,
          11.488454370684229,
          11.647834686122366,
          8.947809701439809,
          6.927229353103166,
          6.9695002828038835,
          7.718884909362941,
          4.936280551461296,
          -0.4337724625238728,
          -4.228048369068437,
          -4.468611182143839,
          -2.5597094255318074,
          4.51337213062002,
          8.909674244725947,
          8.078912320956515,
          5.667069617631142,
          3.6681494312753262,
          1.9039970812146392
         ]
        }
       ],
       "layout": {
        "legend": {
         "itemsizing": "constant",
         "title": {
          "text": "Condition"
         },
         "tracegroupgap": 0
        },
        "margin": {
         "t": 60
        },
        "scene": {
         "domain": {
          "x": [
           0,
           1
          ],
          "y": [
           0,
           1
          ]
         },
         "xaxis": {
          "title": {
           "text": "PC1"
          }
         },
         "yaxis": {
          "title": {
           "text": "PC2"
          }
         },
         "zaxis": {
          "title": {
           "text": "PC3"
          }
         }
        },
        "template": {
         "data": {
          "bar": [
           {
            "error_x": {
             "color": "#2a3f5f"
            },
            "error_y": {
             "color": "#2a3f5f"
            },
            "marker": {
             "line": {
              "color": "#E5ECF6",
              "width": 0.5
             },
             "pattern": {
              "fillmode": "overlay",
              "size": 10,
              "solidity": 0.2
             }
            },
            "type": "bar"
           }
          ],
          "barpolar": [
           {
            "marker": {
             "line": {
              "color": "#E5ECF6",
              "width": 0.5
             },
             "pattern": {
              "fillmode": "overlay",
              "size": 10,
              "solidity": 0.2
             }
            },
            "type": "barpolar"
           }
          ],
          "carpet": [
           {
            "aaxis": {
             "endlinecolor": "#2a3f5f",
             "gridcolor": "white",
             "linecolor": "white",
             "minorgridcolor": "white",
             "startlinecolor": "#2a3f5f"
            },
            "baxis": {
             "endlinecolor": "#2a3f5f",
             "gridcolor": "white",
             "linecolor": "white",
             "minorgridcolor": "white",
             "startlinecolor": "#2a3f5f"
            },
            "type": "carpet"
           }
          ],
          "choropleth": [
           {
            "colorbar": {
             "outlinewidth": 0,
             "ticks": ""
            },
            "type": "choropleth"
           }
          ],
          "contour": [
           {
            "colorbar": {
             "outlinewidth": 0,
             "ticks": ""
            },
            "colorscale": [
             [
              0,
              "#0d0887"
             ],
             [
              0.1111111111111111,
              "#46039f"
             ],
             [
              0.2222222222222222,
              "#7201a8"
             ],
             [
              0.3333333333333333,
              "#9c179e"
             ],
             [
              0.4444444444444444,
              "#bd3786"
             ],
             [
              0.5555555555555556,
              "#d8576b"
             ],
             [
              0.6666666666666666,
              "#ed7953"
             ],
             [
              0.7777777777777778,
              "#fb9f3a"
             ],
             [
              0.8888888888888888,
              "#fdca26"
             ],
             [
              1,
              "#f0f921"
             ]
            ],
            "type": "contour"
           }
          ],
          "contourcarpet": [
           {
            "colorbar": {
             "outlinewidth": 0,
             "ticks": ""
            },
            "type": "contourcarpet"
           }
          ],
          "heatmap": [
           {
            "colorbar": {
             "outlinewidth": 0,
             "ticks": ""
            },
            "colorscale": [
             [
              0,
              "#0d0887"
             ],
             [
              0.1111111111111111,
              "#46039f"
             ],
             [
              0.2222222222222222,
              "#7201a8"
             ],
             [
              0.3333333333333333,
              "#9c179e"
             ],
             [
              0.4444444444444444,
              "#bd3786"
             ],
             [
              0.5555555555555556,
              "#d8576b"
             ],
             [
              0.6666666666666666,
              "#ed7953"
             ],
             [
              0.7777777777777778,
              "#fb9f3a"
             ],
             [
              0.8888888888888888,
              "#fdca26"
             ],
             [
              1,
              "#f0f921"
             ]
            ],
            "type": "heatmap"
           }
          ],
          "heatmapgl": [
           {
            "colorbar": {
             "outlinewidth": 0,
             "ticks": ""
            },
            "colorscale": [
             [
              0,
              "#0d0887"
             ],
             [
              0.1111111111111111,
              "#46039f"
             ],
             [
              0.2222222222222222,
              "#7201a8"
             ],
             [
              0.3333333333333333,
              "#9c179e"
             ],
             [
              0.4444444444444444,
              "#bd3786"
             ],
             [
              0.5555555555555556,
              "#d8576b"
             ],
             [
              0.6666666666666666,
              "#ed7953"
             ],
             [
              0.7777777777777778,
              "#fb9f3a"
             ],
             [
              0.8888888888888888,
              "#fdca26"
             ],
             [
              1,
              "#f0f921"
             ]
            ],
            "type": "heatmapgl"
           }
          ],
          "histogram": [
           {
            "marker": {
             "pattern": {
              "fillmode": "overlay",
              "size": 10,
              "solidity": 0.2
             }
            },
            "type": "histogram"
           }
          ],
          "histogram2d": [
           {
            "colorbar": {
             "outlinewidth": 0,
             "ticks": ""
            },
            "colorscale": [
             [
              0,
              "#0d0887"
             ],
             [
              0.1111111111111111,
              "#46039f"
             ],
             [
              0.2222222222222222,
              "#7201a8"
             ],
             [
              0.3333333333333333,
              "#9c179e"
             ],
             [
              0.4444444444444444,
              "#bd3786"
             ],
             [
              0.5555555555555556,
              "#d8576b"
             ],
             [
              0.6666666666666666,
              "#ed7953"
             ],
             [
              0.7777777777777778,
              "#fb9f3a"
             ],
             [
              0.8888888888888888,
              "#fdca26"
             ],
             [
              1,
              "#f0f921"
             ]
            ],
            "type": "histogram2d"
           }
          ],
          "histogram2dcontour": [
           {
            "colorbar": {
             "outlinewidth": 0,
             "ticks": ""
            },
            "colorscale": [
             [
              0,
              "#0d0887"
             ],
             [
              0.1111111111111111,
              "#46039f"
             ],
             [
              0.2222222222222222,
              "#7201a8"
             ],
             [
              0.3333333333333333,
              "#9c179e"
             ],
             [
              0.4444444444444444,
              "#bd3786"
             ],
             [
              0.5555555555555556,
              "#d8576b"
             ],
             [
              0.6666666666666666,
              "#ed7953"
             ],
             [
              0.7777777777777778,
              "#fb9f3a"
             ],
             [
              0.8888888888888888,
              "#fdca26"
             ],
             [
              1,
              "#f0f921"
             ]
            ],
            "type": "histogram2dcontour"
           }
          ],
          "mesh3d": [
           {
            "colorbar": {
             "outlinewidth": 0,
             "ticks": ""
            },
            "type": "mesh3d"
           }
          ],
          "parcoords": [
           {
            "line": {
             "colorbar": {
              "outlinewidth": 0,
              "ticks": ""
             }
            },
            "type": "parcoords"
           }
          ],
          "pie": [
           {
            "automargin": true,
            "type": "pie"
           }
          ],
          "scatter": [
           {
            "fillpattern": {
             "fillmode": "overlay",
             "size": 10,
             "solidity": 0.2
            },
            "type": "scatter"
           }
          ],
          "scatter3d": [
           {
            "line": {
             "colorbar": {
              "outlinewidth": 0,
              "ticks": ""
             }
            },
            "marker": {
             "colorbar": {
              "outlinewidth": 0,
              "ticks": ""
             }
            },
            "type": "scatter3d"
           }
          ],
          "scattercarpet": [
           {
            "marker": {
             "colorbar": {
              "outlinewidth": 0,
              "ticks": ""
             }
            },
            "type": "scattercarpet"
           }
          ],
          "scattergeo": [
           {
            "marker": {
             "colorbar": {
              "outlinewidth": 0,
              "ticks": ""
             }
            },
            "type": "scattergeo"
           }
          ],
          "scattergl": [
           {
            "marker": {
             "colorbar": {
              "outlinewidth": 0,
              "ticks": ""
             }
            },
            "type": "scattergl"
           }
          ],
          "scattermapbox": [
           {
            "marker": {
             "colorbar": {
              "outlinewidth": 0,
              "ticks": ""
             }
            },
            "type": "scattermapbox"
           }
          ],
          "scatterpolar": [
           {
            "marker": {
             "colorbar": {
              "outlinewidth": 0,
              "ticks": ""
             }
            },
            "type": "scatterpolar"
           }
          ],
          "scatterpolargl": [
           {
            "marker": {
             "colorbar": {
              "outlinewidth": 0,
              "ticks": ""
             }
            },
            "type": "scatterpolargl"
           }
          ],
          "scatterternary": [
           {
            "marker": {
             "colorbar": {
              "outlinewidth": 0,
              "ticks": ""
             }
            },
            "type": "scatterternary"
           }
          ],
          "surface": [
           {
            "colorbar": {
             "outlinewidth": 0,
             "ticks": ""
            },
            "colorscale": [
             [
              0,
              "#0d0887"
             ],
             [
              0.1111111111111111,
              "#46039f"
             ],
             [
              0.2222222222222222,
              "#7201a8"
             ],
             [
              0.3333333333333333,
              "#9c179e"
             ],
             [
              0.4444444444444444,
              "#bd3786"
             ],
             [
              0.5555555555555556,
              "#d8576b"
             ],
             [
              0.6666666666666666,
              "#ed7953"
             ],
             [
              0.7777777777777778,
              "#fb9f3a"
             ],
             [
              0.8888888888888888,
              "#fdca26"
             ],
             [
              1,
              "#f0f921"
             ]
            ],
            "type": "surface"
           }
          ],
          "table": [
           {
            "cells": {
             "fill": {
              "color": "#EBF0F8"
             },
             "line": {
              "color": "white"
             }
            },
            "header": {
             "fill": {
              "color": "#C8D4E3"
             },
             "line": {
              "color": "white"
             }
            },
            "type": "table"
           }
          ]
         },
         "layout": {
          "annotationdefaults": {
           "arrowcolor": "#2a3f5f",
           "arrowhead": 0,
           "arrowwidth": 1
          },
          "autotypenumbers": "strict",
          "coloraxis": {
           "colorbar": {
            "outlinewidth": 0,
            "ticks": ""
           }
          },
          "colorscale": {
           "diverging": [
            [
             0,
             "#8e0152"
            ],
            [
             0.1,
             "#c51b7d"
            ],
            [
             0.2,
             "#de77ae"
            ],
            [
             0.3,
             "#f1b6da"
            ],
            [
             0.4,
             "#fde0ef"
            ],
            [
             0.5,
             "#f7f7f7"
            ],
            [
             0.6,
             "#e6f5d0"
            ],
            [
             0.7,
             "#b8e186"
            ],
            [
             0.8,
             "#7fbc41"
            ],
            [
             0.9,
             "#4d9221"
            ],
            [
             1,
             "#276419"
            ]
           ],
           "sequential": [
            [
             0,
             "#0d0887"
            ],
            [
             0.1111111111111111,
             "#46039f"
            ],
            [
             0.2222222222222222,
             "#7201a8"
            ],
            [
             0.3333333333333333,
             "#9c179e"
            ],
            [
             0.4444444444444444,
             "#bd3786"
            ],
            [
             0.5555555555555556,
             "#d8576b"
            ],
            [
             0.6666666666666666,
             "#ed7953"
            ],
            [
             0.7777777777777778,
             "#fb9f3a"
            ],
            [
             0.8888888888888888,
             "#fdca26"
            ],
            [
             1,
             "#f0f921"
            ]
           ],
           "sequentialminus": [
            [
             0,
             "#0d0887"
            ],
            [
             0.1111111111111111,
             "#46039f"
            ],
            [
             0.2222222222222222,
             "#7201a8"
            ],
            [
             0.3333333333333333,
             "#9c179e"
            ],
            [
             0.4444444444444444,
             "#bd3786"
            ],
            [
             0.5555555555555556,
             "#d8576b"
            ],
            [
             0.6666666666666666,
             "#ed7953"
            ],
            [
             0.7777777777777778,
             "#fb9f3a"
            ],
            [
             0.8888888888888888,
             "#fdca26"
            ],
            [
             1,
             "#f0f921"
            ]
           ]
          },
          "colorway": [
           "#636efa",
           "#EF553B",
           "#00cc96",
           "#ab63fa",
           "#FFA15A",
           "#19d3f3",
           "#FF6692",
           "#B6E880",
           "#FF97FF",
           "#FECB52"
          ],
          "font": {
           "color": "#2a3f5f"
          },
          "geo": {
           "bgcolor": "white",
           "lakecolor": "white",
           "landcolor": "#E5ECF6",
           "showlakes": true,
           "showland": true,
           "subunitcolor": "white"
          },
          "hoverlabel": {
           "align": "left"
          },
          "hovermode": "closest",
          "mapbox": {
           "style": "light"
          },
          "paper_bgcolor": "white",
          "plot_bgcolor": "#E5ECF6",
          "polar": {
           "angularaxis": {
            "gridcolor": "white",
            "linecolor": "white",
            "ticks": ""
           },
           "bgcolor": "#E5ECF6",
           "radialaxis": {
            "gridcolor": "white",
            "linecolor": "white",
            "ticks": ""
           }
          },
          "scene": {
           "xaxis": {
            "backgroundcolor": "#E5ECF6",
            "gridcolor": "white",
            "gridwidth": 2,
            "linecolor": "white",
            "showbackground": true,
            "ticks": "",
            "zerolinecolor": "white"
           },
           "yaxis": {
            "backgroundcolor": "#E5ECF6",
            "gridcolor": "white",
            "gridwidth": 2,
            "linecolor": "white",
            "showbackground": true,
            "ticks": "",
            "zerolinecolor": "white"
           },
           "zaxis": {
            "backgroundcolor": "#E5ECF6",
            "gridcolor": "white",
            "gridwidth": 2,
            "linecolor": "white",
            "showbackground": true,
            "ticks": "",
            "zerolinecolor": "white"
           }
          },
          "shapedefaults": {
           "line": {
            "color": "#2a3f5f"
           }
          },
          "ternary": {
           "aaxis": {
            "gridcolor": "white",
            "linecolor": "white",
            "ticks": ""
           },
           "baxis": {
            "gridcolor": "white",
            "linecolor": "white",
            "ticks": ""
           },
           "bgcolor": "#E5ECF6",
           "caxis": {
            "gridcolor": "white",
            "linecolor": "white",
            "ticks": ""
           }
          },
          "title": {
           "x": 0.05
          },
          "xaxis": {
           "automargin": true,
           "gridcolor": "white",
           "linecolor": "white",
           "ticks": "",
           "title": {
            "standoff": 15
           },
           "zerolinecolor": "white",
           "zerolinewidth": 2
          },
          "yaxis": {
           "automargin": true,
           "gridcolor": "white",
           "linecolor": "white",
           "ticks": "",
           "title": {
            "standoff": 15
           },
           "zerolinecolor": "white",
           "zerolinewidth": 2
          }
         }
        }
       }
      },
      "text/html": [
       "<div>                            <div id=\"b4e3bb4a-0959-47fd-b1ba-1045c1ad71c5\" class=\"plotly-graph-div\" style=\"height:525px; width:100%;\"></div>            <script type=\"text/javascript\">                require([\"plotly\"], function(Plotly) {                    window.PLOTLYENV=window.PLOTLYENV || {};                                    if (document.getElementById(\"b4e3bb4a-0959-47fd-b1ba-1045c1ad71c5\")) {                    Plotly.newPlot(                        \"b4e3bb4a-0959-47fd-b1ba-1045c1ad71c5\",                        [{\"hovertemplate\":\"Condition=False less pos<br>PC1=%{x}<br>PC2=%{y}<br>PC3=%{z}<br>TimeBins=%{marker.size}<extra></extra>\",\"legendgroup\":\"False less pos\",\"marker\":{\"color\":\"#636efa\",\"opacity\":1,\"size\":[1.35,1.4000000000000001,1.4500000000000002,1.5,1.55,1.6,1.6500000000000001,1.7000000000000002,1.75,1.8,1.85,1.9000000000000001,1.9500000000000002,2.0,2.0500000000000003,2.1,2.15,2.2,2.25,2.3000000000000003,2.35,2.4000000000000004,2.45,2.5,2.5500000000000003,2.6,2.6500000000000004,2.7,2.75],\"sizemode\":\"area\",\"sizeref\":0.006875,\"symbol\":\"circle\"},\"mode\":\"markers\",\"name\":\"False less pos\",\"scene\":\"scene\",\"showlegend\":true,\"x\":[-5.142812572288568,-6.685840671649972,-7.3388266963760564,-8.150414297885568,-8.205898400382246,-7.376631364568934,-5.994980831498554,-4.825460612010223,-5.460868596698729,-6.739548195221953,-7.964589782994287,-8.223920217642418,-8.94066044920634,-7.017711690209971,-7.882503098507175,-7.845984478415709,-9.720755937131043,-10.269513437552233,-10.41904569684719,-9.490653702796447,-9.563082390728345,-9.170037107129923,-7.450522077923307,-7.688313620807557,-8.44297460108815,-8.239759741159139,-7.5415397715285755,-8.57482571671295,-8.446742443193239],\"y\":[-6.078816148302134,-5.419007019999742,-5.314696824580961,-4.727758724606525,-4.090016102438742,-4.692932084886506,-3.4336755699289214,-1.014026851676895,1.431559701410134,0.7875320937258905,-1.6477319362936,-0.6187653536370067,0.9785861516490476,1.2689772405884272,1.2430416306516672,-1.749450215657311,-2.379172776846888,-0.368691197739671,0.9842093828502465,1.547369621534521,1.7503211148878697,1.8219912824084652,1.9249927572686087,2.6212448309417082,2.0399960477838377,1.1028270622329068,1.491777775406015,0.03913601890478016,0.4909490614794674],\"z\":[12.89609575899755,14.230693247691116,14.199448679755283,12.492009953797082,11.764701827890672,15.936470792087738,14.643954082609724,9.201276536289296,2.832637305901419,2.2627248953358343,3.0572655726710347,0.7870557489679989,-1.0980814473655731,-1.1967601671239598,-2.4154812511488624,-1.5162438200391906,-1.1936891348679466,-2.08220105919623,-5.833131025761861,-8.217628544833623,-7.662420900908433,-8.298748849830986,-7.554615982454607,-3.3951163466563403,0.10525452052318851,-1.8276207327202476,-4.05905125086238,-2.8913223232497147,-1.6336291130848395],\"type\":\"scatter3d\"},{\"hovertemplate\":\"Condition=False more pos<br>PC1=%{x}<br>PC2=%{y}<br>PC3=%{z}<br>TimeBins=%{marker.size}<extra></extra>\",\"legendgroup\":\"False more pos\",\"marker\":{\"color\":\"#EF553B\",\"opacity\":1,\"size\":[1.35,1.4000000000000001,1.4500000000000002,1.5,1.55,1.6,1.6500000000000001,1.7000000000000002,1.75,1.8,1.85,1.9000000000000001,1.9500000000000002,2.0,2.0500000000000003,2.1,2.15,2.2,2.25,2.3000000000000003,2.35,2.4000000000000004,2.45,2.5,2.5500000000000003,2.6,2.6500000000000004,2.7,2.75],\"sizemode\":\"area\",\"sizeref\":0.006875,\"symbol\":\"circle\"},\"mode\":\"markers\",\"name\":\"False more pos\",\"scene\":\"scene\",\"showlegend\":true,\"x\":[-1.7465276409435464,-1.7092445365981273,-2.270145147933021,-3.8820460691703382,-3.203625670235386,-2.2432249553359744,-1.4449423082848636,-1.1535550440224935,-1.9147179507146936,-2.1341458313508603,-4.399160510300048,-7.352380455554744,-8.227793511545876,-6.412932395624869,-5.459566134979771,-4.1592167090900904,-4.146307165868557,-5.982008090180322,-6.645760152654333,-4.736251313337995,-4.57958079993622,-5.153608826485991,-5.213396002727874,-5.66803585139772,-5.043251691017512,-4.756889344959733,-4.712613507372537,-3.972323971727093,-3.6908370715658743],\"y\":[-0.8232304637357256,-2.658360099336214,-2.5257161012340763,-3.033277958626835,-4.294497967355918,-4.0708382721974585,-3.2780565040940495,-3.2632347352178206,-2.136895350483377,-0.237218449790443,2.7635573438988468,3.7249413472574404,1.799732954634478,-1.2277154269991644,-0.6091451815479553,-0.4575632753598321,-1.6139048477942968,-2.604107227125244,-1.9714821780592193,-0.6619677456202491,-0.9578025774769199,-0.11410771943293725,2.1980289821099315,2.766612856405813,3.921118977386716,5.465930430152201,9.561624736116368,10.921734976816326,8.970446003927494],\"z\":[7.647033198555329,7.078416127409731,4.657645779191154,2.783263782343742,1.2315313011809081,1.124239819946243,4.80370462802083,7.739639169382337,7.636049800085401,6.73704344742165,4.457838607082504,0.515247920743566,-3.2833630775729494,-4.358445028479125,-8.520674294026065,-8.174441071262311,-4.24866062758625,-0.9853788247681878,0.7145447152489515,4.260645042067951,8.700856536019224,9.575892735409075,6.33875875966369,0.8441556942722326,-4.818410566153813,-6.8320078606354935,-6.838390930861239,-6.137506711951281,-5.3147317032649],\"type\":\"scatter3d\"},{\"hovertemplate\":\"Condition=True less pos<br>PC1=%{x}<br>PC2=%{y}<br>PC3=%{z}<br>TimeBins=%{marker.size}<extra></extra>\",\"legendgroup\":\"True less pos\",\"marker\":{\"color\":\"#00cc96\",\"opacity\":1,\"size\":[1.35,1.4000000000000001,1.4500000000000002,1.5,1.55,1.6,1.6500000000000001,1.7000000000000002,1.75,1.8,1.85,1.9000000000000001,1.9500000000000002,2.0,2.0500000000000003,2.1,2.15,2.2,2.25,2.3000000000000003,2.35,2.4000000000000004,2.45,2.5,2.5500000000000003,2.6,2.6500000000000004,2.7,2.75],\"sizemode\":\"area\",\"sizeref\":0.006875,\"symbol\":\"circle\"},\"mode\":\"markers\",\"name\":\"True less pos\",\"scene\":\"scene\",\"showlegend\":true,\"x\":[4.90636728848944,5.917425929089362,6.188837033784143,5.848009251428142,6.590945823185655,8.663573688311486,10.528721557362063,12.52276186438995,13.115804425374616,12.12248791013779,10.90647948676286,11.455007891991677,10.177329112233455,11.211155399585625,10.636978208806049,13.364247307178728,15.654068342673988,16.17089774682918,14.53733079432671,13.89773752645239,14.065420305856044,15.02542322812409,16.254913387658647,16.52147884616234,15.941412728904265,13.949081364071256,12.323939394526715,10.714857416792245,10.384880052905109],\"y\":[-1.9982288037110836,-1.4182908082168133,-0.2942547368410471,-1.6180468029556994,-3.6573033248290803,-4.82260751246623,-5.7116889787767695,-9.592073403463848,-12.65291493735188,-12.578010715903599,-12.112183010537391,-12.016569103902777,-12.74437865704007,-12.549888628504258,-9.771155865833961,-9.778707703103489,-9.981890829857377,-10.78443342479587,-11.381566115319275,-10.375155299177447,-8.718880179554493,-6.4162022445391145,-5.087613305065918,-4.522745756389962,-4.632993126218058,-6.438835983698026,-6.642505941075421,-6.416098252314128,-4.276723439842495],\"z\":[-0.6498710870797099,-1.824307104041161,-2.5050298519450434,-2.3036712431885413,-3.5807158914133423,-3.3501138596533373,-3.1831839252326866,-0.3846439473947507,-0.2201140815800584,-1.771675773111241,-5.069324488292615,-6.4660974777797025,-3.8405245079405774,0.5843957509727272,0.4629829901979849,-1.0912004056486075,-2.820050895220628,-2.4307643914826005,-0.9351490619530535,2.2408995194641066,5.105003512157928,1.7803389816199535,-3.6594150029511674,-6.813317491537719,-6.86953047475775,-5.318949383168279,-4.188738477511531,-3.627730506145491,-3.209273950341882],\"type\":\"scatter3d\"},{\"hovertemplate\":\"Condition=True more pos<br>PC1=%{x}<br>PC2=%{y}<br>PC3=%{z}<br>TimeBins=%{marker.size}<extra></extra>\",\"legendgroup\":\"True more pos\",\"marker\":{\"color\":\"#ab63fa\",\"opacity\":1,\"size\":[1.35,1.4000000000000001,1.4500000000000002,1.5,1.55,1.6,1.6500000000000001,1.7000000000000002,1.75,1.8,1.85,1.9000000000000001,1.9500000000000002,2.0,2.0500000000000003,2.1,2.15,2.2,2.25,2.3000000000000003,2.35,2.4000000000000004,2.45,2.5,2.5500000000000003,2.6,2.6500000000000004,2.7,2.75],\"sizemode\":\"area\",\"sizeref\":0.006875,\"symbol\":\"circle\"},\"mode\":\"markers\",\"name\":\"True more pos\",\"scene\":\"scene\",\"showlegend\":true,\"x\":[3.2207984531176352,4.555643357526379,6.5435403706422814,9.569802639749646,11.439038148123302,10.454769830986269,9.76701640106805,8.914804576564263,7.621590159419245,9.62689900707763,11.777644352764671,12.079803410257451,11.038266658425558,10.906651100385861,9.291244528588956,10.350040285255618,12.679855088173886,13.071954612567076,12.65381357589946,12.038497759086034,10.68631145829728,9.752197329685906,10.655851886630776,10.675890280123548,10.934642524611988,11.098465750857773,11.125230682570521,11.858666018472418,12.495284440057176],\"y\":[8.949737395432985,10.493504622311,13.385697314637234,15.626598249714984,13.922686200972375,9.668627611933136,6.402285866612469,4.5913459859882995,5.127444163778997,5.633953098293308,5.370187679972608,4.413857289597134,3.427988930087245,2.8492928019854116,6.572868797215035,9.446021889948872,9.495148368017695,8.716649189640089,11.917230975691165,15.847132026571163,16.17655667274614,15.548365567553647,14.86662492128343,13.097567367854003,11.846498741840524,10.790556987056997,10.87255932061919,9.162962039932607,8.696919777123039],\"z\":[-8.675577834711314,-10.247434030451366,-9.081418068180191,-3.96491220388588,1.006686196802831,1.9453421434848002,1.1174617258536326,3.5005332699609935,8.670835881978169,11.309086127016538,12.304857744099003,12.822135714466704,11.488454370684229,11.647834686122366,8.947809701439809,6.927229353103166,6.9695002828038835,7.718884909362941,4.936280551461296,-0.4337724625238728,-4.228048369068437,-4.468611182143839,-2.5597094255318074,4.51337213062002,8.909674244725947,8.078912320956515,5.667069617631142,3.6681494312753262,1.9039970812146392],\"type\":\"scatter3d\"}],                        {\"template\":{\"data\":{\"histogram2dcontour\":[{\"type\":\"histogram2dcontour\",\"colorbar\":{\"outlinewidth\":0,\"ticks\":\"\"},\"colorscale\":[[0.0,\"#0d0887\"],[0.1111111111111111,\"#46039f\"],[0.2222222222222222,\"#7201a8\"],[0.3333333333333333,\"#9c179e\"],[0.4444444444444444,\"#bd3786\"],[0.5555555555555556,\"#d8576b\"],[0.6666666666666666,\"#ed7953\"],[0.7777777777777778,\"#fb9f3a\"],[0.8888888888888888,\"#fdca26\"],[1.0,\"#f0f921\"]]}],\"choropleth\":[{\"type\":\"choropleth\",\"colorbar\":{\"outlinewidth\":0,\"ticks\":\"\"}}],\"histogram2d\":[{\"type\":\"histogram2d\",\"colorbar\":{\"outlinewidth\":0,\"ticks\":\"\"},\"colorscale\":[[0.0,\"#0d0887\"],[0.1111111111111111,\"#46039f\"],[0.2222222222222222,\"#7201a8\"],[0.3333333333333333,\"#9c179e\"],[0.4444444444444444,\"#bd3786\"],[0.5555555555555556,\"#d8576b\"],[0.6666666666666666,\"#ed7953\"],[0.7777777777777778,\"#fb9f3a\"],[0.8888888888888888,\"#fdca26\"],[1.0,\"#f0f921\"]]}],\"heatmap\":[{\"type\":\"heatmap\",\"colorbar\":{\"outlinewidth\":0,\"ticks\":\"\"},\"colorscale\":[[0.0,\"#0d0887\"],[0.1111111111111111,\"#46039f\"],[0.2222222222222222,\"#7201a8\"],[0.3333333333333333,\"#9c179e\"],[0.4444444444444444,\"#bd3786\"],[0.5555555555555556,\"#d8576b\"],[0.6666666666666666,\"#ed7953\"],[0.7777777777777778,\"#fb9f3a\"],[0.8888888888888888,\"#fdca26\"],[1.0,\"#f0f921\"]]}],\"heatmapgl\":[{\"type\":\"heatmapgl\",\"colorbar\":{\"outlinewidth\":0,\"ticks\":\"\"},\"colorscale\":[[0.0,\"#0d0887\"],[0.1111111111111111,\"#46039f\"],[0.2222222222222222,\"#7201a8\"],[0.3333333333333333,\"#9c179e\"],[0.4444444444444444,\"#bd3786\"],[0.5555555555555556,\"#d8576b\"],[0.6666666666666666,\"#ed7953\"],[0.7777777777777778,\"#fb9f3a\"],[0.8888888888888888,\"#fdca26\"],[1.0,\"#f0f921\"]]}],\"contourcarpet\":[{\"type\":\"contourcarpet\",\"colorbar\":{\"outlinewidth\":0,\"ticks\":\"\"}}],\"contour\":[{\"type\":\"contour\",\"colorbar\":{\"outlinewidth\":0,\"ticks\":\"\"},\"colorscale\":[[0.0,\"#0d0887\"],[0.1111111111111111,\"#46039f\"],[0.2222222222222222,\"#7201a8\"],[0.3333333333333333,\"#9c179e\"],[0.4444444444444444,\"#bd3786\"],[0.5555555555555556,\"#d8576b\"],[0.6666666666666666,\"#ed7953\"],[0.7777777777777778,\"#fb9f3a\"],[0.8888888888888888,\"#fdca26\"],[1.0,\"#f0f921\"]]}],\"surface\":[{\"type\":\"surface\",\"colorbar\":{\"outlinewidth\":0,\"ticks\":\"\"},\"colorscale\":[[0.0,\"#0d0887\"],[0.1111111111111111,\"#46039f\"],[0.2222222222222222,\"#7201a8\"],[0.3333333333333333,\"#9c179e\"],[0.4444444444444444,\"#bd3786\"],[0.5555555555555556,\"#d8576b\"],[0.6666666666666666,\"#ed7953\"],[0.7777777777777778,\"#fb9f3a\"],[0.8888888888888888,\"#fdca26\"],[1.0,\"#f0f921\"]]}],\"mesh3d\":[{\"type\":\"mesh3d\",\"colorbar\":{\"outlinewidth\":0,\"ticks\":\"\"}}],\"scatter\":[{\"fillpattern\":{\"fillmode\":\"overlay\",\"size\":10,\"solidity\":0.2},\"type\":\"scatter\"}],\"parcoords\":[{\"type\":\"parcoords\",\"line\":{\"colorbar\":{\"outlinewidth\":0,\"ticks\":\"\"}}}],\"scatterpolargl\":[{\"type\":\"scatterpolargl\",\"marker\":{\"colorbar\":{\"outlinewidth\":0,\"ticks\":\"\"}}}],\"bar\":[{\"error_x\":{\"color\":\"#2a3f5f\"},\"error_y\":{\"color\":\"#2a3f5f\"},\"marker\":{\"line\":{\"color\":\"#E5ECF6\",\"width\":0.5},\"pattern\":{\"fillmode\":\"overlay\",\"size\":10,\"solidity\":0.2}},\"type\":\"bar\"}],\"scattergeo\":[{\"type\":\"scattergeo\",\"marker\":{\"colorbar\":{\"outlinewidth\":0,\"ticks\":\"\"}}}],\"scatterpolar\":[{\"type\":\"scatterpolar\",\"marker\":{\"colorbar\":{\"outlinewidth\":0,\"ticks\":\"\"}}}],\"histogram\":[{\"marker\":{\"pattern\":{\"fillmode\":\"overlay\",\"size\":10,\"solidity\":0.2}},\"type\":\"histogram\"}],\"scattergl\":[{\"type\":\"scattergl\",\"marker\":{\"colorbar\":{\"outlinewidth\":0,\"ticks\":\"\"}}}],\"scatter3d\":[{\"type\":\"scatter3d\",\"line\":{\"colorbar\":{\"outlinewidth\":0,\"ticks\":\"\"}},\"marker\":{\"colorbar\":{\"outlinewidth\":0,\"ticks\":\"\"}}}],\"scattermapbox\":[{\"type\":\"scattermapbox\",\"marker\":{\"colorbar\":{\"outlinewidth\":0,\"ticks\":\"\"}}}],\"scatterternary\":[{\"type\":\"scatterternary\",\"marker\":{\"colorbar\":{\"outlinewidth\":0,\"ticks\":\"\"}}}],\"scattercarpet\":[{\"type\":\"scattercarpet\",\"marker\":{\"colorbar\":{\"outlinewidth\":0,\"ticks\":\"\"}}}],\"carpet\":[{\"aaxis\":{\"endlinecolor\":\"#2a3f5f\",\"gridcolor\":\"white\",\"linecolor\":\"white\",\"minorgridcolor\":\"white\",\"startlinecolor\":\"#2a3f5f\"},\"baxis\":{\"endlinecolor\":\"#2a3f5f\",\"gridcolor\":\"white\",\"linecolor\":\"white\",\"minorgridcolor\":\"white\",\"startlinecolor\":\"#2a3f5f\"},\"type\":\"carpet\"}],\"table\":[{\"cells\":{\"fill\":{\"color\":\"#EBF0F8\"},\"line\":{\"color\":\"white\"}},\"header\":{\"fill\":{\"color\":\"#C8D4E3\"},\"line\":{\"color\":\"white\"}},\"type\":\"table\"}],\"barpolar\":[{\"marker\":{\"line\":{\"color\":\"#E5ECF6\",\"width\":0.5},\"pattern\":{\"fillmode\":\"overlay\",\"size\":10,\"solidity\":0.2}},\"type\":\"barpolar\"}],\"pie\":[{\"automargin\":true,\"type\":\"pie\"}]},\"layout\":{\"autotypenumbers\":\"strict\",\"colorway\":[\"#636efa\",\"#EF553B\",\"#00cc96\",\"#ab63fa\",\"#FFA15A\",\"#19d3f3\",\"#FF6692\",\"#B6E880\",\"#FF97FF\",\"#FECB52\"],\"font\":{\"color\":\"#2a3f5f\"},\"hovermode\":\"closest\",\"hoverlabel\":{\"align\":\"left\"},\"paper_bgcolor\":\"white\",\"plot_bgcolor\":\"#E5ECF6\",\"polar\":{\"bgcolor\":\"#E5ECF6\",\"angularaxis\":{\"gridcolor\":\"white\",\"linecolor\":\"white\",\"ticks\":\"\"},\"radialaxis\":{\"gridcolor\":\"white\",\"linecolor\":\"white\",\"ticks\":\"\"}},\"ternary\":{\"bgcolor\":\"#E5ECF6\",\"aaxis\":{\"gridcolor\":\"white\",\"linecolor\":\"white\",\"ticks\":\"\"},\"baxis\":{\"gridcolor\":\"white\",\"linecolor\":\"white\",\"ticks\":\"\"},\"caxis\":{\"gridcolor\":\"white\",\"linecolor\":\"white\",\"ticks\":\"\"}},\"coloraxis\":{\"colorbar\":{\"outlinewidth\":0,\"ticks\":\"\"}},\"colorscale\":{\"sequential\":[[0.0,\"#0d0887\"],[0.1111111111111111,\"#46039f\"],[0.2222222222222222,\"#7201a8\"],[0.3333333333333333,\"#9c179e\"],[0.4444444444444444,\"#bd3786\"],[0.5555555555555556,\"#d8576b\"],[0.6666666666666666,\"#ed7953\"],[0.7777777777777778,\"#fb9f3a\"],[0.8888888888888888,\"#fdca26\"],[1.0,\"#f0f921\"]],\"sequentialminus\":[[0.0,\"#0d0887\"],[0.1111111111111111,\"#46039f\"],[0.2222222222222222,\"#7201a8\"],[0.3333333333333333,\"#9c179e\"],[0.4444444444444444,\"#bd3786\"],[0.5555555555555556,\"#d8576b\"],[0.6666666666666666,\"#ed7953\"],[0.7777777777777778,\"#fb9f3a\"],[0.8888888888888888,\"#fdca26\"],[1.0,\"#f0f921\"]],\"diverging\":[[0,\"#8e0152\"],[0.1,\"#c51b7d\"],[0.2,\"#de77ae\"],[0.3,\"#f1b6da\"],[0.4,\"#fde0ef\"],[0.5,\"#f7f7f7\"],[0.6,\"#e6f5d0\"],[0.7,\"#b8e186\"],[0.8,\"#7fbc41\"],[0.9,\"#4d9221\"],[1,\"#276419\"]]},\"xaxis\":{\"gridcolor\":\"white\",\"linecolor\":\"white\",\"ticks\":\"\",\"title\":{\"standoff\":15},\"zerolinecolor\":\"white\",\"automargin\":true,\"zerolinewidth\":2},\"yaxis\":{\"gridcolor\":\"white\",\"linecolor\":\"white\",\"ticks\":\"\",\"title\":{\"standoff\":15},\"zerolinecolor\":\"white\",\"automargin\":true,\"zerolinewidth\":2},\"scene\":{\"xaxis\":{\"backgroundcolor\":\"#E5ECF6\",\"gridcolor\":\"white\",\"linecolor\":\"white\",\"showbackground\":true,\"ticks\":\"\",\"zerolinecolor\":\"white\",\"gridwidth\":2},\"yaxis\":{\"backgroundcolor\":\"#E5ECF6\",\"gridcolor\":\"white\",\"linecolor\":\"white\",\"showbackground\":true,\"ticks\":\"\",\"zerolinecolor\":\"white\",\"gridwidth\":2},\"zaxis\":{\"backgroundcolor\":\"#E5ECF6\",\"gridcolor\":\"white\",\"linecolor\":\"white\",\"showbackground\":true,\"ticks\":\"\",\"zerolinecolor\":\"white\",\"gridwidth\":2}},\"shapedefaults\":{\"line\":{\"color\":\"#2a3f5f\"}},\"annotationdefaults\":{\"arrowcolor\":\"#2a3f5f\",\"arrowhead\":0,\"arrowwidth\":1},\"geo\":{\"bgcolor\":\"white\",\"landcolor\":\"#E5ECF6\",\"subunitcolor\":\"white\",\"showland\":true,\"showlakes\":true,\"lakecolor\":\"white\"},\"title\":{\"x\":0.05},\"mapbox\":{\"style\":\"light\"}}},\"scene\":{\"domain\":{\"x\":[0.0,1.0],\"y\":[0.0,1.0]},\"xaxis\":{\"title\":{\"text\":\"PC1\"}},\"yaxis\":{\"title\":{\"text\":\"PC2\"}},\"zaxis\":{\"title\":{\"text\":\"PC3\"}}},\"legend\":{\"title\":{\"text\":\"Condition\"},\"tracegroupgap\":0,\"itemsizing\":\"constant\"},\"margin\":{\"t\":60}},                        {\"responsive\": true}                    ).then(function(){\n",
       "                            \n",
       "var gd = document.getElementById('b4e3bb4a-0959-47fd-b1ba-1045c1ad71c5');\n",
       "var x = new MutationObserver(function (mutations, observer) {{\n",
       "        var display = window.getComputedStyle(gd).display;\n",
       "        if (!display || display === 'none') {{\n",
       "            console.log([gd, 'removed!']);\n",
       "            Plotly.purge(gd);\n",
       "            observer.disconnect();\n",
       "        }}\n",
       "}});\n",
       "\n",
       "// Listen for the removal of the full notebook cells\n",
       "var notebookContainer = gd.closest('#notebook-container');\n",
       "if (notebookContainer) {{\n",
       "    x.observe(notebookContainer, {childList: true});\n",
       "}}\n",
       "\n",
       "// Listen for the clearing of the current output cell\n",
       "var outputEl = gd.closest('.output');\n",
       "if (outputEl) {{\n",
       "    x.observe(outputEl, {childList: true});\n",
       "}}\n",
       "\n",
       "                        })                };                });            </script>        </div>"
      ]
     },
     "metadata": {},
     "output_type": "display_data"
    }
   ],
   "source": [
    "fig = px.scatter_3d(\n",
    "    transformed_df, \n",
    "    x='PC1', y='PC2', z='PC3',\n",
    "    color='Condition', \n",
    "    opacity=1,\n",
    "    size='TimeBins',\n",
    "    # color_discrete_sequence=colors\n",
    ")\n",
    "fig.show()\n"
   ]
  },
  {
   "cell_type": "markdown",
   "metadata": {},
   "source": [
    "### Do it for two features at once, SQUARE and TRIANGLE"
   ]
  },
  {
   "cell_type": "code",
   "execution_count": 33,
   "metadata": {},
   "outputs": [],
   "source": [
    "FEATURE_1 = \"SQUARE\"\n",
    "FEATURE_2 = \"TRIANGLE\"\n",
    "# FEATURE_1 = \"MAGENTA\"\n",
    "# FEATURE_2 = \"YELLOW\"\n",
    "feat_1_res = valid_sess.apply(lambda x: validate_and_label_sessions(x, FEATURE_1, region_units, shuffle=False, balance=True), axis=1)\n",
    "feat_1_res = feat_1_res.dropna()\n",
    "feat_2_res = valid_sess.apply(lambda x: validate_and_label_sessions(x, FEATURE_2, region_units, shuffle=False, balance=True), axis=1)\n",
    "feat_2_res = feat_2_res.dropna()\n"
   ]
  },
  {
   "cell_type": "code",
   "execution_count": 34,
   "metadata": {},
   "outputs": [
    {
     "name": "stdout",
     "output_type": "stream",
     "text": [
      "Int64Index([15, 17, 39, 43, 44, 68, 74, 93, 97], dtype='int64')\n"
     ]
    }
   ],
   "source": [
    "print(feat_1_res[feat_1_res.index.isin(feat_2_res.index)].index)"
   ]
  },
  {
   "cell_type": "code",
   "execution_count": 35,
   "metadata": {},
   "outputs": [],
   "source": [
    "feat_1_trials = pd.concat(feat_1_res[feat_1_res.index.isin(feat_2_res.index)].values)\n",
    "feat_2_trials = pd.concat(feat_2_res[feat_2_res.index.isin(feat_1_res.index)].values)\n",
    "feat_1_trials[\"Condition\"] = FEATURE_1 + \" \" + feat_1_trials.Condition\n",
    "feat_2_trials[\"Condition\"] = FEATURE_2 + \" \" + feat_2_trials.Condition\n",
    "all_trials = pd.concat((feat_1_trials, feat_2_trials))"
   ]
  },
  {
   "cell_type": "code",
   "execution_count": 36,
   "metadata": {},
   "outputs": [],
   "source": [
    "all_trials = all_trials[all_trials.TimeBins > 1.3]"
   ]
  },
  {
   "cell_type": "code",
   "execution_count": 37,
   "metadata": {},
   "outputs": [],
   "source": [
    "all_trials.Condition.unique()\n",
    "true_conds = [FEATURE_1 + ' True less pos', FEATURE_1 + ' True more pos', FEATURE_2 + ' True less pos', FEATURE_2 + ' True more pos']\n",
    "false_conds = [FEATURE_1 + ' False less pos', FEATURE_1 + ' False more pos', FEATURE_2 + ' False less pos', FEATURE_2 + ' False more pos']\n",
    "true_trials = all_trials[all_trials.Condition.isin(true_conds)]\n",
    "false_trials = all_trials[all_trials.Condition.isin(false_conds)]\n"
   ]
  },
  {
   "cell_type": "code",
   "execution_count": 38,
   "metadata": {},
   "outputs": [
    {
     "data": {
      "text/plain": [
       "Condition\n",
       "SQUARE False less pos      289\n",
       "SQUARE False more pos      289\n",
       "SQUARE True less pos       289\n",
       "SQUARE True more pos       289\n",
       "TRIANGLE False less pos    289\n",
       "TRIANGLE False more pos    289\n",
       "TRIANGLE True less pos     289\n",
       "TRIANGLE True more pos     289\n",
       "Name: PseudoUnitID, dtype: int64"
      ]
     },
     "execution_count": 38,
     "metadata": {},
     "output_type": "execute_result"
    }
   ],
   "source": [
    "all_trials[\"PseudoTrialNumber\"] = (all_trials.Session.astype(str) + all_trials.TrialNumber.astype(str)).astype(int)\n",
    "all_trials.groupby(\"Condition\").PseudoUnitID.nunique()"
   ]
  },
  {
   "cell_type": "code",
   "execution_count": 39,
   "metadata": {},
   "outputs": [],
   "source": [
    "transformed_df, pca = project_conditioned_firing_rates(true_trials)\n",
    "transformed_df[\"ZeroedTimeBins\"] = transformed_df.TimeBins - 1.3"
   ]
  },
  {
   "cell_type": "code",
   "execution_count": 40,
   "metadata": {},
   "outputs": [
    {
     "data": {
      "application/vnd.plotly.v1+json": {
       "config": {
        "plotlyServerURL": "https://plot.ly"
       },
       "data": [
        {
         "hovertemplate": "Condition=SQUARE True less pos<br>PC1=%{x}<br>PC2=%{y}<br>PC3=%{z}<br>ZeroedTimeBins=%{marker.size}<extra></extra>",
         "legendgroup": "SQUARE True less pos",
         "marker": {
          "color": "#636efa",
          "opacity": 1,
          "size": [
           0.050000000000000044,
           0.10000000000000009,
           0.15000000000000013,
           0.19999999999999996,
           0.25,
           0.30000000000000004,
           0.3500000000000001,
           0.40000000000000013,
           0.44999999999999996,
           0.5,
           0.55,
           0.6000000000000001,
           0.6500000000000001,
           0.7,
           0.7500000000000002,
           0.8,
           0.8499999999999999,
           0.9000000000000001,
           0.95,
           1.0000000000000002,
           1.05,
           1.1000000000000003,
           1.1500000000000001,
           1.2,
           1.2500000000000002,
           1.3,
           1.3500000000000003,
           1.4000000000000001,
           1.45
          ],
          "sizemode": "area",
          "sizeref": 0.0036249999999999998,
          "symbol": "circle"
         },
         "mode": "markers",
         "name": "SQUARE True less pos",
         "scene": "scene",
         "showlegend": true,
         "type": "scatter3d",
         "x": [
          0.8525709512135421,
          1.4951298593921158,
          1.4065592064437833,
          -0.8729742039686131,
          -2.114005554925414,
          -2.7433024853397354,
          -2.2169543211158786,
          -1.3801473904555672,
          -2.8658868295925917,
          -4.789695334262275,
          -6.218191530812893,
          -5.754997645250723,
          -4.052358358730903,
          -3.836061362369956,
          -1.90400843433162,
          -1.4046811977746874,
          -2.275160439786272,
          -4.322175340151755,
          -5.858424913169749,
          -7.8241158561758235,
          -7.050018200805514,
          -6.29924628357877,
          -6.526394286751103,
          -7.500242920173831,
          -9.972984062243723,
          -12.035584443755218,
          -11.954367606404984,
          -9.846119373905761,
          -8.333697399625208
         ],
         "y": [
          -2.747711109264589,
          -1.4471831860728313,
          2.9312325292901376,
          6.179846477524319,
          5.343447938451404,
          2.350122696250461,
          1.054074481562627,
          0.10264293585233225,
          -0.218785225603942,
          0.008170650845908387,
          2.217221605239317,
          5.313704790312776,
          8.036104444973976,
          7.35454608090718,
          5.072861158745873,
          5.915442295411208,
          5.524277003447307,
          6.343903281268782,
          6.592181691763573,
          6.7804573535216655,
          3.7157274975170065,
          1.6990578503032365,
          3.4863244966299134,
          7.180634274220469,
          9.590567852440621,
          11.271830139973407,
          12.173133892454091,
          10.355314311028563,
          5.935492565606081
         ],
         "z": [
          3.1537892904557423,
          2.3755466150018245,
          1.0808096682085657,
          2.2143299906051115,
          2.8421147494955643,
          3.0161543485116935,
          3.3954383173746927,
          3.3537883842255054,
          3.817397489469838,
          2.8909787423563635,
          3.7520937166115966,
          7.489631297627887,
          11.790521186094427,
          15.081386636446938,
          15.642114195731793,
          14.62184476194606,
          14.336076599952476,
          12.348715852201769,
          8.356207651650228,
          5.843250895542031,
          4.648042688102608,
          3.6718348051704424,
          2.102212680960262,
          0.12771258055103918,
          -0.03322159547368732,
          0.5566696482285213,
          0.3109146485714006,
          -2.0059534196233244,
          -5.894646243194609
         ]
        },
        {
         "hovertemplate": "Condition=SQUARE True more pos<br>PC1=%{x}<br>PC2=%{y}<br>PC3=%{z}<br>ZeroedTimeBins=%{marker.size}<extra></extra>",
         "legendgroup": "SQUARE True more pos",
         "marker": {
          "color": "#EF553B",
          "opacity": 1,
          "size": [
           0.050000000000000044,
           0.10000000000000009,
           0.15000000000000013,
           0.19999999999999996,
           0.25,
           0.30000000000000004,
           0.3500000000000001,
           0.40000000000000013,
           0.44999999999999996,
           0.5,
           0.55,
           0.6000000000000001,
           0.6500000000000001,
           0.7,
           0.7500000000000002,
           0.8,
           0.8499999999999999,
           0.9000000000000001,
           0.95,
           1.0000000000000002,
           1.05,
           1.1000000000000003,
           1.1500000000000001,
           1.2,
           1.2500000000000002,
           1.3,
           1.3500000000000003,
           1.4000000000000001,
           1.45
          ],
          "sizemode": "area",
          "sizeref": 0.0036249999999999998,
          "symbol": "circle"
         },
         "mode": "markers",
         "name": "SQUARE True more pos",
         "scene": "scene",
         "showlegend": true,
         "type": "scatter3d",
         "x": [
          -0.2582092634470896,
          0.6585011005272047,
          0.5880112572596576,
          -0.8041083094945043,
          -3.637397330158191,
          -7.04640655223103,
          -7.879660488448676,
          -7.605899833726422,
          -8.732350334714916,
          -9.708292990218476,
          -8.450943048729965,
          -6.474569791013108,
          -4.621446322236993,
          -4.784602185906222,
          -3.921867706703669,
          -5.595755853081205,
          -7.198924524390783,
          -9.23298250815173,
          -9.39632527850909,
          -9.83563924536134,
          -8.243680331466578,
          -7.2020565365093745,
          -4.775453476566168,
          -3.895424375222803,
          -5.84322056314455,
          -7.987130238747664,
          -8.017139796145875,
          -7.103012314856438,
          -4.6314949578712685
         ],
         "y": [
          -6.6012797074377145,
          -5.733721750892343,
          -6.4480889509286685,
          -7.838707492472348,
          -8.081684285686471,
          -6.865621692509846,
          -7.0455448160548135,
          -9.851923763132024,
          -11.538133813755044,
          -12.357428423904782,
          -11.49345386431149,
          -12.018254420807104,
          -12.687730785459834,
          -12.724364058245719,
          -13.102716547042572,
          -11.235125615504218,
          -10.951955814098612,
          -11.757309266351108,
          -13.532238790567572,
          -12.312462767319557,
          -10.039095007164523,
          -9.259737073426177,
          -10.647388523249044,
          -9.903656338026257,
          -7.107241536424025,
          -4.366716685003651,
          -2.6774868973489045,
          -3.0021664772001064,
          -4.806717575106909
         ],
         "z": [
          5.067020909566413,
          4.89966155882551,
          3.7634938659012414,
          0.8896710937607946,
          0.05871473790664876,
          2.5438347347736414,
          2.6408970029971255,
          2.19439033929669,
          2.8023468368894675,
          2.4073879686465682,
          0.7309392472819024,
          -1.9227550149597799,
          -3.8551610716484084,
          -3.774509278630858,
          -2.4407456181506553,
          -2.1480675848926283,
          -1.2951889642548846,
          -2.4136229509981875,
          -4.890867034804937,
          -7.055017097711589,
          -6.423524902113722,
          -5.80920563153275,
          -4.650886096874678,
          -3.7402192073645786,
          -2.437081467014789,
          -0.45641245106798595,
          1.0143070650297021,
          2.420290108416288,
          3.0652071011373065
         ]
        },
        {
         "hovertemplate": "Condition=TRIANGLE True less pos<br>PC1=%{x}<br>PC2=%{y}<br>PC3=%{z}<br>ZeroedTimeBins=%{marker.size}<extra></extra>",
         "legendgroup": "TRIANGLE True less pos",
         "marker": {
          "color": "#00cc96",
          "opacity": 1,
          "size": [
           0.050000000000000044,
           0.10000000000000009,
           0.15000000000000013,
           0.19999999999999996,
           0.25,
           0.30000000000000004,
           0.3500000000000001,
           0.40000000000000013,
           0.44999999999999996,
           0.5,
           0.55,
           0.6000000000000001,
           0.6500000000000001,
           0.7,
           0.7500000000000002,
           0.8,
           0.8499999999999999,
           0.9000000000000001,
           0.95,
           1.0000000000000002,
           1.05,
           1.1000000000000003,
           1.1500000000000001,
           1.2,
           1.2500000000000002,
           1.3,
           1.3500000000000003,
           1.4000000000000001,
           1.45
          ],
          "sizemode": "area",
          "sizeref": 0.0036249999999999998,
          "symbol": "circle"
         },
         "mode": "markers",
         "name": "TRIANGLE True less pos",
         "scene": "scene",
         "showlegend": true,
         "type": "scatter3d",
         "x": [
          3.554846408447264,
          1.8493277242781911,
          0.145518593947512,
          0.2174970798703377,
          2.318767747952393,
          3.2409355038964063,
          2.5480134332422697,
          3.024224237091755,
          4.381328855342423,
          5.474797219809706,
          4.545133882204484,
          4.560674127513933,
          3.4553056324451457,
          1.7275844378129275,
          0.6003443110291578,
          1.8821090976617252,
          3.526003263588088,
          4.609335526337339,
          5.1908084969148085,
          3.2206583783345373,
          1.3430480161482232,
          2.452718167549169,
          2.4880033519159674,
          1.3350856537356737,
          0.7223313338577474,
          -1.2286267632667394,
          -3.915485897791235,
          -3.731622882773951,
          -2.7256095780796095
         ],
         "y": [
          0.2516220729316283,
          0.2552269247163717,
          0.2105060293369148,
          1.2634519791308771,
          2.0270426209279284,
          2.076863235190446,
          3.911110220983242,
          4.5804846949089715,
          4.4740436571764315,
          3.206661206142304,
          2.8289813672887867,
          3.4580703918121403,
          5.88189904000004,
          8.056558410252427,
          8.334829661591215,
          7.774491147908856,
          6.318494518252947,
          4.334845083683297,
          3.74383826098756,
          3.628121507607001,
          2.601748146452215,
          1.2635824533086761,
          1.9666463829202714,
          3.7202398431920334,
          4.05192481154927,
          4.890770701231908,
          6.56696148490785,
          8.648245504105729,
          10.02945441154737
         ],
         "z": [
          -0.42733422903657226,
          0.14153922922879691,
          -1.161244535038009,
          -3.0318180354056348,
          -4.511482693080272,
          -5.744341308636618,
          -5.144048741461108,
          -4.79926315159649,
          -6.190338956682382,
          -9.093529145446471,
          -11.31853548148077,
          -12.082955521244875,
          -10.93399845454512,
          -10.72716420649523,
          -9.60301910613696,
          -8.412247429219027,
          -7.983148670509409,
          -8.92071894158302,
          -10.193720070775898,
          -10.214104650692533,
          -9.675628732109423,
          -8.081744555728294,
          -7.435341752828018,
          -8.058883142308948,
          -8.01995401898737,
          -7.55498813532075,
          -6.674988188614176,
          -5.113814004241771,
          -5.184030767327718
         ]
        },
        {
         "hovertemplate": "Condition=TRIANGLE True more pos<br>PC1=%{x}<br>PC2=%{y}<br>PC3=%{z}<br>ZeroedTimeBins=%{marker.size}<extra></extra>",
         "legendgroup": "TRIANGLE True more pos",
         "marker": {
          "color": "#ab63fa",
          "opacity": 1,
          "size": [
           0.050000000000000044,
           0.10000000000000009,
           0.15000000000000013,
           0.19999999999999996,
           0.25,
           0.30000000000000004,
           0.3500000000000001,
           0.40000000000000013,
           0.44999999999999996,
           0.5,
           0.55,
           0.6000000000000001,
           0.6500000000000001,
           0.7,
           0.7500000000000002,
           0.8,
           0.8499999999999999,
           0.9000000000000001,
           0.95,
           1.0000000000000002,
           1.05,
           1.1000000000000003,
           1.1500000000000001,
           1.2,
           1.2500000000000002,
           1.3,
           1.3500000000000003,
           1.4000000000000001,
           1.45
          ],
          "sizemode": "area",
          "sizeref": 0.0036249999999999998,
          "symbol": "circle"
         },
         "mode": "markers",
         "name": "TRIANGLE True more pos",
         "scene": "scene",
         "showlegend": true,
         "type": "scatter3d",
         "x": [
          1.14052712061172,
          1.059124336248002,
          1.612884843826804,
          1.8384239851779183,
          2.756756316184564,
          4.260132757455756,
          4.92896346072725,
          7.235942883281862,
          10.433565339157965,
          12.943458342550162,
          13.926925359444368,
          14.143128013511497,
          12.537611298680705,
          11.349984560510462,
          13.148070786724091,
          15.093909880073959,
          15.821388022410963,
          15.106120103758286,
          15.226749289498605,
          15.745957143516806,
          15.79093193026947,
          15.405128121005337,
          14.99384452931383,
          13.330339122388732,
          11.235876598068344,
          7.892902909135361,
          6.843712356450537,
          6.890197477375784,
          7.023118601149135
         ],
         "y": [
          0.7845274292314078,
          0.017769898272821685,
          -1.6490402792671686,
          -0.9287143161717162,
          -1.492058069253419,
          -4.470793148063082,
          -5.111415781641686,
          -5.862218709353619,
          -6.367837520022853,
          -7.754591198575868,
          -8.23241078277745,
          -8.95283216514985,
          -7.964312780471294,
          -5.302752258914586,
          -3.7909771608481644,
          -4.592649534010313,
          -4.5925082480561255,
          -3.9141625103177273,
          -3.380560583790778,
          -3.059961844877923,
          -0.5578707974016213,
          0.25155160943293176,
          0.8659856115885395,
          2.2788618233571913,
          2.163237165978899,
          1.6053111938466802,
          1.1298755099579925,
          1.041546326560643,
          0.6005715229524
         ],
         "z": [
          0.21249818176201785,
          1.8611323352533304,
          3.185811641507193,
          3.096291852706022,
          2.58416258616264,
          2.5472047093939243,
          3.9538329102378342,
          6.231959201228812,
          5.3639399822705895,
          3.7822751006745454,
          2.4361008953146506,
          -0.23141736525730053,
          -1.8221159008957044,
          -1.5710815855760218,
          0.7942237649660596,
          -0.34468973188307994,
          -1.4503828894635307,
          -1.7037698357063005,
          0.8761533668073069,
          3.3051559197734024,
          4.46079847791979,
          3.672691530970394,
          4.4804353919903965,
          6.67563559882978,
          6.531842350563818,
          5.252311458683793,
          5.0011123566440565,
          5.328296489748537,
          4.414609098388385
         ]
        }
       ],
       "layout": {
        "legend": {
         "itemsizing": "constant",
         "title": {
          "text": "Condition"
         },
         "tracegroupgap": 0
        },
        "margin": {
         "t": 60
        },
        "scene": {
         "domain": {
          "x": [
           0,
           1
          ],
          "y": [
           0,
           1
          ]
         },
         "xaxis": {
          "title": {
           "text": "PC1"
          }
         },
         "yaxis": {
          "title": {
           "text": "PC2"
          }
         },
         "zaxis": {
          "title": {
           "text": "PC3"
          }
         }
        },
        "template": {
         "data": {
          "bar": [
           {
            "error_x": {
             "color": "#2a3f5f"
            },
            "error_y": {
             "color": "#2a3f5f"
            },
            "marker": {
             "line": {
              "color": "#E5ECF6",
              "width": 0.5
             },
             "pattern": {
              "fillmode": "overlay",
              "size": 10,
              "solidity": 0.2
             }
            },
            "type": "bar"
           }
          ],
          "barpolar": [
           {
            "marker": {
             "line": {
              "color": "#E5ECF6",
              "width": 0.5
             },
             "pattern": {
              "fillmode": "overlay",
              "size": 10,
              "solidity": 0.2
             }
            },
            "type": "barpolar"
           }
          ],
          "carpet": [
           {
            "aaxis": {
             "endlinecolor": "#2a3f5f",
             "gridcolor": "white",
             "linecolor": "white",
             "minorgridcolor": "white",
             "startlinecolor": "#2a3f5f"
            },
            "baxis": {
             "endlinecolor": "#2a3f5f",
             "gridcolor": "white",
             "linecolor": "white",
             "minorgridcolor": "white",
             "startlinecolor": "#2a3f5f"
            },
            "type": "carpet"
           }
          ],
          "choropleth": [
           {
            "colorbar": {
             "outlinewidth": 0,
             "ticks": ""
            },
            "type": "choropleth"
           }
          ],
          "contour": [
           {
            "colorbar": {
             "outlinewidth": 0,
             "ticks": ""
            },
            "colorscale": [
             [
              0,
              "#0d0887"
             ],
             [
              0.1111111111111111,
              "#46039f"
             ],
             [
              0.2222222222222222,
              "#7201a8"
             ],
             [
              0.3333333333333333,
              "#9c179e"
             ],
             [
              0.4444444444444444,
              "#bd3786"
             ],
             [
              0.5555555555555556,
              "#d8576b"
             ],
             [
              0.6666666666666666,
              "#ed7953"
             ],
             [
              0.7777777777777778,
              "#fb9f3a"
             ],
             [
              0.8888888888888888,
              "#fdca26"
             ],
             [
              1,
              "#f0f921"
             ]
            ],
            "type": "contour"
           }
          ],
          "contourcarpet": [
           {
            "colorbar": {
             "outlinewidth": 0,
             "ticks": ""
            },
            "type": "contourcarpet"
           }
          ],
          "heatmap": [
           {
            "colorbar": {
             "outlinewidth": 0,
             "ticks": ""
            },
            "colorscale": [
             [
              0,
              "#0d0887"
             ],
             [
              0.1111111111111111,
              "#46039f"
             ],
             [
              0.2222222222222222,
              "#7201a8"
             ],
             [
              0.3333333333333333,
              "#9c179e"
             ],
             [
              0.4444444444444444,
              "#bd3786"
             ],
             [
              0.5555555555555556,
              "#d8576b"
             ],
             [
              0.6666666666666666,
              "#ed7953"
             ],
             [
              0.7777777777777778,
              "#fb9f3a"
             ],
             [
              0.8888888888888888,
              "#fdca26"
             ],
             [
              1,
              "#f0f921"
             ]
            ],
            "type": "heatmap"
           }
          ],
          "heatmapgl": [
           {
            "colorbar": {
             "outlinewidth": 0,
             "ticks": ""
            },
            "colorscale": [
             [
              0,
              "#0d0887"
             ],
             [
              0.1111111111111111,
              "#46039f"
             ],
             [
              0.2222222222222222,
              "#7201a8"
             ],
             [
              0.3333333333333333,
              "#9c179e"
             ],
             [
              0.4444444444444444,
              "#bd3786"
             ],
             [
              0.5555555555555556,
              "#d8576b"
             ],
             [
              0.6666666666666666,
              "#ed7953"
             ],
             [
              0.7777777777777778,
              "#fb9f3a"
             ],
             [
              0.8888888888888888,
              "#fdca26"
             ],
             [
              1,
              "#f0f921"
             ]
            ],
            "type": "heatmapgl"
           }
          ],
          "histogram": [
           {
            "marker": {
             "pattern": {
              "fillmode": "overlay",
              "size": 10,
              "solidity": 0.2
             }
            },
            "type": "histogram"
           }
          ],
          "histogram2d": [
           {
            "colorbar": {
             "outlinewidth": 0,
             "ticks": ""
            },
            "colorscale": [
             [
              0,
              "#0d0887"
             ],
             [
              0.1111111111111111,
              "#46039f"
             ],
             [
              0.2222222222222222,
              "#7201a8"
             ],
             [
              0.3333333333333333,
              "#9c179e"
             ],
             [
              0.4444444444444444,
              "#bd3786"
             ],
             [
              0.5555555555555556,
              "#d8576b"
             ],
             [
              0.6666666666666666,
              "#ed7953"
             ],
             [
              0.7777777777777778,
              "#fb9f3a"
             ],
             [
              0.8888888888888888,
              "#fdca26"
             ],
             [
              1,
              "#f0f921"
             ]
            ],
            "type": "histogram2d"
           }
          ],
          "histogram2dcontour": [
           {
            "colorbar": {
             "outlinewidth": 0,
             "ticks": ""
            },
            "colorscale": [
             [
              0,
              "#0d0887"
             ],
             [
              0.1111111111111111,
              "#46039f"
             ],
             [
              0.2222222222222222,
              "#7201a8"
             ],
             [
              0.3333333333333333,
              "#9c179e"
             ],
             [
              0.4444444444444444,
              "#bd3786"
             ],
             [
              0.5555555555555556,
              "#d8576b"
             ],
             [
              0.6666666666666666,
              "#ed7953"
             ],
             [
              0.7777777777777778,
              "#fb9f3a"
             ],
             [
              0.8888888888888888,
              "#fdca26"
             ],
             [
              1,
              "#f0f921"
             ]
            ],
            "type": "histogram2dcontour"
           }
          ],
          "mesh3d": [
           {
            "colorbar": {
             "outlinewidth": 0,
             "ticks": ""
            },
            "type": "mesh3d"
           }
          ],
          "parcoords": [
           {
            "line": {
             "colorbar": {
              "outlinewidth": 0,
              "ticks": ""
             }
            },
            "type": "parcoords"
           }
          ],
          "pie": [
           {
            "automargin": true,
            "type": "pie"
           }
          ],
          "scatter": [
           {
            "fillpattern": {
             "fillmode": "overlay",
             "size": 10,
             "solidity": 0.2
            },
            "type": "scatter"
           }
          ],
          "scatter3d": [
           {
            "line": {
             "colorbar": {
              "outlinewidth": 0,
              "ticks": ""
             }
            },
            "marker": {
             "colorbar": {
              "outlinewidth": 0,
              "ticks": ""
             }
            },
            "type": "scatter3d"
           }
          ],
          "scattercarpet": [
           {
            "marker": {
             "colorbar": {
              "outlinewidth": 0,
              "ticks": ""
             }
            },
            "type": "scattercarpet"
           }
          ],
          "scattergeo": [
           {
            "marker": {
             "colorbar": {
              "outlinewidth": 0,
              "ticks": ""
             }
            },
            "type": "scattergeo"
           }
          ],
          "scattergl": [
           {
            "marker": {
             "colorbar": {
              "outlinewidth": 0,
              "ticks": ""
             }
            },
            "type": "scattergl"
           }
          ],
          "scattermapbox": [
           {
            "marker": {
             "colorbar": {
              "outlinewidth": 0,
              "ticks": ""
             }
            },
            "type": "scattermapbox"
           }
          ],
          "scatterpolar": [
           {
            "marker": {
             "colorbar": {
              "outlinewidth": 0,
              "ticks": ""
             }
            },
            "type": "scatterpolar"
           }
          ],
          "scatterpolargl": [
           {
            "marker": {
             "colorbar": {
              "outlinewidth": 0,
              "ticks": ""
             }
            },
            "type": "scatterpolargl"
           }
          ],
          "scatterternary": [
           {
            "marker": {
             "colorbar": {
              "outlinewidth": 0,
              "ticks": ""
             }
            },
            "type": "scatterternary"
           }
          ],
          "surface": [
           {
            "colorbar": {
             "outlinewidth": 0,
             "ticks": ""
            },
            "colorscale": [
             [
              0,
              "#0d0887"
             ],
             [
              0.1111111111111111,
              "#46039f"
             ],
             [
              0.2222222222222222,
              "#7201a8"
             ],
             [
              0.3333333333333333,
              "#9c179e"
             ],
             [
              0.4444444444444444,
              "#bd3786"
             ],
             [
              0.5555555555555556,
              "#d8576b"
             ],
             [
              0.6666666666666666,
              "#ed7953"
             ],
             [
              0.7777777777777778,
              "#fb9f3a"
             ],
             [
              0.8888888888888888,
              "#fdca26"
             ],
             [
              1,
              "#f0f921"
             ]
            ],
            "type": "surface"
           }
          ],
          "table": [
           {
            "cells": {
             "fill": {
              "color": "#EBF0F8"
             },
             "line": {
              "color": "white"
             }
            },
            "header": {
             "fill": {
              "color": "#C8D4E3"
             },
             "line": {
              "color": "white"
             }
            },
            "type": "table"
           }
          ]
         },
         "layout": {
          "annotationdefaults": {
           "arrowcolor": "#2a3f5f",
           "arrowhead": 0,
           "arrowwidth": 1
          },
          "autotypenumbers": "strict",
          "coloraxis": {
           "colorbar": {
            "outlinewidth": 0,
            "ticks": ""
           }
          },
          "colorscale": {
           "diverging": [
            [
             0,
             "#8e0152"
            ],
            [
             0.1,
             "#c51b7d"
            ],
            [
             0.2,
             "#de77ae"
            ],
            [
             0.3,
             "#f1b6da"
            ],
            [
             0.4,
             "#fde0ef"
            ],
            [
             0.5,
             "#f7f7f7"
            ],
            [
             0.6,
             "#e6f5d0"
            ],
            [
             0.7,
             "#b8e186"
            ],
            [
             0.8,
             "#7fbc41"
            ],
            [
             0.9,
             "#4d9221"
            ],
            [
             1,
             "#276419"
            ]
           ],
           "sequential": [
            [
             0,
             "#0d0887"
            ],
            [
             0.1111111111111111,
             "#46039f"
            ],
            [
             0.2222222222222222,
             "#7201a8"
            ],
            [
             0.3333333333333333,
             "#9c179e"
            ],
            [
             0.4444444444444444,
             "#bd3786"
            ],
            [
             0.5555555555555556,
             "#d8576b"
            ],
            [
             0.6666666666666666,
             "#ed7953"
            ],
            [
             0.7777777777777778,
             "#fb9f3a"
            ],
            [
             0.8888888888888888,
             "#fdca26"
            ],
            [
             1,
             "#f0f921"
            ]
           ],
           "sequentialminus": [
            [
             0,
             "#0d0887"
            ],
            [
             0.1111111111111111,
             "#46039f"
            ],
            [
             0.2222222222222222,
             "#7201a8"
            ],
            [
             0.3333333333333333,
             "#9c179e"
            ],
            [
             0.4444444444444444,
             "#bd3786"
            ],
            [
             0.5555555555555556,
             "#d8576b"
            ],
            [
             0.6666666666666666,
             "#ed7953"
            ],
            [
             0.7777777777777778,
             "#fb9f3a"
            ],
            [
             0.8888888888888888,
             "#fdca26"
            ],
            [
             1,
             "#f0f921"
            ]
           ]
          },
          "colorway": [
           "#636efa",
           "#EF553B",
           "#00cc96",
           "#ab63fa",
           "#FFA15A",
           "#19d3f3",
           "#FF6692",
           "#B6E880",
           "#FF97FF",
           "#FECB52"
          ],
          "font": {
           "color": "#2a3f5f"
          },
          "geo": {
           "bgcolor": "white",
           "lakecolor": "white",
           "landcolor": "#E5ECF6",
           "showlakes": true,
           "showland": true,
           "subunitcolor": "white"
          },
          "hoverlabel": {
           "align": "left"
          },
          "hovermode": "closest",
          "mapbox": {
           "style": "light"
          },
          "paper_bgcolor": "white",
          "plot_bgcolor": "#E5ECF6",
          "polar": {
           "angularaxis": {
            "gridcolor": "white",
            "linecolor": "white",
            "ticks": ""
           },
           "bgcolor": "#E5ECF6",
           "radialaxis": {
            "gridcolor": "white",
            "linecolor": "white",
            "ticks": ""
           }
          },
          "scene": {
           "xaxis": {
            "backgroundcolor": "#E5ECF6",
            "gridcolor": "white",
            "gridwidth": 2,
            "linecolor": "white",
            "showbackground": true,
            "ticks": "",
            "zerolinecolor": "white"
           },
           "yaxis": {
            "backgroundcolor": "#E5ECF6",
            "gridcolor": "white",
            "gridwidth": 2,
            "linecolor": "white",
            "showbackground": true,
            "ticks": "",
            "zerolinecolor": "white"
           },
           "zaxis": {
            "backgroundcolor": "#E5ECF6",
            "gridcolor": "white",
            "gridwidth": 2,
            "linecolor": "white",
            "showbackground": true,
            "ticks": "",
            "zerolinecolor": "white"
           }
          },
          "shapedefaults": {
           "line": {
            "color": "#2a3f5f"
           }
          },
          "ternary": {
           "aaxis": {
            "gridcolor": "white",
            "linecolor": "white",
            "ticks": ""
           },
           "baxis": {
            "gridcolor": "white",
            "linecolor": "white",
            "ticks": ""
           },
           "bgcolor": "#E5ECF6",
           "caxis": {
            "gridcolor": "white",
            "linecolor": "white",
            "ticks": ""
           }
          },
          "title": {
           "x": 0.05
          },
          "xaxis": {
           "automargin": true,
           "gridcolor": "white",
           "linecolor": "white",
           "ticks": "",
           "title": {
            "standoff": 15
           },
           "zerolinecolor": "white",
           "zerolinewidth": 2
          },
          "yaxis": {
           "automargin": true,
           "gridcolor": "white",
           "linecolor": "white",
           "ticks": "",
           "title": {
            "standoff": 15
           },
           "zerolinecolor": "white",
           "zerolinewidth": 2
          }
         }
        }
       }
      },
      "text/html": [
       "<div>                            <div id=\"7070884f-a3d4-49c4-a633-d0ed8e66db05\" class=\"plotly-graph-div\" style=\"height:525px; width:100%;\"></div>            <script type=\"text/javascript\">                require([\"plotly\"], function(Plotly) {                    window.PLOTLYENV=window.PLOTLYENV || {};                                    if (document.getElementById(\"7070884f-a3d4-49c4-a633-d0ed8e66db05\")) {                    Plotly.newPlot(                        \"7070884f-a3d4-49c4-a633-d0ed8e66db05\",                        [{\"hovertemplate\":\"Condition=SQUARE True less pos<br>PC1=%{x}<br>PC2=%{y}<br>PC3=%{z}<br>ZeroedTimeBins=%{marker.size}<extra></extra>\",\"legendgroup\":\"SQUARE True less pos\",\"marker\":{\"color\":\"#636efa\",\"opacity\":1,\"size\":[0.050000000000000044,0.10000000000000009,0.15000000000000013,0.19999999999999996,0.25,0.30000000000000004,0.3500000000000001,0.40000000000000013,0.44999999999999996,0.5,0.55,0.6000000000000001,0.6500000000000001,0.7,0.7500000000000002,0.8,0.8499999999999999,0.9000000000000001,0.95,1.0000000000000002,1.05,1.1000000000000003,1.1500000000000001,1.2,1.2500000000000002,1.3,1.3500000000000003,1.4000000000000001,1.45],\"sizemode\":\"area\",\"sizeref\":0.0036249999999999998,\"symbol\":\"circle\"},\"mode\":\"markers\",\"name\":\"SQUARE True less pos\",\"scene\":\"scene\",\"showlegend\":true,\"x\":[0.8525709512135421,1.4951298593921158,1.4065592064437833,-0.8729742039686131,-2.114005554925414,-2.7433024853397354,-2.2169543211158786,-1.3801473904555672,-2.8658868295925917,-4.789695334262275,-6.218191530812893,-5.754997645250723,-4.052358358730903,-3.836061362369956,-1.90400843433162,-1.4046811977746874,-2.275160439786272,-4.322175340151755,-5.858424913169749,-7.8241158561758235,-7.050018200805514,-6.29924628357877,-6.526394286751103,-7.500242920173831,-9.972984062243723,-12.035584443755218,-11.954367606404984,-9.846119373905761,-8.333697399625208],\"y\":[-2.747711109264589,-1.4471831860728313,2.9312325292901376,6.179846477524319,5.343447938451404,2.350122696250461,1.054074481562627,0.10264293585233225,-0.218785225603942,0.008170650845908387,2.217221605239317,5.313704790312776,8.036104444973976,7.35454608090718,5.072861158745873,5.915442295411208,5.524277003447307,6.343903281268782,6.592181691763573,6.7804573535216655,3.7157274975170065,1.6990578503032365,3.4863244966299134,7.180634274220469,9.590567852440621,11.271830139973407,12.173133892454091,10.355314311028563,5.935492565606081],\"z\":[3.1537892904557423,2.3755466150018245,1.0808096682085657,2.2143299906051115,2.8421147494955643,3.0161543485116935,3.3954383173746927,3.3537883842255054,3.817397489469838,2.8909787423563635,3.7520937166115966,7.489631297627887,11.790521186094427,15.081386636446938,15.642114195731793,14.62184476194606,14.336076599952476,12.348715852201769,8.356207651650228,5.843250895542031,4.648042688102608,3.6718348051704424,2.102212680960262,0.12771258055103918,-0.03322159547368732,0.5566696482285213,0.3109146485714006,-2.0059534196233244,-5.894646243194609],\"type\":\"scatter3d\"},{\"hovertemplate\":\"Condition=SQUARE True more pos<br>PC1=%{x}<br>PC2=%{y}<br>PC3=%{z}<br>ZeroedTimeBins=%{marker.size}<extra></extra>\",\"legendgroup\":\"SQUARE True more pos\",\"marker\":{\"color\":\"#EF553B\",\"opacity\":1,\"size\":[0.050000000000000044,0.10000000000000009,0.15000000000000013,0.19999999999999996,0.25,0.30000000000000004,0.3500000000000001,0.40000000000000013,0.44999999999999996,0.5,0.55,0.6000000000000001,0.6500000000000001,0.7,0.7500000000000002,0.8,0.8499999999999999,0.9000000000000001,0.95,1.0000000000000002,1.05,1.1000000000000003,1.1500000000000001,1.2,1.2500000000000002,1.3,1.3500000000000003,1.4000000000000001,1.45],\"sizemode\":\"area\",\"sizeref\":0.0036249999999999998,\"symbol\":\"circle\"},\"mode\":\"markers\",\"name\":\"SQUARE True more pos\",\"scene\":\"scene\",\"showlegend\":true,\"x\":[-0.2582092634470896,0.6585011005272047,0.5880112572596576,-0.8041083094945043,-3.637397330158191,-7.04640655223103,-7.879660488448676,-7.605899833726422,-8.732350334714916,-9.708292990218476,-8.450943048729965,-6.474569791013108,-4.621446322236993,-4.784602185906222,-3.921867706703669,-5.595755853081205,-7.198924524390783,-9.23298250815173,-9.39632527850909,-9.83563924536134,-8.243680331466578,-7.2020565365093745,-4.775453476566168,-3.895424375222803,-5.84322056314455,-7.987130238747664,-8.017139796145875,-7.103012314856438,-4.6314949578712685],\"y\":[-6.6012797074377145,-5.733721750892343,-6.4480889509286685,-7.838707492472348,-8.081684285686471,-6.865621692509846,-7.0455448160548135,-9.851923763132024,-11.538133813755044,-12.357428423904782,-11.49345386431149,-12.018254420807104,-12.687730785459834,-12.724364058245719,-13.102716547042572,-11.235125615504218,-10.951955814098612,-11.757309266351108,-13.532238790567572,-12.312462767319557,-10.039095007164523,-9.259737073426177,-10.647388523249044,-9.903656338026257,-7.107241536424025,-4.366716685003651,-2.6774868973489045,-3.0021664772001064,-4.806717575106909],\"z\":[5.067020909566413,4.89966155882551,3.7634938659012414,0.8896710937607946,0.05871473790664876,2.5438347347736414,2.6408970029971255,2.19439033929669,2.8023468368894675,2.4073879686465682,0.7309392472819024,-1.9227550149597799,-3.8551610716484084,-3.774509278630858,-2.4407456181506553,-2.1480675848926283,-1.2951889642548846,-2.4136229509981875,-4.890867034804937,-7.055017097711589,-6.423524902113722,-5.80920563153275,-4.650886096874678,-3.7402192073645786,-2.437081467014789,-0.45641245106798595,1.0143070650297021,2.420290108416288,3.0652071011373065],\"type\":\"scatter3d\"},{\"hovertemplate\":\"Condition=TRIANGLE True less pos<br>PC1=%{x}<br>PC2=%{y}<br>PC3=%{z}<br>ZeroedTimeBins=%{marker.size}<extra></extra>\",\"legendgroup\":\"TRIANGLE True less pos\",\"marker\":{\"color\":\"#00cc96\",\"opacity\":1,\"size\":[0.050000000000000044,0.10000000000000009,0.15000000000000013,0.19999999999999996,0.25,0.30000000000000004,0.3500000000000001,0.40000000000000013,0.44999999999999996,0.5,0.55,0.6000000000000001,0.6500000000000001,0.7,0.7500000000000002,0.8,0.8499999999999999,0.9000000000000001,0.95,1.0000000000000002,1.05,1.1000000000000003,1.1500000000000001,1.2,1.2500000000000002,1.3,1.3500000000000003,1.4000000000000001,1.45],\"sizemode\":\"area\",\"sizeref\":0.0036249999999999998,\"symbol\":\"circle\"},\"mode\":\"markers\",\"name\":\"TRIANGLE True less pos\",\"scene\":\"scene\",\"showlegend\":true,\"x\":[3.554846408447264,1.8493277242781911,0.145518593947512,0.2174970798703377,2.318767747952393,3.2409355038964063,2.5480134332422697,3.024224237091755,4.381328855342423,5.474797219809706,4.545133882204484,4.560674127513933,3.4553056324451457,1.7275844378129275,0.6003443110291578,1.8821090976617252,3.526003263588088,4.609335526337339,5.1908084969148085,3.2206583783345373,1.3430480161482232,2.452718167549169,2.4880033519159674,1.3350856537356737,0.7223313338577474,-1.2286267632667394,-3.915485897791235,-3.731622882773951,-2.7256095780796095],\"y\":[0.2516220729316283,0.2552269247163717,0.2105060293369148,1.2634519791308771,2.0270426209279284,2.076863235190446,3.911110220983242,4.5804846949089715,4.4740436571764315,3.206661206142304,2.8289813672887867,3.4580703918121403,5.88189904000004,8.056558410252427,8.334829661591215,7.774491147908856,6.318494518252947,4.334845083683297,3.74383826098756,3.628121507607001,2.601748146452215,1.2635824533086761,1.9666463829202714,3.7202398431920334,4.05192481154927,4.890770701231908,6.56696148490785,8.648245504105729,10.02945441154737],\"z\":[-0.42733422903657226,0.14153922922879691,-1.161244535038009,-3.0318180354056348,-4.511482693080272,-5.744341308636618,-5.144048741461108,-4.79926315159649,-6.190338956682382,-9.093529145446471,-11.31853548148077,-12.082955521244875,-10.93399845454512,-10.72716420649523,-9.60301910613696,-8.412247429219027,-7.983148670509409,-8.92071894158302,-10.193720070775898,-10.214104650692533,-9.675628732109423,-8.081744555728294,-7.435341752828018,-8.058883142308948,-8.01995401898737,-7.55498813532075,-6.674988188614176,-5.113814004241771,-5.184030767327718],\"type\":\"scatter3d\"},{\"hovertemplate\":\"Condition=TRIANGLE True more pos<br>PC1=%{x}<br>PC2=%{y}<br>PC3=%{z}<br>ZeroedTimeBins=%{marker.size}<extra></extra>\",\"legendgroup\":\"TRIANGLE True more pos\",\"marker\":{\"color\":\"#ab63fa\",\"opacity\":1,\"size\":[0.050000000000000044,0.10000000000000009,0.15000000000000013,0.19999999999999996,0.25,0.30000000000000004,0.3500000000000001,0.40000000000000013,0.44999999999999996,0.5,0.55,0.6000000000000001,0.6500000000000001,0.7,0.7500000000000002,0.8,0.8499999999999999,0.9000000000000001,0.95,1.0000000000000002,1.05,1.1000000000000003,1.1500000000000001,1.2,1.2500000000000002,1.3,1.3500000000000003,1.4000000000000001,1.45],\"sizemode\":\"area\",\"sizeref\":0.0036249999999999998,\"symbol\":\"circle\"},\"mode\":\"markers\",\"name\":\"TRIANGLE True more pos\",\"scene\":\"scene\",\"showlegend\":true,\"x\":[1.14052712061172,1.059124336248002,1.612884843826804,1.8384239851779183,2.756756316184564,4.260132757455756,4.92896346072725,7.235942883281862,10.433565339157965,12.943458342550162,13.926925359444368,14.143128013511497,12.537611298680705,11.349984560510462,13.148070786724091,15.093909880073959,15.821388022410963,15.106120103758286,15.226749289498605,15.745957143516806,15.79093193026947,15.405128121005337,14.99384452931383,13.330339122388732,11.235876598068344,7.892902909135361,6.843712356450537,6.890197477375784,7.023118601149135],\"y\":[0.7845274292314078,0.017769898272821685,-1.6490402792671686,-0.9287143161717162,-1.492058069253419,-4.470793148063082,-5.111415781641686,-5.862218709353619,-6.367837520022853,-7.754591198575868,-8.23241078277745,-8.95283216514985,-7.964312780471294,-5.302752258914586,-3.7909771608481644,-4.592649534010313,-4.5925082480561255,-3.9141625103177273,-3.380560583790778,-3.059961844877923,-0.5578707974016213,0.25155160943293176,0.8659856115885395,2.2788618233571913,2.163237165978899,1.6053111938466802,1.1298755099579925,1.041546326560643,0.6005715229524],\"z\":[0.21249818176201785,1.8611323352533304,3.185811641507193,3.096291852706022,2.58416258616264,2.5472047093939243,3.9538329102378342,6.231959201228812,5.3639399822705895,3.7822751006745454,2.4361008953146506,-0.23141736525730053,-1.8221159008957044,-1.5710815855760218,0.7942237649660596,-0.34468973188307994,-1.4503828894635307,-1.7037698357063005,0.8761533668073069,3.3051559197734024,4.46079847791979,3.672691530970394,4.4804353919903965,6.67563559882978,6.531842350563818,5.252311458683793,5.0011123566440565,5.328296489748537,4.414609098388385],\"type\":\"scatter3d\"}],                        {\"template\":{\"data\":{\"histogram2dcontour\":[{\"type\":\"histogram2dcontour\",\"colorbar\":{\"outlinewidth\":0,\"ticks\":\"\"},\"colorscale\":[[0.0,\"#0d0887\"],[0.1111111111111111,\"#46039f\"],[0.2222222222222222,\"#7201a8\"],[0.3333333333333333,\"#9c179e\"],[0.4444444444444444,\"#bd3786\"],[0.5555555555555556,\"#d8576b\"],[0.6666666666666666,\"#ed7953\"],[0.7777777777777778,\"#fb9f3a\"],[0.8888888888888888,\"#fdca26\"],[1.0,\"#f0f921\"]]}],\"choropleth\":[{\"type\":\"choropleth\",\"colorbar\":{\"outlinewidth\":0,\"ticks\":\"\"}}],\"histogram2d\":[{\"type\":\"histogram2d\",\"colorbar\":{\"outlinewidth\":0,\"ticks\":\"\"},\"colorscale\":[[0.0,\"#0d0887\"],[0.1111111111111111,\"#46039f\"],[0.2222222222222222,\"#7201a8\"],[0.3333333333333333,\"#9c179e\"],[0.4444444444444444,\"#bd3786\"],[0.5555555555555556,\"#d8576b\"],[0.6666666666666666,\"#ed7953\"],[0.7777777777777778,\"#fb9f3a\"],[0.8888888888888888,\"#fdca26\"],[1.0,\"#f0f921\"]]}],\"heatmap\":[{\"type\":\"heatmap\",\"colorbar\":{\"outlinewidth\":0,\"ticks\":\"\"},\"colorscale\":[[0.0,\"#0d0887\"],[0.1111111111111111,\"#46039f\"],[0.2222222222222222,\"#7201a8\"],[0.3333333333333333,\"#9c179e\"],[0.4444444444444444,\"#bd3786\"],[0.5555555555555556,\"#d8576b\"],[0.6666666666666666,\"#ed7953\"],[0.7777777777777778,\"#fb9f3a\"],[0.8888888888888888,\"#fdca26\"],[1.0,\"#f0f921\"]]}],\"heatmapgl\":[{\"type\":\"heatmapgl\",\"colorbar\":{\"outlinewidth\":0,\"ticks\":\"\"},\"colorscale\":[[0.0,\"#0d0887\"],[0.1111111111111111,\"#46039f\"],[0.2222222222222222,\"#7201a8\"],[0.3333333333333333,\"#9c179e\"],[0.4444444444444444,\"#bd3786\"],[0.5555555555555556,\"#d8576b\"],[0.6666666666666666,\"#ed7953\"],[0.7777777777777778,\"#fb9f3a\"],[0.8888888888888888,\"#fdca26\"],[1.0,\"#f0f921\"]]}],\"contourcarpet\":[{\"type\":\"contourcarpet\",\"colorbar\":{\"outlinewidth\":0,\"ticks\":\"\"}}],\"contour\":[{\"type\":\"contour\",\"colorbar\":{\"outlinewidth\":0,\"ticks\":\"\"},\"colorscale\":[[0.0,\"#0d0887\"],[0.1111111111111111,\"#46039f\"],[0.2222222222222222,\"#7201a8\"],[0.3333333333333333,\"#9c179e\"],[0.4444444444444444,\"#bd3786\"],[0.5555555555555556,\"#d8576b\"],[0.6666666666666666,\"#ed7953\"],[0.7777777777777778,\"#fb9f3a\"],[0.8888888888888888,\"#fdca26\"],[1.0,\"#f0f921\"]]}],\"surface\":[{\"type\":\"surface\",\"colorbar\":{\"outlinewidth\":0,\"ticks\":\"\"},\"colorscale\":[[0.0,\"#0d0887\"],[0.1111111111111111,\"#46039f\"],[0.2222222222222222,\"#7201a8\"],[0.3333333333333333,\"#9c179e\"],[0.4444444444444444,\"#bd3786\"],[0.5555555555555556,\"#d8576b\"],[0.6666666666666666,\"#ed7953\"],[0.7777777777777778,\"#fb9f3a\"],[0.8888888888888888,\"#fdca26\"],[1.0,\"#f0f921\"]]}],\"mesh3d\":[{\"type\":\"mesh3d\",\"colorbar\":{\"outlinewidth\":0,\"ticks\":\"\"}}],\"scatter\":[{\"fillpattern\":{\"fillmode\":\"overlay\",\"size\":10,\"solidity\":0.2},\"type\":\"scatter\"}],\"parcoords\":[{\"type\":\"parcoords\",\"line\":{\"colorbar\":{\"outlinewidth\":0,\"ticks\":\"\"}}}],\"scatterpolargl\":[{\"type\":\"scatterpolargl\",\"marker\":{\"colorbar\":{\"outlinewidth\":0,\"ticks\":\"\"}}}],\"bar\":[{\"error_x\":{\"color\":\"#2a3f5f\"},\"error_y\":{\"color\":\"#2a3f5f\"},\"marker\":{\"line\":{\"color\":\"#E5ECF6\",\"width\":0.5},\"pattern\":{\"fillmode\":\"overlay\",\"size\":10,\"solidity\":0.2}},\"type\":\"bar\"}],\"scattergeo\":[{\"type\":\"scattergeo\",\"marker\":{\"colorbar\":{\"outlinewidth\":0,\"ticks\":\"\"}}}],\"scatterpolar\":[{\"type\":\"scatterpolar\",\"marker\":{\"colorbar\":{\"outlinewidth\":0,\"ticks\":\"\"}}}],\"histogram\":[{\"marker\":{\"pattern\":{\"fillmode\":\"overlay\",\"size\":10,\"solidity\":0.2}},\"type\":\"histogram\"}],\"scattergl\":[{\"type\":\"scattergl\",\"marker\":{\"colorbar\":{\"outlinewidth\":0,\"ticks\":\"\"}}}],\"scatter3d\":[{\"type\":\"scatter3d\",\"line\":{\"colorbar\":{\"outlinewidth\":0,\"ticks\":\"\"}},\"marker\":{\"colorbar\":{\"outlinewidth\":0,\"ticks\":\"\"}}}],\"scattermapbox\":[{\"type\":\"scattermapbox\",\"marker\":{\"colorbar\":{\"outlinewidth\":0,\"ticks\":\"\"}}}],\"scatterternary\":[{\"type\":\"scatterternary\",\"marker\":{\"colorbar\":{\"outlinewidth\":0,\"ticks\":\"\"}}}],\"scattercarpet\":[{\"type\":\"scattercarpet\",\"marker\":{\"colorbar\":{\"outlinewidth\":0,\"ticks\":\"\"}}}],\"carpet\":[{\"aaxis\":{\"endlinecolor\":\"#2a3f5f\",\"gridcolor\":\"white\",\"linecolor\":\"white\",\"minorgridcolor\":\"white\",\"startlinecolor\":\"#2a3f5f\"},\"baxis\":{\"endlinecolor\":\"#2a3f5f\",\"gridcolor\":\"white\",\"linecolor\":\"white\",\"minorgridcolor\":\"white\",\"startlinecolor\":\"#2a3f5f\"},\"type\":\"carpet\"}],\"table\":[{\"cells\":{\"fill\":{\"color\":\"#EBF0F8\"},\"line\":{\"color\":\"white\"}},\"header\":{\"fill\":{\"color\":\"#C8D4E3\"},\"line\":{\"color\":\"white\"}},\"type\":\"table\"}],\"barpolar\":[{\"marker\":{\"line\":{\"color\":\"#E5ECF6\",\"width\":0.5},\"pattern\":{\"fillmode\":\"overlay\",\"size\":10,\"solidity\":0.2}},\"type\":\"barpolar\"}],\"pie\":[{\"automargin\":true,\"type\":\"pie\"}]},\"layout\":{\"autotypenumbers\":\"strict\",\"colorway\":[\"#636efa\",\"#EF553B\",\"#00cc96\",\"#ab63fa\",\"#FFA15A\",\"#19d3f3\",\"#FF6692\",\"#B6E880\",\"#FF97FF\",\"#FECB52\"],\"font\":{\"color\":\"#2a3f5f\"},\"hovermode\":\"closest\",\"hoverlabel\":{\"align\":\"left\"},\"paper_bgcolor\":\"white\",\"plot_bgcolor\":\"#E5ECF6\",\"polar\":{\"bgcolor\":\"#E5ECF6\",\"angularaxis\":{\"gridcolor\":\"white\",\"linecolor\":\"white\",\"ticks\":\"\"},\"radialaxis\":{\"gridcolor\":\"white\",\"linecolor\":\"white\",\"ticks\":\"\"}},\"ternary\":{\"bgcolor\":\"#E5ECF6\",\"aaxis\":{\"gridcolor\":\"white\",\"linecolor\":\"white\",\"ticks\":\"\"},\"baxis\":{\"gridcolor\":\"white\",\"linecolor\":\"white\",\"ticks\":\"\"},\"caxis\":{\"gridcolor\":\"white\",\"linecolor\":\"white\",\"ticks\":\"\"}},\"coloraxis\":{\"colorbar\":{\"outlinewidth\":0,\"ticks\":\"\"}},\"colorscale\":{\"sequential\":[[0.0,\"#0d0887\"],[0.1111111111111111,\"#46039f\"],[0.2222222222222222,\"#7201a8\"],[0.3333333333333333,\"#9c179e\"],[0.4444444444444444,\"#bd3786\"],[0.5555555555555556,\"#d8576b\"],[0.6666666666666666,\"#ed7953\"],[0.7777777777777778,\"#fb9f3a\"],[0.8888888888888888,\"#fdca26\"],[1.0,\"#f0f921\"]],\"sequentialminus\":[[0.0,\"#0d0887\"],[0.1111111111111111,\"#46039f\"],[0.2222222222222222,\"#7201a8\"],[0.3333333333333333,\"#9c179e\"],[0.4444444444444444,\"#bd3786\"],[0.5555555555555556,\"#d8576b\"],[0.6666666666666666,\"#ed7953\"],[0.7777777777777778,\"#fb9f3a\"],[0.8888888888888888,\"#fdca26\"],[1.0,\"#f0f921\"]],\"diverging\":[[0,\"#8e0152\"],[0.1,\"#c51b7d\"],[0.2,\"#de77ae\"],[0.3,\"#f1b6da\"],[0.4,\"#fde0ef\"],[0.5,\"#f7f7f7\"],[0.6,\"#e6f5d0\"],[0.7,\"#b8e186\"],[0.8,\"#7fbc41\"],[0.9,\"#4d9221\"],[1,\"#276419\"]]},\"xaxis\":{\"gridcolor\":\"white\",\"linecolor\":\"white\",\"ticks\":\"\",\"title\":{\"standoff\":15},\"zerolinecolor\":\"white\",\"automargin\":true,\"zerolinewidth\":2},\"yaxis\":{\"gridcolor\":\"white\",\"linecolor\":\"white\",\"ticks\":\"\",\"title\":{\"standoff\":15},\"zerolinecolor\":\"white\",\"automargin\":true,\"zerolinewidth\":2},\"scene\":{\"xaxis\":{\"backgroundcolor\":\"#E5ECF6\",\"gridcolor\":\"white\",\"linecolor\":\"white\",\"showbackground\":true,\"ticks\":\"\",\"zerolinecolor\":\"white\",\"gridwidth\":2},\"yaxis\":{\"backgroundcolor\":\"#E5ECF6\",\"gridcolor\":\"white\",\"linecolor\":\"white\",\"showbackground\":true,\"ticks\":\"\",\"zerolinecolor\":\"white\",\"gridwidth\":2},\"zaxis\":{\"backgroundcolor\":\"#E5ECF6\",\"gridcolor\":\"white\",\"linecolor\":\"white\",\"showbackground\":true,\"ticks\":\"\",\"zerolinecolor\":\"white\",\"gridwidth\":2}},\"shapedefaults\":{\"line\":{\"color\":\"#2a3f5f\"}},\"annotationdefaults\":{\"arrowcolor\":\"#2a3f5f\",\"arrowhead\":0,\"arrowwidth\":1},\"geo\":{\"bgcolor\":\"white\",\"landcolor\":\"#E5ECF6\",\"subunitcolor\":\"white\",\"showland\":true,\"showlakes\":true,\"lakecolor\":\"white\"},\"title\":{\"x\":0.05},\"mapbox\":{\"style\":\"light\"}}},\"scene\":{\"domain\":{\"x\":[0.0,1.0],\"y\":[0.0,1.0]},\"xaxis\":{\"title\":{\"text\":\"PC1\"}},\"yaxis\":{\"title\":{\"text\":\"PC2\"}},\"zaxis\":{\"title\":{\"text\":\"PC3\"}}},\"legend\":{\"title\":{\"text\":\"Condition\"},\"tracegroupgap\":0,\"itemsizing\":\"constant\"},\"margin\":{\"t\":60}},                        {\"responsive\": true}                    ).then(function(){\n",
       "                            \n",
       "var gd = document.getElementById('7070884f-a3d4-49c4-a633-d0ed8e66db05');\n",
       "var x = new MutationObserver(function (mutations, observer) {{\n",
       "        var display = window.getComputedStyle(gd).display;\n",
       "        if (!display || display === 'none') {{\n",
       "            console.log([gd, 'removed!']);\n",
       "            Plotly.purge(gd);\n",
       "            observer.disconnect();\n",
       "        }}\n",
       "}});\n",
       "\n",
       "// Listen for the removal of the full notebook cells\n",
       "var notebookContainer = gd.closest('#notebook-container');\n",
       "if (notebookContainer) {{\n",
       "    x.observe(notebookContainer, {childList: true});\n",
       "}}\n",
       "\n",
       "// Listen for the clearing of the current output cell\n",
       "var outputEl = gd.closest('.output');\n",
       "if (outputEl) {{\n",
       "    x.observe(outputEl, {childList: true});\n",
       "}}\n",
       "\n",
       "                        })                };                });            </script>        </div>"
      ]
     },
     "metadata": {},
     "output_type": "display_data"
    }
   ],
   "source": [
    "fig = px.scatter_3d(\n",
    "    transformed_df, \n",
    "    x='PC1', y='PC2', z='PC3',\n",
    "    color='Condition', \n",
    "    opacity=1,\n",
    "    size='ZeroedTimeBins',\n",
    "    # color_discrete_sequence=colors\n",
    ")\n",
    "fig.show()\n"
   ]
  },
  {
   "cell_type": "code",
   "execution_count": 41,
   "metadata": {},
   "outputs": [
    {
     "data": {
      "application/vnd.plotly.v1+json": {
       "config": {
        "plotlyServerURL": "https://plot.ly"
       },
       "data": [
        {
         "hovertemplate": "Condition=SQUARE False less pos<br>PC1=%{x}<br>PC2=%{y}<br>PC3=%{z}<br>ZeroedTimeBins=%{marker.size}<extra></extra>",
         "legendgroup": "SQUARE False less pos",
         "marker": {
          "color": "#636efa",
          "opacity": 1,
          "size": [
           0.050000000000000044,
           0.10000000000000009,
           0.15000000000000013,
           0.19999999999999996,
           0.25,
           0.30000000000000004,
           0.3500000000000001,
           0.40000000000000013,
           0.44999999999999996,
           0.5,
           0.55,
           0.6000000000000001,
           0.6500000000000001,
           0.7,
           0.7500000000000002,
           0.8,
           0.8499999999999999,
           0.9000000000000001,
           0.95,
           1.0000000000000002,
           1.05,
           1.1000000000000003,
           1.1500000000000001,
           1.2,
           1.2500000000000002,
           1.3,
           1.3500000000000003,
           1.4000000000000001,
           1.45
          ],
          "sizemode": "area",
          "sizeref": 0.0036249999999999998,
          "symbol": "circle"
         },
         "mode": "markers",
         "name": "SQUARE False less pos",
         "scene": "scene",
         "showlegend": true,
         "type": "scatter3d",
         "x": [
          -2.433153343694641,
          -3.5892701620908607,
          -5.212989926571618,
          -7.870736763265123,
          -10.595624221356179,
          -10.298702067784705,
          -8.920117462381368,
          -7.977606491354073,
          -5.784807556149656,
          -3.4412644808108364,
          -2.8490368343653656,
          -0.3111976471032031,
          1.5515546912594662,
          0.9420175273968411,
          1.3274303699820191,
          3.5626888495629667,
          1.5207019140046254,
          -3.1293743987709717,
          -7.034952640177357,
          -5.13598087156467,
          -4.95008925509745,
          -2.539024516450065,
          -0.28321617836276886,
          -0.4178194364154562,
          -2.846929155664796,
          -5.409867128757528,
          -8.260782724908468,
          -9.340026548004296,
          -8.634217500653044
         ],
         "y": [
          1.9677178894347664,
          3.10365182883297,
          2.6314970730999976,
          4.20036414823572,
          5.038698087568233,
          4.590091386337702,
          2.5183890121685675,
          0.8639350444877808,
          2.6644756158046152,
          4.98969259096221,
          6.092069152158685,
          6.828534810711285,
          4.757538845949359,
          0.023919306590563762,
          -4.070084396386936,
          -7.737878023988713,
          -9.802379327916576,
          -9.547749411034282,
          -6.24771275806786,
          -3.440488606595981,
          -3.20147048712631,
          -4.560386617155321,
          -4.537588749224568,
          -4.941581715241383,
          -5.053847182236453,
          -4.336069747314421,
          -1.95046556791237,
          -2.3023834964888596,
          -4.089325162079068
         ],
         "z": [
          -1.5673098341414224,
          -3.238889718585621,
          -3.395922471054229,
          -4.083623533721543,
          -4.767709752216439,
          -4.944245119182852,
          -3.666660494076139,
          -3.689690176657479,
          -4.223728500213526,
          -4.32908420524129,
          -2.439230686576068,
          1.0273123692914659,
          5.114987939455566,
          8.974833657249503,
          11.95910974005554,
          15.6057564593224,
          13.504955293687276,
          9.956331194531156,
          3.9598618169401023,
          4.033489785808283,
          3.7552192004421827,
          6.202812564673562,
          7.224822496666979,
          4.7232731791495155,
          2.6612905139752976,
          -0.002821694210533708,
          -2.4532110224463493,
          -3.2161863449285857,
          -0.3691763140768538
         ]
        },
        {
         "hovertemplate": "Condition=SQUARE False more pos<br>PC1=%{x}<br>PC2=%{y}<br>PC3=%{z}<br>ZeroedTimeBins=%{marker.size}<extra></extra>",
         "legendgroup": "SQUARE False more pos",
         "marker": {
          "color": "#EF553B",
          "opacity": 1,
          "size": [
           0.050000000000000044,
           0.10000000000000009,
           0.15000000000000013,
           0.19999999999999996,
           0.25,
           0.30000000000000004,
           0.3500000000000001,
           0.40000000000000013,
           0.44999999999999996,
           0.5,
           0.55,
           0.6000000000000001,
           0.6500000000000001,
           0.7,
           0.7500000000000002,
           0.8,
           0.8499999999999999,
           0.9000000000000001,
           0.95,
           1.0000000000000002,
           1.05,
           1.1000000000000003,
           1.1500000000000001,
           1.2,
           1.2500000000000002,
           1.3,
           1.3500000000000003,
           1.4000000000000001,
           1.45
          ],
          "sizemode": "area",
          "sizeref": 0.0036249999999999998,
          "symbol": "circle"
         },
         "mode": "markers",
         "name": "SQUARE False more pos",
         "scene": "scene",
         "showlegend": true,
         "type": "scatter3d",
         "x": [
          2.546903985393903,
          2.42351904754046,
          3.8392334689517265,
          6.116936016115078,
          7.954070409196147,
          7.8885765462294675,
          4.8708537216904535,
          2.0258877551242773,
          1.0147972542579156,
          -0.3715673474135813,
          -2.34410860119219,
          -2.8007190185330773,
          -2.7587828883528647,
          0.06279955200370971,
          2.398915303447677,
          1.5506406411026947,
          -2.476038550589779,
          -1.3433046209568347,
          3.726455177913344,
          7.071676748564427,
          6.363292937855114,
          6.745371102990228,
          5.1153898606669586,
          0.6942114861578728,
          -3.649942867489248,
          -4.362435734203656,
          -4.463140034941961,
          -5.996376045564797,
          -8.668709039432215
         ],
         "y": [
          1.8572667563974432,
          3.678333120728087,
          3.0179190707389143,
          2.490272590393336,
          2.3495405473570186,
          1.5739281630896946,
          1.6607238971348024,
          3.2706560885370863,
          4.502244623986788,
          3.997063493716323,
          4.219112485880483,
          6.898734676357599,
          9.142686657047863,
          11.775997146898362,
          15.42035816019437,
          15.271559031821733,
          14.25947846014415,
          11.172674016149971,
          9.112245465626168,
          7.653352094197591,
          6.169443006303515,
          5.500440111853045,
          4.984376711460647,
          5.53104221551826,
          5.461860844124127,
          3.7550798968429246,
          2.9586686299632774,
          1.8358025143940653,
          -0.1669902185275337
         ],
         "z": [
          1.3787910092761437,
          0.23818528560531177,
          -0.6806600121084105,
          0.3606562056131726,
          4.580713031892286,
          7.387073715862857,
          5.529171901313067,
          1.6878887585643991,
          0.5604953648010615,
          1.8967261511319184,
          2.768599641343864,
          1.1718141868162724,
          0.496460279343341,
          3.4928645424371814,
          6.965054017126022,
          6.871336786577752,
          2.726920450641771,
          2.9370041072395145,
          7.120034754937084,
          11.176513923004459,
          9.842109094638374,
          8.433443455053906,
          6.585890105820656,
          3.860139896012302,
          3.7499187311867215,
          3.3627980259720713,
          1.1495896213686374,
          -2.5862014683797945,
          -4.32471015346215
         ]
        },
        {
         "hovertemplate": "Condition=TRIANGLE False less pos<br>PC1=%{x}<br>PC2=%{y}<br>PC3=%{z}<br>ZeroedTimeBins=%{marker.size}<extra></extra>",
         "legendgroup": "TRIANGLE False less pos",
         "marker": {
          "color": "#00cc96",
          "opacity": 1,
          "size": [
           0.050000000000000044,
           0.10000000000000009,
           0.15000000000000013,
           0.19999999999999996,
           0.25,
           0.30000000000000004,
           0.3500000000000001,
           0.40000000000000013,
           0.44999999999999996,
           0.5,
           0.55,
           0.6000000000000001,
           0.6500000000000001,
           0.7,
           0.7500000000000002,
           0.8,
           0.8499999999999999,
           0.9000000000000001,
           0.95,
           1.0000000000000002,
           1.05,
           1.1000000000000003,
           1.1500000000000001,
           1.2,
           1.2500000000000002,
           1.3,
           1.3500000000000003,
           1.4000000000000001,
           1.45
          ],
          "sizemode": "area",
          "sizeref": 0.0036249999999999998,
          "symbol": "circle"
         },
         "mode": "markers",
         "name": "TRIANGLE False less pos",
         "scene": "scene",
         "showlegend": true,
         "type": "scatter3d",
         "x": [
          1.0870082429199763,
          0.8656711944432902,
          -0.08903825679491996,
          -2.5407807436560694,
          -4.206971698807587,
          -1.7289859522881412,
          2.56748853008746,
          2.6798417860524872,
          2.450599858118275,
          3.324559405954838,
          4.914087301182656,
          5.646524390350492,
          4.657394590968229,
          3.351822441509204,
          5.354022938377841,
          7.160027967821978,
          10.168820458635304,
          10.123506996726537,
          9.870992100852853,
          11.821539925688045,
          14.61958827745316,
          15.067744746375462,
          12.429813110147592,
          10.125752585655317,
          9.497986800841266,
          10.538975786536358,
          9.58300975393529,
          8.034403848491486,
          7.4118304893222176
         ],
         "y": [
          0.8453011108283457,
          2.799825441730164,
          3.8980382909657143,
          3.5212369609546696,
          2.022103601680233,
          3.290743142856839,
          4.562533917491056,
          4.449031041306099,
          3.5111570225194395,
          2.2037890657985617,
          2.55188490452846,
          2.026200221465428,
          0.7904617549481969,
          0.43030037950213956,
          3.4104992354224124,
          5.441189436025501,
          7.0421801524823495,
          7.942959566756445,
          7.126428100603209,
          4.73259579911398,
          2.895291887900333,
          1.6084285941208283,
          2.467421983204112,
          0.923741634814479,
          0.13229036402706074,
          -0.32457989873095433,
          1.152413761142221,
          2.256537759777078,
          2.908338982498522
         ],
         "z": [
          -6.236848114515974,
          -6.233534031922012,
          -5.175517988862395,
          -3.255810037459892,
          -1.785157427064175,
          -0.531273952866826,
          0.7097432727644613,
          0.16025174675477633,
          -0.36131118803978407,
          0.08319362089994811,
          1.0155698418320311,
          -0.20326628222153048,
          -4.179618045208815,
          -7.862854096819785,
          -9.912807037376771,
          -10.895905021204367,
          -9.988767110796058,
          -7.532738303714873,
          -6.480775335341981,
          -5.557151223618808,
          -5.521074421241738,
          -4.358818948912488,
          -5.350544852720787,
          -7.018371621587584,
          -7.349580343635707,
          -6.606971074038681,
          -5.502719175870109,
          -5.195849468510575,
          -5.257428160453995
         ]
        },
        {
         "hovertemplate": "Condition=TRIANGLE False more pos<br>PC1=%{x}<br>PC2=%{y}<br>PC3=%{z}<br>ZeroedTimeBins=%{marker.size}<extra></extra>",
         "legendgroup": "TRIANGLE False more pos",
         "marker": {
          "color": "#ab63fa",
          "opacity": 1,
          "size": [
           0.050000000000000044,
           0.10000000000000009,
           0.15000000000000013,
           0.19999999999999996,
           0.25,
           0.30000000000000004,
           0.3500000000000001,
           0.40000000000000013,
           0.44999999999999996,
           0.5,
           0.55,
           0.6000000000000001,
           0.6500000000000001,
           0.7,
           0.7500000000000002,
           0.8,
           0.8499999999999999,
           0.9000000000000001,
           0.95,
           1.0000000000000002,
           1.05,
           1.1000000000000003,
           1.1500000000000001,
           1.2,
           1.2500000000000002,
           1.3,
           1.3500000000000003,
           1.4000000000000001,
           1.45
          ],
          "sizemode": "area",
          "sizeref": 0.0036249999999999998,
          "symbol": "circle"
         },
         "mode": "markers",
         "name": "TRIANGLE False more pos",
         "scene": "scene",
         "showlegend": true,
         "type": "scatter3d",
         "x": [
          -1.0505145271674179,
          -4.02225985909954,
          -3.9940513553856922,
          -2.814915042898804,
          -2.3575172777620637,
          -2.0913874838906077,
          0.1561932700605898,
          2.0836408122631185,
          2.433645653898996,
          0.6092648370938919,
          -0.03356814599250564,
          3.0623704129412452,
          8.404241965809083,
          8.723546738784357,
          3.7316348495137857,
          -2.049100572852285,
          -2.6395812661426676,
          -2.0212388207770156,
          -1.7139834104810467,
          -0.49220111877716155,
          2.3414741385566797,
          4.219521005474768,
          7.714922950931956,
          11.062096368431757,
          11.15958832302869,
          11.721756540732502,
          10.733205837549761,
          8.83909498165257,
          8.448127056743104
         ],
         "y": [
          -5.243065788546605,
          -6.969812127252592,
          -6.45950395803848,
          -4.202428675147279,
          -1.4806344227567838,
          -0.7869720064770417,
          -2.794311404025972,
          -5.712267198792066,
          -6.899318381409942,
          -6.123270777432107,
          -6.02046393369052,
          -5.275902870117025,
          -4.268496055244537,
          -6.758433904550151,
          -8.816671419475655,
          -12.351534253218931,
          -11.494977123125121,
          -8.00865704858527,
          -4.634617475237114,
          -4.763494006871089,
          -6.161922182929964,
          -7.106542903545003,
          -6.818715975988788,
          -6.759503355944956,
          -7.176800213250923,
          -8.69571020404197,
          -9.051706409718124,
          -9.057196055174156,
          -6.390209448724815
         ],
         "z": [
          -1.7452679358150114,
          -2.098235680083461,
          -2.6391933652288584,
          -4.2610743803145175,
          -6.019305871672411,
          -6.592670928419825,
          -6.156297609001568,
          -3.5181996325937646,
          -0.44928590818586167,
          0.5754304076299628,
          0.12800787444768214,
          -0.5839575640642567,
          -0.024677373408924924,
          0.7698363681915965,
          -0.27925730805655796,
          -3.3858748968042294,
          -5.886482888497215,
          -9.938101790075867,
          -11.557605428467637,
          -7.395785862149765,
          -2.0944737025922677,
          0.1758614664195818,
          0.23154196392345916,
          1.5334771832645742,
          3.6401132082468157,
          4.531880772473527,
          3.3495400682852208,
          -0.17619297894827007,
          -3.708745510106544
         ]
        }
       ],
       "layout": {
        "legend": {
         "itemsizing": "constant",
         "title": {
          "text": "Condition"
         },
         "tracegroupgap": 0
        },
        "margin": {
         "t": 60
        },
        "scene": {
         "domain": {
          "x": [
           0,
           1
          ],
          "y": [
           0,
           1
          ]
         },
         "xaxis": {
          "title": {
           "text": "PC1"
          }
         },
         "yaxis": {
          "title": {
           "text": "PC2"
          }
         },
         "zaxis": {
          "title": {
           "text": "PC3"
          }
         }
        },
        "template": {
         "data": {
          "bar": [
           {
            "error_x": {
             "color": "#2a3f5f"
            },
            "error_y": {
             "color": "#2a3f5f"
            },
            "marker": {
             "line": {
              "color": "#E5ECF6",
              "width": 0.5
             },
             "pattern": {
              "fillmode": "overlay",
              "size": 10,
              "solidity": 0.2
             }
            },
            "type": "bar"
           }
          ],
          "barpolar": [
           {
            "marker": {
             "line": {
              "color": "#E5ECF6",
              "width": 0.5
             },
             "pattern": {
              "fillmode": "overlay",
              "size": 10,
              "solidity": 0.2
             }
            },
            "type": "barpolar"
           }
          ],
          "carpet": [
           {
            "aaxis": {
             "endlinecolor": "#2a3f5f",
             "gridcolor": "white",
             "linecolor": "white",
             "minorgridcolor": "white",
             "startlinecolor": "#2a3f5f"
            },
            "baxis": {
             "endlinecolor": "#2a3f5f",
             "gridcolor": "white",
             "linecolor": "white",
             "minorgridcolor": "white",
             "startlinecolor": "#2a3f5f"
            },
            "type": "carpet"
           }
          ],
          "choropleth": [
           {
            "colorbar": {
             "outlinewidth": 0,
             "ticks": ""
            },
            "type": "choropleth"
           }
          ],
          "contour": [
           {
            "colorbar": {
             "outlinewidth": 0,
             "ticks": ""
            },
            "colorscale": [
             [
              0,
              "#0d0887"
             ],
             [
              0.1111111111111111,
              "#46039f"
             ],
             [
              0.2222222222222222,
              "#7201a8"
             ],
             [
              0.3333333333333333,
              "#9c179e"
             ],
             [
              0.4444444444444444,
              "#bd3786"
             ],
             [
              0.5555555555555556,
              "#d8576b"
             ],
             [
              0.6666666666666666,
              "#ed7953"
             ],
             [
              0.7777777777777778,
              "#fb9f3a"
             ],
             [
              0.8888888888888888,
              "#fdca26"
             ],
             [
              1,
              "#f0f921"
             ]
            ],
            "type": "contour"
           }
          ],
          "contourcarpet": [
           {
            "colorbar": {
             "outlinewidth": 0,
             "ticks": ""
            },
            "type": "contourcarpet"
           }
          ],
          "heatmap": [
           {
            "colorbar": {
             "outlinewidth": 0,
             "ticks": ""
            },
            "colorscale": [
             [
              0,
              "#0d0887"
             ],
             [
              0.1111111111111111,
              "#46039f"
             ],
             [
              0.2222222222222222,
              "#7201a8"
             ],
             [
              0.3333333333333333,
              "#9c179e"
             ],
             [
              0.4444444444444444,
              "#bd3786"
             ],
             [
              0.5555555555555556,
              "#d8576b"
             ],
             [
              0.6666666666666666,
              "#ed7953"
             ],
             [
              0.7777777777777778,
              "#fb9f3a"
             ],
             [
              0.8888888888888888,
              "#fdca26"
             ],
             [
              1,
              "#f0f921"
             ]
            ],
            "type": "heatmap"
           }
          ],
          "heatmapgl": [
           {
            "colorbar": {
             "outlinewidth": 0,
             "ticks": ""
            },
            "colorscale": [
             [
              0,
              "#0d0887"
             ],
             [
              0.1111111111111111,
              "#46039f"
             ],
             [
              0.2222222222222222,
              "#7201a8"
             ],
             [
              0.3333333333333333,
              "#9c179e"
             ],
             [
              0.4444444444444444,
              "#bd3786"
             ],
             [
              0.5555555555555556,
              "#d8576b"
             ],
             [
              0.6666666666666666,
              "#ed7953"
             ],
             [
              0.7777777777777778,
              "#fb9f3a"
             ],
             [
              0.8888888888888888,
              "#fdca26"
             ],
             [
              1,
              "#f0f921"
             ]
            ],
            "type": "heatmapgl"
           }
          ],
          "histogram": [
           {
            "marker": {
             "pattern": {
              "fillmode": "overlay",
              "size": 10,
              "solidity": 0.2
             }
            },
            "type": "histogram"
           }
          ],
          "histogram2d": [
           {
            "colorbar": {
             "outlinewidth": 0,
             "ticks": ""
            },
            "colorscale": [
             [
              0,
              "#0d0887"
             ],
             [
              0.1111111111111111,
              "#46039f"
             ],
             [
              0.2222222222222222,
              "#7201a8"
             ],
             [
              0.3333333333333333,
              "#9c179e"
             ],
             [
              0.4444444444444444,
              "#bd3786"
             ],
             [
              0.5555555555555556,
              "#d8576b"
             ],
             [
              0.6666666666666666,
              "#ed7953"
             ],
             [
              0.7777777777777778,
              "#fb9f3a"
             ],
             [
              0.8888888888888888,
              "#fdca26"
             ],
             [
              1,
              "#f0f921"
             ]
            ],
            "type": "histogram2d"
           }
          ],
          "histogram2dcontour": [
           {
            "colorbar": {
             "outlinewidth": 0,
             "ticks": ""
            },
            "colorscale": [
             [
              0,
              "#0d0887"
             ],
             [
              0.1111111111111111,
              "#46039f"
             ],
             [
              0.2222222222222222,
              "#7201a8"
             ],
             [
              0.3333333333333333,
              "#9c179e"
             ],
             [
              0.4444444444444444,
              "#bd3786"
             ],
             [
              0.5555555555555556,
              "#d8576b"
             ],
             [
              0.6666666666666666,
              "#ed7953"
             ],
             [
              0.7777777777777778,
              "#fb9f3a"
             ],
             [
              0.8888888888888888,
              "#fdca26"
             ],
             [
              1,
              "#f0f921"
             ]
            ],
            "type": "histogram2dcontour"
           }
          ],
          "mesh3d": [
           {
            "colorbar": {
             "outlinewidth": 0,
             "ticks": ""
            },
            "type": "mesh3d"
           }
          ],
          "parcoords": [
           {
            "line": {
             "colorbar": {
              "outlinewidth": 0,
              "ticks": ""
             }
            },
            "type": "parcoords"
           }
          ],
          "pie": [
           {
            "automargin": true,
            "type": "pie"
           }
          ],
          "scatter": [
           {
            "fillpattern": {
             "fillmode": "overlay",
             "size": 10,
             "solidity": 0.2
            },
            "type": "scatter"
           }
          ],
          "scatter3d": [
           {
            "line": {
             "colorbar": {
              "outlinewidth": 0,
              "ticks": ""
             }
            },
            "marker": {
             "colorbar": {
              "outlinewidth": 0,
              "ticks": ""
             }
            },
            "type": "scatter3d"
           }
          ],
          "scattercarpet": [
           {
            "marker": {
             "colorbar": {
              "outlinewidth": 0,
              "ticks": ""
             }
            },
            "type": "scattercarpet"
           }
          ],
          "scattergeo": [
           {
            "marker": {
             "colorbar": {
              "outlinewidth": 0,
              "ticks": ""
             }
            },
            "type": "scattergeo"
           }
          ],
          "scattergl": [
           {
            "marker": {
             "colorbar": {
              "outlinewidth": 0,
              "ticks": ""
             }
            },
            "type": "scattergl"
           }
          ],
          "scattermapbox": [
           {
            "marker": {
             "colorbar": {
              "outlinewidth": 0,
              "ticks": ""
             }
            },
            "type": "scattermapbox"
           }
          ],
          "scatterpolar": [
           {
            "marker": {
             "colorbar": {
              "outlinewidth": 0,
              "ticks": ""
             }
            },
            "type": "scatterpolar"
           }
          ],
          "scatterpolargl": [
           {
            "marker": {
             "colorbar": {
              "outlinewidth": 0,
              "ticks": ""
             }
            },
            "type": "scatterpolargl"
           }
          ],
          "scatterternary": [
           {
            "marker": {
             "colorbar": {
              "outlinewidth": 0,
              "ticks": ""
             }
            },
            "type": "scatterternary"
           }
          ],
          "surface": [
           {
            "colorbar": {
             "outlinewidth": 0,
             "ticks": ""
            },
            "colorscale": [
             [
              0,
              "#0d0887"
             ],
             [
              0.1111111111111111,
              "#46039f"
             ],
             [
              0.2222222222222222,
              "#7201a8"
             ],
             [
              0.3333333333333333,
              "#9c179e"
             ],
             [
              0.4444444444444444,
              "#bd3786"
             ],
             [
              0.5555555555555556,
              "#d8576b"
             ],
             [
              0.6666666666666666,
              "#ed7953"
             ],
             [
              0.7777777777777778,
              "#fb9f3a"
             ],
             [
              0.8888888888888888,
              "#fdca26"
             ],
             [
              1,
              "#f0f921"
             ]
            ],
            "type": "surface"
           }
          ],
          "table": [
           {
            "cells": {
             "fill": {
              "color": "#EBF0F8"
             },
             "line": {
              "color": "white"
             }
            },
            "header": {
             "fill": {
              "color": "#C8D4E3"
             },
             "line": {
              "color": "white"
             }
            },
            "type": "table"
           }
          ]
         },
         "layout": {
          "annotationdefaults": {
           "arrowcolor": "#2a3f5f",
           "arrowhead": 0,
           "arrowwidth": 1
          },
          "autotypenumbers": "strict",
          "coloraxis": {
           "colorbar": {
            "outlinewidth": 0,
            "ticks": ""
           }
          },
          "colorscale": {
           "diverging": [
            [
             0,
             "#8e0152"
            ],
            [
             0.1,
             "#c51b7d"
            ],
            [
             0.2,
             "#de77ae"
            ],
            [
             0.3,
             "#f1b6da"
            ],
            [
             0.4,
             "#fde0ef"
            ],
            [
             0.5,
             "#f7f7f7"
            ],
            [
             0.6,
             "#e6f5d0"
            ],
            [
             0.7,
             "#b8e186"
            ],
            [
             0.8,
             "#7fbc41"
            ],
            [
             0.9,
             "#4d9221"
            ],
            [
             1,
             "#276419"
            ]
           ],
           "sequential": [
            [
             0,
             "#0d0887"
            ],
            [
             0.1111111111111111,
             "#46039f"
            ],
            [
             0.2222222222222222,
             "#7201a8"
            ],
            [
             0.3333333333333333,
             "#9c179e"
            ],
            [
             0.4444444444444444,
             "#bd3786"
            ],
            [
             0.5555555555555556,
             "#d8576b"
            ],
            [
             0.6666666666666666,
             "#ed7953"
            ],
            [
             0.7777777777777778,
             "#fb9f3a"
            ],
            [
             0.8888888888888888,
             "#fdca26"
            ],
            [
             1,
             "#f0f921"
            ]
           ],
           "sequentialminus": [
            [
             0,
             "#0d0887"
            ],
            [
             0.1111111111111111,
             "#46039f"
            ],
            [
             0.2222222222222222,
             "#7201a8"
            ],
            [
             0.3333333333333333,
             "#9c179e"
            ],
            [
             0.4444444444444444,
             "#bd3786"
            ],
            [
             0.5555555555555556,
             "#d8576b"
            ],
            [
             0.6666666666666666,
             "#ed7953"
            ],
            [
             0.7777777777777778,
             "#fb9f3a"
            ],
            [
             0.8888888888888888,
             "#fdca26"
            ],
            [
             1,
             "#f0f921"
            ]
           ]
          },
          "colorway": [
           "#636efa",
           "#EF553B",
           "#00cc96",
           "#ab63fa",
           "#FFA15A",
           "#19d3f3",
           "#FF6692",
           "#B6E880",
           "#FF97FF",
           "#FECB52"
          ],
          "font": {
           "color": "#2a3f5f"
          },
          "geo": {
           "bgcolor": "white",
           "lakecolor": "white",
           "landcolor": "#E5ECF6",
           "showlakes": true,
           "showland": true,
           "subunitcolor": "white"
          },
          "hoverlabel": {
           "align": "left"
          },
          "hovermode": "closest",
          "mapbox": {
           "style": "light"
          },
          "paper_bgcolor": "white",
          "plot_bgcolor": "#E5ECF6",
          "polar": {
           "angularaxis": {
            "gridcolor": "white",
            "linecolor": "white",
            "ticks": ""
           },
           "bgcolor": "#E5ECF6",
           "radialaxis": {
            "gridcolor": "white",
            "linecolor": "white",
            "ticks": ""
           }
          },
          "scene": {
           "xaxis": {
            "backgroundcolor": "#E5ECF6",
            "gridcolor": "white",
            "gridwidth": 2,
            "linecolor": "white",
            "showbackground": true,
            "ticks": "",
            "zerolinecolor": "white"
           },
           "yaxis": {
            "backgroundcolor": "#E5ECF6",
            "gridcolor": "white",
            "gridwidth": 2,
            "linecolor": "white",
            "showbackground": true,
            "ticks": "",
            "zerolinecolor": "white"
           },
           "zaxis": {
            "backgroundcolor": "#E5ECF6",
            "gridcolor": "white",
            "gridwidth": 2,
            "linecolor": "white",
            "showbackground": true,
            "ticks": "",
            "zerolinecolor": "white"
           }
          },
          "shapedefaults": {
           "line": {
            "color": "#2a3f5f"
           }
          },
          "ternary": {
           "aaxis": {
            "gridcolor": "white",
            "linecolor": "white",
            "ticks": ""
           },
           "baxis": {
            "gridcolor": "white",
            "linecolor": "white",
            "ticks": ""
           },
           "bgcolor": "#E5ECF6",
           "caxis": {
            "gridcolor": "white",
            "linecolor": "white",
            "ticks": ""
           }
          },
          "title": {
           "x": 0.05
          },
          "xaxis": {
           "automargin": true,
           "gridcolor": "white",
           "linecolor": "white",
           "ticks": "",
           "title": {
            "standoff": 15
           },
           "zerolinecolor": "white",
           "zerolinewidth": 2
          },
          "yaxis": {
           "automargin": true,
           "gridcolor": "white",
           "linecolor": "white",
           "ticks": "",
           "title": {
            "standoff": 15
           },
           "zerolinecolor": "white",
           "zerolinewidth": 2
          }
         }
        }
       }
      },
      "text/html": [
       "<div>                            <div id=\"4ba154fc-7534-44a9-acc6-669983f5d9fe\" class=\"plotly-graph-div\" style=\"height:525px; width:100%;\"></div>            <script type=\"text/javascript\">                require([\"plotly\"], function(Plotly) {                    window.PLOTLYENV=window.PLOTLYENV || {};                                    if (document.getElementById(\"4ba154fc-7534-44a9-acc6-669983f5d9fe\")) {                    Plotly.newPlot(                        \"4ba154fc-7534-44a9-acc6-669983f5d9fe\",                        [{\"hovertemplate\":\"Condition=SQUARE False less pos<br>PC1=%{x}<br>PC2=%{y}<br>PC3=%{z}<br>ZeroedTimeBins=%{marker.size}<extra></extra>\",\"legendgroup\":\"SQUARE False less pos\",\"marker\":{\"color\":\"#636efa\",\"opacity\":1,\"size\":[0.050000000000000044,0.10000000000000009,0.15000000000000013,0.19999999999999996,0.25,0.30000000000000004,0.3500000000000001,0.40000000000000013,0.44999999999999996,0.5,0.55,0.6000000000000001,0.6500000000000001,0.7,0.7500000000000002,0.8,0.8499999999999999,0.9000000000000001,0.95,1.0000000000000002,1.05,1.1000000000000003,1.1500000000000001,1.2,1.2500000000000002,1.3,1.3500000000000003,1.4000000000000001,1.45],\"sizemode\":\"area\",\"sizeref\":0.0036249999999999998,\"symbol\":\"circle\"},\"mode\":\"markers\",\"name\":\"SQUARE False less pos\",\"scene\":\"scene\",\"showlegend\":true,\"x\":[-2.433153343694641,-3.5892701620908607,-5.212989926571618,-7.870736763265123,-10.595624221356179,-10.298702067784705,-8.920117462381368,-7.977606491354073,-5.784807556149656,-3.4412644808108364,-2.8490368343653656,-0.3111976471032031,1.5515546912594662,0.9420175273968411,1.3274303699820191,3.5626888495629667,1.5207019140046254,-3.1293743987709717,-7.034952640177357,-5.13598087156467,-4.95008925509745,-2.539024516450065,-0.28321617836276886,-0.4178194364154562,-2.846929155664796,-5.409867128757528,-8.260782724908468,-9.340026548004296,-8.634217500653044],\"y\":[1.9677178894347664,3.10365182883297,2.6314970730999976,4.20036414823572,5.038698087568233,4.590091386337702,2.5183890121685675,0.8639350444877808,2.6644756158046152,4.98969259096221,6.092069152158685,6.828534810711285,4.757538845949359,0.023919306590563762,-4.070084396386936,-7.737878023988713,-9.802379327916576,-9.547749411034282,-6.24771275806786,-3.440488606595981,-3.20147048712631,-4.560386617155321,-4.537588749224568,-4.941581715241383,-5.053847182236453,-4.336069747314421,-1.95046556791237,-2.3023834964888596,-4.089325162079068],\"z\":[-1.5673098341414224,-3.238889718585621,-3.395922471054229,-4.083623533721543,-4.767709752216439,-4.944245119182852,-3.666660494076139,-3.689690176657479,-4.223728500213526,-4.32908420524129,-2.439230686576068,1.0273123692914659,5.114987939455566,8.974833657249503,11.95910974005554,15.6057564593224,13.504955293687276,9.956331194531156,3.9598618169401023,4.033489785808283,3.7552192004421827,6.202812564673562,7.224822496666979,4.7232731791495155,2.6612905139752976,-0.002821694210533708,-2.4532110224463493,-3.2161863449285857,-0.3691763140768538],\"type\":\"scatter3d\"},{\"hovertemplate\":\"Condition=SQUARE False more pos<br>PC1=%{x}<br>PC2=%{y}<br>PC3=%{z}<br>ZeroedTimeBins=%{marker.size}<extra></extra>\",\"legendgroup\":\"SQUARE False more pos\",\"marker\":{\"color\":\"#EF553B\",\"opacity\":1,\"size\":[0.050000000000000044,0.10000000000000009,0.15000000000000013,0.19999999999999996,0.25,0.30000000000000004,0.3500000000000001,0.40000000000000013,0.44999999999999996,0.5,0.55,0.6000000000000001,0.6500000000000001,0.7,0.7500000000000002,0.8,0.8499999999999999,0.9000000000000001,0.95,1.0000000000000002,1.05,1.1000000000000003,1.1500000000000001,1.2,1.2500000000000002,1.3,1.3500000000000003,1.4000000000000001,1.45],\"sizemode\":\"area\",\"sizeref\":0.0036249999999999998,\"symbol\":\"circle\"},\"mode\":\"markers\",\"name\":\"SQUARE False more pos\",\"scene\":\"scene\",\"showlegend\":true,\"x\":[2.546903985393903,2.42351904754046,3.8392334689517265,6.116936016115078,7.954070409196147,7.8885765462294675,4.8708537216904535,2.0258877551242773,1.0147972542579156,-0.3715673474135813,-2.34410860119219,-2.8007190185330773,-2.7587828883528647,0.06279955200370971,2.398915303447677,1.5506406411026947,-2.476038550589779,-1.3433046209568347,3.726455177913344,7.071676748564427,6.363292937855114,6.745371102990228,5.1153898606669586,0.6942114861578728,-3.649942867489248,-4.362435734203656,-4.463140034941961,-5.996376045564797,-8.668709039432215],\"y\":[1.8572667563974432,3.678333120728087,3.0179190707389143,2.490272590393336,2.3495405473570186,1.5739281630896946,1.6607238971348024,3.2706560885370863,4.502244623986788,3.997063493716323,4.219112485880483,6.898734676357599,9.142686657047863,11.775997146898362,15.42035816019437,15.271559031821733,14.25947846014415,11.172674016149971,9.112245465626168,7.653352094197591,6.169443006303515,5.500440111853045,4.984376711460647,5.53104221551826,5.461860844124127,3.7550798968429246,2.9586686299632774,1.8358025143940653,-0.1669902185275337],\"z\":[1.3787910092761437,0.23818528560531177,-0.6806600121084105,0.3606562056131726,4.580713031892286,7.387073715862857,5.529171901313067,1.6878887585643991,0.5604953648010615,1.8967261511319184,2.768599641343864,1.1718141868162724,0.496460279343341,3.4928645424371814,6.965054017126022,6.871336786577752,2.726920450641771,2.9370041072395145,7.120034754937084,11.176513923004459,9.842109094638374,8.433443455053906,6.585890105820656,3.860139896012302,3.7499187311867215,3.3627980259720713,1.1495896213686374,-2.5862014683797945,-4.32471015346215],\"type\":\"scatter3d\"},{\"hovertemplate\":\"Condition=TRIANGLE False less pos<br>PC1=%{x}<br>PC2=%{y}<br>PC3=%{z}<br>ZeroedTimeBins=%{marker.size}<extra></extra>\",\"legendgroup\":\"TRIANGLE False less pos\",\"marker\":{\"color\":\"#00cc96\",\"opacity\":1,\"size\":[0.050000000000000044,0.10000000000000009,0.15000000000000013,0.19999999999999996,0.25,0.30000000000000004,0.3500000000000001,0.40000000000000013,0.44999999999999996,0.5,0.55,0.6000000000000001,0.6500000000000001,0.7,0.7500000000000002,0.8,0.8499999999999999,0.9000000000000001,0.95,1.0000000000000002,1.05,1.1000000000000003,1.1500000000000001,1.2,1.2500000000000002,1.3,1.3500000000000003,1.4000000000000001,1.45],\"sizemode\":\"area\",\"sizeref\":0.0036249999999999998,\"symbol\":\"circle\"},\"mode\":\"markers\",\"name\":\"TRIANGLE False less pos\",\"scene\":\"scene\",\"showlegend\":true,\"x\":[1.0870082429199763,0.8656711944432902,-0.08903825679491996,-2.5407807436560694,-4.206971698807587,-1.7289859522881412,2.56748853008746,2.6798417860524872,2.450599858118275,3.324559405954838,4.914087301182656,5.646524390350492,4.657394590968229,3.351822441509204,5.354022938377841,7.160027967821978,10.168820458635304,10.123506996726537,9.870992100852853,11.821539925688045,14.61958827745316,15.067744746375462,12.429813110147592,10.125752585655317,9.497986800841266,10.538975786536358,9.58300975393529,8.034403848491486,7.4118304893222176],\"y\":[0.8453011108283457,2.799825441730164,3.8980382909657143,3.5212369609546696,2.022103601680233,3.290743142856839,4.562533917491056,4.449031041306099,3.5111570225194395,2.2037890657985617,2.55188490452846,2.026200221465428,0.7904617549481969,0.43030037950213956,3.4104992354224124,5.441189436025501,7.0421801524823495,7.942959566756445,7.126428100603209,4.73259579911398,2.895291887900333,1.6084285941208283,2.467421983204112,0.923741634814479,0.13229036402706074,-0.32457989873095433,1.152413761142221,2.256537759777078,2.908338982498522],\"z\":[-6.236848114515974,-6.233534031922012,-5.175517988862395,-3.255810037459892,-1.785157427064175,-0.531273952866826,0.7097432727644613,0.16025174675477633,-0.36131118803978407,0.08319362089994811,1.0155698418320311,-0.20326628222153048,-4.179618045208815,-7.862854096819785,-9.912807037376771,-10.895905021204367,-9.988767110796058,-7.532738303714873,-6.480775335341981,-5.557151223618808,-5.521074421241738,-4.358818948912488,-5.350544852720787,-7.018371621587584,-7.349580343635707,-6.606971074038681,-5.502719175870109,-5.195849468510575,-5.257428160453995],\"type\":\"scatter3d\"},{\"hovertemplate\":\"Condition=TRIANGLE False more pos<br>PC1=%{x}<br>PC2=%{y}<br>PC3=%{z}<br>ZeroedTimeBins=%{marker.size}<extra></extra>\",\"legendgroup\":\"TRIANGLE False more pos\",\"marker\":{\"color\":\"#ab63fa\",\"opacity\":1,\"size\":[0.050000000000000044,0.10000000000000009,0.15000000000000013,0.19999999999999996,0.25,0.30000000000000004,0.3500000000000001,0.40000000000000013,0.44999999999999996,0.5,0.55,0.6000000000000001,0.6500000000000001,0.7,0.7500000000000002,0.8,0.8499999999999999,0.9000000000000001,0.95,1.0000000000000002,1.05,1.1000000000000003,1.1500000000000001,1.2,1.2500000000000002,1.3,1.3500000000000003,1.4000000000000001,1.45],\"sizemode\":\"area\",\"sizeref\":0.0036249999999999998,\"symbol\":\"circle\"},\"mode\":\"markers\",\"name\":\"TRIANGLE False more pos\",\"scene\":\"scene\",\"showlegend\":true,\"x\":[-1.0505145271674179,-4.02225985909954,-3.9940513553856922,-2.814915042898804,-2.3575172777620637,-2.0913874838906077,0.1561932700605898,2.0836408122631185,2.433645653898996,0.6092648370938919,-0.03356814599250564,3.0623704129412452,8.404241965809083,8.723546738784357,3.7316348495137857,-2.049100572852285,-2.6395812661426676,-2.0212388207770156,-1.7139834104810467,-0.49220111877716155,2.3414741385566797,4.219521005474768,7.714922950931956,11.062096368431757,11.15958832302869,11.721756540732502,10.733205837549761,8.83909498165257,8.448127056743104],\"y\":[-5.243065788546605,-6.969812127252592,-6.45950395803848,-4.202428675147279,-1.4806344227567838,-0.7869720064770417,-2.794311404025972,-5.712267198792066,-6.899318381409942,-6.123270777432107,-6.02046393369052,-5.275902870117025,-4.268496055244537,-6.758433904550151,-8.816671419475655,-12.351534253218931,-11.494977123125121,-8.00865704858527,-4.634617475237114,-4.763494006871089,-6.161922182929964,-7.106542903545003,-6.818715975988788,-6.759503355944956,-7.176800213250923,-8.69571020404197,-9.051706409718124,-9.057196055174156,-6.390209448724815],\"z\":[-1.7452679358150114,-2.098235680083461,-2.6391933652288584,-4.2610743803145175,-6.019305871672411,-6.592670928419825,-6.156297609001568,-3.5181996325937646,-0.44928590818586167,0.5754304076299628,0.12800787444768214,-0.5839575640642567,-0.024677373408924924,0.7698363681915965,-0.27925730805655796,-3.3858748968042294,-5.886482888497215,-9.938101790075867,-11.557605428467637,-7.395785862149765,-2.0944737025922677,0.1758614664195818,0.23154196392345916,1.5334771832645742,3.6401132082468157,4.531880772473527,3.3495400682852208,-0.17619297894827007,-3.708745510106544],\"type\":\"scatter3d\"}],                        {\"template\":{\"data\":{\"histogram2dcontour\":[{\"type\":\"histogram2dcontour\",\"colorbar\":{\"outlinewidth\":0,\"ticks\":\"\"},\"colorscale\":[[0.0,\"#0d0887\"],[0.1111111111111111,\"#46039f\"],[0.2222222222222222,\"#7201a8\"],[0.3333333333333333,\"#9c179e\"],[0.4444444444444444,\"#bd3786\"],[0.5555555555555556,\"#d8576b\"],[0.6666666666666666,\"#ed7953\"],[0.7777777777777778,\"#fb9f3a\"],[0.8888888888888888,\"#fdca26\"],[1.0,\"#f0f921\"]]}],\"choropleth\":[{\"type\":\"choropleth\",\"colorbar\":{\"outlinewidth\":0,\"ticks\":\"\"}}],\"histogram2d\":[{\"type\":\"histogram2d\",\"colorbar\":{\"outlinewidth\":0,\"ticks\":\"\"},\"colorscale\":[[0.0,\"#0d0887\"],[0.1111111111111111,\"#46039f\"],[0.2222222222222222,\"#7201a8\"],[0.3333333333333333,\"#9c179e\"],[0.4444444444444444,\"#bd3786\"],[0.5555555555555556,\"#d8576b\"],[0.6666666666666666,\"#ed7953\"],[0.7777777777777778,\"#fb9f3a\"],[0.8888888888888888,\"#fdca26\"],[1.0,\"#f0f921\"]]}],\"heatmap\":[{\"type\":\"heatmap\",\"colorbar\":{\"outlinewidth\":0,\"ticks\":\"\"},\"colorscale\":[[0.0,\"#0d0887\"],[0.1111111111111111,\"#46039f\"],[0.2222222222222222,\"#7201a8\"],[0.3333333333333333,\"#9c179e\"],[0.4444444444444444,\"#bd3786\"],[0.5555555555555556,\"#d8576b\"],[0.6666666666666666,\"#ed7953\"],[0.7777777777777778,\"#fb9f3a\"],[0.8888888888888888,\"#fdca26\"],[1.0,\"#f0f921\"]]}],\"heatmapgl\":[{\"type\":\"heatmapgl\",\"colorbar\":{\"outlinewidth\":0,\"ticks\":\"\"},\"colorscale\":[[0.0,\"#0d0887\"],[0.1111111111111111,\"#46039f\"],[0.2222222222222222,\"#7201a8\"],[0.3333333333333333,\"#9c179e\"],[0.4444444444444444,\"#bd3786\"],[0.5555555555555556,\"#d8576b\"],[0.6666666666666666,\"#ed7953\"],[0.7777777777777778,\"#fb9f3a\"],[0.8888888888888888,\"#fdca26\"],[1.0,\"#f0f921\"]]}],\"contourcarpet\":[{\"type\":\"contourcarpet\",\"colorbar\":{\"outlinewidth\":0,\"ticks\":\"\"}}],\"contour\":[{\"type\":\"contour\",\"colorbar\":{\"outlinewidth\":0,\"ticks\":\"\"},\"colorscale\":[[0.0,\"#0d0887\"],[0.1111111111111111,\"#46039f\"],[0.2222222222222222,\"#7201a8\"],[0.3333333333333333,\"#9c179e\"],[0.4444444444444444,\"#bd3786\"],[0.5555555555555556,\"#d8576b\"],[0.6666666666666666,\"#ed7953\"],[0.7777777777777778,\"#fb9f3a\"],[0.8888888888888888,\"#fdca26\"],[1.0,\"#f0f921\"]]}],\"surface\":[{\"type\":\"surface\",\"colorbar\":{\"outlinewidth\":0,\"ticks\":\"\"},\"colorscale\":[[0.0,\"#0d0887\"],[0.1111111111111111,\"#46039f\"],[0.2222222222222222,\"#7201a8\"],[0.3333333333333333,\"#9c179e\"],[0.4444444444444444,\"#bd3786\"],[0.5555555555555556,\"#d8576b\"],[0.6666666666666666,\"#ed7953\"],[0.7777777777777778,\"#fb9f3a\"],[0.8888888888888888,\"#fdca26\"],[1.0,\"#f0f921\"]]}],\"mesh3d\":[{\"type\":\"mesh3d\",\"colorbar\":{\"outlinewidth\":0,\"ticks\":\"\"}}],\"scatter\":[{\"fillpattern\":{\"fillmode\":\"overlay\",\"size\":10,\"solidity\":0.2},\"type\":\"scatter\"}],\"parcoords\":[{\"type\":\"parcoords\",\"line\":{\"colorbar\":{\"outlinewidth\":0,\"ticks\":\"\"}}}],\"scatterpolargl\":[{\"type\":\"scatterpolargl\",\"marker\":{\"colorbar\":{\"outlinewidth\":0,\"ticks\":\"\"}}}],\"bar\":[{\"error_x\":{\"color\":\"#2a3f5f\"},\"error_y\":{\"color\":\"#2a3f5f\"},\"marker\":{\"line\":{\"color\":\"#E5ECF6\",\"width\":0.5},\"pattern\":{\"fillmode\":\"overlay\",\"size\":10,\"solidity\":0.2}},\"type\":\"bar\"}],\"scattergeo\":[{\"type\":\"scattergeo\",\"marker\":{\"colorbar\":{\"outlinewidth\":0,\"ticks\":\"\"}}}],\"scatterpolar\":[{\"type\":\"scatterpolar\",\"marker\":{\"colorbar\":{\"outlinewidth\":0,\"ticks\":\"\"}}}],\"histogram\":[{\"marker\":{\"pattern\":{\"fillmode\":\"overlay\",\"size\":10,\"solidity\":0.2}},\"type\":\"histogram\"}],\"scattergl\":[{\"type\":\"scattergl\",\"marker\":{\"colorbar\":{\"outlinewidth\":0,\"ticks\":\"\"}}}],\"scatter3d\":[{\"type\":\"scatter3d\",\"line\":{\"colorbar\":{\"outlinewidth\":0,\"ticks\":\"\"}},\"marker\":{\"colorbar\":{\"outlinewidth\":0,\"ticks\":\"\"}}}],\"scattermapbox\":[{\"type\":\"scattermapbox\",\"marker\":{\"colorbar\":{\"outlinewidth\":0,\"ticks\":\"\"}}}],\"scatterternary\":[{\"type\":\"scatterternary\",\"marker\":{\"colorbar\":{\"outlinewidth\":0,\"ticks\":\"\"}}}],\"scattercarpet\":[{\"type\":\"scattercarpet\",\"marker\":{\"colorbar\":{\"outlinewidth\":0,\"ticks\":\"\"}}}],\"carpet\":[{\"aaxis\":{\"endlinecolor\":\"#2a3f5f\",\"gridcolor\":\"white\",\"linecolor\":\"white\",\"minorgridcolor\":\"white\",\"startlinecolor\":\"#2a3f5f\"},\"baxis\":{\"endlinecolor\":\"#2a3f5f\",\"gridcolor\":\"white\",\"linecolor\":\"white\",\"minorgridcolor\":\"white\",\"startlinecolor\":\"#2a3f5f\"},\"type\":\"carpet\"}],\"table\":[{\"cells\":{\"fill\":{\"color\":\"#EBF0F8\"},\"line\":{\"color\":\"white\"}},\"header\":{\"fill\":{\"color\":\"#C8D4E3\"},\"line\":{\"color\":\"white\"}},\"type\":\"table\"}],\"barpolar\":[{\"marker\":{\"line\":{\"color\":\"#E5ECF6\",\"width\":0.5},\"pattern\":{\"fillmode\":\"overlay\",\"size\":10,\"solidity\":0.2}},\"type\":\"barpolar\"}],\"pie\":[{\"automargin\":true,\"type\":\"pie\"}]},\"layout\":{\"autotypenumbers\":\"strict\",\"colorway\":[\"#636efa\",\"#EF553B\",\"#00cc96\",\"#ab63fa\",\"#FFA15A\",\"#19d3f3\",\"#FF6692\",\"#B6E880\",\"#FF97FF\",\"#FECB52\"],\"font\":{\"color\":\"#2a3f5f\"},\"hovermode\":\"closest\",\"hoverlabel\":{\"align\":\"left\"},\"paper_bgcolor\":\"white\",\"plot_bgcolor\":\"#E5ECF6\",\"polar\":{\"bgcolor\":\"#E5ECF6\",\"angularaxis\":{\"gridcolor\":\"white\",\"linecolor\":\"white\",\"ticks\":\"\"},\"radialaxis\":{\"gridcolor\":\"white\",\"linecolor\":\"white\",\"ticks\":\"\"}},\"ternary\":{\"bgcolor\":\"#E5ECF6\",\"aaxis\":{\"gridcolor\":\"white\",\"linecolor\":\"white\",\"ticks\":\"\"},\"baxis\":{\"gridcolor\":\"white\",\"linecolor\":\"white\",\"ticks\":\"\"},\"caxis\":{\"gridcolor\":\"white\",\"linecolor\":\"white\",\"ticks\":\"\"}},\"coloraxis\":{\"colorbar\":{\"outlinewidth\":0,\"ticks\":\"\"}},\"colorscale\":{\"sequential\":[[0.0,\"#0d0887\"],[0.1111111111111111,\"#46039f\"],[0.2222222222222222,\"#7201a8\"],[0.3333333333333333,\"#9c179e\"],[0.4444444444444444,\"#bd3786\"],[0.5555555555555556,\"#d8576b\"],[0.6666666666666666,\"#ed7953\"],[0.7777777777777778,\"#fb9f3a\"],[0.8888888888888888,\"#fdca26\"],[1.0,\"#f0f921\"]],\"sequentialminus\":[[0.0,\"#0d0887\"],[0.1111111111111111,\"#46039f\"],[0.2222222222222222,\"#7201a8\"],[0.3333333333333333,\"#9c179e\"],[0.4444444444444444,\"#bd3786\"],[0.5555555555555556,\"#d8576b\"],[0.6666666666666666,\"#ed7953\"],[0.7777777777777778,\"#fb9f3a\"],[0.8888888888888888,\"#fdca26\"],[1.0,\"#f0f921\"]],\"diverging\":[[0,\"#8e0152\"],[0.1,\"#c51b7d\"],[0.2,\"#de77ae\"],[0.3,\"#f1b6da\"],[0.4,\"#fde0ef\"],[0.5,\"#f7f7f7\"],[0.6,\"#e6f5d0\"],[0.7,\"#b8e186\"],[0.8,\"#7fbc41\"],[0.9,\"#4d9221\"],[1,\"#276419\"]]},\"xaxis\":{\"gridcolor\":\"white\",\"linecolor\":\"white\",\"ticks\":\"\",\"title\":{\"standoff\":15},\"zerolinecolor\":\"white\",\"automargin\":true,\"zerolinewidth\":2},\"yaxis\":{\"gridcolor\":\"white\",\"linecolor\":\"white\",\"ticks\":\"\",\"title\":{\"standoff\":15},\"zerolinecolor\":\"white\",\"automargin\":true,\"zerolinewidth\":2},\"scene\":{\"xaxis\":{\"backgroundcolor\":\"#E5ECF6\",\"gridcolor\":\"white\",\"linecolor\":\"white\",\"showbackground\":true,\"ticks\":\"\",\"zerolinecolor\":\"white\",\"gridwidth\":2},\"yaxis\":{\"backgroundcolor\":\"#E5ECF6\",\"gridcolor\":\"white\",\"linecolor\":\"white\",\"showbackground\":true,\"ticks\":\"\",\"zerolinecolor\":\"white\",\"gridwidth\":2},\"zaxis\":{\"backgroundcolor\":\"#E5ECF6\",\"gridcolor\":\"white\",\"linecolor\":\"white\",\"showbackground\":true,\"ticks\":\"\",\"zerolinecolor\":\"white\",\"gridwidth\":2}},\"shapedefaults\":{\"line\":{\"color\":\"#2a3f5f\"}},\"annotationdefaults\":{\"arrowcolor\":\"#2a3f5f\",\"arrowhead\":0,\"arrowwidth\":1},\"geo\":{\"bgcolor\":\"white\",\"landcolor\":\"#E5ECF6\",\"subunitcolor\":\"white\",\"showland\":true,\"showlakes\":true,\"lakecolor\":\"white\"},\"title\":{\"x\":0.05},\"mapbox\":{\"style\":\"light\"}}},\"scene\":{\"domain\":{\"x\":[0.0,1.0],\"y\":[0.0,1.0]},\"xaxis\":{\"title\":{\"text\":\"PC1\"}},\"yaxis\":{\"title\":{\"text\":\"PC2\"}},\"zaxis\":{\"title\":{\"text\":\"PC3\"}}},\"legend\":{\"title\":{\"text\":\"Condition\"},\"tracegroupgap\":0,\"itemsizing\":\"constant\"},\"margin\":{\"t\":60}},                        {\"responsive\": true}                    ).then(function(){\n",
       "                            \n",
       "var gd = document.getElementById('4ba154fc-7534-44a9-acc6-669983f5d9fe');\n",
       "var x = new MutationObserver(function (mutations, observer) {{\n",
       "        var display = window.getComputedStyle(gd).display;\n",
       "        if (!display || display === 'none') {{\n",
       "            console.log([gd, 'removed!']);\n",
       "            Plotly.purge(gd);\n",
       "            observer.disconnect();\n",
       "        }}\n",
       "}});\n",
       "\n",
       "// Listen for the removal of the full notebook cells\n",
       "var notebookContainer = gd.closest('#notebook-container');\n",
       "if (notebookContainer) {{\n",
       "    x.observe(notebookContainer, {childList: true});\n",
       "}}\n",
       "\n",
       "// Listen for the clearing of the current output cell\n",
       "var outputEl = gd.closest('.output');\n",
       "if (outputEl) {{\n",
       "    x.observe(outputEl, {childList: true});\n",
       "}}\n",
       "\n",
       "                        })                };                });            </script>        </div>"
      ]
     },
     "metadata": {},
     "output_type": "display_data"
    }
   ],
   "source": [
    "transformed_df, pca = project_conditioned_firing_rates(false_trials)\n",
    "transformed_df[\"ZeroedTimeBins\"] = transformed_df.TimeBins - 1.3\n",
    "fig = px.scatter_3d(\n",
    "    transformed_df, \n",
    "    x='PC1', y='PC2', z='PC3',\n",
    "    color='Condition', \n",
    "    opacity=1,\n",
    "    size='ZeroedTimeBins',\n",
    "    # color_discrete_sequence=colors\n",
    ")\n",
    "fig.show()"
   ]
  },
  {
   "cell_type": "code",
   "execution_count": null,
   "metadata": {},
   "outputs": [],
   "source": []
  }
 ],
 "metadata": {
  "kernelspec": {
   "display_name": "Python 3",
   "language": "python",
   "name": "python3"
  },
  "language_info": {
   "codemirror_mode": {
    "name": "ipython",
    "version": 3
   },
   "file_extension": ".py",
   "mimetype": "text/x-python",
   "name": "python",
   "nbconvert_exporter": "python",
   "pygments_lexer": "ipython3",
   "version": "3.10.6"
  }
 },
 "nbformat": 4,
 "nbformat_minor": 2
}
