{
 "cells": [
  {
   "cell_type": "markdown",
   "metadata": {},
   "source": [
    "### PCA on feature-specific conditions"
   ]
  },
  {
   "cell_type": "code",
   "execution_count": 2,
   "metadata": {},
   "outputs": [],
   "source": [
    "%load_ext autoreload\n",
    "%autoreload 2\n",
    "\n",
    "import os\n",
    "import numpy as np\n",
    "import pandas as pd\n",
    "import utils.pseudo_utils as pseudo_utils\n",
    "import utils.pseudo_classifier_utils as pseudo_classifier_utils\n",
    "import utils.behavioral_utils as behavioral_utils\n",
    "import utils.spike_utils as spike_utils\n",
    "from utils.session_data import SessionData\n",
    "import utils.io_utils as io_utils\n",
    "from constants.behavioral_constants import *\n",
    "import json\n",
    "\n",
    "from spike_tools import (\n",
    "    general as spike_general,\n",
    "    analysis as spike_analysis,\n",
    ")\n",
    "\n",
    "import matplotlib.pyplot as plt\n",
    "import matplotlib\n",
    "\n",
    "from sklearn.linear_model import LinearRegression\n",
    "from sklearn.decomposition import PCA\n",
    "\n",
    "import plotly.express as px\n"
   ]
  },
  {
   "cell_type": "code",
   "execution_count": 3,
   "metadata": {},
   "outputs": [],
   "source": [
    "# the output directory to store the data\n",
    "OUTPUT_DIR = \"/data/patrick_res/pseudo\"\n",
    "# path to a dataframe of sessions to analyze\n",
    "# SESSIONS_PATH = \"/data/patrick_scratch/multi_sess/valid_sessions.pickle\"\n",
    "SESSIONS_PATH = \"/data/patrick_res/sessions/valid_sessions_rpe.pickle\"\n",
    "# path for each session, specifying behavior\n",
    "SESS_BEHAVIOR_PATH = \"/data/rawdata/sub-SA/sess-{sess_name}/behavior/sub-SA_sess-{sess_name}_object_features.csv\"\n",
    "# path for each session, for spikes that have been pre-aligned to event time and binned. \n",
    "# SESS_SPIKES_PATH = \"/data/patrick_res/firing_rates/{sess_name}_firing_rates_{pre_interval}_{event}_{post_interval}_{interval_size}_bins_1_smooth.pickle\"\n",
    "SESS_SPIKES_PATH = \"/data/patrick_res/firing_rates/{sess_name}_residual_firing_rates_{pre_interval}_{event}_{post_interval}_{interval_size}_bins_1_smooth.pickle\"\n",
    "\n",
    "EVENT = \"FeedbackOnset\"  # event in behavior to align on\n",
    "PRE_INTERVAL = 1300   # time in ms before event\n",
    "POST_INTERVAL = 1500  # time in ms after event\n",
    "INTERVAL_SIZE = 50  # size of interval in ms"
   ]
  },
  {
   "cell_type": "code",
   "execution_count": 4,
   "metadata": {},
   "outputs": [],
   "source": [
    "FEATURE = \"MAGENTA\"\n",
    "# FEATURE = \"STAR\"\n",
    "# FEATURE = \"CIRCLE\"\n",
    "# FEATURE = \"TRIANGLE\"\n",
    "MIN_NUM_TRIALS = 20\n",
    "CONDITIONS = [\"MaxFeatMatches\", \"RPEGroup\"]\n",
    "# REGION = \"hippocampal_formation (HF)\"\n",
    "# REGION = \"orbital_frontal_cortex (OFC)\"\n",
    "# REGION = \"all\""
   ]
  },
  {
   "cell_type": "code",
   "execution_count": 5,
   "metadata": {},
   "outputs": [],
   "source": [
    "valid_sess = pd.read_pickle(SESSIONS_PATH)\n",
    "units = spike_utils.get_unit_positions(valid_sess)\n",
    "# region_units = units[units.manual_structure == \"Prefrontal Cortex\"]\n",
    "# region_units = units[units.manual_structure == \"Anterior Cingulate Gyrus\"]\n",
    "# region_units = units[units.manual_structure == \"Hippocampus/MTL\"]\n",
    "\n",
    "# region_units = units[units.structure_level2 == REGION]\n",
    "# region_units = units[units.structure_level3 == REGION]\n",
    "\n",
    "region_units = units"
   ]
  },
  {
   "cell_type": "code",
   "execution_count": 6,
   "metadata": {},
   "outputs": [
    {
     "data": {
      "text/plain": [
       "array(['Claustrum', 'Prefrontal Cortex', 'Visual Cortex',\n",
       "       'Anterior Cingulate Gyrus', 'Parietal Cortex', 'unknown',\n",
       "       'Basal Ganglia', 'Hippocampus/MTL', 'Premotor Cortex', 'Amygdala'],\n",
       "      dtype=object)"
      ]
     },
     "execution_count": 6,
     "metadata": {},
     "output_type": "execute_result"
    }
   ],
   "source": [
    "units.manual_structure.unique()"
   ]
  },
  {
   "cell_type": "code",
   "execution_count": 7,
   "metadata": {},
   "outputs": [],
   "source": [
    "def validate_and_label_sessions(row, feature, region_units, shuffle=False, balance=True):\n",
    "    # check region specificity:\n",
    "    # if not row.session_name in region_units.session.values:\n",
    "    #     return None\n",
    "    labeled_beh = behavioral_utils.get_beh_model_labels_for_session_feat(row.session_name, feature)\n",
    "    labeled_beh = labeled_beh[labeled_beh.Response == \"Correct\"]\n",
    "    enough_trials = behavioral_utils.validate_enough_trials_by_condition(labeled_beh, CONDITIONS, MIN_NUM_TRIALS, num_unique_conditions=4)\n",
    "    if not enough_trials:\n",
    "        return None\n",
    "    # TODO: determine whether or not this is needed: \n",
    "    if balance: \n",
    "        labeled_beh = behavioral_utils.balance_trials_by_condition(labeled_beh, CONDITIONS)\n",
    "    # HACK: doesn't generalize to other conditions\n",
    "    labeled_beh[\"Condition\"] = labeled_beh.MaxFeatMatches.astype(str) + \" \" + labeled_beh.RPEGroup\n",
    "    if shuffle: \n",
    "        rng = np.random.default_rng()\n",
    "        vals = labeled_beh[\"Condition\"].values\n",
    "        rng.shuffle(vals)\n",
    "        labeled_beh[\"Condition\"] = vals\n",
    "    frs_path = SESS_SPIKES_PATH.format(\n",
    "        sess_name=row.session_name, \n",
    "        pre_interval=PRE_INTERVAL, \n",
    "        event=EVENT, \n",
    "        post_interval=POST_INTERVAL, \n",
    "        interval_size=INTERVAL_SIZE\n",
    "    )\n",
    "    frs = pd.read_pickle(frs_path)\n",
    "    frs[\"PseudoUnitID\"] = int(row.session_name) * 100 + frs[\"UnitID\"]\n",
    "    frs = frs[frs.PseudoUnitID.isin(region_units.PseudoUnitID)]\n",
    "    merged = pd.merge(labeled_beh, frs, on=\"TrialNumber\")\n",
    "    if len(merged) == 0:\n",
    "        return None\n",
    "    return merged\n"
   ]
  },
  {
   "cell_type": "code",
   "execution_count": 60,
   "metadata": {},
   "outputs": [],
   "source": [
    "def mean_sub_unit(group):\n",
    "    mean = group.ConditionedFiringRate.mean()\n",
    "    group[\"ConditionedFiringRate\"] = group.ConditionedFiringRate - mean\n",
    "    return group\n",
    "\n",
    "def make_data_mat(all_trials, should_mean_sub=True):\n",
    "    conditions = all_trials.Condition.unique()\n",
    "    conditions.sort()\n",
    "    conditioned_frs = all_trials.groupby([\"Condition\", \"PseudoUnitID\", \"TimeBins\"]).FiringRate.mean().to_frame(\"ConditionedFiringRate\").reset_index()\n",
    "    if should_mean_sub: \n",
    "        conditioned_frs = conditioned_frs.groupby(\"PseudoUnitID\", group_keys=False).apply(mean_sub_unit).reset_index()\n",
    "    conditioned_frs_sorted = conditioned_frs.sort_values(by=[\"PseudoUnitID\", \"Condition\", \"TimeBins\"])\n",
    "    num_units = len(conditioned_frs.PseudoUnitID.unique())\n",
    "    num_conds = len(conditioned_frs.Condition.unique())\n",
    "    num_time_bins = len(conditioned_frs.TimeBins.unique())\n",
    "    data_mat = conditioned_frs_sorted.ConditionedFiringRate.values.reshape((num_units, num_conds * num_time_bins))\n",
    "    return data_mat, conditioned_frs\n",
    "\n",
    "def project_conditioned_firing_rates(all_trials):\n",
    "    \"\"\"\n",
    "    Condition-average firing rates by Condition column,\n",
    "    Calculate 1st 3 PCs of condition-averaged firing rates\n",
    "    Return projected dataframe, PCA object\n",
    "    \"\"\"\n",
    "    data_mat, conditioned_frs_sorted = make_data_mat(all_trials)\n",
    "\n",
    "    pca = PCA()\n",
    "    pca = pca.fit(data_mat.T)\n",
    "    components = pca.components_\n",
    "\n",
    "    def transform_pca(group):\n",
    "        group = group.sort_values(by=\"PseudoUnitID\")\n",
    "        vec = group.ConditionedFiringRate.values.reshape(-1, 1)\n",
    "        # print(vec.shape)\n",
    "        # print(components.shape)\n",
    "        transformed = components @ vec\n",
    "        # print(transformed.shape)\n",
    "        return pd.Series({\"PC1\": transformed[0, 0], \"PC2\": transformed[1, 0], \"PC3\": transformed[2, 0]})\n",
    "    transformed_df = conditioned_frs_sorted.groupby([\"TimeBins\", \"Condition\"]).apply(transform_pca).reset_index()\n",
    "\n",
    "    return transformed_df, pca"
   ]
  },
  {
   "cell_type": "markdown",
   "metadata": {},
   "source": [
    "### Look at PCA for a single feature"
   ]
  },
  {
   "cell_type": "code",
   "execution_count": 8,
   "metadata": {},
   "outputs": [],
   "source": [
    "res = valid_sess.apply(lambda x: validate_and_label_sessions(x, FEATURE, region_units, shuffle=False, balance=True), axis=1)\n",
    "res = res.dropna()\n",
    "all_trials = pd.concat(res.values)"
   ]
  },
  {
   "cell_type": "code",
   "execution_count": 9,
   "metadata": {},
   "outputs": [],
   "source": [
    "# get only after feedback timepoints\n",
    "all_trials = all_trials[all_trials.TimeBins > 1.3]"
   ]
  },
  {
   "cell_type": "code",
   "execution_count": 10,
   "metadata": {},
   "outputs": [],
   "source": [
    "transformed_df, pca = project_conditioned_firing_rates(all_trials)"
   ]
  },
  {
   "cell_type": "code",
   "execution_count": 30,
   "metadata": {},
   "outputs": [
    {
     "data": {
      "text/plain": [
       "Condition\n",
       "False less pos    463\n",
       "False more pos    463\n",
       "True less pos     463\n",
       "True more pos     463\n",
       "Name: PseudoTrialNumber, dtype: int64"
      ]
     },
     "execution_count": 30,
     "metadata": {},
     "output_type": "execute_result"
    }
   ],
   "source": [
    "# see how many total trials there are per condition\n",
    "all_trials[\"PseudoTrialNumber\"] = (all_trials.Session.astype(str) + all_trials.TrialNumber.astype(str)).astype(int)\n",
    "all_trials.groupby(\"Condition\").PseudoTrialNumber.nunique()"
   ]
  },
  {
   "cell_type": "code",
   "execution_count": 31,
   "metadata": {},
   "outputs": [
    {
     "data": {
      "text/plain": [
       "Text(0, 0.5, 'Cumulative variance explained')"
      ]
     },
     "execution_count": 31,
     "metadata": {},
     "output_type": "execute_result"
    },
    {
     "data": {
      "image/png": "[encoded data removed]",
      "text/plain": [
       "<Figure size 640x480 with 1 Axes>"
      ]
     },
     "metadata": {},
     "output_type": "display_data"
    }
   ],
   "source": [
    "fig, ax = plt.subplots()\n",
    "var_ratios = np.cumsum(pca.explained_variance_ratio_)\n",
    "ax.plot(np.arange(1, len(var_ratios) +1), var_ratios)\n",
    "ax.set_xlabel(\"Number of components\")\n",
    "ax.set_ylabel(\"Cumulative variance explained\")"
   ]
  },
  {
   "cell_type": "code",
   "execution_count": 32,
   "metadata": {},
   "outputs": [
    {
     "data": {
      "application/vnd.plotly.v1+json": {
       "config": {
        "plotlyServerURL": "https://plot.ly"
       },
       "data": [
        {
         "hovertemplate": "Condition=False less pos<br>PC1=%{x}<br>PC2=%{y}<br>PC3=%{z}<br>TimeBins=%{marker.size}<extra></extra>",
         "legendgroup": "False less pos",
         "marker": {
          "color": "#636efa",
          "opacity": 1,
          "size": [
           1.35,
           1.4000000000000001,
           1.4500000000000002,
           1.5,
           1.55,
           1.6,
           1.6500000000000001,
           1.7000000000000002,
           1.75,
           1.8,
           1.85,
           1.9000000000000001,
           1.9500000000000002,
           2,
           2.0500000000000003,
           2.1,
           2.15,
           2.2,
           2.25,
           2.3000000000000003,
           2.35,
           2.4000000000000004,
           2.45,
           2.5,
           2.5500000000000003,
           2.6,
           2.6500000000000004,
           2.7,
           2.75
          ],
          "sizemode": "area",
          "sizeref": 0.006875,
          "symbol": "circle"
         },
         "mode": "markers",
         "name": "False less pos",
         "scene": "scene",
         "showlegend": true,
         "type": "scatter3d",
         "x": [
          -5.142812572288568,
          -6.685840671649972,
          -7.3388266963760564,
          -8.150414297885568,
          -8.205898400382246,
          -7.376631364568934,
          -5.994980831498554,
          -4.825460612010223,
          -5.460868596698729,
          -6.739548195221953,
          -7.964589782994287,
          -8.223920217642418,
          -8.94066044920634,
          -7.017711690209971,
          -7.882503098507175,
          -7.845984478415709,
          -9.720755937131043,
          -10.269513437552233,
          -10.41904569684719,
          -9.490653702796447,
          -9.563082390728345,
          -9.170037107129923,
          -7.450522077923307,
          -7.688313620807557,
          -8.44297460108815,
          -8.239759741159139,
          -7.5415397715285755,
          -8.57482571671295,
          -8.446742443193239
         ],
         "y": [
          -6.078816148302134,
          -5.419007019999742,
          -5.314696824580961,
          -4.727758724606525,
          -4.090016102438742,
          -4.692932084886506,
          -3.4336755699289214,
          -1.014026851676895,
          1.431559701410134,
          0.7875320937258905,
          -1.6477319362936,
          -0.6187653536370067,
          0.9785861516490476,
          1.2689772405884272,
          1.2430416306516672,
          -1.749450215657311,
          -2.379172776846888,
          -0.368691197739671,
          0.9842093828502465,
          1.547369621534521,
          1.7503211148878697,
          1.8219912824084652,
          1.9249927572686087,
          2.6212448309417082,
          2.0399960477838377,
          1.1028270622329068,
          1.491777775406015,
          0.03913601890478016,
          0.4909490614794674
         ],
         "z": [
          12.89609575899755,
          14.230693247691116,
          14.199448679755283,
          12.492009953797082,
          11.764701827890672,
          15.936470792087738,
          14.643954082609724,
          9.201276536289296,
          2.832637305901419,
          2.2627248953358343,
          3.0572655726710347,
          0.7870557489679989,
          -1.0980814473655731,
          -1.1967601671239598,
          -2.4154812511488624,
          -1.5162438200391906,
          -1.1936891348679466,
          -2.08220105919623,
          -5.833131025761861,
          -8.217628544833623,
          -7.662420900908433,
          -8.298748849830986,
          -7.554615982454607,
          -3.3951163466563403,
          0.10525452052318851,
          -1.8276207327202476,
          -4.05905125086238,
          -2.8913223232497147,
          -1.6336291130848395
         ]
        },
        {
         "hovertemplate": "Condition=False more pos<br>PC1=%{x}<br>PC2=%{y}<br>PC3=%{z}<br>TimeBins=%{marker.size}<extra></extra>",
         "legendgroup": "False more pos",
         "marker": {
          "color": "#EF553B",
          "opacity": 1,
          "size": [
           1.35,
           1.4000000000000001,
           1.4500000000000002,
           1.5,
           1.55,
           1.6,
           1.6500000000000001,
           1.7000000000000002,
           1.75,
           1.8,
           1.85,
           1.9000000000000001,
           1.9500000000000002,
           2,
           2.0500000000000003,
           2.1,
           2.15,
           2.2,
           2.25,
           2.3000000000000003,
           2.35,
           2.4000000000000004,
           2.45,
           2.5,
           2.5500000000000003,
           2.6,
           2.6500000000000004,
           2.7,
           2.75
          ],
          "sizemode": "area",
          "sizeref": 0.006875,
          "symbol": "circle"
         },
         "mode": "markers",
         "name": "False more pos",
         "scene": "scene",
         "showlegend": true,
         "type": "scatter3d",
         "x": [
          -1.7465276409435464,
          -1.7092445365981273,
          -2.270145147933021,
          -3.8820460691703382,
          -3.203625670235386,
          -2.2432249553359744,
          -1.4449423082848636,
          -1.1535550440224935,
          -1.9147179507146936,
          -2.1341458313508603,
          -4.399160510300048,
          -7.352380455554744,
          -8.227793511545876,
          -6.412932395624869,
          -5.459566134979771,
          -4.1592167090900904,
          -4.146307165868557,
          -5.982008090180322,
          -6.645760152654333,
          -4.736251313337995,
          -4.57958079993622,
          -5.153608826485991,
          -5.213396002727874,
          -5.66803585139772,
          -5.043251691017512,
          -4.756889344959733,
          -4.712613507372537,
          -3.972323971727093,
          -3.6908370715658743
         ],
         "y": [
          -0.8232304637357256,
          -2.658360099336214,
          -2.5257161012340763,
          -3.033277958626835,
          -4.294497967355918,
          -4.0708382721974585,
          -3.2780565040940495,
          -3.2632347352178206,
          -2.136895350483377,
          -0.237218449790443,
          2.7635573438988468,
          3.7249413472574404,
          1.799732954634478,
          -1.2277154269991644,
          -0.6091451815479553,
          -0.4575632753598321,
          -1.6139048477942968,
          -2.604107227125244,
          -1.9714821780592193,
          -0.6619677456202491,
          -0.9578025774769199,
          -0.11410771943293725,
          2.1980289821099315,
          2.766612856405813,
          3.921118977386716,
          5.465930430152201,
          9.561624736116368,
          10.921734976816326,
          8.970446003927494
         ],
         "z": [
          7.647033198555329,
          7.078416127409731,
          4.657645779191154,
          2.783263782343742,
          1.2315313011809081,
          1.124239819946243,
          4.80370462802083,
          7.739639169382337,
          7.636049800085401,
          6.73704344742165,
          4.457838607082504,
          0.515247920743566,
          -3.2833630775729494,
          -4.358445028479125,
          -8.520674294026065,
          -8.174441071262311,
          -4.24866062758625,
          -0.9853788247681878,
          0.7145447152489515,
          4.260645042067951,
          8.700856536019224,
          9.575892735409075,
          6.33875875966369,
          0.8441556942722326,
          -4.818410566153813,
          -6.8320078606354935,
          -6.838390930861239,
          -6.137506711951281,
          -5.3147317032649
         ]
        },
        {
         "hovertemplate": "Condition=True less pos<br>PC1=%{x}<br>PC2=%{y}<br>PC3=%{z}<br>TimeBins=%{marker.size}<extra></extra>",
         "legendgroup": "True less pos",
         "marker": {
          "color": "#00cc96",
          "opacity": 1,
          "size": [
           1.35,
           1.4000000000000001,
           1.4500000000000002,
           1.5,
           1.55,
           1.6,
           1.6500000000000001,
           1.7000000000000002,
           1.75,
           1.8,
           1.85,
           1.9000000000000001,
           1.9500000000000002,
           2,
           2.0500000000000003,
           2.1,
           2.15,
           2.2,
           2.25,
           2.3000000000000003,
           2.35,
           2.4000000000000004,
           2.45,
           2.5,
           2.5500000000000003,
           2.6,
           2.6500000000000004,
           2.7,
           2.75
          ],
          "sizemode": "area",
          "sizeref": 0.006875,
          "symbol": "circle"
         },
         "mode": "markers",
         "name": "True less pos",
         "scene": "scene",
         "showlegend": true,
         "type": "scatter3d",
         "x": [
          4.90636728848944,
          5.917425929089362,
          6.188837033784143,
          5.848009251428142,
          6.590945823185655,
          8.663573688311486,
          10.528721557362063,
          12.52276186438995,
          13.115804425374616,
          12.12248791013779,
          10.90647948676286,
          11.455007891991677,
          10.177329112233455,
          11.211155399585625,
          10.636978208806049,
          13.364247307178728,
          15.654068342673988,
          16.17089774682918,
          14.53733079432671,
          13.89773752645239,
          14.065420305856044,
          15.02542322812409,
          16.254913387658647,
          16.52147884616234,
          15.941412728904265,
          13.949081364071256,
          12.323939394526715,
          10.714857416792245,
          10.384880052905109
         ],
         "y": [
          -1.9982288037110836,
          -1.4182908082168133,
          -0.2942547368410471,
          -1.6180468029556994,
          -3.6573033248290803,
          -4.82260751246623,
          -5.7116889787767695,
          -9.592073403463848,
          -12.65291493735188,
          -12.578010715903599,
          -12.112183010537391,
          -12.016569103902777,
          -12.74437865704007,
          -12.549888628504258,
          -9.771155865833961,
          -9.778707703103489,
          -9.981890829857377,
          -10.78443342479587,
          -11.381566115319275,
          -10.375155299177447,
          -8.718880179554493,
          -6.4162022445391145,
          -5.087613305065918,
          -4.522745756389962,
          -4.632993126218058,
          -6.438835983698026,
          -6.642505941075421,
          -6.416098252314128,
          -4.276723439842495
         ],
         "z": [
          -0.6498710870797099,
          -1.824307104041161,
          -2.5050298519450434,
          -2.3036712431885413,
          -3.5807158914133423,
          -3.3501138596533373,
          -3.1831839252326866,
          -0.3846439473947507,
          -0.2201140815800584,
          -1.771675773111241,
          -5.069324488292615,
          -6.4660974777797025,
          -3.8405245079405774,
          0.5843957509727272,
          0.4629829901979849,
          -1.0912004056486075,
          -2.820050895220628,
          -2.4307643914826005,
          -0.9351490619530535,
          2.2408995194641066,
          5.105003512157928,
          1.7803389816199535,
          -3.6594150029511674,
          -6.813317491537719,
          -6.86953047475775,
          -5.318949383168279,
          -4.188738477511531,
          -3.627730506145491,
          -3.209273950341882
         ]
        },
        {
         "hovertemplate": "Condition=True more pos<br>PC1=%{x}<br>PC2=%{y}<br>PC3=%{z}<br>TimeBins=%{marker.size}<extra></extra>",
         "legendgroup": "True more pos",
         "marker": {
          "color": "#ab63fa",
          "opacity": 1,
          "size": [
           1.35,
           1.4000000000000001,
           1.4500000000000002,
           1.5,
           1.55,
           1.6,
           1.6500000000000001,
           1.7000000000000002,
           1.75,
           1.8,
           1.85,
           1.9000000000000001,
           1.9500000000000002,
           2,
           2.0500000000000003,
           2.1,
           2.15,
           2.2,
           2.25,
           2.3000000000000003,
           2.35,
           2.4000000000000004,
           2.45,
           2.5,
           2.5500000000000003,
           2.6,
           2.6500000000000004,
           2.7,
           2.75
          ],
          "sizemode": "area",
          "sizeref": 0.006875,
          "symbol": "circle"
         },
         "mode": "markers",
         "name": "True more pos",
         "scene": "scene",
         "showlegend": true,
         "type": "scatter3d",
         "x": [
          3.2207984531176352,
          4.555643357526379,
          6.5435403706422814,
          9.569802639749646,
          11.439038148123302,
          10.454769830986269,
          9.76701640106805,
          8.914804576564263,
          7.621590159419245,
          9.62689900707763,
          11.777644352764671,
          12.079803410257451,
          11.038266658425558,
          10.906651100385861,
          9.291244528588956,
          10.350040285255618,
          12.679855088173886,
          13.071954612567076,
          12.65381357589946,
          12.038497759086034,
          10.68631145829728,
          9.752197329685906,
          10.655851886630776,
          10.675890280123548,
          10.934642524611988,
          11.098465750857773,
          11.125230682570521,
          11.858666018472418,
          12.495284440057176
         ],
         "y": [
          8.949737395432985,
          10.493504622311,
          13.385697314637234,
          15.626598249714984,
          13.922686200972375,
          9.668627611933136,
          6.402285866612469,
          4.5913459859882995,
          5.127444163778997,
          5.633953098293308,
          5.370187679972608,
          4.413857289597134,
          3.427988930087245,
          2.8492928019854116,
          6.572868797215035,
          9.446021889948872,
          9.495148368017695,
          8.716649189640089,
          11.917230975691165,
          15.847132026571163,
          16.17655667274614,
          15.548365567553647,
          14.86662492128343,
          13.097567367854003,
          11.846498741840524,
          10.790556987056997,
          10.87255932061919,
          9.162962039932607,
          8.696919777123039
         ],
         "z": [
          -8.675577834711314,
          -10.247434030451366,
          -9.081418068180191,
          -3.96491220388588,
          1.006686196802831,
          1.9453421434848002,
          1.1174617258536326,
          3.5005332699609935,
          8.670835881978169,
          11.309086127016538,
          12.304857744099003,
          12.822135714466704,
          11.488454370684229,
          11.647834686122366,
          8.947809701439809,
          6.927229353103166,
          6.9695002828038835,
          7.718884909362941,
          4.936280551461296,
          -0.4337724625238728,
          -4.228048369068437,
          -4.468611182143839,
          -2.5597094255318074,
          4.51337213062002,
          8.909674244725947,
          8.078912320956515,
          5.667069617631142,
          3.6681494312753262,
          1.9039970812146392
         ]
        }
       ],
       "layout": {
        "legend": {
         "itemsizing": "constant",
         "title": {
          "text": "Condition"
         },
         "tracegroupgap": 0
        },
        "margin": {
         "t": 60
        },
        "scene": {
         "domain": {
          "x": [
           0,
           1
          ],
          "y": [
           0,
           1
          ]
         },
         "xaxis": {
          "title": {
           "text": "PC1"
          }
         },
         "yaxis": {
          "title": {
           "text": "PC2"
          }
         },
         "zaxis": {
          "title": {
           "text": "PC3"
          }
         }
        },
        "template": {
         "data": {
          "bar": [
           {
            "error_x": {
             "color": "#2a3f5f"
            },
            "error_y": {
             "color": "#2a3f5f"
            },
            "marker": {
             "line": {
              "color": "#E5ECF6",
              "width": 0.5
             },
             "pattern": {
              "fillmode": "overlay",
              "size": 10,
              "solidity": 0.2
             }
            },
            "type": "bar"
           }
          ],
          "barpolar": [
           {
            "marker": {
             "line": {
              "color": "#E5ECF6",
              "width": 0.5
             },
             "pattern": {
              "fillmode": "overlay",
              "size": 10,
              "solidity": 0.2
             }
            },
            "type": "barpolar"
           }
          ],
          "carpet": [
           {
            "aaxis": {
             "endlinecolor": "#2a3f5f",
             "gridcolor": "white",
             "linecolor": "white",
             "minorgridcolor": "white",
             "startlinecolor": "#2a3f5f"
            },
            "baxis": {
             "endlinecolor": "#2a3f5f",
             "gridcolor": "white",
             "linecolor": "white",
             "minorgridcolor": "white",
             "startlinecolor": "#2a3f5f"
            },
            "type": "carpet"
           }
          ],
          "choropleth": [
           {
            "colorbar": {
             "outlinewidth": 0,
             "ticks": ""
            },
            "type": "choropleth"
           }
          ],
          "contour": [
           {
            "colorbar": {
             "outlinewidth": 0,
             "ticks": ""
            },
            "colorscale": [
             [
              0,
              "#0d0887"
             ],
             [
              0.1111111111111111,
              "#46039f"
             ],
             [
              0.2222222222222222,
              "#7201a8"
             ],
             [
              0.3333333333333333,
              "#9c179e"
             ],
             [
              0.4444444444444444,
              "#bd3786"
             ],
             [
              0.5555555555555556,
              "#d8576b"
             ],
             [
              0.6666666666666666,
              "#ed7953"
             ],
             [
              0.7777777777777778,
              "#fb9f3a"
             ],
             [
              0.8888888888888888,
              "#fdca26"
             ],
             [
              1,
              "#f0f921"
             ]
            ],
            "type": "contour"
           }
          ],
          "contourcarpet": [
           {
            "colorbar": {
             "outlinewidth": 0,
             "ticks": ""
            },
            "type": "contourcarpet"
           }
          ],
          "heatmap": [
           {
            "colorbar": {
             "outlinewidth": 0,
             "ticks": ""
            },
            "colorscale": [
             [
              0,
              "#0d0887"
             ],
             [
              0.1111111111111111,
              "#46039f"
             ],
             [
              0.2222222222222222,
              "#7201a8"
             ],
             [
              0.3333333333333333,
              "#9c179e"
             ],
             [
              0.4444444444444444,
              "#bd3786"
             ],
             [
              0.5555555555555556,
              "#d8576b"
             ],
             [
              0.6666666666666666,
              "#ed7953"
             ],
             [
              0.7777777777777778,
              "#fb9f3a"
             ],
             [
              0.8888888888888888,
              "#fdca26"
             ],
             [
              1,
              "#f0f921"
             ]
            ],
            "type": "heatmap"
           }
          ],
          "heatmapgl": [
           {
            "colorbar": {
             "outlinewidth": 0,
             "ticks": ""
            },
            "colorscale": [
             [
              0,
              "#0d0887"
             ],
             [
              0.1111111111111111,
              "#46039f"
             ],
             [
              0.2222222222222222,
              "#7201a8"
             ],
             [
              0.3333333333333333,
              "#9c179e"
             ],
             [
              0.4444444444444444,
              "#bd3786"
             ],
             [
              0.5555555555555556,
              "#d8576b"
             ],
             [
              0.6666666666666666,
              "#ed7953"
             ],
             [
              0.7777777777777778,
              "#fb9f3a"
             ],
             [
              0.8888888888888888,
              "#fdca26"
             ],
             [
              1,
              "#f0f921"
             ]
            ],
            "type": "heatmapgl"
           }
          ],
          "histogram": [
           {
            "marker": {
             "pattern": {
              "fillmode": "overlay",
              "size": 10,
              "solidity": 0.2
             }
            },
            "type": "histogram"
           }
          ],
          "histogram2d": [
           {
            "colorbar": {
             "outlinewidth": 0,
             "ticks": ""
            },
            "colorscale": [
             [
              0,
              "#0d0887"
             ],
             [
              0.1111111111111111,
              "#46039f"
             ],
             [
              0.2222222222222222,
              "#7201a8"
             ],
             [
              0.3333333333333333,
              "#9c179e"
             ],
             [
              0.4444444444444444,
              "#bd3786"
             ],
             [
              0.5555555555555556,
              "#d8576b"
             ],
             [
              0.6666666666666666,
              "#ed7953"
             ],
             [
              0.7777777777777778,
              "#fb9f3a"
             ],
             [
              0.8888888888888888,
              "#fdca26"
             ],
             [
              1,
              "#f0f921"
             ]
            ],
            "type": "histogram2d"
           }
          ],
          "histogram2dcontour": [
           {
            "colorbar": {
             "outlinewidth": 0,
             "ticks": ""
            },
            "colorscale": [
             [
              0,
              "#0d0887"
             ],
             [
              0.1111111111111111,
              "#46039f"
             ],
             [
              0.2222222222222222,
              "#7201a8"
             ],
             [
              0.3333333333333333,
              "#9c179e"
             ],
             [
              0.4444444444444444,
              "#bd3786"
             ],
             [
              0.5555555555555556,
              "#d8576b"
             ],
             [
              0.6666666666666666,
              "#ed7953"
             ],
             [
              0.7777777777777778,
              "#fb9f3a"
             ],
             [
              0.8888888888888888,
              "#fdca26"
             ],
             [
              1,
              "#f0f921"
             ]
            ],
            "type": "histogram2dcontour"
           }
          ],
          "mesh3d": [
           {
            "colorbar": {
             "outlinewidth": 0,
             "ticks": ""
            },
            "type": "mesh3d"
           }
          ],
          "parcoords": [
           {
            "line": {
             "colorbar": {
              "outlinewidth": 0,
              "ticks": ""
             }
            },
            "type": "parcoords"
           }
          ],
          "pie": [
           {
            "automargin": true,
            "type": "pie"
           }
          ],
          "scatter": [
           {
            "fillpattern": {
             "fillmode": "overlay",
             "size": 10,
             "solidity": 0.2
            },
            "type": "scatter"
           }
          ],
          "scatter3d": [
           {
            "line": {
             "colorbar": {
              "outlinewidth": 0,
              "ticks": ""
             }
            },
            "marker": {
             "colorbar": {
              "outlinewidth": 0,
              "ticks": ""
             }
            },
            "type": "scatter3d"
           }
          ],
          "scattercarpet": [
           {
            "marker": {
             "colorbar": {
              "outlinewidth": 0,
              "ticks": ""
             }
            },
            "type": "scattercarpet"
           }
          ],
          "scattergeo": [
           {
            "marker": {
             "colorbar": {
              "outlinewidth": 0,
              "ticks": ""
             }
            },
            "type": "scattergeo"
           }
          ],
          "scattergl": [
           {
            "marker": {
             "colorbar": {
              "outlinewidth": 0,
              "ticks": ""
             }
            },
            "type": "scattergl"
           }
          ],
          "scattermapbox": [
           {
            "marker": {
             "colorbar": {
              "outlinewidth": 0,
              "ticks": ""
             }
            },
            "type": "scattermapbox"
           }
          ],
          "scatterpolar": [
           {
            "marker": {
             "colorbar": {
              "outlinewidth": 0,
              "ticks": ""
             }
            },
            "type": "scatterpolar"
           }
          ],
          "scatterpolargl": [
           {
            "marker": {
             "colorbar": {
              "outlinewidth": 0,
              "ticks": ""
             }
            },
            "type": "scatterpolargl"
           }
          ],
          "scatterternary": [
           {
            "marker": {
             "colorbar": {
              "outlinewidth": 0,
              "ticks": ""
             }
            },
            "type": "scatterternary"
           }
          ],
          "surface": [
           {
            "colorbar": {
             "outlinewidth": 0,
             "ticks": ""
            },
            "colorscale": [
             [
              0,
              "#0d0887"
             ],
             [
              0.1111111111111111,
              "#46039f"
             ],
             [
              0.2222222222222222,
              "#7201a8"
             ],
             [
              0.3333333333333333,
              "#9c179e"
             ],
             [
              0.4444444444444444,
              "#bd3786"
             ],
             [
              0.5555555555555556,
              "#d8576b"
             ],
             [
              0.6666666666666666,
              "#ed7953"
             ],
             [
              0.7777777777777778,
              "#fb9f3a"
             ],
             [
              0.8888888888888888,
              "#fdca26"
             ],
             [
              1,
              "#f0f921"
             ]
            ],
            "type": "surface"
           }
          ],
          "table": [
           {
            "cells": {
             "fill": {
              "color": "#EBF0F8"
             },
             "line": {
              "color": "white"
             }
            },
            "header": {
             "fill": {
              "color": "#C8D4E3"
             },
             "line": {
              "color": "white"
             }
            },
            "type": "table"
           }
          ]
         },
         "layout": {
          "annotationdefaults": {
           "arrowcolor": "#2a3f5f",
           "arrowhead": 0,
           "arrowwidth": 1
          },
          "autotypenumbers": "strict",
          "coloraxis": {
           "colorbar": {
            "outlinewidth": 0,
            "ticks": ""
           }
          },
          "colorscale": {
           "diverging": [
            [
             0,
             "#8e0152"
            ],
            [
             0.1,
             "#c51b7d"
            ],
            [
             0.2,
             "#de77ae"
            ],
            [
             0.3,
             "#f1b6da"
            ],
            [
             0.4,
             "#fde0ef"
            ],
            [
             0.5,
             "#f7f7f7"
            ],
            [
             0.6,
             "#e6f5d0"
            ],
            [
             0.7,
             "#b8e186"
            ],
            [
             0.8,
             "#7fbc41"
            ],
            [
             0.9,
             "#4d9221"
            ],
            [
             1,
             "#276419"
            ]
           ],
           "sequential": [
            [
             0,
             "#0d0887"
            ],
            [
             0.1111111111111111,
             "#46039f"
            ],
            [
             0.2222222222222222,
             "#7201a8"
            ],
            [
             0.3333333333333333,
             "#9c179e"
            ],
            [
             0.4444444444444444,
             "#bd3786"
            ],
            [
             0.5555555555555556,
             "#d8576b"
            ],
            [
             0.6666666666666666,
             "#ed7953"
            ],
            [
             0.7777777777777778,
             "#fb9f3a"
            ],
            [
             0.8888888888888888,
             "#fdca26"
            ],
            [
             1,
             "#f0f921"
            ]
           ],
           "sequentialminus": [
            [
             0,
             "#0d0887"
            ],
            [
             0.1111111111111111,
             "#46039f"
            ],
            [
             0.2222222222222222,
             "#7201a8"
            ],
            [
             0.3333333333333333,
             "#9c179e"
            ],
            [
             0.4444444444444444,
             "#bd3786"
            ],
            [
             0.5555555555555556,
             "#d8576b"
            ],
            [
             0.6666666666666666,
             "#ed7953"
            ],
            [
             0.7777777777777778,
             "#fb9f3a"
            ],
            [
             0.8888888888888888,
             "#fdca26"
            ],
            [
             1,
             "#f0f921"
            ]
           ]
          },
          "colorway": [
           "#636efa",
           "#EF553B",
           "#00cc96",
           "#ab63fa",
           "#FFA15A",
           "#19d3f3",
           "#FF6692",
           "#B6E880",
           "#FF97FF",
           "#FECB52"
          ],
          "font": {
           "color": "#2a3f5f"
          },
          "geo": {
           "bgcolor": "white",
           "lakecolor": "white",
           "landcolor": "#E5ECF6",
           "showlakes": true,
           "showland": true,
           "subunitcolor": "white"
          },
          "hoverlabel": {
           "align": "left"
          },
          "hovermode": "closest",
          "mapbox": {
           "style": "light"
          },
          "paper_bgcolor": "white",
          "plot_bgcolor": "#E5ECF6",
          "polar": {
           "angularaxis": {
            "gridcolor": "white",
            "linecolor": "white",
            "ticks": ""
           },
           "bgcolor": "#E5ECF6",
           "radialaxis": {
            "gridcolor": "white",
            "linecolor": "white",
            "ticks": ""
           }
          },
          "scene": {
           "xaxis": {
            "backgroundcolor": "#E5ECF6",
            "gridcolor": "white",
            "gridwidth": 2,
            "linecolor": "white",
            "showbackground": true,
            "ticks": "",
            "zerolinecolor": "white"
           },
           "yaxis": {
            "backgroundcolor": "#E5ECF6",
            "gridcolor": "white",
            "gridwidth": 2,
            "linecolor": "white",
            "showbackground": true,
            "ticks": "",
            "zerolinecolor": "white"
           },
           "zaxis": {
            "backgroundcolor": "#E5ECF6",
            "gridcolor": "white",
            "gridwidth": 2,
            "linecolor": "white",
            "showbackground": true,
            "ticks": "",
            "zerolinecolor": "white"
           }
          },
          "shapedefaults": {
           "line": {
            "color": "#2a3f5f"
           }
          },
          "ternary": {
           "aaxis": {
            "gridcolor": "white",
            "linecolor": "white",
            "ticks": ""
           },
           "baxis": {
            "gridcolor": "white",
            "linecolor": "white",
            "ticks": ""
           },
           "bgcolor": "#E5ECF6",
           "caxis": {
            "gridcolor": "white",
            "linecolor": "white",
            "ticks": ""
           }
          },
          "title": {
           "x": 0.05
          },
          "xaxis": {
           "automargin": true,
           "gridcolor": "white",
           "linecolor": "white",
           "ticks": "",
           "title": {
            "standoff": 15
           },
           "zerolinecolor": "white",
           "zerolinewidth": 2
          },
          "yaxis": {
           "automargin": true,
           "gridcolor": "white",
           "linecolor": "white",
           "ticks": "",
           "title": {
            "standoff": 15
           },
           "zerolinecolor": "white",
           "zerolinewidth": 2
          }
         }
        }
       }
      },
      "text/html": [
       "<div>                            <div id=\"b4e3bb4a-0959-47fd-b1ba-1045c1ad71c5\" class=\"plotly-graph-div\" style=\"height:525px; width:100%;\"></div>            <script type=\"text/javascript\">                require([\"plotly\"], function(Plotly) {                    window.PLOTLYENV=window.PLOTLYENV || {};                                    if (document.getElementById(\"b4e3bb4a-0959-47fd-b1ba-1045c1ad71c5\")) {                    Plotly.newPlot(                        \"b4e3bb4a-0959-47fd-b1ba-1045c1ad71c5\",                        [{\"hovertemplate\":\"Condition=False less pos<br>PC1=%{x}<br>PC2=%{y}<br>PC3=%{z}<br>TimeBins=%{marker.size}<extra></extra>\",\"legendgroup\":\"False less pos\",\"marker\":{\"color\":\"#636efa\",\"opacity\":1,\"size\":[1.35,1.4000000000000001,1.4500000000000002,1.5,1.55,1.6,1.6500000000000001,1.7000000000000002,1.75,1.8,1.85,1.9000000000000001,1.9500000000000002,2.0,2.0500000000000003,2.1,2.15,2.2,2.25,2.3000000000000003,2.35,2.4000000000000004,2.45,2.5,2.5500000000000003,2.6,2.6500000000000004,2.7,2.75],\"sizemode\":\"area\",\"sizeref\":0.006875,\"symbol\":\"circle\"},\"mode\":\"markers\",\"name\":\"False less pos\",\"scene\":\"scene\",\"showlegend\":true,\"x\":[-5.142812572288568,-6.685840671649972,-7.3388266963760564,-8.150414297885568,-8.205898400382246,-7.376631364568934,-5.994980831498554,-4.825460612010223,-5.460868596698729,-6.739548195221953,-7.964589782994287,-8.223920217642418,-8.94066044920634,-7.017711690209971,-7.882503098507175,-7.845984478415709,-9.720755937131043,-10.269513437552233,-10.41904569684719,-9.490653702796447,-9.563082390728345,-9.170037107129923,-7.450522077923307,-7.688313620807557,-8.44297460108815,-8.239759741159139,-7.5415397715285755,-8.57482571671295,-8.446742443193239],\"y\":[-6.078816148302134,-5.419007019999742,-5.314696824580961,-4.727758724606525,-4.090016102438742,-4.692932084886506,-3.4336755699289214,-1.014026851676895,1.431559701410134,0.7875320937258905,-1.6477319362936,-0.6187653536370067,0.9785861516490476,1.2689772405884272,1.2430416306516672,-1.749450215657311,-2.379172776846888,-0.368691197739671,0.9842093828502465,1.547369621534521,1.7503211148878697,1.8219912824084652,1.9249927572686087,2.6212448309417082,2.0399960477838377,1.1028270622329068,1.491777775406015,0.03913601890478016,0.4909490614794674],\"z\":[12.89609575899755,14.230693247691116,14.199448679755283,12.492009953797082,11.764701827890672,15.936470792087738,14.643954082609724,9.201276536289296,2.832637305901419,2.2627248953358343,3.0572655726710347,0.7870557489679989,-1.0980814473655731,-1.1967601671239598,-2.4154812511488624,-1.5162438200391906,-1.1936891348679466,-2.08220105919623,-5.833131025761861,-8.217628544833623,-7.662420900908433,-8.298748849830986,-7.554615982454607,-3.3951163466563403,0.10525452052318851,-1.8276207327202476,-4.05905125086238,-2.8913223232497147,-1.6336291130848395],\"type\":\"scatter3d\"},{\"hovertemplate\":\"Condition=False more pos<br>PC1=%{x}<br>PC2=%{y}<br>PC3=%{z}<br>TimeBins=%{marker.size}<extra></extra>\",\"legendgroup\":\"False more pos\",\"marker\":{\"color\":\"#EF553B\",\"opacity\":1,\"size\":[1.35,1.4000000000000001,1.4500000000000002,1.5,1.55,1.6,1.6500000000000001,1.7000000000000002,1.75,1.8,1.85,1.9000000000000001,1.9500000000000002,2.0,2.0500000000000003,2.1,2.15,2.2,2.25,2.3000000000000003,2.35,2.4000000000000004,2.45,2.5,2.5500000000000003,2.6,2.6500000000000004,2.7,2.75],\"sizemode\":\"area\",\"sizeref\":0.006875,\"symbol\":\"circle\"},\"mode\":\"markers\",\"name\":\"False more pos\",\"scene\":\"scene\",\"showlegend\":true,\"x\":[-1.7465276409435464,-1.7092445365981273,-2.270145147933021,-3.8820460691703382,-3.203625670235386,-2.2432249553359744,-1.4449423082848636,-1.1535550440224935,-1.9147179507146936,-2.1341458313508603,-4.399160510300048,-7.352380455554744,-8.227793511545876,-6.412932395624869,-5.459566134979771,-4.1592167090900904,-4.146307165868557,-5.982008090180322,-6.645760152654333,-4.736251313337995,-4.57958079993622,-5.153608826485991,-5.213396002727874,-5.66803585139772,-5.043251691017512,-4.756889344959733,-4.712613507372537,-3.972323971727093,-3.6908370715658743],\"y\":[-0.8232304637357256,-2.658360099336214,-2.5257161012340763,-3.033277958626835,-4.294497967355918,-4.0708382721974585,-3.2780565040940495,-3.2632347352178206,-2.136895350483377,-0.237218449790443,2.7635573438988468,3.7249413472574404,1.799732954634478,-1.2277154269991644,-0.6091451815479553,-0.4575632753598321,-1.6139048477942968,-2.604107227125244,-1.9714821780592193,-0.6619677456202491,-0.9578025774769199,-0.11410771943293725,2.1980289821099315,2.766612856405813,3.921118977386716,5.465930430152201,9.561624736116368,10.921734976816326,8.970446003927494],\"z\":[7.647033198555329,7.078416127409731,4.657645779191154,2.783263782343742,1.2315313011809081,1.124239819946243,4.80370462802083,7.739639169382337,7.636049800085401,6.73704344742165,4.457838607082504,0.515247920743566,-3.2833630775729494,-4.358445028479125,-8.520674294026065,-8.174441071262311,-4.24866062758625,-0.9853788247681878,0.7145447152489515,4.260645042067951,8.700856536019224,9.575892735409075,6.33875875966369,0.8441556942722326,-4.818410566153813,-6.8320078606354935,-6.838390930861239,-6.137506711951281,-5.3147317032649],\"type\":\"scatter3d\"},{\"hovertemplate\":\"Condition=True less pos<br>PC1=%{x}<br>PC2=%{y}<br>PC3=%{z}<br>TimeBins=%{marker.size}<extra></extra>\",\"legendgroup\":\"True less pos\",\"marker\":{\"color\":\"#00cc96\",\"opacity\":1,\"size\":[1.35,1.4000000000000001,1.4500000000000002,1.5,1.55,1.6,1.6500000000000001,1.7000000000000002,1.75,1.8,1.85,1.9000000000000001,1.9500000000000002,2.0,2.0500000000000003,2.1,2.15,2.2,2.25,2.3000000000000003,2.35,2.4000000000000004,2.45,2.5,2.5500000000000003,2.6,2.6500000000000004,2.7,2.75],\"sizemode\":\"area\",\"sizeref\":0.006875,\"symbol\":\"circle\"},\"mode\":\"markers\",\"name\":\"True less pos\",\"scene\":\"scene\",\"showlegend\":true,\"x\":[4.90636728848944,5.917425929089362,6.188837033784143,5.848009251428142,6.590945823185655,8.663573688311486,10.528721557362063,12.52276186438995,13.115804425374616,12.12248791013779,10.90647948676286,11.455007891991677,10.177329112233455,11.211155399585625,10.636978208806049,13.364247307178728,15.654068342673988,16.17089774682918,14.53733079432671,13.89773752645239,14.065420305856044,15.02542322812409,16.254913387658647,16.52147884616234,15.941412728904265,13.949081364071256,12.323939394526715,10.714857416792245,10.384880052905109],\"y\":[-1.9982288037110836,-1.4182908082168133,-0.2942547368410471,-1.6180468029556994,-3.6573033248290803,-4.82260751246623,-5.7116889787767695,-9.592073403463848,-12.65291493735188,-12.578010715903599,-12.112183010537391,-12.016569103902777,-12.74437865704007,-12.549888628504258,-9.771155865833961,-9.778707703103489,-9.981890829857377,-10.78443342479587,-11.381566115319275,-10.375155299177447,-8.718880179554493,-6.4162022445391145,-5.087613305065918,-4.522745756389962,-4.632993126218058,-6.438835983698026,-6.642505941075421,-6.416098252314128,-4.276723439842495],\"z\":[-0.6498710870797099,-1.824307104041161,-2.5050298519450434,-2.3036712431885413,-3.5807158914133423,-3.3501138596533373,-3.1831839252326866,-0.3846439473947507,-0.2201140815800584,-1.771675773111241,-5.069324488292615,-6.4660974777797025,-3.8405245079405774,0.5843957509727272,0.4629829901979849,-1.0912004056486075,-2.820050895220628,-2.4307643914826005,-0.9351490619530535,2.2408995194641066,5.105003512157928,1.7803389816199535,-3.6594150029511674,-6.813317491537719,-6.86953047475775,-5.318949383168279,-4.188738477511531,-3.627730506145491,-3.209273950341882],\"type\":\"scatter3d\"},{\"hovertemplate\":\"Condition=True more pos<br>PC1=%{x}<br>PC2=%{y}<br>PC3=%{z}<br>TimeBins=%{marker.size}<extra></extra>\",\"legendgroup\":\"True more pos\",\"marker\":{\"color\":\"#ab63fa\",\"opacity\":1,\"size\":[1.35,1.4000000000000001,1.4500000000000002,1.5,1.55,1.6,1.6500000000000001,1.7000000000000002,1.75,1.8,1.85,1.9000000000000001,1.9500000000000002,2.0,2.0500000000000003,2.1,2.15,2.2,2.25,2.3000000000000003,2.35,2.4000000000000004,2.45,2.5,2.5500000000000003,2.6,2.6500000000000004,2.7,2.75],\"sizemode\":\"area\",\"sizeref\":0.006875,\"symbol\":\"circle\"},\"mode\":\"markers\",\"name\":\"True more pos\",\"scene\":\"scene\",\"showlegend\":true,\"x\":[3.2207984531176352,4.555643357526379,6.5435403706422814,9.569802639749646,11.439038148123302,10.454769830986269,9.76701640106805,8.914804576564263,7.621590159419245,9.62689900707763,11.777644352764671,12.079803410257451,11.038266658425558,10.906651100385861,9.291244528588956,10.350040285255618,12.679855088173886,13.071954612567076,12.65381357589946,12.038497759086034,10.68631145829728,9.752197329685906,10.655851886630776,10.675890280123548,10.934642524611988,11.098465750857773,11.125230682570521,11.858666018472418,12.495284440057176],\"y\":[8.949737395432985,10.493504622311,13.385697314637234,15.626598249714984,13.922686200972375,9.668627611933136,6.402285866612469,4.5913459859882995,5.127444163778997,5.633953098293308,5.370187679972608,4.413857289597134,3.427988930087245,2.8492928019854116,6.572868797215035,9.446021889948872,9.495148368017695,8.716649189640089,11.917230975691165,15.847132026571163,16.17655667274614,15.548365567553647,14.86662492128343,13.097567367854003,11.846498741840524,10.790556987056997,10.87255932061919,9.162962039932607,8.696919777123039],\"z\":[-8.675577834711314,-10.247434030451366,-9.081418068180191,-3.96491220388588,1.006686196802831,1.9453421434848002,1.1174617258536326,3.5005332699609935,8.670835881978169,11.309086127016538,12.304857744099003,12.822135714466704,11.488454370684229,11.647834686122366,8.947809701439809,6.927229353103166,6.9695002828038835,7.718884909362941,4.936280551461296,-0.4337724625238728,-4.228048369068437,-4.468611182143839,-2.5597094255318074,4.51337213062002,8.909674244725947,8.078912320956515,5.667069617631142,3.6681494312753262,1.9039970812146392],\"type\":\"scatter3d\"}],                        {\"template\":{\"data\":{\"histogram2dcontour\":[{\"type\":\"histogram2dcontour\",\"colorbar\":{\"outlinewidth\":0,\"ticks\":\"\"},\"colorscale\":[[0.0,\"#0d0887\"],[0.1111111111111111,\"#46039f\"],[0.2222222222222222,\"#7201a8\"],[0.3333333333333333,\"#9c179e\"],[0.4444444444444444,\"#bd3786\"],[0.5555555555555556,\"#d8576b\"],[0.6666666666666666,\"#ed7953\"],[0.7777777777777778,\"#fb9f3a\"],[0.8888888888888888,\"#fdca26\"],[1.0,\"#f0f921\"]]}],\"choropleth\":[{\"type\":\"choropleth\",\"colorbar\":{\"outlinewidth\":0,\"ticks\":\"\"}}],\"histogram2d\":[{\"type\":\"histogram2d\",\"colorbar\":{\"outlinewidth\":0,\"ticks\":\"\"},\"colorscale\":[[0.0,\"#0d0887\"],[0.1111111111111111,\"#46039f\"],[0.2222222222222222,\"#7201a8\"],[0.3333333333333333,\"#9c179e\"],[0.4444444444444444,\"#bd3786\"],[0.5555555555555556,\"#d8576b\"],[0.6666666666666666,\"#ed7953\"],[0.7777777777777778,\"#fb9f3a\"],[0.8888888888888888,\"#fdca26\"],[1.0,\"#f0f921\"]]}],\"heatmap\":[{\"type\":\"heatmap\",\"colorbar\":{\"outlinewidth\":0,\"ticks\":\"\"},\"colorscale\":[[0.0,\"#0d0887\"],[0.1111111111111111,\"#46039f\"],[0.2222222222222222,\"#7201a8\"],[0.3333333333333333,\"#9c179e\"],[0.4444444444444444,\"#bd3786\"],[0.5555555555555556,\"#d8576b\"],[0.6666666666666666,\"#ed7953\"],[0.7777777777777778,\"#fb9f3a\"],[0.8888888888888888,\"#fdca26\"],[1.0,\"#f0f921\"]]}],\"heatmapgl\":[{\"type\":\"heatmapgl\",\"colorbar\":{\"outlinewidth\":0,\"ticks\":\"\"},\"colorscale\":[[0.0,\"#0d0887\"],[0.1111111111111111,\"#46039f\"],[0.2222222222222222,\"#7201a8\"],[0.3333333333333333,\"#9c179e\"],[0.4444444444444444,\"#bd3786\"],[0.5555555555555556,\"#d8576b\"],[0.6666666666666666,\"#ed7953\"],[0.7777777777777778,\"#fb9f3a\"],[0.8888888888888888,\"#fdca26\"],[1.0,\"#f0f921\"]]}],\"contourcarpet\":[{\"type\":\"contourcarpet\",\"colorbar\":{\"outlinewidth\":0,\"ticks\":\"\"}}],\"contour\":[{\"type\":\"contour\",\"colorbar\":{\"outlinewidth\":0,\"ticks\":\"\"},\"colorscale\":[[0.0,\"#0d0887\"],[0.1111111111111111,\"#46039f\"],[0.2222222222222222,\"#7201a8\"],[0.3333333333333333,\"#9c179e\"],[0.4444444444444444,\"#bd3786\"],[0.5555555555555556,\"#d8576b\"],[0.6666666666666666,\"#ed7953\"],[0.7777777777777778,\"#fb9f3a\"],[0.8888888888888888,\"#fdca26\"],[1.0,\"#f0f921\"]]}],\"surface\":[{\"type\":\"surface\",\"colorbar\":{\"outlinewidth\":0,\"ticks\":\"\"},\"colorscale\":[[0.0,\"#0d0887\"],[0.1111111111111111,\"#46039f\"],[0.2222222222222222,\"#7201a8\"],[0.3333333333333333,\"#9c179e\"],[0.4444444444444444,\"#bd3786\"],[0.5555555555555556,\"#d8576b\"],[0.6666666666666666,\"#ed7953\"],[0.7777777777777778,\"#fb9f3a\"],[0.8888888888888888,\"#fdca26\"],[1.0,\"#f0f921\"]]}],\"mesh3d\":[{\"type\":\"mesh3d\",\"colorbar\":{\"outlinewidth\":0,\"ticks\":\"\"}}],\"scatter\":[{\"fillpattern\":{\"fillmode\":\"overlay\",\"size\":10,\"solidity\":0.2},\"type\":\"scatter\"}],\"parcoords\":[{\"type\":\"parcoords\",\"line\":{\"colorbar\":{\"outlinewidth\":0,\"ticks\":\"\"}}}],\"scatterpolargl\":[{\"type\":\"scatterpolargl\",\"marker\":{\"colorbar\":{\"outlinewidth\":0,\"ticks\":\"\"}}}],\"bar\":[{\"error_x\":{\"color\":\"#2a3f5f\"},\"error_y\":{\"color\":\"#2a3f5f\"},\"marker\":{\"line\":{\"color\":\"#E5ECF6\",\"width\":0.5},\"pattern\":{\"fillmode\":\"overlay\",\"size\":10,\"solidity\":0.2}},\"type\":\"bar\"}],\"scattergeo\":[{\"type\":\"scattergeo\",\"marker\":{\"colorbar\":{\"outlinewidth\":0,\"ticks\":\"\"}}}],\"scatterpolar\":[{\"type\":\"scatterpolar\",\"marker\":{\"colorbar\":{\"outlinewidth\":0,\"ticks\":\"\"}}}],\"histogram\":[{\"marker\":{\"pattern\":{\"fillmode\":\"overlay\",\"size\":10,\"solidity\":0.2}},\"type\":\"histogram\"}],\"scattergl\":[{\"type\":\"scattergl\",\"marker\":{\"colorbar\":{\"outlinewidth\":0,\"ticks\":\"\"}}}],\"scatter3d\":[{\"type\":\"scatter3d\",\"line\":{\"colorbar\":{\"outlinewidth\":0,\"ticks\":\"\"}},\"marker\":{\"colorbar\":{\"outlinewidth\":0,\"ticks\":\"\"}}}],\"scattermapbox\":[{\"type\":\"scattermapbox\",\"marker\":{\"colorbar\":{\"outlinewidth\":0,\"ticks\":\"\"}}}],\"scatterternary\":[{\"type\":\"scatterternary\",\"marker\":{\"colorbar\":{\"outlinewidth\":0,\"ticks\":\"\"}}}],\"scattercarpet\":[{\"type\":\"scattercarpet\",\"marker\":{\"colorbar\":{\"outlinewidth\":0,\"ticks\":\"\"}}}],\"carpet\":[{\"aaxis\":{\"endlinecolor\":\"#2a3f5f\",\"gridcolor\":\"white\",\"linecolor\":\"white\",\"minorgridcolor\":\"white\",\"startlinecolor\":\"#2a3f5f\"},\"baxis\":{\"endlinecolor\":\"#2a3f5f\",\"gridcolor\":\"white\",\"linecolor\":\"white\",\"minorgridcolor\":\"white\",\"startlinecolor\":\"#2a3f5f\"},\"type\":\"carpet\"}],\"table\":[{\"cells\":{\"fill\":{\"color\":\"#EBF0F8\"},\"line\":{\"color\":\"white\"}},\"header\":{\"fill\":{\"color\":\"#C8D4E3\"},\"line\":{\"color\":\"white\"}},\"type\":\"table\"}],\"barpolar\":[{\"marker\":{\"line\":{\"color\":\"#E5ECF6\",\"width\":0.5},\"pattern\":{\"fillmode\":\"overlay\",\"size\":10,\"solidity\":0.2}},\"type\":\"barpolar\"}],\"pie\":[{\"automargin\":true,\"type\":\"pie\"}]},\"layout\":{\"autotypenumbers\":\"strict\",\"colorway\":[\"#636efa\",\"#EF553B\",\"#00cc96\",\"#ab63fa\",\"#FFA15A\",\"#19d3f3\",\"#FF6692\",\"#B6E880\",\"#FF97FF\",\"#FECB52\"],\"font\":{\"color\":\"#2a3f5f\"},\"hovermode\":\"closest\",\"hoverlabel\":{\"align\":\"left\"},\"paper_bgcolor\":\"white\",\"plot_bgcolor\":\"#E5ECF6\",\"polar\":{\"bgcolor\":\"#E5ECF6\",\"angularaxis\":{\"gridcolor\":\"white\",\"linecolor\":\"white\",\"ticks\":\"\"},\"radialaxis\":{\"gridcolor\":\"white\",\"linecolor\":\"white\",\"ticks\":\"\"}},\"ternary\":{\"bgcolor\":\"#E5ECF6\",\"aaxis\":{\"gridcolor\":\"white\",\"linecolor\":\"white\",\"ticks\":\"\"},\"baxis\":{\"gridcolor\":\"white\",\"linecolor\":\"white\",\"ticks\":\"\"},\"caxis\":{\"gridcolor\":\"white\",\"linecolor\":\"white\",\"ticks\":\"\"}},\"coloraxis\":{\"colorbar\":{\"outlinewidth\":0,\"ticks\":\"\"}},\"colorscale\":{\"sequential\":[[0.0,\"#0d0887\"],[0.1111111111111111,\"#46039f\"],[0.2222222222222222,\"#7201a8\"],[0.3333333333333333,\"#9c179e\"],[0.4444444444444444,\"#bd3786\"],[0.5555555555555556,\"#d8576b\"],[0.6666666666666666,\"#ed7953\"],[0.7777777777777778,\"#fb9f3a\"],[0.8888888888888888,\"#fdca26\"],[1.0,\"#f0f921\"]],\"sequentialminus\":[[0.0,\"#0d0887\"],[0.1111111111111111,\"#46039f\"],[0.2222222222222222,\"#7201a8\"],[0.3333333333333333,\"#9c179e\"],[0.4444444444444444,\"#bd3786\"],[0.5555555555555556,\"#d8576b\"],[0.6666666666666666,\"#ed7953\"],[0.7777777777777778,\"#fb9f3a\"],[0.8888888888888888,\"#fdca26\"],[1.0,\"#f0f921\"]],\"diverging\":[[0,\"#8e0152\"],[0.1,\"#c51b7d\"],[0.2,\"#de77ae\"],[0.3,\"#f1b6da\"],[0.4,\"#fde0ef\"],[0.5,\"#f7f7f7\"],[0.6,\"#e6f5d0\"],[0.7,\"#b8e186\"],[0.8,\"#7fbc41\"],[0.9,\"#4d9221\"],[1,\"#276419\"]]},\"xaxis\":{\"gridcolor\":\"white\",\"linecolor\":\"white\",\"ticks\":\"\",\"title\":{\"standoff\":15},\"zerolinecolor\":\"white\",\"automargin\":true,\"zerolinewidth\":2},\"yaxis\":{\"gridcolor\":\"white\",\"linecolor\":\"white\",\"ticks\":\"\",\"title\":{\"standoff\":15},\"zerolinecolor\":\"white\",\"automargin\":true,\"zerolinewidth\":2},\"scene\":{\"xaxis\":{\"backgroundcolor\":\"#E5ECF6\",\"gridcolor\":\"white\",\"linecolor\":\"white\",\"showbackground\":true,\"ticks\":\"\",\"zerolinecolor\":\"white\",\"gridwidth\":2},\"yaxis\":{\"backgroundcolor\":\"#E5ECF6\",\"gridcolor\":\"white\",\"linecolor\":\"white\",\"showbackground\":true,\"ticks\":\"\",\"zerolinecolor\":\"white\",\"gridwidth\":2},\"zaxis\":{\"backgroundcolor\":\"#E5ECF6\",\"gridcolor\":\"white\",\"linecolor\":\"white\",\"showbackground\":true,\"ticks\":\"\",\"zerolinecolor\":\"white\",\"gridwidth\":2}},\"shapedefaults\":{\"line\":{\"color\":\"#2a3f5f\"}},\"annotationdefaults\":{\"arrowcolor\":\"#2a3f5f\",\"arrowhead\":0,\"arrowwidth\":1},\"geo\":{\"bgcolor\":\"white\",\"landcolor\":\"#E5ECF6\",\"subunitcolor\":\"white\",\"showland\":true,\"showlakes\":true,\"lakecolor\":\"white\"},\"title\":{\"x\":0.05},\"mapbox\":{\"style\":\"light\"}}},\"scene\":{\"domain\":{\"x\":[0.0,1.0],\"y\":[0.0,1.0]},\"xaxis\":{\"title\":{\"text\":\"PC1\"}},\"yaxis\":{\"title\":{\"text\":\"PC2\"}},\"zaxis\":{\"title\":{\"text\":\"PC3\"}}},\"legend\":{\"title\":{\"text\":\"Condition\"},\"tracegroupgap\":0,\"itemsizing\":\"constant\"},\"margin\":{\"t\":60}},                        {\"responsive\": true}                    ).then(function(){\n",
       "                            \n",
       "var gd = document.getElementById('b4e3bb4a-0959-47fd-b1ba-1045c1ad71c5');\n",
       "var x = new MutationObserver(function (mutations, observer) {{\n",
       "        var display = window.getComputedStyle(gd).display;\n",
       "        if (!display || display === 'none') {{\n",
       "            console.log([gd, 'removed!']);\n",
       "            Plotly.purge(gd);\n",
       "            observer.disconnect();\n",
       "        }}\n",
       "}});\n",
       "\n",
       "// Listen for the removal of the full notebook cells\n",
       "var notebookContainer = gd.closest('#notebook-container');\n",
       "if (notebookContainer) {{\n",
       "    x.observe(notebookContainer, {childList: true});\n",
       "}}\n",
       "\n",
       "// Listen for the clearing of the current output cell\n",
       "var outputEl = gd.closest('.output');\n",
       "if (outputEl) {{\n",
       "    x.observe(outputEl, {childList: true});\n",
       "}}\n",
       "\n",
       "                        })                };                });            </script>        </div>"
      ]
     },
     "metadata": {},
     "output_type": "display_data"
    }
   ],
   "source": [
    "fig = px.scatter_3d(\n",
    "    transformed_df, \n",
    "    x='PC1', y='PC2', z='PC3',\n",
    "    color='Condition', \n",
    "    opacity=1,\n",
    "    size='TimeBins',\n",
    "    # color_discrete_sequence=colors\n",
    ")\n",
    "fig.show()\n"
   ]
  },
  {
   "cell_type": "markdown",
   "metadata": {},
   "source": [
    "### Do it for two features at once, SQUARE and TRIANGLE"
   ]
  },
  {
   "cell_type": "code",
   "execution_count": 30,
   "metadata": {},
   "outputs": [],
   "source": [
    "# FEATURE_DIM = \"Shape\"\n",
    "COND_TO_SPLIT = \"MaxFeatMatches\"\n",
    "OTHER_COND = \"RPEGroup\"\n",
    "# CONDITIONS = [COND_TO_SPLIT, FEATURE_DIM]\n",
    "NUM_UNIQUE_CONDITIONS = 8\n",
    "# FILTERS = {\"RPEGroup\": \"less pos\"}\n",
    "FILTERS = {\"Response\": \"Correct\"}\n",
    "DECODER_SEED=42\n",
    "MIN_NUM_TRIALS = 20\n",
    "\n",
    "def get_feat_beh(session, feat, shuffle):\n",
    "    feat_beh = behavioral_utils.get_beh_model_labels_for_session_feat(session, feat, beh_path=SESS_BEHAVIOR_PATH)\n",
    "    if shuffle:\n",
    "        rng = np.random.default_rng(seed=DECODER_SEED)\n",
    "        vals = feat_beh[COND_TO_SPLIT].values\n",
    "        rng.shuffle(vals)\n",
    "        feat_beh[COND_TO_SPLIT] = vals\n",
    "    return feat_beh\n",
    "\n",
    "\n",
    "def label_and_balance_sessions(session, features, feature_dim, shuffle):\n",
    "    feat_behs = []\n",
    "    for feat in features:\n",
    "        feat_behs.append(get_feat_beh(session, feat, shuffle))\n",
    "    beh = pd.concat(feat_behs)\n",
    "    # subselect for correct \n",
    "    for filter_col, filter in FILTERS.items():\n",
    "        beh = beh[beh[filter_col] == filter]\n",
    "    conditions_cols = [COND_TO_SPLIT, OTHER_COND, feature_dim]\n",
    "    enough_trials = behavioral_utils.validate_enough_trials_by_condition(\n",
    "        beh, \n",
    "        conditions_cols, \n",
    "        MIN_NUM_TRIALS, \n",
    "        num_unique_conditions=NUM_UNIQUE_CONDITIONS\n",
    "    )\n",
    "    if not enough_trials:\n",
    "        # print(\"Not enough trials for session {session}, skipping\")\n",
    "        return None\n",
    "    beh = behavioral_utils.balance_trials_by_condition(beh, conditions_cols)\n",
    "    beh[\"Condition\"] = beh[feature_dim] + \" \" + beh[COND_TO_SPLIT].astype(str) + \" \" + beh[OTHER_COND]\n",
    "    frs_path = SESS_SPIKES_PATH.format(\n",
    "        sess_name=session, \n",
    "        pre_interval=PRE_INTERVAL, \n",
    "        event=EVENT, \n",
    "        post_interval=POST_INTERVAL, \n",
    "        interval_size=INTERVAL_SIZE\n",
    "    )\n",
    "    frs = pd.read_pickle(frs_path)\n",
    "    frs[\"PseudoUnitID\"] = int(session) * 100 + frs[\"UnitID\"]\n",
    "    frs = frs[frs.PseudoUnitID.isin(region_units.PseudoUnitID)]\n",
    "    merged = pd.merge(beh, frs, on=\"TrialNumber\")\n",
    "    if len(merged) == 0:\n",
    "        return None\n",
    "    return merged"
   ]
  },
  {
   "cell_type": "code",
   "execution_count": 31,
   "metadata": {},
   "outputs": [],
   "source": [
    "FEATURE_1 = \"SQUARE\"\n",
    "FEATURE_2 = \"TRIANGLE\"\n",
    "FEATURE_DIM = \"Shape\""
   ]
  },
  {
   "cell_type": "code",
   "execution_count": 43,
   "metadata": {},
   "outputs": [],
   "source": [
    "all_trials = valid_sess.apply(lambda x: label_and_balance_sessions(\n",
    "    x.session_name, \n",
    "    [FEATURE_1,FEATURE_2], \n",
    "    FEATURE_DIM, \n",
    "    shuffle=False\n",
    "), axis=1)\n",
    "all_trials = all_trials.dropna()\n",
    "all_trials = pd.concat(all_trials.values)\n"
   ]
  },
  {
   "cell_type": "code",
   "execution_count": 44,
   "metadata": {},
   "outputs": [],
   "source": [
    "all_trials = all_trials[all_trials.TimeBins > 1.35]"
   ]
  },
  {
   "cell_type": "code",
   "execution_count": 45,
   "metadata": {},
   "outputs": [],
   "source": [
    "all_trials.Condition.unique()\n",
    "true_conds = [FEATURE_1 + ' True less pos', FEATURE_1 + ' True more pos', FEATURE_2 + ' True less pos', FEATURE_2 + ' True more pos']\n",
    "false_conds = [FEATURE_1 + ' False less pos', FEATURE_1 + ' False more pos', FEATURE_2 + ' False less pos', FEATURE_2 + ' False more pos']\n",
    "true_trials = all_trials[all_trials.Condition.isin(true_conds)]\n",
    "false_trials = all_trials[all_trials.Condition.isin(false_conds)]\n"
   ]
  },
  {
   "cell_type": "code",
   "execution_count": 46,
   "metadata": {},
   "outputs": [
    {
     "data": {
      "text/plain": [
       "Condition\n",
       "SQUARE False less pos      270\n",
       "SQUARE False more pos      270\n",
       "SQUARE True less pos       270\n",
       "SQUARE True more pos       270\n",
       "TRIANGLE False less pos    270\n",
       "TRIANGLE False more pos    270\n",
       "TRIANGLE True less pos     270\n",
       "TRIANGLE True more pos     270\n",
       "Name: PseudoTrialNumber, dtype: int64"
      ]
     },
     "execution_count": 46,
     "metadata": {},
     "output_type": "execute_result"
    }
   ],
   "source": [
    "all_trials[\"PseudoTrialNumber\"] = (all_trials.Session.astype(str) + all_trials.TrialNumber.astype(str)).astype(int)\n",
    "all_trials.groupby(\"Condition\").PseudoTrialNumber.nunique()"
   ]
  },
  {
   "cell_type": "code",
   "execution_count": 59,
   "metadata": {},
   "outputs": [
    {
     "name": "stderr",
     "output_type": "stream",
     "text": [
      "/tmp/ipykernel_2798183/21154004.py:1: SettingWithCopyWarning:\n",
      "\n",
      "\n",
      "A value is trying to be set on a copy of a slice from a DataFrame.\n",
      "Try using .loc[row_indexer,col_indexer] = value instead\n",
      "\n",
      "See the caveats in the documentation: https://pandas.pydata.org/pandas-docs/stable/user_guide/indexing.html#returning-a-view-versus-a-copy\n",
      "\n",
      "/tmp/ipykernel_2798183/21154004.py:2: SettingWithCopyWarning:\n",
      "\n",
      "\n",
      "A value is trying to be set on a copy of a slice from a DataFrame.\n",
      "Try using .loc[row_indexer,col_indexer] = value instead\n",
      "\n",
      "See the caveats in the documentation: https://pandas.pydata.org/pandas-docs/stable/user_guide/indexing.html#returning-a-view-versus-a-copy\n",
      "\n"
     ]
    }
   ],
   "source": [
    "true_trials[\"Condition\"] = true_trials[\"Shape\"] + \" \" + true_trials.RPEGroup\n",
    "false_trials[\"Condition\"] = false_trials[\"Shape\"] + \" \" + false_trials.RPEGroup"
   ]
  },
  {
   "cell_type": "code",
   "execution_count": 61,
   "metadata": {},
   "outputs": [],
   "source": [
    "transformed_df, pca_true = project_conditioned_firing_rates(true_trials)\n",
    "transformed_df[\"ZeroedTimeBins\"] = transformed_df.TimeBins - 1.3\n",
    "# transformed_df[\"ZeroedTimeBins\"] = transformed_df.TimeBins"
   ]
  },
  {
   "cell_type": "code",
   "execution_count": 63,
   "metadata": {},
   "outputs": [
    {
     "data": {
      "application/vnd.plotly.v1+json": {
       "config": {
        "plotlyServerURL": "https://plot.ly"
       },
       "data": [
        {
         "hovertemplate": "Condition=SQUARE less pos<br>PC1=%{x}<br>PC2=%{y}<br>PC3=%{z}<br>ZeroedTimeBins=%{marker.size}<extra></extra>",
         "legendgroup": "SQUARE less pos",
         "marker": {
          "color": "#636efa",
          "opacity": 1,
          "size": [
           0.10000000000000009,
           0.15000000000000013,
           0.19999999999999996,
           0.25,
           0.30000000000000004,
           0.3500000000000001,
           0.40000000000000013,
           0.44999999999999996,
           0.5,
           0.55,
           0.6000000000000001,
           0.6500000000000001,
           0.7,
           0.7500000000000002,
           0.8,
           0.8499999999999999,
           0.9000000000000001,
           0.95,
           1.0000000000000002,
           1.05,
           1.1000000000000003,
           1.1500000000000001,
           1.2,
           1.2500000000000002,
           1.3,
           1.3500000000000003,
           1.4000000000000001,
           1.45
          ],
          "sizemode": "area",
          "sizeref": 0.0036249999999999998,
          "symbol": "circle"
         },
         "mode": "markers",
         "name": "SQUARE less pos",
         "scene": "scene",
         "showlegend": true,
         "type": "scatter3d",
         "x": [
          3.694801579789766,
          4.035789003146843,
          2.0820552239757424,
          0.10766697728890998,
          -1.2438149211584986,
          -0.4805336155485688,
          0.9130365970041006,
          0.4075167559422126,
          -0.9740828382741177,
          -1.8441184188696953,
          0.2150154535908096,
          3.9872179096023275,
          4.167431582634088,
          5.49891323144012,
          7.301641395077062,
          5.733587754875456,
          2.9986931727850923,
          -0.6726498541059625,
          -3.5867083413191536,
          -4.103468504379733,
          -4.8976245558607605,
          -5.52059786390928,
          -5.262276266671846,
          -5.1970155458229925,
          -5.639076002591782,
          -4.8887915897488075,
          -4.027253226967546,
          -5.1721235351661745
         ],
         "y": [
          0.6531146072363734,
          1.811898726888714,
          6.52825605066933,
          9.232572607599058,
          9.68533997750606,
          9.49474563187158,
          7.981716671061253,
          7.092716226342597,
          5.663266827735079,
          7.331071604346141,
          11.192964362020554,
          13.868188938738612,
          14.750279569276586,
          12.69233761825523,
          12.14346433990392,
          12.543750069359469,
          12.473005527255786,
          9.267191343724338,
          8.299963911091723,
          5.988207049334286,
          4.449324624228741,
          5.630597089300328,
          8.29453784062615,
          9.9059370959866,
          10.109892522974697,
          9.920880298641976,
          9.33597712613331,
          7.525552003908798
         ],
         "z": [
          -2.7562335184410998,
          -1.4400981769312593,
          -0.5337645369949238,
          0.409061540622503,
          2.1325650513726764,
          3.413542024480036,
          3.089809833054625,
          2.6009280873040486,
          3.655244809676589,
          4.624066284137341,
          4.4913389628857345,
          3.0078892889396887,
          -0.7819001566573124,
          -4.421300845860038,
          -6.508406536765551,
          -6.737884407919046,
          -2.9830949150070887,
          3.6351212265574873,
          7.196383591986898,
          9.09539447939187,
          7.9496912645885365,
          7.889787510410523,
          9.537627684079892,
          8.729516981570514,
          6.58760320391006,
          7.13676506570992,
          12.285310898744683,
          16.97308775573633
         ]
        },
        {
         "hovertemplate": "Condition=SQUARE more pos<br>PC1=%{x}<br>PC2=%{y}<br>PC3=%{z}<br>ZeroedTimeBins=%{marker.size}<extra></extra>",
         "legendgroup": "SQUARE more pos",
         "marker": {
          "color": "#EF553B",
          "opacity": 1,
          "size": [
           0.10000000000000009,
           0.15000000000000013,
           0.19999999999999996,
           0.25,
           0.30000000000000004,
           0.3500000000000001,
           0.40000000000000013,
           0.44999999999999996,
           0.5,
           0.55,
           0.6000000000000001,
           0.6500000000000001,
           0.7,
           0.7500000000000002,
           0.8,
           0.8499999999999999,
           0.9000000000000001,
           0.95,
           1.0000000000000002,
           1.05,
           1.1000000000000003,
           1.1500000000000001,
           1.2,
           1.2500000000000002,
           1.3,
           1.3500000000000003,
           1.4000000000000001,
           1.45
          ],
          "sizemode": "area",
          "sizeref": 0.0036249999999999998,
          "symbol": "circle"
         },
         "mode": "markers",
         "name": "SQUARE more pos",
         "scene": "scene",
         "showlegend": true,
         "type": "scatter3d",
         "x": [
          0.8285147974062252,
          -0.23196575006738568,
          -3.465753611112693,
          -6.762996788188337,
          -9.857000687258834,
          -10.64326044285284,
          -10.892039367640589,
          -13.123393714185386,
          -15.188120513135711,
          -12.770342728066478,
          -10.386815695975628,
          -9.166306718663762,
          -9.427399700933515,
          -10.289449612325269,
          -11.686727002395543,
          -12.299544221022423,
          -13.464018997680926,
          -13.77392828922618,
          -13.05418777168557,
          -10.409506298661151,
          -10.193805485011602,
          -9.651616910070159,
          -9.316961940699628,
          -9.66801641391716,
          -9.358502342192617,
          -7.768492627952356,
          -6.784498262152236,
          -5.365039987269656
         ],
         "y": [
          -2.2672595782796927,
          -2.9200796276676093,
          -4.9678527751121955,
          -4.292584487637152,
          -0.02477878375247454,
          0.2692403197452516,
          -1.6440916241448447,
          -1.7049646146574386,
          -2.091245398728735,
          -3.472651436504534,
          -5.688307885727796,
          -7.4746169746967395,
          -6.245441898206315,
          -5.655004039726009,
          -4.990977962775137,
          -4.522819682902815,
          -4.585348575394444,
          -7.183033910772238,
          -7.844020242844195,
          -7.041368917082096,
          -6.28832901421373,
          -6.832595420731461,
          -5.52122506296832,
          -2.3253631930818295,
          0.7557338739871278,
          2.8882326171732084,
          4.003371372407764,
          2.7498784836613592
         ],
         "z": [
          -7.77486561176045,
          -7.254417495467389,
          -3.2310402703730343,
          -1.7150923785243841,
          -3.0604647165517926,
          -4.842584619471991,
          -6.129556396814478,
          -6.7800241398121415,
          -7.263609908730654,
          -5.265955238197491,
          -4.193118686786373,
          -3.722101487863515,
          -1.8660924310612887,
          -0.25001193489255946,
          -0.16050453604795817,
          -1.9434953211550456,
          -1.276054258653428,
          -0.8311188809802728,
          -1.352015170955876,
          -0.475336091718437,
          0.3251929333534733,
          -1.138945277460567,
          -4.3582505336531145,
          -8.07473401977647,
          -8.535024503640106,
          -5.718692673229056,
          -4.472733018667308,
          -6.985582694199413
         ]
        },
        {
         "hovertemplate": "Condition=TRIANGLE less pos<br>PC1=%{x}<br>PC2=%{y}<br>PC3=%{z}<br>ZeroedTimeBins=%{marker.size}<extra></extra>",
         "legendgroup": "TRIANGLE less pos",
         "marker": {
          "color": "#00cc96",
          "opacity": 1,
          "size": [
           0.10000000000000009,
           0.15000000000000013,
           0.19999999999999996,
           0.25,
           0.30000000000000004,
           0.3500000000000001,
           0.40000000000000013,
           0.44999999999999996,
           0.5,
           0.55,
           0.6000000000000001,
           0.6500000000000001,
           0.7,
           0.7500000000000002,
           0.8,
           0.8499999999999999,
           0.9000000000000001,
           0.95,
           1.0000000000000002,
           1.05,
           1.1000000000000003,
           1.1500000000000001,
           1.2,
           1.2500000000000002,
           1.3,
           1.3500000000000003,
           1.4000000000000001,
           1.45
          ],
          "sizemode": "area",
          "sizeref": 0.0036249999999999998,
          "symbol": "circle"
         },
         "mode": "markers",
         "name": "TRIANGLE less pos",
         "scene": "scene",
         "showlegend": true,
         "type": "scatter3d",
         "x": [
          0.8748629980741113,
          -1.412977742700563,
          -1.7789884272687948,
          -0.9156229686105218,
          0.21005119268001826,
          2.2784097088120228,
          4.596325485313643,
          5.755438856061143,
          4.873664717022472,
          3.1603396100742374,
          3.5478117703064775,
          3.993960720949175,
          4.0947220399036155,
          5.8129471770924654,
          8.880748292648663,
          9.047691837839574,
          7.282624181873127,
          4.849698887976038,
          2.3654668549878823,
          -0.229197865460359,
          -0.3113437623216199,
          0.24229099109110766,
          -0.4528291407963064,
          -1.254682859868244,
          -3.8818735835908744,
          -4.740144314127846,
          -1.979049920076809,
          -0.4115737236163546
         ],
         "y": [
          0.7841490925928367,
          1.1763668478517182,
          0.22923733974920954,
          -1.7116033648320899,
          -1.8726119208055858,
          0.41746194024691624,
          1.768783411393509,
          2.122101620156343,
          -0.6868851447456289,
          -5.139181286158831,
          -9.246974131561478,
          -8.906526751105389,
          -6.637753485857628,
          -3.551400796198561,
          -3.804655351661896,
          -6.511957386772592,
          -9.422255556139573,
          -10.109078246456134,
          -9.123460657560244,
          -10.660094834657516,
          -12.948213217855075,
          -11.798134876925111,
          -9.487700020780798,
          -8.818280504381597,
          -6.667789358332386,
          -2.558322401793507,
          1.584900523425913,
          2.502131971929697
         ],
         "z": [
          -3.913465167981339,
          -3.002660303414846,
          -2.955153356298806,
          -2.942145251075156,
          -1.3634395921824873,
          1.4616001985784954,
          2.091338728298934,
          2.6216087054944235,
          6.340367350797969,
          10.920658401938827,
          14.407778604104708,
          14.961249273234744,
          14.045113153631094,
          8.561601482433947,
          4.71401832003603,
          3.150319624084508,
          4.651052277443298,
          8.020156454448728,
          8.564951307031626,
          7.301979168883513,
          2.905977514808405,
          0.054697617968568646,
          1.8806792449865433,
          3.1212505294129143,
          3.17473579101679,
          2.7176352817596303,
          3.2084496523777557,
          6.248143341781024
         ]
        },
        {
         "hovertemplate": "Condition=TRIANGLE more pos<br>PC1=%{x}<br>PC2=%{y}<br>PC3=%{z}<br>ZeroedTimeBins=%{marker.size}<extra></extra>",
         "legendgroup": "TRIANGLE more pos",
         "marker": {
          "color": "#ab63fa",
          "opacity": 1,
          "size": [
           0.10000000000000009,
           0.15000000000000013,
           0.19999999999999996,
           0.25,
           0.30000000000000004,
           0.3500000000000001,
           0.40000000000000013,
           0.44999999999999996,
           0.5,
           0.55,
           0.6000000000000001,
           0.6500000000000001,
           0.7,
           0.7500000000000002,
           0.8,
           0.8499999999999999,
           0.9000000000000001,
           0.95,
           1.0000000000000002,
           1.05,
           1.1000000000000003,
           1.1500000000000001,
           1.2,
           1.2500000000000002,
           1.3,
           1.3500000000000003,
           1.4000000000000001,
           1.45
          ],
          "sizemode": "area",
          "sizeref": 0.0036249999999999998,
          "symbol": "circle"
         },
         "mode": "markers",
         "name": "TRIANGLE more pos",
         "scene": "scene",
         "showlegend": true,
         "type": "scatter3d",
         "x": [
          0.9262971083760747,
          -0.3510058379718791,
          -1.2773024464461609,
          -2.0197468545509683,
          -2.037435260176377,
          -0.9177482058329544,
          1.7606526492554873,
          5.098432018503491,
          7.500033277067606,
          9.4270707922387,
          9.893719912295522,
          8.977429108532593,
          9.102656377964342,
          11.500959597833505,
          12.388047046330195,
          11.698247983667875,
          11.346349288088785,
          12.350193951763705,
          13.278747779886258,
          15.543724699917467,
          16.463279520797066,
          16.058112179569445,
          13.70141043201759,
          11.005973688211322,
          8.090847118786723,
          7.715416513624948,
          7.6835414475966,
          7.131270624565371
         ],
         "y": [
          4.196303012478423,
          4.665278210679762,
          5.692749755108472,
          7.198194480294468,
          7.65787690936479,
          7.9025803083623645,
          6.231385131161512,
          0.8353568187558417,
          -4.699451737770396,
          -7.38122494676385,
          -7.824672791169279,
          -5.860498993294797,
          -3.585462798338677,
          -1.8490833462251846,
          -2.098624997272165,
          -2.4854198523864373,
          -3.600455985797862,
          -4.197576479627298,
          -3.720705391885317,
          -2.5203867263195625,
          -2.856237376691762,
          -2.162492400430465,
          1.205797251852075,
          2.249311923862018,
          0.696558464753905,
          -2.1242146443838217,
          -4.796303197130213,
          -6.640079875335282
         ],
         "z": [
          -0.09286319189234349,
          -4.152153772244804,
          -4.977004825362828,
          -5.367340940856264,
          -7.579410089176277,
          -9.656193278594781,
          -10.082511808023368,
          -6.78011966275972,
          -4.136124161225189,
          -3.4636084852411644,
          -2.525999312656028,
          -0.13393627623630955,
          1.770913423009002,
          0.2970112314811995,
          0.903803866193912,
          0.5755551320299213,
          -0.23846136465050688,
          -5.394836392912676,
          -9.16919111384134,
          -7.756283421882344,
          -5.727431009805194,
          -5.604594844269169,
          -6.5057268532636225,
          -4.708669565469047,
          -1.4237268531249345,
          -0.674448351063565,
          -3.0472308924761973,
          -5.22973862677874
         ]
        }
       ],
       "layout": {
        "legend": {
         "itemsizing": "constant",
         "title": {
          "text": "Condition"
         },
         "tracegroupgap": 0
        },
        "margin": {
         "t": 60
        },
        "scene": {
         "domain": {
          "x": [
           0,
           1
          ],
          "y": [
           0,
           1
          ]
         },
         "xaxis": {
          "title": {
           "text": "PC1"
          }
         },
         "yaxis": {
          "title": {
           "text": "PC2"
          }
         },
         "zaxis": {
          "title": {
           "text": "PC3"
          }
         }
        },
        "template": {
         "data": {
          "bar": [
           {
            "error_x": {
             "color": "#2a3f5f"
            },
            "error_y": {
             "color": "#2a3f5f"
            },
            "marker": {
             "line": {
              "color": "#E5ECF6",
              "width": 0.5
             },
             "pattern": {
              "fillmode": "overlay",
              "size": 10,
              "solidity": 0.2
             }
            },
            "type": "bar"
           }
          ],
          "barpolar": [
           {
            "marker": {
             "line": {
              "color": "#E5ECF6",
              "width": 0.5
             },
             "pattern": {
              "fillmode": "overlay",
              "size": 10,
              "solidity": 0.2
             }
            },
            "type": "barpolar"
           }
          ],
          "carpet": [
           {
            "aaxis": {
             "endlinecolor": "#2a3f5f",
             "gridcolor": "white",
             "linecolor": "white",
             "minorgridcolor": "white",
             "startlinecolor": "#2a3f5f"
            },
            "baxis": {
             "endlinecolor": "#2a3f5f",
             "gridcolor": "white",
             "linecolor": "white",
             "minorgridcolor": "white",
             "startlinecolor": "#2a3f5f"
            },
            "type": "carpet"
           }
          ],
          "choropleth": [
           {
            "colorbar": {
             "outlinewidth": 0,
             "ticks": ""
            },
            "type": "choropleth"
           }
          ],
          "contour": [
           {
            "colorbar": {
             "outlinewidth": 0,
             "ticks": ""
            },
            "colorscale": [
             [
              0,
              "#0d0887"
             ],
             [
              0.1111111111111111,
              "#46039f"
             ],
             [
              0.2222222222222222,
              "#7201a8"
             ],
             [
              0.3333333333333333,
              "#9c179e"
             ],
             [
              0.4444444444444444,
              "#bd3786"
             ],
             [
              0.5555555555555556,
              "#d8576b"
             ],
             [
              0.6666666666666666,
              "#ed7953"
             ],
             [
              0.7777777777777778,
              "#fb9f3a"
             ],
             [
              0.8888888888888888,
              "#fdca26"
             ],
             [
              1,
              "#f0f921"
             ]
            ],
            "type": "contour"
           }
          ],
          "contourcarpet": [
           {
            "colorbar": {
             "outlinewidth": 0,
             "ticks": ""
            },
            "type": "contourcarpet"
           }
          ],
          "heatmap": [
           {
            "colorbar": {
             "outlinewidth": 0,
             "ticks": ""
            },
            "colorscale": [
             [
              0,
              "#0d0887"
             ],
             [
              0.1111111111111111,
              "#46039f"
             ],
             [
              0.2222222222222222,
              "#7201a8"
             ],
             [
              0.3333333333333333,
              "#9c179e"
             ],
             [
              0.4444444444444444,
              "#bd3786"
             ],
             [
              0.5555555555555556,
              "#d8576b"
             ],
             [
              0.6666666666666666,
              "#ed7953"
             ],
             [
              0.7777777777777778,
              "#fb9f3a"
             ],
             [
              0.8888888888888888,
              "#fdca26"
             ],
             [
              1,
              "#f0f921"
             ]
            ],
            "type": "heatmap"
           }
          ],
          "heatmapgl": [
           {
            "colorbar": {
             "outlinewidth": 0,
             "ticks": ""
            },
            "colorscale": [
             [
              0,
              "#0d0887"
             ],
             [
              0.1111111111111111,
              "#46039f"
             ],
             [
              0.2222222222222222,
              "#7201a8"
             ],
             [
              0.3333333333333333,
              "#9c179e"
             ],
             [
              0.4444444444444444,
              "#bd3786"
             ],
             [
              0.5555555555555556,
              "#d8576b"
             ],
             [
              0.6666666666666666,
              "#ed7953"
             ],
             [
              0.7777777777777778,
              "#fb9f3a"
             ],
             [
              0.8888888888888888,
              "#fdca26"
             ],
             [
              1,
              "#f0f921"
             ]
            ],
            "type": "heatmapgl"
           }
          ],
          "histogram": [
           {
            "marker": {
             "pattern": {
              "fillmode": "overlay",
              "size": 10,
              "solidity": 0.2
             }
            },
            "type": "histogram"
           }
          ],
          "histogram2d": [
           {
            "colorbar": {
             "outlinewidth": 0,
             "ticks": ""
            },
            "colorscale": [
             [
              0,
              "#0d0887"
             ],
             [
              0.1111111111111111,
              "#46039f"
             ],
             [
              0.2222222222222222,
              "#7201a8"
             ],
             [
              0.3333333333333333,
              "#9c179e"
             ],
             [
              0.4444444444444444,
              "#bd3786"
             ],
             [
              0.5555555555555556,
              "#d8576b"
             ],
             [
              0.6666666666666666,
              "#ed7953"
             ],
             [
              0.7777777777777778,
              "#fb9f3a"
             ],
             [
              0.8888888888888888,
              "#fdca26"
             ],
             [
              1,
              "#f0f921"
             ]
            ],
            "type": "histogram2d"
           }
          ],
          "histogram2dcontour": [
           {
            "colorbar": {
             "outlinewidth": 0,
             "ticks": ""
            },
            "colorscale": [
             [
              0,
              "#0d0887"
             ],
             [
              0.1111111111111111,
              "#46039f"
             ],
             [
              0.2222222222222222,
              "#7201a8"
             ],
             [
              0.3333333333333333,
              "#9c179e"
             ],
             [
              0.4444444444444444,
              "#bd3786"
             ],
             [
              0.5555555555555556,
              "#d8576b"
             ],
             [
              0.6666666666666666,
              "#ed7953"
             ],
             [
              0.7777777777777778,
              "#fb9f3a"
             ],
             [
              0.8888888888888888,
              "#fdca26"
             ],
             [
              1,
              "#f0f921"
             ]
            ],
            "type": "histogram2dcontour"
           }
          ],
          "mesh3d": [
           {
            "colorbar": {
             "outlinewidth": 0,
             "ticks": ""
            },
            "type": "mesh3d"
           }
          ],
          "parcoords": [
           {
            "line": {
             "colorbar": {
              "outlinewidth": 0,
              "ticks": ""
             }
            },
            "type": "parcoords"
           }
          ],
          "pie": [
           {
            "automargin": true,
            "type": "pie"
           }
          ],
          "scatter": [
           {
            "fillpattern": {
             "fillmode": "overlay",
             "size": 10,
             "solidity": 0.2
            },
            "type": "scatter"
           }
          ],
          "scatter3d": [
           {
            "line": {
             "colorbar": {
              "outlinewidth": 0,
              "ticks": ""
             }
            },
            "marker": {
             "colorbar": {
              "outlinewidth": 0,
              "ticks": ""
             }
            },
            "type": "scatter3d"
           }
          ],
          "scattercarpet": [
           {
            "marker": {
             "colorbar": {
              "outlinewidth": 0,
              "ticks": ""
             }
            },
            "type": "scattercarpet"
           }
          ],
          "scattergeo": [
           {
            "marker": {
             "colorbar": {
              "outlinewidth": 0,
              "ticks": ""
             }
            },
            "type": "scattergeo"
           }
          ],
          "scattergl": [
           {
            "marker": {
             "colorbar": {
              "outlinewidth": 0,
              "ticks": ""
             }
            },
            "type": "scattergl"
           }
          ],
          "scattermapbox": [
           {
            "marker": {
             "colorbar": {
              "outlinewidth": 0,
              "ticks": ""
             }
            },
            "type": "scattermapbox"
           }
          ],
          "scatterpolar": [
           {
            "marker": {
             "colorbar": {
              "outlinewidth": 0,
              "ticks": ""
             }
            },
            "type": "scatterpolar"
           }
          ],
          "scatterpolargl": [
           {
            "marker": {
             "colorbar": {
              "outlinewidth": 0,
              "ticks": ""
             }
            },
            "type": "scatterpolargl"
           }
          ],
          "scatterternary": [
           {
            "marker": {
             "colorbar": {
              "outlinewidth": 0,
              "ticks": ""
             }
            },
            "type": "scatterternary"
           }
          ],
          "surface": [
           {
            "colorbar": {
             "outlinewidth": 0,
             "ticks": ""
            },
            "colorscale": [
             [
              0,
              "#0d0887"
             ],
             [
              0.1111111111111111,
              "#46039f"
             ],
             [
              0.2222222222222222,
              "#7201a8"
             ],
             [
              0.3333333333333333,
              "#9c179e"
             ],
             [
              0.4444444444444444,
              "#bd3786"
             ],
             [
              0.5555555555555556,
              "#d8576b"
             ],
             [
              0.6666666666666666,
              "#ed7953"
             ],
             [
              0.7777777777777778,
              "#fb9f3a"
             ],
             [
              0.8888888888888888,
              "#fdca26"
             ],
             [
              1,
              "#f0f921"
             ]
            ],
            "type": "surface"
           }
          ],
          "table": [
           {
            "cells": {
             "fill": {
              "color": "#EBF0F8"
             },
             "line": {
              "color": "white"
             }
            },
            "header": {
             "fill": {
              "color": "#C8D4E3"
             },
             "line": {
              "color": "white"
             }
            },
            "type": "table"
           }
          ]
         },
         "layout": {
          "annotationdefaults": {
           "arrowcolor": "#2a3f5f",
           "arrowhead": 0,
           "arrowwidth": 1
          },
          "autotypenumbers": "strict",
          "coloraxis": {
           "colorbar": {
            "outlinewidth": 0,
            "ticks": ""
           }
          },
          "colorscale": {
           "diverging": [
            [
             0,
             "#8e0152"
            ],
            [
             0.1,
             "#c51b7d"
            ],
            [
             0.2,
             "#de77ae"
            ],
            [
             0.3,
             "#f1b6da"
            ],
            [
             0.4,
             "#fde0ef"
            ],
            [
             0.5,
             "#f7f7f7"
            ],
            [
             0.6,
             "#e6f5d0"
            ],
            [
             0.7,
             "#b8e186"
            ],
            [
             0.8,
             "#7fbc41"
            ],
            [
             0.9,
             "#4d9221"
            ],
            [
             1,
             "#276419"
            ]
           ],
           "sequential": [
            [
             0,
             "#0d0887"
            ],
            [
             0.1111111111111111,
             "#46039f"
            ],
            [
             0.2222222222222222,
             "#7201a8"
            ],
            [
             0.3333333333333333,
             "#9c179e"
            ],
            [
             0.4444444444444444,
             "#bd3786"
            ],
            [
             0.5555555555555556,
             "#d8576b"
            ],
            [
             0.6666666666666666,
             "#ed7953"
            ],
            [
             0.7777777777777778,
             "#fb9f3a"
            ],
            [
             0.8888888888888888,
             "#fdca26"
            ],
            [
             1,
             "#f0f921"
            ]
           ],
           "sequentialminus": [
            [
             0,
             "#0d0887"
            ],
            [
             0.1111111111111111,
             "#46039f"
            ],
            [
             0.2222222222222222,
             "#7201a8"
            ],
            [
             0.3333333333333333,
             "#9c179e"
            ],
            [
             0.4444444444444444,
             "#bd3786"
            ],
            [
             0.5555555555555556,
             "#d8576b"
            ],
            [
             0.6666666666666666,
             "#ed7953"
            ],
            [
             0.7777777777777778,
             "#fb9f3a"
            ],
            [
             0.8888888888888888,
             "#fdca26"
            ],
            [
             1,
             "#f0f921"
            ]
           ]
          },
          "colorway": [
           "#636efa",
           "#EF553B",
           "#00cc96",
           "#ab63fa",
           "#FFA15A",
           "#19d3f3",
           "#FF6692",
           "#B6E880",
           "#FF97FF",
           "#FECB52"
          ],
          "font": {
           "color": "#2a3f5f"
          },
          "geo": {
           "bgcolor": "white",
           "lakecolor": "white",
           "landcolor": "#E5ECF6",
           "showlakes": true,
           "showland": true,
           "subunitcolor": "white"
          },
          "hoverlabel": {
           "align": "left"
          },
          "hovermode": "closest",
          "mapbox": {
           "style": "light"
          },
          "paper_bgcolor": "white",
          "plot_bgcolor": "#E5ECF6",
          "polar": {
           "angularaxis": {
            "gridcolor": "white",
            "linecolor": "white",
            "ticks": ""
           },
           "bgcolor": "#E5ECF6",
           "radialaxis": {
            "gridcolor": "white",
            "linecolor": "white",
            "ticks": ""
           }
          },
          "scene": {
           "xaxis": {
            "backgroundcolor": "#E5ECF6",
            "gridcolor": "white",
            "gridwidth": 2,
            "linecolor": "white",
            "showbackground": true,
            "ticks": "",
            "zerolinecolor": "white"
           },
           "yaxis": {
            "backgroundcolor": "#E5ECF6",
            "gridcolor": "white",
            "gridwidth": 2,
            "linecolor": "white",
            "showbackground": true,
            "ticks": "",
            "zerolinecolor": "white"
           },
           "zaxis": {
            "backgroundcolor": "#E5ECF6",
            "gridcolor": "white",
            "gridwidth": 2,
            "linecolor": "white",
            "showbackground": true,
            "ticks": "",
            "zerolinecolor": "white"
           }
          },
          "shapedefaults": {
           "line": {
            "color": "#2a3f5f"
           }
          },
          "ternary": {
           "aaxis": {
            "gridcolor": "white",
            "linecolor": "white",
            "ticks": ""
           },
           "baxis": {
            "gridcolor": "white",
            "linecolor": "white",
            "ticks": ""
           },
           "bgcolor": "#E5ECF6",
           "caxis": {
            "gridcolor": "white",
            "linecolor": "white",
            "ticks": ""
           }
          },
          "title": {
           "x": 0.05
          },
          "xaxis": {
           "automargin": true,
           "gridcolor": "white",
           "linecolor": "white",
           "ticks": "",
           "title": {
            "standoff": 15
           },
           "zerolinecolor": "white",
           "zerolinewidth": 2
          },
          "yaxis": {
           "automargin": true,
           "gridcolor": "white",
           "linecolor": "white",
           "ticks": "",
           "title": {
            "standoff": 15
           },
           "zerolinecolor": "white",
           "zerolinewidth": 2
          }
         }
        }
       }
      },
      "text/html": [
       "<div>                            <div id=\"3e6bcea9-f02a-4300-9054-7fcf02527ded\" class=\"plotly-graph-div\" style=\"height:525px; width:100%;\"></div>            <script type=\"text/javascript\">                require([\"plotly\"], function(Plotly) {                    window.PLOTLYENV=window.PLOTLYENV || {};                                    if (document.getElementById(\"3e6bcea9-f02a-4300-9054-7fcf02527ded\")) {                    Plotly.newPlot(                        \"3e6bcea9-f02a-4300-9054-7fcf02527ded\",                        [{\"hovertemplate\":\"Condition=SQUARE less pos<br>PC1=%{x}<br>PC2=%{y}<br>PC3=%{z}<br>ZeroedTimeBins=%{marker.size}<extra></extra>\",\"legendgroup\":\"SQUARE less pos\",\"marker\":{\"color\":\"#636efa\",\"opacity\":1,\"size\":[0.10000000000000009,0.15000000000000013,0.19999999999999996,0.25,0.30000000000000004,0.3500000000000001,0.40000000000000013,0.44999999999999996,0.5,0.55,0.6000000000000001,0.6500000000000001,0.7,0.7500000000000002,0.8,0.8499999999999999,0.9000000000000001,0.95,1.0000000000000002,1.05,1.1000000000000003,1.1500000000000001,1.2,1.2500000000000002,1.3,1.3500000000000003,1.4000000000000001,1.45],\"sizemode\":\"area\",\"sizeref\":0.0036249999999999998,\"symbol\":\"circle\"},\"mode\":\"markers\",\"name\":\"SQUARE less pos\",\"scene\":\"scene\",\"showlegend\":true,\"x\":[3.694801579789766,4.035789003146843,2.0820552239757424,0.10766697728890998,-1.2438149211584986,-0.4805336155485688,0.9130365970041006,0.4075167559422126,-0.9740828382741177,-1.8441184188696953,0.2150154535908096,3.9872179096023275,4.167431582634088,5.49891323144012,7.301641395077062,5.733587754875456,2.9986931727850923,-0.6726498541059625,-3.5867083413191536,-4.103468504379733,-4.8976245558607605,-5.52059786390928,-5.262276266671846,-5.1970155458229925,-5.639076002591782,-4.8887915897488075,-4.027253226967546,-5.1721235351661745],\"y\":[0.6531146072363734,1.811898726888714,6.52825605066933,9.232572607599058,9.68533997750606,9.49474563187158,7.981716671061253,7.092716226342597,5.663266827735079,7.331071604346141,11.192964362020554,13.868188938738612,14.750279569276586,12.69233761825523,12.14346433990392,12.543750069359469,12.473005527255786,9.267191343724338,8.299963911091723,5.988207049334286,4.449324624228741,5.630597089300328,8.29453784062615,9.9059370959866,10.109892522974697,9.920880298641976,9.33597712613331,7.525552003908798],\"z\":[-2.7562335184410998,-1.4400981769312593,-0.5337645369949238,0.409061540622503,2.1325650513726764,3.413542024480036,3.089809833054625,2.6009280873040486,3.655244809676589,4.624066284137341,4.4913389628857345,3.0078892889396887,-0.7819001566573124,-4.421300845860038,-6.508406536765551,-6.737884407919046,-2.9830949150070887,3.6351212265574873,7.196383591986898,9.09539447939187,7.9496912645885365,7.889787510410523,9.537627684079892,8.729516981570514,6.58760320391006,7.13676506570992,12.285310898744683,16.97308775573633],\"type\":\"scatter3d\"},{\"hovertemplate\":\"Condition=SQUARE more pos<br>PC1=%{x}<br>PC2=%{y}<br>PC3=%{z}<br>ZeroedTimeBins=%{marker.size}<extra></extra>\",\"legendgroup\":\"SQUARE more pos\",\"marker\":{\"color\":\"#EF553B\",\"opacity\":1,\"size\":[0.10000000000000009,0.15000000000000013,0.19999999999999996,0.25,0.30000000000000004,0.3500000000000001,0.40000000000000013,0.44999999999999996,0.5,0.55,0.6000000000000001,0.6500000000000001,0.7,0.7500000000000002,0.8,0.8499999999999999,0.9000000000000001,0.95,1.0000000000000002,1.05,1.1000000000000003,1.1500000000000001,1.2,1.2500000000000002,1.3,1.3500000000000003,1.4000000000000001,1.45],\"sizemode\":\"area\",\"sizeref\":0.0036249999999999998,\"symbol\":\"circle\"},\"mode\":\"markers\",\"name\":\"SQUARE more pos\",\"scene\":\"scene\",\"showlegend\":true,\"x\":[0.8285147974062252,-0.23196575006738568,-3.465753611112693,-6.762996788188337,-9.857000687258834,-10.64326044285284,-10.892039367640589,-13.123393714185386,-15.188120513135711,-12.770342728066478,-10.386815695975628,-9.166306718663762,-9.427399700933515,-10.289449612325269,-11.686727002395543,-12.299544221022423,-13.464018997680926,-13.77392828922618,-13.05418777168557,-10.409506298661151,-10.193805485011602,-9.651616910070159,-9.316961940699628,-9.66801641391716,-9.358502342192617,-7.768492627952356,-6.784498262152236,-5.365039987269656],\"y\":[-2.2672595782796927,-2.9200796276676093,-4.9678527751121955,-4.292584487637152,-0.02477878375247454,0.2692403197452516,-1.6440916241448447,-1.7049646146574386,-2.091245398728735,-3.472651436504534,-5.688307885727796,-7.4746169746967395,-6.245441898206315,-5.655004039726009,-4.990977962775137,-4.522819682902815,-4.585348575394444,-7.183033910772238,-7.844020242844195,-7.041368917082096,-6.28832901421373,-6.832595420731461,-5.52122506296832,-2.3253631930818295,0.7557338739871278,2.8882326171732084,4.003371372407764,2.7498784836613592],\"z\":[-7.77486561176045,-7.254417495467389,-3.2310402703730343,-1.7150923785243841,-3.0604647165517926,-4.842584619471991,-6.129556396814478,-6.7800241398121415,-7.263609908730654,-5.265955238197491,-4.193118686786373,-3.722101487863515,-1.8660924310612887,-0.25001193489255946,-0.16050453604795817,-1.9434953211550456,-1.276054258653428,-0.8311188809802728,-1.352015170955876,-0.475336091718437,0.3251929333534733,-1.138945277460567,-4.3582505336531145,-8.07473401977647,-8.535024503640106,-5.718692673229056,-4.472733018667308,-6.985582694199413],\"type\":\"scatter3d\"},{\"hovertemplate\":\"Condition=TRIANGLE less pos<br>PC1=%{x}<br>PC2=%{y}<br>PC3=%{z}<br>ZeroedTimeBins=%{marker.size}<extra></extra>\",\"legendgroup\":\"TRIANGLE less pos\",\"marker\":{\"color\":\"#00cc96\",\"opacity\":1,\"size\":[0.10000000000000009,0.15000000000000013,0.19999999999999996,0.25,0.30000000000000004,0.3500000000000001,0.40000000000000013,0.44999999999999996,0.5,0.55,0.6000000000000001,0.6500000000000001,0.7,0.7500000000000002,0.8,0.8499999999999999,0.9000000000000001,0.95,1.0000000000000002,1.05,1.1000000000000003,1.1500000000000001,1.2,1.2500000000000002,1.3,1.3500000000000003,1.4000000000000001,1.45],\"sizemode\":\"area\",\"sizeref\":0.0036249999999999998,\"symbol\":\"circle\"},\"mode\":\"markers\",\"name\":\"TRIANGLE less pos\",\"scene\":\"scene\",\"showlegend\":true,\"x\":[0.8748629980741113,-1.412977742700563,-1.7789884272687948,-0.9156229686105218,0.21005119268001826,2.2784097088120228,4.596325485313643,5.755438856061143,4.873664717022472,3.1603396100742374,3.5478117703064775,3.993960720949175,4.0947220399036155,5.8129471770924654,8.880748292648663,9.047691837839574,7.282624181873127,4.849698887976038,2.3654668549878823,-0.229197865460359,-0.3113437623216199,0.24229099109110766,-0.4528291407963064,-1.254682859868244,-3.8818735835908744,-4.740144314127846,-1.979049920076809,-0.4115737236163546],\"y\":[0.7841490925928367,1.1763668478517182,0.22923733974920954,-1.7116033648320899,-1.8726119208055858,0.41746194024691624,1.768783411393509,2.122101620156343,-0.6868851447456289,-5.139181286158831,-9.246974131561478,-8.906526751105389,-6.637753485857628,-3.551400796198561,-3.804655351661896,-6.511957386772592,-9.422255556139573,-10.109078246456134,-9.123460657560244,-10.660094834657516,-12.948213217855075,-11.798134876925111,-9.487700020780798,-8.818280504381597,-6.667789358332386,-2.558322401793507,1.584900523425913,2.502131971929697],\"z\":[-3.913465167981339,-3.002660303414846,-2.955153356298806,-2.942145251075156,-1.3634395921824873,1.4616001985784954,2.091338728298934,2.6216087054944235,6.340367350797969,10.920658401938827,14.407778604104708,14.961249273234744,14.045113153631094,8.561601482433947,4.71401832003603,3.150319624084508,4.651052277443298,8.020156454448728,8.564951307031626,7.301979168883513,2.905977514808405,0.054697617968568646,1.8806792449865433,3.1212505294129143,3.17473579101679,2.7176352817596303,3.2084496523777557,6.248143341781024],\"type\":\"scatter3d\"},{\"hovertemplate\":\"Condition=TRIANGLE more pos<br>PC1=%{x}<br>PC2=%{y}<br>PC3=%{z}<br>ZeroedTimeBins=%{marker.size}<extra></extra>\",\"legendgroup\":\"TRIANGLE more pos\",\"marker\":{\"color\":\"#ab63fa\",\"opacity\":1,\"size\":[0.10000000000000009,0.15000000000000013,0.19999999999999996,0.25,0.30000000000000004,0.3500000000000001,0.40000000000000013,0.44999999999999996,0.5,0.55,0.6000000000000001,0.6500000000000001,0.7,0.7500000000000002,0.8,0.8499999999999999,0.9000000000000001,0.95,1.0000000000000002,1.05,1.1000000000000003,1.1500000000000001,1.2,1.2500000000000002,1.3,1.3500000000000003,1.4000000000000001,1.45],\"sizemode\":\"area\",\"sizeref\":0.0036249999999999998,\"symbol\":\"circle\"},\"mode\":\"markers\",\"name\":\"TRIANGLE more pos\",\"scene\":\"scene\",\"showlegend\":true,\"x\":[0.9262971083760747,-0.3510058379718791,-1.2773024464461609,-2.0197468545509683,-2.037435260176377,-0.9177482058329544,1.7606526492554873,5.098432018503491,7.500033277067606,9.4270707922387,9.893719912295522,8.977429108532593,9.102656377964342,11.500959597833505,12.388047046330195,11.698247983667875,11.346349288088785,12.350193951763705,13.278747779886258,15.543724699917467,16.463279520797066,16.058112179569445,13.70141043201759,11.005973688211322,8.090847118786723,7.715416513624948,7.6835414475966,7.131270624565371],\"y\":[4.196303012478423,4.665278210679762,5.692749755108472,7.198194480294468,7.65787690936479,7.9025803083623645,6.231385131161512,0.8353568187558417,-4.699451737770396,-7.38122494676385,-7.824672791169279,-5.860498993294797,-3.585462798338677,-1.8490833462251846,-2.098624997272165,-2.4854198523864373,-3.600455985797862,-4.197576479627298,-3.720705391885317,-2.5203867263195625,-2.856237376691762,-2.162492400430465,1.205797251852075,2.249311923862018,0.696558464753905,-2.1242146443838217,-4.796303197130213,-6.640079875335282],\"z\":[-0.09286319189234349,-4.152153772244804,-4.977004825362828,-5.367340940856264,-7.579410089176277,-9.656193278594781,-10.082511808023368,-6.78011966275972,-4.136124161225189,-3.4636084852411644,-2.525999312656028,-0.13393627623630955,1.770913423009002,0.2970112314811995,0.903803866193912,0.5755551320299213,-0.23846136465050688,-5.394836392912676,-9.16919111384134,-7.756283421882344,-5.727431009805194,-5.604594844269169,-6.5057268532636225,-4.708669565469047,-1.4237268531249345,-0.674448351063565,-3.0472308924761973,-5.22973862677874],\"type\":\"scatter3d\"}],                        {\"template\":{\"data\":{\"histogram2dcontour\":[{\"type\":\"histogram2dcontour\",\"colorbar\":{\"outlinewidth\":0,\"ticks\":\"\"},\"colorscale\":[[0.0,\"#0d0887\"],[0.1111111111111111,\"#46039f\"],[0.2222222222222222,\"#7201a8\"],[0.3333333333333333,\"#9c179e\"],[0.4444444444444444,\"#bd3786\"],[0.5555555555555556,\"#d8576b\"],[0.6666666666666666,\"#ed7953\"],[0.7777777777777778,\"#fb9f3a\"],[0.8888888888888888,\"#fdca26\"],[1.0,\"#f0f921\"]]}],\"choropleth\":[{\"type\":\"choropleth\",\"colorbar\":{\"outlinewidth\":0,\"ticks\":\"\"}}],\"histogram2d\":[{\"type\":\"histogram2d\",\"colorbar\":{\"outlinewidth\":0,\"ticks\":\"\"},\"colorscale\":[[0.0,\"#0d0887\"],[0.1111111111111111,\"#46039f\"],[0.2222222222222222,\"#7201a8\"],[0.3333333333333333,\"#9c179e\"],[0.4444444444444444,\"#bd3786\"],[0.5555555555555556,\"#d8576b\"],[0.6666666666666666,\"#ed7953\"],[0.7777777777777778,\"#fb9f3a\"],[0.8888888888888888,\"#fdca26\"],[1.0,\"#f0f921\"]]}],\"heatmap\":[{\"type\":\"heatmap\",\"colorbar\":{\"outlinewidth\":0,\"ticks\":\"\"},\"colorscale\":[[0.0,\"#0d0887\"],[0.1111111111111111,\"#46039f\"],[0.2222222222222222,\"#7201a8\"],[0.3333333333333333,\"#9c179e\"],[0.4444444444444444,\"#bd3786\"],[0.5555555555555556,\"#d8576b\"],[0.6666666666666666,\"#ed7953\"],[0.7777777777777778,\"#fb9f3a\"],[0.8888888888888888,\"#fdca26\"],[1.0,\"#f0f921\"]]}],\"heatmapgl\":[{\"type\":\"heatmapgl\",\"colorbar\":{\"outlinewidth\":0,\"ticks\":\"\"},\"colorscale\":[[0.0,\"#0d0887\"],[0.1111111111111111,\"#46039f\"],[0.2222222222222222,\"#7201a8\"],[0.3333333333333333,\"#9c179e\"],[0.4444444444444444,\"#bd3786\"],[0.5555555555555556,\"#d8576b\"],[0.6666666666666666,\"#ed7953\"],[0.7777777777777778,\"#fb9f3a\"],[0.8888888888888888,\"#fdca26\"],[1.0,\"#f0f921\"]]}],\"contourcarpet\":[{\"type\":\"contourcarpet\",\"colorbar\":{\"outlinewidth\":0,\"ticks\":\"\"}}],\"contour\":[{\"type\":\"contour\",\"colorbar\":{\"outlinewidth\":0,\"ticks\":\"\"},\"colorscale\":[[0.0,\"#0d0887\"],[0.1111111111111111,\"#46039f\"],[0.2222222222222222,\"#7201a8\"],[0.3333333333333333,\"#9c179e\"],[0.4444444444444444,\"#bd3786\"],[0.5555555555555556,\"#d8576b\"],[0.6666666666666666,\"#ed7953\"],[0.7777777777777778,\"#fb9f3a\"],[0.8888888888888888,\"#fdca26\"],[1.0,\"#f0f921\"]]}],\"surface\":[{\"type\":\"surface\",\"colorbar\":{\"outlinewidth\":0,\"ticks\":\"\"},\"colorscale\":[[0.0,\"#0d0887\"],[0.1111111111111111,\"#46039f\"],[0.2222222222222222,\"#7201a8\"],[0.3333333333333333,\"#9c179e\"],[0.4444444444444444,\"#bd3786\"],[0.5555555555555556,\"#d8576b\"],[0.6666666666666666,\"#ed7953\"],[0.7777777777777778,\"#fb9f3a\"],[0.8888888888888888,\"#fdca26\"],[1.0,\"#f0f921\"]]}],\"mesh3d\":[{\"type\":\"mesh3d\",\"colorbar\":{\"outlinewidth\":0,\"ticks\":\"\"}}],\"scatter\":[{\"fillpattern\":{\"fillmode\":\"overlay\",\"size\":10,\"solidity\":0.2},\"type\":\"scatter\"}],\"parcoords\":[{\"type\":\"parcoords\",\"line\":{\"colorbar\":{\"outlinewidth\":0,\"ticks\":\"\"}}}],\"scatterpolargl\":[{\"type\":\"scatterpolargl\",\"marker\":{\"colorbar\":{\"outlinewidth\":0,\"ticks\":\"\"}}}],\"bar\":[{\"error_x\":{\"color\":\"#2a3f5f\"},\"error_y\":{\"color\":\"#2a3f5f\"},\"marker\":{\"line\":{\"color\":\"#E5ECF6\",\"width\":0.5},\"pattern\":{\"fillmode\":\"overlay\",\"size\":10,\"solidity\":0.2}},\"type\":\"bar\"}],\"scattergeo\":[{\"type\":\"scattergeo\",\"marker\":{\"colorbar\":{\"outlinewidth\":0,\"ticks\":\"\"}}}],\"scatterpolar\":[{\"type\":\"scatterpolar\",\"marker\":{\"colorbar\":{\"outlinewidth\":0,\"ticks\":\"\"}}}],\"histogram\":[{\"marker\":{\"pattern\":{\"fillmode\":\"overlay\",\"size\":10,\"solidity\":0.2}},\"type\":\"histogram\"}],\"scattergl\":[{\"type\":\"scattergl\",\"marker\":{\"colorbar\":{\"outlinewidth\":0,\"ticks\":\"\"}}}],\"scatter3d\":[{\"type\":\"scatter3d\",\"line\":{\"colorbar\":{\"outlinewidth\":0,\"ticks\":\"\"}},\"marker\":{\"colorbar\":{\"outlinewidth\":0,\"ticks\":\"\"}}}],\"scattermapbox\":[{\"type\":\"scattermapbox\",\"marker\":{\"colorbar\":{\"outlinewidth\":0,\"ticks\":\"\"}}}],\"scatterternary\":[{\"type\":\"scatterternary\",\"marker\":{\"colorbar\":{\"outlinewidth\":0,\"ticks\":\"\"}}}],\"scattercarpet\":[{\"type\":\"scattercarpet\",\"marker\":{\"colorbar\":{\"outlinewidth\":0,\"ticks\":\"\"}}}],\"carpet\":[{\"aaxis\":{\"endlinecolor\":\"#2a3f5f\",\"gridcolor\":\"white\",\"linecolor\":\"white\",\"minorgridcolor\":\"white\",\"startlinecolor\":\"#2a3f5f\"},\"baxis\":{\"endlinecolor\":\"#2a3f5f\",\"gridcolor\":\"white\",\"linecolor\":\"white\",\"minorgridcolor\":\"white\",\"startlinecolor\":\"#2a3f5f\"},\"type\":\"carpet\"}],\"table\":[{\"cells\":{\"fill\":{\"color\":\"#EBF0F8\"},\"line\":{\"color\":\"white\"}},\"header\":{\"fill\":{\"color\":\"#C8D4E3\"},\"line\":{\"color\":\"white\"}},\"type\":\"table\"}],\"barpolar\":[{\"marker\":{\"line\":{\"color\":\"#E5ECF6\",\"width\":0.5},\"pattern\":{\"fillmode\":\"overlay\",\"size\":10,\"solidity\":0.2}},\"type\":\"barpolar\"}],\"pie\":[{\"automargin\":true,\"type\":\"pie\"}]},\"layout\":{\"autotypenumbers\":\"strict\",\"colorway\":[\"#636efa\",\"#EF553B\",\"#00cc96\",\"#ab63fa\",\"#FFA15A\",\"#19d3f3\",\"#FF6692\",\"#B6E880\",\"#FF97FF\",\"#FECB52\"],\"font\":{\"color\":\"#2a3f5f\"},\"hovermode\":\"closest\",\"hoverlabel\":{\"align\":\"left\"},\"paper_bgcolor\":\"white\",\"plot_bgcolor\":\"#E5ECF6\",\"polar\":{\"bgcolor\":\"#E5ECF6\",\"angularaxis\":{\"gridcolor\":\"white\",\"linecolor\":\"white\",\"ticks\":\"\"},\"radialaxis\":{\"gridcolor\":\"white\",\"linecolor\":\"white\",\"ticks\":\"\"}},\"ternary\":{\"bgcolor\":\"#E5ECF6\",\"aaxis\":{\"gridcolor\":\"white\",\"linecolor\":\"white\",\"ticks\":\"\"},\"baxis\":{\"gridcolor\":\"white\",\"linecolor\":\"white\",\"ticks\":\"\"},\"caxis\":{\"gridcolor\":\"white\",\"linecolor\":\"white\",\"ticks\":\"\"}},\"coloraxis\":{\"colorbar\":{\"outlinewidth\":0,\"ticks\":\"\"}},\"colorscale\":{\"sequential\":[[0.0,\"#0d0887\"],[0.1111111111111111,\"#46039f\"],[0.2222222222222222,\"#7201a8\"],[0.3333333333333333,\"#9c179e\"],[0.4444444444444444,\"#bd3786\"],[0.5555555555555556,\"#d8576b\"],[0.6666666666666666,\"#ed7953\"],[0.7777777777777778,\"#fb9f3a\"],[0.8888888888888888,\"#fdca26\"],[1.0,\"#f0f921\"]],\"sequentialminus\":[[0.0,\"#0d0887\"],[0.1111111111111111,\"#46039f\"],[0.2222222222222222,\"#7201a8\"],[0.3333333333333333,\"#9c179e\"],[0.4444444444444444,\"#bd3786\"],[0.5555555555555556,\"#d8576b\"],[0.6666666666666666,\"#ed7953\"],[0.7777777777777778,\"#fb9f3a\"],[0.8888888888888888,\"#fdca26\"],[1.0,\"#f0f921\"]],\"diverging\":[[0,\"#8e0152\"],[0.1,\"#c51b7d\"],[0.2,\"#de77ae\"],[0.3,\"#f1b6da\"],[0.4,\"#fde0ef\"],[0.5,\"#f7f7f7\"],[0.6,\"#e6f5d0\"],[0.7,\"#b8e186\"],[0.8,\"#7fbc41\"],[0.9,\"#4d9221\"],[1,\"#276419\"]]},\"xaxis\":{\"gridcolor\":\"white\",\"linecolor\":\"white\",\"ticks\":\"\",\"title\":{\"standoff\":15},\"zerolinecolor\":\"white\",\"automargin\":true,\"zerolinewidth\":2},\"yaxis\":{\"gridcolor\":\"white\",\"linecolor\":\"white\",\"ticks\":\"\",\"title\":{\"standoff\":15},\"zerolinecolor\":\"white\",\"automargin\":true,\"zerolinewidth\":2},\"scene\":{\"xaxis\":{\"backgroundcolor\":\"#E5ECF6\",\"gridcolor\":\"white\",\"linecolor\":\"white\",\"showbackground\":true,\"ticks\":\"\",\"zerolinecolor\":\"white\",\"gridwidth\":2},\"yaxis\":{\"backgroundcolor\":\"#E5ECF6\",\"gridcolor\":\"white\",\"linecolor\":\"white\",\"showbackground\":true,\"ticks\":\"\",\"zerolinecolor\":\"white\",\"gridwidth\":2},\"zaxis\":{\"backgroundcolor\":\"#E5ECF6\",\"gridcolor\":\"white\",\"linecolor\":\"white\",\"showbackground\":true,\"ticks\":\"\",\"zerolinecolor\":\"white\",\"gridwidth\":2}},\"shapedefaults\":{\"line\":{\"color\":\"#2a3f5f\"}},\"annotationdefaults\":{\"arrowcolor\":\"#2a3f5f\",\"arrowhead\":0,\"arrowwidth\":1},\"geo\":{\"bgcolor\":\"white\",\"landcolor\":\"#E5ECF6\",\"subunitcolor\":\"white\",\"showland\":true,\"showlakes\":true,\"lakecolor\":\"white\"},\"title\":{\"x\":0.05},\"mapbox\":{\"style\":\"light\"}}},\"scene\":{\"domain\":{\"x\":[0.0,1.0],\"y\":[0.0,1.0]},\"xaxis\":{\"title\":{\"text\":\"PC1\"}},\"yaxis\":{\"title\":{\"text\":\"PC2\"}},\"zaxis\":{\"title\":{\"text\":\"PC3\"}}},\"legend\":{\"title\":{\"text\":\"Condition\"},\"tracegroupgap\":0,\"itemsizing\":\"constant\"},\"margin\":{\"t\":60}},                        {\"responsive\": true}                    ).then(function(){\n",
       "                            \n",
       "var gd = document.getElementById('3e6bcea9-f02a-4300-9054-7fcf02527ded');\n",
       "var x = new MutationObserver(function (mutations, observer) {{\n",
       "        var display = window.getComputedStyle(gd).display;\n",
       "        if (!display || display === 'none') {{\n",
       "            console.log([gd, 'removed!']);\n",
       "            Plotly.purge(gd);\n",
       "            observer.disconnect();\n",
       "        }}\n",
       "}});\n",
       "\n",
       "// Listen for the removal of the full notebook cells\n",
       "var notebookContainer = gd.closest('#notebook-container');\n",
       "if (notebookContainer) {{\n",
       "    x.observe(notebookContainer, {childList: true});\n",
       "}}\n",
       "\n",
       "// Listen for the clearing of the current output cell\n",
       "var outputEl = gd.closest('.output');\n",
       "if (outputEl) {{\n",
       "    x.observe(outputEl, {childList: true});\n",
       "}}\n",
       "\n",
       "                        })                };                });            </script>        </div>"
      ]
     },
     "metadata": {},
     "output_type": "display_data"
    }
   ],
   "source": [
    "fig = px.scatter_3d(\n",
    "    transformed_df, \n",
    "    x='PC1', y='PC2', z='PC3',\n",
    "    color='Condition', \n",
    "    opacity=1,\n",
    "    size='ZeroedTimeBins',\n",
    "    # color_discrete_sequence=colors\n",
    ")\n",
    "fig.write_html(\"/data/patrick_res/figures/pca_max.html\")\n",
    "fig.show()\n"
   ]
  },
  {
   "cell_type": "code",
   "execution_count": 64,
   "metadata": {},
   "outputs": [
    {
     "data": {
      "application/vnd.plotly.v1+json": {
       "config": {
        "plotlyServerURL": "https://plot.ly"
       },
       "data": [
        {
         "hovertemplate": "Condition=SQUARE less pos<br>PC1=%{x}<br>PC2=%{y}<br>PC3=%{z}<br>ZeroedTimeBins=%{marker.size}<extra></extra>",
         "legendgroup": "SQUARE less pos",
         "marker": {
          "color": "#636efa",
          "opacity": 1,
          "size": [
           0.10000000000000009,
           0.15000000000000013,
           0.19999999999999996,
           0.25,
           0.30000000000000004,
           0.3500000000000001,
           0.40000000000000013,
           0.44999999999999996,
           0.5,
           0.55,
           0.6000000000000001,
           0.6500000000000001,
           0.7,
           0.7500000000000002,
           0.8,
           0.8499999999999999,
           0.9000000000000001,
           0.95,
           1.0000000000000002,
           1.05,
           1.1000000000000003,
           1.1500000000000001,
           1.2,
           1.2500000000000002,
           1.3,
           1.3500000000000003,
           1.4000000000000001,
           1.45
          ],
          "sizemode": "area",
          "sizeref": 0.0036249999999999998,
          "symbol": "circle"
         },
         "mode": "markers",
         "name": "SQUARE less pos",
         "scene": "scene",
         "showlegend": true,
         "type": "scatter3d",
         "x": [
          -5.931390207845473,
          -7.963322046075995,
          -8.876360371178325,
          -7.982176301058686,
          -5.848216131492401,
          -5.47571153960036,
          -5.601128036571122,
          -3.9453028353795467,
          -1.5631395024596175,
          0.2915777209471971,
          2.3230232553532275,
          3.2877458733279914,
          4.988411281082527,
          4.7711671605454615,
          4.088699995952649,
          0.5129350223063814,
          -4.179210520440696,
          -7.063790947359317,
          -5.3094992321212064,
          -5.594241508538036,
          -4.146731991368384,
          -1.0755826507542428,
          0.7941090339300771,
          0.26911219156432375,
          -0.7017558549770112,
          -2.4687785997434437,
          -6.913156499200468,
          -13.665105572238817
         ],
         "y": [
          -0.864649369857631,
          1.173088732770731,
          3.3729059092253437,
          3.0270474004200913,
          2.1102087256339495,
          1.436524474179577,
          1.681189911684893,
          2.08058265302473,
          -0.19946245637188162,
          -4.085936243866974,
          -7.3255832062628095,
          -10.120725263048017,
          -12.596279292229122,
          -11.957987109493633,
          -10.834039268758858,
          -8.907764502472741,
          -8.142444817870624,
          -8.204330612092074,
          -10.8155229289218,
          -11.163060052225054,
          -10.832407914089274,
          -10.557288279934793,
          -11.150036247626868,
          -10.7607023521647,
          -8.65833182767232,
          -2.4710952211857102,
          2.72459695496159,
          4.431249564413138
         ],
         "z": [
          -2.3181717899081056,
          -1.6430328017115972,
          -1.6258337701230345,
          -1.881431331341791,
          -2.935956301009401,
          -3.752090575302905,
          -5.042593139666394,
          -7.555464302883321,
          -7.810594360133252,
          -7.232137582333628,
          -7.193613261821818,
          -7.618047599864936,
          -7.733113715920752,
          -6.320699338196167,
          -3.1043622583259194,
          2.2578637234675147,
          8.142826663243875,
          10.629700087996218,
          7.818458208876398,
          6.431254928272353,
          3.2993545649558946,
          1.7286793267167322,
          2.830284064029514,
          3.2186033847544873,
          3.409951605491078,
          2.4800742126786703,
          1.2404250794139884,
          0.6093817762654543
         ]
        },
        {
         "hovertemplate": "Condition=SQUARE more pos<br>PC1=%{x}<br>PC2=%{y}<br>PC3=%{z}<br>ZeroedTimeBins=%{marker.size}<extra></extra>",
         "legendgroup": "SQUARE more pos",
         "marker": {
          "color": "#EF553B",
          "opacity": 1,
          "size": [
           0.10000000000000009,
           0.15000000000000013,
           0.19999999999999996,
           0.25,
           0.30000000000000004,
           0.3500000000000001,
           0.40000000000000013,
           0.44999999999999996,
           0.5,
           0.55,
           0.6000000000000001,
           0.6500000000000001,
           0.7,
           0.7500000000000002,
           0.8,
           0.8499999999999999,
           0.9000000000000001,
           0.95,
           1.0000000000000002,
           1.05,
           1.1000000000000003,
           1.1500000000000001,
           1.2,
           1.2500000000000002,
           1.3,
           1.3500000000000003,
           1.4000000000000001,
           1.45
          ],
          "sizemode": "area",
          "sizeref": 0.0036249999999999998,
          "symbol": "circle"
         },
         "mode": "markers",
         "name": "SQUARE more pos",
         "scene": "scene",
         "showlegend": true,
         "type": "scatter3d",
         "x": [
          3.941137502576214,
          1.9334195762678212,
          1.206989149275482,
          -1.701350158719545,
          -6.347024383364017,
          -9.246344351684446,
          -7.951639039877903,
          -5.465561269920867,
          -5.191528523914875,
          -7.738218590724518,
          -8.6942634892274,
          -7.624912028460668,
          -3.843755180528991,
          -0.5967961755432593,
          0.2509398232305166,
          -2.3828357374764564,
          -2.8852464139854748,
          -2.761940592229235,
          -0.9017544717411331,
          -0.3156251103776933,
          0.03457347757920615,
          -0.3110707890036575,
          0.8013828026805889,
          0.7244987868406655,
          1.0047344028861411,
          -0.006258900441529143,
          0.8730630942897892,
          3.7586775458140997
         ],
         "y": [
          -1.6767414219728534,
          -0.9072210873669119,
          -1.9846197622077426,
          -0.5681283159499705,
          3.113086837696912,
          5.473600579066798,
          6.391230943397372,
          6.640043914742922,
          4.717425704586618,
          3.2062977181780092,
          4.6528688377917335,
          8.059081051901593,
          11.568271532825468,
          12.47257391557622,
          10.914058955920169,
          12.454212040586748,
          13.001564791021897,
          12.059462963260836,
          7.712997622781875,
          5.183039453589107,
          4.261546815576877,
          2.1893215254151652,
          -1.6926500204546022,
          -4.0182857489554795,
          -3.3801895678300857,
          0.5920565231813575,
          4.428707630411089,
          5.11631325729053
         ],
         "z": [
          -1.34095682685384,
          -8.431613064017238,
          -10.935501303953917,
          -8.034113906031187,
          -2.272148155078672,
          2.2041790931429,
          4.581057694285017,
          3.5824508522476908,
          0.780757478221823,
          0.8802072397704522,
          0.6093998695813038,
          -2.465190099945332,
          -6.6966601477634375,
          -9.572418619786893,
          -12.82628534601508,
          -14.335598961327866,
          -11.806142990471084,
          -8.204742656859432,
          -8.93240848647532,
          -8.478063970325211,
          -9.219302490878441,
          -9.891372545120293,
          -8.170101835358263,
          -3.0776118967154127,
          3.341571615928534,
          9.245544564861527,
          13.950776609873792,
          14.564387955265593
         ]
        },
        {
         "hovertemplate": "Condition=TRIANGLE less pos<br>PC1=%{x}<br>PC2=%{y}<br>PC3=%{z}<br>ZeroedTimeBins=%{marker.size}<extra></extra>",
         "legendgroup": "TRIANGLE less pos",
         "marker": {
          "color": "#00cc96",
          "opacity": 1,
          "size": [
           0.10000000000000009,
           0.15000000000000013,
           0.19999999999999996,
           0.25,
           0.30000000000000004,
           0.3500000000000001,
           0.40000000000000013,
           0.44999999999999996,
           0.5,
           0.55,
           0.6000000000000001,
           0.6500000000000001,
           0.7,
           0.7500000000000002,
           0.8,
           0.8499999999999999,
           0.9000000000000001,
           0.95,
           1.0000000000000002,
           1.05,
           1.1000000000000003,
           1.1500000000000001,
           1.2,
           1.2500000000000002,
           1.3,
           1.3500000000000003,
           1.4000000000000001,
           1.45
          ],
          "sizemode": "area",
          "sizeref": 0.0036249999999999998,
          "symbol": "circle"
         },
         "mode": "markers",
         "name": "TRIANGLE less pos",
         "scene": "scene",
         "showlegend": true,
         "type": "scatter3d",
         "x": [
          8.035188578060518,
          6.264528855599269,
          3.795078956581142,
          3.2818247029677448,
          6.399363886359043,
          11.038912219208767,
          11.241564552587759,
          9.04012139314869,
          8.72655116166884,
          13.568752423173507,
          18.54163598231674,
          18.141992318341373,
          10.911441729251207,
          6.191132885536409,
          5.716092369372783,
          7.175346658548533,
          8.551361075585364,
          9.933888886834332,
          11.3410884723674,
          9.918997716289429,
          5.502857197686477,
          0.09915852948253776,
          -1.2325612147803358,
          2.6322794749449407,
          9.26470907478758,
          14.921765135398378,
          18.055554757084717,
          19.2285755436386
         ],
         "y": [
          -0.8165100230263145,
          0.013217029375814829,
          1.9885167962411738,
          4.063656836295604,
          5.479708654315562,
          4.282679758083754,
          3.2557200574395906,
          3.923963449060677,
          4.3449832940980855,
          1.801225112853719,
          -3.695451975400362,
          -5.446703878264647,
          -1.0076467667934423,
          4.103445260018362,
          4.346508006000524,
          2.0622883325947643,
          1.6322186112140413,
          2.9046881256907837,
          3.5813694134780456,
          5.755055997495712,
          8.242374223282775,
          10.486251998974065,
          10.353690428287663,
          9.36359822908674,
          5.534078444717134,
          2.6563118028865693,
          -0.11708389303950195,
          -2.5304579446908426
         ],
         "z": [
          -3.35355072831513,
          -2.7948196923788324,
          -2.681107725029789,
          -2.530802588781498,
          -2.722726309418319,
          -1.0044909053770175,
          -0.18363608793994063,
          0.2317340517257736,
          -0.1862755476566689,
          -3.271655150981298,
          -3.0399429052726976,
          1.7484804602092263,
          7.699418983389777,
          6.620473545196229,
          4.427027946560836,
          5.080479679542321,
          8.787266966663053,
          9.48704157416001,
          9.050489514341226,
          10.667688382098648,
          11.960382248495874,
          12.042038624677492,
          11.904988701871154,
          8.389580941830792,
          4.28756442864841,
          1.609278332408438,
          0.47154568629469745,
          0.17321619591996118
         ]
        },
        {
         "hovertemplate": "Condition=TRIANGLE more pos<br>PC1=%{x}<br>PC2=%{y}<br>PC3=%{z}<br>ZeroedTimeBins=%{marker.size}<extra></extra>",
         "legendgroup": "TRIANGLE more pos",
         "marker": {
          "color": "#ab63fa",
          "opacity": 1,
          "size": [
           0.10000000000000009,
           0.15000000000000013,
           0.19999999999999996,
           0.25,
           0.30000000000000004,
           0.3500000000000001,
           0.40000000000000013,
           0.44999999999999996,
           0.5,
           0.55,
           0.6000000000000001,
           0.6500000000000001,
           0.7,
           0.7500000000000002,
           0.8,
           0.8499999999999999,
           0.9000000000000001,
           0.95,
           1.0000000000000002,
           1.05,
           1.1000000000000003,
           1.1500000000000001,
           1.2,
           1.2500000000000002,
           1.3,
           1.3500000000000003,
           1.4000000000000001,
           1.45
          ],
          "sizemode": "area",
          "sizeref": 0.0036249999999999998,
          "symbol": "circle"
         },
         "mode": "markers",
         "name": "TRIANGLE more pos",
         "scene": "scene",
         "showlegend": true,
         "type": "scatter3d",
         "x": [
          -3.05329238278634,
          -1.840243880852807,
          1.6625733582080373,
          4.088664213631977,
          2.3627180465108606,
          -0.19871265342602534,
          -3.0144454853736002,
          -5.3721953538994995,
          -6.174123674154229,
          -7.780032022327677,
          -9.813797478117927,
          -8.184223508507326,
          -6.182197040456339,
          -8.441165184520141,
          -11.74454541412019,
          -9.408628631923383,
          -7.4547666530304,
          -6.543515972496227,
          -1.3324238134554027,
          2.8942281192359385,
          2.9105603165298426,
          0.16131504623574694,
          -2.355259662526834,
          -4.976526237286776,
          -6.021285403122379,
          -6.362124074339374,
          -6.398218760899196,
          -5.3010112755976495
         ],
         "y": [
          -5.725550388714578,
          -5.160004868254042,
          -4.450164735674018,
          -3.943868790101574,
          -5.296227138114482,
          -8.02530920904436,
          -10.720080772091672,
          -11.543453808825038,
          -11.31201642456365,
          -11.344893342723312,
          -8.839903601304009,
          -4.808956483037903,
          -2.5938549768026786,
          0.6419952136836847,
          1.7657658085825034,
          1.2447070831191223,
          0.6769366323607326,
          -0.10582181523421998,
          -3.006683457083472,
          -3.590918722826834,
          -2.816384505932966,
          -0.3691183177180054,
          4.26501064820757,
          6.165826824964142,
          4.053647517762954,
          0.9112974921578657,
          0.8301751399262477,
          4.166479566775134
         ],
         "z": [
          -4.209833099663535,
          -4.97031879818718,
          -4.976864294799882,
          -5.9267572466015945,
          -6.1234694337272515,
          -4.037724575737043,
          -2.5776149875558545,
          -1.5354941118885168,
          -0.5185072943597031,
          2.6275767158592824,
          4.836118940388022,
          3.168153917731655,
          2.7892881947775905,
          4.868453017508187,
          8.686123512558833,
          8.134918777088968,
          8.4963422737541,
          5.068967744367752,
          -1.399008625120057,
          -4.950893939838392,
          -3.166545145150869,
          2.61861519675057,
          8.2891030609172,
          8.687750169630023,
          4.266402705502635,
          -0.5229344148065901,
          -4.040024511560436,
          -5.831327538541524
         ]
        }
       ],
       "layout": {
        "legend": {
         "itemsizing": "constant",
         "title": {
          "text": "Condition"
         },
         "tracegroupgap": 0
        },
        "margin": {
         "t": 60
        },
        "scene": {
         "domain": {
          "x": [
           0,
           1
          ],
          "y": [
           0,
           1
          ]
         },
         "xaxis": {
          "title": {
           "text": "PC1"
          }
         },
         "yaxis": {
          "title": {
           "text": "PC2"
          }
         },
         "zaxis": {
          "title": {
           "text": "PC3"
          }
         }
        },
        "template": {
         "data": {
          "bar": [
           {
            "error_x": {
             "color": "#2a3f5f"
            },
            "error_y": {
             "color": "#2a3f5f"
            },
            "marker": {
             "line": {
              "color": "#E5ECF6",
              "width": 0.5
             },
             "pattern": {
              "fillmode": "overlay",
              "size": 10,
              "solidity": 0.2
             }
            },
            "type": "bar"
           }
          ],
          "barpolar": [
           {
            "marker": {
             "line": {
              "color": "#E5ECF6",
              "width": 0.5
             },
             "pattern": {
              "fillmode": "overlay",
              "size": 10,
              "solidity": 0.2
             }
            },
            "type": "barpolar"
           }
          ],
          "carpet": [
           {
            "aaxis": {
             "endlinecolor": "#2a3f5f",
             "gridcolor": "white",
             "linecolor": "white",
             "minorgridcolor": "white",
             "startlinecolor": "#2a3f5f"
            },
            "baxis": {
             "endlinecolor": "#2a3f5f",
             "gridcolor": "white",
             "linecolor": "white",
             "minorgridcolor": "white",
             "startlinecolor": "#2a3f5f"
            },
            "type": "carpet"
           }
          ],
          "choropleth": [
           {
            "colorbar": {
             "outlinewidth": 0,
             "ticks": ""
            },
            "type": "choropleth"
           }
          ],
          "contour": [
           {
            "colorbar": {
             "outlinewidth": 0,
             "ticks": ""
            },
            "colorscale": [
             [
              0,
              "#0d0887"
             ],
             [
              0.1111111111111111,
              "#46039f"
             ],
             [
              0.2222222222222222,
              "#7201a8"
             ],
             [
              0.3333333333333333,
              "#9c179e"
             ],
             [
              0.4444444444444444,
              "#bd3786"
             ],
             [
              0.5555555555555556,
              "#d8576b"
             ],
             [
              0.6666666666666666,
              "#ed7953"
             ],
             [
              0.7777777777777778,
              "#fb9f3a"
             ],
             [
              0.8888888888888888,
              "#fdca26"
             ],
             [
              1,
              "#f0f921"
             ]
            ],
            "type": "contour"
           }
          ],
          "contourcarpet": [
           {
            "colorbar": {
             "outlinewidth": 0,
             "ticks": ""
            },
            "type": "contourcarpet"
           }
          ],
          "heatmap": [
           {
            "colorbar": {
             "outlinewidth": 0,
             "ticks": ""
            },
            "colorscale": [
             [
              0,
              "#0d0887"
             ],
             [
              0.1111111111111111,
              "#46039f"
             ],
             [
              0.2222222222222222,
              "#7201a8"
             ],
             [
              0.3333333333333333,
              "#9c179e"
             ],
             [
              0.4444444444444444,
              "#bd3786"
             ],
             [
              0.5555555555555556,
              "#d8576b"
             ],
             [
              0.6666666666666666,
              "#ed7953"
             ],
             [
              0.7777777777777778,
              "#fb9f3a"
             ],
             [
              0.8888888888888888,
              "#fdca26"
             ],
             [
              1,
              "#f0f921"
             ]
            ],
            "type": "heatmap"
           }
          ],
          "heatmapgl": [
           {
            "colorbar": {
             "outlinewidth": 0,
             "ticks": ""
            },
            "colorscale": [
             [
              0,
              "#0d0887"
             ],
             [
              0.1111111111111111,
              "#46039f"
             ],
             [
              0.2222222222222222,
              "#7201a8"
             ],
             [
              0.3333333333333333,
              "#9c179e"
             ],
             [
              0.4444444444444444,
              "#bd3786"
             ],
             [
              0.5555555555555556,
              "#d8576b"
             ],
             [
              0.6666666666666666,
              "#ed7953"
             ],
             [
              0.7777777777777778,
              "#fb9f3a"
             ],
             [
              0.8888888888888888,
              "#fdca26"
             ],
             [
              1,
              "#f0f921"
             ]
            ],
            "type": "heatmapgl"
           }
          ],
          "histogram": [
           {
            "marker": {
             "pattern": {
              "fillmode": "overlay",
              "size": 10,
              "solidity": 0.2
             }
            },
            "type": "histogram"
           }
          ],
          "histogram2d": [
           {
            "colorbar": {
             "outlinewidth": 0,
             "ticks": ""
            },
            "colorscale": [
             [
              0,
              "#0d0887"
             ],
             [
              0.1111111111111111,
              "#46039f"
             ],
             [
              0.2222222222222222,
              "#7201a8"
             ],
             [
              0.3333333333333333,
              "#9c179e"
             ],
             [
              0.4444444444444444,
              "#bd3786"
             ],
             [
              0.5555555555555556,
              "#d8576b"
             ],
             [
              0.6666666666666666,
              "#ed7953"
             ],
             [
              0.7777777777777778,
              "#fb9f3a"
             ],
             [
              0.8888888888888888,
              "#fdca26"
             ],
             [
              1,
              "#f0f921"
             ]
            ],
            "type": "histogram2d"
           }
          ],
          "histogram2dcontour": [
           {
            "colorbar": {
             "outlinewidth": 0,
             "ticks": ""
            },
            "colorscale": [
             [
              0,
              "#0d0887"
             ],
             [
              0.1111111111111111,
              "#46039f"
             ],
             [
              0.2222222222222222,
              "#7201a8"
             ],
             [
              0.3333333333333333,
              "#9c179e"
             ],
             [
              0.4444444444444444,
              "#bd3786"
             ],
             [
              0.5555555555555556,
              "#d8576b"
             ],
             [
              0.6666666666666666,
              "#ed7953"
             ],
             [
              0.7777777777777778,
              "#fb9f3a"
             ],
             [
              0.8888888888888888,
              "#fdca26"
             ],
             [
              1,
              "#f0f921"
             ]
            ],
            "type": "histogram2dcontour"
           }
          ],
          "mesh3d": [
           {
            "colorbar": {
             "outlinewidth": 0,
             "ticks": ""
            },
            "type": "mesh3d"
           }
          ],
          "parcoords": [
           {
            "line": {
             "colorbar": {
              "outlinewidth": 0,
              "ticks": ""
             }
            },
            "type": "parcoords"
           }
          ],
          "pie": [
           {
            "automargin": true,
            "type": "pie"
           }
          ],
          "scatter": [
           {
            "fillpattern": {
             "fillmode": "overlay",
             "size": 10,
             "solidity": 0.2
            },
            "type": "scatter"
           }
          ],
          "scatter3d": [
           {
            "line": {
             "colorbar": {
              "outlinewidth": 0,
              "ticks": ""
             }
            },
            "marker": {
             "colorbar": {
              "outlinewidth": 0,
              "ticks": ""
             }
            },
            "type": "scatter3d"
           }
          ],
          "scattercarpet": [
           {
            "marker": {
             "colorbar": {
              "outlinewidth": 0,
              "ticks": ""
             }
            },
            "type": "scattercarpet"
           }
          ],
          "scattergeo": [
           {
            "marker": {
             "colorbar": {
              "outlinewidth": 0,
              "ticks": ""
             }
            },
            "type": "scattergeo"
           }
          ],
          "scattergl": [
           {
            "marker": {
             "colorbar": {
              "outlinewidth": 0,
              "ticks": ""
             }
            },
            "type": "scattergl"
           }
          ],
          "scattermapbox": [
           {
            "marker": {
             "colorbar": {
              "outlinewidth": 0,
              "ticks": ""
             }
            },
            "type": "scattermapbox"
           }
          ],
          "scatterpolar": [
           {
            "marker": {
             "colorbar": {
              "outlinewidth": 0,
              "ticks": ""
             }
            },
            "type": "scatterpolar"
           }
          ],
          "scatterpolargl": [
           {
            "marker": {
             "colorbar": {
              "outlinewidth": 0,
              "ticks": ""
             }
            },
            "type": "scatterpolargl"
           }
          ],
          "scatterternary": [
           {
            "marker": {
             "colorbar": {
              "outlinewidth": 0,
              "ticks": ""
             }
            },
            "type": "scatterternary"
           }
          ],
          "surface": [
           {
            "colorbar": {
             "outlinewidth": 0,
             "ticks": ""
            },
            "colorscale": [
             [
              0,
              "#0d0887"
             ],
             [
              0.1111111111111111,
              "#46039f"
             ],
             [
              0.2222222222222222,
              "#7201a8"
             ],
             [
              0.3333333333333333,
              "#9c179e"
             ],
             [
              0.4444444444444444,
              "#bd3786"
             ],
             [
              0.5555555555555556,
              "#d8576b"
             ],
             [
              0.6666666666666666,
              "#ed7953"
             ],
             [
              0.7777777777777778,
              "#fb9f3a"
             ],
             [
              0.8888888888888888,
              "#fdca26"
             ],
             [
              1,
              "#f0f921"
             ]
            ],
            "type": "surface"
           }
          ],
          "table": [
           {
            "cells": {
             "fill": {
              "color": "#EBF0F8"
             },
             "line": {
              "color": "white"
             }
            },
            "header": {
             "fill": {
              "color": "#C8D4E3"
             },
             "line": {
              "color": "white"
             }
            },
            "type": "table"
           }
          ]
         },
         "layout": {
          "annotationdefaults": {
           "arrowcolor": "#2a3f5f",
           "arrowhead": 0,
           "arrowwidth": 1
          },
          "autotypenumbers": "strict",
          "coloraxis": {
           "colorbar": {
            "outlinewidth": 0,
            "ticks": ""
           }
          },
          "colorscale": {
           "diverging": [
            [
             0,
             "#8e0152"
            ],
            [
             0.1,
             "#c51b7d"
            ],
            [
             0.2,
             "#de77ae"
            ],
            [
             0.3,
             "#f1b6da"
            ],
            [
             0.4,
             "#fde0ef"
            ],
            [
             0.5,
             "#f7f7f7"
            ],
            [
             0.6,
             "#e6f5d0"
            ],
            [
             0.7,
             "#b8e186"
            ],
            [
             0.8,
             "#7fbc41"
            ],
            [
             0.9,
             "#4d9221"
            ],
            [
             1,
             "#276419"
            ]
           ],
           "sequential": [
            [
             0,
             "#0d0887"
            ],
            [
             0.1111111111111111,
             "#46039f"
            ],
            [
             0.2222222222222222,
             "#7201a8"
            ],
            [
             0.3333333333333333,
             "#9c179e"
            ],
            [
             0.4444444444444444,
             "#bd3786"
            ],
            [
             0.5555555555555556,
             "#d8576b"
            ],
            [
             0.6666666666666666,
             "#ed7953"
            ],
            [
             0.7777777777777778,
             "#fb9f3a"
            ],
            [
             0.8888888888888888,
             "#fdca26"
            ],
            [
             1,
             "#f0f921"
            ]
           ],
           "sequentialminus": [
            [
             0,
             "#0d0887"
            ],
            [
             0.1111111111111111,
             "#46039f"
            ],
            [
             0.2222222222222222,
             "#7201a8"
            ],
            [
             0.3333333333333333,
             "#9c179e"
            ],
            [
             0.4444444444444444,
             "#bd3786"
            ],
            [
             0.5555555555555556,
             "#d8576b"
            ],
            [
             0.6666666666666666,
             "#ed7953"
            ],
            [
             0.7777777777777778,
             "#fb9f3a"
            ],
            [
             0.8888888888888888,
             "#fdca26"
            ],
            [
             1,
             "#f0f921"
            ]
           ]
          },
          "colorway": [
           "#636efa",
           "#EF553B",
           "#00cc96",
           "#ab63fa",
           "#FFA15A",
           "#19d3f3",
           "#FF6692",
           "#B6E880",
           "#FF97FF",
           "#FECB52"
          ],
          "font": {
           "color": "#2a3f5f"
          },
          "geo": {
           "bgcolor": "white",
           "lakecolor": "white",
           "landcolor": "#E5ECF6",
           "showlakes": true,
           "showland": true,
           "subunitcolor": "white"
          },
          "hoverlabel": {
           "align": "left"
          },
          "hovermode": "closest",
          "mapbox": {
           "style": "light"
          },
          "paper_bgcolor": "white",
          "plot_bgcolor": "#E5ECF6",
          "polar": {
           "angularaxis": {
            "gridcolor": "white",
            "linecolor": "white",
            "ticks": ""
           },
           "bgcolor": "#E5ECF6",
           "radialaxis": {
            "gridcolor": "white",
            "linecolor": "white",
            "ticks": ""
           }
          },
          "scene": {
           "xaxis": {
            "backgroundcolor": "#E5ECF6",
            "gridcolor": "white",
            "gridwidth": 2,
            "linecolor": "white",
            "showbackground": true,
            "ticks": "",
            "zerolinecolor": "white"
           },
           "yaxis": {
            "backgroundcolor": "#E5ECF6",
            "gridcolor": "white",
            "gridwidth": 2,
            "linecolor": "white",
            "showbackground": true,
            "ticks": "",
            "zerolinecolor": "white"
           },
           "zaxis": {
            "backgroundcolor": "#E5ECF6",
            "gridcolor": "white",
            "gridwidth": 2,
            "linecolor": "white",
            "showbackground": true,
            "ticks": "",
            "zerolinecolor": "white"
           }
          },
          "shapedefaults": {
           "line": {
            "color": "#2a3f5f"
           }
          },
          "ternary": {
           "aaxis": {
            "gridcolor": "white",
            "linecolor": "white",
            "ticks": ""
           },
           "baxis": {
            "gridcolor": "white",
            "linecolor": "white",
            "ticks": ""
           },
           "bgcolor": "#E5ECF6",
           "caxis": {
            "gridcolor": "white",
            "linecolor": "white",
            "ticks": ""
           }
          },
          "title": {
           "x": 0.05
          },
          "xaxis": {
           "automargin": true,
           "gridcolor": "white",
           "linecolor": "white",
           "ticks": "",
           "title": {
            "standoff": 15
           },
           "zerolinecolor": "white",
           "zerolinewidth": 2
          },
          "yaxis": {
           "automargin": true,
           "gridcolor": "white",
           "linecolor": "white",
           "ticks": "",
           "title": {
            "standoff": 15
           },
           "zerolinecolor": "white",
           "zerolinewidth": 2
          }
         }
        }
       }
      },
      "text/html": [
       "<div>                            <div id=\"40d00d3e-efac-49d8-8410-413201c28d67\" class=\"plotly-graph-div\" style=\"height:525px; width:100%;\"></div>            <script type=\"text/javascript\">                require([\"plotly\"], function(Plotly) {                    window.PLOTLYENV=window.PLOTLYENV || {};                                    if (document.getElementById(\"40d00d3e-efac-49d8-8410-413201c28d67\")) {                    Plotly.newPlot(                        \"40d00d3e-efac-49d8-8410-413201c28d67\",                        [{\"hovertemplate\":\"Condition=SQUARE less pos<br>PC1=%{x}<br>PC2=%{y}<br>PC3=%{z}<br>ZeroedTimeBins=%{marker.size}<extra></extra>\",\"legendgroup\":\"SQUARE less pos\",\"marker\":{\"color\":\"#636efa\",\"opacity\":1,\"size\":[0.10000000000000009,0.15000000000000013,0.19999999999999996,0.25,0.30000000000000004,0.3500000000000001,0.40000000000000013,0.44999999999999996,0.5,0.55,0.6000000000000001,0.6500000000000001,0.7,0.7500000000000002,0.8,0.8499999999999999,0.9000000000000001,0.95,1.0000000000000002,1.05,1.1000000000000003,1.1500000000000001,1.2,1.2500000000000002,1.3,1.3500000000000003,1.4000000000000001,1.45],\"sizemode\":\"area\",\"sizeref\":0.0036249999999999998,\"symbol\":\"circle\"},\"mode\":\"markers\",\"name\":\"SQUARE less pos\",\"scene\":\"scene\",\"showlegend\":true,\"x\":[-5.931390207845473,-7.963322046075995,-8.876360371178325,-7.982176301058686,-5.848216131492401,-5.47571153960036,-5.601128036571122,-3.9453028353795467,-1.5631395024596175,0.2915777209471971,2.3230232553532275,3.2877458733279914,4.988411281082527,4.7711671605454615,4.088699995952649,0.5129350223063814,-4.179210520440696,-7.063790947359317,-5.3094992321212064,-5.594241508538036,-4.146731991368384,-1.0755826507542428,0.7941090339300771,0.26911219156432375,-0.7017558549770112,-2.4687785997434437,-6.913156499200468,-13.665105572238817],\"y\":[-0.864649369857631,1.173088732770731,3.3729059092253437,3.0270474004200913,2.1102087256339495,1.436524474179577,1.681189911684893,2.08058265302473,-0.19946245637188162,-4.085936243866974,-7.3255832062628095,-10.120725263048017,-12.596279292229122,-11.957987109493633,-10.834039268758858,-8.907764502472741,-8.142444817870624,-8.204330612092074,-10.8155229289218,-11.163060052225054,-10.832407914089274,-10.557288279934793,-11.150036247626868,-10.7607023521647,-8.65833182767232,-2.4710952211857102,2.72459695496159,4.431249564413138],\"z\":[-2.3181717899081056,-1.6430328017115972,-1.6258337701230345,-1.881431331341791,-2.935956301009401,-3.752090575302905,-5.042593139666394,-7.555464302883321,-7.810594360133252,-7.232137582333628,-7.193613261821818,-7.618047599864936,-7.733113715920752,-6.320699338196167,-3.1043622583259194,2.2578637234675147,8.142826663243875,10.629700087996218,7.818458208876398,6.431254928272353,3.2993545649558946,1.7286793267167322,2.830284064029514,3.2186033847544873,3.409951605491078,2.4800742126786703,1.2404250794139884,0.6093817762654543],\"type\":\"scatter3d\"},{\"hovertemplate\":\"Condition=SQUARE more pos<br>PC1=%{x}<br>PC2=%{y}<br>PC3=%{z}<br>ZeroedTimeBins=%{marker.size}<extra></extra>\",\"legendgroup\":\"SQUARE more pos\",\"marker\":{\"color\":\"#EF553B\",\"opacity\":1,\"size\":[0.10000000000000009,0.15000000000000013,0.19999999999999996,0.25,0.30000000000000004,0.3500000000000001,0.40000000000000013,0.44999999999999996,0.5,0.55,0.6000000000000001,0.6500000000000001,0.7,0.7500000000000002,0.8,0.8499999999999999,0.9000000000000001,0.95,1.0000000000000002,1.05,1.1000000000000003,1.1500000000000001,1.2,1.2500000000000002,1.3,1.3500000000000003,1.4000000000000001,1.45],\"sizemode\":\"area\",\"sizeref\":0.0036249999999999998,\"symbol\":\"circle\"},\"mode\":\"markers\",\"name\":\"SQUARE more pos\",\"scene\":\"scene\",\"showlegend\":true,\"x\":[3.941137502576214,1.9334195762678212,1.206989149275482,-1.701350158719545,-6.347024383364017,-9.246344351684446,-7.951639039877903,-5.465561269920867,-5.191528523914875,-7.738218590724518,-8.6942634892274,-7.624912028460668,-3.843755180528991,-0.5967961755432593,0.2509398232305166,-2.3828357374764564,-2.8852464139854748,-2.761940592229235,-0.9017544717411331,-0.3156251103776933,0.03457347757920615,-0.3110707890036575,0.8013828026805889,0.7244987868406655,1.0047344028861411,-0.006258900441529143,0.8730630942897892,3.7586775458140997],\"y\":[-1.6767414219728534,-0.9072210873669119,-1.9846197622077426,-0.5681283159499705,3.113086837696912,5.473600579066798,6.391230943397372,6.640043914742922,4.717425704586618,3.2062977181780092,4.6528688377917335,8.059081051901593,11.568271532825468,12.47257391557622,10.914058955920169,12.454212040586748,13.001564791021897,12.059462963260836,7.712997622781875,5.183039453589107,4.261546815576877,2.1893215254151652,-1.6926500204546022,-4.0182857489554795,-3.3801895678300857,0.5920565231813575,4.428707630411089,5.11631325729053],\"z\":[-1.34095682685384,-8.431613064017238,-10.935501303953917,-8.034113906031187,-2.272148155078672,2.2041790931429,4.581057694285017,3.5824508522476908,0.780757478221823,0.8802072397704522,0.6093998695813038,-2.465190099945332,-6.6966601477634375,-9.572418619786893,-12.82628534601508,-14.335598961327866,-11.806142990471084,-8.204742656859432,-8.93240848647532,-8.478063970325211,-9.219302490878441,-9.891372545120293,-8.170101835358263,-3.0776118967154127,3.341571615928534,9.245544564861527,13.950776609873792,14.564387955265593],\"type\":\"scatter3d\"},{\"hovertemplate\":\"Condition=TRIANGLE less pos<br>PC1=%{x}<br>PC2=%{y}<br>PC3=%{z}<br>ZeroedTimeBins=%{marker.size}<extra></extra>\",\"legendgroup\":\"TRIANGLE less pos\",\"marker\":{\"color\":\"#00cc96\",\"opacity\":1,\"size\":[0.10000000000000009,0.15000000000000013,0.19999999999999996,0.25,0.30000000000000004,0.3500000000000001,0.40000000000000013,0.44999999999999996,0.5,0.55,0.6000000000000001,0.6500000000000001,0.7,0.7500000000000002,0.8,0.8499999999999999,0.9000000000000001,0.95,1.0000000000000002,1.05,1.1000000000000003,1.1500000000000001,1.2,1.2500000000000002,1.3,1.3500000000000003,1.4000000000000001,1.45],\"sizemode\":\"area\",\"sizeref\":0.0036249999999999998,\"symbol\":\"circle\"},\"mode\":\"markers\",\"name\":\"TRIANGLE less pos\",\"scene\":\"scene\",\"showlegend\":true,\"x\":[8.035188578060518,6.264528855599269,3.795078956581142,3.2818247029677448,6.399363886359043,11.038912219208767,11.241564552587759,9.04012139314869,8.72655116166884,13.568752423173507,18.54163598231674,18.141992318341373,10.911441729251207,6.191132885536409,5.716092369372783,7.175346658548533,8.551361075585364,9.933888886834332,11.3410884723674,9.918997716289429,5.502857197686477,0.09915852948253776,-1.2325612147803358,2.6322794749449407,9.26470907478758,14.921765135398378,18.055554757084717,19.2285755436386],\"y\":[-0.8165100230263145,0.013217029375814829,1.9885167962411738,4.063656836295604,5.479708654315562,4.282679758083754,3.2557200574395906,3.923963449060677,4.3449832940980855,1.801225112853719,-3.695451975400362,-5.446703878264647,-1.0076467667934423,4.103445260018362,4.346508006000524,2.0622883325947643,1.6322186112140413,2.9046881256907837,3.5813694134780456,5.755055997495712,8.242374223282775,10.486251998974065,10.353690428287663,9.36359822908674,5.534078444717134,2.6563118028865693,-0.11708389303950195,-2.5304579446908426],\"z\":[-3.35355072831513,-2.7948196923788324,-2.681107725029789,-2.530802588781498,-2.722726309418319,-1.0044909053770175,-0.18363608793994063,0.2317340517257736,-0.1862755476566689,-3.271655150981298,-3.0399429052726976,1.7484804602092263,7.699418983389777,6.620473545196229,4.427027946560836,5.080479679542321,8.787266966663053,9.48704157416001,9.050489514341226,10.667688382098648,11.960382248495874,12.042038624677492,11.904988701871154,8.389580941830792,4.28756442864841,1.609278332408438,0.47154568629469745,0.17321619591996118],\"type\":\"scatter3d\"},{\"hovertemplate\":\"Condition=TRIANGLE more pos<br>PC1=%{x}<br>PC2=%{y}<br>PC3=%{z}<br>ZeroedTimeBins=%{marker.size}<extra></extra>\",\"legendgroup\":\"TRIANGLE more pos\",\"marker\":{\"color\":\"#ab63fa\",\"opacity\":1,\"size\":[0.10000000000000009,0.15000000000000013,0.19999999999999996,0.25,0.30000000000000004,0.3500000000000001,0.40000000000000013,0.44999999999999996,0.5,0.55,0.6000000000000001,0.6500000000000001,0.7,0.7500000000000002,0.8,0.8499999999999999,0.9000000000000001,0.95,1.0000000000000002,1.05,1.1000000000000003,1.1500000000000001,1.2,1.2500000000000002,1.3,1.3500000000000003,1.4000000000000001,1.45],\"sizemode\":\"area\",\"sizeref\":0.0036249999999999998,\"symbol\":\"circle\"},\"mode\":\"markers\",\"name\":\"TRIANGLE more pos\",\"scene\":\"scene\",\"showlegend\":true,\"x\":[-3.05329238278634,-1.840243880852807,1.6625733582080373,4.088664213631977,2.3627180465108606,-0.19871265342602534,-3.0144454853736002,-5.3721953538994995,-6.174123674154229,-7.780032022327677,-9.813797478117927,-8.184223508507326,-6.182197040456339,-8.441165184520141,-11.74454541412019,-9.408628631923383,-7.4547666530304,-6.543515972496227,-1.3324238134554027,2.8942281192359385,2.9105603165298426,0.16131504623574694,-2.355259662526834,-4.976526237286776,-6.021285403122379,-6.362124074339374,-6.398218760899196,-5.3010112755976495],\"y\":[-5.725550388714578,-5.160004868254042,-4.450164735674018,-3.943868790101574,-5.296227138114482,-8.02530920904436,-10.720080772091672,-11.543453808825038,-11.31201642456365,-11.344893342723312,-8.839903601304009,-4.808956483037903,-2.5938549768026786,0.6419952136836847,1.7657658085825034,1.2447070831191223,0.6769366323607326,-0.10582181523421998,-3.006683457083472,-3.590918722826834,-2.816384505932966,-0.3691183177180054,4.26501064820757,6.165826824964142,4.053647517762954,0.9112974921578657,0.8301751399262477,4.166479566775134],\"z\":[-4.209833099663535,-4.97031879818718,-4.976864294799882,-5.9267572466015945,-6.1234694337272515,-4.037724575737043,-2.5776149875558545,-1.5354941118885168,-0.5185072943597031,2.6275767158592824,4.836118940388022,3.168153917731655,2.7892881947775905,4.868453017508187,8.686123512558833,8.134918777088968,8.4963422737541,5.068967744367752,-1.399008625120057,-4.950893939838392,-3.166545145150869,2.61861519675057,8.2891030609172,8.687750169630023,4.266402705502635,-0.5229344148065901,-4.040024511560436,-5.831327538541524],\"type\":\"scatter3d\"}],                        {\"template\":{\"data\":{\"histogram2dcontour\":[{\"type\":\"histogram2dcontour\",\"colorbar\":{\"outlinewidth\":0,\"ticks\":\"\"},\"colorscale\":[[0.0,\"#0d0887\"],[0.1111111111111111,\"#46039f\"],[0.2222222222222222,\"#7201a8\"],[0.3333333333333333,\"#9c179e\"],[0.4444444444444444,\"#bd3786\"],[0.5555555555555556,\"#d8576b\"],[0.6666666666666666,\"#ed7953\"],[0.7777777777777778,\"#fb9f3a\"],[0.8888888888888888,\"#fdca26\"],[1.0,\"#f0f921\"]]}],\"choropleth\":[{\"type\":\"choropleth\",\"colorbar\":{\"outlinewidth\":0,\"ticks\":\"\"}}],\"histogram2d\":[{\"type\":\"histogram2d\",\"colorbar\":{\"outlinewidth\":0,\"ticks\":\"\"},\"colorscale\":[[0.0,\"#0d0887\"],[0.1111111111111111,\"#46039f\"],[0.2222222222222222,\"#7201a8\"],[0.3333333333333333,\"#9c179e\"],[0.4444444444444444,\"#bd3786\"],[0.5555555555555556,\"#d8576b\"],[0.6666666666666666,\"#ed7953\"],[0.7777777777777778,\"#fb9f3a\"],[0.8888888888888888,\"#fdca26\"],[1.0,\"#f0f921\"]]}],\"heatmap\":[{\"type\":\"heatmap\",\"colorbar\":{\"outlinewidth\":0,\"ticks\":\"\"},\"colorscale\":[[0.0,\"#0d0887\"],[0.1111111111111111,\"#46039f\"],[0.2222222222222222,\"#7201a8\"],[0.3333333333333333,\"#9c179e\"],[0.4444444444444444,\"#bd3786\"],[0.5555555555555556,\"#d8576b\"],[0.6666666666666666,\"#ed7953\"],[0.7777777777777778,\"#fb9f3a\"],[0.8888888888888888,\"#fdca26\"],[1.0,\"#f0f921\"]]}],\"heatmapgl\":[{\"type\":\"heatmapgl\",\"colorbar\":{\"outlinewidth\":0,\"ticks\":\"\"},\"colorscale\":[[0.0,\"#0d0887\"],[0.1111111111111111,\"#46039f\"],[0.2222222222222222,\"#7201a8\"],[0.3333333333333333,\"#9c179e\"],[0.4444444444444444,\"#bd3786\"],[0.5555555555555556,\"#d8576b\"],[0.6666666666666666,\"#ed7953\"],[0.7777777777777778,\"#fb9f3a\"],[0.8888888888888888,\"#fdca26\"],[1.0,\"#f0f921\"]]}],\"contourcarpet\":[{\"type\":\"contourcarpet\",\"colorbar\":{\"outlinewidth\":0,\"ticks\":\"\"}}],\"contour\":[{\"type\":\"contour\",\"colorbar\":{\"outlinewidth\":0,\"ticks\":\"\"},\"colorscale\":[[0.0,\"#0d0887\"],[0.1111111111111111,\"#46039f\"],[0.2222222222222222,\"#7201a8\"],[0.3333333333333333,\"#9c179e\"],[0.4444444444444444,\"#bd3786\"],[0.5555555555555556,\"#d8576b\"],[0.6666666666666666,\"#ed7953\"],[0.7777777777777778,\"#fb9f3a\"],[0.8888888888888888,\"#fdca26\"],[1.0,\"#f0f921\"]]}],\"surface\":[{\"type\":\"surface\",\"colorbar\":{\"outlinewidth\":0,\"ticks\":\"\"},\"colorscale\":[[0.0,\"#0d0887\"],[0.1111111111111111,\"#46039f\"],[0.2222222222222222,\"#7201a8\"],[0.3333333333333333,\"#9c179e\"],[0.4444444444444444,\"#bd3786\"],[0.5555555555555556,\"#d8576b\"],[0.6666666666666666,\"#ed7953\"],[0.7777777777777778,\"#fb9f3a\"],[0.8888888888888888,\"#fdca26\"],[1.0,\"#f0f921\"]]}],\"mesh3d\":[{\"type\":\"mesh3d\",\"colorbar\":{\"outlinewidth\":0,\"ticks\":\"\"}}],\"scatter\":[{\"fillpattern\":{\"fillmode\":\"overlay\",\"size\":10,\"solidity\":0.2},\"type\":\"scatter\"}],\"parcoords\":[{\"type\":\"parcoords\",\"line\":{\"colorbar\":{\"outlinewidth\":0,\"ticks\":\"\"}}}],\"scatterpolargl\":[{\"type\":\"scatterpolargl\",\"marker\":{\"colorbar\":{\"outlinewidth\":0,\"ticks\":\"\"}}}],\"bar\":[{\"error_x\":{\"color\":\"#2a3f5f\"},\"error_y\":{\"color\":\"#2a3f5f\"},\"marker\":{\"line\":{\"color\":\"#E5ECF6\",\"width\":0.5},\"pattern\":{\"fillmode\":\"overlay\",\"size\":10,\"solidity\":0.2}},\"type\":\"bar\"}],\"scattergeo\":[{\"type\":\"scattergeo\",\"marker\":{\"colorbar\":{\"outlinewidth\":0,\"ticks\":\"\"}}}],\"scatterpolar\":[{\"type\":\"scatterpolar\",\"marker\":{\"colorbar\":{\"outlinewidth\":0,\"ticks\":\"\"}}}],\"histogram\":[{\"marker\":{\"pattern\":{\"fillmode\":\"overlay\",\"size\":10,\"solidity\":0.2}},\"type\":\"histogram\"}],\"scattergl\":[{\"type\":\"scattergl\",\"marker\":{\"colorbar\":{\"outlinewidth\":0,\"ticks\":\"\"}}}],\"scatter3d\":[{\"type\":\"scatter3d\",\"line\":{\"colorbar\":{\"outlinewidth\":0,\"ticks\":\"\"}},\"marker\":{\"colorbar\":{\"outlinewidth\":0,\"ticks\":\"\"}}}],\"scattermapbox\":[{\"type\":\"scattermapbox\",\"marker\":{\"colorbar\":{\"outlinewidth\":0,\"ticks\":\"\"}}}],\"scatterternary\":[{\"type\":\"scatterternary\",\"marker\":{\"colorbar\":{\"outlinewidth\":0,\"ticks\":\"\"}}}],\"scattercarpet\":[{\"type\":\"scattercarpet\",\"marker\":{\"colorbar\":{\"outlinewidth\":0,\"ticks\":\"\"}}}],\"carpet\":[{\"aaxis\":{\"endlinecolor\":\"#2a3f5f\",\"gridcolor\":\"white\",\"linecolor\":\"white\",\"minorgridcolor\":\"white\",\"startlinecolor\":\"#2a3f5f\"},\"baxis\":{\"endlinecolor\":\"#2a3f5f\",\"gridcolor\":\"white\",\"linecolor\":\"white\",\"minorgridcolor\":\"white\",\"startlinecolor\":\"#2a3f5f\"},\"type\":\"carpet\"}],\"table\":[{\"cells\":{\"fill\":{\"color\":\"#EBF0F8\"},\"line\":{\"color\":\"white\"}},\"header\":{\"fill\":{\"color\":\"#C8D4E3\"},\"line\":{\"color\":\"white\"}},\"type\":\"table\"}],\"barpolar\":[{\"marker\":{\"line\":{\"color\":\"#E5ECF6\",\"width\":0.5},\"pattern\":{\"fillmode\":\"overlay\",\"size\":10,\"solidity\":0.2}},\"type\":\"barpolar\"}],\"pie\":[{\"automargin\":true,\"type\":\"pie\"}]},\"layout\":{\"autotypenumbers\":\"strict\",\"colorway\":[\"#636efa\",\"#EF553B\",\"#00cc96\",\"#ab63fa\",\"#FFA15A\",\"#19d3f3\",\"#FF6692\",\"#B6E880\",\"#FF97FF\",\"#FECB52\"],\"font\":{\"color\":\"#2a3f5f\"},\"hovermode\":\"closest\",\"hoverlabel\":{\"align\":\"left\"},\"paper_bgcolor\":\"white\",\"plot_bgcolor\":\"#E5ECF6\",\"polar\":{\"bgcolor\":\"#E5ECF6\",\"angularaxis\":{\"gridcolor\":\"white\",\"linecolor\":\"white\",\"ticks\":\"\"},\"radialaxis\":{\"gridcolor\":\"white\",\"linecolor\":\"white\",\"ticks\":\"\"}},\"ternary\":{\"bgcolor\":\"#E5ECF6\",\"aaxis\":{\"gridcolor\":\"white\",\"linecolor\":\"white\",\"ticks\":\"\"},\"baxis\":{\"gridcolor\":\"white\",\"linecolor\":\"white\",\"ticks\":\"\"},\"caxis\":{\"gridcolor\":\"white\",\"linecolor\":\"white\",\"ticks\":\"\"}},\"coloraxis\":{\"colorbar\":{\"outlinewidth\":0,\"ticks\":\"\"}},\"colorscale\":{\"sequential\":[[0.0,\"#0d0887\"],[0.1111111111111111,\"#46039f\"],[0.2222222222222222,\"#7201a8\"],[0.3333333333333333,\"#9c179e\"],[0.4444444444444444,\"#bd3786\"],[0.5555555555555556,\"#d8576b\"],[0.6666666666666666,\"#ed7953\"],[0.7777777777777778,\"#fb9f3a\"],[0.8888888888888888,\"#fdca26\"],[1.0,\"#f0f921\"]],\"sequentialminus\":[[0.0,\"#0d0887\"],[0.1111111111111111,\"#46039f\"],[0.2222222222222222,\"#7201a8\"],[0.3333333333333333,\"#9c179e\"],[0.4444444444444444,\"#bd3786\"],[0.5555555555555556,\"#d8576b\"],[0.6666666666666666,\"#ed7953\"],[0.7777777777777778,\"#fb9f3a\"],[0.8888888888888888,\"#fdca26\"],[1.0,\"#f0f921\"]],\"diverging\":[[0,\"#8e0152\"],[0.1,\"#c51b7d\"],[0.2,\"#de77ae\"],[0.3,\"#f1b6da\"],[0.4,\"#fde0ef\"],[0.5,\"#f7f7f7\"],[0.6,\"#e6f5d0\"],[0.7,\"#b8e186\"],[0.8,\"#7fbc41\"],[0.9,\"#4d9221\"],[1,\"#276419\"]]},\"xaxis\":{\"gridcolor\":\"white\",\"linecolor\":\"white\",\"ticks\":\"\",\"title\":{\"standoff\":15},\"zerolinecolor\":\"white\",\"automargin\":true,\"zerolinewidth\":2},\"yaxis\":{\"gridcolor\":\"white\",\"linecolor\":\"white\",\"ticks\":\"\",\"title\":{\"standoff\":15},\"zerolinecolor\":\"white\",\"automargin\":true,\"zerolinewidth\":2},\"scene\":{\"xaxis\":{\"backgroundcolor\":\"#E5ECF6\",\"gridcolor\":\"white\",\"linecolor\":\"white\",\"showbackground\":true,\"ticks\":\"\",\"zerolinecolor\":\"white\",\"gridwidth\":2},\"yaxis\":{\"backgroundcolor\":\"#E5ECF6\",\"gridcolor\":\"white\",\"linecolor\":\"white\",\"showbackground\":true,\"ticks\":\"\",\"zerolinecolor\":\"white\",\"gridwidth\":2},\"zaxis\":{\"backgroundcolor\":\"#E5ECF6\",\"gridcolor\":\"white\",\"linecolor\":\"white\",\"showbackground\":true,\"ticks\":\"\",\"zerolinecolor\":\"white\",\"gridwidth\":2}},\"shapedefaults\":{\"line\":{\"color\":\"#2a3f5f\"}},\"annotationdefaults\":{\"arrowcolor\":\"#2a3f5f\",\"arrowhead\":0,\"arrowwidth\":1},\"geo\":{\"bgcolor\":\"white\",\"landcolor\":\"#E5ECF6\",\"subunitcolor\":\"white\",\"showland\":true,\"showlakes\":true,\"lakecolor\":\"white\"},\"title\":{\"x\":0.05},\"mapbox\":{\"style\":\"light\"}}},\"scene\":{\"domain\":{\"x\":[0.0,1.0],\"y\":[0.0,1.0]},\"xaxis\":{\"title\":{\"text\":\"PC1\"}},\"yaxis\":{\"title\":{\"text\":\"PC2\"}},\"zaxis\":{\"title\":{\"text\":\"PC3\"}}},\"legend\":{\"title\":{\"text\":\"Condition\"},\"tracegroupgap\":0,\"itemsizing\":\"constant\"},\"margin\":{\"t\":60}},                        {\"responsive\": true}                    ).then(function(){\n",
       "                            \n",
       "var gd = document.getElementById('40d00d3e-efac-49d8-8410-413201c28d67');\n",
       "var x = new MutationObserver(function (mutations, observer) {{\n",
       "        var display = window.getComputedStyle(gd).display;\n",
       "        if (!display || display === 'none') {{\n",
       "            console.log([gd, 'removed!']);\n",
       "            Plotly.purge(gd);\n",
       "            observer.disconnect();\n",
       "        }}\n",
       "}});\n",
       "\n",
       "// Listen for the removal of the full notebook cells\n",
       "var notebookContainer = gd.closest('#notebook-container');\n",
       "if (notebookContainer) {{\n",
       "    x.observe(notebookContainer, {childList: true});\n",
       "}}\n",
       "\n",
       "// Listen for the clearing of the current output cell\n",
       "var outputEl = gd.closest('.output');\n",
       "if (outputEl) {{\n",
       "    x.observe(outputEl, {childList: true});\n",
       "}}\n",
       "\n",
       "                        })                };                });            </script>        </div>"
      ]
     },
     "metadata": {},
     "output_type": "display_data"
    }
   ],
   "source": [
    "transformed_df, pca_false = project_conditioned_firing_rates(false_trials)\n",
    "transformed_df[\"ZeroedTimeBins\"] = transformed_df.TimeBins - 1.3\n",
    "# transformed_df[\"ZeroedTimeBins\"] = transformed_df.TimeBins\n",
    "\n",
    "fig = px.scatter_3d(\n",
    "    transformed_df, \n",
    "    x='PC1', y='PC2', z='PC3',\n",
    "    color='Condition', \n",
    "    opacity=1,\n",
    "    size='ZeroedTimeBins',\n",
    "    # color_discrete_sequence=colors\n",
    ")\n",
    "fig.write_html(\"/data/patrick_res/figures/pca_not_max.html\")\n",
    "fig.show()\n"
   ]
  },
  {
   "cell_type": "code",
   "execution_count": 17,
   "metadata": {},
   "outputs": [
    {
     "data": {
      "text/plain": [
       "<matplotlib.legend.Legend at 0x7ff653fd1ea0>"
      ]
     },
     "execution_count": 17,
     "metadata": {},
     "output_type": "execute_result"
    },
    {
     "data": {
      "image/png": "[encoded data removed]",
      "text/plain": [
       "<Figure size 640x480 with 1 Axes>"
      ]
     },
     "metadata": {},
     "output_type": "display_data"
    }
   ],
   "source": [
    "fig, ax = plt.subplots()\n",
    "true_var_ratios = np.cumsum(pca_true.explained_variance_ratio_[:20])\n",
    "false_var_ratios = np.cumsum(pca_false.explained_variance_ratio_[:20])\n",
    "ax.plot(np.arange(1, len(true_var_ratios) +1), true_var_ratios, label=\"Max\")\n",
    "ax.plot(np.arange(1, len(false_var_ratios) +1), false_var_ratios, label=\"Not Max\")\n",
    "\n",
    "ax.set_xlabel(\"Number of components\")\n",
    "ax.set_ylabel(\"Cumulative variance explained\")\n",
    "ax.legend()"
   ]
  },
  {
   "cell_type": "markdown",
   "metadata": {},
   "source": [
    "### Shared subspaces?\n",
    "For max or not: \n",
    "- Find PCAs for TRIANGLE, SQUARE separately. \n",
    "- Project activity onto other PC\n",
    "- look at cross variance explained"
   ]
  },
  {
   "cell_type": "code",
   "execution_count": 18,
   "metadata": {},
   "outputs": [
    {
     "data": {
      "text/plain": [
       "<matplotlib.legend.Legend at 0x7ff656953250>"
      ]
     },
     "execution_count": 18,
     "metadata": {},
     "output_type": "execute_result"
    },
    {
     "data": {
      "image/png": "[encoded data removed]",
      "text/plain": [
       "<Figure size 640x480 with 1 Axes>"
      ]
     },
     "metadata": {},
     "output_type": "display_data"
    }
   ],
   "source": [
    "max_not = [True, False]\n",
    "feats = [FEATURE_1, FEATURE_2]\n",
    "conds = [(FEATURE_1, True), (FEATURE_2, True), (FEATURE_1, False), (FEATURE_2, False)]\n",
    "\n",
    "fig, ax = plt.subplots()\n",
    "pcas = {}\n",
    "for feat, max in conds:\n",
    "    trials = all_trials[(all_trials[FEATURE_DIM] == feat) & (all_trials.MaxFeatMatches == max)]\n",
    "    _, pca = project_conditioned_firing_rates(trials)\n",
    "    pcas[(feat, max)] = pca\n",
    "    var_ratios = np.cumsum(pca.explained_variance_ratio_)\n",
    "    ax.plot(np.arange(1, len(var_ratios) +1).astype(int), var_ratios, label=f\"{feat} {max}\")\n",
    "ax.legend()\n"
   ]
  },
  {
   "cell_type": "code",
   "execution_count": 19,
   "metadata": {},
   "outputs": [],
   "source": [
    "def calc_projected_var_ratios(trials, pca):\n",
    "    data_mat, conditioned_frs = make_data_mat(trials)\n",
    "    components = pca.components_\n",
    "    transformed = components @ data_mat\n",
    "    total_var = np.sum(data_mat ** 2)\n",
    "    projected_vars_by_axes = np.sum(transformed ** 2, axis=1)\n",
    "    var_ratios = projected_vars_by_axes / total_var\n",
    "    return var_ratios"
   ]
  },
  {
   "cell_type": "code",
   "execution_count": 20,
   "metadata": {},
   "outputs": [
    {
     "data": {
      "text/plain": [
       "<matplotlib.legend.Legend at 0x7ff656e1ed10>"
      ]
     },
     "execution_count": 20,
     "metadata": {},
     "output_type": "execute_result"
    },
    {
     "data": {
      "image/png": "[encoded data removed]",
      "text/plain": [
       "<Figure size 640x480 with 1 Axes>"
      ]
     },
     "metadata": {},
     "output_type": "display_data"
    }
   ],
   "source": [
    "fig, ax = plt.subplots()\n",
    "for max in max_not:\n",
    "    for feature_trials in feats:\n",
    "        for feature_pca in feats:\n",
    "            trials = all_trials[(all_trials[FEATURE_DIM] == feature_trials) & (all_trials.MaxFeatMatches == max)]\n",
    "            pca = pcas[(feature_pca, max)]\n",
    "            var_ratios = calc_projected_var_ratios(trials, pca)\n",
    "            var_ratios = np.cumsum(var_ratios)\n",
    "            ax.plot(np.arange(1, len(var_ratios) +1).astype(int), var_ratios, label=f\"{feature_trials} proj {feature_pca}, {max}\")\n",
    "ax.legend()\n",
    "    "
   ]
  },
  {
   "cell_type": "code",
   "execution_count": 100,
   "metadata": {},
   "outputs": [
    {
     "data": {
      "text/plain": [
       "1.5"
      ]
     },
     "execution_count": 100,
     "metadata": {},
     "output_type": "execute_result"
    }
   ],
   "source": [
    "3 / 2"
   ]
  },
  {
   "cell_type": "markdown",
   "metadata": {},
   "source": []
  }
 ],
 "metadata": {
  "kernelspec": {
   "display_name": "Python 3",
   "language": "python",
   "name": "python3"
  },
  "language_info": {
   "codemirror_mode": {
    "name": "ipython",
    "version": 3
   },
   "file_extension": ".py",
   "mimetype": "text/x-python",
   "name": "python",
   "nbconvert_exporter": "python",
   "pygments_lexer": "ipython3",
   "version": "3.10.6"
  }
 },
 "nbformat": 4,
 "nbformat_minor": 2
}
