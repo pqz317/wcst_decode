{
 "cells": [
  {
   "cell_type": "markdown",
   "metadata": {},
   "source": [
    "### Script to find good pairs for each subject\n",
    "Criteria: \n",
    "- For each pair of features, find sessions where the pairs of features each show up least N blocks as rules per session \n",
    "- Find pairs of features which have at least M sessions that satisfy this condition. "
   ]
  },
  {
   "cell_type": "code",
   "execution_count": 1,
   "metadata": {},
   "outputs": [],
   "source": [
    "%load_ext autoreload\n",
    "%autoreload 2\n",
    "\n",
    "import os\n",
    "import numpy as np\n",
    "import pandas as pd\n",
    "import utils.behavioral_utils as behavioral_utils\n",
    "import utils.information_utils as information_utils\n",
    "import utils.visualization_utils as visualization_utils\n",
    "import utils.glm_utils as glm_utils\n",
    "from matplotlib import pyplot as plt\n",
    "import utils.spike_utils as spike_utils\n",
    "from constants.glm_constants import *\n",
    "from constants.behavioral_constants import *\n",
    "\n",
    "import seaborn as sns\n",
    "import scipy.stats\n"
   ]
  },
  {
   "cell_type": "code",
   "execution_count": 2,
   "metadata": {},
   "outputs": [],
   "source": [
    "num_bins = 2\n",
    "\n",
    "def get_sess_beh(row, beh_path, sub):\n",
    "    session = row.session_name\n",
    "    behavior_path = beh_path.format(sess_name=session)\n",
    "    beh = pd.read_csv(behavior_path)\n",
    "\n",
    "    # # filter trials \n",
    "    beh = behavioral_utils.get_valid_trials(beh)\n",
    "    feature_selections = behavioral_utils.get_selection_features(beh)\n",
    "    beh = pd.merge(beh, feature_selections, on=\"TrialNumber\", how=\"inner\")\n",
    "    beh = behavioral_utils.get_beliefs_per_session(beh, session, sub)\n",
    "    beh = behavioral_utils.get_belief_value_labels(beh)\n",
    "    beh[\"session\"] = session\n",
    "    return beh"
   ]
  },
  {
   "cell_type": "markdown",
   "metadata": {},
   "source": [
    "### Load behavior based on subject"
   ]
  },
  {
   "cell_type": "code",
   "execution_count": 3,
   "metadata": {},
   "outputs": [
    {
     "name": "stderr",
     "output_type": "stream",
     "text": [
      "/src/wcst_decode/utils/behavioral_utils.py:747: FutureWarning: The default dtype for empty Series will be 'object' instead of 'float64' in a future version. Specify a dtype explicitly to silence this warning.\n",
      "  beh[\"PreferredBelief\"] = beh[[f\"{feat}Prob\" for feat in FEATURES]].idxmax(axis=1).apply(lambda x: x[:-4])\n",
      "/src/wcst_decode/utils/behavioral_utils.py:747: FutureWarning: The default dtype for empty Series will be 'object' instead of 'float64' in a future version. Specify a dtype explicitly to silence this warning.\n",
      "  beh[\"PreferredBelief\"] = beh[[f\"{feat}Prob\" for feat in FEATURES]].idxmax(axis=1).apply(lambda x: x[:-4])\n"
     ]
    }
   ],
   "source": [
    "sub = \"BL\"\n",
    "\n",
    "if sub == \"SA\":\n",
    "    # Monkey S\n",
    "    SESSIONS_PATH = \"/data/patrick_res/sessions/SA/valid_sessions.pickle\"\n",
    "    sessions = pd.read_pickle(SESSIONS_PATH)\n",
    "    beh_path = SESS_BEHAVIOR_PATH\n",
    "    all_beh = pd.concat(sessions.apply(lambda x: get_sess_beh(x, beh_path, \"SA\"), axis=1).values).reset_index()\n",
    "elif sub == \"BL\":\n",
    "    # Monkey B\n",
    "    # all_units = pd.read_pickle(\"/data/patrick_res/firing_rates/BL/all_units.pickle\")\n",
    "    # sessions = pd.DataFrame({\"session_name\": all_units.session.unique()})\n",
    "    sessions = pd.read_pickle(\"/data/patrick_res/sessions/BL/valid_sessions.pickle\")\n",
    "    all_beh = pd.concat(sessions.apply(lambda x: get_sess_beh(x, BL_SESS_BEHAVIOR_PATH, \"BL\"), axis=1).values).reset_index()\n",
    "else: \n",
    "    raise ValueError()"
   ]
  },
  {
   "cell_type": "code",
   "execution_count": 5,
   "metadata": {},
   "outputs": [],
   "source": [
    "sub = all_beh[[\"TrialNumber\", \"BeliefStateValue\"]]"
   ]
  },
  {
   "cell_type": "code",
   "execution_count": 14,
   "metadata": {},
   "outputs": [
    {
     "data": {
      "text/html": [
       "<div>\n",
       "<style scoped>\n",
       "    .dataframe tbody tr th:only-of-type {\n",
       "        vertical-align: middle;\n",
       "    }\n",
       "\n",
       "    .dataframe tbody tr th {\n",
       "        vertical-align: top;\n",
       "    }\n",
       "\n",
       "    .dataframe thead th {\n",
       "        text-align: right;\n",
       "    }\n",
       "</style>\n",
       "<table border=\"1\" class=\"dataframe\">\n",
       "  <thead>\n",
       "    <tr style=\"text-align: right;\">\n",
       "      <th></th>\n",
       "      <th>TrialNumber</th>\n",
       "      <th>BeliefStateValue</th>\n",
       "    </tr>\n",
       "  </thead>\n",
       "  <tbody>\n",
       "    <tr>\n",
       "      <th>12</th>\n",
       "      <td>39</td>\n",
       "      <td>0.435902</td>\n",
       "    </tr>\n",
       "    <tr>\n",
       "      <th>13</th>\n",
       "      <td>40</td>\n",
       "      <td>0.431843</td>\n",
       "    </tr>\n",
       "    <tr>\n",
       "      <th>15</th>\n",
       "      <td>42</td>\n",
       "      <td>0.448585</td>\n",
       "    </tr>\n",
       "    <tr>\n",
       "      <th>16</th>\n",
       "      <td>43</td>\n",
       "      <td>0.439945</td>\n",
       "    </tr>\n",
       "    <tr>\n",
       "      <th>37</th>\n",
       "      <td>64</td>\n",
       "      <td>0.432222</td>\n",
       "    </tr>\n",
       "    <tr>\n",
       "      <th>...</th>\n",
       "      <td>...</td>\n",
       "      <td>...</td>\n",
       "    </tr>\n",
       "    <tr>\n",
       "      <th>39313</th>\n",
       "      <td>111</td>\n",
       "      <td>0.439877</td>\n",
       "    </tr>\n",
       "    <tr>\n",
       "      <th>39339</th>\n",
       "      <td>137</td>\n",
       "      <td>0.445207</td>\n",
       "    </tr>\n",
       "    <tr>\n",
       "      <th>39340</th>\n",
       "      <td>138</td>\n",
       "      <td>0.436491</td>\n",
       "    </tr>\n",
       "    <tr>\n",
       "      <th>39342</th>\n",
       "      <td>140</td>\n",
       "      <td>0.447402</td>\n",
       "    </tr>\n",
       "    <tr>\n",
       "      <th>39343</th>\n",
       "      <td>141</td>\n",
       "      <td>0.441650</td>\n",
       "    </tr>\n",
       "  </tbody>\n",
       "</table>\n",
       "<p>5767 rows × 2 columns</p>\n",
       "</div>"
      ],
      "text/plain": [
       "       TrialNumber  BeliefStateValue\n",
       "12              39          0.435902\n",
       "13              40          0.431843\n",
       "15              42          0.448585\n",
       "16              43          0.439945\n",
       "37              64          0.432222\n",
       "...            ...               ...\n",
       "39313          111          0.439877\n",
       "39339          137          0.445207\n",
       "39340          138          0.436491\n",
       "39342          140          0.447402\n",
       "39343          141          0.441650\n",
       "\n",
       "[5767 rows x 2 columns]"
      ]
     },
     "execution_count": 14,
     "metadata": {},
     "output_type": "execute_result"
    }
   ],
   "source": [
    "df[(df.BeliefStateValue < X) & (df.BeliefStateValue > Y)]"
   ]
  },
  {
   "cell_type": "code",
   "execution_count": 10,
   "metadata": {},
   "outputs": [
    {
     "data": {
      "text/plain": [
       "61"
      ]
     },
     "execution_count": 10,
     "metadata": {},
     "output_type": "execute_result"
    }
   ],
   "source": [
    "len(sessions)"
   ]
  },
  {
   "cell_type": "code",
   "execution_count": 11,
   "metadata": {},
   "outputs": [],
   "source": [
    "block_thresh = 3"
   ]
  },
  {
   "cell_type": "code",
   "execution_count": 12,
   "metadata": {},
   "outputs": [
    {
     "data": {
      "text/html": [
       "<div>\n",
       "<style scoped>\n",
       "    .dataframe tbody tr th:only-of-type {\n",
       "        vertical-align: middle;\n",
       "    }\n",
       "\n",
       "    .dataframe tbody tr th {\n",
       "        vertical-align: top;\n",
       "    }\n",
       "\n",
       "    .dataframe thead th {\n",
       "        text-align: right;\n",
       "    }\n",
       "</style>\n",
       "<table border=\"1\" class=\"dataframe\">\n",
       "  <thead>\n",
       "    <tr style=\"text-align: right;\">\n",
       "      <th></th>\n",
       "      <th>pair</th>\n",
       "      <th>sessions</th>\n",
       "      <th>num_sessions</th>\n",
       "      <th>dim_type</th>\n",
       "    </tr>\n",
       "  </thead>\n",
       "  <tbody>\n",
       "    <tr>\n",
       "      <th>61</th>\n",
       "      <td>[ESCHER, RIPPLE]</td>\n",
       "      <td>[20190529, 20190617, 20190710, 20190816, 20190...</td>\n",
       "      <td>5</td>\n",
       "      <td>within dim</td>\n",
       "    </tr>\n",
       "    <tr>\n",
       "      <th>62</th>\n",
       "      <td>[ESCHER, SWIRL]</td>\n",
       "      <td>[20190529, 20190627, 20190814, 20190823]</td>\n",
       "      <td>4</td>\n",
       "      <td>within dim</td>\n",
       "    </tr>\n",
       "    <tr>\n",
       "      <th>65</th>\n",
       "      <td>[RIPPLE, SWIRL]</td>\n",
       "      <td>[20190524, 20190529, 20190823]</td>\n",
       "      <td>3</td>\n",
       "      <td>within dim</td>\n",
       "    </tr>\n",
       "    <tr>\n",
       "      <th>27</th>\n",
       "      <td>[STAR, POLKADOT]</td>\n",
       "      <td>[20190605, 20190606, 20190607]</td>\n",
       "      <td>3</td>\n",
       "      <td>across dim</td>\n",
       "    </tr>\n",
       "    <tr>\n",
       "      <th>2</th>\n",
       "      <td>[CIRCLE, TRIANGLE]</td>\n",
       "      <td>[20190603, 20190606, 20190812]</td>\n",
       "      <td>3</td>\n",
       "      <td>within dim</td>\n",
       "    </tr>\n",
       "    <tr>\n",
       "      <th>34</th>\n",
       "      <td>[TRIANGLE, ESCHER]</td>\n",
       "      <td>[20190221, 20190710, 20190814]</td>\n",
       "      <td>3</td>\n",
       "      <td>across dim</td>\n",
       "    </tr>\n",
       "    <tr>\n",
       "      <th>1</th>\n",
       "      <td>[CIRCLE, STAR]</td>\n",
       "      <td>[20190228, 20190606, 20190703]</td>\n",
       "      <td>3</td>\n",
       "      <td>within dim</td>\n",
       "    </tr>\n",
       "    <tr>\n",
       "      <th>60</th>\n",
       "      <td>[ESCHER, POLKADOT]</td>\n",
       "      <td>[20190227, 20190531, 20190816]</td>\n",
       "      <td>3</td>\n",
       "      <td>within dim</td>\n",
       "    </tr>\n",
       "    <tr>\n",
       "      <th>25</th>\n",
       "      <td>[STAR, YELLOW]</td>\n",
       "      <td>[20190524, 20190605, 20190703]</td>\n",
       "      <td>3</td>\n",
       "      <td>across dim</td>\n",
       "    </tr>\n",
       "    <tr>\n",
       "      <th>52</th>\n",
       "      <td>[MAGENTA, ESCHER]</td>\n",
       "      <td>[20190130, 20190530, 20190823]</td>\n",
       "      <td>3</td>\n",
       "      <td>across dim</td>\n",
       "    </tr>\n",
       "    <tr>\n",
       "      <th>41</th>\n",
       "      <td>[CYAN, ESCHER]</td>\n",
       "      <td>[20190531, 20190617, 20190627]</td>\n",
       "      <td>3</td>\n",
       "      <td>across dim</td>\n",
       "    </tr>\n",
       "    <tr>\n",
       "      <th>43</th>\n",
       "      <td>[CYAN, RIPPLE]</td>\n",
       "      <td>[20190617, 20190701]</td>\n",
       "      <td>2</td>\n",
       "      <td>across dim</td>\n",
       "    </tr>\n",
       "    <tr>\n",
       "      <th>39</th>\n",
       "      <td>[CYAN, MAGENTA]</td>\n",
       "      <td>[20190708, 20190815]</td>\n",
       "      <td>2</td>\n",
       "      <td>within dim</td>\n",
       "    </tr>\n",
       "    <tr>\n",
       "      <th>40</th>\n",
       "      <td>[CYAN, YELLOW]</td>\n",
       "      <td>[20190617, 20190815]</td>\n",
       "      <td>2</td>\n",
       "      <td>within dim</td>\n",
       "    </tr>\n",
       "    <tr>\n",
       "      <th>29</th>\n",
       "      <td>[STAR, SWIRL]</td>\n",
       "      <td>[20190524, 20190625]</td>\n",
       "      <td>2</td>\n",
       "      <td>across dim</td>\n",
       "    </tr>\n",
       "    <tr>\n",
       "      <th>46</th>\n",
       "      <td>[GREEN, YELLOW]</td>\n",
       "      <td>[20190626, 20190815]</td>\n",
       "      <td>2</td>\n",
       "      <td>within dim</td>\n",
       "    </tr>\n",
       "    <tr>\n",
       "      <th>38</th>\n",
       "      <td>[CYAN, GREEN]</td>\n",
       "      <td>[20190701, 20190815]</td>\n",
       "      <td>2</td>\n",
       "      <td>within dim</td>\n",
       "    </tr>\n",
       "    <tr>\n",
       "      <th>21</th>\n",
       "      <td>[STAR, TRIANGLE]</td>\n",
       "      <td>[20190606, 20190709]</td>\n",
       "      <td>2</td>\n",
       "      <td>within dim</td>\n",
       "    </tr>\n",
       "    <tr>\n",
       "      <th>35</th>\n",
       "      <td>[TRIANGLE, POLKADOT]</td>\n",
       "      <td>[20190606, 20190626]</td>\n",
       "      <td>2</td>\n",
       "      <td>across dim</td>\n",
       "    </tr>\n",
       "    <tr>\n",
       "      <th>57</th>\n",
       "      <td>[YELLOW, POLKADOT]</td>\n",
       "      <td>[20190605, 20190626]</td>\n",
       "      <td>2</td>\n",
       "      <td>across dim</td>\n",
       "    </tr>\n",
       "  </tbody>\n",
       "</table>\n",
       "</div>"
      ],
      "text/plain": [
       "                    pair                                           sessions  \\\n",
       "61      [ESCHER, RIPPLE]  [20190529, 20190617, 20190710, 20190816, 20190...   \n",
       "62       [ESCHER, SWIRL]           [20190529, 20190627, 20190814, 20190823]   \n",
       "65       [RIPPLE, SWIRL]                     [20190524, 20190529, 20190823]   \n",
       "27      [STAR, POLKADOT]                     [20190605, 20190606, 20190607]   \n",
       "2     [CIRCLE, TRIANGLE]                     [20190603, 20190606, 20190812]   \n",
       "34    [TRIANGLE, ESCHER]                     [20190221, 20190710, 20190814]   \n",
       "1         [CIRCLE, STAR]                     [20190228, 20190606, 20190703]   \n",
       "60    [ESCHER, POLKADOT]                     [20190227, 20190531, 20190816]   \n",
       "25        [STAR, YELLOW]                     [20190524, 20190605, 20190703]   \n",
       "52     [MAGENTA, ESCHER]                     [20190130, 20190530, 20190823]   \n",
       "41        [CYAN, ESCHER]                     [20190531, 20190617, 20190627]   \n",
       "43        [CYAN, RIPPLE]                               [20190617, 20190701]   \n",
       "39       [CYAN, MAGENTA]                               [20190708, 20190815]   \n",
       "40        [CYAN, YELLOW]                               [20190617, 20190815]   \n",
       "29         [STAR, SWIRL]                               [20190524, 20190625]   \n",
       "46       [GREEN, YELLOW]                               [20190626, 20190815]   \n",
       "38         [CYAN, GREEN]                               [20190701, 20190815]   \n",
       "21      [STAR, TRIANGLE]                               [20190606, 20190709]   \n",
       "35  [TRIANGLE, POLKADOT]                               [20190606, 20190626]   \n",
       "57    [YELLOW, POLKADOT]                               [20190605, 20190626]   \n",
       "\n",
       "    num_sessions    dim_type  \n",
       "61             5  within dim  \n",
       "62             4  within dim  \n",
       "65             3  within dim  \n",
       "27             3  across dim  \n",
       "2              3  within dim  \n",
       "34             3  across dim  \n",
       "1              3  within dim  \n",
       "60             3  within dim  \n",
       "25             3  across dim  \n",
       "52             3  across dim  \n",
       "41             3  across dim  \n",
       "43             2  across dim  \n",
       "39             2  within dim  \n",
       "40             2  within dim  \n",
       "29             2  across dim  \n",
       "46             2  within dim  \n",
       "38             2  within dim  \n",
       "21             2  within dim  \n",
       "35             2  across dim  \n",
       "57             2  across dim  "
      ]
     },
     "execution_count": 12,
     "metadata": {},
     "output_type": "execute_result"
    }
   ],
   "source": [
    "pairs = behavioral_utils.get_good_pairs_across_sessions(all_beh, block_thresh)\n",
    "pairs.sort_values(by=\"num_sessions\", ascending=False)[:20]"
   ]
  },
  {
   "cell_type": "code",
   "execution_count": 18,
   "metadata": {},
   "outputs": [],
   "source": [
    "good_sess = pairs[pairs.num_sessions >=3].sessions.explode()"
   ]
  },
  {
   "cell_type": "code",
   "execution_count": 21,
   "metadata": {},
   "outputs": [
    {
     "data": {
      "text/plain": [
       "19"
      ]
     },
     "execution_count": 21,
     "metadata": {},
     "output_type": "execute_result"
    }
   ],
   "source": [
    "all_units = pd.read_pickle(\"/data/patrick_res/firing_rates/BL/all_units.pickle\")\n",
    "\n",
    "good_sess[good_sess.isin(all_units.session.unique())]"
   ]
  },
  {
   "cell_type": "code",
   "execution_count": 14,
   "metadata": {},
   "outputs": [],
   "source": [
    "session_thresh = 6"
   ]
  },
  {
   "cell_type": "code",
   "execution_count": 15,
   "metadata": {},
   "outputs": [],
   "source": [
    "good_pairs = pairs[pairs.num_sessions >= session_thresh]"
   ]
  },
  {
   "cell_type": "code",
   "execution_count": 16,
   "metadata": {},
   "outputs": [
    {
     "data": {
      "text/plain": [
       "8"
      ]
     },
     "execution_count": 16,
     "metadata": {},
     "output_type": "execute_result"
    }
   ],
   "source": [
    "len(good_pairs)"
   ]
  },
  {
   "cell_type": "code",
   "execution_count": 17,
   "metadata": {},
   "outputs": [
    {
     "data": {
      "text/plain": [
       "4"
      ]
     },
     "execution_count": 17,
     "metadata": {},
     "output_type": "execute_result"
    }
   ],
   "source": [
    "len(good_pairs[good_pairs.dim_type == \"within dim\"])"
   ]
  },
  {
   "cell_type": "code",
   "execution_count": 18,
   "metadata": {},
   "outputs": [
    {
     "data": {
      "text/html": [
       "<div>\n",
       "<style scoped>\n",
       "    .dataframe tbody tr th:only-of-type {\n",
       "        vertical-align: middle;\n",
       "    }\n",
       "\n",
       "    .dataframe tbody tr th {\n",
       "        vertical-align: top;\n",
       "    }\n",
       "\n",
       "    .dataframe thead th {\n",
       "        text-align: right;\n",
       "    }\n",
       "</style>\n",
       "<table border=\"1\" class=\"dataframe\">\n",
       "  <thead>\n",
       "    <tr style=\"text-align: right;\">\n",
       "      <th></th>\n",
       "      <th>pair</th>\n",
       "      <th>sessions</th>\n",
       "      <th>num_sessions</th>\n",
       "      <th>dim_type</th>\n",
       "    </tr>\n",
       "  </thead>\n",
       "  <tbody>\n",
       "    <tr>\n",
       "      <th>26</th>\n",
       "      <td>[STAR, ESCHER]</td>\n",
       "      <td>[20190531, 20190611, 20190617, 20190625, 20190...</td>\n",
       "      <td>7</td>\n",
       "      <td>across dim</td>\n",
       "    </tr>\n",
       "    <tr>\n",
       "      <th>28</th>\n",
       "      <td>[STAR, RIPPLE]</td>\n",
       "      <td>[20190531, 20190611, 20190617, 20190625, 20190...</td>\n",
       "      <td>6</td>\n",
       "      <td>across dim</td>\n",
       "    </tr>\n",
       "    <tr>\n",
       "      <th>34</th>\n",
       "      <td>[TRIANGLE, ESCHER]</td>\n",
       "      <td>[20190531, 20190611, 20190627, 20190710, 20190...</td>\n",
       "      <td>6</td>\n",
       "      <td>across dim</td>\n",
       "    </tr>\n",
       "    <tr>\n",
       "      <th>41</th>\n",
       "      <td>[CYAN, ESCHER]</td>\n",
       "      <td>[20190207, 20190220, 20190529, 20190531, 20190...</td>\n",
       "      <td>6</td>\n",
       "      <td>across dim</td>\n",
       "    </tr>\n",
       "    <tr>\n",
       "      <th>60</th>\n",
       "      <td>[ESCHER, POLKADOT]</td>\n",
       "      <td>[20190220, 20190529, 20190531, 20190611, 20190...</td>\n",
       "      <td>9</td>\n",
       "      <td>within dim</td>\n",
       "    </tr>\n",
       "    <tr>\n",
       "      <th>61</th>\n",
       "      <td>[ESCHER, RIPPLE]</td>\n",
       "      <td>[20190529, 20190531, 20190611, 20190617, 20190...</td>\n",
       "      <td>9</td>\n",
       "      <td>within dim</td>\n",
       "    </tr>\n",
       "    <tr>\n",
       "      <th>62</th>\n",
       "      <td>[ESCHER, SWIRL]</td>\n",
       "      <td>[20190529, 20190531, 20190625, 20190627, 20190...</td>\n",
       "      <td>6</td>\n",
       "      <td>within dim</td>\n",
       "    </tr>\n",
       "    <tr>\n",
       "      <th>63</th>\n",
       "      <td>[POLKADOT, RIPPLE]</td>\n",
       "      <td>[20190529, 20190531, 20190611, 20190617, 20190...</td>\n",
       "      <td>8</td>\n",
       "      <td>within dim</td>\n",
       "    </tr>\n",
       "  </tbody>\n",
       "</table>\n",
       "</div>"
      ],
      "text/plain": [
       "                  pair                                           sessions  \\\n",
       "26      [STAR, ESCHER]  [20190531, 20190611, 20190617, 20190625, 20190...   \n",
       "28      [STAR, RIPPLE]  [20190531, 20190611, 20190617, 20190625, 20190...   \n",
       "34  [TRIANGLE, ESCHER]  [20190531, 20190611, 20190627, 20190710, 20190...   \n",
       "41      [CYAN, ESCHER]  [20190207, 20190220, 20190529, 20190531, 20190...   \n",
       "60  [ESCHER, POLKADOT]  [20190220, 20190529, 20190531, 20190611, 20190...   \n",
       "61    [ESCHER, RIPPLE]  [20190529, 20190531, 20190611, 20190617, 20190...   \n",
       "62     [ESCHER, SWIRL]  [20190529, 20190531, 20190625, 20190627, 20190...   \n",
       "63  [POLKADOT, RIPPLE]  [20190529, 20190531, 20190611, 20190617, 20190...   \n",
       "\n",
       "    num_sessions    dim_type  \n",
       "26             7  across dim  \n",
       "28             6  across dim  \n",
       "34             6  across dim  \n",
       "41             6  across dim  \n",
       "60             9  within dim  \n",
       "61             9  within dim  \n",
       "62             6  within dim  \n",
       "63             8  within dim  "
      ]
     },
     "execution_count": 18,
     "metadata": {},
     "output_type": "execute_result"
    }
   ],
   "source": [
    "good_pairs"
   ]
  },
  {
   "cell_type": "code",
   "execution_count": 20,
   "metadata": {},
   "outputs": [],
   "source": [
    "# good_pairs.to_pickle(\"/data/patrick_res/sessions/pairs_at_least_3blocks_7sess.pickle\")\n",
    "good_pairs.to_pickle(f\"/data/patrick_res/sessions/{sub}/pairs_at_least_{block_thresh}blocks_{session_thresh}sess.pickle\")"
   ]
  },
  {
   "cell_type": "markdown",
   "metadata": {},
   "source": [
    "### For each session, for each pair, what are the min number of trials that match: \n",
    "- high preferred features\n",
    "- high conf trials where features are chosen but not preferred. "
   ]
  },
  {
   "cell_type": "code",
   "execution_count": 17,
   "metadata": {},
   "outputs": [],
   "source": [
    "def min_trials_per_session(row):\n",
    "    feat1, feat2 = row.pair\n",
    "    res = []\n",
    "    for sess in row.sessions:\n",
    "        beh = all_beh[all_beh.session == sess]\n",
    "\n",
    "        # find minimum number of trials, when either features are preferred\n",
    "        pref_beh = beh[beh.BeliefStateValueLabel.isin([f\"High {feat1}\", f\"High {feat2}\"])]\n",
    "        min_pref = np.min(pref_beh.groupby(\"BeliefStateValueLabel\").count().TrialNumber)\n",
    "\n",
    "        pref_chose = behavioral_utils.get_chosen_preferred_trials(row.pair, pref_beh)\n",
    "        min_pref_chose = np.min(pref_chose.groupby(\"BeliefStateValueLabel\").count().TrialNumber)\n",
    "\n",
    "\n",
    "        not_pref_chose = behavioral_utils.get_chosen_not_preferred_trials(row.pair, beh)\n",
    "\n",
    "        min_not_pref = np.min(not_pref_chose.groupby(\"Choice\").count().TrialNumber)\n",
    "\n",
    "        res.append({\n",
    "            \"pair\": row.pair, \n",
    "            \"session\": sess, \n",
    "            \"min_pref\": min_pref, \n",
    "            \"min_pref_chose\": min_pref_chose,\n",
    "            \"min_not_pref_chose\": min_not_pref\n",
    "        })\n",
    "    return pd.DataFrame(res)\n",
    "        \n",
    "min_trials = pd.concat(good_pairs.apply(min_trials_per_session, axis=1).values)\n",
    "\n"
   ]
  },
  {
   "cell_type": "code",
   "execution_count": 18,
   "metadata": {},
   "outputs": [
    {
     "data": {
      "text/html": [
       "<div>\n",
       "<style scoped>\n",
       "    .dataframe tbody tr th:only-of-type {\n",
       "        vertical-align: middle;\n",
       "    }\n",
       "\n",
       "    .dataframe tbody tr th {\n",
       "        vertical-align: top;\n",
       "    }\n",
       "\n",
       "    .dataframe thead th {\n",
       "        text-align: right;\n",
       "    }\n",
       "</style>\n",
       "<table border=\"1\" class=\"dataframe\">\n",
       "  <thead>\n",
       "    <tr style=\"text-align: right;\">\n",
       "      <th></th>\n",
       "      <th>pair</th>\n",
       "      <th>session</th>\n",
       "      <th>min_pref</th>\n",
       "      <th>min_pref_chose</th>\n",
       "      <th>min_not_pref_chose</th>\n",
       "    </tr>\n",
       "  </thead>\n",
       "  <tbody>\n",
       "    <tr>\n",
       "      <th>0</th>\n",
       "      <td>[CIRCLE, SQUARE]</td>\n",
       "      <td>20180615</td>\n",
       "      <td>27</td>\n",
       "      <td>25</td>\n",
       "      <td>64</td>\n",
       "    </tr>\n",
       "    <tr>\n",
       "      <th>1</th>\n",
       "      <td>[CIRCLE, SQUARE]</td>\n",
       "      <td>20180709</td>\n",
       "      <td>51</td>\n",
       "      <td>42</td>\n",
       "      <td>70</td>\n",
       "    </tr>\n",
       "    <tr>\n",
       "      <th>2</th>\n",
       "      <td>[CIRCLE, SQUARE]</td>\n",
       "      <td>20180802</td>\n",
       "      <td>54</td>\n",
       "      <td>46</td>\n",
       "      <td>134</td>\n",
       "    </tr>\n",
       "    <tr>\n",
       "      <th>3</th>\n",
       "      <td>[CIRCLE, SQUARE]</td>\n",
       "      <td>20180803</td>\n",
       "      <td>25</td>\n",
       "      <td>23</td>\n",
       "      <td>122</td>\n",
       "    </tr>\n",
       "    <tr>\n",
       "      <th>4</th>\n",
       "      <td>[CIRCLE, SQUARE]</td>\n",
       "      <td>20180806</td>\n",
       "      <td>87</td>\n",
       "      <td>68</td>\n",
       "      <td>69</td>\n",
       "    </tr>\n",
       "    <tr>\n",
       "      <th>...</th>\n",
       "      <td>...</td>\n",
       "      <td>...</td>\n",
       "      <td>...</td>\n",
       "      <td>...</td>\n",
       "      <td>...</td>\n",
       "    </tr>\n",
       "    <tr>\n",
       "      <th>6</th>\n",
       "      <td>[YELLOW, RIPPLE]</td>\n",
       "      <td>20180912</td>\n",
       "      <td>62</td>\n",
       "      <td>50</td>\n",
       "      <td>65</td>\n",
       "    </tr>\n",
       "    <tr>\n",
       "      <th>7</th>\n",
       "      <td>[YELLOW, RIPPLE]</td>\n",
       "      <td>20180921</td>\n",
       "      <td>45</td>\n",
       "      <td>39</td>\n",
       "      <td>45</td>\n",
       "    </tr>\n",
       "    <tr>\n",
       "      <th>8</th>\n",
       "      <td>[YELLOW, RIPPLE]</td>\n",
       "      <td>20181005</td>\n",
       "      <td>59</td>\n",
       "      <td>46</td>\n",
       "      <td>78</td>\n",
       "    </tr>\n",
       "    <tr>\n",
       "      <th>9</th>\n",
       "      <td>[YELLOW, RIPPLE]</td>\n",
       "      <td>20181009</td>\n",
       "      <td>44</td>\n",
       "      <td>38</td>\n",
       "      <td>59</td>\n",
       "    </tr>\n",
       "    <tr>\n",
       "      <th>10</th>\n",
       "      <td>[YELLOW, RIPPLE]</td>\n",
       "      <td>20181010</td>\n",
       "      <td>38</td>\n",
       "      <td>27</td>\n",
       "      <td>40</td>\n",
       "    </tr>\n",
       "  </tbody>\n",
       "</table>\n",
       "<p>192 rows × 5 columns</p>\n",
       "</div>"
      ],
      "text/plain": [
       "                pair   session  min_pref  min_pref_chose  min_not_pref_chose\n",
       "0   [CIRCLE, SQUARE]  20180615        27              25                  64\n",
       "1   [CIRCLE, SQUARE]  20180709        51              42                  70\n",
       "2   [CIRCLE, SQUARE]  20180802        54              46                 134\n",
       "3   [CIRCLE, SQUARE]  20180803        25              23                 122\n",
       "4   [CIRCLE, SQUARE]  20180806        87              68                  69\n",
       "..               ...       ...       ...             ...                 ...\n",
       "6   [YELLOW, RIPPLE]  20180912        62              50                  65\n",
       "7   [YELLOW, RIPPLE]  20180921        45              39                  45\n",
       "8   [YELLOW, RIPPLE]  20181005        59              46                  78\n",
       "9   [YELLOW, RIPPLE]  20181009        44              38                  59\n",
       "10  [YELLOW, RIPPLE]  20181010        38              27                  40\n",
       "\n",
       "[192 rows x 5 columns]"
      ]
     },
     "execution_count": 18,
     "metadata": {},
     "output_type": "execute_result"
    }
   ],
   "source": [
    "min_trials"
   ]
  },
  {
   "cell_type": "code",
   "execution_count": 20,
   "metadata": {},
   "outputs": [],
   "source": [
    "min_trials[\"min_all\"] = min_trials[[\"min_pref\", \"min_pref_chose\", \"min_not_pref_chose\"]].min(axis=1)"
   ]
  },
  {
   "cell_type": "code",
   "execution_count": 18,
   "metadata": {},
   "outputs": [],
   "source": [
    "# min_trials.to_pickle(\"/data/patrick_res/sessions/SA/pairs_at_least_3blocks_7sess_min_trials.pickle\")\n",
    "min_trials.to_pickle(\"/data/patrick_res/sessions/SA/pairs_at_least_3blocks_10sess_more_sess.pickle\")\n"
   ]
  },
  {
   "cell_type": "code",
   "execution_count": 18,
   "metadata": {},
   "outputs": [],
   "source": [
    "min_trials_original = pd.read_pickle(\"/data/patrick_res/sessions/pairs_at_least_3blocks_7sess_min_trials.pickle\")"
   ]
  },
  {
   "cell_type": "code",
   "execution_count": 23,
   "metadata": {},
   "outputs": [
    {
     "data": {
      "text/plain": [
       "78"
      ]
     },
     "execution_count": 23,
     "metadata": {},
     "output_type": "execute_result"
    }
   ],
   "source": [
    "(min_trials_original.min_all - min_trials.min_all).sum()"
   ]
  },
  {
   "cell_type": "code",
   "execution_count": null,
   "metadata": {},
   "outputs": [],
   "source": []
  }
 ],
 "metadata": {
  "kernelspec": {
   "display_name": "Python 3",
   "language": "python",
   "name": "python3"
  },
  "language_info": {
   "codemirror_mode": {
    "name": "ipython",
    "version": 3
   },
   "file_extension": ".py",
   "mimetype": "text/x-python",
   "name": "python",
   "nbconvert_exporter": "python",
   "pygments_lexer": "ipython3",
   "version": "3.10.6"
  }
 },
 "nbformat": 4,
 "nbformat_minor": 2
}
