{
 "cells": [
  {
   "cell_type": "markdown",
   "metadata": {},
   "source": [
    "### Want to see how many pairs of rules have at least N sessions where both rules appear at least 2 times"
   ]
  },
  {
   "cell_type": "code",
   "execution_count": 2,
   "metadata": {},
   "outputs": [],
   "source": [
    "%load_ext autoreload\n",
    "%autoreload 2\n",
    "\n",
    "import os\n",
    "import numpy as np\n",
    "import pandas as pd\n",
    "import utils.behavioral_utils as behavioral_utils\n",
    "import utils.information_utils as information_utils\n",
    "import utils.visualization_utils as visualization_utils\n",
    "import utils.glm_utils as glm_utils\n",
    "from matplotlib import pyplot as plt\n",
    "import utils.spike_utils as spike_utils\n",
    "from constants.glm_constants import *\n",
    "from constants.behavioral_constants import *\n",
    "\n",
    "import seaborn as sns\n",
    "import scipy.stats\n"
   ]
  },
  {
   "cell_type": "code",
   "execution_count": 3,
   "metadata": {},
   "outputs": [],
   "source": [
    "num_bins = 2\n",
    "\n",
    "def get_sess_beh(row, beh_path):\n",
    "    session = row.session_name\n",
    "    behavior_path = beh_path.format(sess_name=session)\n",
    "    beh = pd.read_csv(behavior_path)\n",
    "\n",
    "    # # filter trials \n",
    "    beh = behavioral_utils.get_valid_trials(beh)\n",
    "    feature_selections = behavioral_utils.get_selection_features(beh)\n",
    "    beh = pd.merge(beh, feature_selections, on=\"TrialNumber\", how=\"inner\")\n",
    "    beh = behavioral_utils.get_feature_values_per_session(session, beh)\n",
    "    beh = behavioral_utils.get_max_feature_value(beh)\n",
    "    beh = behavioral_utils.calc_feature_probs(beh)\n",
    "    beh = behavioral_utils.calc_feature_value_entropy(beh)\n",
    "    beh = behavioral_utils.calc_confidence(beh, num_bins=2, quantize_bins=True)\n",
    "    beh[\"ConfidenceLabel\"] = beh.apply(lambda row: f\"High {row.MaxFeat}\" if row.ConfidenceBin == 1 else \"Low\", axis=1)\n",
    "    beh[\"session\"] = session\n",
    "    return beh"
   ]
  },
  {
   "cell_type": "code",
   "execution_count": 4,
   "metadata": {},
   "outputs": [],
   "source": [
    "# Monkey S\n",
    "SESSIONS_PATH = \"/data/patrick_res/sessions/valid_sessions_rpe.pickle\"\n",
    "sessions = pd.read_pickle(SESSIONS_PATH)\n",
    "beh_path = SESS_BEHAVIOR_PATH\n",
    "all_beh = pd.concat(sessions.apply(lambda x: get_sess_beh(x, beh_path), axis=1).values).reset_index()"
   ]
  },
  {
   "cell_type": "code",
   "execution_count": 5,
   "metadata": {},
   "outputs": [],
   "source": [
    "num_blocks = all_beh.groupby([\"session\", \"CurrentRule\"]).apply(lambda x: len(x.BlockNumber.unique())).reset_index()"
   ]
  },
  {
   "cell_type": "code",
   "execution_count": 6,
   "metadata": {},
   "outputs": [],
   "source": [
    "pairs = []\n",
    "for i in range(12):\n",
    "    for j in range(i + 1, 12):\n",
    "        feat1 = FEATURES[i]\n",
    "        feat2 = FEATURES[j]\n",
    "        sess_1 = num_blocks[(num_blocks.CurrentRule == feat1) & (num_blocks[0] >= 3)].session\n",
    "        sess_2 = num_blocks[(num_blocks.CurrentRule == feat2) & (num_blocks[0] >= 3)].session\n",
    "        joints = sess_1[sess_1.isin(sess_2)].values\n",
    "        pairs.append({\"pair\": [feat1, feat2], \"sessions\": joints, \"num_sessions\": len(joints)})\n",
    "pairs = pd.DataFrame(pairs)"
   ]
  },
  {
   "cell_type": "code",
   "execution_count": 7,
   "metadata": {},
   "outputs": [
    {
     "data": {
      "text/html": [
       "<div>\n",
       "<style scoped>\n",
       "    .dataframe tbody tr th:only-of-type {\n",
       "        vertical-align: middle;\n",
       "    }\n",
       "\n",
       "    .dataframe tbody tr th {\n",
       "        vertical-align: top;\n",
       "    }\n",
       "\n",
       "    .dataframe thead th {\n",
       "        text-align: right;\n",
       "    }\n",
       "</style>\n",
       "<table border=\"1\" class=\"dataframe\">\n",
       "  <thead>\n",
       "    <tr style=\"text-align: right;\">\n",
       "      <th></th>\n",
       "      <th>pair</th>\n",
       "      <th>sessions</th>\n",
       "      <th>num_sessions</th>\n",
       "    </tr>\n",
       "  </thead>\n",
       "  <tbody>\n",
       "    <tr>\n",
       "      <th>40</th>\n",
       "      <td>[CYAN, YELLOW]</td>\n",
       "      <td>[20180705, 20180801, 20180802, 20180912, 20180...</td>\n",
       "      <td>9</td>\n",
       "    </tr>\n",
       "    <tr>\n",
       "      <th>53</th>\n",
       "      <td>[MAGENTA, POLKADOT]</td>\n",
       "      <td>[20180705, 20180802, 20180803, 20180808, 20180...</td>\n",
       "      <td>8</td>\n",
       "    </tr>\n",
       "    <tr>\n",
       "      <th>39</th>\n",
       "      <td>[CYAN, MAGENTA]</td>\n",
       "      <td>[20180705, 20180801, 20180802, 20180803, 20180...</td>\n",
       "      <td>8</td>\n",
       "    </tr>\n",
       "    <tr>\n",
       "      <th>45</th>\n",
       "      <td>[GREEN, MAGENTA]</td>\n",
       "      <td>[20180802, 20180806, 20180808, 20180912, 20180...</td>\n",
       "      <td>8</td>\n",
       "    </tr>\n",
       "    <tr>\n",
       "      <th>46</th>\n",
       "      <td>[GREEN, YELLOW]</td>\n",
       "      <td>[20180802, 20180912, 20180921, 20180924, 20180...</td>\n",
       "      <td>8</td>\n",
       "    </tr>\n",
       "    <tr>\n",
       "      <th>0</th>\n",
       "      <td>[CIRCLE, SQUARE]</td>\n",
       "      <td>[20180709, 20180802, 20180803, 20180806, 20180...</td>\n",
       "      <td>8</td>\n",
       "    </tr>\n",
       "    <tr>\n",
       "      <th>6</th>\n",
       "      <td>[CIRCLE, YELLOW]</td>\n",
       "      <td>[20180802, 20180918, 20180921, 20180924, 20181...</td>\n",
       "      <td>7</td>\n",
       "    </tr>\n",
       "    <tr>\n",
       "      <th>51</th>\n",
       "      <td>[MAGENTA, YELLOW]</td>\n",
       "      <td>[20180705, 20180801, 20180802, 20180912, 20180...</td>\n",
       "      <td>7</td>\n",
       "    </tr>\n",
       "    <tr>\n",
       "      <th>4</th>\n",
       "      <td>[CIRCLE, GREEN]</td>\n",
       "      <td>[20180802, 20180806, 20180808, 20180921, 20180...</td>\n",
       "      <td>7</td>\n",
       "    </tr>\n",
       "    <tr>\n",
       "      <th>54</th>\n",
       "      <td>[MAGENTA, RIPPLE]</td>\n",
       "      <td>[20180705, 20180802, 20180803, 20180912, 20180...</td>\n",
       "      <td>7</td>\n",
       "    </tr>\n",
       "  </tbody>\n",
       "</table>\n",
       "</div>"
      ],
      "text/plain": [
       "                   pair                                           sessions  \\\n",
       "40       [CYAN, YELLOW]  [20180705, 20180801, 20180802, 20180912, 20180...   \n",
       "53  [MAGENTA, POLKADOT]  [20180705, 20180802, 20180803, 20180808, 20180...   \n",
       "39      [CYAN, MAGENTA]  [20180705, 20180801, 20180802, 20180803, 20180...   \n",
       "45     [GREEN, MAGENTA]  [20180802, 20180806, 20180808, 20180912, 20180...   \n",
       "46      [GREEN, YELLOW]  [20180802, 20180912, 20180921, 20180924, 20180...   \n",
       "0      [CIRCLE, SQUARE]  [20180709, 20180802, 20180803, 20180806, 20180...   \n",
       "6      [CIRCLE, YELLOW]  [20180802, 20180918, 20180921, 20180924, 20181...   \n",
       "51    [MAGENTA, YELLOW]  [20180705, 20180801, 20180802, 20180912, 20180...   \n",
       "4       [CIRCLE, GREEN]  [20180802, 20180806, 20180808, 20180921, 20180...   \n",
       "54    [MAGENTA, RIPPLE]  [20180705, 20180802, 20180803, 20180912, 20180...   \n",
       "\n",
       "    num_sessions  \n",
       "40             9  \n",
       "53             8  \n",
       "39             8  \n",
       "45             8  \n",
       "46             8  \n",
       "0              8  \n",
       "6              7  \n",
       "51             7  \n",
       "4              7  \n",
       "54             7  "
      ]
     },
     "execution_count": 7,
     "metadata": {},
     "output_type": "execute_result"
    }
   ],
   "source": [
    "pairs.sort_values(by=\"num_sessions\", ascending=False)[:10]"
   ]
  },
  {
   "cell_type": "code",
   "execution_count": 8,
   "metadata": {},
   "outputs": [],
   "source": [
    "good_pairs = pairs[pairs.num_sessions >= 7]"
   ]
  },
  {
   "cell_type": "code",
   "execution_count": 9,
   "metadata": {},
   "outputs": [
    {
     "data": {
      "text/plain": [
       "18"
      ]
     },
     "execution_count": 9,
     "metadata": {},
     "output_type": "execute_result"
    }
   ],
   "source": [
    "len(good_pairs)"
   ]
  },
  {
   "cell_type": "code",
   "execution_count": 22,
   "metadata": {},
   "outputs": [],
   "source": [
    "good_pairs.to_pickle(\"/data/patrick_res/sessions/pairs_at_least_3blocks_7sess.pickle\")"
   ]
  },
  {
   "cell_type": "markdown",
   "metadata": {},
   "source": [
    "### For each session, for each pair, what are the min number of trials that match: \n",
    "- high preferred features\n",
    "- high conf trials where features are chosen but not preferred. "
   ]
  },
  {
   "cell_type": "code",
   "execution_count": 29,
   "metadata": {},
   "outputs": [],
   "source": [
    "def min_trials_per_session(row):\n",
    "    feat1, feat2 = row.pair\n",
    "    res = []\n",
    "    for sess in row.sessions:\n",
    "        beh = all_beh[all_beh.session == sess]\n",
    "\n",
    "        # find minimum number of trials, when either features are preferred\n",
    "        pref_beh = beh[beh.ConfidenceLabel.isin([f\"High {feat1}\", f\"High {feat2}\"])]\n",
    "        min_pref = np.min(pref_beh.groupby(\"ConfidenceLabel\").count().TrialNumber)\n",
    "\n",
    "        pref_chose = behavioral_utils.get_chosen_preferred_trials(row.pair, pref_beh)\n",
    "        min_pref_chose = np.min(pref_chose.groupby(\"ConfidenceLabel\").count().TrialNumber)\n",
    "\n",
    "\n",
    "        not_pref_chose = behavioral_utils.get_chosen_not_preferred_trials(row.pair, beh)\n",
    "\n",
    "        min_not_pref = np.min(not_pref_chose.groupby(\"Choice\").count().TrialNumber)\n",
    "\n",
    "        res.append({\n",
    "            \"pair\": row.pair, \n",
    "            \"session\": sess, \n",
    "            \"min_pref\": min_pref, \n",
    "            \"min_pref_chose\": min_pref_chose,\n",
    "            \"min_not_pref_chose\": min_not_pref\n",
    "        })\n",
    "    return pd.DataFrame(res)\n",
    "        \n",
    "min_trials = pd.concat(good_pairs.apply(min_trials_per_session, axis=1).values)\n",
    "\n"
   ]
  },
  {
   "cell_type": "code",
   "execution_count": 30,
   "metadata": {},
   "outputs": [
    {
     "data": {
      "text/html": [
       "<div>\n",
       "<style scoped>\n",
       "    .dataframe tbody tr th:only-of-type {\n",
       "        vertical-align: middle;\n",
       "    }\n",
       "\n",
       "    .dataframe tbody tr th {\n",
       "        vertical-align: top;\n",
       "    }\n",
       "\n",
       "    .dataframe thead th {\n",
       "        text-align: right;\n",
       "    }\n",
       "</style>\n",
       "<table border=\"1\" class=\"dataframe\">\n",
       "  <thead>\n",
       "    <tr style=\"text-align: right;\">\n",
       "      <th></th>\n",
       "      <th>pair</th>\n",
       "      <th>session</th>\n",
       "      <th>min_pref</th>\n",
       "      <th>min_pref_chose</th>\n",
       "      <th>min_not_pref_chose</th>\n",
       "    </tr>\n",
       "  </thead>\n",
       "  <tbody>\n",
       "    <tr>\n",
       "      <th>0</th>\n",
       "      <td>[CIRCLE, SQUARE]</td>\n",
       "      <td>20180709</td>\n",
       "      <td>53</td>\n",
       "      <td>45</td>\n",
       "      <td>64</td>\n",
       "    </tr>\n",
       "    <tr>\n",
       "      <th>1</th>\n",
       "      <td>[CIRCLE, SQUARE]</td>\n",
       "      <td>20180802</td>\n",
       "      <td>78</td>\n",
       "      <td>63</td>\n",
       "      <td>128</td>\n",
       "    </tr>\n",
       "    <tr>\n",
       "      <th>2</th>\n",
       "      <td>[CIRCLE, SQUARE]</td>\n",
       "      <td>20180803</td>\n",
       "      <td>32</td>\n",
       "      <td>27</td>\n",
       "      <td>116</td>\n",
       "    </tr>\n",
       "    <tr>\n",
       "      <th>3</th>\n",
       "      <td>[CIRCLE, SQUARE]</td>\n",
       "      <td>20180806</td>\n",
       "      <td>88</td>\n",
       "      <td>60</td>\n",
       "      <td>71</td>\n",
       "    </tr>\n",
       "    <tr>\n",
       "      <th>4</th>\n",
       "      <td>[CIRCLE, SQUARE]</td>\n",
       "      <td>20180808</td>\n",
       "      <td>35</td>\n",
       "      <td>27</td>\n",
       "      <td>92</td>\n",
       "    </tr>\n",
       "    <tr>\n",
       "      <th>...</th>\n",
       "      <td>...</td>\n",
       "      <td>...</td>\n",
       "      <td>...</td>\n",
       "      <td>...</td>\n",
       "      <td>...</td>\n",
       "    </tr>\n",
       "    <tr>\n",
       "      <th>2</th>\n",
       "      <td>[YELLOW, RIPPLE]</td>\n",
       "      <td>20180912</td>\n",
       "      <td>80</td>\n",
       "      <td>60</td>\n",
       "      <td>64</td>\n",
       "    </tr>\n",
       "    <tr>\n",
       "      <th>3</th>\n",
       "      <td>[YELLOW, RIPPLE]</td>\n",
       "      <td>20180921</td>\n",
       "      <td>55</td>\n",
       "      <td>44</td>\n",
       "      <td>46</td>\n",
       "    </tr>\n",
       "    <tr>\n",
       "      <th>4</th>\n",
       "      <td>[YELLOW, RIPPLE]</td>\n",
       "      <td>20181005</td>\n",
       "      <td>51</td>\n",
       "      <td>40</td>\n",
       "      <td>85</td>\n",
       "    </tr>\n",
       "    <tr>\n",
       "      <th>5</th>\n",
       "      <td>[YELLOW, RIPPLE]</td>\n",
       "      <td>20181009</td>\n",
       "      <td>50</td>\n",
       "      <td>41</td>\n",
       "      <td>58</td>\n",
       "    </tr>\n",
       "    <tr>\n",
       "      <th>6</th>\n",
       "      <td>[YELLOW, RIPPLE]</td>\n",
       "      <td>20181010</td>\n",
       "      <td>36</td>\n",
       "      <td>30</td>\n",
       "      <td>35</td>\n",
       "    </tr>\n",
       "  </tbody>\n",
       "</table>\n",
       "<p>133 rows × 5 columns</p>\n",
       "</div>"
      ],
      "text/plain": [
       "                pair   session  min_pref  min_pref_chose  min_not_pref_chose\n",
       "0   [CIRCLE, SQUARE]  20180709        53              45                  64\n",
       "1   [CIRCLE, SQUARE]  20180802        78              63                 128\n",
       "2   [CIRCLE, SQUARE]  20180803        32              27                 116\n",
       "3   [CIRCLE, SQUARE]  20180806        88              60                  71\n",
       "4   [CIRCLE, SQUARE]  20180808        35              27                  92\n",
       "..               ...       ...       ...             ...                 ...\n",
       "2   [YELLOW, RIPPLE]  20180912        80              60                  64\n",
       "3   [YELLOW, RIPPLE]  20180921        55              44                  46\n",
       "4   [YELLOW, RIPPLE]  20181005        51              40                  85\n",
       "5   [YELLOW, RIPPLE]  20181009        50              41                  58\n",
       "6   [YELLOW, RIPPLE]  20181010        36              30                  35\n",
       "\n",
       "[133 rows x 5 columns]"
      ]
     },
     "execution_count": 30,
     "metadata": {},
     "output_type": "execute_result"
    }
   ],
   "source": [
    "min_trials"
   ]
  },
  {
   "cell_type": "code",
   "execution_count": 31,
   "metadata": {},
   "outputs": [],
   "source": [
    "min_trials[\"min_all\"] = min_trials[[\"min_pref\", \"min_pref_chose\", \"min_not_pref_chose\"]].min(axis=1)"
   ]
  },
  {
   "cell_type": "code",
   "execution_count": 32,
   "metadata": {},
   "outputs": [],
   "source": [
    "min_trials.to_pickle(\"/data/patrick_res/sessions/pairs_at_least_3blocks_7sess_min_trials.pickle\")"
   ]
  },
  {
   "cell_type": "code",
   "execution_count": 18,
   "metadata": {},
   "outputs": [],
   "source": [
    "min_trials_original = pd.read_pickle(\"/data/patrick_res/sessions/pairs_at_least_3blocks_7sess_min_trials.pickle\")"
   ]
  },
  {
   "cell_type": "code",
   "execution_count": 23,
   "metadata": {},
   "outputs": [
    {
     "data": {
      "text/plain": [
       "78"
      ]
     },
     "execution_count": 23,
     "metadata": {},
     "output_type": "execute_result"
    }
   ],
   "source": [
    "(min_trials_original.min_all - min_trials.min_all).sum()"
   ]
  },
  {
   "cell_type": "code",
   "execution_count": null,
   "metadata": {},
   "outputs": [],
   "source": []
  }
 ],
 "metadata": {
  "kernelspec": {
   "display_name": "Python 3",
   "language": "python",
   "name": "python3"
  },
  "language_info": {
   "codemirror_mode": {
    "name": "ipython",
    "version": 3
   },
   "file_extension": ".py",
   "mimetype": "text/x-python",
   "name": "python",
   "nbconvert_exporter": "python",
   "pygments_lexer": "ipython3",
   "version": "3.10.6"
  }
 },
 "nbformat": 4,
 "nbformat_minor": 2
}
