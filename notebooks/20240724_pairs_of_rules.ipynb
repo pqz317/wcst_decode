{
 "cells": [
  {
   "cell_type": "markdown",
   "metadata": {},
   "source": [
    "### Want to see how many pairs of rules have at least N sessions where both rules appear at least 2 times"
   ]
  },
  {
   "cell_type": "code",
   "execution_count": 2,
   "metadata": {},
   "outputs": [],
   "source": [
    "%load_ext autoreload\n",
    "%autoreload 2\n",
    "\n",
    "import os\n",
    "import numpy as np\n",
    "import pandas as pd\n",
    "import utils.behavioral_utils as behavioral_utils\n",
    "import utils.information_utils as information_utils\n",
    "import utils.visualization_utils as visualization_utils\n",
    "import utils.glm_utils as glm_utils\n",
    "from matplotlib import pyplot as plt\n",
    "import utils.spike_utils as spike_utils\n",
    "from constants.glm_constants import *\n",
    "from constants.behavioral_constants import *\n",
    "\n",
    "import seaborn as sns\n",
    "\n",
    "from scipy.stats import ortho_group\n",
    "from sklearn.linear_model import LogisticRegression\n",
    "from sklearn.svm import LinearSVC\n",
    "from sklearn.model_selection import train_test_split\n",
    "import seaborn as sns\n",
    "import scipy.stats\n"
   ]
  },
  {
   "cell_type": "code",
   "execution_count": 3,
   "metadata": {},
   "outputs": [],
   "source": [
    "num_bins = 2\n",
    "\n",
    "def get_sess_beh(row, beh_path):\n",
    "    session = row.session_name\n",
    "    behavior_path = beh_path.format(sess_name=session)\n",
    "    beh = pd.read_csv(behavior_path)\n",
    "\n",
    "    # filter trials \n",
    "    valid_beh = behavioral_utils.get_valid_trials(beh)\n",
    "    feature_selections = behavioral_utils.get_selection_features(valid_beh)\n",
    "    valid_beh = pd.merge(valid_beh, feature_selections, on=\"TrialNumber\", how=\"inner\")\n",
    "    beh[\"session\"] = session\n",
    "    return beh"
   ]
  },
  {
   "cell_type": "code",
   "execution_count": 4,
   "metadata": {},
   "outputs": [],
   "source": [
    "# Monkey S\n",
    "SESSIONS_PATH = \"/data/patrick_res/sessions/valid_sessions_rpe.pickle\"\n",
    "sessions = pd.read_pickle(SESSIONS_PATH)\n",
    "beh_path = SESS_BEHAVIOR_PATH\n",
    "res = pd.concat(sessions.apply(lambda x: get_sess_beh(x, beh_path), axis=1).values).reset_index()"
   ]
  },
  {
   "cell_type": "code",
   "execution_count": 5,
   "metadata": {},
   "outputs": [],
   "source": [
    "num_blocks = res.groupby([\"session\", \"CurrentRule\"]).apply(lambda x: len(x.BlockNumber.unique())).reset_index()"
   ]
  },
  {
   "cell_type": "code",
   "execution_count": 6,
   "metadata": {},
   "outputs": [
    {
     "data": {
      "text/html": [
       "<div>\n",
       "<style scoped>\n",
       "    .dataframe tbody tr th:only-of-type {\n",
       "        vertical-align: middle;\n",
       "    }\n",
       "\n",
       "    .dataframe tbody tr th {\n",
       "        vertical-align: top;\n",
       "    }\n",
       "\n",
       "    .dataframe thead th {\n",
       "        text-align: right;\n",
       "    }\n",
       "</style>\n",
       "<table border=\"1\" class=\"dataframe\">\n",
       "  <thead>\n",
       "    <tr style=\"text-align: right;\">\n",
       "      <th></th>\n",
       "      <th>session</th>\n",
       "      <th>CurrentRule</th>\n",
       "      <th>0</th>\n",
       "    </tr>\n",
       "  </thead>\n",
       "  <tbody>\n",
       "    <tr>\n",
       "      <th>0</th>\n",
       "      <td>20180705</td>\n",
       "      <td>CIRCLE</td>\n",
       "      <td>1</td>\n",
       "    </tr>\n",
       "    <tr>\n",
       "      <th>1</th>\n",
       "      <td>20180705</td>\n",
       "      <td>CYAN</td>\n",
       "      <td>3</td>\n",
       "    </tr>\n",
       "    <tr>\n",
       "      <th>2</th>\n",
       "      <td>20180705</td>\n",
       "      <td>ESCHER</td>\n",
       "      <td>1</td>\n",
       "    </tr>\n",
       "    <tr>\n",
       "      <th>3</th>\n",
       "      <td>20180705</td>\n",
       "      <td>GREEN</td>\n",
       "      <td>1</td>\n",
       "    </tr>\n",
       "    <tr>\n",
       "      <th>4</th>\n",
       "      <td>20180705</td>\n",
       "      <td>MAGENTA</td>\n",
       "      <td>3</td>\n",
       "    </tr>\n",
       "    <tr>\n",
       "      <th>...</th>\n",
       "      <td>...</td>\n",
       "      <td>...</td>\n",
       "      <td>...</td>\n",
       "    </tr>\n",
       "    <tr>\n",
       "      <th>305</th>\n",
       "      <td>20181010</td>\n",
       "      <td>RIPPLE</td>\n",
       "      <td>5</td>\n",
       "    </tr>\n",
       "    <tr>\n",
       "      <th>306</th>\n",
       "      <td>20181010</td>\n",
       "      <td>SQUARE</td>\n",
       "      <td>1</td>\n",
       "    </tr>\n",
       "    <tr>\n",
       "      <th>307</th>\n",
       "      <td>20181010</td>\n",
       "      <td>STAR</td>\n",
       "      <td>3</td>\n",
       "    </tr>\n",
       "    <tr>\n",
       "      <th>308</th>\n",
       "      <td>20181010</td>\n",
       "      <td>SWIRL</td>\n",
       "      <td>2</td>\n",
       "    </tr>\n",
       "    <tr>\n",
       "      <th>309</th>\n",
       "      <td>20181010</td>\n",
       "      <td>YELLOW</td>\n",
       "      <td>3</td>\n",
       "    </tr>\n",
       "  </tbody>\n",
       "</table>\n",
       "<p>310 rows × 3 columns</p>\n",
       "</div>"
      ],
      "text/plain": [
       "      session CurrentRule  0\n",
       "0    20180705      CIRCLE  1\n",
       "1    20180705        CYAN  3\n",
       "2    20180705      ESCHER  1\n",
       "3    20180705       GREEN  1\n",
       "4    20180705     MAGENTA  3\n",
       "..        ...         ... ..\n",
       "305  20181010      RIPPLE  5\n",
       "306  20181010      SQUARE  1\n",
       "307  20181010        STAR  3\n",
       "308  20181010       SWIRL  2\n",
       "309  20181010      YELLOW  3\n",
       "\n",
       "[310 rows x 3 columns]"
      ]
     },
     "execution_count": 6,
     "metadata": {},
     "output_type": "execute_result"
    }
   ],
   "source": [
    "num_blocks"
   ]
  },
  {
   "cell_type": "code",
   "execution_count": 7,
   "metadata": {},
   "outputs": [],
   "source": [
    "res = []\n",
    "for i in range(12):\n",
    "    for j in range(i + 1, 12):\n",
    "        feat1 = FEATURES[i]\n",
    "        feat2 = FEATURES[j]\n",
    "        sess_1 = num_blocks[(num_blocks.CurrentRule == feat1) & (num_blocks[0] >= 3)].session\n",
    "        sess_2 = num_blocks[(num_blocks.CurrentRule == feat2) & (num_blocks[0] >= 3)].session\n",
    "        joints = sess_1[sess_1.isin(sess_2)].values\n",
    "        res.append({\"pair\": [feat1, feat2], \"sessions\": joints, \"num_sessions\": len(joints)})\n",
    "pairs = pd.DataFrame(res)"
   ]
  },
  {
   "cell_type": "code",
   "execution_count": 8,
   "metadata": {},
   "outputs": [],
   "source": [
    "good_pairs = pairs[pairs.num_sessions >= 10]"
   ]
  },
  {
   "cell_type": "code",
   "execution_count": 41,
   "metadata": {},
   "outputs": [],
   "source": [
    "good_pairs.to_pickle(\"/data/patrick_res/sessions/pairs_at_least_3blocks_10sess.pickle\")"
   ]
  },
  {
   "cell_type": "code",
   "execution_count": 9,
   "metadata": {},
   "outputs": [
    {
     "data": {
      "text/plain": [
       "10"
      ]
     },
     "execution_count": 9,
     "metadata": {},
     "output_type": "execute_result"
    }
   ],
   "source": [
    "len(good_pairs)"
   ]
  },
  {
   "cell_type": "code",
   "execution_count": null,
   "metadata": {},
   "outputs": [],
   "source": []
  }
 ],
 "metadata": {
  "kernelspec": {
   "display_name": "Python 3",
   "language": "python",
   "name": "python3"
  },
  "language_info": {
   "codemirror_mode": {
    "name": "ipython",
    "version": 3
   },
   "file_extension": ".py",
   "mimetype": "text/x-python",
   "name": "python",
   "nbconvert_exporter": "python",
   "pygments_lexer": "ipython3",
   "version": "3.10.6"
  }
 },
 "nbformat": 4,
 "nbformat_minor": 2
}
