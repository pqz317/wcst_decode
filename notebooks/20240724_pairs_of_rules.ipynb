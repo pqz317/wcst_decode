{
 "cells": [
  {
   "cell_type": "markdown",
   "metadata": {},
   "source": [
    "### Want to see how many pairs of rules have at least N sessions where both rules appear at least 2 times"
   ]
  },
  {
   "cell_type": "code",
   "execution_count": 1,
   "metadata": {},
   "outputs": [],
   "source": [
    "%load_ext autoreload\n",
    "%autoreload 2\n",
    "\n",
    "import os\n",
    "import numpy as np\n",
    "import pandas as pd\n",
    "import utils.behavioral_utils as behavioral_utils\n",
    "import utils.information_utils as information_utils\n",
    "import utils.visualization_utils as visualization_utils\n",
    "import utils.glm_utils as glm_utils\n",
    "from matplotlib import pyplot as plt\n",
    "import utils.spike_utils as spike_utils\n",
    "from constants.glm_constants import *\n",
    "from constants.behavioral_constants import *\n",
    "\n",
    "import seaborn as sns\n",
    "\n",
    "from scipy.stats import ortho_group\n",
    "from sklearn.linear_model import LogisticRegression\n",
    "from sklearn.svm import LinearSVC\n",
    "from sklearn.model_selection import train_test_split\n",
    "import seaborn as sns\n",
    "import scipy.stats\n"
   ]
  },
  {
   "cell_type": "code",
   "execution_count": 2,
   "metadata": {},
   "outputs": [],
   "source": [
    "num_bins = 2\n",
    "\n",
    "def get_sess_beh(row, beh_path):\n",
    "    session = row.session_name\n",
    "    behavior_path = beh_path.format(sess_name=session)\n",
    "    beh = pd.read_csv(behavior_path)\n",
    "\n",
    "    # # filter trials \n",
    "    beh = behavioral_utils.get_valid_trials(beh)\n",
    "    feature_selections = behavioral_utils.get_selection_features(beh)\n",
    "    beh = pd.merge(beh, feature_selections, on=\"TrialNumber\", how=\"inner\")\n",
    "\n",
    "    beh = behavioral_utils.get_feature_values_per_session(session, beh)\n",
    "    beh = behavioral_utils.calc_feature_probs(beh)\n",
    "    beh = behavioral_utils.calc_feature_value_entropy(beh)\n",
    "    beh = behavioral_utils.calc_confidence(beh, num_bins=2, quantize_bins=True)\n",
    "    beh[\"ConfidenceLabel\"] = beh.apply(lambda row: f\"High {row.MaxFeat}\" if row.ConfidenceBin == 1 else \"Low\", axis=1)\n",
    "    beh[\"session\"] = session\n",
    "    return beh"
   ]
  },
  {
   "cell_type": "code",
   "execution_count": 3,
   "metadata": {},
   "outputs": [],
   "source": [
    "# Monkey S\n",
    "SESSIONS_PATH = \"/data/patrick_res/sessions/valid_sessions_rpe.pickle\"\n",
    "sessions = pd.read_pickle(SESSIONS_PATH)\n",
    "beh_path = SESS_BEHAVIOR_PATH\n",
    "all_beh = pd.concat(sessions.apply(lambda x: get_sess_beh(x, beh_path), axis=1).values).reset_index()"
   ]
  },
  {
   "cell_type": "code",
   "execution_count": 4,
   "metadata": {},
   "outputs": [],
   "source": [
    "num_blocks = all_beh.groupby([\"session\", \"CurrentRule\"]).apply(lambda x: len(x.BlockNumber.unique())).reset_index()"
   ]
  },
  {
   "cell_type": "code",
   "execution_count": 5,
   "metadata": {},
   "outputs": [],
   "source": [
    "pairs = []\n",
    "for i in range(12):\n",
    "    for j in range(i + 1, 12):\n",
    "        feat1 = FEATURES[i]\n",
    "        feat2 = FEATURES[j]\n",
    "        sess_1 = num_blocks[(num_blocks.CurrentRule == feat1) & (num_blocks[0] >= 3)].session\n",
    "        sess_2 = num_blocks[(num_blocks.CurrentRule == feat2) & (num_blocks[0] >= 3)].session\n",
    "        joints = sess_1[sess_1.isin(sess_2)].values\n",
    "        pairs.append({\"pair\": [feat1, feat2], \"sessions\": joints, \"num_sessions\": len(joints)})\n",
    "pairs = pd.DataFrame(pairs)"
   ]
  },
  {
   "cell_type": "code",
   "execution_count": 6,
   "metadata": {},
   "outputs": [
    {
     "data": {
      "text/html": [
       "<div>\n",
       "<style scoped>\n",
       "    .dataframe tbody tr th:only-of-type {\n",
       "        vertical-align: middle;\n",
       "    }\n",
       "\n",
       "    .dataframe tbody tr th {\n",
       "        vertical-align: top;\n",
       "    }\n",
       "\n",
       "    .dataframe thead th {\n",
       "        text-align: right;\n",
       "    }\n",
       "</style>\n",
       "<table border=\"1\" class=\"dataframe\">\n",
       "  <thead>\n",
       "    <tr style=\"text-align: right;\">\n",
       "      <th></th>\n",
       "      <th>pair</th>\n",
       "      <th>sessions</th>\n",
       "      <th>num_sessions</th>\n",
       "    </tr>\n",
       "  </thead>\n",
       "  <tbody>\n",
       "    <tr>\n",
       "      <th>40</th>\n",
       "      <td>[CYAN, YELLOW]</td>\n",
       "      <td>[20180705, 20180801, 20180802, 20180912, 20180...</td>\n",
       "      <td>9</td>\n",
       "    </tr>\n",
       "    <tr>\n",
       "      <th>53</th>\n",
       "      <td>[MAGENTA, POLKADOT]</td>\n",
       "      <td>[20180705, 20180802, 20180803, 20180808, 20180...</td>\n",
       "      <td>8</td>\n",
       "    </tr>\n",
       "    <tr>\n",
       "      <th>39</th>\n",
       "      <td>[CYAN, MAGENTA]</td>\n",
       "      <td>[20180705, 20180801, 20180802, 20180803, 20180...</td>\n",
       "      <td>8</td>\n",
       "    </tr>\n",
       "    <tr>\n",
       "      <th>45</th>\n",
       "      <td>[GREEN, MAGENTA]</td>\n",
       "      <td>[20180802, 20180806, 20180808, 20180912, 20180...</td>\n",
       "      <td>8</td>\n",
       "    </tr>\n",
       "    <tr>\n",
       "      <th>46</th>\n",
       "      <td>[GREEN, YELLOW]</td>\n",
       "      <td>[20180802, 20180912, 20180921, 20180924, 20180...</td>\n",
       "      <td>8</td>\n",
       "    </tr>\n",
       "    <tr>\n",
       "      <th>0</th>\n",
       "      <td>[CIRCLE, SQUARE]</td>\n",
       "      <td>[20180709, 20180802, 20180803, 20180806, 20180...</td>\n",
       "      <td>8</td>\n",
       "    </tr>\n",
       "    <tr>\n",
       "      <th>6</th>\n",
       "      <td>[CIRCLE, YELLOW]</td>\n",
       "      <td>[20180802, 20180918, 20180921, 20180924, 20181...</td>\n",
       "      <td>7</td>\n",
       "    </tr>\n",
       "    <tr>\n",
       "      <th>51</th>\n",
       "      <td>[MAGENTA, YELLOW]</td>\n",
       "      <td>[20180705, 20180801, 20180802, 20180912, 20180...</td>\n",
       "      <td>7</td>\n",
       "    </tr>\n",
       "    <tr>\n",
       "      <th>4</th>\n",
       "      <td>[CIRCLE, GREEN]</td>\n",
       "      <td>[20180802, 20180806, 20180808, 20180921, 20180...</td>\n",
       "      <td>7</td>\n",
       "    </tr>\n",
       "    <tr>\n",
       "      <th>54</th>\n",
       "      <td>[MAGENTA, RIPPLE]</td>\n",
       "      <td>[20180705, 20180802, 20180803, 20180912, 20180...</td>\n",
       "      <td>7</td>\n",
       "    </tr>\n",
       "  </tbody>\n",
       "</table>\n",
       "</div>"
      ],
      "text/plain": [
       "                   pair                                           sessions  \\\n",
       "40       [CYAN, YELLOW]  [20180705, 20180801, 20180802, 20180912, 20180...   \n",
       "53  [MAGENTA, POLKADOT]  [20180705, 20180802, 20180803, 20180808, 20180...   \n",
       "39      [CYAN, MAGENTA]  [20180705, 20180801, 20180802, 20180803, 20180...   \n",
       "45     [GREEN, MAGENTA]  [20180802, 20180806, 20180808, 20180912, 20180...   \n",
       "46      [GREEN, YELLOW]  [20180802, 20180912, 20180921, 20180924, 20180...   \n",
       "0      [CIRCLE, SQUARE]  [20180709, 20180802, 20180803, 20180806, 20180...   \n",
       "6      [CIRCLE, YELLOW]  [20180802, 20180918, 20180921, 20180924, 20181...   \n",
       "51    [MAGENTA, YELLOW]  [20180705, 20180801, 20180802, 20180912, 20180...   \n",
       "4       [CIRCLE, GREEN]  [20180802, 20180806, 20180808, 20180921, 20180...   \n",
       "54    [MAGENTA, RIPPLE]  [20180705, 20180802, 20180803, 20180912, 20180...   \n",
       "\n",
       "    num_sessions  \n",
       "40             9  \n",
       "53             8  \n",
       "39             8  \n",
       "45             8  \n",
       "46             8  \n",
       "0              8  \n",
       "6              7  \n",
       "51             7  \n",
       "4              7  \n",
       "54             7  "
      ]
     },
     "execution_count": 6,
     "metadata": {},
     "output_type": "execute_result"
    }
   ],
   "source": [
    "pairs.sort_values(by=\"num_sessions\", ascending=False)[:10]"
   ]
  },
  {
   "cell_type": "code",
   "execution_count": 7,
   "metadata": {},
   "outputs": [],
   "source": [
    "good_pairs = pairs[pairs.num_sessions >= 7]"
   ]
  },
  {
   "cell_type": "code",
   "execution_count": 8,
   "metadata": {},
   "outputs": [
    {
     "data": {
      "text/plain": [
       "18"
      ]
     },
     "execution_count": 8,
     "metadata": {},
     "output_type": "execute_result"
    }
   ],
   "source": [
    "len(good_pairs)"
   ]
  },
  {
   "cell_type": "code",
   "execution_count": 9,
   "metadata": {},
   "outputs": [],
   "source": [
    "good_pairs.to_pickle(\"/data/patrick_res/sessions/pairs_at_least_3blocks_7sess.pickle\")"
   ]
  },
  {
   "cell_type": "markdown",
   "metadata": {},
   "source": [
    "### For each session, for each pair, what are the min number of trials that match: \n",
    "- high preferred features\n",
    "- high conf trials where features are chosen but not preferred. "
   ]
  },
  {
   "cell_type": "code",
   "execution_count": 13,
   "metadata": {},
   "outputs": [],
   "source": [
    "def min_trials_per_session(row):\n",
    "    feat1, feat2 = row.pair\n",
    "    res = []\n",
    "    for sess in row.sessions:\n",
    "        beh = all_beh[all_beh.session == sess]\n",
    "\n",
    "        # find minimum number of trials, when either features are preferred\n",
    "        pref_beh = beh[beh.ConfidenceLabel.isin([f\"High {feat1}\", f\"High {feat2}\"])]\n",
    "        min_pref = np.min(pref_beh.groupby(\"ConfidenceLabel\").count().TrialNumber)\n",
    "\n",
    "        # find minimum number of trials, when high confidence, \n",
    "        # either features are not preferred, but still chosen, \n",
    "        not_pref_beh = beh[\n",
    "            (~beh.ConfidenceLabel.isin([f\"High {feat1}\", f\"High {feat2}\"])) & \n",
    "            (beh.ConfidenceLabel != \"Low\")\n",
    "        ]\n",
    "        chose_feat_1 = not_pref_beh[not_pref_beh[FEATURE_TO_DIM[feat1]] == feat1].TrialNumber\n",
    "        chose_feat_2 = not_pref_beh[not_pref_beh[FEATURE_TO_DIM[feat2]] == feat2].TrialNumber\n",
    "        min_not_pref = np.min((len(chose_feat_1), len(chose_feat_2)))\n",
    "\n",
    "        res.append({\"pair\": row.pair, \"session\": sess, \"min_pref\": min_pref, \"min_not_pref\": min_not_pref})\n",
    "    return pd.DataFrame(res)\n",
    "        \n",
    "min_trials = pd.concat(good_pairs.apply(min_trials_per_session, axis=1).values)\n",
    "\n"
   ]
  },
  {
   "cell_type": "code",
   "execution_count": 15,
   "metadata": {},
   "outputs": [],
   "source": [
    "min_trials[\"min_all\"] = min_trials[[\"min_pref\", \"min_not_pref\"]].min(axis=1)"
   ]
  },
  {
   "cell_type": "code",
   "execution_count": 17,
   "metadata": {},
   "outputs": [],
   "source": [
    "min_trials.to_pickle(\"/data/patrick_res/sessions/pairs_at_least_3blocks_7sess_min_trials.pickle\")"
   ]
  },
  {
   "cell_type": "code",
   "execution_count": 29,
   "metadata": {},
   "outputs": [
    {
     "data": {
      "text/plain": [
       "57"
      ]
     },
     "execution_count": 29,
     "metadata": {},
     "output_type": "execute_result"
    }
   ],
   "source": [
    "min_trials[(min_trials.pair.isin([[\"CIRCLE\", \"SQUARE\"]])) & (min_trials.session == \"20180709\")].iloc[0].min_all"
   ]
  },
  {
   "cell_type": "code",
   "execution_count": null,
   "metadata": {},
   "outputs": [],
   "source": []
  }
 ],
 "metadata": {
  "kernelspec": {
   "display_name": "Python 3",
   "language": "python",
   "name": "python3"
  },
  "language_info": {
   "codemirror_mode": {
    "name": "ipython",
    "version": 3
   },
   "file_extension": ".py",
   "mimetype": "text/x-python",
   "name": "python",
   "nbconvert_exporter": "python",
   "pygments_lexer": "ipython3",
   "version": "3.10.6"
  }
 },
 "nbformat": 4,
 "nbformat_minor": 2
}
