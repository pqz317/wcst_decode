{
 "cells": [
  {
   "cell_type": "markdown",
   "metadata": {},
   "source": [
    "### Script to find good pairs for each subject\n",
    "Criteria: \n",
    "- For each pair of features, find sessions where the pairs of features each show up least N blocks as rules per session \n",
    "- Find pairs of features which have at least M sessions that satisfy this condition. "
   ]
  },
  {
   "cell_type": "code",
   "execution_count": 1,
   "metadata": {},
   "outputs": [],
   "source": [
    "%load_ext autoreload\n",
    "%autoreload 2\n",
    "\n",
    "import os\n",
    "import numpy as np\n",
    "import pandas as pd\n",
    "import utils.behavioral_utils as behavioral_utils\n",
    "import utils.information_utils as information_utils\n",
    "import utils.visualization_utils as visualization_utils\n",
    "import utils.glm_utils as glm_utils\n",
    "from matplotlib import pyplot as plt\n",
    "import utils.spike_utils as spike_utils\n",
    "from constants.glm_constants import *\n",
    "from constants.behavioral_constants import *\n",
    "\n",
    "import seaborn as sns\n",
    "import scipy.stats\n"
   ]
  },
  {
   "cell_type": "code",
   "execution_count": 2,
   "metadata": {},
   "outputs": [],
   "source": [
    "num_bins = 2\n",
    "\n",
    "def get_sess_beh(row, beh_path, sub):\n",
    "    session = row.session_name\n",
    "    behavior_path = beh_path.format(sess_name=session)\n",
    "    beh = pd.read_csv(behavior_path)\n",
    "\n",
    "    # # filter trials \n",
    "    beh = behavioral_utils.get_valid_trials(beh)\n",
    "    feature_selections = behavioral_utils.get_selection_features(beh)\n",
    "    beh = pd.merge(beh, feature_selections, on=\"TrialNumber\", how=\"inner\")\n",
    "    beh = behavioral_utils.get_beliefs_per_session(beh, session, sub)\n",
    "    beh = behavioral_utils.get_belief_value_labels(beh)\n",
    "    beh[\"session\"] = session\n",
    "    return beh"
   ]
  },
  {
   "cell_type": "markdown",
   "metadata": {},
   "source": [
    "### Load behavior based on subject"
   ]
  },
  {
   "cell_type": "code",
   "execution_count": 3,
   "metadata": {},
   "outputs": [],
   "source": [
    "sub = \"SA\"\n",
    "\n",
    "if sub == \"SA\":\n",
    "    # Monkey S\n",
    "    SESSIONS_PATH = \"/data/patrick_res/sessions/SA/valid_sessions.pickle\"\n",
    "    sessions = pd.read_pickle(SESSIONS_PATH)\n",
    "    beh_path = SESS_BEHAVIOR_PATH\n",
    "    all_beh = pd.concat(sessions.apply(lambda x: get_sess_beh(x, beh_path, \"SA\"), axis=1).values).reset_index()\n",
    "elif sub == \"BL\":\n",
    "    # Monkey B\n",
    "    # all_units = pd.read_pickle(\"/data/patrick_res/firing_rates/BL/all_units.pickle\")\n",
    "    # sessions = pd.DataFrame({\"session_name\": all_units.session.unique()})\n",
    "    sessions = pd.read_pickle(\"/data/patrick_res/sessions/BL/valid_sessions.pickle\")\n",
    "    all_beh = pd.concat(sessions.apply(lambda x: get_sess_beh(x, BL_SESS_BEHAVIOR_PATH, \"BL\"), axis=1).values).reset_index()\n",
    "else: \n",
    "    raise ValueError()"
   ]
  },
  {
   "cell_type": "code",
   "execution_count": 4,
   "metadata": {},
   "outputs": [],
   "source": [
    "sub = all_beh[[\"TrialNumber\", \"BeliefStateValue\"]]"
   ]
  },
  {
   "cell_type": "code",
   "execution_count": 5,
   "metadata": {},
   "outputs": [],
   "source": [
    "block_thresh = 3"
   ]
  },
  {
   "cell_type": "code",
   "execution_count": 6,
   "metadata": {},
   "outputs": [
    {
     "data": {
      "text/html": [
       "<div>\n",
       "<style scoped>\n",
       "    .dataframe tbody tr th:only-of-type {\n",
       "        vertical-align: middle;\n",
       "    }\n",
       "\n",
       "    .dataframe tbody tr th {\n",
       "        vertical-align: top;\n",
       "    }\n",
       "\n",
       "    .dataframe thead th {\n",
       "        text-align: right;\n",
       "    }\n",
       "</style>\n",
       "<table border=\"1\" class=\"dataframe\">\n",
       "  <thead>\n",
       "    <tr style=\"text-align: right;\">\n",
       "      <th></th>\n",
       "      <th>pair</th>\n",
       "      <th>sessions</th>\n",
       "      <th>num_sessions</th>\n",
       "      <th>dim_type</th>\n",
       "    </tr>\n",
       "  </thead>\n",
       "  <tbody>\n",
       "    <tr>\n",
       "      <th>0</th>\n",
       "      <td>[CIRCLE, SQUARE]</td>\n",
       "      <td>[20180615, 20180709, 20180802, 20180803, 20180...</td>\n",
       "      <td>14</td>\n",
       "      <td>within dim</td>\n",
       "    </tr>\n",
       "    <tr>\n",
       "      <th>40</th>\n",
       "      <td>[CYAN, YELLOW]</td>\n",
       "      <td>[20180705, 20180801, 20180802, 20180820, 20180...</td>\n",
       "      <td>14</td>\n",
       "      <td>within dim</td>\n",
       "    </tr>\n",
       "    <tr>\n",
       "      <th>6</th>\n",
       "      <td>[CIRCLE, YELLOW]</td>\n",
       "      <td>[20180802, 20180810, 20180813, 20180821, 20180...</td>\n",
       "      <td>13</td>\n",
       "      <td>across dim</td>\n",
       "    </tr>\n",
       "    <tr>\n",
       "      <th>46</th>\n",
       "      <td>[GREEN, YELLOW]</td>\n",
       "      <td>[20180802, 20180813, 20180829, 20180904, 20180...</td>\n",
       "      <td>12</td>\n",
       "      <td>within dim</td>\n",
       "    </tr>\n",
       "    <tr>\n",
       "      <th>16</th>\n",
       "      <td>[SQUARE, YELLOW]</td>\n",
       "      <td>[20180801, 20180802, 20180810, 20180820, 20180...</td>\n",
       "      <td>12</td>\n",
       "      <td>across dim</td>\n",
       "    </tr>\n",
       "    <tr>\n",
       "      <th>13</th>\n",
       "      <td>[SQUARE, CYAN]</td>\n",
       "      <td>[20180801, 20180802, 20180803, 20180820, 20180...</td>\n",
       "      <td>11</td>\n",
       "      <td>across dim</td>\n",
       "    </tr>\n",
       "    <tr>\n",
       "      <th>51</th>\n",
       "      <td>[MAGENTA, YELLOW]</td>\n",
       "      <td>[20180705, 20180801, 20180802, 20180820, 20180...</td>\n",
       "      <td>11</td>\n",
       "      <td>within dim</td>\n",
       "    </tr>\n",
       "    <tr>\n",
       "      <th>56</th>\n",
       "      <td>[YELLOW, ESCHER]</td>\n",
       "      <td>[20180810, 20180813, 20180820, 20180821, 20180...</td>\n",
       "      <td>11</td>\n",
       "      <td>across dim</td>\n",
       "    </tr>\n",
       "    <tr>\n",
       "      <th>58</th>\n",
       "      <td>[YELLOW, RIPPLE]</td>\n",
       "      <td>[20180705, 20180802, 20180810, 20180821, 20180...</td>\n",
       "      <td>11</td>\n",
       "      <td>across dim</td>\n",
       "    </tr>\n",
       "    <tr>\n",
       "      <th>15</th>\n",
       "      <td>[SQUARE, MAGENTA]</td>\n",
       "      <td>[20180801, 20180802, 20180803, 20180806, 20180...</td>\n",
       "      <td>11</td>\n",
       "      <td>across dim</td>\n",
       "    </tr>\n",
       "    <tr>\n",
       "      <th>39</th>\n",
       "      <td>[CYAN, MAGENTA]</td>\n",
       "      <td>[20180705, 20180801, 20180802, 20180803, 20180...</td>\n",
       "      <td>11</td>\n",
       "      <td>within dim</td>\n",
       "    </tr>\n",
       "    <tr>\n",
       "      <th>4</th>\n",
       "      <td>[CIRCLE, GREEN]</td>\n",
       "      <td>[20180802, 20180806, 20180808, 20180813, 20180...</td>\n",
       "      <td>11</td>\n",
       "      <td>across dim</td>\n",
       "    </tr>\n",
       "    <tr>\n",
       "      <th>57</th>\n",
       "      <td>[YELLOW, POLKADOT]</td>\n",
       "      <td>[20180705, 20180802, 20180810, 20180813, 20180...</td>\n",
       "      <td>10</td>\n",
       "      <td>across dim</td>\n",
       "    </tr>\n",
       "    <tr>\n",
       "      <th>9</th>\n",
       "      <td>[CIRCLE, RIPPLE]</td>\n",
       "      <td>[20180615, 20180802, 20180803, 20180810, 20180...</td>\n",
       "      <td>10</td>\n",
       "      <td>across dim</td>\n",
       "    </tr>\n",
       "    <tr>\n",
       "      <th>17</th>\n",
       "      <td>[SQUARE, ESCHER]</td>\n",
       "      <td>[20180803, 20180808, 20180810, 20180820, 20180...</td>\n",
       "      <td>10</td>\n",
       "      <td>across dim</td>\n",
       "    </tr>\n",
       "    <tr>\n",
       "      <th>45</th>\n",
       "      <td>[GREEN, MAGENTA]</td>\n",
       "      <td>[20180802, 20180806, 20180808, 20180817, 20180...</td>\n",
       "      <td>10</td>\n",
       "      <td>within dim</td>\n",
       "    </tr>\n",
       "    <tr>\n",
       "      <th>14</th>\n",
       "      <td>[SQUARE, GREEN]</td>\n",
       "      <td>[20180802, 20180806, 20180808, 20180830, 20180...</td>\n",
       "      <td>10</td>\n",
       "      <td>across dim</td>\n",
       "    </tr>\n",
       "    <tr>\n",
       "      <th>53</th>\n",
       "      <td>[MAGENTA, POLKADOT]</td>\n",
       "      <td>[20180705, 20180802, 20180803, 20180808, 20180...</td>\n",
       "      <td>9</td>\n",
       "      <td>across dim</td>\n",
       "    </tr>\n",
       "    <tr>\n",
       "      <th>18</th>\n",
       "      <td>[SQUARE, POLKADOT]</td>\n",
       "      <td>[20180709, 20180802, 20180803, 20180808, 20180...</td>\n",
       "      <td>9</td>\n",
       "      <td>across dim</td>\n",
       "    </tr>\n",
       "    <tr>\n",
       "      <th>1</th>\n",
       "      <td>[CIRCLE, STAR]</td>\n",
       "      <td>[20180709, 20180803, 20180821, 20180911, 20180...</td>\n",
       "      <td>9</td>\n",
       "      <td>within dim</td>\n",
       "    </tr>\n",
       "  </tbody>\n",
       "</table>\n",
       "</div>"
      ],
      "text/plain": [
       "                   pair                                           sessions  \\\n",
       "0      [CIRCLE, SQUARE]  [20180615, 20180709, 20180802, 20180803, 20180...   \n",
       "40       [CYAN, YELLOW]  [20180705, 20180801, 20180802, 20180820, 20180...   \n",
       "6      [CIRCLE, YELLOW]  [20180802, 20180810, 20180813, 20180821, 20180...   \n",
       "46      [GREEN, YELLOW]  [20180802, 20180813, 20180829, 20180904, 20180...   \n",
       "16     [SQUARE, YELLOW]  [20180801, 20180802, 20180810, 20180820, 20180...   \n",
       "13       [SQUARE, CYAN]  [20180801, 20180802, 20180803, 20180820, 20180...   \n",
       "51    [MAGENTA, YELLOW]  [20180705, 20180801, 20180802, 20180820, 20180...   \n",
       "56     [YELLOW, ESCHER]  [20180810, 20180813, 20180820, 20180821, 20180...   \n",
       "58     [YELLOW, RIPPLE]  [20180705, 20180802, 20180810, 20180821, 20180...   \n",
       "15    [SQUARE, MAGENTA]  [20180801, 20180802, 20180803, 20180806, 20180...   \n",
       "39      [CYAN, MAGENTA]  [20180705, 20180801, 20180802, 20180803, 20180...   \n",
       "4       [CIRCLE, GREEN]  [20180802, 20180806, 20180808, 20180813, 20180...   \n",
       "57   [YELLOW, POLKADOT]  [20180705, 20180802, 20180810, 20180813, 20180...   \n",
       "9      [CIRCLE, RIPPLE]  [20180615, 20180802, 20180803, 20180810, 20180...   \n",
       "17     [SQUARE, ESCHER]  [20180803, 20180808, 20180810, 20180820, 20180...   \n",
       "45     [GREEN, MAGENTA]  [20180802, 20180806, 20180808, 20180817, 20180...   \n",
       "14      [SQUARE, GREEN]  [20180802, 20180806, 20180808, 20180830, 20180...   \n",
       "53  [MAGENTA, POLKADOT]  [20180705, 20180802, 20180803, 20180808, 20180...   \n",
       "18   [SQUARE, POLKADOT]  [20180709, 20180802, 20180803, 20180808, 20180...   \n",
       "1        [CIRCLE, STAR]  [20180709, 20180803, 20180821, 20180911, 20180...   \n",
       "\n",
       "    num_sessions    dim_type  \n",
       "0             14  within dim  \n",
       "40            14  within dim  \n",
       "6             13  across dim  \n",
       "46            12  within dim  \n",
       "16            12  across dim  \n",
       "13            11  across dim  \n",
       "51            11  within dim  \n",
       "56            11  across dim  \n",
       "58            11  across dim  \n",
       "15            11  across dim  \n",
       "39            11  within dim  \n",
       "4             11  across dim  \n",
       "57            10  across dim  \n",
       "9             10  across dim  \n",
       "17            10  across dim  \n",
       "45            10  within dim  \n",
       "14            10  across dim  \n",
       "53             9  across dim  \n",
       "18             9  across dim  \n",
       "1              9  within dim  "
      ]
     },
     "execution_count": 6,
     "metadata": {},
     "output_type": "execute_result"
    }
   ],
   "source": [
    "pairs = behavioral_utils.get_good_pairs_across_sessions(all_beh, block_thresh)\n",
    "pairs.sort_values(by=\"num_sessions\", ascending=False)[:20]"
   ]
  },
  {
   "cell_type": "code",
   "execution_count": 13,
   "metadata": {},
   "outputs": [],
   "source": [
    "good_sess = pairs[pairs.num_sessions >=3].sessions.explode()"
   ]
  },
  {
   "cell_type": "code",
   "execution_count": 15,
   "metadata": {},
   "outputs": [
    {
     "data": {
      "text/plain": [
       "0     20180615\n",
       "0     20180709\n",
       "0     20180802\n",
       "0     20180803\n",
       "0     20180806\n",
       "        ...   \n",
       "65    20180802\n",
       "65    20180803\n",
       "65    20180810\n",
       "65    20180817\n",
       "65    20180921\n",
       "Name: sessions, Length: 526, dtype: object"
      ]
     },
     "execution_count": 15,
     "metadata": {},
     "output_type": "execute_result"
    }
   ],
   "source": [
    "all_units = pd.read_pickle(\"/data/patrick_res/firing_rates/SA/all_units.pickle\")\n",
    "\n",
    "good_sess[good_sess.isin(all_units.session.unique())]"
   ]
  },
  {
   "cell_type": "code",
   "execution_count": 8,
   "metadata": {},
   "outputs": [],
   "source": [
    "session_thresh = 10"
   ]
  },
  {
   "cell_type": "code",
   "execution_count": 9,
   "metadata": {},
   "outputs": [],
   "source": [
    "good_pairs = pairs[pairs.num_sessions >= session_thresh]"
   ]
  },
  {
   "cell_type": "code",
   "execution_count": 18,
   "metadata": {},
   "outputs": [
    {
     "data": {
      "text/plain": [
       "17"
      ]
     },
     "execution_count": 18,
     "metadata": {},
     "output_type": "execute_result"
    }
   ],
   "source": [
    "len(good_pairs)"
   ]
  },
  {
   "cell_type": "code",
   "execution_count": 19,
   "metadata": {},
   "outputs": [
    {
     "data": {
      "text/plain": [
       "6"
      ]
     },
     "execution_count": 19,
     "metadata": {},
     "output_type": "execute_result"
    }
   ],
   "source": [
    "len(good_pairs[good_pairs.dim_type == \"within dim\"])"
   ]
  },
  {
   "cell_type": "code",
   "execution_count": 7,
   "metadata": {},
   "outputs": [
    {
     "ename": "NameError",
     "evalue": "name 'good_pairs' is not defined",
     "output_type": "error",
     "traceback": [
      "\u001b[0;31m---------------------------------------------------------------------------\u001b[0m",
      "\u001b[0;31mNameError\u001b[0m                                 Traceback (most recent call last)",
      "Cell \u001b[0;32mIn[7], line 1\u001b[0m\n\u001b[0;32m----> 1\u001b[0m \u001b[43mgood_pairs\u001b[49m\n",
      "\u001b[0;31mNameError\u001b[0m: name 'good_pairs' is not defined"
     ]
    }
   ],
   "source": [
    "good_pairs"
   ]
  },
  {
   "cell_type": "code",
   "execution_count": 20,
   "metadata": {},
   "outputs": [],
   "source": [
    "# good_pairs.to_pickle(\"/data/patrick_res/sessions/pairs_at_least_3blocks_7sess.pickle\")\n",
    "good_pairs.to_pickle(f\"/data/patrick_res/sessions/{sub}/pairs_at_least_{block_thresh}blocks_{session_thresh}sess.pickle\")"
   ]
  },
  {
   "cell_type": "markdown",
   "metadata": {},
   "source": [
    "### For each session, for each pair, what are the min number of trials that match: \n",
    "- high preferred features\n",
    "- high conf trials where features are chosen but not preferred. "
   ]
  },
  {
   "cell_type": "code",
   "execution_count": 10,
   "metadata": {},
   "outputs": [],
   "source": [
    "high_val_only = False\n",
    "def min_trials_per_session(row):\n",
    "    res = []\n",
    "    for sess in row.sessions:\n",
    "        beh = all_beh[all_beh.session == sess]\n",
    "\n",
    "        # find minimum number of trials, when either features are preferred\n",
    "        # pref_beh = beh[beh.BeliefStateValueLabel.isin([f\"High {feat1}\", f\"High {feat2}\"])]\n",
    "        # min_pref = np.min(pref_beh.groupby(\"BeliefStateValueLabel\").count().TrialNumber)\n",
    "\n",
    "        pref_chose = behavioral_utils.get_chosen_preferred_trials(row.pair, beh, high_val_only)\n",
    "        min_pref_chose = np.min(pref_chose.groupby(\"Choice\").count().TrialNumber)\n",
    "\n",
    "\n",
    "        not_pref_chose = behavioral_utils.get_chosen_not_preferred_trials(row.pair, beh, high_val_only)\n",
    "\n",
    "        min_not_pref = np.min(not_pref_chose.groupby(\"Choice\").count().TrialNumber)\n",
    "\n",
    "        res.append({\n",
    "            \"pair\": row.pair, \n",
    "            \"session\": sess, \n",
    "            \"min_pref_chose\": min_pref_chose,\n",
    "            \"min_not_pref_chose\": min_not_pref,\n",
    "            \"min_all\": np.min((min_pref_chose, min_not_pref))\n",
    "        })\n",
    "    return pd.DataFrame(res)\n",
    "        \n",
    "min_trials = pd.concat(good_pairs.apply(min_trials_per_session, axis=1).values)\n",
    "\n"
   ]
  },
  {
   "cell_type": "code",
   "execution_count": 12,
   "metadata": {},
   "outputs": [
    {
     "data": {
      "text/plain": [
       "array([[<Axes: title={'center': 'min_pref_chose'}>,\n",
       "        <Axes: title={'center': 'min_not_pref_chose'}>],\n",
       "       [<Axes: title={'center': 'min_all'}>, <Axes: >]], dtype=object)"
      ]
     },
     "execution_count": 12,
     "metadata": {},
     "output_type": "execute_result"
    },
    {
     "data": {
      "image/png": "[encoded data removed]",
      "text/plain": [
       "<Figure size 640x480 with 4 Axes>"
      ]
     },
     "metadata": {},
     "output_type": "display_data"
    }
   ],
   "source": [
    "min_trials.sort_values(by=\"min_all\").hist()"
   ]
  },
  {
   "cell_type": "code",
   "execution_count": 18,
   "metadata": {},
   "outputs": [],
   "source": [
    "# min_trials.to_pickle(\"/data/patrick_res/sessions/SA/pairs_at_least_3blocks_7sess_min_trials.pickle\")\n",
    "# min_trials.to_pickle(\"/data/patrick_res/sessions/SA/pairs_at_least_3blocks_10sess_more_sess.pickle\")\n"
   ]
  },
  {
   "cell_type": "code",
   "execution_count": 18,
   "metadata": {},
   "outputs": [],
   "source": [
    "min_trials_original = pd.read_pickle(\"/data/patrick_res/sessions/pairs_at_least_3blocks_7sess_min_trials.pickle\")"
   ]
  },
  {
   "cell_type": "code",
   "execution_count": 23,
   "metadata": {},
   "outputs": [
    {
     "data": {
      "text/plain": [
       "78"
      ]
     },
     "execution_count": 23,
     "metadata": {},
     "output_type": "execute_result"
    }
   ],
   "source": [
    "(min_trials_original.min_all - min_trials.min_all).sum()"
   ]
  },
  {
   "cell_type": "code",
   "execution_count": null,
   "metadata": {},
   "outputs": [],
   "source": []
  }
 ],
 "metadata": {
  "kernelspec": {
   "display_name": "Python 3",
   "language": "python",
   "name": "python3"
  },
  "language_info": {
   "codemirror_mode": {
    "name": "ipython",
    "version": 3
   },
   "file_extension": ".py",
   "mimetype": "text/x-python",
   "name": "python",
   "nbconvert_exporter": "python",
   "pygments_lexer": "ipython3",
   "version": "3.10.6"
  }
 },
 "nbformat": 4,
 "nbformat_minor": 2
}
