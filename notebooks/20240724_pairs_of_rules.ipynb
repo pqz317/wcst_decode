{
 "cells": [
  {
   "cell_type": "markdown",
   "metadata": {},
   "source": [
    "### Want to see how many pairs of rules have at least N sessions where both rules appear at least 2 times"
   ]
  },
  {
   "cell_type": "code",
   "execution_count": 76,
   "metadata": {},
   "outputs": [
    {
     "name": "stdout",
     "output_type": "stream",
     "text": [
      "The autoreload extension is already loaded. To reload it, use:\n",
      "  %reload_ext autoreload\n"
     ]
    }
   ],
   "source": [
    "%load_ext autoreload\n",
    "%autoreload 2\n",
    "\n",
    "import os\n",
    "import numpy as np\n",
    "import pandas as pd\n",
    "import utils.behavioral_utils as behavioral_utils\n",
    "import utils.information_utils as information_utils\n",
    "import utils.visualization_utils as visualization_utils\n",
    "import utils.glm_utils as glm_utils\n",
    "from matplotlib import pyplot as plt\n",
    "import utils.spike_utils as spike_utils\n",
    "from constants.glm_constants import *\n",
    "from constants.behavioral_constants import *\n",
    "\n",
    "import seaborn as sns\n",
    "\n",
    "from scipy.stats import ortho_group\n",
    "from sklearn.linear_model import LogisticRegression\n",
    "from sklearn.svm import LinearSVC\n",
    "from sklearn.model_selection import train_test_split\n",
    "import seaborn as sns\n",
    "import scipy.stats\n"
   ]
  },
  {
   "cell_type": "code",
   "execution_count": 90,
   "metadata": {},
   "outputs": [],
   "source": [
    "num_bins = 2\n",
    "\n",
    "def get_sess_beh(row, beh_path):\n",
    "    session = row.session_name\n",
    "    behavior_path = beh_path.format(sess_name=session)\n",
    "    beh = pd.read_csv(behavior_path)\n",
    "\n",
    "    # # filter trials \n",
    "    beh = behavioral_utils.get_valid_trials(beh)\n",
    "    feature_selections = behavioral_utils.get_selection_features(beh)\n",
    "    beh = pd.merge(beh, feature_selections, on=\"TrialNumber\", how=\"inner\")\n",
    "\n",
    "    beh = behavioral_utils.get_feature_values_per_session(session, beh)\n",
    "    beh = behavioral_utils.calc_feature_probs(beh)\n",
    "    beh = behavioral_utils.calc_feature_value_entropy(beh)\n",
    "    beh = behavioral_utils.calc_confidence(beh, num_bins=2, quantize_bins=True)\n",
    "    beh[\"ConfidenceLabel\"] = beh.apply(lambda row: f\"High {row.MaxFeat}\" if row.ConfidenceBin == 1 else \"Low\", axis=1)\n",
    "    beh[\"session\"] = session\n",
    "    return beh"
   ]
  },
  {
   "cell_type": "code",
   "execution_count": 91,
   "metadata": {},
   "outputs": [
    {
     "ename": "ValueError",
     "evalue": "cannot convert float NaN to integer",
     "output_type": "error",
     "traceback": [
      "\u001b[0;31m---------------------------------------------------------------------------\u001b[0m",
      "\u001b[0;31mValueError\u001b[0m                                Traceback (most recent call last)",
      "Cell \u001b[0;32mIn[91], line 5\u001b[0m\n\u001b[1;32m      3\u001b[0m sessions \u001b[38;5;241m=\u001b[39m pd\u001b[38;5;241m.\u001b[39mread_pickle(SESSIONS_PATH)\n\u001b[1;32m      4\u001b[0m beh_path \u001b[38;5;241m=\u001b[39m SESS_BEHAVIOR_PATH\n\u001b[0;32m----> 5\u001b[0m all_beh \u001b[38;5;241m=\u001b[39m pd\u001b[38;5;241m.\u001b[39mconcat(\u001b[43msessions\u001b[49m\u001b[38;5;241;43m.\u001b[39;49m\u001b[43mapply\u001b[49m\u001b[43m(\u001b[49m\u001b[38;5;28;43;01mlambda\u001b[39;49;00m\u001b[43m \u001b[49m\u001b[43mx\u001b[49m\u001b[43m:\u001b[49m\u001b[43m \u001b[49m\u001b[43mget_sess_beh\u001b[49m\u001b[43m(\u001b[49m\u001b[43mx\u001b[49m\u001b[43m,\u001b[49m\u001b[43m \u001b[49m\u001b[43mbeh_path\u001b[49m\u001b[43m)\u001b[49m\u001b[43m,\u001b[49m\u001b[43m \u001b[49m\u001b[43maxis\u001b[49m\u001b[38;5;241;43m=\u001b[39;49m\u001b[38;5;241;43m1\u001b[39;49m\u001b[43m)\u001b[49m\u001b[38;5;241m.\u001b[39mvalues)\u001b[38;5;241m.\u001b[39mreset_index()\n",
      "File \u001b[0;32m/usr/local/lib/python3.10/dist-packages/pandas/core/frame.py:9568\u001b[0m, in \u001b[0;36mDataFrame.apply\u001b[0;34m(self, func, axis, raw, result_type, args, **kwargs)\u001b[0m\n\u001b[1;32m   9557\u001b[0m \u001b[38;5;28;01mfrom\u001b[39;00m \u001b[38;5;21;01mpandas\u001b[39;00m\u001b[38;5;21;01m.\u001b[39;00m\u001b[38;5;21;01mcore\u001b[39;00m\u001b[38;5;21;01m.\u001b[39;00m\u001b[38;5;21;01mapply\u001b[39;00m \u001b[38;5;28;01mimport\u001b[39;00m frame_apply\n\u001b[1;32m   9559\u001b[0m op \u001b[38;5;241m=\u001b[39m frame_apply(\n\u001b[1;32m   9560\u001b[0m     \u001b[38;5;28mself\u001b[39m,\n\u001b[1;32m   9561\u001b[0m     func\u001b[38;5;241m=\u001b[39mfunc,\n\u001b[0;32m   (...)\u001b[0m\n\u001b[1;32m   9566\u001b[0m     kwargs\u001b[38;5;241m=\u001b[39mkwargs,\n\u001b[1;32m   9567\u001b[0m )\n\u001b[0;32m-> 9568\u001b[0m \u001b[38;5;28;01mreturn\u001b[39;00m \u001b[43mop\u001b[49m\u001b[38;5;241;43m.\u001b[39;49m\u001b[43mapply\u001b[49m\u001b[43m(\u001b[49m\u001b[43m)\u001b[49m\u001b[38;5;241m.\u001b[39m__finalize__(\u001b[38;5;28mself\u001b[39m, method\u001b[38;5;241m=\u001b[39m\u001b[38;5;124m\"\u001b[39m\u001b[38;5;124mapply\u001b[39m\u001b[38;5;124m\"\u001b[39m)\n",
      "File \u001b[0;32m/usr/local/lib/python3.10/dist-packages/pandas/core/apply.py:764\u001b[0m, in \u001b[0;36mFrameApply.apply\u001b[0;34m(self)\u001b[0m\n\u001b[1;32m    761\u001b[0m \u001b[38;5;28;01melif\u001b[39;00m \u001b[38;5;28mself\u001b[39m\u001b[38;5;241m.\u001b[39mraw:\n\u001b[1;32m    762\u001b[0m     \u001b[38;5;28;01mreturn\u001b[39;00m \u001b[38;5;28mself\u001b[39m\u001b[38;5;241m.\u001b[39mapply_raw()\n\u001b[0;32m--> 764\u001b[0m \u001b[38;5;28;01mreturn\u001b[39;00m \u001b[38;5;28;43mself\u001b[39;49m\u001b[38;5;241;43m.\u001b[39;49m\u001b[43mapply_standard\u001b[49m\u001b[43m(\u001b[49m\u001b[43m)\u001b[49m\n",
      "File \u001b[0;32m/usr/local/lib/python3.10/dist-packages/pandas/core/apply.py:891\u001b[0m, in \u001b[0;36mFrameApply.apply_standard\u001b[0;34m(self)\u001b[0m\n\u001b[1;32m    890\u001b[0m \u001b[38;5;28;01mdef\u001b[39;00m \u001b[38;5;21mapply_standard\u001b[39m(\u001b[38;5;28mself\u001b[39m):\n\u001b[0;32m--> 891\u001b[0m     results, res_index \u001b[38;5;241m=\u001b[39m \u001b[38;5;28;43mself\u001b[39;49m\u001b[38;5;241;43m.\u001b[39;49m\u001b[43mapply_series_generator\u001b[49m\u001b[43m(\u001b[49m\u001b[43m)\u001b[49m\n\u001b[1;32m    893\u001b[0m     \u001b[38;5;66;03m# wrap results\u001b[39;00m\n\u001b[1;32m    894\u001b[0m     \u001b[38;5;28;01mreturn\u001b[39;00m \u001b[38;5;28mself\u001b[39m\u001b[38;5;241m.\u001b[39mwrap_results(results, res_index)\n",
      "File \u001b[0;32m/usr/local/lib/python3.10/dist-packages/pandas/core/apply.py:907\u001b[0m, in \u001b[0;36mFrameApply.apply_series_generator\u001b[0;34m(self)\u001b[0m\n\u001b[1;32m    904\u001b[0m \u001b[38;5;28;01mwith\u001b[39;00m option_context(\u001b[38;5;124m\"\u001b[39m\u001b[38;5;124mmode.chained_assignment\u001b[39m\u001b[38;5;124m\"\u001b[39m, \u001b[38;5;28;01mNone\u001b[39;00m):\n\u001b[1;32m    905\u001b[0m     \u001b[38;5;28;01mfor\u001b[39;00m i, v \u001b[38;5;129;01min\u001b[39;00m \u001b[38;5;28menumerate\u001b[39m(series_gen):\n\u001b[1;32m    906\u001b[0m         \u001b[38;5;66;03m# ignore SettingWithCopy here in case the user mutates\u001b[39;00m\n\u001b[0;32m--> 907\u001b[0m         results[i] \u001b[38;5;241m=\u001b[39m \u001b[38;5;28;43mself\u001b[39;49m\u001b[38;5;241;43m.\u001b[39;49m\u001b[43mf\u001b[49m\u001b[43m(\u001b[49m\u001b[43mv\u001b[49m\u001b[43m)\u001b[49m\n\u001b[1;32m    908\u001b[0m         \u001b[38;5;28;01mif\u001b[39;00m \u001b[38;5;28misinstance\u001b[39m(results[i], ABCSeries):\n\u001b[1;32m    909\u001b[0m             \u001b[38;5;66;03m# If we have a view on v, we need to make a copy because\u001b[39;00m\n\u001b[1;32m    910\u001b[0m             \u001b[38;5;66;03m#  series_generator will swap out the underlying data\u001b[39;00m\n\u001b[1;32m    911\u001b[0m             results[i] \u001b[38;5;241m=\u001b[39m results[i]\u001b[38;5;241m.\u001b[39mcopy(deep\u001b[38;5;241m=\u001b[39m\u001b[38;5;28;01mFalse\u001b[39;00m)\n",
      "Cell \u001b[0;32mIn[91], line 5\u001b[0m, in \u001b[0;36m<lambda>\u001b[0;34m(x)\u001b[0m\n\u001b[1;32m      3\u001b[0m sessions \u001b[38;5;241m=\u001b[39m pd\u001b[38;5;241m.\u001b[39mread_pickle(SESSIONS_PATH)\n\u001b[1;32m      4\u001b[0m beh_path \u001b[38;5;241m=\u001b[39m SESS_BEHAVIOR_PATH\n\u001b[0;32m----> 5\u001b[0m all_beh \u001b[38;5;241m=\u001b[39m pd\u001b[38;5;241m.\u001b[39mconcat(sessions\u001b[38;5;241m.\u001b[39mapply(\u001b[38;5;28;01mlambda\u001b[39;00m x: \u001b[43mget_sess_beh\u001b[49m\u001b[43m(\u001b[49m\u001b[43mx\u001b[49m\u001b[43m,\u001b[49m\u001b[43m \u001b[49m\u001b[43mbeh_path\u001b[49m\u001b[43m)\u001b[49m, axis\u001b[38;5;241m=\u001b[39m\u001b[38;5;241m1\u001b[39m)\u001b[38;5;241m.\u001b[39mvalues)\u001b[38;5;241m.\u001b[39mreset_index()\n",
      "Cell \u001b[0;32mIn[90], line 10\u001b[0m, in \u001b[0;36mget_sess_beh\u001b[0;34m(row, beh_path)\u001b[0m\n\u001b[1;32m      6\u001b[0m beh \u001b[38;5;241m=\u001b[39m pd\u001b[38;5;241m.\u001b[39mread_csv(behavior_path)\n\u001b[1;32m      8\u001b[0m \u001b[38;5;66;03m# # filter trials \u001b[39;00m\n\u001b[1;32m      9\u001b[0m \u001b[38;5;66;03m# beh = behavioral_utils.get_valid_trials(beh)\u001b[39;00m\n\u001b[0;32m---> 10\u001b[0m feature_selections \u001b[38;5;241m=\u001b[39m \u001b[43mbehavioral_utils\u001b[49m\u001b[38;5;241;43m.\u001b[39;49m\u001b[43mget_selection_features\u001b[49m\u001b[43m(\u001b[49m\u001b[43mbeh\u001b[49m\u001b[43m)\u001b[49m\n\u001b[1;32m     11\u001b[0m beh \u001b[38;5;241m=\u001b[39m pd\u001b[38;5;241m.\u001b[39mmerge(beh, feature_selections, on\u001b[38;5;241m=\u001b[39m\u001b[38;5;124m\"\u001b[39m\u001b[38;5;124mTrialNumber\u001b[39m\u001b[38;5;124m\"\u001b[39m, how\u001b[38;5;241m=\u001b[39m\u001b[38;5;124m\"\u001b[39m\u001b[38;5;124minner\u001b[39m\u001b[38;5;124m\"\u001b[39m)\n\u001b[1;32m     13\u001b[0m \u001b[38;5;66;03m# beh = behavioral_utils.get_feature_values_per_session(session, beh)\u001b[39;00m\n\u001b[1;32m     14\u001b[0m \u001b[38;5;66;03m# beh = behavioral_utils.calc_feature_probs(beh)\u001b[39;00m\n\u001b[1;32m     15\u001b[0m \u001b[38;5;66;03m# beh = behavioral_utils.calc_feature_value_entropy(beh)\u001b[39;00m\n\u001b[1;32m     16\u001b[0m \u001b[38;5;66;03m# beh = behavioral_utils.calc_confidence(beh, num_bins=2, quantize_bins=True)\u001b[39;00m\n\u001b[1;32m     17\u001b[0m \u001b[38;5;66;03m# beh[\"ConfidenceLabel\"] = beh.apply(lambda row: f\"High {row.MaxFeat}\" if row.ConfidenceBin == 1 else \"Low\", axis=1)\u001b[39;00m\n",
      "File \u001b[0;32m/src/wcst_decode/utils/behavioral_utils.py:51\u001b[0m, in \u001b[0;36mget_selection_features\u001b[0;34m(behavioral_data)\u001b[0m\n\u001b[1;32m     49\u001b[0m selections \u001b[38;5;241m=\u001b[39m []\n\u001b[1;32m     50\u001b[0m \u001b[38;5;28;01mfor\u001b[39;00m _, row \u001b[38;5;129;01min\u001b[39;00m behavioral_data\u001b[38;5;241m.\u001b[39miterrows():\n\u001b[0;32m---> 51\u001b[0m     item_chosen \u001b[38;5;241m=\u001b[39m \u001b[38;5;28;43mint\u001b[39;49m\u001b[43m(\u001b[49m\u001b[43mrow\u001b[49m\u001b[43m[\u001b[49m\u001b[38;5;124;43m\"\u001b[39;49m\u001b[38;5;124;43mItemChosen\u001b[39;49m\u001b[38;5;124;43m\"\u001b[39;49m\u001b[43m]\u001b[49m\u001b[43m)\u001b[49m\n\u001b[1;32m     52\u001b[0m     color \u001b[38;5;241m=\u001b[39m row[\u001b[38;5;124mf\u001b[39m\u001b[38;5;124m\"\u001b[39m\u001b[38;5;124mItem\u001b[39m\u001b[38;5;132;01m{\u001b[39;00mitem_chosen\u001b[38;5;132;01m}\u001b[39;00m\u001b[38;5;124mColor\u001b[39m\u001b[38;5;124m\"\u001b[39m]\n\u001b[1;32m     53\u001b[0m     shape \u001b[38;5;241m=\u001b[39m row[\u001b[38;5;124mf\u001b[39m\u001b[38;5;124m\"\u001b[39m\u001b[38;5;124mItem\u001b[39m\u001b[38;5;132;01m{\u001b[39;00mitem_chosen\u001b[38;5;132;01m}\u001b[39;00m\u001b[38;5;124mShape\u001b[39m\u001b[38;5;124m\"\u001b[39m]\n",
      "\u001b[0;31mValueError\u001b[0m: cannot convert float NaN to integer"
     ]
    }
   ],
   "source": [
    "# Monkey S\n",
    "SESSIONS_PATH = \"/data/patrick_res/sessions/valid_sessions_rpe.pickle\"\n",
    "sessions = pd.read_pickle(SESSIONS_PATH)\n",
    "beh_path = SESS_BEHAVIOR_PATH\n",
    "all_beh = pd.concat(sessions.apply(lambda x: get_sess_beh(x, beh_path), axis=1).values).reset_index()"
   ]
  },
  {
   "cell_type": "code",
   "execution_count": 79,
   "metadata": {},
   "outputs": [],
   "source": [
    "num_blocks = all_beh.groupby([\"session\", \"CurrentRule\"]).apply(lambda x: len(x.BlockNumber.unique())).reset_index()"
   ]
  },
  {
   "cell_type": "code",
   "execution_count": 80,
   "metadata": {},
   "outputs": [],
   "source": [
    "pairs = []\n",
    "for i in range(12):\n",
    "    for j in range(i + 1, 12):\n",
    "        feat1 = FEATURES[i]\n",
    "        feat2 = FEATURES[j]\n",
    "        sess_1 = num_blocks[(num_blocks.CurrentRule == feat1) & (num_blocks[0] >= 3)].session\n",
    "        sess_2 = num_blocks[(num_blocks.CurrentRule == feat2) & (num_blocks[0] >= 3)].session\n",
    "        joints = sess_1[sess_1.isin(sess_2)].values\n",
    "        pairs.append({\"pair\": [feat1, feat2], \"sessions\": joints, \"num_sessions\": len(joints)})\n",
    "pairs = pd.DataFrame(pairs)"
   ]
  },
  {
   "cell_type": "code",
   "execution_count": 81,
   "metadata": {},
   "outputs": [
    {
     "data": {
      "text/html": [
       "<div>\n",
       "<style scoped>\n",
       "    .dataframe tbody tr th:only-of-type {\n",
       "        vertical-align: middle;\n",
       "    }\n",
       "\n",
       "    .dataframe tbody tr th {\n",
       "        vertical-align: top;\n",
       "    }\n",
       "\n",
       "    .dataframe thead th {\n",
       "        text-align: right;\n",
       "    }\n",
       "</style>\n",
       "<table border=\"1\" class=\"dataframe\">\n",
       "  <thead>\n",
       "    <tr style=\"text-align: right;\">\n",
       "      <th></th>\n",
       "      <th>pair</th>\n",
       "      <th>sessions</th>\n",
       "      <th>num_sessions</th>\n",
       "    </tr>\n",
       "  </thead>\n",
       "  <tbody>\n",
       "    <tr>\n",
       "      <th>40</th>\n",
       "      <td>[CYAN, YELLOW]</td>\n",
       "      <td>[20180705, 20180801, 20180802, 20180912, 20180...</td>\n",
       "      <td>9</td>\n",
       "    </tr>\n",
       "    <tr>\n",
       "      <th>53</th>\n",
       "      <td>[MAGENTA, POLKADOT]</td>\n",
       "      <td>[20180705, 20180802, 20180803, 20180808, 20180...</td>\n",
       "      <td>8</td>\n",
       "    </tr>\n",
       "    <tr>\n",
       "      <th>39</th>\n",
       "      <td>[CYAN, MAGENTA]</td>\n",
       "      <td>[20180705, 20180801, 20180802, 20180803, 20180...</td>\n",
       "      <td>8</td>\n",
       "    </tr>\n",
       "    <tr>\n",
       "      <th>45</th>\n",
       "      <td>[GREEN, MAGENTA]</td>\n",
       "      <td>[20180802, 20180806, 20180808, 20180912, 20180...</td>\n",
       "      <td>8</td>\n",
       "    </tr>\n",
       "    <tr>\n",
       "      <th>46</th>\n",
       "      <td>[GREEN, YELLOW]</td>\n",
       "      <td>[20180802, 20180912, 20180921, 20180924, 20180...</td>\n",
       "      <td>8</td>\n",
       "    </tr>\n",
       "    <tr>\n",
       "      <th>0</th>\n",
       "      <td>[CIRCLE, SQUARE]</td>\n",
       "      <td>[20180709, 20180802, 20180803, 20180806, 20180...</td>\n",
       "      <td>8</td>\n",
       "    </tr>\n",
       "    <tr>\n",
       "      <th>6</th>\n",
       "      <td>[CIRCLE, YELLOW]</td>\n",
       "      <td>[20180802, 20180918, 20180921, 20180924, 20181...</td>\n",
       "      <td>7</td>\n",
       "    </tr>\n",
       "    <tr>\n",
       "      <th>51</th>\n",
       "      <td>[MAGENTA, YELLOW]</td>\n",
       "      <td>[20180705, 20180801, 20180802, 20180912, 20180...</td>\n",
       "      <td>7</td>\n",
       "    </tr>\n",
       "    <tr>\n",
       "      <th>4</th>\n",
       "      <td>[CIRCLE, GREEN]</td>\n",
       "      <td>[20180802, 20180806, 20180808, 20180921, 20180...</td>\n",
       "      <td>7</td>\n",
       "    </tr>\n",
       "    <tr>\n",
       "      <th>54</th>\n",
       "      <td>[MAGENTA, RIPPLE]</td>\n",
       "      <td>[20180705, 20180802, 20180803, 20180912, 20180...</td>\n",
       "      <td>7</td>\n",
       "    </tr>\n",
       "  </tbody>\n",
       "</table>\n",
       "</div>"
      ],
      "text/plain": [
       "                   pair                                           sessions  \\\n",
       "40       [CYAN, YELLOW]  [20180705, 20180801, 20180802, 20180912, 20180...   \n",
       "53  [MAGENTA, POLKADOT]  [20180705, 20180802, 20180803, 20180808, 20180...   \n",
       "39      [CYAN, MAGENTA]  [20180705, 20180801, 20180802, 20180803, 20180...   \n",
       "45     [GREEN, MAGENTA]  [20180802, 20180806, 20180808, 20180912, 20180...   \n",
       "46      [GREEN, YELLOW]  [20180802, 20180912, 20180921, 20180924, 20180...   \n",
       "0      [CIRCLE, SQUARE]  [20180709, 20180802, 20180803, 20180806, 20180...   \n",
       "6      [CIRCLE, YELLOW]  [20180802, 20180918, 20180921, 20180924, 20181...   \n",
       "51    [MAGENTA, YELLOW]  [20180705, 20180801, 20180802, 20180912, 20180...   \n",
       "4       [CIRCLE, GREEN]  [20180802, 20180806, 20180808, 20180921, 20180...   \n",
       "54    [MAGENTA, RIPPLE]  [20180705, 20180802, 20180803, 20180912, 20180...   \n",
       "\n",
       "    num_sessions  \n",
       "40             9  \n",
       "53             8  \n",
       "39             8  \n",
       "45             8  \n",
       "46             8  \n",
       "0              8  \n",
       "6              7  \n",
       "51             7  \n",
       "4              7  \n",
       "54             7  "
      ]
     },
     "execution_count": 81,
     "metadata": {},
     "output_type": "execute_result"
    }
   ],
   "source": [
    "pairs.sort_values(by=\"num_sessions\", ascending=False)[:10]"
   ]
  },
  {
   "cell_type": "code",
   "execution_count": 82,
   "metadata": {},
   "outputs": [],
   "source": [
    "good_pairs = pairs[pairs.num_sessions >= 7]"
   ]
  },
  {
   "cell_type": "code",
   "execution_count": 85,
   "metadata": {},
   "outputs": [
    {
     "data": {
      "text/plain": [
       "18"
      ]
     },
     "execution_count": 85,
     "metadata": {},
     "output_type": "execute_result"
    }
   ],
   "source": [
    "len(good_pairs)"
   ]
  },
  {
   "cell_type": "code",
   "execution_count": 87,
   "metadata": {},
   "outputs": [],
   "source": [
    "good_pairs.to_pickle(\"/data/patrick_res/sessions/pairs_at_least_3blocks_10sess_fixed.pickle\")"
   ]
  },
  {
   "cell_type": "markdown",
   "metadata": {},
   "source": [
    "### For each session, for each pair, what are the min number of trials that match: \n",
    "- high preferred features\n",
    "- high conf trials where features are chosen but not preferred. "
   ]
  },
  {
   "cell_type": "code",
   "execution_count": 74,
   "metadata": {},
   "outputs": [],
   "source": [
    "def min_trials_per_session(row):\n",
    "    feat1, feat2 = row.pair\n",
    "    res = []\n",
    "    for sess in row.sessions:\n",
    "        beh = all_beh[all_beh.session == sess]\n",
    "\n",
    "        # find minimum number of trials, when either features are preferred\n",
    "        pref_beh = beh[beh.ConfidenceLabel.isin([f\"High {feat1}\", f\"High {feat2}\"])]\n",
    "        min_pref = np.min(pref_beh.groupby(\"ConfidenceLabel\").count().TrialNumber)\n",
    "\n",
    "        # find minimum number of trials, when high confidence, \n",
    "        # either features are not preferred, but still chosen, \n",
    "        not_pref_beh = beh[\n",
    "            (~beh.ConfidenceLabel.isin([f\"High {feat1}\", f\"High {feat2}\"])) & \n",
    "            (beh.ConfidenceLabel != \"Low\")\n",
    "        ]\n",
    "        chose_feat_1 = not_pref_beh[not_pref_beh[FEATURE_TO_DIM[feat1]] == feat1].TrialNumber\n",
    "        chose_feat_2 = not_pref_beh[not_pref_beh[FEATURE_TO_DIM[feat2]] == feat2].TrialNumber\n",
    "        min_not_pref = np.min((len(chose_feat_1), len(chose_feat_2)))\n",
    "\n",
    "        res.append({\"pair\": row.pair, \"session\": sess, \"min_pref\": min_pref, \"min_not_pref\": min_not_pref})\n",
    "    return pd.DataFrame(res)\n",
    "        \n",
    "min_trials = pd.concat(good_pairs.apply(min_trials_per_session, axis=1).values)\n",
    "\n"
   ]
  },
  {
   "cell_type": "code",
   "execution_count": 34,
   "metadata": {},
   "outputs": [],
   "source": [
    "min_trials[\"pref more than not pref\"] = min_trials[\"min_pref\"] > min_trials[\"min_not_pref\"]"
   ]
  },
  {
   "cell_type": "code",
   "execution_count": 75,
   "metadata": {},
   "outputs": [
    {
     "data": {
      "text/html": [
       "<div>\n",
       "<style scoped>\n",
       "    .dataframe tbody tr th:only-of-type {\n",
       "        vertical-align: middle;\n",
       "    }\n",
       "\n",
       "    .dataframe tbody tr th {\n",
       "        vertical-align: top;\n",
       "    }\n",
       "\n",
       "    .dataframe thead th {\n",
       "        text-align: right;\n",
       "    }\n",
       "</style>\n",
       "<table border=\"1\" class=\"dataframe\">\n",
       "  <thead>\n",
       "    <tr style=\"text-align: right;\">\n",
       "      <th></th>\n",
       "      <th>pair</th>\n",
       "      <th>session</th>\n",
       "      <th>min_pref</th>\n",
       "      <th>min_not_pref</th>\n",
       "    </tr>\n",
       "  </thead>\n",
       "  <tbody>\n",
       "    <tr>\n",
       "      <th>0</th>\n",
       "      <td>[CIRCLE, SQUARE]</td>\n",
       "      <td>20180709</td>\n",
       "      <td>57</td>\n",
       "      <td>60</td>\n",
       "    </tr>\n",
       "    <tr>\n",
       "      <th>1</th>\n",
       "      <td>[CIRCLE, SQUARE]</td>\n",
       "      <td>20180802</td>\n",
       "      <td>75</td>\n",
       "      <td>119</td>\n",
       "    </tr>\n",
       "    <tr>\n",
       "      <th>2</th>\n",
       "      <td>[CIRCLE, SQUARE]</td>\n",
       "      <td>20180803</td>\n",
       "      <td>41</td>\n",
       "      <td>110</td>\n",
       "    </tr>\n",
       "    <tr>\n",
       "      <th>3</th>\n",
       "      <td>[CIRCLE, SQUARE]</td>\n",
       "      <td>20180806</td>\n",
       "      <td>74</td>\n",
       "      <td>76</td>\n",
       "    </tr>\n",
       "    <tr>\n",
       "      <th>4</th>\n",
       "      <td>[CIRCLE, SQUARE]</td>\n",
       "      <td>20180808</td>\n",
       "      <td>43</td>\n",
       "      <td>89</td>\n",
       "    </tr>\n",
       "    <tr>\n",
       "      <th>...</th>\n",
       "      <td>...</td>\n",
       "      <td>...</td>\n",
       "      <td>...</td>\n",
       "      <td>...</td>\n",
       "    </tr>\n",
       "    <tr>\n",
       "      <th>2</th>\n",
       "      <td>[YELLOW, RIPPLE]</td>\n",
       "      <td>20180912</td>\n",
       "      <td>87</td>\n",
       "      <td>66</td>\n",
       "    </tr>\n",
       "    <tr>\n",
       "      <th>3</th>\n",
       "      <td>[YELLOW, RIPPLE]</td>\n",
       "      <td>20180921</td>\n",
       "      <td>52</td>\n",
       "      <td>51</td>\n",
       "    </tr>\n",
       "    <tr>\n",
       "      <th>4</th>\n",
       "      <td>[YELLOW, RIPPLE]</td>\n",
       "      <td>20181005</td>\n",
       "      <td>49</td>\n",
       "      <td>91</td>\n",
       "    </tr>\n",
       "    <tr>\n",
       "      <th>5</th>\n",
       "      <td>[YELLOW, RIPPLE]</td>\n",
       "      <td>20181009</td>\n",
       "      <td>53</td>\n",
       "      <td>64</td>\n",
       "    </tr>\n",
       "    <tr>\n",
       "      <th>6</th>\n",
       "      <td>[YELLOW, RIPPLE]</td>\n",
       "      <td>20181010</td>\n",
       "      <td>48</td>\n",
       "      <td>38</td>\n",
       "    </tr>\n",
       "  </tbody>\n",
       "</table>\n",
       "<p>133 rows × 4 columns</p>\n",
       "</div>"
      ],
      "text/plain": [
       "                pair   session  min_pref  min_not_pref\n",
       "0   [CIRCLE, SQUARE]  20180709        57            60\n",
       "1   [CIRCLE, SQUARE]  20180802        75           119\n",
       "2   [CIRCLE, SQUARE]  20180803        41           110\n",
       "3   [CIRCLE, SQUARE]  20180806        74            76\n",
       "4   [CIRCLE, SQUARE]  20180808        43            89\n",
       "..               ...       ...       ...           ...\n",
       "2   [YELLOW, RIPPLE]  20180912        87            66\n",
       "3   [YELLOW, RIPPLE]  20180921        52            51\n",
       "4   [YELLOW, RIPPLE]  20181005        49            91\n",
       "5   [YELLOW, RIPPLE]  20181009        53            64\n",
       "6   [YELLOW, RIPPLE]  20181010        48            38\n",
       "\n",
       "[133 rows x 4 columns]"
      ]
     },
     "execution_count": 75,
     "metadata": {},
     "output_type": "execute_result"
    }
   ],
   "source": [
    "min_trials"
   ]
  },
  {
   "cell_type": "code",
   "execution_count": null,
   "metadata": {},
   "outputs": [],
   "source": []
  }
 ],
 "metadata": {
  "kernelspec": {
   "display_name": "Python 3",
   "language": "python",
   "name": "python3"
  },
  "language_info": {
   "codemirror_mode": {
    "name": "ipython",
    "version": 3
   },
   "file_extension": ".py",
   "mimetype": "text/x-python",
   "name": "python",
   "nbconvert_exporter": "python",
   "pygments_lexer": "ipython3",
   "version": "3.10.6"
  }
 },
 "nbformat": 4,
 "nbformat_minor": 2
}
