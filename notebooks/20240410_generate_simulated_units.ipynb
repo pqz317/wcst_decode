{
 "cells": [
  {
   "cell_type": "markdown",
   "metadata": {},
   "source": [
    "### From ground truth behavior, values, and RPEs, generate simulated units\n",
    "- For each unit, sample betas for features, rpes, combined features rpes, and values\n",
    "- Sample from a uniform (or can try Gaussian?) distribution between [-1, 1]\n",
    "- Generate population of N units\n",
    "- For each trial, inject certain amount of Gaussian noise to each unit \n",
    "- Do regression 3 different ways: \n",
    "    - Directly regress everything at once\n",
    "    - Regress out everything else, regress residuals on values\n",
    "    - Use trial by trial differences, regress against Feature-RPE\n",
    "- Test whether value estimates in regression match true value: How well do axes of true beta align with inferred betas?\n",
    "    - Cosine similarity\n",
    "    - Correlation\n",
    "    \n",
    "\n"
   ]
  },
  {
   "cell_type": "code",
   "execution_count": null,
   "metadata": {
    "vscode": {
     "languageId": "plaintext"
    }
   },
   "outputs": [],
   "source": []
  },
  {
   "cell_type": "code",
   "execution_count": null,
   "metadata": {
    "vscode": {
     "languageId": "plaintext"
    }
   },
   "outputs": [],
   "source": []
  },
  {
   "cell_type": "code",
   "execution_count": null,
   "metadata": {
    "vscode": {
     "languageId": "plaintext"
    }
   },
   "outputs": [],
   "source": []
  },
  {
   "cell_type": "markdown",
   "metadata": {},
   "source": []
  }
 ],
 "metadata": {
  "language_info": {
   "name": "python"
  }
 },
 "nbformat": 4,
 "nbformat_minor": 2
}
