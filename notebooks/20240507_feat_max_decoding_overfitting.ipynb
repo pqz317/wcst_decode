{
 "cells": [
  {
   "cell_type": "markdown",
   "metadata": {},
   "source": [
    "### Want to investigate overfitting for feat max decoding (especially with z-scored frs), see if regularization helps\n",
    "Currently: after zscore frs by block, see test accuracy drop, but train acc stays up. want to see the train/valid acc as func of training iteration"
   ]
  },
  {
   "cell_type": "code",
   "execution_count": 1,
   "metadata": {},
   "outputs": [],
   "source": [
    "%load_ext autoreload\n",
    "%autoreload 2\n",
    "\n",
    "import os\n",
    "import numpy as np\n",
    "import pandas as pd\n",
    "import utils.behavioral_utils as behavioral_utils\n",
    "import utils.information_utils as information_utils\n",
    "import utils.visualization_utils as visualization_utils\n",
    "import utils.pseudo_classifier_utils as pseudo_classifier_utils\n",
    "import utils.io_utils as io_utils\n",
    "\n",
    "import utils.glm_utils as glm_utils\n",
    "from matplotlib import pyplot as plt\n",
    "import utils.spike_utils as spike_utils\n",
    "import utils.subspace_utils as subspace_utils\n",
    "from trial_splitters.condition_trial_splitter import ConditionTrialSplitter \n",
    "from utils.session_data import SessionData\n",
    "from constants.behavioral_constants import *\n",
    "from constants.decoding_constants import *\n",
    "\n",
    "from models.trainer import Trainer\n",
    "from models.model_wrapper import ModelWrapper, ModelWrapperLinearRegression\n",
    "from models.multinomial_logistic_regressor import NormedDropoutMultinomialLogisticRegressor\n",
    "from trial_splitters.condition_trial_splitter import ConditionTrialSplitter \n",
    "\n",
    "\n",
    "import scipy\n"
   ]
  },
  {
   "cell_type": "code",
   "execution_count": 2,
   "metadata": {},
   "outputs": [],
   "source": [
    "PRE_INTERVAL = 500\n",
    "POST_INTERVAL = 500\n",
    "INTERVAL_SIZE = 50\n",
    "SMOOTH = 1\n",
    "EVENT = \"CrossFixation\"\n",
    "OUTPUT_DIR = \"/data/patrick_res/hyak/pseudo\"\n",
    "# path to a dataframe of sessions to analyze\n",
    "SESSIONS_PATH = \"/data/patrick_res/sessions/valid_sessions_rpe.pickle\"\n",
    "\n",
    "num_shuffles = 8"
   ]
  },
  {
   "cell_type": "code",
   "execution_count": 3,
   "metadata": {},
   "outputs": [],
   "source": [
    "sess_datas = pd.read_pickle(os.path.join(OUTPUT_DIR, \"intertrial_agg_max_feat_block_zscore_sess_datas.pickle\"))"
   ]
  },
  {
   "cell_type": "code",
   "execution_count": 8,
   "metadata": {},
   "outputs": [
    {
     "name": "stdout",
     "output_type": "stream",
     "text": [
      "Fitting model\n",
      "cpu\n"
     ]
    }
   ],
   "source": [
    "time_bin = 0\n",
    "pseudo_sess = pd.concat(sess_datas.apply(\n",
    "    lambda x: x.generate_pseudo_data(500, 100, time_bin)\n",
    ").values, ignore_index=True)\n",
    "\n",
    "train_data = pseudo_sess[pseudo_sess.Type == \"Train\"]\n",
    "test_data = pseudo_sess[pseudo_sess.Type == \"Test\"]\n",
    "\n",
    "x_train = pseudo_classifier_utils.transform_input_data(train_data)\n",
    "y_train = pseudo_classifier_utils.transform_label_data(train_data)\n",
    "\n",
    "x_test = pseudo_classifier_utils.transform_input_data(test_data)\n",
    "y_test = pseudo_classifier_utils.transform_label_data(test_data)\n",
    "\n",
    "print(\"Fitting model\")\n",
    "num_neurons = sess_datas.apply(lambda x: x.get_num_neurons()).sum()\n",
    "init_params = {\"n_inputs\": num_neurons, \"p_dropout\": P_DROPOUT, \"n_classes\": 12}\n",
    "# create a trainer object\n",
    "trainer = Trainer(learning_rate=LEARNING_RATE, max_iter=MAX_ITER, weight_decay=0.1)\n",
    "# create a wrapper for the decoder\n",
    "model = ModelWrapper(NormedDropoutMultinomialLogisticRegressor, init_params, trainer, FEATURES)\n",
    "log_dict = model.fit_with_valid(x_train, y_train, x_test, y_test)"
   ]
  },
  {
   "cell_type": "code",
   "execution_count": 9,
   "metadata": {},
   "outputs": [
    {
     "data": {
      "text/plain": [
       "Text(0, 0.5, 'Loss')"
      ]
     },
     "execution_count": 9,
     "metadata": {},
     "output_type": "execute_result"
    },
    {
     "data": {
      "image/png": "[encoded data removed]",
      "text/plain": [
       "<Figure size 640x480 with 1 Axes>"
      ]
     },
     "metadata": {},
     "output_type": "display_data"
    }
   ],
   "source": [
    "fig, ax = plt.subplots()\n",
    "ax.plot(log_dict[\"train_losses\"], label=\"Train\")\n",
    "ax.plot(log_dict[\"valid_losses\"], label=\"Valid\")\n",
    "ax.legend()\n",
    "ax.set_xlabel(\"Epochs\")\n",
    "ax.set_ylabel(\"Loss\")"
   ]
  },
  {
   "cell_type": "markdown",
   "metadata": {},
   "source": [
    "### Scratch"
   ]
  },
  {
   "cell_type": "code",
   "execution_count": 5,
   "metadata": {},
   "outputs": [
    {
     "name": "stderr",
     "output_type": "stream",
     "text": [
      "/src/wcst_decode/utils/spike_utils.py:281: FutureWarning: Not prepending group keys to the result index of transform-like apply. In the future, the group keys will be included in the index, regardless of whether the applied function returns a like-indexed object.\n",
      "To preserve the previous behavior, use\n",
      "\n",
      "\t>>> .groupby(..., group_keys=False)\n",
      "\n",
      "To adopt the future behavior and silence this warning, use \n",
      "\n",
      "\t>>> .groupby(..., group_keys=True)\n",
      "  return frs.groupby(group_cols).apply(zscore_unit).reset_index(drop=True)\n"
     ]
    }
   ],
   "source": [
    "import utils.io_utils as io_utils\n",
    "\n",
    "sess_name = 20180802\n",
    "SESS_SPIKES_PATH = \"/data/patrick_res/firing_rates/{sess_name}_firing_rates_{pre_interval}_{event}_{post_interval}_{interval_size}_bins_{num_bins_smooth}_smooth.pickle\"\n",
    "spikes_path = SESS_SPIKES_PATH\n",
    "\n",
    "beh, frs = io_utils.load_rpe_sess_beh_and_frs(\n",
    "    sess_name, \n",
    "    beh_path=SESS_BEHAVIOR_PATH, \n",
    "    fr_path=spikes_path, \n",
    "    set_indices=False,\n",
    ")\n",
    "# get the values\n",
    "beh = behavioral_utils.get_feature_values_per_session(sess_name, beh)\n",
    "\n",
    "agg = frs.groupby([\"UnitID\", \"TrialNumber\"]).mean().reset_index()\n",
    "# hacky, but just pretend there's one timebin. \n",
    "agg[\"TimeBins\"] = 0\n",
    "MODE = \"FiringRate\"\n",
    "# get behavior col, BlockNumber\n",
    "agg = pd.merge(beh[[\"TrialNumber\", \"BlockNumber\"]], agg, on=\"TrialNumber\")\n",
    "agg = spike_utils.zscore_frs(agg, group_cols=[\"UnitID\", \"BlockNumber\"], mode=MODE)\n",
    "mode = f\"Z{MODE}\"\n",
    "beh = beh.set_index([\"TrialNumber\"])\n",
    "agg = agg.set_index([\"TrialNumber\"])"
   ]
  },
  {
   "cell_type": "code",
   "execution_count": 6,
   "metadata": {},
   "outputs": [
    {
     "data": {
      "text/html": [
       "<div>\n",
       "<style scoped>\n",
       "    .dataframe tbody tr th:only-of-type {\n",
       "        vertical-align: middle;\n",
       "    }\n",
       "\n",
       "    .dataframe tbody tr th {\n",
       "        vertical-align: top;\n",
       "    }\n",
       "\n",
       "    .dataframe thead th {\n",
       "        text-align: right;\n",
       "    }\n",
       "</style>\n",
       "<table border=\"1\" class=\"dataframe\">\n",
       "  <thead>\n",
       "    <tr style=\"text-align: right;\">\n",
       "      <th></th>\n",
       "      <th>BlockNumber</th>\n",
       "      <th>UnitID</th>\n",
       "      <th>TimeBins</th>\n",
       "      <th>SpikeCounts</th>\n",
       "      <th>FiringRate</th>\n",
       "      <th>ZFiringRate</th>\n",
       "    </tr>\n",
       "    <tr>\n",
       "      <th>TrialNumber</th>\n",
       "      <th></th>\n",
       "      <th></th>\n",
       "      <th></th>\n",
       "      <th></th>\n",
       "      <th></th>\n",
       "      <th></th>\n",
       "    </tr>\n",
       "  </thead>\n",
       "  <tbody>\n",
       "    <tr>\n",
       "      <th>35</th>\n",
       "      <td>2</td>\n",
       "      <td>0</td>\n",
       "      <td>0</td>\n",
       "      <td>0.55</td>\n",
       "      <td>11.0</td>\n",
       "      <td>0.214744</td>\n",
       "    </tr>\n",
       "    <tr>\n",
       "      <th>35</th>\n",
       "      <td>2</td>\n",
       "      <td>1</td>\n",
       "      <td>0</td>\n",
       "      <td>0.05</td>\n",
       "      <td>1.0</td>\n",
       "      <td>-1.311499</td>\n",
       "    </tr>\n",
       "    <tr>\n",
       "      <th>35</th>\n",
       "      <td>2</td>\n",
       "      <td>2</td>\n",
       "      <td>0</td>\n",
       "      <td>0.35</td>\n",
       "      <td>7.0</td>\n",
       "      <td>0.990221</td>\n",
       "    </tr>\n",
       "    <tr>\n",
       "      <th>35</th>\n",
       "      <td>2</td>\n",
       "      <td>3</td>\n",
       "      <td>0</td>\n",
       "      <td>0.45</td>\n",
       "      <td>9.0</td>\n",
       "      <td>1.103355</td>\n",
       "    </tr>\n",
       "    <tr>\n",
       "      <th>35</th>\n",
       "      <td>2</td>\n",
       "      <td>4</td>\n",
       "      <td>0</td>\n",
       "      <td>0.65</td>\n",
       "      <td>13.0</td>\n",
       "      <td>0.678177</td>\n",
       "    </tr>\n",
       "    <tr>\n",
       "      <th>...</th>\n",
       "      <td>...</td>\n",
       "      <td>...</td>\n",
       "      <td>...</td>\n",
       "      <td>...</td>\n",
       "      <td>...</td>\n",
       "      <td>...</td>\n",
       "    </tr>\n",
       "    <tr>\n",
       "      <th>1742</th>\n",
       "      <td>54</td>\n",
       "      <td>41</td>\n",
       "      <td>0</td>\n",
       "      <td>0.00</td>\n",
       "      <td>0.0</td>\n",
       "      <td>-0.812508</td>\n",
       "    </tr>\n",
       "    <tr>\n",
       "      <th>1742</th>\n",
       "      <td>54</td>\n",
       "      <td>42</td>\n",
       "      <td>0</td>\n",
       "      <td>0.00</td>\n",
       "      <td>0.0</td>\n",
       "      <td>-0.239143</td>\n",
       "    </tr>\n",
       "    <tr>\n",
       "      <th>1742</th>\n",
       "      <td>54</td>\n",
       "      <td>43</td>\n",
       "      <td>0</td>\n",
       "      <td>0.10</td>\n",
       "      <td>2.0</td>\n",
       "      <td>-0.479729</td>\n",
       "    </tr>\n",
       "    <tr>\n",
       "      <th>1742</th>\n",
       "      <td>54</td>\n",
       "      <td>44</td>\n",
       "      <td>0</td>\n",
       "      <td>0.00</td>\n",
       "      <td>0.0</td>\n",
       "      <td>-0.211830</td>\n",
       "    </tr>\n",
       "    <tr>\n",
       "      <th>1742</th>\n",
       "      <td>54</td>\n",
       "      <td>45</td>\n",
       "      <td>0</td>\n",
       "      <td>0.00</td>\n",
       "      <td>0.0</td>\n",
       "      <td>-0.440959</td>\n",
       "    </tr>\n",
       "  </tbody>\n",
       "</table>\n",
       "<p>78522 rows × 6 columns</p>\n",
       "</div>"
      ],
      "text/plain": [
       "             BlockNumber  UnitID  TimeBins  SpikeCounts  FiringRate  \\\n",
       "TrialNumber                                                           \n",
       "35                     2       0         0         0.55        11.0   \n",
       "35                     2       1         0         0.05         1.0   \n",
       "35                     2       2         0         0.35         7.0   \n",
       "35                     2       3         0         0.45         9.0   \n",
       "35                     2       4         0         0.65        13.0   \n",
       "...                  ...     ...       ...          ...         ...   \n",
       "1742                  54      41         0         0.00         0.0   \n",
       "1742                  54      42         0         0.00         0.0   \n",
       "1742                  54      43         0         0.10         2.0   \n",
       "1742                  54      44         0         0.00         0.0   \n",
       "1742                  54      45         0         0.00         0.0   \n",
       "\n",
       "             ZFiringRate  \n",
       "TrialNumber               \n",
       "35              0.214744  \n",
       "35             -1.311499  \n",
       "35              0.990221  \n",
       "35              1.103355  \n",
       "35              0.678177  \n",
       "...                  ...  \n",
       "1742           -0.812508  \n",
       "1742           -0.239143  \n",
       "1742           -0.479729  \n",
       "1742           -0.211830  \n",
       "1742           -0.440959  \n",
       "\n",
       "[78522 rows x 6 columns]"
      ]
     },
     "execution_count": 6,
     "metadata": {},
     "output_type": "execute_result"
    }
   ],
   "source": [
    "agg"
   ]
  },
  {
   "cell_type": "markdown",
   "metadata": {},
   "source": []
  }
 ],
 "metadata": {
  "kernelspec": {
   "display_name": "Python 3",
   "language": "python",
   "name": "python3"
  },
  "language_info": {
   "codemirror_mode": {
    "name": "ipython",
    "version": 3
   },
   "file_extension": ".py",
   "mimetype": "text/x-python",
   "name": "python",
   "nbconvert_exporter": "python",
   "pygments_lexer": "ipython3",
   "version": "3.10.6"
  }
 },
 "nbformat": 4,
 "nbformat_minor": 2
}
