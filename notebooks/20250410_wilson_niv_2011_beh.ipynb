{
 "cells": [
  {
   "cell_type": "markdown",
   "metadata": {},
   "source": [
    "### Do a analysis akin to Fig 6 of Wilson Niv 2011\n",
    "https://www.notion.so/walkerlab/Belief-state-vs-Hypothesis-testing-1cf2dc9f99928054862cf713d7d3d1f2"
   ]
  },
  {
   "cell_type": "code",
   "execution_count": 73,
   "metadata": {},
   "outputs": [
    {
     "name": "stdout",
     "output_type": "stream",
     "text": [
      "The autoreload extension is already loaded. To reload it, use:\n",
      "  %reload_ext autoreload\n"
     ]
    }
   ],
   "source": [
    "%load_ext autoreload\n",
    "%autoreload 2\n",
    "\n",
    "import os\n",
    "import numpy as np\n",
    "import pandas as pd\n",
    "import utils.behavioral_utils as behavioral_utils\n",
    "import utils.information_utils as information_utils\n",
    "import utils.visualization_utils as visualization_utils\n",
    "import utils.pseudo_classifier_utils as pseudo_classifier_utils\n",
    "import utils.classifier_utils as classifier_utils\n",
    "\n",
    "import utils.io_utils as io_utils\n",
    "\n",
    "import utils.glm_utils as glm_utils\n",
    "from matplotlib import pyplot as plt\n",
    "import matplotlib\n",
    "import utils.spike_utils as spike_utils\n",
    "import utils.subspace_utils as subspace_utils\n",
    "from trial_splitters.condition_trial_splitter import ConditionTrialSplitter \n",
    "from utils.session_data import SessionData\n",
    "from constants.behavioral_constants import *\n",
    "from constants.decoding_constants import *\n",
    "import seaborn as sns\n",
    "from scripts.anova_analysis.anova_configs import *\n",
    "from scripts.anova_analysis.run_anova import load_data\n",
    "import scipy\n",
    "import argparse\n",
    "import copy\n",
    "from spike_tools import (\n",
    "    general as spike_general,\n",
    "    analysis as spike_analysis,\n",
    ")\n",
    "import itertools\n",
    "from tqdm import tqdm"
   ]
  },
  {
   "cell_type": "code",
   "execution_count": 74,
   "metadata": {},
   "outputs": [],
   "source": [
    "subject = \"BL\"\n",
    "sessions_path = f\"/data/patrick_res/sessions/{subject}/valid_sessions.pickle\"\n",
    "valid_sess = pd.read_pickle(sessions_path)\n"
   ]
  },
  {
   "cell_type": "code",
   "execution_count": 75,
   "metadata": {},
   "outputs": [],
   "source": [
    "def past_two_matching_feat(row):\n",
    "    for dim in FEATURE_DIMS:\n",
    "        if row[f\"Prev{dim}\"] == row[f\"PrevPrev{dim}\"]:\n",
    "            return row[f\"Prev{dim}\"] \n",
    "    return None\n",
    "\n",
    "def count_unattended_shared(row):\n",
    "    num = 0\n",
    "    for dim in FEATURE_DIMS:\n",
    "        if row[dim] == row[f\"Prev{dim}\"] and row[dim] != row.PastTwoMatchingFeat:\n",
    "            num += 1\n",
    "    return num\n",
    "\n",
    "def compute_prob(group):\n",
    "    num_trials = len(group)\n",
    "    df = []\n",
    "    for num_unattended in range(3):\n",
    "        ratio = len(group[group.NumUnattendedShared == num_unattended]) / num_trials\n",
    "        df.append({\"num_shared\": num_unattended, \"prob\": ratio})\n",
    "    return pd.DataFrame(df)\n",
    "\n",
    "def load_and_label_beh(subject, session):\n",
    "    beh = behavioral_utils.get_valid_belief_beh_for_sub_sess(subject, session)\n",
    "    beh[\"PrevPrevResponse\"] = beh.PrevResponse.shift()\n",
    "    for dim in FEATURE_DIMS:\n",
    "        beh[f\"PrevPrev{dim}\"] = beh[f\"Prev{dim}\"].shift()\n",
    "    beh = beh[~beh.PrevPrevResponse.isna()]\n",
    "    beh[\"PastTwoResponse\"] = beh[\"PrevResponse\"] + beh[\"PrevPrevResponse\"]\n",
    "    beh[\"PastTwoMatchingFeat\"] = beh.apply(past_two_matching_feat, axis=1)\n",
    "    beh[\"NumUnattendedShared\"] = beh.apply(count_unattended_shared, axis=1)\n",
    "    beh[\"session\"] = session\n",
    "    return beh\n",
    "\n",
    "def process_beh(beh):\n",
    "    beh = beh[(beh.PastTwoResponse == \"CorrectCorrect\") | (beh.PastTwoResponse == \"IncorrectIncorrect\")]\n",
    "    beh = beh[~beh.PastTwoMatchingFeat.isna()]\n",
    "    data = beh.groupby(\"PastTwoResponse\").apply(compute_prob).reset_index()\n",
    "    return data"
   ]
  },
  {
   "cell_type": "code",
   "execution_count": 76,
   "metadata": {},
   "outputs": [],
   "source": [
    "all_beh = pd.concat(valid_sess.apply(lambda x: load_and_label_beh(subject, x.session_name), axis=1).values)\n"
   ]
  },
  {
   "cell_type": "code",
   "execution_count": 77,
   "metadata": {},
   "outputs": [],
   "source": [
    "data = all_beh.groupby(\"session\", as_index=False).apply(process_beh)\n"
   ]
  },
  {
   "cell_type": "code",
   "execution_count": 78,
   "metadata": {},
   "outputs": [
    {
     "data": {
      "text/plain": [
       "Text(0.5, 1.0, 'BL')"
      ]
     },
     "execution_count": 78,
     "metadata": {},
     "output_type": "execute_result"
    },
    {
     "data": {
      "image/png": "[encoded data removed]",
      "text/plain": [
       "<Figure size 640x480 with 1 Axes>"
      ]
     },
     "metadata": {},
     "output_type": "display_data"
    }
   ],
   "source": [
    "fig, ax = plt.subplots()\n",
    "sns.barplot(data, x=\"num_shared\", y=\"prob\", hue=\"PastTwoResponse\", ax=ax)\n",
    "ax.set_title(subject)"
   ]
  },
  {
   "cell_type": "code",
   "execution_count": null,
   "metadata": {},
   "outputs": [],
   "source": []
  }
 ],
 "metadata": {
  "kernelspec": {
   "display_name": "Python 3",
   "language": "python",
   "name": "python3"
  },
  "language_info": {
   "codemirror_mode": {
    "name": "ipython",
    "version": 3
   },
   "file_extension": ".py",
   "mimetype": "text/x-python",
   "name": "python",
   "nbconvert_exporter": "python",
   "pygments_lexer": "ipython3",
   "version": "3.10.6"
  }
 },
 "nbformat": 4,
 "nbformat_minor": 2
}
